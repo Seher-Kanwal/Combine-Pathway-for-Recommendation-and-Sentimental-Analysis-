{
 "cells": [
  {
   "cell_type": "code",
   "execution_count": 1,
   "id": "209e16c5",
   "metadata": {},
   "outputs": [],
   "source": [
    "import pandas as pd\n",
    "import requests\n",
    "from bs4 import BeautifulSoup"
   ]
  },
  {
   "cell_type": "code",
   "execution_count": 2,
   "id": "9c67343b",
   "metadata": {},
   "outputs": [
    {
     "data": {
      "text/html": [
       "<div>\n",
       "<style scoped>\n",
       "    .dataframe tbody tr th:only-of-type {\n",
       "        vertical-align: middle;\n",
       "    }\n",
       "\n",
       "    .dataframe tbody tr th {\n",
       "        vertical-align: top;\n",
       "    }\n",
       "\n",
       "    .dataframe thead th {\n",
       "        text-align: right;\n",
       "    }\n",
       "</style>\n",
       "<table border=\"1\" class=\"dataframe\">\n",
       "  <thead>\n",
       "    <tr style=\"text-align: right;\">\n",
       "      <th></th>\n",
       "      <th>Unnamed: 0</th>\n",
       "      <th>Category</th>\n",
       "      <th>name</th>\n",
       "      <th>destinations</th>\n",
       "      <th>age_group</th>\n",
       "      <th>tour_type_des</th>\n",
       "      <th>Vendors</th>\n",
       "      <th>Duration</th>\n",
       "      <th>price</th>\n",
       "      <th>Destination_link</th>\n",
       "    </tr>\n",
       "  </thead>\n",
       "  <tbody>\n",
       "    <tr>\n",
       "      <th>0</th>\n",
       "      <td>0</td>\n",
       "      <td>In-depth Cultural</td>\n",
       "      <td>Essential India</td>\n",
       "      <td>New Delhi, Jaipur, Fatehpur Sikri, Agra</td>\n",
       "      <td>18 to 50</td>\n",
       "      <td>Group, Fully Guided, Explorer, Coach / Bus+2 more</td>\n",
       "      <td>Travel Talk</td>\n",
       "      <td>8 days</td>\n",
       "      <td>754</td>\n",
       "      <td>9376</td>\n",
       "    </tr>\n",
       "    <tr>\n",
       "      <th>1</th>\n",
       "      <td>1</td>\n",
       "      <td>In-depth Cultural</td>\n",
       "      <td>Golden Triangle</td>\n",
       "      <td>New Delhi, Agra, Bharatpur, Jaipur</td>\n",
       "      <td>12 to 90</td>\n",
       "      <td>Family, Group, Fully Guided, Christmas &amp; New Y...</td>\n",
       "      <td>G Adventures</td>\n",
       "      <td>8 days</td>\n",
       "      <td>679</td>\n",
       "      <td>5505</td>\n",
       "    </tr>\n",
       "    <tr>\n",
       "      <th>2</th>\n",
       "      <td>2</td>\n",
       "      <td>Active Adventure</td>\n",
       "      <td>Taj Mahal and Wildlife with Royal Stay at Castles</td>\n",
       "      <td>New Delhi, Jaipur, Jodhpur, Luni, Sardargarh,...</td>\n",
       "      <td>18 to 85</td>\n",
       "      <td>Safari, Wildlife, Private, Group, Fully Guided...</td>\n",
       "      <td>Swastik India Journeys</td>\n",
       "      <td>11 days</td>\n",
       "      <td>710</td>\n",
       "      <td>91447</td>\n",
       "    </tr>\n",
       "    <tr>\n",
       "      <th>3</th>\n",
       "      <td>3</td>\n",
       "      <td>Explorer</td>\n",
       "      <td>India's Top Selling Golden Triangle India Tour...</td>\n",
       "      <td>New Delhi, Agra, Taj Mahal, Jaipur</td>\n",
       "      <td>5 to 99</td>\n",
       "      <td>Family, Private, Partially Guided, Historical,...</td>\n",
       "      <td>Swastik India Journeys</td>\n",
       "      <td>5 days</td>\n",
       "      <td>205</td>\n",
       "      <td>88881</td>\n",
       "    </tr>\n",
       "    <tr>\n",
       "      <th>4</th>\n",
       "      <td>4</td>\n",
       "      <td>In-depth Cultural</td>\n",
       "      <td>India's Bestseller - 5 Day Golden Triangle - D...</td>\n",
       "      <td>New Delhi, Agra, Jaipur</td>\n",
       "      <td>15 to 80</td>\n",
       "      <td>Family, Private, Group, Fully Guided, Explorer...</td>\n",
       "      <td>K K Holidays N Vacations</td>\n",
       "      <td>5 days</td>\n",
       "      <td>419</td>\n",
       "      <td>110498</td>\n",
       "    </tr>\n",
       "  </tbody>\n",
       "</table>\n",
       "</div>"
      ],
      "text/plain": [
       "   Unnamed: 0           Category  \\\n",
       "0           0  In-depth Cultural   \n",
       "1           1  In-depth Cultural   \n",
       "2           2   Active Adventure   \n",
       "3           3           Explorer   \n",
       "4           4  In-depth Cultural   \n",
       "\n",
       "                                                name  \\\n",
       "0                                    Essential India   \n",
       "1                                    Golden Triangle   \n",
       "2  Taj Mahal and Wildlife with Royal Stay at Castles   \n",
       "3  India's Top Selling Golden Triangle India Tour...   \n",
       "4  India's Bestseller - 5 Day Golden Triangle - D...   \n",
       "\n",
       "                                        destinations   age_group  \\\n",
       "0           New Delhi, Jaipur, Fatehpur Sikri, Agra    18 to 50    \n",
       "1                New Delhi, Agra, Bharatpur, Jaipur    12 to 90    \n",
       "2   New Delhi, Jaipur, Jodhpur, Luni, Sardargarh,...   18 to 85    \n",
       "3                New Delhi, Agra, Taj Mahal, Jaipur     5 to 99    \n",
       "4                           New Delhi, Agra, Jaipur    15 to 80    \n",
       "\n",
       "                                       tour_type_des  \\\n",
       "0  Group, Fully Guided, Explorer, Coach / Bus+2 more   \n",
       "1  Family, Group, Fully Guided, Christmas & New Y...   \n",
       "2  Safari, Wildlife, Private, Group, Fully Guided...   \n",
       "3  Family, Private, Partially Guided, Historical,...   \n",
       "4  Family, Private, Group, Fully Guided, Explorer...   \n",
       "\n",
       "                     Vendors Duration price  Destination_link  \n",
       "0                Travel Talk   8 days   754              9376  \n",
       "1               G Adventures   8 days   679              5505  \n",
       "2     Swastik India Journeys  11 days   710             91447  \n",
       "3     Swastik India Journeys   5 days   205             88881  \n",
       "4  K K Holidays N Vacations    5 days   419            110498  "
      ]
     },
     "execution_count": 2,
     "metadata": {},
     "output_type": "execute_result"
    }
   ],
   "source": [
    "df = pd.read_csv('india_Package.csv')\n",
    "df.head()"
   ]
  },
  {
   "cell_type": "code",
   "execution_count": 3,
   "id": "78c2d1c1",
   "metadata": {},
   "outputs": [
    {
     "data": {
      "text/plain": [
       "(450, 10)"
      ]
     },
     "execution_count": 3,
     "metadata": {},
     "output_type": "execute_result"
    }
   ],
   "source": [
    "df.shape"
   ]
  },
  {
   "cell_type": "code",
   "execution_count": 4,
   "id": "644a665b",
   "metadata": {},
   "outputs": [
    {
     "data": {
      "text/plain": [
       "450"
      ]
     },
     "execution_count": 4,
     "metadata": {},
     "output_type": "execute_result"
    }
   ],
   "source": [
    "len(df['Destination_link'].unique())"
   ]
  },
  {
   "cell_type": "code",
   "execution_count": 5,
   "id": "e4bf99b1",
   "metadata": {},
   "outputs": [],
   "source": [
    "bolean = df['Destination_link'].duplicated()"
   ]
  },
  {
   "cell_type": "code",
   "execution_count": 6,
   "id": "714ecda4",
   "metadata": {},
   "outputs": [
    {
     "data": {
      "text/plain": [
       "0      False\n",
       "1      False\n",
       "2      False\n",
       "3      False\n",
       "4      False\n",
       "       ...  \n",
       "445    False\n",
       "446    False\n",
       "447    False\n",
       "448    False\n",
       "449    False\n",
       "Name: Destination_link, Length: 450, dtype: bool"
      ]
     },
     "execution_count": 6,
     "metadata": {},
     "output_type": "execute_result"
    }
   ],
   "source": [
    "bolean"
   ]
  },
  {
   "cell_type": "code",
   "execution_count": 7,
   "id": "09b5f30c",
   "metadata": {},
   "outputs": [],
   "source": [
    "df = df[~bolean]"
   ]
  },
  {
   "cell_type": "code",
   "execution_count": 8,
   "id": "07f7adeb",
   "metadata": {
    "scrolled": true
   },
   "outputs": [
    {
     "data": {
      "text/plain": [
       "(450, 10)"
      ]
     },
     "execution_count": 8,
     "metadata": {},
     "output_type": "execute_result"
    }
   ],
   "source": [
    "df.shape"
   ]
  },
  {
   "cell_type": "code",
   "execution_count": 3,
   "id": "9d60be47",
   "metadata": {},
   "outputs": [],
   "source": [
    "from tqdm.notebook import tqdm "
   ]
  },
  {
   "cell_type": "code",
   "execution_count": 5,
   "id": "08c6cd0d",
   "metadata": {},
   "outputs": [
    {
     "data": {
      "application/vnd.jupyter.widget-view+json": {
       "model_id": "9c68a9c5a9454ca991d1ed0b06194fc1",
       "version_major": 2,
       "version_minor": 0
      },
      "text/plain": [
       "  0%|          | 0/450 [00:00<?, ?it/s]"
      ]
     },
     "metadata": {},
     "output_type": "display_data"
    }
   ],
   "source": [
    "comment = []\n",
    "destination = []\n",
    "for j in tqdm(range(0, len(df))):\n",
    "    url =  \"https://www.tourradar.com/t/{}#p=1_\".format(df['Destination_link'][j])\n",
    "    content = requests.get(url)\n",
    "    soup = BeautifulSoup(content.text, 'html.parser')\n",
    "    tour_review  = soup.find_all('div', class_ = 'js-am-tour-reviews__review-item-body')\n",
    "    for i in tour_review:\n",
    "        x = i.text.strip()\n",
    "        comment.append(x)\n",
    "        destination.append(df['Destination_link'][j])\n",
    "    "
   ]
  },
  {
   "cell_type": "code",
   "execution_count": 6,
   "id": "00736af9",
   "metadata": {},
   "outputs": [
    {
     "data": {
      "text/html": [
       "<div>\n",
       "<style scoped>\n",
       "    .dataframe tbody tr th:only-of-type {\n",
       "        vertical-align: middle;\n",
       "    }\n",
       "\n",
       "    .dataframe tbody tr th {\n",
       "        vertical-align: top;\n",
       "    }\n",
       "\n",
       "    .dataframe thead th {\n",
       "        text-align: right;\n",
       "    }\n",
       "</style>\n",
       "<table border=\"1\" class=\"dataframe\">\n",
       "  <thead>\n",
       "    <tr style=\"text-align: right;\">\n",
       "      <th></th>\n",
       "      <th>Destination_link</th>\n",
       "      <th>Review</th>\n",
       "    </tr>\n",
       "  </thead>\n",
       "  <tbody>\n",
       "    <tr>\n",
       "      <th>0</th>\n",
       "      <td>9376</td>\n",
       "      <td>Thank you for help making my honeymoon a memor...</td>\n",
       "    </tr>\n",
       "    <tr>\n",
       "      <th>1</th>\n",
       "      <td>9376</td>\n",
       "      <td>Our guide really made the tour great. The dest...</td>\n",
       "    </tr>\n",
       "    <tr>\n",
       "      <th>2</th>\n",
       "      <td>9376</td>\n",
       "      <td>I really appreciate everything that Travel Tal...</td>\n",
       "    </tr>\n",
       "    <tr>\n",
       "      <th>3</th>\n",
       "      <td>9376</td>\n",
       "      <td>Overall it was such a surreal and fun experien...</td>\n",
       "    </tr>\n",
       "    <tr>\n",
       "      <th>4</th>\n",
       "      <td>9376</td>\n",
       "      <td>I really enjoyed me tour it was excellent. I m...</td>\n",
       "    </tr>\n",
       "    <tr>\n",
       "      <th>5</th>\n",
       "      <td>9376</td>\n",
       "      <td>Was one of the best tours I’ve ever joined. Th...</td>\n",
       "    </tr>\n",
       "    <tr>\n",
       "      <th>6</th>\n",
       "      <td>9376</td>\n",
       "      <td>So many wonderful places visited in 8 days , w...</td>\n",
       "    </tr>\n",
       "    <tr>\n",
       "      <th>7</th>\n",
       "      <td>9376</td>\n",
       "      <td>This was my first time traveling with Travel T...</td>\n",
       "    </tr>\n",
       "    <tr>\n",
       "      <th>8</th>\n",
       "      <td>9376</td>\n",
       "      <td>The tour covers the basics but myself and frie...</td>\n",
       "    </tr>\n",
       "    <tr>\n",
       "      <th>9</th>\n",
       "      <td>9376</td>\n",
       "      <td>My Fiancé and I did the 8-day golden triangle ...</td>\n",
       "    </tr>\n",
       "    <tr>\n",
       "      <th>10</th>\n",
       "      <td>5505</td>\n",
       "      <td>Ragu was one the best guides i ever had in all...</td>\n",
       "    </tr>\n",
       "    <tr>\n",
       "      <th>11</th>\n",
       "      <td>5505</td>\n",
       "      <td>GreT tour of a very small part of India! The t...</td>\n",
       "    </tr>\n",
       "    <tr>\n",
       "      <th>12</th>\n",
       "      <td>5505</td>\n",
       "      <td>Great tour of a very small portion of India. O...</td>\n",
       "    </tr>\n",
       "    <tr>\n",
       "      <th>13</th>\n",
       "      <td>5505</td>\n",
       "      <td>I had a great experience. Overall enjoyed the ...</td>\n",
       "    </tr>\n",
       "    <tr>\n",
       "      <th>14</th>\n",
       "      <td>5505</td>\n",
       "      <td>Jam packed days and nights experiencing the RE...</td>\n",
       "    </tr>\n",
       "    <tr>\n",
       "      <th>15</th>\n",
       "      <td>5505</td>\n",
       "      <td>An amazing journey that I thoroughly enjoyed o...</td>\n",
       "    </tr>\n",
       "    <tr>\n",
       "      <th>16</th>\n",
       "      <td>5505</td>\n",
       "      <td>It was one of the best decisions we made to jo...</td>\n",
       "    </tr>\n",
       "    <tr>\n",
       "      <th>17</th>\n",
       "      <td>5505</td>\n",
       "      <td>It was an awesome tour with a great CEO and su...</td>\n",
       "    </tr>\n",
       "    <tr>\n",
       "      <th>18</th>\n",
       "      <td>5505</td>\n",
       "      <td>Overall a good experience.  With the exception...</td>\n",
       "    </tr>\n",
       "    <tr>\n",
       "      <th>19</th>\n",
       "      <td>5505</td>\n",
       "      <td>The whole experience was amazing, everything w...</td>\n",
       "    </tr>\n",
       "    <tr>\n",
       "      <th>20</th>\n",
       "      <td>91447</td>\n",
       "      <td>It was a very good trip. Saw the best of India...</td>\n",
       "    </tr>\n",
       "    <tr>\n",
       "      <th>21</th>\n",
       "      <td>91447</td>\n",
       "      <td>When we booked this tour we were nervous as th...</td>\n",
       "    </tr>\n",
       "    <tr>\n",
       "      <th>22</th>\n",
       "      <td>91447</td>\n",
       "      <td>I had an amazing whirlwind 11-day solo tour th...</td>\n",
       "    </tr>\n",
       "    <tr>\n",
       "      <th>23</th>\n",
       "      <td>91447</td>\n",
       "      <td>Very good driver for just me, 1 person.\\nGood ...</td>\n",
       "    </tr>\n",
       "    <tr>\n",
       "      <th>24</th>\n",
       "      <td>91447</td>\n",
       "      <td>I booked this tour for my 25th anniversary and...</td>\n",
       "    </tr>\n",
       "    <tr>\n",
       "      <th>25</th>\n",
       "      <td>91447</td>\n",
       "      <td>Just finished this wonderful tour. I must say ...</td>\n",
       "    </tr>\n",
       "    <tr>\n",
       "      <th>26</th>\n",
       "      <td>91447</td>\n",
       "      <td>We did enjoy the tour and saw many interesting...</td>\n",
       "    </tr>\n",
       "    <tr>\n",
       "      <th>27</th>\n",
       "      <td>91447</td>\n",
       "      <td>We have just finished the tour which started o...</td>\n",
       "    </tr>\n",
       "    <tr>\n",
       "      <th>28</th>\n",
       "      <td>91447</td>\n",
       "      <td>Wonderful itinerary.Best 11 days in India. Hig...</td>\n",
       "    </tr>\n",
       "    <tr>\n",
       "      <th>29</th>\n",
       "      <td>91447</td>\n",
       "      <td>It was a great experience, the tour provider p...</td>\n",
       "    </tr>\n",
       "    <tr>\n",
       "      <th>30</th>\n",
       "      <td>88881</td>\n",
       "      <td>Booked a tour for a group tour, but as no one ...</td>\n",
       "    </tr>\n",
       "    <tr>\n",
       "      <th>31</th>\n",
       "      <td>88881</td>\n",
       "      <td>The best trip ever!! Experienced many things i...</td>\n",
       "    </tr>\n",
       "    <tr>\n",
       "      <th>32</th>\n",
       "      <td>88881</td>\n",
       "      <td>Our tour had a mixture of highs and lows.\\nThe...</td>\n",
       "    </tr>\n",
       "    <tr>\n",
       "      <th>33</th>\n",
       "      <td>88881</td>\n",
       "      <td>The tour was brilliant and well organised by t...</td>\n",
       "    </tr>\n",
       "    <tr>\n",
       "      <th>34</th>\n",
       "      <td>88881</td>\n",
       "      <td>Our driver and all the tour guides were amazin...</td>\n",
       "    </tr>\n",
       "    <tr>\n",
       "      <th>35</th>\n",
       "      <td>88881</td>\n",
       "      <td>we experienced the best tour ever in the golde...</td>\n",
       "    </tr>\n",
       "    <tr>\n",
       "      <th>36</th>\n",
       "      <td>88881</td>\n",
       "      <td>Our experience with Swastik India Journeys was...</td>\n",
       "    </tr>\n",
       "    <tr>\n",
       "      <th>37</th>\n",
       "      <td>88881</td>\n",
       "      <td>I firstly have to say the driver Pramod has be...</td>\n",
       "    </tr>\n",
       "    <tr>\n",
       "      <th>38</th>\n",
       "      <td>88881</td>\n",
       "      <td>It was an excellent tour. Loved our time in In...</td>\n",
       "    </tr>\n",
       "    <tr>\n",
       "      <th>39</th>\n",
       "      <td>88881</td>\n",
       "      <td>Loved the trip. Saw some amazing places and me...</td>\n",
       "    </tr>\n",
       "    <tr>\n",
       "      <th>40</th>\n",
       "      <td>110498</td>\n",
       "      <td>Our driver for the entire tour, Ram, was fanta...</td>\n",
       "    </tr>\n",
       "    <tr>\n",
       "      <th>41</th>\n",
       "      <td>110498</td>\n",
       "      <td>Superb Trip , Superb Guides and above all my d...</td>\n",
       "    </tr>\n",
       "    <tr>\n",
       "      <th>42</th>\n",
       "      <td>110498</td>\n",
       "      <td>Very friendly staff. Everything was planned an...</td>\n",
       "    </tr>\n",
       "    <tr>\n",
       "      <th>43</th>\n",
       "      <td>110498</td>\n",
       "      <td>The tour was well organized. We were very happ...</td>\n",
       "    </tr>\n",
       "    <tr>\n",
       "      <th>44</th>\n",
       "      <td>110498</td>\n",
       "      <td>Ajit Singh, my driver, was very considerate an...</td>\n",
       "    </tr>\n",
       "    <tr>\n",
       "      <th>45</th>\n",
       "      <td>110498</td>\n",
       "      <td>I started this tour directly when I came to De...</td>\n",
       "    </tr>\n",
       "    <tr>\n",
       "      <th>46</th>\n",
       "      <td>110498</td>\n",
       "      <td>We did this 5 day tour at the beginning of our...</td>\n",
       "    </tr>\n",
       "    <tr>\n",
       "      <th>47</th>\n",
       "      <td>110498</td>\n",
       "      <td>We had a great time during this trip . Special...</td>\n",
       "    </tr>\n",
       "    <tr>\n",
       "      <th>48</th>\n",
       "      <td>110498</td>\n",
       "      <td>We had a memorable trip that was arranged as p...</td>\n",
       "    </tr>\n",
       "    <tr>\n",
       "      <th>49</th>\n",
       "      <td>110498</td>\n",
       "      <td>K K holidays and their guides / drivers were a...</td>\n",
       "    </tr>\n",
       "  </tbody>\n",
       "</table>\n",
       "</div>"
      ],
      "text/plain": [
       "    Destination_link                                             Review\n",
       "0               9376  Thank you for help making my honeymoon a memor...\n",
       "1               9376  Our guide really made the tour great. The dest...\n",
       "2               9376  I really appreciate everything that Travel Tal...\n",
       "3               9376  Overall it was such a surreal and fun experien...\n",
       "4               9376  I really enjoyed me tour it was excellent. I m...\n",
       "5               9376  Was one of the best tours I’ve ever joined. Th...\n",
       "6               9376  So many wonderful places visited in 8 days , w...\n",
       "7               9376  This was my first time traveling with Travel T...\n",
       "8               9376  The tour covers the basics but myself and frie...\n",
       "9               9376  My Fiancé and I did the 8-day golden triangle ...\n",
       "10              5505  Ragu was one the best guides i ever had in all...\n",
       "11              5505  GreT tour of a very small part of India! The t...\n",
       "12              5505  Great tour of a very small portion of India. O...\n",
       "13              5505  I had a great experience. Overall enjoyed the ...\n",
       "14              5505  Jam packed days and nights experiencing the RE...\n",
       "15              5505  An amazing journey that I thoroughly enjoyed o...\n",
       "16              5505  It was one of the best decisions we made to jo...\n",
       "17              5505  It was an awesome tour with a great CEO and su...\n",
       "18              5505  Overall a good experience.  With the exception...\n",
       "19              5505  The whole experience was amazing, everything w...\n",
       "20             91447  It was a very good trip. Saw the best of India...\n",
       "21             91447  When we booked this tour we were nervous as th...\n",
       "22             91447  I had an amazing whirlwind 11-day solo tour th...\n",
       "23             91447  Very good driver for just me, 1 person.\\nGood ...\n",
       "24             91447  I booked this tour for my 25th anniversary and...\n",
       "25             91447  Just finished this wonderful tour. I must say ...\n",
       "26             91447  We did enjoy the tour and saw many interesting...\n",
       "27             91447  We have just finished the tour which started o...\n",
       "28             91447  Wonderful itinerary.Best 11 days in India. Hig...\n",
       "29             91447  It was a great experience, the tour provider p...\n",
       "30             88881  Booked a tour for a group tour, but as no one ...\n",
       "31             88881  The best trip ever!! Experienced many things i...\n",
       "32             88881  Our tour had a mixture of highs and lows.\\nThe...\n",
       "33             88881  The tour was brilliant and well organised by t...\n",
       "34             88881  Our driver and all the tour guides were amazin...\n",
       "35             88881  we experienced the best tour ever in the golde...\n",
       "36             88881  Our experience with Swastik India Journeys was...\n",
       "37             88881  I firstly have to say the driver Pramod has be...\n",
       "38             88881  It was an excellent tour. Loved our time in In...\n",
       "39             88881  Loved the trip. Saw some amazing places and me...\n",
       "40            110498  Our driver for the entire tour, Ram, was fanta...\n",
       "41            110498  Superb Trip , Superb Guides and above all my d...\n",
       "42            110498  Very friendly staff. Everything was planned an...\n",
       "43            110498  The tour was well organized. We were very happ...\n",
       "44            110498  Ajit Singh, my driver, was very considerate an...\n",
       "45            110498  I started this tour directly when I came to De...\n",
       "46            110498  We did this 5 day tour at the beginning of our...\n",
       "47            110498  We had a great time during this trip . Special...\n",
       "48            110498  We had a memorable trip that was arranged as p...\n",
       "49            110498  K K holidays and their guides / drivers were a..."
      ]
     },
     "execution_count": 6,
     "metadata": {},
     "output_type": "execute_result"
    }
   ],
   "source": [
    "d = {'Destination_link' : destination , 'Review': comment}\n",
    "df1 = pd.DataFrame(d)\n",
    "df1.head(50)"
   ]
  },
  {
   "cell_type": "code",
   "execution_count": 7,
   "id": "018b183c",
   "metadata": {},
   "outputs": [],
   "source": [
    "India_Review = df1.to_csv('IndiaReview.csv', index = True)"
   ]
  },
  {
   "cell_type": "markdown",
   "id": "9d446657",
   "metadata": {},
   "source": [
    "for i in df['Destination_link']:\n",
    "    url =  \"https://www.tourradar.com/t/{}#p=1_\".format(i)\n",
    "    content = requests.get(url)\n",
    "    soup = BeautifulSoup(content.text, 'html.parser')\n",
    "    tour_review  = soup.find_all('div', class_ = 'js-am-tour-reviews__review-item-body')\n",
    "    comment = []\n",
    "    for i in tour_review:\n",
    "        x = i.text.strip()\n",
    "        comment.append(x)\n",
    "        \n",
    "    "
   ]
  },
  {
   "cell_type": "markdown",
   "id": "9230984e",
   "metadata": {
    "collapsed": true
   },
   "source": [
    "for i in df['Destination_link']:\n",
    "    print(i)"
   ]
  },
  {
   "cell_type": "markdown",
   "id": "fb5daa10",
   "metadata": {},
   "source": [
    "url = \"https://www.tourradar.com/t/115430#p=1_\"\n",
    "content = requests.get(url)\n",
    "soup = BeautifulSoup(content.text, 'html.parser')\n",
    "tour_review  = soup.find_all('div', class_ = 'js-am-tour-reviews__review-item-body')\n",
    "comment = []\n",
    "for i in tour_review:\n",
    "    ## print(i.text.strip())\n",
    "    x = i.text.strip()\n",
    "    comment.append(x)"
   ]
  },
  {
   "cell_type": "code",
   "execution_count": 6,
   "id": "e77b0635",
   "metadata": {},
   "outputs": [
    {
     "data": {
      "text/plain": [
       "9"
      ]
     },
     "execution_count": 6,
     "metadata": {},
     "output_type": "execute_result"
    }
   ],
   "source": [
    "len(comment)"
   ]
  },
  {
   "cell_type": "code",
   "execution_count": 4,
   "id": "060bc20c",
   "metadata": {},
   "outputs": [],
   "source": [
    "content = requests.get(url)"
   ]
  },
  {
   "cell_type": "code",
   "execution_count": 5,
   "id": "6d72b7d5",
   "metadata": {},
   "outputs": [],
   "source": [
    "soup = BeautifulSoup(content.text, 'html.parser')"
   ]
  },
  {
   "cell_type": "code",
   "execution_count": 54,
   "id": "cb9b9d2e",
   "metadata": {},
   "outputs": [],
   "source": [
    "tour_review  = soup.find_all('div', class_ = 'js-am-tour-reviews__review-item-body')"
   ]
  },
  {
   "cell_type": "code",
   "execution_count": 55,
   "id": "f3146624",
   "metadata": {},
   "outputs": [
    {
     "data": {
      "text/plain": [
       "[]"
      ]
     },
     "execution_count": 55,
     "metadata": {},
     "output_type": "execute_result"
    }
   ],
   "source": [
    "tour_review"
   ]
  },
  {
   "cell_type": "code",
   "execution_count": 14,
   "id": "dd61e8ca",
   "metadata": {},
   "outputs": [
    {
     "data": {
      "text/plain": [
       "9"
      ]
     },
     "execution_count": 14,
     "metadata": {},
     "output_type": "execute_result"
    }
   ],
   "source": [
    "len(tour_review)"
   ]
  },
  {
   "cell_type": "code",
   "execution_count": 57,
   "id": "84ae5388",
   "metadata": {},
   "outputs": [
    {
     "name": "stdout",
     "output_type": "stream",
     "text": [
      "Great adventure, well organized\n",
      "Would love options for hotel and clear explanation of itinerary options. Was very confusing and we probably missed on few experiences. The rest was good.\n",
      "The tour itself was great, but the description of the tour at the time of purchasing lacked a lot of important organizational details about schedule, accommodations etc. General expectations set in the initial description had to go through  a great deal...\n",
      "\n",
      "            Show more\n",
      "Well organised, a great guide and a well-chosen itinerary. Highly recommend.\n",
      "Everything was organized and the views from this trip was amazing!\n",
      "The trip was very well organized and the experience of the guide made the hikes very enjoyable and safe.\r\n",
      "\r\n",
      "I really enjoyed the hikes and the trip but it would have been great to chose an alternative for the glacier hike.\n",
      "They could fix some of the subcontracting relationships to give greater transparency on pricing as some things were not clear if they were included or not\n",
      "I LOVED this tour!! It was pricey but that's just what Norway costs. We did four hikes in total throughout the trip and they all had different challenges and amazing scenery, and they were well spaced with a rest day before the final Trolltunga hike....\n",
      "\n",
      "            Show more\n",
      "Great trip! No further comments\n"
     ]
    }
   ],
   "source": [
    "for i in tour_review:\n",
    "    print(i.text.strip())"
   ]
  },
  {
   "cell_type": "code",
   "execution_count": 25,
   "id": "b4659a13",
   "metadata": {},
   "outputs": [
    {
     "name": "stdout",
     "output_type": "stream",
     "text": [
      "<a class=\"blank tourLink\" data-id=\"5505\" href=\"/t/5505\"><h4 class=\"js-ao-serp-tour__name\" data-id=\"5505\" itemprop=\"name\">Golden Triangle</h4></a>\n",
      "<a class=\"blank tourLink\" data-id=\"88881\" href=\"/t/88881\"><h4 class=\"js-ao-serp-tour__name\" data-id=\"88881\" itemprop=\"name\">India's Top Selling Golden Triangle India Tour w/ Meals and Sunrise Taj Mahal</h4></a>\n",
      "<a class=\"blank tourLink\" data-id=\"91447\" href=\"/t/91447\"><h4 class=\"js-ao-serp-tour__name\" data-id=\"91447\" itemprop=\"name\">Taj Mahal and Wildlife with Royal Stay at Castles</h4></a>\n",
      "<a class=\"blank tourLink\" data-id=\"110498\" href=\"/t/110498\"><h4 class=\"js-ao-serp-tour__name\" data-id=\"110498\" itemprop=\"name\">India's Bestseller - 5 Day Golden Triangle - Delhi, Agra &amp; Jaipur (Guaranteed Departure)</h4></a>\n",
      "<a class=\"blank tourLink\" data-id=\"98622\" href=\"/t/98622\"><h4 class=\"js-ao-serp-tour__name\" data-id=\"98622\" itemprop=\"name\">Explore Golden Triangle</h4></a>\n",
      "<a class=\"blank tourLink\" data-id=\"113375\" href=\"/t/113375\"><h4 class=\"js-ao-serp-tour__name\" data-id=\"113375\" itemprop=\"name\">Golden Triangle Tour with Varanasi</h4></a>\n",
      "<a class=\"blank tourLink\" data-id=\"5522\" href=\"/t/5522\"><h4 class=\"js-ao-serp-tour__name\" data-id=\"5522\" itemprop=\"name\">Uncover India: High Deserts &amp; Markets</h4></a>\n",
      "<a class=\"blank tourLink\" data-id=\"116073\" href=\"/t/116073\"><h4 class=\"js-ao-serp-tour__name\" data-id=\"116073\" itemprop=\"name\">Golden Triangle Tour With Ranthambore</h4></a>\n",
      "<a class=\"blank tourLink\" data-id=\"127990\" href=\"/t/127990\"><h4 class=\"js-ao-serp-tour__name\" data-id=\"127990\" itemprop=\"name\">Golden Triangle Tour - 3 Days</h4></a>\n",
      "<a class=\"blank tourLink\" data-id=\"105049\" href=\"/t/105049\"><h4 class=\"js-ao-serp-tour__name\" data-id=\"105049\" itemprop=\"name\">Golden Triangle &amp; Bequest Rajasthan</h4></a>\n",
      "<a class=\"blank tourLink\" data-id=\"105050\" href=\"/t/105050\"><h4 class=\"js-ao-serp-tour__name\" data-id=\"105050\" itemprop=\"name\">God's Own Country 'Kerala'</h4></a>\n",
      "<a class=\"blank tourLink\" data-id=\"196000\" href=\"/t/196000\"><h4 class=\"js-ao-serp-tour__name\" data-id=\"196000\" itemprop=\"name\">Spiritual India - Yoga, Ganga And Golden Temple</h4></a>\n",
      "<a class=\"blank tourLink\" data-id=\"98630\" href=\"/t/98630\"><h4 class=\"js-ao-serp-tour__name\" data-id=\"98630\" itemprop=\"name\">Taj Mahal, Tiger and Pink City</h4></a>\n",
      "<a class=\"blank tourLink\" data-id=\"4199\" href=\"/t/4199\"><h4 class=\"js-ao-serp-tour__name\" data-id=\"4199\" itemprop=\"name\">India's Golden Triangle</h4></a>\n",
      "<a class=\"blank tourLink\" data-id=\"144485\" href=\"/t/144485\"><h4 class=\"js-ao-serp-tour__name\" data-id=\"144485\" itemprop=\"name\">Spotlight on South India - Tamilnadu, Kerala &amp; Karnataka (All Inclusive with domestic flight)</h4></a>\n"
     ]
    }
   ],
   "source": [
    "tour_type = []\n",
    "tour_name = []\n",
    "comments = []\n",
    "link = []\n",
    "for j in range(1,2):\n",
    "    url =  \"https://www.tourradar.com/d/india?pages={}\".format(j)\n",
    "    content = requests.get(url)\n",
    "    soup = BeautifulSoup(content.text, 'html.parser')\n",
    "    tour_data  = soup.find_all('li', class_ = 'tour')\n",
    "    for i in tour_data:\n",
    "        try:\n",
    "            tour_type.append(i.find('a' , class_ = \"ao-serp-tour__travel-style-link\").text.strip())\n",
    "        except:\n",
    "             tour_type.append(np.nan)\n",
    "        tour_name.append(i.find('h4' , class_ = \"js-ao-serp-tour__name\").text.strip())\n",
    "        text = i.find('a', class_= \"blank tourLink\")\n",
    "        print(text)\n",
    "        sub = 'href'\n",
    "        ## Getting Link for Comments\n",
    "        index1 = text.find(sub)\n",
    "        \n",
    "\n",
    "       \n",
    "\n",
    "        ## Creating a dictionary\n",
    "    d = {'Category': tour_type, 'name' : tour_name}\n",
    "    df = pd.DataFrame(d)\n",
    "    "
   ]
  },
  {
   "cell_type": "code",
   "execution_count": null,
   "id": "bdffa364",
   "metadata": {},
   "outputs": [],
   "source": [
    "<a href=\"/t/5505#p=1_\" class=\"blank tourLink\" data-id=\"5505\"><h4 itemprop=\"name\" class=\"js-ao-serp-tour__name\" data-id=\"5505\">Golden Triangle</h4></a>"
   ]
  },
  {
   "cell_type": "code",
   "execution_count": 33,
   "id": "f5c240c3",
   "metadata": {},
   "outputs": [
    {
     "name": "stdout",
     "output_type": "stream",
     "text": [
      "<a class=\"blank tourLink\" data-id=\"5505\" href=\"/t/5505\"><h4 class=\"js-ao-serp-tour__name\" data-id=\"5505\" itemprop=\"name\">Golden Triangle</h4></a>\n"
     ]
    }
   ],
   "source": [
    "tour_type = []\n",
    "tour_name = []\n",
    "comments = []\n",
    "link = []\n",
    "j = 0\n",
    "url =  \"https://www.tourradar.com/d/india?pages=1\"\n",
    "content = requests.get(url)\n",
    "soup = BeautifulSoup(content.text, 'html.parser')\n",
    "tour_data  = soup.find_all('li', class_ = 'tour')\n",
    "for i in tour_data:\n",
    "    try:\n",
    "        tour_type.append(i.find('a' , class_ = \"ao-serp-tour__travel-style-link\").text.strip())\n",
    "    except:\n",
    "        tour_type.append(np.nan)\n",
    "    tour_name.append(i.find('h4' , class_ = \"js-ao-serp-tour__name\").text.strip())\n",
    "    link.append(i.find('a', class_= \"blank tourLink\"))\n",
    "text = link[0]\n",
    "print(text)\n",
    "sub = 'href'\n",
    "## Getting Link for Comments\n"
   ]
  },
  {
   "cell_type": "code",
   "execution_count": 42,
   "id": "f05e7637",
   "metadata": {
    "scrolled": true
   },
   "outputs": [
    {
     "data": {
      "text/plain": [
       "str"
      ]
     },
     "execution_count": 42,
     "metadata": {},
     "output_type": "execute_result"
    }
   ],
   "source": [
    "type(text)"
   ]
  },
  {
   "cell_type": "code",
   "execution_count": 41,
   "id": "9e5c3f29",
   "metadata": {},
   "outputs": [],
   "source": [
    "text = str(text)"
   ]
  },
  {
   "cell_type": "code",
   "execution_count": 49,
   "id": "398244d8",
   "metadata": {},
   "outputs": [
    {
     "name": "stdout",
     "output_type": "stream",
     "text": [
      "/t/5505\n"
     ]
    }
   ],
   "source": [
    "idx5 = text.find(\"href=\")\n",
    "idx6 = text.find(\"\\\">\")\n",
    "print(text[idx5 + len(\"href=\\\"\") :idx6 ])\n",
    "tour_id = text[idx5 + len(\"href=\\\"\") :idx6 ]"
   ]
  },
  {
   "cell_type": "code",
   "execution_count": 61,
   "id": "9dd9c738",
   "metadata": {},
   "outputs": [],
   "source": [
    "url = \"https://www.tourradar.com{}#p=1_\".format(tour_id)\n",
    "content = requests.get(url)"
   ]
  },
  {
   "cell_type": "code",
   "execution_count": 62,
   "id": "e33bc325",
   "metadata": {},
   "outputs": [
    {
     "data": {
      "text/plain": [
       "<Response [200]>"
      ]
     },
     "execution_count": 62,
     "metadata": {},
     "output_type": "execute_result"
    }
   ],
   "source": [
    "content"
   ]
  },
  {
   "cell_type": "code",
   "execution_count": 64,
   "id": "8b38c422",
   "metadata": {},
   "outputs": [
    {
     "name": "stdout",
     "output_type": "stream",
     "text": [
      "GreT tour of a very small part of India! The tour and guide were great and we saw a lot. As a solo female traveler, I wanted to see the sights there, but was nervous. This is the only way I’d go there and it was perfect and I felt safe with the group.\n",
      "Great tour of a very small portion of India. Our guide Anu was awesome! I took a tour as a solo female traveler and was so glad I did. I wouldn’t have wanted to navigate all of that in my own and G Adventures took care of everything.\n",
      "I had a great experience. Overall enjoyed the tour and the tour guide. I wished the hotel selection could have been better. A couple hotels were not up to the standard that I hoped for as well as the group.\n",
      "Jam packed days and nights experiencing the REAL INDIA , from the backstreets of Delhi to the mesmerising  Taj Mahal .\n",
      "\n",
      "Abi , a wonderful story teller , took us back in time with his vast knowledge of local history and passion for his country .\n",
      "An amazing journey that I thoroughly enjoyed on The Golden Triangle Tour. I loved learning about the culture and seeing such beautiful architecture and hearing the wonderful associated stories. The Kite festival was brilliant, our tour guide 'Manu' was...\n",
      "\n",
      "            Show more\n",
      "It was one of the best decisions we made to join a g adventures tour ,from start to finish everything was well organised. The guide Shaz was so helpful and knowledgable i it made the tour\n",
      "It was an awesome tour with a great CEO and super group of people! Would definitely recommend :)\n",
      "Overall a good experience.  With the exception of the accommodations in the village, the rest of the accommodations were inadequate. Breakfast should be included with the tour. As a result of having to buy breakfast much time were wasted in the...\n",
      "\n",
      "            Show more\n",
      "The whole experience was amazing, everything was well planned and ran smoothly. The guides were very informative and friendly. \r\n",
      "Our tour guide Gaurav was absolutely awesome and would recommend him to anyone.\r\n",
      "Very well done\n",
      "The tour was well organized, and our tour director, JD, was amazing!  He really was calm, took care of everything but wasn't intrusive couldn't be better.  We had a reasonable amount of downtime, but feel we saw everything we needed.\r\n",
      "\r\n",
      "Our only...\n",
      "\n",
      "            Show more\n"
     ]
    }
   ],
   "source": [
    "url = \"https://www.tourradar.com{}#p=1_\".format(tour_id)\n",
    "content = requests.get(url)\n",
    "soup = BeautifulSoup(content.text, 'html.parser')\n",
    "tour_review  = soup.find_all('div', class_ = 'js-am-tour-reviews__review-item-body')\n",
    "for i in tour_review:\n",
    "    print(i.text.strip())"
   ]
  },
  {
   "cell_type": "code",
   "execution_count": 38,
   "id": "ca2fa05e",
   "metadata": {},
   "outputs": [
    {
     "data": {
      "text/plain": [
       "['DEFAULT_INTERESTING_STRING_TYPES',\n",
       " '__bool__',\n",
       " '__call__',\n",
       " '__class__',\n",
       " '__contains__',\n",
       " '__copy__',\n",
       " '__delattr__',\n",
       " '__delitem__',\n",
       " '__dict__',\n",
       " '__dir__',\n",
       " '__doc__',\n",
       " '__eq__',\n",
       " '__format__',\n",
       " '__ge__',\n",
       " '__getattr__',\n",
       " '__getattribute__',\n",
       " '__getitem__',\n",
       " '__gt__',\n",
       " '__hash__',\n",
       " '__init__',\n",
       " '__init_subclass__',\n",
       " '__iter__',\n",
       " '__le__',\n",
       " '__len__',\n",
       " '__lt__',\n",
       " '__module__',\n",
       " '__ne__',\n",
       " '__new__',\n",
       " '__reduce__',\n",
       " '__reduce_ex__',\n",
       " '__repr__',\n",
       " '__setattr__',\n",
       " '__setitem__',\n",
       " '__sizeof__',\n",
       " '__str__',\n",
       " '__subclasshook__',\n",
       " '__unicode__',\n",
       " '__weakref__',\n",
       " '_all_strings',\n",
       " '_find_all',\n",
       " '_find_one',\n",
       " '_is_xml',\n",
       " '_lastRecursiveChild',\n",
       " '_last_descendant',\n",
       " '_namespaces',\n",
       " '_should_pretty_print',\n",
       " 'append',\n",
       " 'attrs',\n",
       " 'can_be_empty_element',\n",
       " 'cdata_list_attributes',\n",
       " 'childGenerator',\n",
       " 'children',\n",
       " 'clear',\n",
       " 'contents',\n",
       " 'decode',\n",
       " 'decode_contents',\n",
       " 'decompose',\n",
       " 'decomposed',\n",
       " 'default',\n",
       " 'descendants',\n",
       " 'encode',\n",
       " 'encode_contents',\n",
       " 'extend',\n",
       " 'extract',\n",
       " 'fetchNextSiblings',\n",
       " 'fetchParents',\n",
       " 'fetchPrevious',\n",
       " 'fetchPreviousSiblings',\n",
       " 'find',\n",
       " 'findAll',\n",
       " 'findAllNext',\n",
       " 'findAllPrevious',\n",
       " 'findChild',\n",
       " 'findChildren',\n",
       " 'findNext',\n",
       " 'findNextSibling',\n",
       " 'findNextSiblings',\n",
       " 'findParent',\n",
       " 'findParents',\n",
       " 'findPrevious',\n",
       " 'findPreviousSibling',\n",
       " 'findPreviousSiblings',\n",
       " 'find_all',\n",
       " 'find_all_next',\n",
       " 'find_all_previous',\n",
       " 'find_next',\n",
       " 'find_next_sibling',\n",
       " 'find_next_siblings',\n",
       " 'find_parent',\n",
       " 'find_parents',\n",
       " 'find_previous',\n",
       " 'find_previous_sibling',\n",
       " 'find_previous_siblings',\n",
       " 'format_string',\n",
       " 'formatter_for_name',\n",
       " 'get',\n",
       " 'getText',\n",
       " 'get_attribute_list',\n",
       " 'get_text',\n",
       " 'has_attr',\n",
       " 'has_key',\n",
       " 'hidden',\n",
       " 'index',\n",
       " 'insert',\n",
       " 'insert_after',\n",
       " 'insert_before',\n",
       " 'interesting_string_types',\n",
       " 'isSelfClosing',\n",
       " 'is_empty_element',\n",
       " 'known_xml',\n",
       " 'name',\n",
       " 'namespace',\n",
       " 'next',\n",
       " 'nextGenerator',\n",
       " 'nextSibling',\n",
       " 'nextSiblingGenerator',\n",
       " 'next_element',\n",
       " 'next_elements',\n",
       " 'next_sibling',\n",
       " 'next_siblings',\n",
       " 'parent',\n",
       " 'parentGenerator',\n",
       " 'parents',\n",
       " 'parserClass',\n",
       " 'parser_class',\n",
       " 'prefix',\n",
       " 'preserve_whitespace_tags',\n",
       " 'prettify',\n",
       " 'previous',\n",
       " 'previousGenerator',\n",
       " 'previousSibling',\n",
       " 'previousSiblingGenerator',\n",
       " 'previous_element',\n",
       " 'previous_elements',\n",
       " 'previous_sibling',\n",
       " 'previous_siblings',\n",
       " 'recursiveChildGenerator',\n",
       " 'renderContents',\n",
       " 'replaceWith',\n",
       " 'replaceWithChildren',\n",
       " 'replace_with',\n",
       " 'replace_with_children',\n",
       " 'select',\n",
       " 'select_one',\n",
       " 'setup',\n",
       " 'smooth',\n",
       " 'sourceline',\n",
       " 'sourcepos',\n",
       " 'string',\n",
       " 'strings',\n",
       " 'stripped_strings',\n",
       " 'text',\n",
       " 'unwrap',\n",
       " 'wrap']"
      ]
     },
     "execution_count": 38,
     "metadata": {},
     "output_type": "execute_result"
    }
   ],
   "source": [
    "dir(text)"
   ]
  },
  {
   "cell_type": "code",
   "execution_count": null,
   "id": "84a62f80",
   "metadata": {},
   "outputs": [],
   "source": []
  }
 ],
 "metadata": {
  "kernelspec": {
   "display_name": "Python 3 (ipykernel)",
   "language": "python",
   "name": "python3"
  },
  "language_info": {
   "codemirror_mode": {
    "name": "ipython",
    "version": 3
   },
   "file_extension": ".py",
   "mimetype": "text/x-python",
   "name": "python",
   "nbconvert_exporter": "python",
   "pygments_lexer": "ipython3",
   "version": "3.9.12"
  }
 },
 "nbformat": 4,
 "nbformat_minor": 5
}
