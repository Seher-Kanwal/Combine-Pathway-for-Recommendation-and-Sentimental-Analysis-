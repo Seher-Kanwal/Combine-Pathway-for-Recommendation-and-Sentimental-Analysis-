{
 "cells": [
  {
   "cell_type": "code",
   "execution_count": 1,
   "metadata": {
    "id": "qTyjGmrL1zLv"
   },
   "outputs": [],
   "source": [
    "import pandas as pd "
   ]
  },
  {
   "cell_type": "code",
   "execution_count": 2,
   "metadata": {
    "id": "gah3kPlR2BU1"
   },
   "outputs": [],
   "source": [
    "df = pd.read_csv('India Sentimental Scores for Reviews.csv')[['Destination_link','Review','Sentiment Score']]"
   ]
  },
  {
   "cell_type": "code",
   "execution_count": 3,
   "metadata": {
    "colab": {
     "base_uri": "https://localhost:8080/",
     "height": 206
    },
    "id": "5GkYX3ht2BXm",
    "outputId": "07911911-f995-417e-9607-a51fccf0e8e7",
    "scrolled": true
   },
   "outputs": [
    {
     "data": {
      "text/html": [
       "<div>\n",
       "<style scoped>\n",
       "    .dataframe tbody tr th:only-of-type {\n",
       "        vertical-align: middle;\n",
       "    }\n",
       "\n",
       "    .dataframe tbody tr th {\n",
       "        vertical-align: top;\n",
       "    }\n",
       "\n",
       "    .dataframe thead th {\n",
       "        text-align: right;\n",
       "    }\n",
       "</style>\n",
       "<table border=\"1\" class=\"dataframe\">\n",
       "  <thead>\n",
       "    <tr style=\"text-align: right;\">\n",
       "      <th></th>\n",
       "      <th>Destination_link</th>\n",
       "      <th>Review</th>\n",
       "      <th>Sentiment Score</th>\n",
       "    </tr>\n",
       "  </thead>\n",
       "  <tbody>\n",
       "    <tr>\n",
       "      <th>0</th>\n",
       "      <td>9376</td>\n",
       "      <td>Thank you for help making my honeymoon a memor...</td>\n",
       "      <td>5</td>\n",
       "    </tr>\n",
       "    <tr>\n",
       "      <th>1</th>\n",
       "      <td>9376</td>\n",
       "      <td>Our guide really made the tour great. The dest...</td>\n",
       "      <td>5</td>\n",
       "    </tr>\n",
       "    <tr>\n",
       "      <th>2</th>\n",
       "      <td>9376</td>\n",
       "      <td>I really appreciate everything that Travel Tal...</td>\n",
       "      <td>5</td>\n",
       "    </tr>\n",
       "    <tr>\n",
       "      <th>3</th>\n",
       "      <td>9376</td>\n",
       "      <td>Overall it was such a surreal and fun experien...</td>\n",
       "      <td>4</td>\n",
       "    </tr>\n",
       "    <tr>\n",
       "      <th>4</th>\n",
       "      <td>9376</td>\n",
       "      <td>I really enjoyed me tour it was excellent. I m...</td>\n",
       "      <td>5</td>\n",
       "    </tr>\n",
       "  </tbody>\n",
       "</table>\n",
       "</div>"
      ],
      "text/plain": [
       "   Destination_link                                             Review  \\\n",
       "0              9376  Thank you for help making my honeymoon a memor...   \n",
       "1              9376  Our guide really made the tour great. The dest...   \n",
       "2              9376  I really appreciate everything that Travel Tal...   \n",
       "3              9376  Overall it was such a surreal and fun experien...   \n",
       "4              9376  I really enjoyed me tour it was excellent. I m...   \n",
       "\n",
       "   Sentiment Score  \n",
       "0                5  \n",
       "1                5  \n",
       "2                5  \n",
       "3                4  \n",
       "4                5  "
      ]
     },
     "execution_count": 3,
     "metadata": {},
     "output_type": "execute_result"
    }
   ],
   "source": [
    "df.head()"
   ]
  },
  {
   "cell_type": "code",
   "execution_count": 9,
   "metadata": {},
   "outputs": [
    {
     "data": {
      "text/plain": [
       "Sentiment Score\n",
       "1      17\n",
       "2      57\n",
       "3      57\n",
       "4     238\n",
       "5    1696\n",
       "Name: Review, dtype: int64"
      ]
     },
     "execution_count": 9,
     "metadata": {},
     "output_type": "execute_result"
    }
   ],
   "source": [
    "df.groupby('Sentiment Score').count()['Review']"
   ]
  },
  {
   "cell_type": "code",
   "execution_count": 4,
   "metadata": {
    "colab": {
     "base_uri": "https://localhost:8080/",
     "height": 206
    },
    "id": "j8k20UwA2BbG",
    "outputId": "c9a8e73b-118f-44a1-9a47-742d764fb99e"
   },
   "outputs": [
    {
     "data": {
      "text/html": [
       "<div>\n",
       "<style scoped>\n",
       "    .dataframe tbody tr th:only-of-type {\n",
       "        vertical-align: middle;\n",
       "    }\n",
       "\n",
       "    .dataframe tbody tr th {\n",
       "        vertical-align: top;\n",
       "    }\n",
       "\n",
       "    .dataframe thead th {\n",
       "        text-align: right;\n",
       "    }\n",
       "</style>\n",
       "<table border=\"1\" class=\"dataframe\">\n",
       "  <thead>\n",
       "    <tr style=\"text-align: right;\">\n",
       "      <th></th>\n",
       "      <th>Destination_link</th>\n",
       "      <th>Review</th>\n",
       "      <th>Sentiment Score</th>\n",
       "    </tr>\n",
       "  </thead>\n",
       "  <tbody>\n",
       "    <tr>\n",
       "      <th>0</th>\n",
       "      <td>93960</td>\n",
       "      <td>Had a great week and we were so blessed to hav...</td>\n",
       "      <td>5</td>\n",
       "    </tr>\n",
       "    <tr>\n",
       "      <th>1</th>\n",
       "      <td>93960</td>\n",
       "      <td>Stunning places! Our tour guide was very infor...</td>\n",
       "      <td>5</td>\n",
       "    </tr>\n",
       "    <tr>\n",
       "      <th>2</th>\n",
       "      <td>93960</td>\n",
       "      <td>Our Chief Experience Officer Brianna Collins m...</td>\n",
       "      <td>5</td>\n",
       "    </tr>\n",
       "    <tr>\n",
       "      <th>3</th>\n",
       "      <td>93960</td>\n",
       "      <td>Rachel is great, so well organized, patient, n...</td>\n",
       "      <td>5</td>\n",
       "    </tr>\n",
       "    <tr>\n",
       "      <th>4</th>\n",
       "      <td>93960</td>\n",
       "      <td>It was awesome. We did alot of different activ...</td>\n",
       "      <td>5</td>\n",
       "    </tr>\n",
       "  </tbody>\n",
       "</table>\n",
       "</div>"
      ],
      "text/plain": [
       "   Destination_link                                             Review  \\\n",
       "0             93960  Had a great week and we were so blessed to hav...   \n",
       "1             93960  Stunning places! Our tour guide was very infor...   \n",
       "2             93960  Our Chief Experience Officer Brianna Collins m...   \n",
       "3             93960  Rachel is great, so well organized, patient, n...   \n",
       "4             93960  It was awesome. We did alot of different activ...   \n",
       "\n",
       "   Sentiment Score  \n",
       "0                5  \n",
       "1                5  \n",
       "2                5  \n",
       "3                5  \n",
       "4                5  "
      ]
     },
     "execution_count": 4,
     "metadata": {},
     "output_type": "execute_result"
    }
   ],
   "source": [
    "df1 = pd.read_csv('USA Sentimental Scores for Reviews.csv')[['Destination_link', 'Review', 'Sentiment Score']]\n",
    "df1.head()"
   ]
  },
  {
   "cell_type": "code",
   "execution_count": 5,
   "metadata": {
    "id": "ymrmgowg2Bdw"
   },
   "outputs": [],
   "source": [
    "df1 = df1[df1['Sentiment Score'] <= 3]"
   ]
  },
  {
   "cell_type": "code",
   "execution_count": 6,
   "metadata": {
    "id": "3-60me8j4mVk"
   },
   "outputs": [],
   "source": [
    "final_df = pd.concat([df,df1], axis = 0)"
   ]
  },
  {
   "cell_type": "code",
   "execution_count": 7,
   "metadata": {
    "colab": {
     "base_uri": "https://localhost:8080/"
    },
    "id": "ByzgzPvD4mgZ",
    "outputId": "d8514190-7f20-4267-cd12-52de6ff4bf80"
   },
   "outputs": [
    {
     "data": {
      "text/plain": [
       "(2202, 3)"
      ]
     },
     "execution_count": 7,
     "metadata": {},
     "output_type": "execute_result"
    }
   ],
   "source": [
    "final_df.shape"
   ]
  },
  {
   "cell_type": "code",
   "execution_count": 8,
   "metadata": {
    "colab": {
     "base_uri": "https://localhost:8080/"
    },
    "id": "woJ-mdPX4mpx",
    "outputId": "8853c12b-67fa-431b-cc7c-5c3515ce4c3a"
   },
   "outputs": [
    {
     "data": {
      "text/plain": [
       "Sentiment Score\n",
       "1      47\n",
       "2      92\n",
       "3     129\n",
       "4     238\n",
       "5    1696\n",
       "Name: Review, dtype: int64"
      ]
     },
     "execution_count": 8,
     "metadata": {},
     "output_type": "execute_result"
    }
   ],
   "source": [
    "final_df.groupby('Sentiment Score').count()['Review']"
   ]
  },
  {
   "cell_type": "code",
   "execution_count": 10,
   "metadata": {
    "colab": {
     "base_uri": "https://localhost:8080/",
     "height": 206
    },
    "id": "wq9sYmvq3cPF",
    "outputId": "6a9c2e9d-1e03-4564-8d15-f777475137f5"
   },
   "outputs": [
    {
     "data": {
      "text/html": [
       "<div>\n",
       "<style scoped>\n",
       "    .dataframe tbody tr th:only-of-type {\n",
       "        vertical-align: middle;\n",
       "    }\n",
       "\n",
       "    .dataframe tbody tr th {\n",
       "        vertical-align: top;\n",
       "    }\n",
       "\n",
       "    .dataframe thead th {\n",
       "        text-align: right;\n",
       "    }\n",
       "</style>\n",
       "<table border=\"1\" class=\"dataframe\">\n",
       "  <thead>\n",
       "    <tr style=\"text-align: right;\">\n",
       "      <th></th>\n",
       "      <th>Destination_link</th>\n",
       "      <th>Review</th>\n",
       "      <th>Scores</th>\n",
       "    </tr>\n",
       "  </thead>\n",
       "  <tbody>\n",
       "    <tr>\n",
       "      <th>0</th>\n",
       "      <td>129511</td>\n",
       "      <td>Norway was beautiful! The Guide and driver wer...</td>\n",
       "      <td>5</td>\n",
       "    </tr>\n",
       "    <tr>\n",
       "      <th>1</th>\n",
       "      <td>129511</td>\n",
       "      <td>Excellent thanks for the memories!!!</td>\n",
       "      <td>5</td>\n",
       "    </tr>\n",
       "    <tr>\n",
       "      <th>2</th>\n",
       "      <td>129511</td>\n",
       "      <td>A very good and enjoyable tour led by an excel...</td>\n",
       "      <td>4</td>\n",
       "    </tr>\n",
       "    <tr>\n",
       "      <th>3</th>\n",
       "      <td>129511</td>\n",
       "      <td>The trip itself is amazing: covers the most be...</td>\n",
       "      <td>5</td>\n",
       "    </tr>\n",
       "    <tr>\n",
       "      <th>4</th>\n",
       "      <td>129511</td>\n",
       "      <td>Our tour guide, Øivind, could not have been be...</td>\n",
       "      <td>5</td>\n",
       "    </tr>\n",
       "  </tbody>\n",
       "</table>\n",
       "</div>"
      ],
      "text/plain": [
       "   Destination_link                                             Review  Scores\n",
       "0            129511  Norway was beautiful! The Guide and driver wer...       5\n",
       "1            129511               Excellent thanks for the memories!!!       5\n",
       "2            129511  A very good and enjoyable tour led by an excel...       4\n",
       "3            129511  The trip itself is amazing: covers the most be...       5\n",
       "4            129511  Our tour guide, Øivind, could not have been be...       5"
      ]
     },
     "execution_count": 10,
     "metadata": {},
     "output_type": "execute_result"
    }
   ],
   "source": [
    "df2 = pd.read_csv('NorwayReviewScore.csv')\n",
    "df2.head()"
   ]
  },
  {
   "cell_type": "code",
   "execution_count": 11,
   "metadata": {
    "colab": {
     "base_uri": "https://localhost:8080/",
     "height": 206
    },
    "id": "8Hv6qAq32Bhk",
    "outputId": "e72787d0-1416-4fa6-f36c-1171e87d93a6"
   },
   "outputs": [
    {
     "data": {
      "text/html": [
       "<div>\n",
       "<style scoped>\n",
       "    .dataframe tbody tr th:only-of-type {\n",
       "        vertical-align: middle;\n",
       "    }\n",
       "\n",
       "    .dataframe tbody tr th {\n",
       "        vertical-align: top;\n",
       "    }\n",
       "\n",
       "    .dataframe thead th {\n",
       "        text-align: right;\n",
       "    }\n",
       "</style>\n",
       "<table border=\"1\" class=\"dataframe\">\n",
       "  <thead>\n",
       "    <tr style=\"text-align: right;\">\n",
       "      <th></th>\n",
       "      <th>Destination_link</th>\n",
       "      <th>Review</th>\n",
       "      <th>Sentiment Score</th>\n",
       "    </tr>\n",
       "  </thead>\n",
       "  <tbody>\n",
       "    <tr>\n",
       "      <th>0</th>\n",
       "      <td>129511</td>\n",
       "      <td>Norway was beautiful! The Guide and driver wer...</td>\n",
       "      <td>5</td>\n",
       "    </tr>\n",
       "    <tr>\n",
       "      <th>1</th>\n",
       "      <td>129511</td>\n",
       "      <td>Excellent thanks for the memories!!!</td>\n",
       "      <td>5</td>\n",
       "    </tr>\n",
       "    <tr>\n",
       "      <th>2</th>\n",
       "      <td>129511</td>\n",
       "      <td>A very good and enjoyable tour led by an excel...</td>\n",
       "      <td>4</td>\n",
       "    </tr>\n",
       "    <tr>\n",
       "      <th>3</th>\n",
       "      <td>129511</td>\n",
       "      <td>The trip itself is amazing: covers the most be...</td>\n",
       "      <td>5</td>\n",
       "    </tr>\n",
       "    <tr>\n",
       "      <th>4</th>\n",
       "      <td>129511</td>\n",
       "      <td>Our tour guide, Øivind, could not have been be...</td>\n",
       "      <td>5</td>\n",
       "    </tr>\n",
       "  </tbody>\n",
       "</table>\n",
       "</div>"
      ],
      "text/plain": [
       "   Destination_link                                             Review  \\\n",
       "0            129511  Norway was beautiful! The Guide and driver wer...   \n",
       "1            129511               Excellent thanks for the memories!!!   \n",
       "2            129511  A very good and enjoyable tour led by an excel...   \n",
       "3            129511  The trip itself is amazing: covers the most be...   \n",
       "4            129511  Our tour guide, Øivind, could not have been be...   \n",
       "\n",
       "   Sentiment Score  \n",
       "0                5  \n",
       "1                5  \n",
       "2                4  \n",
       "3                5  \n",
       "4                5  "
      ]
     },
     "execution_count": 11,
     "metadata": {},
     "output_type": "execute_result"
    }
   ],
   "source": [
    "df2 = df2.rename(columns={\"Scores\": \"Sentiment Score\"})\n",
    "df2.head()"
   ]
  },
  {
   "cell_type": "code",
   "execution_count": 12,
   "metadata": {
    "colab": {
     "base_uri": "https://localhost:8080/",
     "height": 1000
    },
    "id": "vJm7EZlb58US",
    "outputId": "c02bd08d-7860-4795-cfa7-ed5bc9148a28"
   },
   "outputs": [
    {
     "data": {
      "text/html": [
       "<div>\n",
       "<style scoped>\n",
       "    .dataframe tbody tr th:only-of-type {\n",
       "        vertical-align: middle;\n",
       "    }\n",
       "\n",
       "    .dataframe tbody tr th {\n",
       "        vertical-align: top;\n",
       "    }\n",
       "\n",
       "    .dataframe thead th {\n",
       "        text-align: right;\n",
       "    }\n",
       "</style>\n",
       "<table border=\"1\" class=\"dataframe\">\n",
       "  <thead>\n",
       "    <tr style=\"text-align: right;\">\n",
       "      <th></th>\n",
       "      <th>Destination_link</th>\n",
       "      <th>Review</th>\n",
       "      <th>Sentiment Score</th>\n",
       "    </tr>\n",
       "  </thead>\n",
       "  <tbody>\n",
       "    <tr>\n",
       "      <th>2</th>\n",
       "      <td>129511</td>\n",
       "      <td>A very good and enjoyable tour led by an excel...</td>\n",
       "      <td>4</td>\n",
       "    </tr>\n",
       "    <tr>\n",
       "      <th>7</th>\n",
       "      <td>129511</td>\n",
       "      <td>On the go, but we enjoyed sumptuous buffet bre...</td>\n",
       "      <td>4</td>\n",
       "    </tr>\n",
       "    <tr>\n",
       "      <th>8</th>\n",
       "      <td>129511</td>\n",
       "      <td>Found the guide to be very organized, on sched...</td>\n",
       "      <td>4</td>\n",
       "    </tr>\n",
       "    <tr>\n",
       "      <th>11</th>\n",
       "      <td>115430</td>\n",
       "      <td>Would love options for hotel and clear explana...</td>\n",
       "      <td>3</td>\n",
       "    </tr>\n",
       "    <tr>\n",
       "      <th>12</th>\n",
       "      <td>115430</td>\n",
       "      <td>The tour itself was great, but the description...</td>\n",
       "      <td>3</td>\n",
       "    </tr>\n",
       "    <tr>\n",
       "      <th>...</th>\n",
       "      <td>...</td>\n",
       "      <td>...</td>\n",
       "      <td>...</td>\n",
       "    </tr>\n",
       "    <tr>\n",
       "      <th>247</th>\n",
       "      <td>231551</td>\n",
       "      <td>Our guide was pleasant, helpful, easy to get a...</td>\n",
       "      <td>3</td>\n",
       "    </tr>\n",
       "    <tr>\n",
       "      <th>252</th>\n",
       "      <td>240476</td>\n",
       "      <td>The cabins were nice, the staff were very good...</td>\n",
       "      <td>4</td>\n",
       "    </tr>\n",
       "    <tr>\n",
       "      <th>253</th>\n",
       "      <td>240476</td>\n",
       "      <td>The tour was very well executed and the only c...</td>\n",
       "      <td>4</td>\n",
       "    </tr>\n",
       "    <tr>\n",
       "      <th>254</th>\n",
       "      <td>132517</td>\n",
       "      <td>This tour was something new for my family (4 p...</td>\n",
       "      <td>4</td>\n",
       "    </tr>\n",
       "    <tr>\n",
       "      <th>256</th>\n",
       "      <td>205805</td>\n",
       "      <td>Our guide was pleasant, helpful, easy to get a...</td>\n",
       "      <td>3</td>\n",
       "    </tr>\n",
       "  </tbody>\n",
       "</table>\n",
       "<p>81 rows × 3 columns</p>\n",
       "</div>"
      ],
      "text/plain": [
       "     Destination_link                                             Review  \\\n",
       "2              129511  A very good and enjoyable tour led by an excel...   \n",
       "7              129511  On the go, but we enjoyed sumptuous buffet bre...   \n",
       "8              129511  Found the guide to be very organized, on sched...   \n",
       "11             115430  Would love options for hotel and clear explana...   \n",
       "12             115430  The tour itself was great, but the description...   \n",
       "..                ...                                                ...   \n",
       "247            231551  Our guide was pleasant, helpful, easy to get a...   \n",
       "252            240476  The cabins were nice, the staff were very good...   \n",
       "253            240476  The tour was very well executed and the only c...   \n",
       "254            132517  This tour was something new for my family (4 p...   \n",
       "256            205805  Our guide was pleasant, helpful, easy to get a...   \n",
       "\n",
       "     Sentiment Score  \n",
       "2                  4  \n",
       "7                  4  \n",
       "8                  4  \n",
       "11                 3  \n",
       "12                 3  \n",
       "..               ...  \n",
       "247                3  \n",
       "252                4  \n",
       "253                4  \n",
       "254                4  \n",
       "256                3  \n",
       "\n",
       "[81 rows x 3 columns]"
      ]
     },
     "execution_count": 12,
     "metadata": {},
     "output_type": "execute_result"
    }
   ],
   "source": [
    "df2 = df2[df2['Sentiment Score'] <= 4]\n",
    "df2"
   ]
  },
  {
   "cell_type": "code",
   "execution_count": 13,
   "metadata": {
    "id": "j1vYT4ZT58Ra"
   },
   "outputs": [],
   "source": [
    "final_df = pd.concat([final_df,df2], axis = 0)"
   ]
  },
  {
   "cell_type": "code",
   "execution_count": 14,
   "metadata": {
    "colab": {
     "base_uri": "https://localhost:8080/"
    },
    "id": "21k9A3vp58N0",
    "outputId": "fd66c0ba-52a4-4f60-e950-bf863b5ebb9d"
   },
   "outputs": [
    {
     "data": {
      "text/plain": [
       "Sentiment Score\n",
       "1      53\n",
       "2     102\n",
       "3     150\n",
       "4     282\n",
       "5    1696\n",
       "Name: Review, dtype: int64"
      ]
     },
     "execution_count": 14,
     "metadata": {},
     "output_type": "execute_result"
    }
   ],
   "source": [
    "final_df.groupby('Sentiment Score').count()['Review']"
   ]
  },
  {
   "cell_type": "code",
   "execution_count": 15,
   "metadata": {
    "colab": {
     "background_save": true,
     "base_uri": "https://localhost:8080/",
     "height": 345
    },
    "id": "XsMwGSfa58Ky",
    "outputId": "028f0f93-42a5-49cb-986e-782f7711868a"
   },
   "outputs": [
    {
     "data": {
      "text/html": [
       "<div>\n",
       "<style scoped>\n",
       "    .dataframe tbody tr th:only-of-type {\n",
       "        vertical-align: middle;\n",
       "    }\n",
       "\n",
       "    .dataframe tbody tr th {\n",
       "        vertical-align: top;\n",
       "    }\n",
       "\n",
       "    .dataframe thead th {\n",
       "        text-align: right;\n",
       "    }\n",
       "</style>\n",
       "<table border=\"1\" class=\"dataframe\">\n",
       "  <thead>\n",
       "    <tr style=\"text-align: right;\">\n",
       "      <th></th>\n",
       "      <th>Unnamed: 0.1</th>\n",
       "      <th>index</th>\n",
       "      <th>Unnamed: 0</th>\n",
       "      <th>Destination_link</th>\n",
       "      <th>Review</th>\n",
       "      <th>Sentiment Score</th>\n",
       "    </tr>\n",
       "  </thead>\n",
       "  <tbody>\n",
       "    <tr>\n",
       "      <th>0</th>\n",
       "      <td>0</td>\n",
       "      <td>0</td>\n",
       "      <td>0</td>\n",
       "      <td>119449</td>\n",
       "      <td>Awesome experience. The tour was very balanced...</td>\n",
       "      <td>5</td>\n",
       "    </tr>\n",
       "    <tr>\n",
       "      <th>1</th>\n",
       "      <td>1</td>\n",
       "      <td>1</td>\n",
       "      <td>1</td>\n",
       "      <td>119449</td>\n",
       "      <td>I’ve just had the most amazing 12 days in Sri ...</td>\n",
       "      <td>5</td>\n",
       "    </tr>\n",
       "    <tr>\n",
       "      <th>2</th>\n",
       "      <td>2</td>\n",
       "      <td>2</td>\n",
       "      <td>2</td>\n",
       "      <td>119449</td>\n",
       "      <td>Best tour I’ve been on by far! (And I’ve done ...</td>\n",
       "      <td>5</td>\n",
       "    </tr>\n",
       "    <tr>\n",
       "      <th>3</th>\n",
       "      <td>3</td>\n",
       "      <td>3</td>\n",
       "      <td>3</td>\n",
       "      <td>119449</td>\n",
       "      <td>A well organised and fun tour, in an incredibl...</td>\n",
       "      <td>4</td>\n",
       "    </tr>\n",
       "    <tr>\n",
       "      <th>4</th>\n",
       "      <td>4</td>\n",
       "      <td>4</td>\n",
       "      <td>4</td>\n",
       "      <td>119449</td>\n",
       "      <td>I had the most amazing trip to Sri Lanka. This...</td>\n",
       "      <td>5</td>\n",
       "    </tr>\n",
       "  </tbody>\n",
       "</table>\n",
       "</div>"
      ],
      "text/plain": [
       "   Unnamed: 0.1  index  Unnamed: 0  Destination_link  \\\n",
       "0             0      0           0            119449   \n",
       "1             1      1           1            119449   \n",
       "2             2      2           2            119449   \n",
       "3             3      3           3            119449   \n",
       "4             4      4           4            119449   \n",
       "\n",
       "                                              Review  Sentiment Score  \n",
       "0  Awesome experience. The tour was very balanced...                5  \n",
       "1  I’ve just had the most amazing 12 days in Sri ...                5  \n",
       "2  Best tour I’ve been on by far! (And I’ve done ...                5  \n",
       "3  A well organised and fun tour, in an incredibl...                4  \n",
       "4  I had the most amazing trip to Sri Lanka. This...                5  "
      ]
     },
     "execution_count": 15,
     "metadata": {},
     "output_type": "execute_result"
    }
   ],
   "source": [
    "df3 = pd.read_csv('Srilamka Sentimental Scores for Reviews.csv')\n",
    "df3.head()"
   ]
  },
  {
   "cell_type": "code",
   "execution_count": 16,
   "metadata": {
    "id": "8TIJvKSq58Hb",
    "scrolled": true
   },
   "outputs": [
    {
     "data": {
      "text/html": [
       "<div>\n",
       "<style scoped>\n",
       "    .dataframe tbody tr th:only-of-type {\n",
       "        vertical-align: middle;\n",
       "    }\n",
       "\n",
       "    .dataframe tbody tr th {\n",
       "        vertical-align: top;\n",
       "    }\n",
       "\n",
       "    .dataframe thead th {\n",
       "        text-align: right;\n",
       "    }\n",
       "</style>\n",
       "<table border=\"1\" class=\"dataframe\">\n",
       "  <thead>\n",
       "    <tr style=\"text-align: right;\">\n",
       "      <th></th>\n",
       "      <th>Unnamed: 0.1</th>\n",
       "      <th>index</th>\n",
       "      <th>Unnamed: 0</th>\n",
       "      <th>Destination_link</th>\n",
       "      <th>Review</th>\n",
       "      <th>Sentiment Score</th>\n",
       "    </tr>\n",
       "  </thead>\n",
       "  <tbody>\n",
       "    <tr>\n",
       "      <th>3</th>\n",
       "      <td>3</td>\n",
       "      <td>3</td>\n",
       "      <td>3</td>\n",
       "      <td>119449</td>\n",
       "      <td>A well organised and fun tour, in an incredibl...</td>\n",
       "      <td>4</td>\n",
       "    </tr>\n",
       "    <tr>\n",
       "      <th>11</th>\n",
       "      <td>11</td>\n",
       "      <td>11</td>\n",
       "      <td>11</td>\n",
       "      <td>98680</td>\n",
       "      <td>The tour itself was very varied and super plan...</td>\n",
       "      <td>4</td>\n",
       "    </tr>\n",
       "    <tr>\n",
       "      <th>19</th>\n",
       "      <td>19</td>\n",
       "      <td>19</td>\n",
       "      <td>19</td>\n",
       "      <td>98680</td>\n",
       "      <td>Das es sich sehr lohnt, da man viel sieht. Abe...</td>\n",
       "      <td>3</td>\n",
       "    </tr>\n",
       "    <tr>\n",
       "      <th>20</th>\n",
       "      <td>20</td>\n",
       "      <td>20</td>\n",
       "      <td>20</td>\n",
       "      <td>82881</td>\n",
       "      <td>I'm only giving two stars because the guide an...</td>\n",
       "      <td>2</td>\n",
       "    </tr>\n",
       "    <tr>\n",
       "      <th>21</th>\n",
       "      <td>21</td>\n",
       "      <td>21</td>\n",
       "      <td>21</td>\n",
       "      <td>82881</td>\n",
       "      <td>The tour was perfect for my needs. Day in Kand...</td>\n",
       "      <td>3</td>\n",
       "    </tr>\n",
       "    <tr>\n",
       "      <th>...</th>\n",
       "      <td>...</td>\n",
       "      <td>...</td>\n",
       "      <td>...</td>\n",
       "      <td>...</td>\n",
       "      <td>...</td>\n",
       "      <td>...</td>\n",
       "    </tr>\n",
       "    <tr>\n",
       "      <th>1322</th>\n",
       "      <td>1322</td>\n",
       "      <td>1322</td>\n",
       "      <td>1322</td>\n",
       "      <td>238721</td>\n",
       "      <td>The hotels were nice. The last Hotel was very ...</td>\n",
       "      <td>4</td>\n",
       "    </tr>\n",
       "    <tr>\n",
       "      <th>1325</th>\n",
       "      <td>1325</td>\n",
       "      <td>1325</td>\n",
       "      <td>1325</td>\n",
       "      <td>238595</td>\n",
       "      <td>The hotels were nice. The last Hotel was very ...</td>\n",
       "      <td>4</td>\n",
       "    </tr>\n",
       "    <tr>\n",
       "      <th>1329</th>\n",
       "      <td>1329</td>\n",
       "      <td>1329</td>\n",
       "      <td>1329</td>\n",
       "      <td>178583</td>\n",
       "      <td>We booked a 7 days tour around the island with...</td>\n",
       "      <td>4</td>\n",
       "    </tr>\n",
       "    <tr>\n",
       "      <th>1335</th>\n",
       "      <td>1335</td>\n",
       "      <td>1335</td>\n",
       "      <td>1335</td>\n",
       "      <td>178583</td>\n",
       "      <td>Myself and my sister were part of the tour in ...</td>\n",
       "      <td>4</td>\n",
       "    </tr>\n",
       "    <tr>\n",
       "      <th>1349</th>\n",
       "      <td>1349</td>\n",
       "      <td>1349</td>\n",
       "      <td>1349</td>\n",
       "      <td>226528</td>\n",
       "      <td>Interesting place, but some of the infrastruct...</td>\n",
       "      <td>3</td>\n",
       "    </tr>\n",
       "  </tbody>\n",
       "</table>\n",
       "<p>266 rows × 6 columns</p>\n",
       "</div>"
      ],
      "text/plain": [
       "      Unnamed: 0.1  index  Unnamed: 0  Destination_link  \\\n",
       "3                3      3           3            119449   \n",
       "11              11     11          11             98680   \n",
       "19              19     19          19             98680   \n",
       "20              20     20          20             82881   \n",
       "21              21     21          21             82881   \n",
       "...            ...    ...         ...               ...   \n",
       "1322          1322   1322        1322            238721   \n",
       "1325          1325   1325        1325            238595   \n",
       "1329          1329   1329        1329            178583   \n",
       "1335          1335   1335        1335            178583   \n",
       "1349          1349   1349        1349            226528   \n",
       "\n",
       "                                                 Review  Sentiment Score  \n",
       "3     A well organised and fun tour, in an incredibl...                4  \n",
       "11    The tour itself was very varied and super plan...                4  \n",
       "19    Das es sich sehr lohnt, da man viel sieht. Abe...                3  \n",
       "20    I'm only giving two stars because the guide an...                2  \n",
       "21    The tour was perfect for my needs. Day in Kand...                3  \n",
       "...                                                 ...              ...  \n",
       "1322  The hotels were nice. The last Hotel was very ...                4  \n",
       "1325  The hotels were nice. The last Hotel was very ...                4  \n",
       "1329  We booked a 7 days tour around the island with...                4  \n",
       "1335  Myself and my sister were part of the tour in ...                4  \n",
       "1349  Interesting place, but some of the infrastruct...                3  \n",
       "\n",
       "[266 rows x 6 columns]"
      ]
     },
     "execution_count": 16,
     "metadata": {},
     "output_type": "execute_result"
    }
   ],
   "source": [
    "df3 = df3[df3['Sentiment Score'] <= 4]\n",
    "df3"
   ]
  },
  {
   "cell_type": "code",
   "execution_count": 17,
   "metadata": {},
   "outputs": [
    {
     "data": {
      "text/plain": [
       "Sentiment Score\n",
       "1     19\n",
       "2     25\n",
       "3     62\n",
       "4    160\n",
       "Name: Review, dtype: int64"
      ]
     },
     "execution_count": 17,
     "metadata": {},
     "output_type": "execute_result"
    }
   ],
   "source": [
    "df3.groupby('Sentiment Score').count()['Review']"
   ]
  },
  {
   "cell_type": "code",
   "execution_count": 18,
   "metadata": {},
   "outputs": [
    {
     "data": {
      "text/plain": [
       "Sentiment Score\n",
       "1      72\n",
       "2     127\n",
       "3     212\n",
       "4     442\n",
       "5    1696\n",
       "Name: Review, dtype: int64"
      ]
     },
     "execution_count": 18,
     "metadata": {},
     "output_type": "execute_result"
    }
   ],
   "source": [
    "final_df = pd.concat([final_df,df3], axis = 0)\n",
    "final_df.groupby('Sentiment Score').count()['Review']"
   ]
  },
  {
   "cell_type": "code",
   "execution_count": 19,
   "metadata": {},
   "outputs": [
    {
     "data": {
      "text/html": [
       "<div>\n",
       "<style scoped>\n",
       "    .dataframe tbody tr th:only-of-type {\n",
       "        vertical-align: middle;\n",
       "    }\n",
       "\n",
       "    .dataframe tbody tr th {\n",
       "        vertical-align: top;\n",
       "    }\n",
       "\n",
       "    .dataframe thead th {\n",
       "        text-align: right;\n",
       "    }\n",
       "</style>\n",
       "<table border=\"1\" class=\"dataframe\">\n",
       "  <thead>\n",
       "    <tr style=\"text-align: right;\">\n",
       "      <th></th>\n",
       "      <th>Destination_link</th>\n",
       "      <th>Review</th>\n",
       "      <th>Sentiment Score</th>\n",
       "    </tr>\n",
       "  </thead>\n",
       "  <tbody>\n",
       "    <tr>\n",
       "      <th>0</th>\n",
       "      <td>82244</td>\n",
       "      <td>x                                             ...</td>\n",
       "      <td>5</td>\n",
       "    </tr>\n",
       "    <tr>\n",
       "      <th>1</th>\n",
       "      <td>82244</td>\n",
       "      <td>It was a great tour, well executed!</td>\n",
       "      <td>5</td>\n",
       "    </tr>\n",
       "    <tr>\n",
       "      <th>2</th>\n",
       "      <td>82244</td>\n",
       "      <td>Knowledgeable tour guide - excellent bus drive...</td>\n",
       "      <td>5</td>\n",
       "    </tr>\n",
       "    <tr>\n",
       "      <th>3</th>\n",
       "      <td>82244</td>\n",
       "      <td>We appreciated seeing the snow-covered Rocky M...</td>\n",
       "      <td>5</td>\n",
       "    </tr>\n",
       "    <tr>\n",
       "      <th>4</th>\n",
       "      <td>82244</td>\n",
       "      <td>Great time very good ,guide and driver</td>\n",
       "      <td>5</td>\n",
       "    </tr>\n",
       "  </tbody>\n",
       "</table>\n",
       "</div>"
      ],
      "text/plain": [
       "   Destination_link                                             Review  \\\n",
       "0             82244  x                                             ...   \n",
       "1             82244                It was a great tour, well executed!   \n",
       "2             82244  Knowledgeable tour guide - excellent bus drive...   \n",
       "3             82244  We appreciated seeing the snow-covered Rocky M...   \n",
       "4             82244             Great time very good ,guide and driver   \n",
       "\n",
       "   Sentiment Score  \n",
       "0                5  \n",
       "1                5  \n",
       "2                5  \n",
       "3                5  \n",
       "4                5  "
      ]
     },
     "execution_count": 19,
     "metadata": {},
     "output_type": "execute_result"
    }
   ],
   "source": [
    "df1 = pd.read_csv('Canada Sentimental Scores for Reviews.csv')[['Destination_link', 'Review', 'Sentiment Score']]\n",
    "df1.head()"
   ]
  },
  {
   "cell_type": "code",
   "execution_count": 20,
   "metadata": {
    "scrolled": true
   },
   "outputs": [
    {
     "data": {
      "text/html": [
       "<div>\n",
       "<style scoped>\n",
       "    .dataframe tbody tr th:only-of-type {\n",
       "        vertical-align: middle;\n",
       "    }\n",
       "\n",
       "    .dataframe tbody tr th {\n",
       "        vertical-align: top;\n",
       "    }\n",
       "\n",
       "    .dataframe thead th {\n",
       "        text-align: right;\n",
       "    }\n",
       "</style>\n",
       "<table border=\"1\" class=\"dataframe\">\n",
       "  <thead>\n",
       "    <tr style=\"text-align: right;\">\n",
       "      <th></th>\n",
       "      <th>Destination_link</th>\n",
       "      <th>Review</th>\n",
       "      <th>Sentiment Score</th>\n",
       "    </tr>\n",
       "  </thead>\n",
       "  <tbody>\n",
       "    <tr>\n",
       "      <th>6</th>\n",
       "      <td>82244</td>\n",
       "      <td>This review rating is about my experiences wit...</td>\n",
       "      <td>2</td>\n",
       "    </tr>\n",
       "    <tr>\n",
       "      <th>7</th>\n",
       "      <td>82244</td>\n",
       "      <td>This rating is a review of Tour Radar and my e...</td>\n",
       "      <td>3</td>\n",
       "    </tr>\n",
       "    <tr>\n",
       "      <th>9</th>\n",
       "      <td>82244</td>\n",
       "      <td>The trip of a lifetime. Very sad for it to end.</td>\n",
       "      <td>2</td>\n",
       "    </tr>\n",
       "    <tr>\n",
       "      <th>11</th>\n",
       "      <td>178350</td>\n",
       "      <td>Our tour guide and group were amazing. He was ...</td>\n",
       "      <td>2</td>\n",
       "    </tr>\n",
       "    <tr>\n",
       "      <th>23</th>\n",
       "      <td>98838</td>\n",
       "      <td>Our tour guide jafar took us of the beaten tra...</td>\n",
       "      <td>4</td>\n",
       "    </tr>\n",
       "    <tr>\n",
       "      <th>...</th>\n",
       "      <td>...</td>\n",
       "      <td>...</td>\n",
       "      <td>...</td>\n",
       "    </tr>\n",
       "    <tr>\n",
       "      <th>1344</th>\n",
       "      <td>183657</td>\n",
       "      <td>This was our first tour and we enjoyed it very...</td>\n",
       "      <td>4</td>\n",
       "    </tr>\n",
       "    <tr>\n",
       "      <th>1345</th>\n",
       "      <td>183657</td>\n",
       "      <td>Cosmos favoured those who bought tickets for m...</td>\n",
       "      <td>2</td>\n",
       "    </tr>\n",
       "    <tr>\n",
       "      <th>1346</th>\n",
       "      <td>183657</td>\n",
       "      <td>The tour , the guide and the driver was exelen...</td>\n",
       "      <td>4</td>\n",
       "    </tr>\n",
       "    <tr>\n",
       "      <th>1351</th>\n",
       "      <td>84186</td>\n",
       "      <td>Trip interrupted by COVID. Trying to reach som...</td>\n",
       "      <td>1</td>\n",
       "    </tr>\n",
       "    <tr>\n",
       "      <th>1353</th>\n",
       "      <td>84186</td>\n",
       "      <td>Great scenery, tour director, coach driver, lo...</td>\n",
       "      <td>3</td>\n",
       "    </tr>\n",
       "  </tbody>\n",
       "</table>\n",
       "<p>477 rows × 3 columns</p>\n",
       "</div>"
      ],
      "text/plain": [
       "      Destination_link                                             Review  \\\n",
       "6                82244  This review rating is about my experiences wit...   \n",
       "7                82244  This rating is a review of Tour Radar and my e...   \n",
       "9                82244    The trip of a lifetime. Very sad for it to end.   \n",
       "11              178350  Our tour guide and group were amazing. He was ...   \n",
       "23               98838  Our tour guide jafar took us of the beaten tra...   \n",
       "...                ...                                                ...   \n",
       "1344            183657  This was our first tour and we enjoyed it very...   \n",
       "1345            183657  Cosmos favoured those who bought tickets for m...   \n",
       "1346            183657  The tour , the guide and the driver was exelen...   \n",
       "1351             84186  Trip interrupted by COVID. Trying to reach som...   \n",
       "1353             84186  Great scenery, tour director, coach driver, lo...   \n",
       "\n",
       "      Sentiment Score  \n",
       "6                   2  \n",
       "7                   3  \n",
       "9                   2  \n",
       "11                  2  \n",
       "23                  4  \n",
       "...               ...  \n",
       "1344                4  \n",
       "1345                2  \n",
       "1346                4  \n",
       "1351                1  \n",
       "1353                3  \n",
       "\n",
       "[477 rows x 3 columns]"
      ]
     },
     "execution_count": 20,
     "metadata": {},
     "output_type": "execute_result"
    }
   ],
   "source": [
    "df1 = df1[df1['Sentiment Score'] <= 4]\n",
    "df1"
   ]
  },
  {
   "cell_type": "code",
   "execution_count": 22,
   "metadata": {},
   "outputs": [
    {
     "data": {
      "text/html": [
       "<div>\n",
       "<style scoped>\n",
       "    .dataframe tbody tr th:only-of-type {\n",
       "        vertical-align: middle;\n",
       "    }\n",
       "\n",
       "    .dataframe tbody tr th {\n",
       "        vertical-align: top;\n",
       "    }\n",
       "\n",
       "    .dataframe thead th {\n",
       "        text-align: right;\n",
       "    }\n",
       "</style>\n",
       "<table border=\"1\" class=\"dataframe\">\n",
       "  <thead>\n",
       "    <tr style=\"text-align: right;\">\n",
       "      <th></th>\n",
       "      <th>Destination_link</th>\n",
       "      <th>Review</th>\n",
       "      <th>Sentiment Score</th>\n",
       "    </tr>\n",
       "  </thead>\n",
       "  <tbody>\n",
       "    <tr>\n",
       "      <th>168</th>\n",
       "      <td>82330</td>\n",
       "      <td>Do not include Ottawa as a tour site, it was a...</td>\n",
       "      <td>1</td>\n",
       "    </tr>\n",
       "    <tr>\n",
       "      <th>192</th>\n",
       "      <td>51555</td>\n",
       "      <td>The lake cruise was cancelled due to weather c...</td>\n",
       "      <td>1</td>\n",
       "    </tr>\n",
       "    <tr>\n",
       "      <th>200</th>\n",
       "      <td>106388</td>\n",
       "      <td>This tour was an amazing adventure. First time...</td>\n",
       "      <td>1</td>\n",
       "    </tr>\n",
       "    <tr>\n",
       "      <th>204</th>\n",
       "      <td>106388</td>\n",
       "      <td>Go!!!! I have convinced my cousin and she can’...</td>\n",
       "      <td>1</td>\n",
       "    </tr>\n",
       "    <tr>\n",
       "      <th>215</th>\n",
       "      <td>51558</td>\n",
       "      <td>The lake cruise was cancelled due to weather c...</td>\n",
       "      <td>1</td>\n",
       "    </tr>\n",
       "    <tr>\n",
       "      <th>387</th>\n",
       "      <td>199077</td>\n",
       "      <td>Trip interrupted by COVID. Trying to reach som...</td>\n",
       "      <td>1</td>\n",
       "    </tr>\n",
       "    <tr>\n",
       "      <th>411</th>\n",
       "      <td>216588</td>\n",
       "      <td>Definitely do not recommend. Was not worth all...</td>\n",
       "      <td>1</td>\n",
       "    </tr>\n",
       "    <tr>\n",
       "      <th>484</th>\n",
       "      <td>52279</td>\n",
       "      <td>Cosmos tour Western Canada, inside passage.  M...</td>\n",
       "      <td>1</td>\n",
       "    </tr>\n",
       "    <tr>\n",
       "      <th>503</th>\n",
       "      <td>124825</td>\n",
       "      <td>This tour was not as advertised and was a poor...</td>\n",
       "      <td>1</td>\n",
       "    </tr>\n",
       "    <tr>\n",
       "      <th>519</th>\n",
       "      <td>209297</td>\n",
       "      <td>Trip interrupted by COVID. Trying to reach som...</td>\n",
       "      <td>1</td>\n",
       "    </tr>\n",
       "    <tr>\n",
       "      <th>537</th>\n",
       "      <td>78145</td>\n",
       "      <td>This tour was terrible. While the website stat...</td>\n",
       "      <td>1</td>\n",
       "    </tr>\n",
       "    <tr>\n",
       "      <th>539</th>\n",
       "      <td>84454</td>\n",
       "      <td>Cosmos tour Western Canada, inside passage.  M...</td>\n",
       "      <td>1</td>\n",
       "    </tr>\n",
       "    <tr>\n",
       "      <th>548</th>\n",
       "      <td>114881</td>\n",
       "      <td>The motel we stayed at (Days Inn) did not have...</td>\n",
       "      <td>1</td>\n",
       "    </tr>\n",
       "    <tr>\n",
       "      <th>583</th>\n",
       "      <td>218964</td>\n",
       "      <td>Do not travel with this company!  We booked bo...</td>\n",
       "      <td>1</td>\n",
       "    </tr>\n",
       "    <tr>\n",
       "      <th>629</th>\n",
       "      <td>83738</td>\n",
       "      <td>The lake cruise was cancelled due to weather c...</td>\n",
       "      <td>1</td>\n",
       "    </tr>\n",
       "    <tr>\n",
       "      <th>767</th>\n",
       "      <td>218962</td>\n",
       "      <td>Do not travel with this company!  We booked bo...</td>\n",
       "      <td>1</td>\n",
       "    </tr>\n",
       "    <tr>\n",
       "      <th>856</th>\n",
       "      <td>221883</td>\n",
       "      <td>Do not travel with this company!  We booked bo...</td>\n",
       "      <td>1</td>\n",
       "    </tr>\n",
       "    <tr>\n",
       "      <th>861</th>\n",
       "      <td>221857</td>\n",
       "      <td>Do not travel with this company!  We booked bo...</td>\n",
       "      <td>1</td>\n",
       "    </tr>\n",
       "    <tr>\n",
       "      <th>901</th>\n",
       "      <td>205210</td>\n",
       "      <td>Do not include Ottawa as a tour site, it was a...</td>\n",
       "      <td>1</td>\n",
       "    </tr>\n",
       "    <tr>\n",
       "      <th>916</th>\n",
       "      <td>186488</td>\n",
       "      <td>Very poor tour leader and all main attractions...</td>\n",
       "      <td>1</td>\n",
       "    </tr>\n",
       "    <tr>\n",
       "      <th>1070</th>\n",
       "      <td>240295</td>\n",
       "      <td>Do not include Ottawa as a tour site, it was a...</td>\n",
       "      <td>1</td>\n",
       "    </tr>\n",
       "    <tr>\n",
       "      <th>1182</th>\n",
       "      <td>100130</td>\n",
       "      <td>Unforgettable experiences!!!</td>\n",
       "      <td>1</td>\n",
       "    </tr>\n",
       "    <tr>\n",
       "      <th>1250</th>\n",
       "      <td>221858</td>\n",
       "      <td>Do not travel with this company!  We booked bo...</td>\n",
       "      <td>1</td>\n",
       "    </tr>\n",
       "    <tr>\n",
       "      <th>1351</th>\n",
       "      <td>84186</td>\n",
       "      <td>Trip interrupted by COVID. Trying to reach som...</td>\n",
       "      <td>1</td>\n",
       "    </tr>\n",
       "  </tbody>\n",
       "</table>\n",
       "</div>"
      ],
      "text/plain": [
       "      Destination_link                                             Review  \\\n",
       "168              82330  Do not include Ottawa as a tour site, it was a...   \n",
       "192              51555  The lake cruise was cancelled due to weather c...   \n",
       "200             106388  This tour was an amazing adventure. First time...   \n",
       "204             106388  Go!!!! I have convinced my cousin and she can’...   \n",
       "215              51558  The lake cruise was cancelled due to weather c...   \n",
       "387             199077  Trip interrupted by COVID. Trying to reach som...   \n",
       "411             216588  Definitely do not recommend. Was not worth all...   \n",
       "484              52279  Cosmos tour Western Canada, inside passage.  M...   \n",
       "503             124825  This tour was not as advertised and was a poor...   \n",
       "519             209297  Trip interrupted by COVID. Trying to reach som...   \n",
       "537              78145  This tour was terrible. While the website stat...   \n",
       "539              84454  Cosmos tour Western Canada, inside passage.  M...   \n",
       "548             114881  The motel we stayed at (Days Inn) did not have...   \n",
       "583             218964  Do not travel with this company!  We booked bo...   \n",
       "629              83738  The lake cruise was cancelled due to weather c...   \n",
       "767             218962  Do not travel with this company!  We booked bo...   \n",
       "856             221883  Do not travel with this company!  We booked bo...   \n",
       "861             221857  Do not travel with this company!  We booked bo...   \n",
       "901             205210  Do not include Ottawa as a tour site, it was a...   \n",
       "916             186488  Very poor tour leader and all main attractions...   \n",
       "1070            240295  Do not include Ottawa as a tour site, it was a...   \n",
       "1182            100130                       Unforgettable experiences!!!   \n",
       "1250            221858  Do not travel with this company!  We booked bo...   \n",
       "1351             84186  Trip interrupted by COVID. Trying to reach som...   \n",
       "\n",
       "      Sentiment Score  \n",
       "168                 1  \n",
       "192                 1  \n",
       "200                 1  \n",
       "204                 1  \n",
       "215                 1  \n",
       "387                 1  \n",
       "411                 1  \n",
       "484                 1  \n",
       "503                 1  \n",
       "519                 1  \n",
       "537                 1  \n",
       "539                 1  \n",
       "548                 1  \n",
       "583                 1  \n",
       "629                 1  \n",
       "767                 1  \n",
       "856                 1  \n",
       "861                 1  \n",
       "901                 1  \n",
       "916                 1  \n",
       "1070                1  \n",
       "1182                1  \n",
       "1250                1  \n",
       "1351                1  "
      ]
     },
     "execution_count": 22,
     "metadata": {},
     "output_type": "execute_result"
    }
   ],
   "source": [
    "df1[df1['Sentiment Score'] <= 1]"
   ]
  },
  {
   "cell_type": "code",
   "execution_count": 26,
   "metadata": {},
   "outputs": [
    {
     "data": {
      "text/plain": [
       "44"
      ]
     },
     "execution_count": 26,
     "metadata": {},
     "output_type": "execute_result"
    }
   ],
   "source": [
    "len(df1[df1['Sentiment Score'] == 2])"
   ]
  },
  {
   "cell_type": "code",
   "execution_count": 21,
   "metadata": {},
   "outputs": [
    {
     "data": {
      "text/plain": [
       "Sentiment Score\n",
       "1      96\n",
       "2     171\n",
       "3     315\n",
       "4     748\n",
       "5    1696\n",
       "Name: Review, dtype: int64"
      ]
     },
     "execution_count": 21,
     "metadata": {},
     "output_type": "execute_result"
    }
   ],
   "source": [
    "final_df = pd.concat([final_df,df1], axis = 0)\n",
    "final_df.groupby('Sentiment Score').count()['Review']"
   ]
  },
  {
   "cell_type": "code",
   "execution_count": 27,
   "metadata": {},
   "outputs": [
    {
     "data": {
      "text/plain": [
       "(3026, 6)"
      ]
     },
     "execution_count": 27,
     "metadata": {},
     "output_type": "execute_result"
    }
   ],
   "source": [
    "final_df.shape"
   ]
  },
  {
   "cell_type": "markdown",
   "metadata": {},
   "source": [
    "### Let's make the final df with each category have 200 records "
   ]
  },
  {
   "cell_type": "code",
   "execution_count": 39,
   "metadata": {
    "scrolled": true
   },
   "outputs": [
    {
     "name": "stdout",
     "output_type": "stream",
     "text": [
      "(96, 3)\n"
     ]
    },
    {
     "data": {
      "text/html": [
       "<div>\n",
       "<style scoped>\n",
       "    .dataframe tbody tr th:only-of-type {\n",
       "        vertical-align: middle;\n",
       "    }\n",
       "\n",
       "    .dataframe tbody tr th {\n",
       "        vertical-align: top;\n",
       "    }\n",
       "\n",
       "    .dataframe thead th {\n",
       "        text-align: right;\n",
       "    }\n",
       "</style>\n",
       "<table border=\"1\" class=\"dataframe\">\n",
       "  <thead>\n",
       "    <tr style=\"text-align: right;\">\n",
       "      <th></th>\n",
       "      <th>Destination_link</th>\n",
       "      <th>Review</th>\n",
       "      <th>Sentiment Score</th>\n",
       "    </tr>\n",
       "  </thead>\n",
       "  <tbody>\n",
       "    <tr>\n",
       "      <th>222</th>\n",
       "      <td>158815</td>\n",
       "      <td>I agree with previous reviews:  Swastik must p...</td>\n",
       "      <td>1</td>\n",
       "    </tr>\n",
       "    <tr>\n",
       "      <th>275</th>\n",
       "      <td>136983</td>\n",
       "      <td>An incredible trip - shame it was only 8 days!...</td>\n",
       "      <td>1</td>\n",
       "    </tr>\n",
       "    <tr>\n",
       "      <th>376</th>\n",
       "      <td>111427</td>\n",
       "      <td>I like whole experience but Jaipur. Elephant v...</td>\n",
       "      <td>1</td>\n",
       "    </tr>\n",
       "    <tr>\n",
       "      <th>675</th>\n",
       "      <td>80984</td>\n",
       "      <td>The tour has many extra payments that you are ...</td>\n",
       "      <td>1</td>\n",
       "    </tr>\n",
       "    <tr>\n",
       "      <th>680</th>\n",
       "      <td>80984</td>\n",
       "      <td>The guide us Delhi was horrible.  His facts we...</td>\n",
       "      <td>1</td>\n",
       "    </tr>\n",
       "  </tbody>\n",
       "</table>\n",
       "</div>"
      ],
      "text/plain": [
       "     Destination_link                                             Review  \\\n",
       "222            158815  I agree with previous reviews:  Swastik must p...   \n",
       "275            136983  An incredible trip - shame it was only 8 days!...   \n",
       "376            111427  I like whole experience but Jaipur. Elephant v...   \n",
       "675             80984  The tour has many extra payments that you are ...   \n",
       "680             80984  The guide us Delhi was horrible.  His facts we...   \n",
       "\n",
       "     Sentiment Score  \n",
       "222                1  \n",
       "275                1  \n",
       "376                1  \n",
       "675                1  \n",
       "680                1  "
      ]
     },
     "execution_count": 39,
     "metadata": {},
     "output_type": "execute_result"
    }
   ],
   "source": [
    "df1 = final_df[final_df['Sentiment Score'] == 1][['Destination_link', 'Review', 'Sentiment Score']]\n",
    "print(df1.shape)\n",
    "df1.head()"
   ]
  },
  {
   "cell_type": "code",
   "execution_count": 40,
   "metadata": {},
   "outputs": [
    {
     "name": "stdout",
     "output_type": "stream",
     "text": [
      "(171, 3)\n"
     ]
    },
    {
     "data": {
      "text/html": [
       "<div>\n",
       "<style scoped>\n",
       "    .dataframe tbody tr th:only-of-type {\n",
       "        vertical-align: middle;\n",
       "    }\n",
       "\n",
       "    .dataframe tbody tr th {\n",
       "        vertical-align: top;\n",
       "    }\n",
       "\n",
       "    .dataframe thead th {\n",
       "        text-align: right;\n",
       "    }\n",
       "</style>\n",
       "<table border=\"1\" class=\"dataframe\">\n",
       "  <thead>\n",
       "    <tr style=\"text-align: right;\">\n",
       "      <th></th>\n",
       "      <th>Destination_link</th>\n",
       "      <th>Review</th>\n",
       "      <th>Sentiment Score</th>\n",
       "    </tr>\n",
       "  </thead>\n",
       "  <tbody>\n",
       "    <tr>\n",
       "      <th>51</th>\n",
       "      <td>113375</td>\n",
       "      <td>Unfortunately due to the cornavirus and the ca...</td>\n",
       "      <td>2</td>\n",
       "    </tr>\n",
       "    <tr>\n",
       "      <th>76</th>\n",
       "      <td>116073</td>\n",
       "      <td>The only thing is guides took us to most expen...</td>\n",
       "      <td>2</td>\n",
       "    </tr>\n",
       "    <tr>\n",
       "      <th>82</th>\n",
       "      <td>5518</td>\n",
       "      <td>There's a lot of wasted time on this tour, bot...</td>\n",
       "      <td>2</td>\n",
       "    </tr>\n",
       "    <tr>\n",
       "      <th>124</th>\n",
       "      <td>2580</td>\n",
       "      <td>I would love to say this tour was a great intr...</td>\n",
       "      <td>2</td>\n",
       "    </tr>\n",
       "    <tr>\n",
       "      <th>134</th>\n",
       "      <td>105050</td>\n",
       "      <td>I found Bout India through an internet search....</td>\n",
       "      <td>2</td>\n",
       "    </tr>\n",
       "  </tbody>\n",
       "</table>\n",
       "</div>"
      ],
      "text/plain": [
       "     Destination_link                                             Review  \\\n",
       "51             113375  Unfortunately due to the cornavirus and the ca...   \n",
       "76             116073  The only thing is guides took us to most expen...   \n",
       "82               5518  There's a lot of wasted time on this tour, bot...   \n",
       "124              2580  I would love to say this tour was a great intr...   \n",
       "134            105050  I found Bout India through an internet search....   \n",
       "\n",
       "     Sentiment Score  \n",
       "51                 2  \n",
       "76                 2  \n",
       "82                 2  \n",
       "124                2  \n",
       "134                2  "
      ]
     },
     "execution_count": 40,
     "metadata": {},
     "output_type": "execute_result"
    }
   ],
   "source": [
    "df2 = final_df[final_df['Sentiment Score'] == 2][['Destination_link', 'Review', 'Sentiment Score']]\n",
    "print(df2.shape)\n",
    "df2.head()"
   ]
  },
  {
   "cell_type": "code",
   "execution_count": 51,
   "metadata": {},
   "outputs": [
    {
     "name": "stdout",
     "output_type": "stream",
     "text": [
      "(315, 3)\n"
     ]
    },
    {
     "data": {
      "text/html": [
       "<div>\n",
       "<style scoped>\n",
       "    .dataframe tbody tr th:only-of-type {\n",
       "        vertical-align: middle;\n",
       "    }\n",
       "\n",
       "    .dataframe tbody tr th {\n",
       "        vertical-align: top;\n",
       "    }\n",
       "\n",
       "    .dataframe thead th {\n",
       "        text-align: right;\n",
       "    }\n",
       "</style>\n",
       "<table border=\"1\" class=\"dataframe\">\n",
       "  <thead>\n",
       "    <tr style=\"text-align: right;\">\n",
       "      <th></th>\n",
       "      <th>Destination_link</th>\n",
       "      <th>Review</th>\n",
       "      <th>Sentiment Score</th>\n",
       "    </tr>\n",
       "  </thead>\n",
       "  <tbody>\n",
       "    <tr>\n",
       "      <th>18</th>\n",
       "      <td>5505</td>\n",
       "      <td>Overall a good experience.  With the exception...</td>\n",
       "      <td>3</td>\n",
       "    </tr>\n",
       "    <tr>\n",
       "      <th>37</th>\n",
       "      <td>88881</td>\n",
       "      <td>I firstly have to say the driver Pramod has be...</td>\n",
       "      <td>3</td>\n",
       "    </tr>\n",
       "    <tr>\n",
       "      <th>44</th>\n",
       "      <td>110498</td>\n",
       "      <td>Ajit Singh, my driver, was very considerate an...</td>\n",
       "      <td>3</td>\n",
       "    </tr>\n",
       "    <tr>\n",
       "      <th>52</th>\n",
       "      <td>113375</td>\n",
       "      <td>Guides and drivers were very good. Hotels had ...</td>\n",
       "      <td>3</td>\n",
       "    </tr>\n",
       "    <tr>\n",
       "      <th>103</th>\n",
       "      <td>62422</td>\n",
       "      <td>This trip was challenging. The overall itinera...</td>\n",
       "      <td>3</td>\n",
       "    </tr>\n",
       "  </tbody>\n",
       "</table>\n",
       "</div>"
      ],
      "text/plain": [
       "     Destination_link                                             Review  \\\n",
       "18               5505  Overall a good experience.  With the exception...   \n",
       "37              88881  I firstly have to say the driver Pramod has be...   \n",
       "44             110498  Ajit Singh, my driver, was very considerate an...   \n",
       "52             113375  Guides and drivers were very good. Hotels had ...   \n",
       "103             62422  This trip was challenging. The overall itinera...   \n",
       "\n",
       "     Sentiment Score  \n",
       "18                 3  \n",
       "37                 3  \n",
       "44                 3  \n",
       "52                 3  \n",
       "103                3  "
      ]
     },
     "execution_count": 51,
     "metadata": {},
     "output_type": "execute_result"
    }
   ],
   "source": [
    "df3 = final_df[final_df['Sentiment Score'] == 3][['Destination_link', 'Review', 'Sentiment Score']]\n",
    "print(df3.shape)\n",
    "df3.head()"
   ]
  },
  {
   "cell_type": "code",
   "execution_count": 52,
   "metadata": {},
   "outputs": [
    {
     "data": {
      "text/plain": [
       "(250, 3)"
      ]
     },
     "execution_count": 52,
     "metadata": {},
     "output_type": "execute_result"
    }
   ],
   "source": [
    "df3 = df3.iloc[:250]\n",
    "df3.shape"
   ]
  },
  {
   "cell_type": "code",
   "execution_count": 53,
   "metadata": {},
   "outputs": [
    {
     "name": "stdout",
     "output_type": "stream",
     "text": [
      "(748, 3)\n"
     ]
    },
    {
     "data": {
      "text/html": [
       "<div>\n",
       "<style scoped>\n",
       "    .dataframe tbody tr th:only-of-type {\n",
       "        vertical-align: middle;\n",
       "    }\n",
       "\n",
       "    .dataframe tbody tr th {\n",
       "        vertical-align: top;\n",
       "    }\n",
       "\n",
       "    .dataframe thead th {\n",
       "        text-align: right;\n",
       "    }\n",
       "</style>\n",
       "<table border=\"1\" class=\"dataframe\">\n",
       "  <thead>\n",
       "    <tr style=\"text-align: right;\">\n",
       "      <th></th>\n",
       "      <th>Destination_link</th>\n",
       "      <th>Review</th>\n",
       "      <th>Sentiment Score</th>\n",
       "    </tr>\n",
       "  </thead>\n",
       "  <tbody>\n",
       "    <tr>\n",
       "      <th>3</th>\n",
       "      <td>9376</td>\n",
       "      <td>Overall it was such a surreal and fun experien...</td>\n",
       "      <td>4</td>\n",
       "    </tr>\n",
       "    <tr>\n",
       "      <th>5</th>\n",
       "      <td>9376</td>\n",
       "      <td>Was one of the best tours I’ve ever joined. Th...</td>\n",
       "      <td>4</td>\n",
       "    </tr>\n",
       "    <tr>\n",
       "      <th>8</th>\n",
       "      <td>9376</td>\n",
       "      <td>The tour covers the basics but myself and frie...</td>\n",
       "      <td>4</td>\n",
       "    </tr>\n",
       "    <tr>\n",
       "      <th>9</th>\n",
       "      <td>9376</td>\n",
       "      <td>My Fiancé and I did the 8-day golden triangle ...</td>\n",
       "      <td>4</td>\n",
       "    </tr>\n",
       "    <tr>\n",
       "      <th>13</th>\n",
       "      <td>5505</td>\n",
       "      <td>I had a great experience. Overall enjoyed the ...</td>\n",
       "      <td>4</td>\n",
       "    </tr>\n",
       "  </tbody>\n",
       "</table>\n",
       "</div>"
      ],
      "text/plain": [
       "    Destination_link                                             Review  \\\n",
       "3               9376  Overall it was such a surreal and fun experien...   \n",
       "5               9376  Was one of the best tours I’ve ever joined. Th...   \n",
       "8               9376  The tour covers the basics but myself and frie...   \n",
       "9               9376  My Fiancé and I did the 8-day golden triangle ...   \n",
       "13              5505  I had a great experience. Overall enjoyed the ...   \n",
       "\n",
       "    Sentiment Score  \n",
       "3                 4  \n",
       "5                 4  \n",
       "8                 4  \n",
       "9                 4  \n",
       "13                4  "
      ]
     },
     "execution_count": 53,
     "metadata": {},
     "output_type": "execute_result"
    }
   ],
   "source": [
    "df4 = final_df[final_df['Sentiment Score'] == 4][['Destination_link', 'Review', 'Sentiment Score']]\n",
    "print(df4.shape)\n",
    "df4.head()"
   ]
  },
  {
   "cell_type": "code",
   "execution_count": 54,
   "metadata": {},
   "outputs": [
    {
     "data": {
      "text/plain": [
       "(250, 3)"
      ]
     },
     "execution_count": 54,
     "metadata": {},
     "output_type": "execute_result"
    }
   ],
   "source": [
    "df4 = df4.iloc[:250]\n",
    "df4.shape"
   ]
  },
  {
   "cell_type": "code",
   "execution_count": 55,
   "metadata": {
    "scrolled": true
   },
   "outputs": [
    {
     "name": "stdout",
     "output_type": "stream",
     "text": [
      "(1696, 3)\n"
     ]
    },
    {
     "data": {
      "text/html": [
       "<div>\n",
       "<style scoped>\n",
       "    .dataframe tbody tr th:only-of-type {\n",
       "        vertical-align: middle;\n",
       "    }\n",
       "\n",
       "    .dataframe tbody tr th {\n",
       "        vertical-align: top;\n",
       "    }\n",
       "\n",
       "    .dataframe thead th {\n",
       "        text-align: right;\n",
       "    }\n",
       "</style>\n",
       "<table border=\"1\" class=\"dataframe\">\n",
       "  <thead>\n",
       "    <tr style=\"text-align: right;\">\n",
       "      <th></th>\n",
       "      <th>Destination_link</th>\n",
       "      <th>Review</th>\n",
       "      <th>Sentiment Score</th>\n",
       "    </tr>\n",
       "  </thead>\n",
       "  <tbody>\n",
       "    <tr>\n",
       "      <th>0</th>\n",
       "      <td>9376</td>\n",
       "      <td>Thank you for help making my honeymoon a memor...</td>\n",
       "      <td>5</td>\n",
       "    </tr>\n",
       "    <tr>\n",
       "      <th>1</th>\n",
       "      <td>9376</td>\n",
       "      <td>Our guide really made the tour great. The dest...</td>\n",
       "      <td>5</td>\n",
       "    </tr>\n",
       "    <tr>\n",
       "      <th>2</th>\n",
       "      <td>9376</td>\n",
       "      <td>I really appreciate everything that Travel Tal...</td>\n",
       "      <td>5</td>\n",
       "    </tr>\n",
       "    <tr>\n",
       "      <th>4</th>\n",
       "      <td>9376</td>\n",
       "      <td>I really enjoyed me tour it was excellent. I m...</td>\n",
       "      <td>5</td>\n",
       "    </tr>\n",
       "    <tr>\n",
       "      <th>6</th>\n",
       "      <td>9376</td>\n",
       "      <td>So many wonderful places visited in 8 days , w...</td>\n",
       "      <td>5</td>\n",
       "    </tr>\n",
       "  </tbody>\n",
       "</table>\n",
       "</div>"
      ],
      "text/plain": [
       "   Destination_link                                             Review  \\\n",
       "0              9376  Thank you for help making my honeymoon a memor...   \n",
       "1              9376  Our guide really made the tour great. The dest...   \n",
       "2              9376  I really appreciate everything that Travel Tal...   \n",
       "4              9376  I really enjoyed me tour it was excellent. I m...   \n",
       "6              9376  So many wonderful places visited in 8 days , w...   \n",
       "\n",
       "   Sentiment Score  \n",
       "0                5  \n",
       "1                5  \n",
       "2                5  \n",
       "4                5  \n",
       "6                5  "
      ]
     },
     "execution_count": 55,
     "metadata": {},
     "output_type": "execute_result"
    }
   ],
   "source": [
    "df5 = final_df[final_df['Sentiment Score'] == 5][['Destination_link', 'Review', 'Sentiment Score']]\n",
    "print(df5.shape)\n",
    "df5.head()"
   ]
  },
  {
   "cell_type": "code",
   "execution_count": 56,
   "metadata": {},
   "outputs": [
    {
     "data": {
      "text/plain": [
       "(250, 3)"
      ]
     },
     "execution_count": 56,
     "metadata": {},
     "output_type": "execute_result"
    }
   ],
   "source": [
    "df5 = df5.iloc[:250]\n",
    "df5.shape"
   ]
  },
  {
   "cell_type": "markdown",
   "metadata": {},
   "source": [
    "### Combine them all into One Data Frame "
   ]
  },
  {
   "cell_type": "code",
   "execution_count": 57,
   "metadata": {},
   "outputs": [
    {
     "data": {
      "text/html": [
       "<div>\n",
       "<style scoped>\n",
       "    .dataframe tbody tr th:only-of-type {\n",
       "        vertical-align: middle;\n",
       "    }\n",
       "\n",
       "    .dataframe tbody tr th {\n",
       "        vertical-align: top;\n",
       "    }\n",
       "\n",
       "    .dataframe thead th {\n",
       "        text-align: right;\n",
       "    }\n",
       "</style>\n",
       "<table border=\"1\" class=\"dataframe\">\n",
       "  <thead>\n",
       "    <tr style=\"text-align: right;\">\n",
       "      <th></th>\n",
       "      <th>Destination_link</th>\n",
       "      <th>Review</th>\n",
       "      <th>Sentiment Score</th>\n",
       "    </tr>\n",
       "  </thead>\n",
       "  <tbody>\n",
       "    <tr>\n",
       "      <th>222</th>\n",
       "      <td>158815</td>\n",
       "      <td>I agree with previous reviews:  Swastik must p...</td>\n",
       "      <td>1</td>\n",
       "    </tr>\n",
       "    <tr>\n",
       "      <th>275</th>\n",
       "      <td>136983</td>\n",
       "      <td>An incredible trip - shame it was only 8 days!...</td>\n",
       "      <td>1</td>\n",
       "    </tr>\n",
       "    <tr>\n",
       "      <th>376</th>\n",
       "      <td>111427</td>\n",
       "      <td>I like whole experience but Jaipur. Elephant v...</td>\n",
       "      <td>1</td>\n",
       "    </tr>\n",
       "    <tr>\n",
       "      <th>675</th>\n",
       "      <td>80984</td>\n",
       "      <td>The tour has many extra payments that you are ...</td>\n",
       "      <td>1</td>\n",
       "    </tr>\n",
       "    <tr>\n",
       "      <th>680</th>\n",
       "      <td>80984</td>\n",
       "      <td>The guide us Delhi was horrible.  His facts we...</td>\n",
       "      <td>1</td>\n",
       "    </tr>\n",
       "  </tbody>\n",
       "</table>\n",
       "</div>"
      ],
      "text/plain": [
       "     Destination_link                                             Review  \\\n",
       "222            158815  I agree with previous reviews:  Swastik must p...   \n",
       "275            136983  An incredible trip - shame it was only 8 days!...   \n",
       "376            111427  I like whole experience but Jaipur. Elephant v...   \n",
       "675             80984  The tour has many extra payments that you are ...   \n",
       "680             80984  The guide us Delhi was horrible.  His facts we...   \n",
       "\n",
       "     Sentiment Score  \n",
       "222                1  \n",
       "275                1  \n",
       "376                1  \n",
       "675                1  \n",
       "680                1  "
      ]
     },
     "execution_count": 57,
     "metadata": {},
     "output_type": "execute_result"
    }
   ],
   "source": [
    "df = pd.concat([df1,df2,df3,df4,df5], axis = 0)\n",
    "df.head()"
   ]
  },
  {
   "cell_type": "code",
   "execution_count": 58,
   "metadata": {},
   "outputs": [
    {
     "data": {
      "text/plain": [
       "(1017, 3)"
      ]
     },
     "execution_count": 58,
     "metadata": {},
     "output_type": "execute_result"
    }
   ],
   "source": [
    "df.shape"
   ]
  },
  {
   "cell_type": "code",
   "execution_count": 60,
   "metadata": {},
   "outputs": [],
   "source": [
    "df.to_csv('Review Balanced Data set.csv')"
   ]
  }
 ],
 "metadata": {
  "colab": {
   "provenance": []
  },
  "kernelspec": {
   "display_name": "Python 3 (ipykernel)",
   "language": "python",
   "name": "python3"
  },
  "language_info": {
   "codemirror_mode": {
    "name": "ipython",
    "version": 3
   },
   "file_extension": ".py",
   "mimetype": "text/x-python",
   "name": "python",
   "nbconvert_exporter": "python",
   "pygments_lexer": "ipython3",
   "version": "3.9.12"
  }
 },
 "nbformat": 4,
 "nbformat_minor": 1
}
