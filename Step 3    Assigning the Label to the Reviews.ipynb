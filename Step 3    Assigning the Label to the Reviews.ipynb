{
 "cells": [
  {
   "cell_type": "code",
   "execution_count": null,
   "metadata": {
    "colab": {
     "base_uri": "https://localhost:8080/",
     "height": 130
    },
    "id": "88NjmpEbTbPb",
    "outputId": "8d621a15-18ef-4ec0-e0c7-8a04c63a6b44"
   },
   "outputs": [],
   "source": [
    "import pandas as pd "
   ]
  },
  {
   "cell_type": "code",
   "execution_count": null,
   "metadata": {
    "id": "dZ5z-84eTj7i"
   },
   "outputs": [],
   "source": []
  },
  {
   "cell_type": "code",
   "execution_count": null,
   "metadata": {
    "colab": {
     "base_uri": "https://localhost:8080/"
    },
    "id": "OXkIBP-maYAo",
    "outputId": "b5b351fd-db49-4f75-d446-988c31559ca5"
   },
   "outputs": [
    {
     "name": "stdout",
     "output_type": "stream",
     "text": [
      "Looking in indexes: https://pypi.org/simple, https://us-python.pkg.dev/colab-wheels/public/simple/\n",
      "Collecting transformers\n",
      "  Downloading transformers-4.28.1-py3-none-any.whl (7.0 MB)\n",
      "\u001b[2K     \u001b[90m━━━━━━━━━━━━━━━━━━━━━━━━━━━━━━━━━━━━━━━━\u001b[0m \u001b[32m7.0/7.0 MB\u001b[0m \u001b[31m67.2 MB/s\u001b[0m eta \u001b[36m0:00:00\u001b[0m\n",
      "\u001b[?25hRequirement already satisfied: regex!=2019.12.17 in /usr/local/lib/python3.10/dist-packages (from transformers) (2022.10.31)\n",
      "Requirement already satisfied: requests in /usr/local/lib/python3.10/dist-packages (from transformers) (2.27.1)\n",
      "Collecting tokenizers!=0.11.3,<0.14,>=0.11.1\n",
      "  Downloading tokenizers-0.13.3-cp310-cp310-manylinux_2_17_x86_64.manylinux2014_x86_64.whl (7.8 MB)\n",
      "\u001b[2K     \u001b[90m━━━━━━━━━━━━━━━━━━━━━━━━━━━━━━━━━━━━━━━━\u001b[0m \u001b[32m7.8/7.8 MB\u001b[0m \u001b[31m38.0 MB/s\u001b[0m eta \u001b[36m0:00:00\u001b[0m\n",
      "\u001b[?25hRequirement already satisfied: tqdm>=4.27 in /usr/local/lib/python3.10/dist-packages (from transformers) (4.65.0)\n",
      "Requirement already satisfied: packaging>=20.0 in /usr/local/lib/python3.10/dist-packages (from transformers) (23.1)\n",
      "Collecting huggingface-hub<1.0,>=0.11.0\n",
      "  Downloading huggingface_hub-0.14.1-py3-none-any.whl (224 kB)\n",
      "\u001b[2K     \u001b[90m━━━━━━━━━━━━━━━━━━━━━━━━━━━━━━━━━━━━━━\u001b[0m \u001b[32m224.5/224.5 kB\u001b[0m \u001b[31m26.1 MB/s\u001b[0m eta \u001b[36m0:00:00\u001b[0m\n",
      "\u001b[?25hRequirement already satisfied: filelock in /usr/local/lib/python3.10/dist-packages (from transformers) (3.12.0)\n",
      "Requirement already satisfied: pyyaml>=5.1 in /usr/local/lib/python3.10/dist-packages (from transformers) (6.0)\n",
      "Requirement already satisfied: numpy>=1.17 in /usr/local/lib/python3.10/dist-packages (from transformers) (1.22.4)\n",
      "Requirement already satisfied: typing-extensions>=3.7.4.3 in /usr/local/lib/python3.10/dist-packages (from huggingface-hub<1.0,>=0.11.0->transformers) (4.5.0)\n",
      "Requirement already satisfied: fsspec in /usr/local/lib/python3.10/dist-packages (from huggingface-hub<1.0,>=0.11.0->transformers) (2023.4.0)\n",
      "Requirement already satisfied: certifi>=2017.4.17 in /usr/local/lib/python3.10/dist-packages (from requests->transformers) (2022.12.7)\n",
      "Requirement already satisfied: idna<4,>=2.5 in /usr/local/lib/python3.10/dist-packages (from requests->transformers) (3.4)\n",
      "Requirement already satisfied: charset-normalizer~=2.0.0 in /usr/local/lib/python3.10/dist-packages (from requests->transformers) (2.0.12)\n",
      "Requirement already satisfied: urllib3<1.27,>=1.21.1 in /usr/local/lib/python3.10/dist-packages (from requests->transformers) (1.26.15)\n",
      "Installing collected packages: tokenizers, huggingface-hub, transformers\n",
      "Successfully installed huggingface-hub-0.14.1 tokenizers-0.13.3 transformers-4.28.1\n"
     ]
    }
   ],
   "source": [
    "!pip install transformers"
   ]
  },
  {
   "cell_type": "code",
   "execution_count": null,
   "metadata": {
    "id": "jKPPCyJOaexN"
   },
   "outputs": [],
   "source": [
    "from transformers import AutoTokenizer, AutoModelForSequenceClassification"
   ]
  },
  {
   "cell_type": "code",
   "execution_count": null,
   "metadata": {
    "colab": {
     "base_uri": "https://localhost:8080/"
    },
    "id": "4s88pHBRlCa_",
    "outputId": "b61b4caa-a97d-4897-cf89-b10cd65cf517"
   },
   "outputs": [
    {
     "name": "stdout",
     "output_type": "stream",
     "text": [
      "Looking in indexes: https://pypi.org/simple, https://us-python.pkg.dev/colab-wheels/public/simple/\n",
      "Requirement already satisfied: pandas in /usr/local/lib/python3.10/dist-packages (1.5.3)\n",
      "Requirement already satisfied: numpy in /usr/local/lib/python3.10/dist-packages (1.22.4)\n",
      "Requirement already satisfied: python-dateutil>=2.8.1 in /usr/local/lib/python3.10/dist-packages (from pandas) (2.8.2)\n",
      "Requirement already satisfied: pytz>=2020.1 in /usr/local/lib/python3.10/dist-packages (from pandas) (2022.7.1)\n",
      "Requirement already satisfied: six>=1.5 in /usr/local/lib/python3.10/dist-packages (from python-dateutil>=2.8.1->pandas) (1.16.0)\n"
     ]
    }
   ],
   "source": [
    "!pip install  pandas numpy"
   ]
  },
  {
   "cell_type": "code",
   "execution_count": null,
   "metadata": {
    "colab": {
     "base_uri": "https://localhost:8080/"
    },
    "id": "1efl0Gqandal",
    "outputId": "d532bb83-bbfd-4b41-d8a3-19fe4c0b3d69"
   },
   "outputs": [
    {
     "name": "stdout",
     "output_type": "stream",
     "text": [
      "Looking in indexes: https://pypi.org/simple, https://us-python.pkg.dev/colab-wheels/public/simple/\n",
      "Requirement already satisfied: torch in /usr/local/lib/python3.10/dist-packages (2.0.0+cu118)\n",
      "Requirement already satisfied: sympy in /usr/local/lib/python3.10/dist-packages (from torch) (1.11.1)\n",
      "Requirement already satisfied: triton==2.0.0 in /usr/local/lib/python3.10/dist-packages (from torch) (2.0.0)\n",
      "Requirement already satisfied: jinja2 in /usr/local/lib/python3.10/dist-packages (from torch) (3.1.2)\n",
      "Requirement already satisfied: filelock in /usr/local/lib/python3.10/dist-packages (from torch) (3.12.0)\n",
      "Requirement already satisfied: networkx in /usr/local/lib/python3.10/dist-packages (from torch) (3.1)\n",
      "Requirement already satisfied: typing-extensions in /usr/local/lib/python3.10/dist-packages (from torch) (4.5.0)\n",
      "Requirement already satisfied: cmake in /usr/local/lib/python3.10/dist-packages (from triton==2.0.0->torch) (3.25.2)\n",
      "Requirement already satisfied: lit in /usr/local/lib/python3.10/dist-packages (from triton==2.0.0->torch) (16.0.2)\n",
      "Requirement already satisfied: MarkupSafe>=2.0 in /usr/local/lib/python3.10/dist-packages (from jinja2->torch) (2.1.2)\n",
      "Requirement already satisfied: mpmath>=0.19 in /usr/local/lib/python3.10/dist-packages (from sympy->torch) (1.3.0)\n"
     ]
    }
   ],
   "source": [
    "! pip install torch"
   ]
  },
  {
   "cell_type": "code",
   "execution_count": null,
   "metadata": {
    "id": "vil57_wFTjyC"
   },
   "outputs": [],
   "source": [
    "import torch"
   ]
  },
  {
   "cell_type": "code",
   "execution_count": null,
   "metadata": {
    "colab": {
     "base_uri": "https://localhost:8080/",
     "height": 177,
     "referenced_widgets": [
      "07899d79617b447fb8ff2652aac3f9de",
      "27d098e0868b4d41a777794560fa8073",
      "bd9aa39a03874b57b3df424cced7eb9a",
      "2777e4f755854609936d81a4d599970d",
      "943e2f94dcf647e2b2252e102c929de6",
      "8f50938dfe6546a8b996abcf5b663a89",
      "06ef305ba4334d1c8668f1acff0a9c1b",
      "891ad266dce642468a90b360dce937eb",
      "1c44062b50cd45f4b9c1c073ebd30b53",
      "e2427ea28ade4bb48dc76d8ac3031f2a",
      "564827ebaa6c49f89fb6f417da2109fb",
      "e4a89eb0f6eb4db2b20f14e595a84466",
      "7275aa6ad9c64c668aacf598cdd9d41c",
      "5578ef618d3a45a0a1b7998ae4fe803a",
      "9c283d58a825491aa0c85ded62dac273",
      "2efd24899aec4cb59847cce5bf271baa",
      "4e5d4c8aea9045b6b292392238b3b806",
      "a136e1715f624ea8af576604924f9a2a",
      "328ddaab7a7948e0a343c28c4eec0ab3",
      "98c8c0904aa4418689b43be277ffc351",
      "c93e1ed39ebe42b68de786e49d363501",
      "43bd2a34d9854d90a467c593841093c9",
      "261c5312d8184a13bb481d16777a167f",
      "fa980ce467f948f3854576da6dd66fc2",
      "4f3baf5c734445f498b1e639d221ca30",
      "e1c48422d464448096946dc26b589d79",
      "943d7e7730ee4ccb81986446e9a4dc8d",
      "9d2cb90e49ad478bac93f1ddf6d0859f",
      "204ab9e06b714fbd99f92fdad56a0844",
      "6a020683e9c84626a2bcc04861be705c",
      "dfc13a553f544eed944806517a4c785d",
      "3aec502e4b1e42c8be0073f0734b353e",
      "c0085e2d0c4d4830a66339eaec1d4a61",
      "8e30961f9b1e4b97adef4fdc80aeef8a",
      "813ab37b20864e61aeeeeb29acf5550a",
      "bdd69e660b744eabaa6effa9624f2381",
      "caf92df458d4484494dfb5e0fc42f9f6",
      "a6deea8f67d541d8838c66710d99635f",
      "8dca954f4398473b95f7d40e7ae2a54b",
      "6aca52bc41ba48db81fde7ca6befe6e7",
      "2033c840af5f4e8891bda382af7cb08b",
      "1af9fefddef84d24bd0a8c36a1ad2e84",
      "674daca3588740bb96e959ad418da152",
      "cae4114a51a24b659d7702540688eac6",
      "cd76a7efef3a4bffa052e76ded8920ad",
      "f4c9ae6cc0e64aedbfe307db50a0ea21",
      "899b549364a5419788fd90dcc928dc8f",
      "61597f01821d4095b2e690dcd96f6cd6",
      "5382c2daa93541ba946c8bda77b3319d",
      "409f211810d34ce7b7deb76eb0d34a5a",
      "8d5bdcbd9f7d4025a3b6bd63abb75bb5",
      "91444d2c9ad1465eb76de17aeb0b8dbf",
      "55a33af74e674276ba072fc8dd7a95af",
      "c469202e326f4290bb09b8895e6a2af7",
      "300eb5b5c15042f58eac544e9752fd7e"
     ]
    },
    "id": "Xg2Hfo_Ma1nZ",
    "outputId": "aac19842-4cbb-4483-a79f-60f39cd97c9b"
   },
   "outputs": [
    {
     "data": {
      "application/vnd.jupyter.widget-view+json": {
       "model_id": "07899d79617b447fb8ff2652aac3f9de",
       "version_major": 2,
       "version_minor": 0
      },
      "text/plain": [
       "Downloading (…)okenizer_config.json:   0%|          | 0.00/39.0 [00:00<?, ?B/s]"
      ]
     },
     "metadata": {},
     "output_type": "display_data"
    },
    {
     "data": {
      "application/vnd.jupyter.widget-view+json": {
       "model_id": "e4a89eb0f6eb4db2b20f14e595a84466",
       "version_major": 2,
       "version_minor": 0
      },
      "text/plain": [
       "Downloading (…)lve/main/config.json:   0%|          | 0.00/953 [00:00<?, ?B/s]"
      ]
     },
     "metadata": {},
     "output_type": "display_data"
    },
    {
     "data": {
      "application/vnd.jupyter.widget-view+json": {
       "model_id": "261c5312d8184a13bb481d16777a167f",
       "version_major": 2,
       "version_minor": 0
      },
      "text/plain": [
       "Downloading (…)solve/main/vocab.txt:   0%|          | 0.00/872k [00:00<?, ?B/s]"
      ]
     },
     "metadata": {},
     "output_type": "display_data"
    },
    {
     "data": {
      "application/vnd.jupyter.widget-view+json": {
       "model_id": "8e30961f9b1e4b97adef4fdc80aeef8a",
       "version_major": 2,
       "version_minor": 0
      },
      "text/plain": [
       "Downloading (…)cial_tokens_map.json:   0%|          | 0.00/112 [00:00<?, ?B/s]"
      ]
     },
     "metadata": {},
     "output_type": "display_data"
    },
    {
     "data": {
      "application/vnd.jupyter.widget-view+json": {
       "model_id": "cd76a7efef3a4bffa052e76ded8920ad",
       "version_major": 2,
       "version_minor": 0
      },
      "text/plain": [
       "Downloading pytorch_model.bin:   0%|          | 0.00/669M [00:00<?, ?B/s]"
      ]
     },
     "metadata": {},
     "output_type": "display_data"
    }
   ],
   "source": [
    "tokenizer = AutoTokenizer.from_pretrained('nlptown/bert-base-multilingual-uncased-sentiment')\n",
    "model = AutoModelForSequenceClassification.from_pretrained('nlptown/bert-base-multilingual-uncased-sentiment')"
   ]
  },
  {
   "cell_type": "code",
   "execution_count": null,
   "metadata": {
    "id": "ZdrH2cJGVG2u"
   },
   "outputs": [],
   "source": [
    "import pandas as pd "
   ]
  },
  {
   "cell_type": "code",
   "execution_count": null,
   "metadata": {
    "id": "ZdiEK9qeVGf-"
   },
   "outputs": [],
   "source": [
    "df = pd.read_csv('IndiaReview.csv')"
   ]
  },
  {
   "cell_type": "code",
   "execution_count": null,
   "metadata": {
    "colab": {
     "base_uri": "https://localhost:8080/",
     "height": 206
    },
    "id": "GFVAB7dSVF42",
    "outputId": "49075f11-d813-4052-c7da-da1e7a6259e5"
   },
   "outputs": [
    {
     "data": {
      "text/html": [
       "\n",
       "  <div id=\"df-2e006a87-320a-4247-b3f9-792c671ac706\">\n",
       "    <div class=\"colab-df-container\">\n",
       "      <div>\n",
       "<style scoped>\n",
       "    .dataframe tbody tr th:only-of-type {\n",
       "        vertical-align: middle;\n",
       "    }\n",
       "\n",
       "    .dataframe tbody tr th {\n",
       "        vertical-align: top;\n",
       "    }\n",
       "\n",
       "    .dataframe thead th {\n",
       "        text-align: right;\n",
       "    }\n",
       "</style>\n",
       "<table border=\"1\" class=\"dataframe\">\n",
       "  <thead>\n",
       "    <tr style=\"text-align: right;\">\n",
       "      <th></th>\n",
       "      <th>Unnamed: 0</th>\n",
       "      <th>Destination_link</th>\n",
       "      <th>Review</th>\n",
       "    </tr>\n",
       "  </thead>\n",
       "  <tbody>\n",
       "    <tr>\n",
       "      <th>0</th>\n",
       "      <td>0</td>\n",
       "      <td>9376</td>\n",
       "      <td>Thank you for help making my honeymoon a memor...</td>\n",
       "    </tr>\n",
       "    <tr>\n",
       "      <th>1</th>\n",
       "      <td>1</td>\n",
       "      <td>9376</td>\n",
       "      <td>Our guide really made the tour great. The dest...</td>\n",
       "    </tr>\n",
       "    <tr>\n",
       "      <th>2</th>\n",
       "      <td>2</td>\n",
       "      <td>9376</td>\n",
       "      <td>I really appreciate everything that Travel Tal...</td>\n",
       "    </tr>\n",
       "    <tr>\n",
       "      <th>3</th>\n",
       "      <td>3</td>\n",
       "      <td>9376</td>\n",
       "      <td>Overall it was such a surreal and fun experien...</td>\n",
       "    </tr>\n",
       "    <tr>\n",
       "      <th>4</th>\n",
       "      <td>4</td>\n",
       "      <td>9376</td>\n",
       "      <td>I really enjoyed me tour it was excellent. I m...</td>\n",
       "    </tr>\n",
       "  </tbody>\n",
       "</table>\n",
       "</div>\n",
       "      <button class=\"colab-df-convert\" onclick=\"convertToInteractive('df-2e006a87-320a-4247-b3f9-792c671ac706')\"\n",
       "              title=\"Convert this dataframe to an interactive table.\"\n",
       "              style=\"display:none;\">\n",
       "        \n",
       "  <svg xmlns=\"http://www.w3.org/2000/svg\" height=\"24px\"viewBox=\"0 0 24 24\"\n",
       "       width=\"24px\">\n",
       "    <path d=\"M0 0h24v24H0V0z\" fill=\"none\"/>\n",
       "    <path d=\"M18.56 5.44l.94 2.06.94-2.06 2.06-.94-2.06-.94-.94-2.06-.94 2.06-2.06.94zm-11 1L8.5 8.5l.94-2.06 2.06-.94-2.06-.94L8.5 2.5l-.94 2.06-2.06.94zm10 10l.94 2.06.94-2.06 2.06-.94-2.06-.94-.94-2.06-.94 2.06-2.06.94z\"/><path d=\"M17.41 7.96l-1.37-1.37c-.4-.4-.92-.59-1.43-.59-.52 0-1.04.2-1.43.59L10.3 9.45l-7.72 7.72c-.78.78-.78 2.05 0 2.83L4 21.41c.39.39.9.59 1.41.59.51 0 1.02-.2 1.41-.59l7.78-7.78 2.81-2.81c.8-.78.8-2.07 0-2.86zM5.41 20L4 18.59l7.72-7.72 1.47 1.35L5.41 20z\"/>\n",
       "  </svg>\n",
       "      </button>\n",
       "      \n",
       "  <style>\n",
       "    .colab-df-container {\n",
       "      display:flex;\n",
       "      flex-wrap:wrap;\n",
       "      gap: 12px;\n",
       "    }\n",
       "\n",
       "    .colab-df-convert {\n",
       "      background-color: #E8F0FE;\n",
       "      border: none;\n",
       "      border-radius: 50%;\n",
       "      cursor: pointer;\n",
       "      display: none;\n",
       "      fill: #1967D2;\n",
       "      height: 32px;\n",
       "      padding: 0 0 0 0;\n",
       "      width: 32px;\n",
       "    }\n",
       "\n",
       "    .colab-df-convert:hover {\n",
       "      background-color: #E2EBFA;\n",
       "      box-shadow: 0px 1px 2px rgba(60, 64, 67, 0.3), 0px 1px 3px 1px rgba(60, 64, 67, 0.15);\n",
       "      fill: #174EA6;\n",
       "    }\n",
       "\n",
       "    [theme=dark] .colab-df-convert {\n",
       "      background-color: #3B4455;\n",
       "      fill: #D2E3FC;\n",
       "    }\n",
       "\n",
       "    [theme=dark] .colab-df-convert:hover {\n",
       "      background-color: #434B5C;\n",
       "      box-shadow: 0px 1px 3px 1px rgba(0, 0, 0, 0.15);\n",
       "      filter: drop-shadow(0px 1px 2px rgba(0, 0, 0, 0.3));\n",
       "      fill: #FFFFFF;\n",
       "    }\n",
       "  </style>\n",
       "\n",
       "      <script>\n",
       "        const buttonEl =\n",
       "          document.querySelector('#df-2e006a87-320a-4247-b3f9-792c671ac706 button.colab-df-convert');\n",
       "        buttonEl.style.display =\n",
       "          google.colab.kernel.accessAllowed ? 'block' : 'none';\n",
       "\n",
       "        async function convertToInteractive(key) {\n",
       "          const element = document.querySelector('#df-2e006a87-320a-4247-b3f9-792c671ac706');\n",
       "          const dataTable =\n",
       "            await google.colab.kernel.invokeFunction('convertToInteractive',\n",
       "                                                     [key], {});\n",
       "          if (!dataTable) return;\n",
       "\n",
       "          const docLinkHtml = 'Like what you see? Visit the ' +\n",
       "            '<a target=\"_blank\" href=https://colab.research.google.com/notebooks/data_table.ipynb>data table notebook</a>'\n",
       "            + ' to learn more about interactive tables.';\n",
       "          element.innerHTML = '';\n",
       "          dataTable['output_type'] = 'display_data';\n",
       "          await google.colab.output.renderOutput(dataTable, element);\n",
       "          const docLink = document.createElement('div');\n",
       "          docLink.innerHTML = docLinkHtml;\n",
       "          element.appendChild(docLink);\n",
       "        }\n",
       "      </script>\n",
       "    </div>\n",
       "  </div>\n",
       "  "
      ],
      "text/plain": [
       "   Unnamed: 0  Destination_link  \\\n",
       "0           0              9376   \n",
       "1           1              9376   \n",
       "2           2              9376   \n",
       "3           3              9376   \n",
       "4           4              9376   \n",
       "\n",
       "                                              Review  \n",
       "0  Thank you for help making my honeymoon a memor...  \n",
       "1  Our guide really made the tour great. The dest...  \n",
       "2  I really appreciate everything that Travel Tal...  \n",
       "3  Overall it was such a surreal and fun experien...  \n",
       "4  I really enjoyed me tour it was excellent. I m...  "
      ]
     },
     "execution_count": 28,
     "metadata": {},
     "output_type": "execute_result"
    }
   ],
   "source": [
    "df.head()"
   ]
  },
  {
   "cell_type": "code",
   "execution_count": null,
   "metadata": {
    "colab": {
     "base_uri": "https://localhost:8080/"
    },
    "id": "v5BPBXPxVFw8",
    "outputId": "281fc154-9710-44be-eda8-01b1796b9d89"
   },
   "outputs": [
    {
     "data": {
      "text/plain": [
       "2067"
      ]
     },
     "execution_count": 31,
     "metadata": {},
     "output_type": "execute_result"
    }
   ],
   "source": [
    "df.shape[0]"
   ]
  },
  {
   "cell_type": "code",
   "execution_count": null,
   "metadata": {
    "colab": {
     "base_uri": "https://localhost:8080/"
    },
    "id": "tnVmlIo2WY1k",
    "outputId": "05919d32-ee9a-4896-fbde-f2d111dfc675"
   },
   "outputs": [
    {
     "data": {
      "text/plain": [
       "Unnamed: 0          0\n",
       "Destination_link    0\n",
       "Review              2\n",
       "dtype: int64"
      ]
     },
     "execution_count": 32,
     "metadata": {},
     "output_type": "execute_result"
    }
   ],
   "source": [
    "df.isnull().sum()"
   ]
  },
  {
   "cell_type": "code",
   "execution_count": null,
   "metadata": {
    "id": "23c-eQiztsC0"
   },
   "outputs": [],
   "source": [
    "df = df.dropna()"
   ]
  },
  {
   "cell_type": "code",
   "execution_count": null,
   "metadata": {
    "id": "ngLYK7rgtzR_"
   },
   "outputs": [],
   "source": [
    "df.reset_index(inplace = True )"
   ]
  },
  {
   "cell_type": "code",
   "execution_count": null,
   "metadata": {
    "colab": {
     "base_uri": "https://localhost:8080/",
     "height": 35
    },
    "id": "ON9C_96HvzNV",
    "outputId": "1286e64a-5841-4b64-8ed2-a8c037c71c5d"
   },
   "outputs": [
    {
     "data": {
      "application/vnd.google.colaboratory.intrinsic+json": {
       "type": "string"
      },
      "text/plain": [
       "'Thanks Explore. I will be using you again'"
      ]
     },
     "execution_count": 35,
     "metadata": {},
     "output_type": "execute_result"
    }
   ],
   "source": [
    "df['Review'][1870]"
   ]
  },
  {
   "cell_type": "code",
   "execution_count": null,
   "metadata": {
    "id": "AQhKHYaj2X1B"
   },
   "outputs": [],
   "source": [
    "def sentimental_rattings(review):\n",
    "  token = tokenizer.encode(review, return_tensors= 'pt')\n",
    "  res = model(token)\n",
    "  return int(torch.argmax(res.logits))+1\n"
   ]
  },
  {
   "cell_type": "code",
   "execution_count": null,
   "metadata": {
    "id": "xFqU0FS7rbhL"
   },
   "outputs": [],
   "source": [
    "from tqdm import tqdm"
   ]
  },
  {
   "cell_type": "code",
   "execution_count": null,
   "metadata": {
    "colab": {
     "base_uri": "https://localhost:8080/"
    },
    "id": "7EIHbAfXqpu2",
    "outputId": "2b0b7c98-7187-45be-aa60-77a87d6b9352"
   },
   "outputs": [
    {
     "name": "stderr",
     "output_type": "stream",
     "text": [
      "\r",
      "  0%|          | 0/2065 [00:00<?, ?it/s]"
     ]
    },
    {
     "name": "stdout",
     "output_type": "stream",
     "text": [
      "0\n",
      "1\n"
     ]
    },
    {
     "name": "stderr",
     "output_type": "stream",
     "text": [
      "  0%|          | 3/2065 [00:00<04:08,  8.31it/s]"
     ]
    },
    {
     "name": "stdout",
     "output_type": "stream",
     "text": [
      "2\n",
      "3\n"
     ]
    },
    {
     "name": "stderr",
     "output_type": "stream",
     "text": [
      "  0%|          | 5/2065 [00:00<05:04,  6.76it/s]"
     ]
    },
    {
     "name": "stdout",
     "output_type": "stream",
     "text": [
      "4\n",
      "5\n"
     ]
    },
    {
     "name": "stderr",
     "output_type": "stream",
     "text": [
      "  0%|          | 7/2065 [00:00<04:57,  6.92it/s]"
     ]
    },
    {
     "name": "stdout",
     "output_type": "stream",
     "text": [
      "6\n",
      "7\n"
     ]
    },
    {
     "name": "stderr",
     "output_type": "stream",
     "text": [
      "  0%|          | 9/2065 [00:01<05:32,  6.19it/s]"
     ]
    },
    {
     "name": "stdout",
     "output_type": "stream",
     "text": [
      "8\n",
      "9\n"
     ]
    },
    {
     "name": "stderr",
     "output_type": "stream",
     "text": [
      "  1%|          | 11/2065 [00:01<05:52,  5.82it/s]"
     ]
    },
    {
     "name": "stdout",
     "output_type": "stream",
     "text": [
      "10\n",
      "11\n"
     ]
    },
    {
     "name": "stderr",
     "output_type": "stream",
     "text": [
      "  1%|          | 13/2065 [00:02<06:07,  5.59it/s]"
     ]
    },
    {
     "name": "stdout",
     "output_type": "stream",
     "text": [
      "12\n",
      "13\n"
     ]
    },
    {
     "name": "stderr",
     "output_type": "stream",
     "text": [
      "  1%|          | 15/2065 [00:02<05:45,  5.94it/s]"
     ]
    },
    {
     "name": "stdout",
     "output_type": "stream",
     "text": [
      "14\n",
      "15\n"
     ]
    },
    {
     "name": "stderr",
     "output_type": "stream",
     "text": [
      "  1%|          | 17/2065 [00:02<05:31,  6.18it/s]"
     ]
    },
    {
     "name": "stdout",
     "output_type": "stream",
     "text": [
      "16\n",
      "17\n"
     ]
    },
    {
     "name": "stderr",
     "output_type": "stream",
     "text": [
      "  1%|          | 19/2065 [00:02<05:12,  6.55it/s]"
     ]
    },
    {
     "name": "stdout",
     "output_type": "stream",
     "text": [
      "18\n",
      "19\n"
     ]
    },
    {
     "name": "stderr",
     "output_type": "stream",
     "text": [
      "  1%|          | 21/2065 [00:03<04:54,  6.95it/s]"
     ]
    },
    {
     "name": "stdout",
     "output_type": "stream",
     "text": [
      "20\n",
      "21\n"
     ]
    },
    {
     "name": "stderr",
     "output_type": "stream",
     "text": [
      "  1%|          | 23/2065 [00:03<05:27,  6.23it/s]"
     ]
    },
    {
     "name": "stdout",
     "output_type": "stream",
     "text": [
      "22\n",
      "23\n"
     ]
    },
    {
     "name": "stderr",
     "output_type": "stream",
     "text": [
      "  1%|          | 25/2065 [00:03<04:57,  6.86it/s]"
     ]
    },
    {
     "name": "stdout",
     "output_type": "stream",
     "text": [
      "24\n",
      "25\n"
     ]
    },
    {
     "name": "stderr",
     "output_type": "stream",
     "text": [
      "  1%|▏         | 27/2065 [00:04<05:24,  6.29it/s]"
     ]
    },
    {
     "name": "stdout",
     "output_type": "stream",
     "text": [
      "26\n",
      "27\n"
     ]
    },
    {
     "name": "stderr",
     "output_type": "stream",
     "text": [
      "\r",
      "  1%|▏         | 28/2065 [00:04<05:41,  5.96it/s]"
     ]
    },
    {
     "name": "stdout",
     "output_type": "stream",
     "text": [
      "28\n",
      "29\n"
     ]
    },
    {
     "name": "stderr",
     "output_type": "stream",
     "text": [
      "  2%|▏         | 31/2065 [00:04<05:05,  6.66it/s]"
     ]
    },
    {
     "name": "stdout",
     "output_type": "stream",
     "text": [
      "30\n",
      "31\n"
     ]
    },
    {
     "name": "stderr",
     "output_type": "stream",
     "text": [
      "  2%|▏         | 33/2065 [00:05<05:09,  6.56it/s]"
     ]
    },
    {
     "name": "stdout",
     "output_type": "stream",
     "text": [
      "32\n",
      "33\n"
     ]
    },
    {
     "name": "stderr",
     "output_type": "stream",
     "text": [
      "  2%|▏         | 35/2065 [00:05<05:27,  6.20it/s]"
     ]
    },
    {
     "name": "stdout",
     "output_type": "stream",
     "text": [
      "34\n",
      "35\n"
     ]
    },
    {
     "name": "stderr",
     "output_type": "stream",
     "text": [
      "  2%|▏         | 37/2065 [00:05<05:03,  6.67it/s]"
     ]
    },
    {
     "name": "stdout",
     "output_type": "stream",
     "text": [
      "36\n",
      "37\n"
     ]
    },
    {
     "name": "stderr",
     "output_type": "stream",
     "text": [
      "  2%|▏         | 40/2065 [00:06<04:13,  7.98it/s]"
     ]
    },
    {
     "name": "stdout",
     "output_type": "stream",
     "text": [
      "38\n",
      "39\n",
      "40\n"
     ]
    },
    {
     "name": "stderr",
     "output_type": "stream",
     "text": [
      "\r",
      "  2%|▏         | 41/2065 [00:06<04:40,  7.23it/s]"
     ]
    },
    {
     "name": "stdout",
     "output_type": "stream",
     "text": [
      "41\n",
      "42\n"
     ]
    },
    {
     "name": "stderr",
     "output_type": "stream",
     "text": [
      "  2%|▏         | 44/2065 [00:06<04:30,  7.48it/s]"
     ]
    },
    {
     "name": "stdout",
     "output_type": "stream",
     "text": [
      "43\n",
      "44\n"
     ]
    },
    {
     "name": "stderr",
     "output_type": "stream",
     "text": [
      "  2%|▏         | 46/2065 [00:07<05:21,  6.27it/s]"
     ]
    },
    {
     "name": "stdout",
     "output_type": "stream",
     "text": [
      "45\n",
      "46\n"
     ]
    },
    {
     "name": "stderr",
     "output_type": "stream",
     "text": [
      "  2%|▏         | 48/2065 [00:07<05:09,  6.51it/s]"
     ]
    },
    {
     "name": "stdout",
     "output_type": "stream",
     "text": [
      "47\n",
      "48\n"
     ]
    },
    {
     "name": "stderr",
     "output_type": "stream",
     "text": [
      "  2%|▏         | 50/2065 [00:07<05:12,  6.45it/s]"
     ]
    },
    {
     "name": "stdout",
     "output_type": "stream",
     "text": [
      "49\n",
      "50\n"
     ]
    },
    {
     "name": "stderr",
     "output_type": "stream",
     "text": [
      "  3%|▎         | 52/2065 [00:07<05:27,  6.15it/s]"
     ]
    },
    {
     "name": "stdout",
     "output_type": "stream",
     "text": [
      "51\n",
      "52\n"
     ]
    },
    {
     "name": "stderr",
     "output_type": "stream",
     "text": [
      "\r",
      "  3%|▎         | 53/2065 [00:08<05:02,  6.65it/s]"
     ]
    },
    {
     "name": "stdout",
     "output_type": "stream",
     "text": [
      "53\n",
      "54\n"
     ]
    },
    {
     "name": "stderr",
     "output_type": "stream",
     "text": [
      "  3%|▎         | 56/2065 [00:08<05:00,  6.70it/s]"
     ]
    },
    {
     "name": "stdout",
     "output_type": "stream",
     "text": [
      "55\n",
      "56\n"
     ]
    },
    {
     "name": "stderr",
     "output_type": "stream",
     "text": [
      "  3%|▎         | 58/2065 [00:08<05:04,  6.59it/s]"
     ]
    },
    {
     "name": "stdout",
     "output_type": "stream",
     "text": [
      "57\n",
      "58\n"
     ]
    },
    {
     "name": "stderr",
     "output_type": "stream",
     "text": [
      "\r",
      "  3%|▎         | 59/2065 [00:09<05:05,  6.56it/s]"
     ]
    },
    {
     "name": "stdout",
     "output_type": "stream",
     "text": [
      "59\n"
     ]
    },
    {
     "name": "stderr",
     "output_type": "stream",
     "text": [
      "  3%|▎         | 61/2065 [00:09<05:09,  6.48it/s]"
     ]
    },
    {
     "name": "stdout",
     "output_type": "stream",
     "text": [
      "60\n",
      "61\n"
     ]
    },
    {
     "name": "stderr",
     "output_type": "stream",
     "text": [
      "  3%|▎         | 63/2065 [00:09<06:07,  5.45it/s]"
     ]
    },
    {
     "name": "stdout",
     "output_type": "stream",
     "text": [
      "62\n"
     ]
    },
    {
     "name": "stderr",
     "output_type": "stream",
     "text": [
      "\r",
      "  3%|▎         | 64/2065 [00:09<05:30,  6.05it/s]"
     ]
    },
    {
     "name": "stdout",
     "output_type": "stream",
     "text": [
      "63\n",
      "64\n"
     ]
    },
    {
     "name": "stderr",
     "output_type": "stream",
     "text": [
      "  3%|▎         | 66/2065 [00:10<06:15,  5.33it/s]"
     ]
    },
    {
     "name": "stdout",
     "output_type": "stream",
     "text": [
      "65\n",
      "66\n"
     ]
    },
    {
     "name": "stderr",
     "output_type": "stream",
     "text": [
      "\r",
      "  3%|▎         | 67/2065 [00:10<06:22,  5.22it/s]"
     ]
    },
    {
     "name": "stdout",
     "output_type": "stream",
     "text": [
      "67\n"
     ]
    },
    {
     "name": "stderr",
     "output_type": "stream",
     "text": [
      "\r",
      "  3%|▎         | 68/2065 [00:10<06:50,  4.87it/s]"
     ]
    },
    {
     "name": "stdout",
     "output_type": "stream",
     "text": [
      "68\n"
     ]
    },
    {
     "name": "stderr",
     "output_type": "stream",
     "text": [
      "\r",
      "  3%|▎         | 69/2065 [00:11<07:19,  4.54it/s]"
     ]
    },
    {
     "name": "stdout",
     "output_type": "stream",
     "text": [
      "69\n"
     ]
    },
    {
     "name": "stderr",
     "output_type": "stream",
     "text": [
      "  3%|▎         | 71/2065 [00:11<06:56,  4.78it/s]"
     ]
    },
    {
     "name": "stdout",
     "output_type": "stream",
     "text": [
      "70\n",
      "71\n"
     ]
    },
    {
     "name": "stderr",
     "output_type": "stream",
     "text": [
      "  4%|▎         | 73/2065 [00:11<06:20,  5.23it/s]"
     ]
    },
    {
     "name": "stdout",
     "output_type": "stream",
     "text": [
      "72\n",
      "73\n"
     ]
    },
    {
     "name": "stderr",
     "output_type": "stream",
     "text": [
      "  4%|▎         | 75/2065 [00:12<06:00,  5.52it/s]"
     ]
    },
    {
     "name": "stdout",
     "output_type": "stream",
     "text": [
      "74\n",
      "75\n"
     ]
    },
    {
     "name": "stderr",
     "output_type": "stream",
     "text": [
      "  4%|▎         | 77/2065 [00:12<05:26,  6.09it/s]"
     ]
    },
    {
     "name": "stdout",
     "output_type": "stream",
     "text": [
      "76\n",
      "77\n"
     ]
    },
    {
     "name": "stderr",
     "output_type": "stream",
     "text": [
      "\r",
      "  4%|▍         | 79/2065 [00:12<04:12,  7.86it/s]"
     ]
    },
    {
     "name": "stdout",
     "output_type": "stream",
     "text": [
      "78\n",
      "79\n"
     ]
    },
    {
     "name": "stderr",
     "output_type": "stream",
     "text": [
      "\r",
      "  4%|▍         | 80/2065 [00:12<04:38,  7.12it/s]"
     ]
    },
    {
     "name": "stdout",
     "output_type": "stream",
     "text": [
      "80\n",
      "81\n"
     ]
    },
    {
     "name": "stderr",
     "output_type": "stream",
     "text": [
      "  4%|▍         | 83/2065 [00:13<04:56,  6.69it/s]"
     ]
    },
    {
     "name": "stdout",
     "output_type": "stream",
     "text": [
      "82\n",
      "83\n"
     ]
    },
    {
     "name": "stderr",
     "output_type": "stream",
     "text": [
      "  4%|▍         | 85/2065 [00:13<04:43,  6.98it/s]"
     ]
    },
    {
     "name": "stdout",
     "output_type": "stream",
     "text": [
      "84\n",
      "85\n"
     ]
    },
    {
     "name": "stderr",
     "output_type": "stream",
     "text": [
      "\r",
      "  4%|▍         | 87/2065 [00:13<04:35,  7.18it/s]"
     ]
    },
    {
     "name": "stdout",
     "output_type": "stream",
     "text": [
      "86\n",
      "87\n"
     ]
    },
    {
     "name": "stderr",
     "output_type": "stream",
     "text": [
      "\r",
      "  4%|▍         | 89/2065 [00:13<04:01,  8.20it/s]"
     ]
    },
    {
     "name": "stdout",
     "output_type": "stream",
     "text": [
      "88\n",
      "89\n"
     ]
    },
    {
     "name": "stderr",
     "output_type": "stream",
     "text": [
      "  4%|▍         | 91/2065 [00:14<04:26,  7.42it/s]"
     ]
    },
    {
     "name": "stdout",
     "output_type": "stream",
     "text": [
      "90\n",
      "91\n"
     ]
    },
    {
     "name": "stderr",
     "output_type": "stream",
     "text": [
      "  5%|▍         | 93/2065 [00:14<04:59,  6.59it/s]"
     ]
    },
    {
     "name": "stdout",
     "output_type": "stream",
     "text": [
      "92\n",
      "93\n"
     ]
    },
    {
     "name": "stderr",
     "output_type": "stream",
     "text": [
      "  5%|▍         | 95/2065 [00:14<05:10,  6.34it/s]"
     ]
    },
    {
     "name": "stdout",
     "output_type": "stream",
     "text": [
      "94\n",
      "95\n"
     ]
    },
    {
     "name": "stderr",
     "output_type": "stream",
     "text": [
      "  5%|▍         | 97/2065 [00:15<05:05,  6.44it/s]"
     ]
    },
    {
     "name": "stdout",
     "output_type": "stream",
     "text": [
      "96\n",
      "97\n"
     ]
    },
    {
     "name": "stderr",
     "output_type": "stream",
     "text": [
      "  5%|▍         | 99/2065 [00:15<05:22,  6.10it/s]"
     ]
    },
    {
     "name": "stdout",
     "output_type": "stream",
     "text": [
      "98\n",
      "99\n"
     ]
    },
    {
     "name": "stderr",
     "output_type": "stream",
     "text": [
      "  5%|▍         | 101/2065 [00:15<04:52,  6.72it/s]"
     ]
    },
    {
     "name": "stdout",
     "output_type": "stream",
     "text": [
      "100\n",
      "101\n"
     ]
    },
    {
     "name": "stderr",
     "output_type": "stream",
     "text": [
      "\r",
      "  5%|▍         | 102/2065 [00:16<05:11,  6.30it/s]"
     ]
    },
    {
     "name": "stdout",
     "output_type": "stream",
     "text": [
      "102\n",
      "103\n"
     ]
    },
    {
     "name": "stderr",
     "output_type": "stream",
     "text": [
      "\r",
      "  5%|▌         | 104/2065 [00:16<04:48,  6.79it/s]"
     ]
    },
    {
     "name": "stdout",
     "output_type": "stream",
     "text": [
      "104\n",
      "105\n"
     ]
    },
    {
     "name": "stderr",
     "output_type": "stream",
     "text": [
      "  5%|▌         | 107/2065 [00:16<04:34,  7.13it/s]"
     ]
    },
    {
     "name": "stdout",
     "output_type": "stream",
     "text": [
      "106\n",
      "107\n"
     ]
    },
    {
     "name": "stderr",
     "output_type": "stream",
     "text": [
      "  5%|▌         | 109/2065 [00:17<05:16,  6.18it/s]"
     ]
    },
    {
     "name": "stdout",
     "output_type": "stream",
     "text": [
      "108\n",
      "109\n"
     ]
    },
    {
     "name": "stderr",
     "output_type": "stream",
     "text": [
      "  5%|▌         | 111/2065 [00:17<04:51,  6.70it/s]"
     ]
    },
    {
     "name": "stdout",
     "output_type": "stream",
     "text": [
      "110\n",
      "111\n"
     ]
    },
    {
     "name": "stderr",
     "output_type": "stream",
     "text": [
      "  5%|▌         | 113/2065 [00:17<04:47,  6.80it/s]"
     ]
    },
    {
     "name": "stdout",
     "output_type": "stream",
     "text": [
      "112\n",
      "113\n"
     ]
    },
    {
     "name": "stderr",
     "output_type": "stream",
     "text": [
      "  6%|▌         | 115/2065 [00:17<04:07,  7.87it/s]"
     ]
    },
    {
     "name": "stdout",
     "output_type": "stream",
     "text": [
      "114\n",
      "115\n"
     ]
    },
    {
     "name": "stderr",
     "output_type": "stream",
     "text": [
      "\r",
      "  6%|▌         | 116/2065 [00:17<04:05,  7.92it/s]"
     ]
    },
    {
     "name": "stdout",
     "output_type": "stream",
     "text": [
      "116\n",
      "117\n"
     ]
    },
    {
     "name": "stderr",
     "output_type": "stream",
     "text": [
      "  6%|▌         | 120/2065 [00:18<03:29,  9.28it/s]"
     ]
    },
    {
     "name": "stdout",
     "output_type": "stream",
     "text": [
      "118\n",
      "119\n",
      "120\n"
     ]
    },
    {
     "name": "stderr",
     "output_type": "stream",
     "text": [
      "  6%|▌         | 122/2065 [00:18<04:15,  7.61it/s]"
     ]
    },
    {
     "name": "stdout",
     "output_type": "stream",
     "text": [
      "121\n",
      "122\n"
     ]
    },
    {
     "name": "stderr",
     "output_type": "stream",
     "text": [
      "  6%|▌         | 124/2065 [00:19<04:53,  6.61it/s]"
     ]
    },
    {
     "name": "stdout",
     "output_type": "stream",
     "text": [
      "123\n",
      "124\n"
     ]
    },
    {
     "name": "stderr",
     "output_type": "stream",
     "text": [
      "  6%|▌         | 126/2065 [00:19<04:42,  6.87it/s]"
     ]
    },
    {
     "name": "stdout",
     "output_type": "stream",
     "text": [
      "125\n",
      "126\n",
      "127\n"
     ]
    },
    {
     "name": "stderr",
     "output_type": "stream",
     "text": [
      "  6%|▌         | 129/2065 [00:19<04:33,  7.07it/s]"
     ]
    },
    {
     "name": "stdout",
     "output_type": "stream",
     "text": [
      "128\n",
      "129\n"
     ]
    },
    {
     "name": "stderr",
     "output_type": "stream",
     "text": [
      "  6%|▋         | 131/2065 [00:20<05:05,  6.34it/s]"
     ]
    },
    {
     "name": "stdout",
     "output_type": "stream",
     "text": [
      "130\n",
      "131\n"
     ]
    },
    {
     "name": "stderr",
     "output_type": "stream",
     "text": [
      "  6%|▋         | 133/2065 [00:20<04:46,  6.74it/s]"
     ]
    },
    {
     "name": "stdout",
     "output_type": "stream",
     "text": [
      "132\n",
      "133\n"
     ]
    },
    {
     "name": "stderr",
     "output_type": "stream",
     "text": [
      "  7%|▋         | 135/2065 [00:20<05:03,  6.37it/s]"
     ]
    },
    {
     "name": "stdout",
     "output_type": "stream",
     "text": [
      "134\n",
      "135\n"
     ]
    },
    {
     "name": "stderr",
     "output_type": "stream",
     "text": [
      "  7%|▋         | 137/2065 [00:21<05:20,  6.01it/s]"
     ]
    },
    {
     "name": "stdout",
     "output_type": "stream",
     "text": [
      "136\n",
      "137\n"
     ]
    },
    {
     "name": "stderr",
     "output_type": "stream",
     "text": [
      "\r",
      "  7%|▋         | 139/2065 [00:21<04:57,  6.48it/s]"
     ]
    },
    {
     "name": "stdout",
     "output_type": "stream",
     "text": [
      "138\n",
      "139\n"
     ]
    },
    {
     "name": "stderr",
     "output_type": "stream",
     "text": [
      "  7%|▋         | 141/2065 [00:21<05:25,  5.91it/s]"
     ]
    },
    {
     "name": "stdout",
     "output_type": "stream",
     "text": [
      "140\n",
      "141\n"
     ]
    },
    {
     "name": "stderr",
     "output_type": "stream",
     "text": [
      "\r",
      "  7%|▋         | 142/2065 [00:21<05:50,  5.49it/s]"
     ]
    },
    {
     "name": "stdout",
     "output_type": "stream",
     "text": [
      "142\n"
     ]
    },
    {
     "name": "stderr",
     "output_type": "stream",
     "text": [
      "\r",
      "  7%|▋         | 143/2065 [00:22<06:16,  5.11it/s]"
     ]
    },
    {
     "name": "stdout",
     "output_type": "stream",
     "text": [
      "143\n"
     ]
    },
    {
     "name": "stderr",
     "output_type": "stream",
     "text": [
      "\r",
      "  7%|▋         | 144/2065 [00:22<06:41,  4.79it/s]"
     ]
    },
    {
     "name": "stdout",
     "output_type": "stream",
     "text": [
      "144\n"
     ]
    },
    {
     "name": "stderr",
     "output_type": "stream",
     "text": [
      "\r",
      "  7%|▋         | 145/2065 [00:22<06:49,  4.69it/s]"
     ]
    },
    {
     "name": "stdout",
     "output_type": "stream",
     "text": [
      "145\n"
     ]
    },
    {
     "name": "stderr",
     "output_type": "stream",
     "text": [
      "\r",
      "  7%|▋         | 146/2065 [00:22<06:50,  4.67it/s]"
     ]
    },
    {
     "name": "stdout",
     "output_type": "stream",
     "text": [
      "146\n"
     ]
    },
    {
     "name": "stderr",
     "output_type": "stream",
     "text": [
      "\r",
      "  7%|▋         | 147/2065 [00:23<07:04,  4.52it/s]"
     ]
    },
    {
     "name": "stdout",
     "output_type": "stream",
     "text": [
      "147\n"
     ]
    },
    {
     "name": "stderr",
     "output_type": "stream",
     "text": [
      "  7%|▋         | 149/2065 [00:23<06:49,  4.68it/s]"
     ]
    },
    {
     "name": "stdout",
     "output_type": "stream",
     "text": [
      "148\n",
      "149\n",
      "150\n"
     ]
    },
    {
     "name": "stderr",
     "output_type": "stream",
     "text": [
      "  7%|▋         | 152/2065 [00:24<05:37,  5.67it/s]"
     ]
    },
    {
     "name": "stdout",
     "output_type": "stream",
     "text": [
      "151\n",
      "152\n"
     ]
    },
    {
     "name": "stderr",
     "output_type": "stream",
     "text": [
      "  8%|▊         | 155/2065 [00:24<04:41,  6.78it/s]"
     ]
    },
    {
     "name": "stdout",
     "output_type": "stream",
     "text": [
      "153\n",
      "154\n",
      "155\n"
     ]
    },
    {
     "name": "stderr",
     "output_type": "stream",
     "text": [
      "\r",
      "  8%|▊         | 157/2065 [00:24<03:47,  8.40it/s]"
     ]
    },
    {
     "name": "stdout",
     "output_type": "stream",
     "text": [
      "156\n",
      "157\n"
     ]
    },
    {
     "name": "stderr",
     "output_type": "stream",
     "text": [
      "  8%|▊         | 159/2065 [00:24<03:57,  8.02it/s]"
     ]
    },
    {
     "name": "stdout",
     "output_type": "stream",
     "text": [
      "158\n",
      "159\n"
     ]
    },
    {
     "name": "stderr",
     "output_type": "stream",
     "text": [
      "  8%|▊         | 161/2065 [00:25<03:44,  8.50it/s]"
     ]
    },
    {
     "name": "stdout",
     "output_type": "stream",
     "text": [
      "160\n",
      "161\n"
     ]
    },
    {
     "name": "stderr",
     "output_type": "stream",
     "text": [
      "  8%|▊         | 163/2065 [00:25<04:47,  6.61it/s]"
     ]
    },
    {
     "name": "stdout",
     "output_type": "stream",
     "text": [
      "162\n",
      "163\n"
     ]
    },
    {
     "name": "stderr",
     "output_type": "stream",
     "text": [
      "  8%|▊         | 165/2065 [00:25<05:08,  6.16it/s]"
     ]
    },
    {
     "name": "stdout",
     "output_type": "stream",
     "text": [
      "164\n",
      "165\n"
     ]
    },
    {
     "name": "stderr",
     "output_type": "stream",
     "text": [
      "  8%|▊         | 167/2065 [00:26<05:26,  5.81it/s]"
     ]
    },
    {
     "name": "stdout",
     "output_type": "stream",
     "text": [
      "166\n",
      "167\n"
     ]
    },
    {
     "name": "stderr",
     "output_type": "stream",
     "text": [
      "\r",
      "  8%|▊         | 168/2065 [00:26<05:33,  5.69it/s]"
     ]
    },
    {
     "name": "stdout",
     "output_type": "stream",
     "text": [
      "168\n"
     ]
    },
    {
     "name": "stderr",
     "output_type": "stream",
     "text": [
      "  8%|▊         | 170/2065 [00:26<05:42,  5.54it/s]"
     ]
    },
    {
     "name": "stdout",
     "output_type": "stream",
     "text": [
      "169\n",
      "170\n"
     ]
    },
    {
     "name": "stderr",
     "output_type": "stream",
     "text": [
      "\r",
      "  8%|▊         | 171/2065 [00:26<05:49,  5.42it/s]"
     ]
    },
    {
     "name": "stdout",
     "output_type": "stream",
     "text": [
      "171\n",
      "172\n"
     ]
    },
    {
     "name": "stderr",
     "output_type": "stream",
     "text": [
      "  8%|▊         | 174/2065 [00:27<04:58,  6.34it/s]"
     ]
    },
    {
     "name": "stdout",
     "output_type": "stream",
     "text": [
      "173\n",
      "174\n"
     ]
    },
    {
     "name": "stderr",
     "output_type": "stream",
     "text": [
      "\r",
      "  8%|▊         | 175/2065 [00:27<04:50,  6.50it/s]"
     ]
    },
    {
     "name": "stdout",
     "output_type": "stream",
     "text": [
      "175\n",
      "176\n"
     ]
    },
    {
     "name": "stderr",
     "output_type": "stream",
     "text": [
      "  9%|▊         | 178/2065 [00:27<04:47,  6.56it/s]"
     ]
    },
    {
     "name": "stdout",
     "output_type": "stream",
     "text": [
      "177\n",
      "178\n"
     ]
    },
    {
     "name": "stderr",
     "output_type": "stream",
     "text": [
      "  9%|▊         | 180/2065 [00:28<04:58,  6.32it/s]"
     ]
    },
    {
     "name": "stdout",
     "output_type": "stream",
     "text": [
      "179\n",
      "180\n"
     ]
    },
    {
     "name": "stderr",
     "output_type": "stream",
     "text": [
      "\r",
      "  9%|▉         | 181/2065 [00:28<05:21,  5.87it/s]"
     ]
    },
    {
     "name": "stdout",
     "output_type": "stream",
     "text": [
      "181\n",
      "182\n"
     ]
    },
    {
     "name": "stderr",
     "output_type": "stream",
     "text": [
      "\r",
      "  9%|▉         | 183/2065 [00:28<04:42,  6.65it/s]"
     ]
    },
    {
     "name": "stdout",
     "output_type": "stream",
     "text": [
      "183\n",
      "184\n"
     ]
    },
    {
     "name": "stderr",
     "output_type": "stream",
     "text": [
      "  9%|▉         | 186/2065 [00:29<04:34,  6.84it/s]"
     ]
    },
    {
     "name": "stdout",
     "output_type": "stream",
     "text": [
      "185\n",
      "186\n"
     ]
    },
    {
     "name": "stderr",
     "output_type": "stream",
     "text": [
      "  9%|▉         | 188/2065 [00:29<05:08,  6.08it/s]"
     ]
    },
    {
     "name": "stdout",
     "output_type": "stream",
     "text": [
      "187\n",
      "188\n"
     ]
    },
    {
     "name": "stderr",
     "output_type": "stream",
     "text": [
      "  9%|▉         | 190/2065 [00:29<05:24,  5.78it/s]"
     ]
    },
    {
     "name": "stdout",
     "output_type": "stream",
     "text": [
      "189\n",
      "190\n"
     ]
    },
    {
     "name": "stderr",
     "output_type": "stream",
     "text": [
      "\r",
      "  9%|▉         | 191/2065 [00:30<05:31,  5.65it/s]"
     ]
    },
    {
     "name": "stdout",
     "output_type": "stream",
     "text": [
      "191\n"
     ]
    },
    {
     "name": "stderr",
     "output_type": "stream",
     "text": [
      "  9%|▉         | 193/2065 [00:30<05:47,  5.39it/s]"
     ]
    },
    {
     "name": "stdout",
     "output_type": "stream",
     "text": [
      "192\n",
      "193\n"
     ]
    },
    {
     "name": "stderr",
     "output_type": "stream",
     "text": [
      "  9%|▉         | 195/2065 [00:31<07:09,  4.35it/s]"
     ]
    },
    {
     "name": "stdout",
     "output_type": "stream",
     "text": [
      "194\n",
      "195\n"
     ]
    },
    {
     "name": "stderr",
     "output_type": "stream",
     "text": [
      "\r",
      "  9%|▉         | 196/2065 [00:31<06:42,  4.64it/s]"
     ]
    },
    {
     "name": "stdout",
     "output_type": "stream",
     "text": [
      "196\n"
     ]
    },
    {
     "name": "stderr",
     "output_type": "stream",
     "text": [
      "\r",
      " 10%|▉         | 197/2065 [00:31<06:49,  4.57it/s]"
     ]
    },
    {
     "name": "stdout",
     "output_type": "stream",
     "text": [
      "197\n"
     ]
    },
    {
     "name": "stderr",
     "output_type": "stream",
     "text": [
      "\r",
      " 10%|▉         | 198/2065 [00:31<07:59,  3.89it/s]"
     ]
    },
    {
     "name": "stdout",
     "output_type": "stream",
     "text": [
      "198\n"
     ]
    },
    {
     "name": "stderr",
     "output_type": "stream",
     "text": [
      " 10%|▉         | 200/2065 [00:32<06:52,  4.52it/s]"
     ]
    },
    {
     "name": "stdout",
     "output_type": "stream",
     "text": [
      "199\n",
      "200\n"
     ]
    },
    {
     "name": "stderr",
     "output_type": "stream",
     "text": [
      "\r",
      " 10%|▉         | 201/2065 [00:32<07:48,  3.98it/s]"
     ]
    },
    {
     "name": "stdout",
     "output_type": "stream",
     "text": [
      "201\n"
     ]
    },
    {
     "name": "stderr",
     "output_type": "stream",
     "text": [
      " 10%|▉         | 203/2065 [00:32<06:53,  4.50it/s]"
     ]
    },
    {
     "name": "stdout",
     "output_type": "stream",
     "text": [
      "202\n",
      "203\n"
     ]
    },
    {
     "name": "stderr",
     "output_type": "stream",
     "text": [
      " 10%|▉         | 205/2065 [00:33<05:44,  5.40it/s]"
     ]
    },
    {
     "name": "stdout",
     "output_type": "stream",
     "text": [
      "204\n",
      "205\n"
     ]
    },
    {
     "name": "stderr",
     "output_type": "stream",
     "text": [
      "\r",
      " 10%|█         | 207/2065 [00:33<04:46,  6.49it/s]"
     ]
    },
    {
     "name": "stdout",
     "output_type": "stream",
     "text": [
      "206\n",
      "207\n"
     ]
    },
    {
     "name": "stderr",
     "output_type": "stream",
     "text": [
      " 10%|█         | 209/2065 [00:33<04:59,  6.19it/s]"
     ]
    },
    {
     "name": "stdout",
     "output_type": "stream",
     "text": [
      "208\n",
      "209\n"
     ]
    },
    {
     "name": "stderr",
     "output_type": "stream",
     "text": [
      " 10%|█         | 211/2065 [00:34<05:03,  6.12it/s]"
     ]
    },
    {
     "name": "stdout",
     "output_type": "stream",
     "text": [
      "210\n",
      "211\n"
     ]
    },
    {
     "name": "stderr",
     "output_type": "stream",
     "text": [
      "\r",
      " 10%|█         | 212/2065 [00:34<05:12,  5.93it/s]"
     ]
    },
    {
     "name": "stdout",
     "output_type": "stream",
     "text": [
      "212\n"
     ]
    },
    {
     "name": "stderr",
     "output_type": "stream",
     "text": [
      " 10%|█         | 214/2065 [00:34<05:07,  6.01it/s]"
     ]
    },
    {
     "name": "stdout",
     "output_type": "stream",
     "text": [
      "213\n",
      "214\n"
     ]
    },
    {
     "name": "stderr",
     "output_type": "stream",
     "text": [
      " 10%|█         | 216/2065 [00:34<04:46,  6.46it/s]"
     ]
    },
    {
     "name": "stdout",
     "output_type": "stream",
     "text": [
      "215\n",
      "216\n"
     ]
    },
    {
     "name": "stderr",
     "output_type": "stream",
     "text": [
      " 11%|█         | 218/2065 [00:35<05:32,  5.56it/s]"
     ]
    },
    {
     "name": "stdout",
     "output_type": "stream",
     "text": [
      "217\n",
      "218\n"
     ]
    },
    {
     "name": "stderr",
     "output_type": "stream",
     "text": [
      "\r",
      " 11%|█         | 219/2065 [00:35<06:05,  5.05it/s]"
     ]
    },
    {
     "name": "stdout",
     "output_type": "stream",
     "text": [
      "219\n"
     ]
    },
    {
     "name": "stderr",
     "output_type": "stream",
     "text": [
      "\r",
      " 11%|█         | 220/2065 [00:35<06:17,  4.89it/s]"
     ]
    },
    {
     "name": "stdout",
     "output_type": "stream",
     "text": [
      "220\n"
     ]
    },
    {
     "name": "stderr",
     "output_type": "stream",
     "text": [
      " 11%|█         | 222/2065 [00:36<05:35,  5.49it/s]"
     ]
    },
    {
     "name": "stdout",
     "output_type": "stream",
     "text": [
      "221\n",
      "222\n"
     ]
    },
    {
     "name": "stderr",
     "output_type": "stream",
     "text": [
      "\r",
      " 11%|█         | 223/2065 [00:36<06:02,  5.08it/s]"
     ]
    },
    {
     "name": "stdout",
     "output_type": "stream",
     "text": [
      "223\n",
      "224\n"
     ]
    },
    {
     "name": "stderr",
     "output_type": "stream",
     "text": [
      " 11%|█         | 226/2065 [00:36<04:47,  6.39it/s]"
     ]
    },
    {
     "name": "stdout",
     "output_type": "stream",
     "text": [
      "225\n",
      "226\n"
     ]
    },
    {
     "name": "stderr",
     "output_type": "stream",
     "text": [
      " 11%|█         | 228/2065 [00:37<05:04,  6.03it/s]"
     ]
    },
    {
     "name": "stdout",
     "output_type": "stream",
     "text": [
      "227\n",
      "228\n"
     ]
    },
    {
     "name": "stderr",
     "output_type": "stream",
     "text": [
      " 11%|█         | 230/2065 [00:37<04:20,  7.05it/s]"
     ]
    },
    {
     "name": "stdout",
     "output_type": "stream",
     "text": [
      "229\n",
      "230\n"
     ]
    },
    {
     "name": "stderr",
     "output_type": "stream",
     "text": [
      "\r",
      " 11%|█         | 231/2065 [00:37<04:02,  7.56it/s]"
     ]
    },
    {
     "name": "stdout",
     "output_type": "stream",
     "text": [
      "231\n",
      "232\n"
     ]
    },
    {
     "name": "stderr",
     "output_type": "stream",
     "text": [
      " 11%|█▏        | 234/2065 [00:37<04:27,  6.84it/s]"
     ]
    },
    {
     "name": "stdout",
     "output_type": "stream",
     "text": [
      "233\n",
      "234\n"
     ]
    },
    {
     "name": "stderr",
     "output_type": "stream",
     "text": [
      " 11%|█▏        | 236/2065 [00:38<04:48,  6.34it/s]"
     ]
    },
    {
     "name": "stdout",
     "output_type": "stream",
     "text": [
      "235\n",
      "236\n"
     ]
    },
    {
     "name": "stderr",
     "output_type": "stream",
     "text": [
      " 12%|█▏        | 238/2065 [00:38<04:49,  6.31it/s]"
     ]
    },
    {
     "name": "stdout",
     "output_type": "stream",
     "text": [
      "237\n",
      "238\n"
     ]
    },
    {
     "name": "stderr",
     "output_type": "stream",
     "text": [
      " 12%|█▏        | 240/2065 [00:38<05:08,  5.92it/s]"
     ]
    },
    {
     "name": "stdout",
     "output_type": "stream",
     "text": [
      "239\n",
      "240\n"
     ]
    },
    {
     "name": "stderr",
     "output_type": "stream",
     "text": [
      " 12%|█▏        | 242/2065 [00:39<05:19,  5.71it/s]"
     ]
    },
    {
     "name": "stdout",
     "output_type": "stream",
     "text": [
      "241\n",
      "242\n"
     ]
    },
    {
     "name": "stderr",
     "output_type": "stream",
     "text": [
      "\r",
      " 12%|█▏        | 243/2065 [00:39<05:11,  5.85it/s]"
     ]
    },
    {
     "name": "stdout",
     "output_type": "stream",
     "text": [
      "243\n",
      "244\n"
     ]
    },
    {
     "name": "stderr",
     "output_type": "stream",
     "text": [
      " 12%|█▏        | 246/2065 [00:39<04:46,  6.35it/s]"
     ]
    },
    {
     "name": "stdout",
     "output_type": "stream",
     "text": [
      "245\n",
      "246\n"
     ]
    },
    {
     "name": "stderr",
     "output_type": "stream",
     "text": [
      " 12%|█▏        | 248/2065 [00:40<05:02,  6.00it/s]"
     ]
    },
    {
     "name": "stdout",
     "output_type": "stream",
     "text": [
      "247\n",
      "248\n"
     ]
    },
    {
     "name": "stderr",
     "output_type": "stream",
     "text": [
      " 12%|█▏        | 251/2065 [00:40<03:59,  7.59it/s]"
     ]
    },
    {
     "name": "stdout",
     "output_type": "stream",
     "text": [
      "249\n",
      "250\n",
      "251\n"
     ]
    },
    {
     "name": "stderr",
     "output_type": "stream",
     "text": [
      " 12%|█▏        | 253/2065 [00:40<04:39,  6.49it/s]"
     ]
    },
    {
     "name": "stdout",
     "output_type": "stream",
     "text": [
      "252\n",
      "253\n"
     ]
    },
    {
     "name": "stderr",
     "output_type": "stream",
     "text": [
      " 12%|█▏        | 255/2065 [00:41<04:45,  6.35it/s]"
     ]
    },
    {
     "name": "stdout",
     "output_type": "stream",
     "text": [
      "254\n",
      "255\n"
     ]
    },
    {
     "name": "stderr",
     "output_type": "stream",
     "text": [
      " 12%|█▏        | 257/2065 [00:41<05:04,  5.94it/s]"
     ]
    },
    {
     "name": "stdout",
     "output_type": "stream",
     "text": [
      "256\n",
      "257\n"
     ]
    },
    {
     "name": "stderr",
     "output_type": "stream",
     "text": [
      " 13%|█▎        | 259/2065 [00:41<05:13,  5.75it/s]"
     ]
    },
    {
     "name": "stdout",
     "output_type": "stream",
     "text": [
      "258\n",
      "259\n"
     ]
    },
    {
     "name": "stderr",
     "output_type": "stream",
     "text": [
      " 13%|█▎        | 261/2065 [00:42<04:53,  6.15it/s]"
     ]
    },
    {
     "name": "stdout",
     "output_type": "stream",
     "text": [
      "260\n",
      "261\n"
     ]
    },
    {
     "name": "stderr",
     "output_type": "stream",
     "text": [
      " 13%|█▎        | 263/2065 [00:42<05:01,  5.98it/s]"
     ]
    },
    {
     "name": "stdout",
     "output_type": "stream",
     "text": [
      "262\n",
      "263\n"
     ]
    },
    {
     "name": "stderr",
     "output_type": "stream",
     "text": [
      " 13%|█▎        | 265/2065 [00:42<05:12,  5.76it/s]"
     ]
    },
    {
     "name": "stdout",
     "output_type": "stream",
     "text": [
      "264\n",
      "265\n"
     ]
    },
    {
     "name": "stderr",
     "output_type": "stream",
     "text": [
      " 13%|█▎        | 267/2065 [00:43<04:53,  6.12it/s]"
     ]
    },
    {
     "name": "stdout",
     "output_type": "stream",
     "text": [
      "266\n",
      "267\n"
     ]
    },
    {
     "name": "stderr",
     "output_type": "stream",
     "text": [
      " 13%|█▎        | 269/2065 [00:43<05:09,  5.80it/s]"
     ]
    },
    {
     "name": "stdout",
     "output_type": "stream",
     "text": [
      "268\n",
      "269\n"
     ]
    },
    {
     "name": "stderr",
     "output_type": "stream",
     "text": [
      "\r",
      " 13%|█▎        | 271/2065 [00:43<04:11,  7.14it/s]"
     ]
    },
    {
     "name": "stdout",
     "output_type": "stream",
     "text": [
      "270\n",
      "271\n"
     ]
    },
    {
     "name": "stderr",
     "output_type": "stream",
     "text": [
      " 13%|█▎        | 273/2065 [00:44<04:29,  6.65it/s]"
     ]
    },
    {
     "name": "stdout",
     "output_type": "stream",
     "text": [
      "272\n",
      "273\n"
     ]
    },
    {
     "name": "stderr",
     "output_type": "stream",
     "text": [
      " 13%|█▎        | 275/2065 [00:44<04:50,  6.17it/s]"
     ]
    },
    {
     "name": "stdout",
     "output_type": "stream",
     "text": [
      "274\n",
      "275\n"
     ]
    },
    {
     "name": "stderr",
     "output_type": "stream",
     "text": [
      " 13%|█▎        | 277/2065 [00:44<05:03,  5.89it/s]"
     ]
    },
    {
     "name": "stdout",
     "output_type": "stream",
     "text": [
      "276\n",
      "277\n"
     ]
    },
    {
     "name": "stderr",
     "output_type": "stream",
     "text": [
      " 14%|█▎        | 279/2065 [00:45<04:44,  6.27it/s]"
     ]
    },
    {
     "name": "stdout",
     "output_type": "stream",
     "text": [
      "278\n",
      "279\n"
     ]
    },
    {
     "name": "stderr",
     "output_type": "stream",
     "text": [
      " 14%|█▎        | 281/2065 [00:45<04:23,  6.77it/s]"
     ]
    },
    {
     "name": "stdout",
     "output_type": "stream",
     "text": [
      "280\n",
      "281\n"
     ]
    },
    {
     "name": "stderr",
     "output_type": "stream",
     "text": [
      "\r",
      " 14%|█▎        | 282/2065 [00:45<04:28,  6.64it/s]"
     ]
    },
    {
     "name": "stdout",
     "output_type": "stream",
     "text": [
      "282\n",
      "283\n"
     ]
    },
    {
     "name": "stderr",
     "output_type": "stream",
     "text": [
      " 14%|█▍        | 285/2065 [00:46<03:54,  7.59it/s]"
     ]
    },
    {
     "name": "stdout",
     "output_type": "stream",
     "text": [
      "284\n",
      "285\n",
      "286\n"
     ]
    },
    {
     "name": "stderr",
     "output_type": "stream",
     "text": [
      "\r",
      " 14%|█▍        | 287/2065 [00:46<03:25,  8.66it/s]"
     ]
    },
    {
     "name": "stdout",
     "output_type": "stream",
     "text": [
      "287\n",
      "288\n"
     ]
    },
    {
     "name": "stderr",
     "output_type": "stream",
     "text": [
      " 14%|█▍        | 290/2065 [00:46<03:52,  7.63it/s]"
     ]
    },
    {
     "name": "stdout",
     "output_type": "stream",
     "text": [
      "289\n",
      "290\n"
     ]
    },
    {
     "name": "stderr",
     "output_type": "stream",
     "text": [
      " 14%|█▍        | 292/2065 [00:46<04:26,  6.65it/s]"
     ]
    },
    {
     "name": "stdout",
     "output_type": "stream",
     "text": [
      "291\n",
      "292\n"
     ]
    },
    {
     "name": "stderr",
     "output_type": "stream",
     "text": [
      "\r",
      " 14%|█▍        | 293/2065 [00:47<04:38,  6.36it/s]"
     ]
    },
    {
     "name": "stdout",
     "output_type": "stream",
     "text": [
      "293\n"
     ]
    },
    {
     "name": "stderr",
     "output_type": "stream",
     "text": [
      "\r",
      " 14%|█▍        | 294/2065 [00:47<05:07,  5.76it/s]"
     ]
    },
    {
     "name": "stdout",
     "output_type": "stream",
     "text": [
      "294\n"
     ]
    },
    {
     "name": "stderr",
     "output_type": "stream",
     "text": [
      "\r",
      " 14%|█▍        | 295/2065 [00:47<05:30,  5.35it/s]"
     ]
    },
    {
     "name": "stdout",
     "output_type": "stream",
     "text": [
      "295\n"
     ]
    },
    {
     "name": "stderr",
     "output_type": "stream",
     "text": [
      " 14%|█▍        | 297/2065 [00:48<05:57,  4.94it/s]"
     ]
    },
    {
     "name": "stdout",
     "output_type": "stream",
     "text": [
      "296\n",
      "297\n"
     ]
    },
    {
     "name": "stderr",
     "output_type": "stream",
     "text": [
      " 14%|█▍        | 299/2065 [00:48<05:32,  5.31it/s]"
     ]
    },
    {
     "name": "stdout",
     "output_type": "stream",
     "text": [
      "298\n",
      "299\n"
     ]
    },
    {
     "name": "stderr",
     "output_type": "stream",
     "text": [
      "\r",
      " 15%|█▍        | 300/2065 [00:48<05:15,  5.60it/s]"
     ]
    },
    {
     "name": "stdout",
     "output_type": "stream",
     "text": [
      "300\n"
     ]
    },
    {
     "name": "stderr",
     "output_type": "stream",
     "text": [
      " 15%|█▍        | 302/2065 [00:48<05:26,  5.41it/s]"
     ]
    },
    {
     "name": "stdout",
     "output_type": "stream",
     "text": [
      "301\n",
      "302\n"
     ]
    },
    {
     "name": "stderr",
     "output_type": "stream",
     "text": [
      " 15%|█▍        | 304/2065 [00:49<05:20,  5.50it/s]"
     ]
    },
    {
     "name": "stdout",
     "output_type": "stream",
     "text": [
      "303\n",
      "304\n"
     ]
    },
    {
     "name": "stderr",
     "output_type": "stream",
     "text": [
      "\r",
      " 15%|█▍        | 305/2065 [00:49<05:55,  4.95it/s]"
     ]
    },
    {
     "name": "stdout",
     "output_type": "stream",
     "text": [
      "305\n"
     ]
    },
    {
     "name": "stderr",
     "output_type": "stream",
     "text": [
      "\r",
      " 15%|█▍        | 306/2065 [00:49<06:22,  4.60it/s]"
     ]
    },
    {
     "name": "stdout",
     "output_type": "stream",
     "text": [
      "306\n"
     ]
    },
    {
     "name": "stderr",
     "output_type": "stream",
     "text": [
      " 15%|█▍        | 308/2065 [00:50<06:14,  4.69it/s]"
     ]
    },
    {
     "name": "stdout",
     "output_type": "stream",
     "text": [
      "307\n",
      "308\n"
     ]
    },
    {
     "name": "stderr",
     "output_type": "stream",
     "text": [
      " 15%|█▌        | 311/2065 [00:50<04:34,  6.39it/s]"
     ]
    },
    {
     "name": "stdout",
     "output_type": "stream",
     "text": [
      "309\n",
      "310\n",
      "311\n"
     ]
    },
    {
     "name": "stderr",
     "output_type": "stream",
     "text": [
      " 15%|█▌        | 313/2065 [00:50<04:22,  6.69it/s]"
     ]
    },
    {
     "name": "stdout",
     "output_type": "stream",
     "text": [
      "312\n",
      "313\n"
     ]
    },
    {
     "name": "stderr",
     "output_type": "stream",
     "text": [
      " 15%|█▌        | 315/2065 [00:51<03:54,  7.46it/s]"
     ]
    },
    {
     "name": "stdout",
     "output_type": "stream",
     "text": [
      "314\n",
      "315\n",
      "316\n"
     ]
    },
    {
     "name": "stderr",
     "output_type": "stream",
     "text": [
      " 15%|█▌        | 318/2065 [00:51<03:40,  7.92it/s]"
     ]
    },
    {
     "name": "stdout",
     "output_type": "stream",
     "text": [
      "317\n",
      "318\n"
     ]
    },
    {
     "name": "stderr",
     "output_type": "stream",
     "text": [
      " 16%|█▌        | 321/2065 [00:51<03:10,  9.18it/s]"
     ]
    },
    {
     "name": "stdout",
     "output_type": "stream",
     "text": [
      "319\n",
      "320\n",
      "321\n"
     ]
    },
    {
     "name": "stderr",
     "output_type": "stream",
     "text": [
      " 16%|█▌        | 323/2065 [00:52<03:08,  9.25it/s]"
     ]
    },
    {
     "name": "stdout",
     "output_type": "stream",
     "text": [
      "322\n",
      "323\n"
     ]
    },
    {
     "name": "stderr",
     "output_type": "stream",
     "text": [
      " 16%|█▌        | 325/2065 [00:52<03:26,  8.43it/s]"
     ]
    },
    {
     "name": "stdout",
     "output_type": "stream",
     "text": [
      "324\n",
      "325\n"
     ]
    },
    {
     "name": "stderr",
     "output_type": "stream",
     "text": [
      " 16%|█▌        | 327/2065 [00:52<03:51,  7.52it/s]"
     ]
    },
    {
     "name": "stdout",
     "output_type": "stream",
     "text": [
      "326\n",
      "327\n"
     ]
    },
    {
     "name": "stderr",
     "output_type": "stream",
     "text": [
      " 16%|█▌        | 329/2065 [00:52<04:00,  7.23it/s]"
     ]
    },
    {
     "name": "stdout",
     "output_type": "stream",
     "text": [
      "328\n",
      "329\n"
     ]
    },
    {
     "name": "stderr",
     "output_type": "stream",
     "text": [
      " 16%|█▌        | 331/2065 [00:53<04:05,  7.07it/s]"
     ]
    },
    {
     "name": "stdout",
     "output_type": "stream",
     "text": [
      "330\n",
      "331\n",
      "332\n"
     ]
    },
    {
     "name": "stderr",
     "output_type": "stream",
     "text": [
      " 16%|█▌        | 334/2065 [00:53<04:08,  6.96it/s]"
     ]
    },
    {
     "name": "stdout",
     "output_type": "stream",
     "text": [
      "333\n",
      "334\n"
     ]
    },
    {
     "name": "stderr",
     "output_type": "stream",
     "text": [
      " 16%|█▋        | 336/2065 [00:53<04:44,  6.08it/s]"
     ]
    },
    {
     "name": "stdout",
     "output_type": "stream",
     "text": [
      "335\n",
      "336\n"
     ]
    },
    {
     "name": "stderr",
     "output_type": "stream",
     "text": [
      " 16%|█▋        | 338/2065 [00:54<04:34,  6.28it/s]"
     ]
    },
    {
     "name": "stdout",
     "output_type": "stream",
     "text": [
      "337\n",
      "338\n"
     ]
    },
    {
     "name": "stderr",
     "output_type": "stream",
     "text": [
      " 16%|█▋        | 340/2065 [00:54<04:23,  6.54it/s]"
     ]
    },
    {
     "name": "stdout",
     "output_type": "stream",
     "text": [
      "339\n",
      "340\n"
     ]
    },
    {
     "name": "stderr",
     "output_type": "stream",
     "text": [
      " 17%|█▋        | 342/2065 [00:54<04:28,  6.42it/s]"
     ]
    },
    {
     "name": "stdout",
     "output_type": "stream",
     "text": [
      "341\n",
      "342\n"
     ]
    },
    {
     "name": "stderr",
     "output_type": "stream",
     "text": [
      " 17%|█▋        | 344/2065 [00:55<04:49,  5.95it/s]"
     ]
    },
    {
     "name": "stdout",
     "output_type": "stream",
     "text": [
      "343\n",
      "344\n"
     ]
    },
    {
     "name": "stderr",
     "output_type": "stream",
     "text": [
      " 17%|█▋        | 346/2065 [00:55<04:43,  6.06it/s]"
     ]
    },
    {
     "name": "stdout",
     "output_type": "stream",
     "text": [
      "345\n",
      "346\n"
     ]
    },
    {
     "name": "stderr",
     "output_type": "stream",
     "text": [
      " 17%|█▋        | 349/2065 [00:55<03:31,  8.13it/s]"
     ]
    },
    {
     "name": "stdout",
     "output_type": "stream",
     "text": [
      "347\n",
      "348\n",
      "349\n"
     ]
    },
    {
     "name": "stderr",
     "output_type": "stream",
     "text": [
      " 17%|█▋        | 351/2065 [00:56<04:00,  7.13it/s]"
     ]
    },
    {
     "name": "stdout",
     "output_type": "stream",
     "text": [
      "350\n",
      "351\n"
     ]
    },
    {
     "name": "stderr",
     "output_type": "stream",
     "text": [
      " 17%|█▋        | 353/2065 [00:56<04:33,  6.26it/s]"
     ]
    },
    {
     "name": "stdout",
     "output_type": "stream",
     "text": [
      "352\n",
      "353\n"
     ]
    },
    {
     "name": "stderr",
     "output_type": "stream",
     "text": [
      "\r",
      " 17%|█▋        | 355/2065 [00:56<03:45,  7.57it/s]"
     ]
    },
    {
     "name": "stdout",
     "output_type": "stream",
     "text": [
      "354\n",
      "355\n",
      "356\n"
     ]
    },
    {
     "name": "stderr",
     "output_type": "stream",
     "text": [
      " 17%|█▋        | 358/2065 [00:57<03:30,  8.12it/s]"
     ]
    },
    {
     "name": "stdout",
     "output_type": "stream",
     "text": [
      "357\n",
      "358\n"
     ]
    },
    {
     "name": "stderr",
     "output_type": "stream",
     "text": [
      " 17%|█▋        | 361/2065 [00:57<02:59,  9.51it/s]"
     ]
    },
    {
     "name": "stdout",
     "output_type": "stream",
     "text": [
      "359\n",
      "360\n",
      "361\n"
     ]
    },
    {
     "name": "stderr",
     "output_type": "stream",
     "text": [
      "\r",
      " 18%|█▊        | 363/2065 [00:57<02:58,  9.52it/s]"
     ]
    },
    {
     "name": "stdout",
     "output_type": "stream",
     "text": [
      "362\n",
      "363\n"
     ]
    },
    {
     "name": "stderr",
     "output_type": "stream",
     "text": [
      " 18%|█▊        | 365/2065 [00:57<03:19,  8.53it/s]"
     ]
    },
    {
     "name": "stdout",
     "output_type": "stream",
     "text": [
      "364\n",
      "365\n"
     ]
    },
    {
     "name": "stderr",
     "output_type": "stream",
     "text": [
      " 18%|█▊        | 367/2065 [00:58<03:55,  7.22it/s]"
     ]
    },
    {
     "name": "stdout",
     "output_type": "stream",
     "text": [
      "366\n",
      "367\n"
     ]
    },
    {
     "name": "stderr",
     "output_type": "stream",
     "text": [
      " 18%|█▊        | 370/2065 [00:58<03:15,  8.67it/s]"
     ]
    },
    {
     "name": "stdout",
     "output_type": "stream",
     "text": [
      "368\n",
      "369\n",
      "370\n"
     ]
    },
    {
     "name": "stderr",
     "output_type": "stream",
     "text": [
      " 18%|█▊        | 372/2065 [00:58<03:23,  8.32it/s]"
     ]
    },
    {
     "name": "stdout",
     "output_type": "stream",
     "text": [
      "371\n",
      "372\n"
     ]
    },
    {
     "name": "stderr",
     "output_type": "stream",
     "text": [
      " 18%|█▊        | 375/2065 [00:59<03:11,  8.81it/s]"
     ]
    },
    {
     "name": "stdout",
     "output_type": "stream",
     "text": [
      "373\n",
      "374\n",
      "375\n"
     ]
    },
    {
     "name": "stderr",
     "output_type": "stream",
     "text": [
      " 18%|█▊        | 377/2065 [00:59<03:33,  7.89it/s]"
     ]
    },
    {
     "name": "stdout",
     "output_type": "stream",
     "text": [
      "376\n",
      "377\n"
     ]
    },
    {
     "name": "stderr",
     "output_type": "stream",
     "text": [
      " 18%|█▊        | 379/2065 [00:59<04:22,  6.43it/s]"
     ]
    },
    {
     "name": "stdout",
     "output_type": "stream",
     "text": [
      "378\n",
      "379\n"
     ]
    },
    {
     "name": "stderr",
     "output_type": "stream",
     "text": [
      " 18%|█▊        | 381/2065 [01:00<04:34,  6.14it/s]"
     ]
    },
    {
     "name": "stdout",
     "output_type": "stream",
     "text": [
      "380\n",
      "381\n"
     ]
    },
    {
     "name": "stderr",
     "output_type": "stream",
     "text": [
      "\r",
      " 18%|█▊        | 382/2065 [01:00<05:01,  5.59it/s]"
     ]
    },
    {
     "name": "stdout",
     "output_type": "stream",
     "text": [
      "382\n"
     ]
    },
    {
     "name": "stderr",
     "output_type": "stream",
     "text": [
      " 19%|█▊        | 384/2065 [01:00<04:52,  5.75it/s]"
     ]
    },
    {
     "name": "stdout",
     "output_type": "stream",
     "text": [
      "383\n",
      "384\n"
     ]
    },
    {
     "name": "stderr",
     "output_type": "stream",
     "text": [
      " 19%|█▊        | 386/2065 [01:01<05:24,  5.17it/s]"
     ]
    },
    {
     "name": "stdout",
     "output_type": "stream",
     "text": [
      "385\n",
      "386\n"
     ]
    },
    {
     "name": "stderr",
     "output_type": "stream",
     "text": [
      " 19%|█▉        | 388/2065 [01:01<05:36,  4.98it/s]"
     ]
    },
    {
     "name": "stdout",
     "output_type": "stream",
     "text": [
      "387\n",
      "388\n"
     ]
    },
    {
     "name": "stderr",
     "output_type": "stream",
     "text": [
      "\r",
      " 19%|█▉        | 389/2065 [01:01<05:47,  4.83it/s]"
     ]
    },
    {
     "name": "stdout",
     "output_type": "stream",
     "text": [
      "389\n"
     ]
    },
    {
     "name": "stderr",
     "output_type": "stream",
     "text": [
      "\r",
      " 19%|█▉        | 390/2065 [01:01<05:54,  4.73it/s]"
     ]
    },
    {
     "name": "stdout",
     "output_type": "stream",
     "text": [
      "390\n"
     ]
    },
    {
     "name": "stderr",
     "output_type": "stream",
     "text": [
      " 19%|█▉        | 392/2065 [01:02<05:32,  5.03it/s]"
     ]
    },
    {
     "name": "stdout",
     "output_type": "stream",
     "text": [
      "391\n",
      "392\n"
     ]
    },
    {
     "name": "stderr",
     "output_type": "stream",
     "text": [
      "\r",
      " 19%|█▉        | 393/2065 [01:02<04:47,  5.82it/s]"
     ]
    },
    {
     "name": "stdout",
     "output_type": "stream",
     "text": [
      "393\n"
     ]
    },
    {
     "name": "stderr",
     "output_type": "stream",
     "text": [
      " 19%|█▉        | 395/2065 [01:02<05:01,  5.53it/s]"
     ]
    },
    {
     "name": "stdout",
     "output_type": "stream",
     "text": [
      "394\n",
      "395\n"
     ]
    },
    {
     "name": "stderr",
     "output_type": "stream",
     "text": [
      "\r",
      " 19%|█▉        | 396/2065 [01:02<04:35,  6.06it/s]"
     ]
    },
    {
     "name": "stdout",
     "output_type": "stream",
     "text": [
      "396\n",
      "397\n"
     ]
    },
    {
     "name": "stderr",
     "output_type": "stream",
     "text": [
      " 19%|█▉        | 399/2065 [01:03<04:10,  6.66it/s]"
     ]
    },
    {
     "name": "stdout",
     "output_type": "stream",
     "text": [
      "398\n",
      "399\n"
     ]
    },
    {
     "name": "stderr",
     "output_type": "stream",
     "text": [
      " 19%|█▉        | 401/2065 [01:03<04:10,  6.65it/s]"
     ]
    },
    {
     "name": "stdout",
     "output_type": "stream",
     "text": [
      "400\n",
      "401\n"
     ]
    },
    {
     "name": "stderr",
     "output_type": "stream",
     "text": [
      " 20%|█▉        | 403/2065 [01:03<04:07,  6.72it/s]"
     ]
    },
    {
     "name": "stdout",
     "output_type": "stream",
     "text": [
      "402\n",
      "403\n"
     ]
    },
    {
     "name": "stderr",
     "output_type": "stream",
     "text": [
      " 20%|█▉        | 405/2065 [01:04<03:57,  6.98it/s]"
     ]
    },
    {
     "name": "stdout",
     "output_type": "stream",
     "text": [
      "404\n",
      "405\n"
     ]
    },
    {
     "name": "stderr",
     "output_type": "stream",
     "text": [
      " 20%|█▉        | 407/2065 [01:04<04:24,  6.28it/s]"
     ]
    },
    {
     "name": "stdout",
     "output_type": "stream",
     "text": [
      "406\n",
      "407\n"
     ]
    },
    {
     "name": "stderr",
     "output_type": "stream",
     "text": [
      " 20%|█▉        | 409/2065 [01:04<04:31,  6.10it/s]"
     ]
    },
    {
     "name": "stdout",
     "output_type": "stream",
     "text": [
      "408\n",
      "409\n"
     ]
    },
    {
     "name": "stderr",
     "output_type": "stream",
     "text": [
      " 20%|█▉        | 411/2065 [01:05<04:34,  6.02it/s]"
     ]
    },
    {
     "name": "stdout",
     "output_type": "stream",
     "text": [
      "410\n",
      "411\n"
     ]
    },
    {
     "name": "stderr",
     "output_type": "stream",
     "text": [
      " 20%|██        | 414/2065 [01:05<03:30,  7.85it/s]"
     ]
    },
    {
     "name": "stdout",
     "output_type": "stream",
     "text": [
      "412\n",
      "413\n",
      "414\n"
     ]
    },
    {
     "name": "stderr",
     "output_type": "stream",
     "text": [
      "\r",
      " 20%|██        | 416/2065 [01:05<03:25,  8.04it/s]"
     ]
    },
    {
     "name": "stdout",
     "output_type": "stream",
     "text": [
      "415\n",
      "416\n"
     ]
    },
    {
     "name": "stderr",
     "output_type": "stream",
     "text": [
      " 20%|██        | 418/2065 [01:06<03:16,  8.39it/s]"
     ]
    },
    {
     "name": "stdout",
     "output_type": "stream",
     "text": [
      "417\n",
      "418\n"
     ]
    },
    {
     "name": "stderr",
     "output_type": "stream",
     "text": [
      " 20%|██        | 420/2065 [01:06<04:12,  6.52it/s]"
     ]
    },
    {
     "name": "stdout",
     "output_type": "stream",
     "text": [
      "419\n",
      "420\n"
     ]
    },
    {
     "name": "stderr",
     "output_type": "stream",
     "text": [
      " 20%|██        | 422/2065 [01:06<04:36,  5.93it/s]"
     ]
    },
    {
     "name": "stdout",
     "output_type": "stream",
     "text": [
      "421\n",
      "422\n"
     ]
    },
    {
     "name": "stderr",
     "output_type": "stream",
     "text": [
      "\r",
      " 20%|██        | 423/2065 [01:07<04:54,  5.57it/s]"
     ]
    },
    {
     "name": "stdout",
     "output_type": "stream",
     "text": [
      "423\n",
      "424\n"
     ]
    },
    {
     "name": "stderr",
     "output_type": "stream",
     "text": [
      " 21%|██        | 426/2065 [01:07<04:29,  6.08it/s]"
     ]
    },
    {
     "name": "stdout",
     "output_type": "stream",
     "text": [
      "425\n",
      "426\n"
     ]
    },
    {
     "name": "stderr",
     "output_type": "stream",
     "text": [
      " 21%|██        | 428/2065 [01:07<04:43,  5.77it/s]"
     ]
    },
    {
     "name": "stdout",
     "output_type": "stream",
     "text": [
      "427\n",
      "428\n"
     ]
    },
    {
     "name": "stderr",
     "output_type": "stream",
     "text": [
      " 21%|██        | 430/2065 [01:08<04:41,  5.81it/s]"
     ]
    },
    {
     "name": "stdout",
     "output_type": "stream",
     "text": [
      "429\n",
      "430\n"
     ]
    },
    {
     "name": "stderr",
     "output_type": "stream",
     "text": [
      " 21%|██        | 432/2065 [01:08<04:34,  5.94it/s]"
     ]
    },
    {
     "name": "stdout",
     "output_type": "stream",
     "text": [
      "431\n",
      "432\n"
     ]
    },
    {
     "name": "stderr",
     "output_type": "stream",
     "text": [
      " 21%|██        | 434/2065 [01:08<04:32,  5.98it/s]"
     ]
    },
    {
     "name": "stdout",
     "output_type": "stream",
     "text": [
      "433\n",
      "434\n"
     ]
    },
    {
     "name": "stderr",
     "output_type": "stream",
     "text": [
      " 21%|██        | 436/2065 [01:09<04:43,  5.75it/s]"
     ]
    },
    {
     "name": "stdout",
     "output_type": "stream",
     "text": [
      "435\n",
      "436\n"
     ]
    },
    {
     "name": "stderr",
     "output_type": "stream",
     "text": [
      " 21%|██        | 438/2065 [01:09<04:42,  5.75it/s]"
     ]
    },
    {
     "name": "stdout",
     "output_type": "stream",
     "text": [
      "437\n",
      "438\n"
     ]
    },
    {
     "name": "stderr",
     "output_type": "stream",
     "text": [
      " 21%|██▏       | 440/2065 [01:09<04:45,  5.68it/s]"
     ]
    },
    {
     "name": "stdout",
     "output_type": "stream",
     "text": [
      "439\n",
      "440\n"
     ]
    },
    {
     "name": "stderr",
     "output_type": "stream",
     "text": [
      " 21%|██▏       | 442/2065 [01:10<04:55,  5.48it/s]"
     ]
    },
    {
     "name": "stdout",
     "output_type": "stream",
     "text": [
      "441\n",
      "442\n"
     ]
    },
    {
     "name": "stderr",
     "output_type": "stream",
     "text": [
      " 22%|██▏       | 444/2065 [01:10<04:40,  5.77it/s]"
     ]
    },
    {
     "name": "stdout",
     "output_type": "stream",
     "text": [
      "443\n",
      "444\n"
     ]
    },
    {
     "name": "stderr",
     "output_type": "stream",
     "text": [
      " 22%|██▏       | 446/2065 [01:10<04:32,  5.95it/s]"
     ]
    },
    {
     "name": "stdout",
     "output_type": "stream",
     "text": [
      "445\n",
      "446\n"
     ]
    },
    {
     "name": "stderr",
     "output_type": "stream",
     "text": [
      " 22%|██▏       | 448/2065 [01:11<04:14,  6.34it/s]"
     ]
    },
    {
     "name": "stdout",
     "output_type": "stream",
     "text": [
      "447\n",
      "448\n"
     ]
    },
    {
     "name": "stderr",
     "output_type": "stream",
     "text": [
      " 22%|██▏       | 450/2065 [01:11<04:17,  6.27it/s]"
     ]
    },
    {
     "name": "stdout",
     "output_type": "stream",
     "text": [
      "449\n",
      "450\n"
     ]
    },
    {
     "name": "stderr",
     "output_type": "stream",
     "text": [
      " 22%|██▏       | 452/2065 [01:11<04:05,  6.57it/s]"
     ]
    },
    {
     "name": "stdout",
     "output_type": "stream",
     "text": [
      "451\n",
      "452\n"
     ]
    },
    {
     "name": "stderr",
     "output_type": "stream",
     "text": [
      " 22%|██▏       | 454/2065 [01:12<03:38,  7.36it/s]"
     ]
    },
    {
     "name": "stdout",
     "output_type": "stream",
     "text": [
      "453\n",
      "454\n"
     ]
    },
    {
     "name": "stderr",
     "output_type": "stream",
     "text": [
      " 22%|██▏       | 457/2065 [01:12<03:19,  8.05it/s]"
     ]
    },
    {
     "name": "stdout",
     "output_type": "stream",
     "text": [
      "455\n",
      "456\n",
      "457\n"
     ]
    },
    {
     "name": "stderr",
     "output_type": "stream",
     "text": [
      " 22%|██▏       | 459/2065 [01:12<03:42,  7.21it/s]"
     ]
    },
    {
     "name": "stdout",
     "output_type": "stream",
     "text": [
      "458\n",
      "459\n"
     ]
    },
    {
     "name": "stderr",
     "output_type": "stream",
     "text": [
      "\r",
      " 22%|██▏       | 461/2065 [01:12<03:16,  8.18it/s]"
     ]
    },
    {
     "name": "stdout",
     "output_type": "stream",
     "text": [
      "460\n",
      "461\n"
     ]
    },
    {
     "name": "stderr",
     "output_type": "stream",
     "text": [
      "\r",
      " 22%|██▏       | 462/2065 [01:13<04:02,  6.62it/s]"
     ]
    },
    {
     "name": "stdout",
     "output_type": "stream",
     "text": [
      "462\n"
     ]
    },
    {
     "name": "stderr",
     "output_type": "stream",
     "text": [
      "\r",
      " 22%|██▏       | 463/2065 [01:13<04:36,  5.79it/s]"
     ]
    },
    {
     "name": "stdout",
     "output_type": "stream",
     "text": [
      "463\n"
     ]
    },
    {
     "name": "stderr",
     "output_type": "stream",
     "text": [
      "\r",
      " 22%|██▏       | 464/2065 [01:13<04:55,  5.41it/s]"
     ]
    },
    {
     "name": "stdout",
     "output_type": "stream",
     "text": [
      "464\n"
     ]
    },
    {
     "name": "stderr",
     "output_type": "stream",
     "text": [
      "\r",
      " 23%|██▎       | 465/2065 [01:13<05:07,  5.21it/s]"
     ]
    },
    {
     "name": "stdout",
     "output_type": "stream",
     "text": [
      "465\n"
     ]
    },
    {
     "name": "stderr",
     "output_type": "stream",
     "text": [
      "\r",
      " 23%|██▎       | 466/2065 [01:14<05:22,  4.95it/s]"
     ]
    },
    {
     "name": "stdout",
     "output_type": "stream",
     "text": [
      "466\n"
     ]
    },
    {
     "name": "stderr",
     "output_type": "stream",
     "text": [
      "\r",
      " 23%|██▎       | 467/2065 [01:14<05:29,  4.85it/s]"
     ]
    },
    {
     "name": "stdout",
     "output_type": "stream",
     "text": [
      "467\n"
     ]
    },
    {
     "name": "stderr",
     "output_type": "stream",
     "text": [
      " 23%|██▎       | 469/2065 [01:14<05:27,  4.87it/s]"
     ]
    },
    {
     "name": "stdout",
     "output_type": "stream",
     "text": [
      "468\n",
      "469\n"
     ]
    },
    {
     "name": "stderr",
     "output_type": "stream",
     "text": [
      " 23%|██▎       | 471/2065 [01:15<04:53,  5.42it/s]"
     ]
    },
    {
     "name": "stdout",
     "output_type": "stream",
     "text": [
      "470\n",
      "471\n"
     ]
    },
    {
     "name": "stderr",
     "output_type": "stream",
     "text": [
      "\r",
      " 23%|██▎       | 472/2065 [01:15<05:11,  5.11it/s]"
     ]
    },
    {
     "name": "stdout",
     "output_type": "stream",
     "text": [
      "472\n"
     ]
    },
    {
     "name": "stderr",
     "output_type": "stream",
     "text": [
      "\r",
      " 23%|██▎       | 473/2065 [01:15<05:25,  4.89it/s]"
     ]
    },
    {
     "name": "stdout",
     "output_type": "stream",
     "text": [
      "473\n"
     ]
    },
    {
     "name": "stderr",
     "output_type": "stream",
     "text": [
      " 23%|██▎       | 475/2065 [01:15<05:20,  4.95it/s]"
     ]
    },
    {
     "name": "stdout",
     "output_type": "stream",
     "text": [
      "474\n",
      "475\n"
     ]
    },
    {
     "name": "stderr",
     "output_type": "stream",
     "text": [
      " 23%|██▎       | 477/2065 [01:16<04:14,  6.24it/s]"
     ]
    },
    {
     "name": "stdout",
     "output_type": "stream",
     "text": [
      "476\n",
      "477\n",
      "478\n"
     ]
    },
    {
     "name": "stderr",
     "output_type": "stream",
     "text": [
      " 23%|██▎       | 480/2065 [01:16<03:27,  7.64it/s]"
     ]
    },
    {
     "name": "stdout",
     "output_type": "stream",
     "text": [
      "479\n",
      "480\n"
     ]
    },
    {
     "name": "stderr",
     "output_type": "stream",
     "text": [
      "\r",
      " 23%|██▎       | 482/2065 [01:16<03:22,  7.82it/s]"
     ]
    },
    {
     "name": "stdout",
     "output_type": "stream",
     "text": [
      "481\n",
      "482\n"
     ]
    },
    {
     "name": "stderr",
     "output_type": "stream",
     "text": [
      "\r",
      " 23%|██▎       | 484/2065 [01:16<03:13,  8.18it/s]"
     ]
    },
    {
     "name": "stdout",
     "output_type": "stream",
     "text": [
      "483\n",
      "484\n"
     ]
    },
    {
     "name": "stderr",
     "output_type": "stream",
     "text": [
      "\r",
      " 24%|██▎       | 486/2065 [01:17<03:22,  7.78it/s]"
     ]
    },
    {
     "name": "stdout",
     "output_type": "stream",
     "text": [
      "485\n",
      "486\n"
     ]
    },
    {
     "name": "stderr",
     "output_type": "stream",
     "text": [
      " 24%|██▎       | 488/2065 [01:17<03:52,  6.78it/s]"
     ]
    },
    {
     "name": "stdout",
     "output_type": "stream",
     "text": [
      "487\n",
      "488\n"
     ]
    },
    {
     "name": "stderr",
     "output_type": "stream",
     "text": [
      " 24%|██▎       | 490/2065 [01:18<04:22,  6.00it/s]"
     ]
    },
    {
     "name": "stdout",
     "output_type": "stream",
     "text": [
      "489\n",
      "490\n"
     ]
    },
    {
     "name": "stderr",
     "output_type": "stream",
     "text": [
      " 24%|██▍       | 492/2065 [01:18<04:34,  5.74it/s]"
     ]
    },
    {
     "name": "stdout",
     "output_type": "stream",
     "text": [
      "491\n",
      "492\n"
     ]
    },
    {
     "name": "stderr",
     "output_type": "stream",
     "text": [
      " 24%|██▍       | 494/2065 [01:18<04:12,  6.22it/s]"
     ]
    },
    {
     "name": "stdout",
     "output_type": "stream",
     "text": [
      "493\n",
      "494\n"
     ]
    },
    {
     "name": "stderr",
     "output_type": "stream",
     "text": [
      " 24%|██▍       | 496/2065 [01:19<04:12,  6.22it/s]"
     ]
    },
    {
     "name": "stdout",
     "output_type": "stream",
     "text": [
      "495\n",
      "496\n"
     ]
    },
    {
     "name": "stderr",
     "output_type": "stream",
     "text": [
      " 24%|██▍       | 498/2065 [01:19<04:08,  6.30it/s]"
     ]
    },
    {
     "name": "stdout",
     "output_type": "stream",
     "text": [
      "497\n",
      "498\n"
     ]
    },
    {
     "name": "stderr",
     "output_type": "stream",
     "text": [
      " 24%|██▍       | 500/2065 [01:19<04:22,  5.96it/s]"
     ]
    },
    {
     "name": "stdout",
     "output_type": "stream",
     "text": [
      "499\n",
      "500\n"
     ]
    },
    {
     "name": "stderr",
     "output_type": "stream",
     "text": [
      " 24%|██▍       | 502/2065 [01:19<04:12,  6.19it/s]"
     ]
    },
    {
     "name": "stdout",
     "output_type": "stream",
     "text": [
      "501\n",
      "502\n"
     ]
    },
    {
     "name": "stderr",
     "output_type": "stream",
     "text": [
      " 24%|██▍       | 504/2065 [01:20<04:25,  5.87it/s]"
     ]
    },
    {
     "name": "stdout",
     "output_type": "stream",
     "text": [
      "503\n",
      "504\n"
     ]
    },
    {
     "name": "stderr",
     "output_type": "stream",
     "text": [
      " 25%|██▍       | 506/2065 [01:20<04:22,  5.93it/s]"
     ]
    },
    {
     "name": "stdout",
     "output_type": "stream",
     "text": [
      "505\n",
      "506\n"
     ]
    },
    {
     "name": "stderr",
     "output_type": "stream",
     "text": [
      " 25%|██▍       | 508/2065 [01:20<03:44,  6.93it/s]"
     ]
    },
    {
     "name": "stdout",
     "output_type": "stream",
     "text": [
      "507\n",
      "508\n"
     ]
    },
    {
     "name": "stderr",
     "output_type": "stream",
     "text": [
      " 25%|██▍       | 510/2065 [01:21<03:43,  6.97it/s]"
     ]
    },
    {
     "name": "stdout",
     "output_type": "stream",
     "text": [
      "509\n",
      "510\n"
     ]
    },
    {
     "name": "stderr",
     "output_type": "stream",
     "text": [
      " 25%|██▍       | 512/2065 [01:21<03:33,  7.28it/s]"
     ]
    },
    {
     "name": "stdout",
     "output_type": "stream",
     "text": [
      "511\n",
      "512\n"
     ]
    },
    {
     "name": "stderr",
     "output_type": "stream",
     "text": [
      " 25%|██▍       | 514/2065 [01:21<03:38,  7.11it/s]"
     ]
    },
    {
     "name": "stdout",
     "output_type": "stream",
     "text": [
      "513\n",
      "514\n"
     ]
    },
    {
     "name": "stderr",
     "output_type": "stream",
     "text": [
      " 25%|██▍       | 516/2065 [01:22<03:37,  7.12it/s]"
     ]
    },
    {
     "name": "stdout",
     "output_type": "stream",
     "text": [
      "515\n",
      "516\n"
     ]
    },
    {
     "name": "stderr",
     "output_type": "stream",
     "text": [
      " 25%|██▌       | 518/2065 [01:22<04:14,  6.07it/s]"
     ]
    },
    {
     "name": "stdout",
     "output_type": "stream",
     "text": [
      "517\n",
      "518\n"
     ]
    },
    {
     "name": "stderr",
     "output_type": "stream",
     "text": [
      " 25%|██▌       | 520/2065 [01:22<04:41,  5.49it/s]"
     ]
    },
    {
     "name": "stdout",
     "output_type": "stream",
     "text": [
      "519\n",
      "520\n"
     ]
    },
    {
     "name": "stderr",
     "output_type": "stream",
     "text": [
      " 25%|██▌       | 522/2065 [01:23<04:41,  5.48it/s]"
     ]
    },
    {
     "name": "stdout",
     "output_type": "stream",
     "text": [
      "521\n",
      "522\n"
     ]
    },
    {
     "name": "stderr",
     "output_type": "stream",
     "text": [
      " 25%|██▌       | 524/2065 [01:23<04:10,  6.14it/s]"
     ]
    },
    {
     "name": "stdout",
     "output_type": "stream",
     "text": [
      "523\n",
      "524\n"
     ]
    },
    {
     "name": "stderr",
     "output_type": "stream",
     "text": [
      " 25%|██▌       | 526/2065 [01:23<04:18,  5.95it/s]"
     ]
    },
    {
     "name": "stdout",
     "output_type": "stream",
     "text": [
      "525\n",
      "526\n"
     ]
    },
    {
     "name": "stderr",
     "output_type": "stream",
     "text": [
      " 26%|██▌       | 528/2065 [01:24<04:26,  5.76it/s]"
     ]
    },
    {
     "name": "stdout",
     "output_type": "stream",
     "text": [
      "527\n",
      "528\n"
     ]
    },
    {
     "name": "stderr",
     "output_type": "stream",
     "text": [
      " 26%|██▌       | 530/2065 [01:24<04:28,  5.73it/s]"
     ]
    },
    {
     "name": "stdout",
     "output_type": "stream",
     "text": [
      "529\n",
      "530\n"
     ]
    },
    {
     "name": "stderr",
     "output_type": "stream",
     "text": [
      " 26%|██▌       | 532/2065 [01:24<03:50,  6.66it/s]"
     ]
    },
    {
     "name": "stdout",
     "output_type": "stream",
     "text": [
      "531\n",
      "532\n"
     ]
    },
    {
     "name": "stderr",
     "output_type": "stream",
     "text": [
      "\r",
      " 26%|██▌       | 534/2065 [01:24<03:08,  8.10it/s]"
     ]
    },
    {
     "name": "stdout",
     "output_type": "stream",
     "text": [
      "533\n",
      "534\n",
      "535\n"
     ]
    },
    {
     "name": "stderr",
     "output_type": "stream",
     "text": [
      " 26%|██▌       | 537/2065 [01:25<02:52,  8.84it/s]"
     ]
    },
    {
     "name": "stdout",
     "output_type": "stream",
     "text": [
      "536\n",
      "537\n"
     ]
    },
    {
     "name": "stderr",
     "output_type": "stream",
     "text": [
      " 26%|██▌       | 539/2065 [01:25<03:34,  7.13it/s]"
     ]
    },
    {
     "name": "stdout",
     "output_type": "stream",
     "text": [
      "538\n",
      "539\n"
     ]
    },
    {
     "name": "stderr",
     "output_type": "stream",
     "text": [
      "\r",
      " 26%|██▌       | 540/2065 [01:25<03:49,  6.63it/s]"
     ]
    },
    {
     "name": "stdout",
     "output_type": "stream",
     "text": [
      "540\n",
      "541\n"
     ]
    },
    {
     "name": "stderr",
     "output_type": "stream",
     "text": [
      "\r",
      " 26%|██▌       | 542/2065 [01:26<03:37,  7.00it/s]"
     ]
    },
    {
     "name": "stdout",
     "output_type": "stream",
     "text": [
      "542\n"
     ]
    },
    {
     "name": "stderr",
     "output_type": "stream",
     "text": [
      "\r",
      " 26%|██▋       | 543/2065 [01:26<04:13,  6.01it/s]"
     ]
    },
    {
     "name": "stdout",
     "output_type": "stream",
     "text": [
      "543\n"
     ]
    },
    {
     "name": "stderr",
     "output_type": "stream",
     "text": [
      " 26%|██▋       | 545/2065 [01:26<04:42,  5.38it/s]"
     ]
    },
    {
     "name": "stdout",
     "output_type": "stream",
     "text": [
      "544\n",
      "545\n"
     ]
    },
    {
     "name": "stderr",
     "output_type": "stream",
     "text": [
      "\r",
      " 26%|██▋       | 546/2065 [01:26<05:01,  5.04it/s]"
     ]
    },
    {
     "name": "stdout",
     "output_type": "stream",
     "text": [
      "546\n"
     ]
    },
    {
     "name": "stderr",
     "output_type": "stream",
     "text": [
      "\r",
      " 26%|██▋       | 547/2065 [01:27<05:13,  4.84it/s]"
     ]
    },
    {
     "name": "stdout",
     "output_type": "stream",
     "text": [
      "547\n"
     ]
    },
    {
     "name": "stderr",
     "output_type": "stream",
     "text": [
      "\r",
      " 27%|██▋       | 548/2065 [01:27<05:21,  4.71it/s]"
     ]
    },
    {
     "name": "stdout",
     "output_type": "stream",
     "text": [
      "548\n"
     ]
    },
    {
     "name": "stderr",
     "output_type": "stream",
     "text": [
      "\r",
      " 27%|██▋       | 549/2065 [01:27<05:23,  4.68it/s]"
     ]
    },
    {
     "name": "stdout",
     "output_type": "stream",
     "text": [
      "549\n"
     ]
    },
    {
     "name": "stderr",
     "output_type": "stream",
     "text": [
      "\r",
      " 27%|██▋       | 550/2065 [01:27<05:30,  4.59it/s]"
     ]
    },
    {
     "name": "stdout",
     "output_type": "stream",
     "text": [
      "550\n"
     ]
    },
    {
     "name": "stderr",
     "output_type": "stream",
     "text": [
      "\r",
      " 27%|██▋       | 551/2065 [01:28<05:35,  4.52it/s]"
     ]
    },
    {
     "name": "stdout",
     "output_type": "stream",
     "text": [
      "551\n"
     ]
    },
    {
     "name": "stderr",
     "output_type": "stream",
     "text": [
      "\r",
      " 27%|██▋       | 552/2065 [01:28<05:36,  4.50it/s]"
     ]
    },
    {
     "name": "stdout",
     "output_type": "stream",
     "text": [
      "552\n"
     ]
    },
    {
     "name": "stderr",
     "output_type": "stream",
     "text": [
      "\r",
      " 27%|██▋       | 553/2065 [01:28<05:35,  4.51it/s]"
     ]
    },
    {
     "name": "stdout",
     "output_type": "stream",
     "text": [
      "553\n"
     ]
    },
    {
     "name": "stderr",
     "output_type": "stream",
     "text": [
      " 27%|██▋       | 555/2065 [01:28<05:20,  4.71it/s]"
     ]
    },
    {
     "name": "stdout",
     "output_type": "stream",
     "text": [
      "554\n",
      "555\n"
     ]
    },
    {
     "name": "stderr",
     "output_type": "stream",
     "text": [
      "\r",
      " 27%|██▋       | 556/2065 [01:29<05:01,  5.00it/s]"
     ]
    },
    {
     "name": "stdout",
     "output_type": "stream",
     "text": [
      "556\n"
     ]
    },
    {
     "name": "stderr",
     "output_type": "stream",
     "text": [
      " 27%|██▋       | 558/2065 [01:29<05:03,  4.96it/s]"
     ]
    },
    {
     "name": "stdout",
     "output_type": "stream",
     "text": [
      "557\n"
     ]
    },
    {
     "name": "stderr",
     "output_type": "stream",
     "text": [
      "\r",
      " 27%|██▋       | 559/2065 [01:29<04:57,  5.07it/s]"
     ]
    },
    {
     "name": "stdout",
     "output_type": "stream",
     "text": [
      "558\n",
      "559\n"
     ]
    },
    {
     "name": "stderr",
     "output_type": "stream",
     "text": [
      " 27%|██▋       | 561/2065 [01:30<04:47,  5.23it/s]"
     ]
    },
    {
     "name": "stdout",
     "output_type": "stream",
     "text": [
      "560\n",
      "561\n"
     ]
    },
    {
     "name": "stderr",
     "output_type": "stream",
     "text": [
      " 27%|██▋       | 563/2065 [01:30<04:25,  5.66it/s]"
     ]
    },
    {
     "name": "stdout",
     "output_type": "stream",
     "text": [
      "562\n",
      "563\n"
     ]
    },
    {
     "name": "stderr",
     "output_type": "stream",
     "text": [
      " 27%|██▋       | 565/2065 [01:30<03:40,  6.80it/s]"
     ]
    },
    {
     "name": "stdout",
     "output_type": "stream",
     "text": [
      "564\n",
      "565\n"
     ]
    },
    {
     "name": "stderr",
     "output_type": "stream",
     "text": [
      " 28%|██▊       | 568/2065 [01:30<02:43,  9.17it/s]"
     ]
    },
    {
     "name": "stdout",
     "output_type": "stream",
     "text": [
      "566\n",
      "567\n",
      "568\n"
     ]
    },
    {
     "name": "stderr",
     "output_type": "stream",
     "text": [
      "\r",
      " 28%|██▊       | 570/2065 [01:31<02:27, 10.11it/s]"
     ]
    },
    {
     "name": "stdout",
     "output_type": "stream",
     "text": [
      "569\n",
      "570\n",
      "571\n"
     ]
    },
    {
     "name": "stderr",
     "output_type": "stream",
     "text": [
      " 28%|██▊       | 573/2065 [01:31<02:57,  8.42it/s]"
     ]
    },
    {
     "name": "stdout",
     "output_type": "stream",
     "text": [
      "572\n",
      "573\n"
     ]
    },
    {
     "name": "stderr",
     "output_type": "stream",
     "text": [
      " 28%|██▊       | 575/2065 [01:31<03:43,  6.65it/s]"
     ]
    },
    {
     "name": "stdout",
     "output_type": "stream",
     "text": [
      "574\n",
      "575\n"
     ]
    },
    {
     "name": "stderr",
     "output_type": "stream",
     "text": [
      "\r",
      " 28%|██▊       | 576/2065 [01:31<03:27,  7.17it/s]"
     ]
    },
    {
     "name": "stdout",
     "output_type": "stream",
     "text": [
      "576\n"
     ]
    },
    {
     "name": "stderr",
     "output_type": "stream",
     "text": [
      "\r",
      " 28%|██▊       | 577/2065 [01:32<03:55,  6.32it/s]"
     ]
    },
    {
     "name": "stdout",
     "output_type": "stream",
     "text": [
      "577\n",
      "578\n"
     ]
    },
    {
     "name": "stderr",
     "output_type": "stream",
     "text": [
      " 28%|██▊       | 580/2065 [01:32<03:59,  6.20it/s]"
     ]
    },
    {
     "name": "stdout",
     "output_type": "stream",
     "text": [
      "579\n",
      "580\n"
     ]
    },
    {
     "name": "stderr",
     "output_type": "stream",
     "text": [
      " 28%|██▊       | 582/2065 [01:33<04:18,  5.74it/s]"
     ]
    },
    {
     "name": "stdout",
     "output_type": "stream",
     "text": [
      "581\n",
      "582\n"
     ]
    },
    {
     "name": "stderr",
     "output_type": "stream",
     "text": [
      " 28%|██▊       | 584/2065 [01:33<04:23,  5.62it/s]"
     ]
    },
    {
     "name": "stdout",
     "output_type": "stream",
     "text": [
      "583\n",
      "584\n"
     ]
    },
    {
     "name": "stderr",
     "output_type": "stream",
     "text": [
      " 28%|██▊       | 586/2065 [01:33<04:29,  5.48it/s]"
     ]
    },
    {
     "name": "stdout",
     "output_type": "stream",
     "text": [
      "585\n",
      "586\n"
     ]
    },
    {
     "name": "stderr",
     "output_type": "stream",
     "text": [
      " 28%|██▊       | 588/2065 [01:34<04:24,  5.59it/s]"
     ]
    },
    {
     "name": "stdout",
     "output_type": "stream",
     "text": [
      "587\n",
      "588\n"
     ]
    },
    {
     "name": "stderr",
     "output_type": "stream",
     "text": [
      "\r",
      " 29%|██▊       | 589/2065 [01:34<04:20,  5.66it/s]"
     ]
    },
    {
     "name": "stdout",
     "output_type": "stream",
     "text": [
      "589\n",
      "590\n"
     ]
    },
    {
     "name": "stderr",
     "output_type": "stream",
     "text": [
      "\r",
      " 29%|██▊       | 591/2065 [01:34<03:47,  6.49it/s]"
     ]
    },
    {
     "name": "stdout",
     "output_type": "stream",
     "text": [
      "591\n",
      "592\n"
     ]
    },
    {
     "name": "stderr",
     "output_type": "stream",
     "text": [
      " 29%|██▉       | 594/2065 [01:34<03:23,  7.23it/s]"
     ]
    },
    {
     "name": "stdout",
     "output_type": "stream",
     "text": [
      "593\n",
      "594\n",
      "595\n"
     ]
    },
    {
     "name": "stderr",
     "output_type": "stream",
     "text": [
      " 29%|██▉       | 597/2065 [01:35<03:05,  7.92it/s]"
     ]
    },
    {
     "name": "stdout",
     "output_type": "stream",
     "text": [
      "596\n",
      "597\n"
     ]
    },
    {
     "name": "stderr",
     "output_type": "stream",
     "text": [
      "\r",
      " 29%|██▉       | 599/2065 [01:35<02:52,  8.49it/s]"
     ]
    },
    {
     "name": "stdout",
     "output_type": "stream",
     "text": [
      "598\n",
      "599\n"
     ]
    },
    {
     "name": "stderr",
     "output_type": "stream",
     "text": [
      " 29%|██▉       | 601/2065 [01:35<03:29,  6.99it/s]"
     ]
    },
    {
     "name": "stdout",
     "output_type": "stream",
     "text": [
      "600\n",
      "601\n"
     ]
    },
    {
     "name": "stderr",
     "output_type": "stream",
     "text": [
      " 29%|██▉       | 603/2065 [01:36<03:40,  6.62it/s]"
     ]
    },
    {
     "name": "stdout",
     "output_type": "stream",
     "text": [
      "602\n",
      "603\n"
     ]
    },
    {
     "name": "stderr",
     "output_type": "stream",
     "text": [
      "\r",
      " 29%|██▉       | 604/2065 [01:36<03:58,  6.12it/s]"
     ]
    },
    {
     "name": "stdout",
     "output_type": "stream",
     "text": [
      "604\n",
      "605\n"
     ]
    },
    {
     "name": "stderr",
     "output_type": "stream",
     "text": [
      " 29%|██▉       | 607/2065 [01:36<03:39,  6.63it/s]"
     ]
    },
    {
     "name": "stdout",
     "output_type": "stream",
     "text": [
      "606\n",
      "607\n"
     ]
    },
    {
     "name": "stderr",
     "output_type": "stream",
     "text": [
      " 29%|██▉       | 609/2065 [01:37<04:00,  6.05it/s]"
     ]
    },
    {
     "name": "stdout",
     "output_type": "stream",
     "text": [
      "608\n",
      "609\n"
     ]
    },
    {
     "name": "stderr",
     "output_type": "stream",
     "text": [
      " 30%|██▉       | 611/2065 [01:37<03:19,  7.28it/s]"
     ]
    },
    {
     "name": "stdout",
     "output_type": "stream",
     "text": [
      "610\n",
      "611\n",
      "612\n"
     ]
    },
    {
     "name": "stderr",
     "output_type": "stream",
     "text": [
      "\r",
      " 30%|██▉       | 613/2065 [01:37<03:04,  7.86it/s]"
     ]
    },
    {
     "name": "stdout",
     "output_type": "stream",
     "text": [
      "613\n",
      "614\n"
     ]
    },
    {
     "name": "stderr",
     "output_type": "stream",
     "text": [
      " 30%|██▉       | 616/2065 [01:38<03:24,  7.09it/s]"
     ]
    },
    {
     "name": "stdout",
     "output_type": "stream",
     "text": [
      "615\n",
      "616\n"
     ]
    },
    {
     "name": "stderr",
     "output_type": "stream",
     "text": [
      " 30%|██▉       | 618/2065 [01:38<03:22,  7.15it/s]"
     ]
    },
    {
     "name": "stdout",
     "output_type": "stream",
     "text": [
      "617\n",
      "618\n"
     ]
    },
    {
     "name": "stderr",
     "output_type": "stream",
     "text": [
      "\r",
      " 30%|██▉       | 619/2065 [01:38<03:36,  6.68it/s]"
     ]
    },
    {
     "name": "stdout",
     "output_type": "stream",
     "text": [
      "619\n",
      "620\n"
     ]
    },
    {
     "name": "stderr",
     "output_type": "stream",
     "text": [
      " 30%|███       | 622/2065 [01:38<03:39,  6.56it/s]"
     ]
    },
    {
     "name": "stdout",
     "output_type": "stream",
     "text": [
      "621\n",
      "622\n"
     ]
    },
    {
     "name": "stderr",
     "output_type": "stream",
     "text": [
      " 30%|███       | 624/2065 [01:39<03:22,  7.11it/s]"
     ]
    },
    {
     "name": "stdout",
     "output_type": "stream",
     "text": [
      "623\n",
      "624\n"
     ]
    },
    {
     "name": "stderr",
     "output_type": "stream",
     "text": [
      "\r",
      " 30%|███       | 625/2065 [01:39<03:27,  6.95it/s]"
     ]
    },
    {
     "name": "stdout",
     "output_type": "stream",
     "text": [
      "625\n"
     ]
    },
    {
     "name": "stderr",
     "output_type": "stream",
     "text": [
      " 30%|███       | 627/2065 [01:39<03:44,  6.41it/s]"
     ]
    },
    {
     "name": "stdout",
     "output_type": "stream",
     "text": [
      "626\n",
      "627\n"
     ]
    },
    {
     "name": "stderr",
     "output_type": "stream",
     "text": [
      " 30%|███       | 629/2065 [01:39<03:28,  6.89it/s]"
     ]
    },
    {
     "name": "stdout",
     "output_type": "stream",
     "text": [
      "628\n",
      "629\n"
     ]
    },
    {
     "name": "stderr",
     "output_type": "stream",
     "text": [
      " 31%|███       | 631/2065 [01:40<03:45,  6.35it/s]"
     ]
    },
    {
     "name": "stdout",
     "output_type": "stream",
     "text": [
      "630\n",
      "631\n"
     ]
    },
    {
     "name": "stderr",
     "output_type": "stream",
     "text": [
      " 31%|███       | 633/2065 [01:40<03:56,  6.05it/s]"
     ]
    },
    {
     "name": "stdout",
     "output_type": "stream",
     "text": [
      "632\n",
      "633\n"
     ]
    },
    {
     "name": "stderr",
     "output_type": "stream",
     "text": [
      "\r",
      " 31%|███       | 634/2065 [01:40<03:35,  6.64it/s]"
     ]
    },
    {
     "name": "stdout",
     "output_type": "stream",
     "text": [
      "634\n"
     ]
    },
    {
     "name": "stderr",
     "output_type": "stream",
     "text": [
      " 31%|███       | 636/2065 [01:41<04:12,  5.67it/s]"
     ]
    },
    {
     "name": "stdout",
     "output_type": "stream",
     "text": [
      "635\n",
      "636\n"
     ]
    },
    {
     "name": "stderr",
     "output_type": "stream",
     "text": [
      " 31%|███       | 638/2065 [01:41<04:07,  5.77it/s]"
     ]
    },
    {
     "name": "stdout",
     "output_type": "stream",
     "text": [
      "637\n",
      "638\n"
     ]
    },
    {
     "name": "stderr",
     "output_type": "stream",
     "text": [
      " 31%|███       | 640/2065 [01:41<03:39,  6.49it/s]"
     ]
    },
    {
     "name": "stdout",
     "output_type": "stream",
     "text": [
      "639\n",
      "640\n"
     ]
    },
    {
     "name": "stderr",
     "output_type": "stream",
     "text": [
      " 31%|███       | 643/2065 [01:42<03:06,  7.61it/s]"
     ]
    },
    {
     "name": "stdout",
     "output_type": "stream",
     "text": [
      "641\n",
      "642\n",
      "643\n"
     ]
    },
    {
     "name": "stderr",
     "output_type": "stream",
     "text": [
      " 31%|███▏      | 646/2065 [01:42<02:42,  8.71it/s]"
     ]
    },
    {
     "name": "stdout",
     "output_type": "stream",
     "text": [
      "644\n",
      "645\n",
      "646\n"
     ]
    },
    {
     "name": "stderr",
     "output_type": "stream",
     "text": [
      " 31%|███▏      | 649/2065 [01:42<02:30,  9.38it/s]"
     ]
    },
    {
     "name": "stdout",
     "output_type": "stream",
     "text": [
      "647\n",
      "648\n",
      "649\n"
     ]
    },
    {
     "name": "stderr",
     "output_type": "stream",
     "text": [
      " 32%|███▏      | 652/2065 [01:43<02:25,  9.71it/s]"
     ]
    },
    {
     "name": "stdout",
     "output_type": "stream",
     "text": [
      "650\n",
      "651\n",
      "652\n"
     ]
    },
    {
     "name": "stderr",
     "output_type": "stream",
     "text": [
      " 32%|███▏      | 654/2065 [01:43<03:05,  7.60it/s]"
     ]
    },
    {
     "name": "stdout",
     "output_type": "stream",
     "text": [
      "653\n",
      "654\n"
     ]
    },
    {
     "name": "stderr",
     "output_type": "stream",
     "text": [
      " 32%|███▏      | 656/2065 [01:43<03:30,  6.68it/s]"
     ]
    },
    {
     "name": "stdout",
     "output_type": "stream",
     "text": [
      "655\n",
      "656\n"
     ]
    },
    {
     "name": "stderr",
     "output_type": "stream",
     "text": [
      " 32%|███▏      | 658/2065 [01:44<03:28,  6.75it/s]"
     ]
    },
    {
     "name": "stdout",
     "output_type": "stream",
     "text": [
      "657\n",
      "658\n"
     ]
    },
    {
     "name": "stderr",
     "output_type": "stream",
     "text": [
      " 32%|███▏      | 660/2065 [01:44<03:43,  6.28it/s]"
     ]
    },
    {
     "name": "stdout",
     "output_type": "stream",
     "text": [
      "659\n",
      "660\n"
     ]
    },
    {
     "name": "stderr",
     "output_type": "stream",
     "text": [
      " 32%|███▏      | 662/2065 [01:44<03:57,  5.90it/s]"
     ]
    },
    {
     "name": "stdout",
     "output_type": "stream",
     "text": [
      "661\n",
      "662\n"
     ]
    },
    {
     "name": "stderr",
     "output_type": "stream",
     "text": [
      "\r",
      " 32%|███▏      | 664/2065 [01:44<03:05,  7.54it/s]"
     ]
    },
    {
     "name": "stdout",
     "output_type": "stream",
     "text": [
      "663\n",
      "664\n"
     ]
    },
    {
     "name": "stderr",
     "output_type": "stream",
     "text": [
      " 32%|███▏      | 666/2065 [01:45<03:33,  6.54it/s]"
     ]
    },
    {
     "name": "stdout",
     "output_type": "stream",
     "text": [
      "665\n",
      "666\n"
     ]
    },
    {
     "name": "stderr",
     "output_type": "stream",
     "text": [
      " 32%|███▏      | 669/2065 [01:45<02:47,  8.36it/s]"
     ]
    },
    {
     "name": "stdout",
     "output_type": "stream",
     "text": [
      "667\n",
      "668\n",
      "669\n"
     ]
    },
    {
     "name": "stderr",
     "output_type": "stream",
     "text": [
      " 32%|███▏      | 671/2065 [01:46<03:27,  6.73it/s]"
     ]
    },
    {
     "name": "stdout",
     "output_type": "stream",
     "text": [
      "670\n",
      "671\n"
     ]
    },
    {
     "name": "stderr",
     "output_type": "stream",
     "text": [
      " 33%|███▎      | 674/2065 [01:46<03:02,  7.61it/s]"
     ]
    },
    {
     "name": "stdout",
     "output_type": "stream",
     "text": [
      "672\n",
      "673\n",
      "674\n"
     ]
    },
    {
     "name": "stderr",
     "output_type": "stream",
     "text": [
      " 33%|███▎      | 676/2065 [01:46<03:21,  6.90it/s]"
     ]
    },
    {
     "name": "stdout",
     "output_type": "stream",
     "text": [
      "675\n",
      "676\n"
     ]
    },
    {
     "name": "stderr",
     "output_type": "stream",
     "text": [
      " 33%|███▎      | 678/2065 [01:47<03:41,  6.26it/s]"
     ]
    },
    {
     "name": "stdout",
     "output_type": "stream",
     "text": [
      "677\n",
      "678\n"
     ]
    },
    {
     "name": "stderr",
     "output_type": "stream",
     "text": [
      " 33%|███▎      | 680/2065 [01:47<03:59,  5.79it/s]"
     ]
    },
    {
     "name": "stdout",
     "output_type": "stream",
     "text": [
      "679\n",
      "680\n"
     ]
    },
    {
     "name": "stderr",
     "output_type": "stream",
     "text": [
      "\r",
      " 33%|███▎      | 681/2065 [01:47<04:03,  5.69it/s]"
     ]
    },
    {
     "name": "stdout",
     "output_type": "stream",
     "text": [
      "681\n",
      "682\n"
     ]
    },
    {
     "name": "stderr",
     "output_type": "stream",
     "text": [
      " 33%|███▎      | 684/2065 [01:48<03:40,  6.25it/s]"
     ]
    },
    {
     "name": "stdout",
     "output_type": "stream",
     "text": [
      "683\n",
      "684\n"
     ]
    },
    {
     "name": "stderr",
     "output_type": "stream",
     "text": [
      " 33%|███▎      | 686/2065 [01:48<03:24,  6.73it/s]"
     ]
    },
    {
     "name": "stdout",
     "output_type": "stream",
     "text": [
      "685\n",
      "686\n"
     ]
    },
    {
     "name": "stderr",
     "output_type": "stream",
     "text": [
      "\r",
      " 33%|███▎      | 687/2065 [01:48<03:42,  6.20it/s]"
     ]
    },
    {
     "name": "stdout",
     "output_type": "stream",
     "text": [
      "687\n"
     ]
    },
    {
     "name": "stderr",
     "output_type": "stream",
     "text": [
      " 33%|███▎      | 689/2065 [01:48<04:02,  5.68it/s]"
     ]
    },
    {
     "name": "stdout",
     "output_type": "stream",
     "text": [
      "688\n",
      "689\n"
     ]
    },
    {
     "name": "stderr",
     "output_type": "stream",
     "text": [
      " 33%|███▎      | 691/2065 [01:49<04:02,  5.67it/s]"
     ]
    },
    {
     "name": "stdout",
     "output_type": "stream",
     "text": [
      "690\n",
      "691\n"
     ]
    },
    {
     "name": "stderr",
     "output_type": "stream",
     "text": [
      " 34%|███▎      | 693/2065 [01:49<03:57,  5.77it/s]"
     ]
    },
    {
     "name": "stdout",
     "output_type": "stream",
     "text": [
      "692\n",
      "693\n"
     ]
    },
    {
     "name": "stderr",
     "output_type": "stream",
     "text": [
      " 34%|███▎      | 695/2065 [01:49<03:58,  5.76it/s]"
     ]
    },
    {
     "name": "stdout",
     "output_type": "stream",
     "text": [
      "694\n",
      "695\n"
     ]
    },
    {
     "name": "stderr",
     "output_type": "stream",
     "text": [
      " 34%|███▍      | 697/2065 [01:50<03:38,  6.26it/s]"
     ]
    },
    {
     "name": "stdout",
     "output_type": "stream",
     "text": [
      "696\n",
      "697\n"
     ]
    },
    {
     "name": "stderr",
     "output_type": "stream",
     "text": [
      " 34%|███▍      | 699/2065 [01:50<03:39,  6.21it/s]"
     ]
    },
    {
     "name": "stdout",
     "output_type": "stream",
     "text": [
      "698\n",
      "699\n"
     ]
    },
    {
     "name": "stderr",
     "output_type": "stream",
     "text": [
      "\r",
      " 34%|███▍      | 700/2065 [01:50<03:46,  6.03it/s]"
     ]
    },
    {
     "name": "stdout",
     "output_type": "stream",
     "text": [
      "700\n",
      "701\n"
     ]
    },
    {
     "name": "stderr",
     "output_type": "stream",
     "text": [
      " 34%|███▍      | 703/2065 [01:51<03:40,  6.17it/s]"
     ]
    },
    {
     "name": "stdout",
     "output_type": "stream",
     "text": [
      "702\n",
      "703\n"
     ]
    },
    {
     "name": "stderr",
     "output_type": "stream",
     "text": [
      "\r",
      " 34%|███▍      | 704/2065 [01:51<03:52,  5.85it/s]"
     ]
    },
    {
     "name": "stdout",
     "output_type": "stream",
     "text": [
      "704\n"
     ]
    },
    {
     "name": "stderr",
     "output_type": "stream",
     "text": [
      "\r",
      " 34%|███▍      | 705/2065 [01:51<04:07,  5.49it/s]"
     ]
    },
    {
     "name": "stdout",
     "output_type": "stream",
     "text": [
      "705\n"
     ]
    },
    {
     "name": "stderr",
     "output_type": "stream",
     "text": [
      "\r",
      " 34%|███▍      | 706/2065 [01:51<04:20,  5.22it/s]"
     ]
    },
    {
     "name": "stdout",
     "output_type": "stream",
     "text": [
      "706\n"
     ]
    },
    {
     "name": "stderr",
     "output_type": "stream",
     "text": [
      "\r",
      " 34%|███▍      | 707/2065 [01:52<04:38,  4.87it/s]"
     ]
    },
    {
     "name": "stdout",
     "output_type": "stream",
     "text": [
      "707\n",
      "708\n"
     ]
    },
    {
     "name": "stderr",
     "output_type": "stream",
     "text": [
      " 34%|███▍      | 710/2065 [01:52<03:30,  6.42it/s]"
     ]
    },
    {
     "name": "stdout",
     "output_type": "stream",
     "text": [
      "709\n",
      "710\n"
     ]
    },
    {
     "name": "stderr",
     "output_type": "stream",
     "text": [
      "\r",
      " 34%|███▍      | 711/2065 [01:52<03:35,  6.29it/s]"
     ]
    },
    {
     "name": "stdout",
     "output_type": "stream",
     "text": [
      "711\n"
     ]
    },
    {
     "name": "stderr",
     "output_type": "stream",
     "text": [
      " 35%|███▍      | 713/2065 [01:52<04:02,  5.58it/s]"
     ]
    },
    {
     "name": "stdout",
     "output_type": "stream",
     "text": [
      "712\n",
      "713\n"
     ]
    },
    {
     "name": "stderr",
     "output_type": "stream",
     "text": [
      " 35%|███▍      | 715/2065 [01:53<04:18,  5.23it/s]"
     ]
    },
    {
     "name": "stdout",
     "output_type": "stream",
     "text": [
      "714\n",
      "715\n"
     ]
    },
    {
     "name": "stderr",
     "output_type": "stream",
     "text": [
      " 35%|███▍      | 717/2065 [01:53<04:15,  5.28it/s]"
     ]
    },
    {
     "name": "stdout",
     "output_type": "stream",
     "text": [
      "716\n",
      "717\n"
     ]
    },
    {
     "name": "stderr",
     "output_type": "stream",
     "text": [
      "\r",
      " 35%|███▍      | 718/2065 [01:54<04:28,  5.01it/s]"
     ]
    },
    {
     "name": "stdout",
     "output_type": "stream",
     "text": [
      "718\n"
     ]
    },
    {
     "name": "stderr",
     "output_type": "stream",
     "text": [
      " 35%|███▍      | 720/2065 [01:54<04:41,  4.77it/s]"
     ]
    },
    {
     "name": "stdout",
     "output_type": "stream",
     "text": [
      "719\n",
      "720\n"
     ]
    },
    {
     "name": "stderr",
     "output_type": "stream",
     "text": [
      " 35%|███▍      | 722/2065 [01:54<03:46,  5.94it/s]"
     ]
    },
    {
     "name": "stdout",
     "output_type": "stream",
     "text": [
      "721\n",
      "722\n"
     ]
    },
    {
     "name": "stderr",
     "output_type": "stream",
     "text": [
      " 35%|███▌      | 724/2065 [01:55<03:41,  6.05it/s]"
     ]
    },
    {
     "name": "stdout",
     "output_type": "stream",
     "text": [
      "723\n",
      "724\n"
     ]
    },
    {
     "name": "stderr",
     "output_type": "stream",
     "text": [
      " 35%|███▌      | 726/2065 [01:55<03:13,  6.91it/s]"
     ]
    },
    {
     "name": "stdout",
     "output_type": "stream",
     "text": [
      "725\n",
      "726\n"
     ]
    },
    {
     "name": "stderr",
     "output_type": "stream",
     "text": [
      " 35%|███▌      | 728/2065 [01:55<03:23,  6.57it/s]"
     ]
    },
    {
     "name": "stdout",
     "output_type": "stream",
     "text": [
      "727\n",
      "728\n"
     ]
    },
    {
     "name": "stderr",
     "output_type": "stream",
     "text": [
      " 35%|███▌      | 730/2065 [01:55<03:22,  6.58it/s]"
     ]
    },
    {
     "name": "stdout",
     "output_type": "stream",
     "text": [
      "729\n",
      "730\n"
     ]
    },
    {
     "name": "stderr",
     "output_type": "stream",
     "text": [
      " 35%|███▌      | 732/2065 [01:56<03:06,  7.14it/s]"
     ]
    },
    {
     "name": "stdout",
     "output_type": "stream",
     "text": [
      "731\n",
      "732\n"
     ]
    },
    {
     "name": "stderr",
     "output_type": "stream",
     "text": [
      "\r",
      " 36%|███▌      | 734/2065 [01:56<02:58,  7.44it/s]"
     ]
    },
    {
     "name": "stdout",
     "output_type": "stream",
     "text": [
      "733\n",
      "734\n"
     ]
    },
    {
     "name": "stderr",
     "output_type": "stream",
     "text": [
      " 36%|███▌      | 736/2065 [01:56<03:15,  6.80it/s]"
     ]
    },
    {
     "name": "stdout",
     "output_type": "stream",
     "text": [
      "735\n",
      "736\n"
     ]
    },
    {
     "name": "stderr",
     "output_type": "stream",
     "text": [
      " 36%|███▌      | 738/2065 [01:57<03:40,  6.01it/s]"
     ]
    },
    {
     "name": "stdout",
     "output_type": "stream",
     "text": [
      "737\n",
      "738\n"
     ]
    },
    {
     "name": "stderr",
     "output_type": "stream",
     "text": [
      " 36%|███▌      | 740/2065 [01:57<03:55,  5.63it/s]"
     ]
    },
    {
     "name": "stdout",
     "output_type": "stream",
     "text": [
      "739\n",
      "740\n"
     ]
    },
    {
     "name": "stderr",
     "output_type": "stream",
     "text": [
      " 36%|███▌      | 742/2065 [01:57<03:48,  5.78it/s]"
     ]
    },
    {
     "name": "stdout",
     "output_type": "stream",
     "text": [
      "741\n",
      "742\n"
     ]
    },
    {
     "name": "stderr",
     "output_type": "stream",
     "text": [
      " 36%|███▌      | 744/2065 [01:58<03:50,  5.72it/s]"
     ]
    },
    {
     "name": "stdout",
     "output_type": "stream",
     "text": [
      "743\n",
      "744\n"
     ]
    },
    {
     "name": "stderr",
     "output_type": "stream",
     "text": [
      "\r",
      " 36%|███▌      | 746/2065 [01:58<03:09,  6.97it/s]"
     ]
    },
    {
     "name": "stdout",
     "output_type": "stream",
     "text": [
      "745\n",
      "746\n"
     ]
    },
    {
     "name": "stderr",
     "output_type": "stream",
     "text": [
      " 36%|███▌      | 748/2065 [01:58<03:41,  5.96it/s]"
     ]
    },
    {
     "name": "stdout",
     "output_type": "stream",
     "text": [
      "747\n",
      "748\n"
     ]
    },
    {
     "name": "stderr",
     "output_type": "stream",
     "text": [
      " 36%|███▋      | 750/2065 [01:59<03:57,  5.54it/s]"
     ]
    },
    {
     "name": "stdout",
     "output_type": "stream",
     "text": [
      "749\n",
      "750\n"
     ]
    },
    {
     "name": "stderr",
     "output_type": "stream",
     "text": [
      " 36%|███▋      | 752/2065 [01:59<03:41,  5.91it/s]"
     ]
    },
    {
     "name": "stdout",
     "output_type": "stream",
     "text": [
      "751\n",
      "752\n"
     ]
    },
    {
     "name": "stderr",
     "output_type": "stream",
     "text": [
      " 37%|███▋      | 754/2065 [01:59<03:48,  5.73it/s]"
     ]
    },
    {
     "name": "stdout",
     "output_type": "stream",
     "text": [
      "753\n",
      "754\n"
     ]
    },
    {
     "name": "stderr",
     "output_type": "stream",
     "text": [
      " 37%|███▋      | 756/2065 [02:00<03:51,  5.65it/s]"
     ]
    },
    {
     "name": "stdout",
     "output_type": "stream",
     "text": [
      "755\n",
      "756\n"
     ]
    },
    {
     "name": "stderr",
     "output_type": "stream",
     "text": [
      "\r",
      " 37%|███▋      | 758/2065 [02:00<03:02,  7.16it/s]"
     ]
    },
    {
     "name": "stdout",
     "output_type": "stream",
     "text": [
      "757\n",
      "758\n"
     ]
    },
    {
     "name": "stderr",
     "output_type": "stream",
     "text": [
      " 37%|███▋      | 760/2065 [02:00<03:11,  6.80it/s]"
     ]
    },
    {
     "name": "stdout",
     "output_type": "stream",
     "text": [
      "759\n",
      "760\n"
     ]
    },
    {
     "name": "stderr",
     "output_type": "stream",
     "text": [
      " 37%|███▋      | 762/2065 [02:01<03:37,  5.99it/s]"
     ]
    },
    {
     "name": "stdout",
     "output_type": "stream",
     "text": [
      "761\n",
      "762\n"
     ]
    },
    {
     "name": "stderr",
     "output_type": "stream",
     "text": [
      " 37%|███▋      | 764/2065 [02:01<03:44,  5.80it/s]"
     ]
    },
    {
     "name": "stdout",
     "output_type": "stream",
     "text": [
      "763\n",
      "764\n"
     ]
    },
    {
     "name": "stderr",
     "output_type": "stream",
     "text": [
      " 37%|███▋      | 766/2065 [02:01<03:44,  5.79it/s]"
     ]
    },
    {
     "name": "stdout",
     "output_type": "stream",
     "text": [
      "765\n",
      "766\n"
     ]
    },
    {
     "name": "stderr",
     "output_type": "stream",
     "text": [
      " 37%|███▋      | 768/2065 [02:02<03:31,  6.15it/s]"
     ]
    },
    {
     "name": "stdout",
     "output_type": "stream",
     "text": [
      "767\n",
      "768\n"
     ]
    },
    {
     "name": "stderr",
     "output_type": "stream",
     "text": [
      " 37%|███▋      | 770/2065 [02:02<03:46,  5.72it/s]"
     ]
    },
    {
     "name": "stdout",
     "output_type": "stream",
     "text": [
      "769\n",
      "770\n"
     ]
    },
    {
     "name": "stderr",
     "output_type": "stream",
     "text": [
      " 37%|███▋      | 772/2065 [02:02<03:51,  5.58it/s]"
     ]
    },
    {
     "name": "stdout",
     "output_type": "stream",
     "text": [
      "771\n",
      "772\n"
     ]
    },
    {
     "name": "stderr",
     "output_type": "stream",
     "text": [
      " 37%|███▋      | 774/2065 [02:03<03:54,  5.50it/s]"
     ]
    },
    {
     "name": "stdout",
     "output_type": "stream",
     "text": [
      "773\n",
      "774\n"
     ]
    },
    {
     "name": "stderr",
     "output_type": "stream",
     "text": [
      " 38%|███▊      | 776/2065 [02:03<03:28,  6.18it/s]"
     ]
    },
    {
     "name": "stdout",
     "output_type": "stream",
     "text": [
      "775\n",
      "776\n"
     ]
    },
    {
     "name": "stderr",
     "output_type": "stream",
     "text": [
      " 38%|███▊      | 778/2065 [02:03<02:59,  7.17it/s]"
     ]
    },
    {
     "name": "stdout",
     "output_type": "stream",
     "text": [
      "777\n",
      "778\n"
     ]
    },
    {
     "name": "stderr",
     "output_type": "stream",
     "text": [
      " 38%|███▊      | 780/2065 [02:04<02:55,  7.33it/s]"
     ]
    },
    {
     "name": "stdout",
     "output_type": "stream",
     "text": [
      "779\n",
      "780\n"
     ]
    },
    {
     "name": "stderr",
     "output_type": "stream",
     "text": [
      " 38%|███▊      | 782/2065 [02:04<03:16,  6.54it/s]"
     ]
    },
    {
     "name": "stdout",
     "output_type": "stream",
     "text": [
      "781\n",
      "782\n"
     ]
    },
    {
     "name": "stderr",
     "output_type": "stream",
     "text": [
      " 38%|███▊      | 784/2065 [02:04<03:29,  6.13it/s]"
     ]
    },
    {
     "name": "stdout",
     "output_type": "stream",
     "text": [
      "783\n",
      "784\n"
     ]
    },
    {
     "name": "stderr",
     "output_type": "stream",
     "text": [
      "\r",
      " 38%|███▊      | 785/2065 [02:04<03:59,  5.35it/s]"
     ]
    },
    {
     "name": "stdout",
     "output_type": "stream",
     "text": [
      "785\n"
     ]
    },
    {
     "name": "stderr",
     "output_type": "stream",
     "text": [
      "\r",
      " 38%|███▊      | 786/2065 [02:05<04:17,  4.98it/s]"
     ]
    },
    {
     "name": "stdout",
     "output_type": "stream",
     "text": [
      "786\n"
     ]
    },
    {
     "name": "stderr",
     "output_type": "stream",
     "text": [
      "\r",
      " 38%|███▊      | 787/2065 [02:05<04:22,  4.88it/s]"
     ]
    },
    {
     "name": "stdout",
     "output_type": "stream",
     "text": [
      "787\n"
     ]
    },
    {
     "name": "stderr",
     "output_type": "stream",
     "text": [
      " 38%|███▊      | 789/2065 [02:05<04:30,  4.71it/s]"
     ]
    },
    {
     "name": "stdout",
     "output_type": "stream",
     "text": [
      "788\n"
     ]
    },
    {
     "name": "stderr",
     "output_type": "stream",
     "text": [
      "\r",
      " 38%|███▊      | 790/2065 [02:06<04:15,  4.99it/s]"
     ]
    },
    {
     "name": "stdout",
     "output_type": "stream",
     "text": [
      "789\n",
      "790\n"
     ]
    },
    {
     "name": "stderr",
     "output_type": "stream",
     "text": [
      "\r",
      " 38%|███▊      | 791/2065 [02:06<04:19,  4.91it/s]"
     ]
    },
    {
     "name": "stdout",
     "output_type": "stream",
     "text": [
      "791\n"
     ]
    },
    {
     "name": "stderr",
     "output_type": "stream",
     "text": [
      "\r",
      " 38%|███▊      | 792/2065 [02:06<04:33,  4.66it/s]"
     ]
    },
    {
     "name": "stdout",
     "output_type": "stream",
     "text": [
      "792\n"
     ]
    },
    {
     "name": "stderr",
     "output_type": "stream",
     "text": [
      " 38%|███▊      | 794/2065 [02:06<04:18,  4.91it/s]"
     ]
    },
    {
     "name": "stdout",
     "output_type": "stream",
     "text": [
      "793\n",
      "794\n"
     ]
    },
    {
     "name": "stderr",
     "output_type": "stream",
     "text": [
      "\r",
      " 38%|███▊      | 795/2065 [02:06<03:49,  5.52it/s]"
     ]
    },
    {
     "name": "stdout",
     "output_type": "stream",
     "text": [
      "795\n"
     ]
    },
    {
     "name": "stderr",
     "output_type": "stream",
     "text": [
      " 39%|███▊      | 797/2065 [02:07<04:03,  5.21it/s]"
     ]
    },
    {
     "name": "stdout",
     "output_type": "stream",
     "text": [
      "796\n",
      "797\n"
     ]
    },
    {
     "name": "stderr",
     "output_type": "stream",
     "text": [
      " 39%|███▊      | 799/2065 [02:07<04:04,  5.18it/s]"
     ]
    },
    {
     "name": "stdout",
     "output_type": "stream",
     "text": [
      "798\n",
      "799\n"
     ]
    },
    {
     "name": "stderr",
     "output_type": "stream",
     "text": [
      " 39%|███▉      | 801/2065 [02:08<03:57,  5.31it/s]"
     ]
    },
    {
     "name": "stdout",
     "output_type": "stream",
     "text": [
      "800\n",
      "801\n"
     ]
    },
    {
     "name": "stderr",
     "output_type": "stream",
     "text": [
      "\r",
      " 39%|███▉      | 803/2065 [02:08<03:20,  6.30it/s]"
     ]
    },
    {
     "name": "stdout",
     "output_type": "stream",
     "text": [
      "802\n",
      "803\n"
     ]
    },
    {
     "name": "stderr",
     "output_type": "stream",
     "text": [
      " 39%|███▉      | 805/2065 [02:08<03:26,  6.11it/s]"
     ]
    },
    {
     "name": "stdout",
     "output_type": "stream",
     "text": [
      "804\n",
      "805\n"
     ]
    },
    {
     "name": "stderr",
     "output_type": "stream",
     "text": [
      " 39%|███▉      | 807/2065 [02:09<03:33,  5.88it/s]"
     ]
    },
    {
     "name": "stdout",
     "output_type": "stream",
     "text": [
      "806\n",
      "807\n"
     ]
    },
    {
     "name": "stderr",
     "output_type": "stream",
     "text": [
      " 39%|███▉      | 809/2065 [02:09<03:37,  5.77it/s]"
     ]
    },
    {
     "name": "stdout",
     "output_type": "stream",
     "text": [
      "808\n",
      "809\n"
     ]
    },
    {
     "name": "stderr",
     "output_type": "stream",
     "text": [
      " 39%|███▉      | 812/2065 [02:09<02:52,  7.26it/s]"
     ]
    },
    {
     "name": "stdout",
     "output_type": "stream",
     "text": [
      "810\n",
      "811\n",
      "812\n"
     ]
    },
    {
     "name": "stderr",
     "output_type": "stream",
     "text": [
      " 39%|███▉      | 814/2065 [02:10<02:49,  7.37it/s]"
     ]
    },
    {
     "name": "stdout",
     "output_type": "stream",
     "text": [
      "813\n",
      "814\n",
      "815\n"
     ]
    },
    {
     "name": "stderr",
     "output_type": "stream",
     "text": [
      " 40%|███▉      | 818/2065 [02:10<02:19,  8.96it/s]"
     ]
    },
    {
     "name": "stdout",
     "output_type": "stream",
     "text": [
      "816\n",
      "817\n",
      "818\n"
     ]
    },
    {
     "name": "stderr",
     "output_type": "stream",
     "text": [
      " 40%|███▉      | 820/2065 [02:10<02:31,  8.22it/s]"
     ]
    },
    {
     "name": "stdout",
     "output_type": "stream",
     "text": [
      "819\n",
      "820\n"
     ]
    },
    {
     "name": "stderr",
     "output_type": "stream",
     "text": [
      " 40%|███▉      | 822/2065 [02:11<02:58,  6.95it/s]"
     ]
    },
    {
     "name": "stdout",
     "output_type": "stream",
     "text": [
      "821\n",
      "822\n"
     ]
    },
    {
     "name": "stderr",
     "output_type": "stream",
     "text": [
      " 40%|███▉      | 824/2065 [02:11<03:30,  5.89it/s]"
     ]
    },
    {
     "name": "stdout",
     "output_type": "stream",
     "text": [
      "823\n",
      "824\n"
     ]
    },
    {
     "name": "stderr",
     "output_type": "stream",
     "text": [
      " 40%|████      | 826/2065 [02:11<03:21,  6.16it/s]"
     ]
    },
    {
     "name": "stdout",
     "output_type": "stream",
     "text": [
      "825\n",
      "826\n"
     ]
    },
    {
     "name": "stderr",
     "output_type": "stream",
     "text": [
      " 40%|████      | 828/2065 [02:12<03:33,  5.79it/s]"
     ]
    },
    {
     "name": "stdout",
     "output_type": "stream",
     "text": [
      "827\n",
      "828\n"
     ]
    },
    {
     "name": "stderr",
     "output_type": "stream",
     "text": [
      " 40%|████      | 830/2065 [02:12<03:39,  5.63it/s]"
     ]
    },
    {
     "name": "stdout",
     "output_type": "stream",
     "text": [
      "829\n",
      "830\n"
     ]
    },
    {
     "name": "stderr",
     "output_type": "stream",
     "text": [
      " 40%|████      | 832/2065 [02:12<03:44,  5.48it/s]"
     ]
    },
    {
     "name": "stdout",
     "output_type": "stream",
     "text": [
      "831\n",
      "832\n"
     ]
    },
    {
     "name": "stderr",
     "output_type": "stream",
     "text": [
      " 40%|████      | 834/2065 [02:13<03:24,  6.03it/s]"
     ]
    },
    {
     "name": "stdout",
     "output_type": "stream",
     "text": [
      "833\n",
      "834\n"
     ]
    },
    {
     "name": "stderr",
     "output_type": "stream",
     "text": [
      " 40%|████      | 836/2065 [02:13<03:27,  5.93it/s]"
     ]
    },
    {
     "name": "stdout",
     "output_type": "stream",
     "text": [
      "835\n",
      "836\n"
     ]
    },
    {
     "name": "stderr",
     "output_type": "stream",
     "text": [
      " 41%|████      | 838/2065 [02:13<03:42,  5.51it/s]"
     ]
    },
    {
     "name": "stdout",
     "output_type": "stream",
     "text": [
      "837\n",
      "838\n"
     ]
    },
    {
     "name": "stderr",
     "output_type": "stream",
     "text": [
      " 41%|████      | 840/2065 [02:14<03:42,  5.50it/s]"
     ]
    },
    {
     "name": "stdout",
     "output_type": "stream",
     "text": [
      "839\n",
      "840\n"
     ]
    },
    {
     "name": "stderr",
     "output_type": "stream",
     "text": [
      " 41%|████      | 842/2065 [02:14<03:21,  6.07it/s]"
     ]
    },
    {
     "name": "stdout",
     "output_type": "stream",
     "text": [
      "841\n",
      "842\n"
     ]
    },
    {
     "name": "stderr",
     "output_type": "stream",
     "text": [
      " 41%|████      | 844/2065 [02:14<03:11,  6.38it/s]"
     ]
    },
    {
     "name": "stdout",
     "output_type": "stream",
     "text": [
      "843\n",
      "844\n"
     ]
    },
    {
     "name": "stderr",
     "output_type": "stream",
     "text": [
      " 41%|████      | 846/2065 [02:15<03:28,  5.86it/s]"
     ]
    },
    {
     "name": "stdout",
     "output_type": "stream",
     "text": [
      "845\n",
      "846\n"
     ]
    },
    {
     "name": "stderr",
     "output_type": "stream",
     "text": [
      " 41%|████      | 848/2065 [02:15<03:32,  5.73it/s]"
     ]
    },
    {
     "name": "stdout",
     "output_type": "stream",
     "text": [
      "847\n",
      "848\n"
     ]
    },
    {
     "name": "stderr",
     "output_type": "stream",
     "text": [
      " 41%|████      | 850/2065 [02:15<03:14,  6.26it/s]"
     ]
    },
    {
     "name": "stdout",
     "output_type": "stream",
     "text": [
      "849\n",
      "850\n"
     ]
    },
    {
     "name": "stderr",
     "output_type": "stream",
     "text": [
      " 41%|████▏     | 852/2065 [02:16<03:24,  5.92it/s]"
     ]
    },
    {
     "name": "stdout",
     "output_type": "stream",
     "text": [
      "851\n",
      "852\n"
     ]
    },
    {
     "name": "stderr",
     "output_type": "stream",
     "text": [
      " 41%|████▏     | 854/2065 [02:16<03:28,  5.80it/s]"
     ]
    },
    {
     "name": "stdout",
     "output_type": "stream",
     "text": [
      "853\n",
      "854\n"
     ]
    },
    {
     "name": "stderr",
     "output_type": "stream",
     "text": [
      " 41%|████▏     | 856/2065 [02:16<03:30,  5.75it/s]"
     ]
    },
    {
     "name": "stdout",
     "output_type": "stream",
     "text": [
      "855\n",
      "856\n"
     ]
    },
    {
     "name": "stderr",
     "output_type": "stream",
     "text": [
      "\r",
      " 42%|████▏     | 857/2065 [02:17<03:29,  5.76it/s]"
     ]
    },
    {
     "name": "stdout",
     "output_type": "stream",
     "text": [
      "857\n"
     ]
    },
    {
     "name": "stderr",
     "output_type": "stream",
     "text": [
      "\r",
      " 42%|████▏     | 858/2065 [02:17<03:47,  5.30it/s]"
     ]
    },
    {
     "name": "stdout",
     "output_type": "stream",
     "text": [
      "858\n"
     ]
    },
    {
     "name": "stderr",
     "output_type": "stream",
     "text": [
      "\r",
      " 42%|████▏     | 859/2065 [02:17<03:57,  5.09it/s]"
     ]
    },
    {
     "name": "stdout",
     "output_type": "stream",
     "text": [
      "859\n",
      "860\n"
     ]
    },
    {
     "name": "stderr",
     "output_type": "stream",
     "text": [
      "\r",
      " 42%|████▏     | 861/2065 [02:17<03:11,  6.29it/s]"
     ]
    },
    {
     "name": "stdout",
     "output_type": "stream",
     "text": [
      "861\n",
      "862\n"
     ]
    },
    {
     "name": "stderr",
     "output_type": "stream",
     "text": [
      "\r",
      " 42%|████▏     | 863/2065 [02:18<03:10,  6.32it/s]"
     ]
    },
    {
     "name": "stdout",
     "output_type": "stream",
     "text": [
      "863\n"
     ]
    },
    {
     "name": "stderr",
     "output_type": "stream",
     "text": [
      "\r",
      " 42%|████▏     | 864/2065 [02:18<03:26,  5.82it/s]"
     ]
    },
    {
     "name": "stdout",
     "output_type": "stream",
     "text": [
      "864\n"
     ]
    },
    {
     "name": "stderr",
     "output_type": "stream",
     "text": [
      " 42%|████▏     | 866/2065 [02:18<03:38,  5.48it/s]"
     ]
    },
    {
     "name": "stdout",
     "output_type": "stream",
     "text": [
      "865\n",
      "866\n"
     ]
    },
    {
     "name": "stderr",
     "output_type": "stream",
     "text": [
      " 42%|████▏     | 868/2065 [02:19<03:44,  5.33it/s]"
     ]
    },
    {
     "name": "stdout",
     "output_type": "stream",
     "text": [
      "867\n",
      "868\n"
     ]
    },
    {
     "name": "stderr",
     "output_type": "stream",
     "text": [
      " 42%|████▏     | 870/2065 [02:19<03:38,  5.48it/s]"
     ]
    },
    {
     "name": "stdout",
     "output_type": "stream",
     "text": [
      "869\n",
      "870\n"
     ]
    },
    {
     "name": "stderr",
     "output_type": "stream",
     "text": [
      "\r",
      " 42%|████▏     | 871/2065 [02:19<03:50,  5.18it/s]"
     ]
    },
    {
     "name": "stdout",
     "output_type": "stream",
     "text": [
      "871\n"
     ]
    },
    {
     "name": "stderr",
     "output_type": "stream",
     "text": [
      "\r",
      " 42%|████▏     | 872/2065 [02:19<04:05,  4.85it/s]"
     ]
    },
    {
     "name": "stdout",
     "output_type": "stream",
     "text": [
      "872\n"
     ]
    },
    {
     "name": "stderr",
     "output_type": "stream",
     "text": [
      " 42%|████▏     | 874/2065 [02:20<03:58,  5.00it/s]"
     ]
    },
    {
     "name": "stdout",
     "output_type": "stream",
     "text": [
      "873\n",
      "874\n"
     ]
    },
    {
     "name": "stderr",
     "output_type": "stream",
     "text": [
      " 42%|████▏     | 876/2065 [02:20<03:18,  6.00it/s]"
     ]
    },
    {
     "name": "stdout",
     "output_type": "stream",
     "text": [
      "875\n",
      "876\n"
     ]
    },
    {
     "name": "stderr",
     "output_type": "stream",
     "text": [
      " 43%|████▎     | 878/2065 [02:20<03:15,  6.06it/s]"
     ]
    },
    {
     "name": "stdout",
     "output_type": "stream",
     "text": [
      "877\n",
      "878\n"
     ]
    },
    {
     "name": "stderr",
     "output_type": "stream",
     "text": [
      " 43%|████▎     | 880/2065 [02:21<03:22,  5.84it/s]"
     ]
    },
    {
     "name": "stdout",
     "output_type": "stream",
     "text": [
      "879\n",
      "880\n"
     ]
    },
    {
     "name": "stderr",
     "output_type": "stream",
     "text": [
      " 43%|████▎     | 882/2065 [02:21<03:27,  5.70it/s]"
     ]
    },
    {
     "name": "stdout",
     "output_type": "stream",
     "text": [
      "881\n",
      "882\n"
     ]
    },
    {
     "name": "stderr",
     "output_type": "stream",
     "text": [
      " 43%|████▎     | 884/2065 [02:22<03:25,  5.75it/s]"
     ]
    },
    {
     "name": "stdout",
     "output_type": "stream",
     "text": [
      "883\n",
      "884\n"
     ]
    },
    {
     "name": "stderr",
     "output_type": "stream",
     "text": [
      " 43%|████▎     | 886/2065 [02:22<03:09,  6.23it/s]"
     ]
    },
    {
     "name": "stdout",
     "output_type": "stream",
     "text": [
      "885\n",
      "886\n"
     ]
    },
    {
     "name": "stderr",
     "output_type": "stream",
     "text": [
      " 43%|████▎     | 888/2065 [02:22<03:12,  6.12it/s]"
     ]
    },
    {
     "name": "stdout",
     "output_type": "stream",
     "text": [
      "887\n",
      "888\n"
     ]
    },
    {
     "name": "stderr",
     "output_type": "stream",
     "text": [
      " 43%|████▎     | 890/2065 [02:22<03:17,  5.94it/s]"
     ]
    },
    {
     "name": "stdout",
     "output_type": "stream",
     "text": [
      "889\n",
      "890\n"
     ]
    },
    {
     "name": "stderr",
     "output_type": "stream",
     "text": [
      " 43%|████▎     | 892/2065 [02:23<03:11,  6.12it/s]"
     ]
    },
    {
     "name": "stdout",
     "output_type": "stream",
     "text": [
      "891\n",
      "892\n"
     ]
    },
    {
     "name": "stderr",
     "output_type": "stream",
     "text": [
      " 43%|████▎     | 894/2065 [02:23<03:24,  5.72it/s]"
     ]
    },
    {
     "name": "stdout",
     "output_type": "stream",
     "text": [
      "893\n",
      "894\n"
     ]
    },
    {
     "name": "stderr",
     "output_type": "stream",
     "text": [
      " 43%|████▎     | 896/2065 [02:24<03:31,  5.54it/s]"
     ]
    },
    {
     "name": "stdout",
     "output_type": "stream",
     "text": [
      "895\n",
      "896\n"
     ]
    },
    {
     "name": "stderr",
     "output_type": "stream",
     "text": [
      " 43%|████▎     | 898/2065 [02:24<03:24,  5.71it/s]"
     ]
    },
    {
     "name": "stdout",
     "output_type": "stream",
     "text": [
      "897\n",
      "898\n"
     ]
    },
    {
     "name": "stderr",
     "output_type": "stream",
     "text": [
      " 44%|████▎     | 900/2065 [02:24<03:24,  5.69it/s]"
     ]
    },
    {
     "name": "stdout",
     "output_type": "stream",
     "text": [
      "899\n",
      "900\n"
     ]
    },
    {
     "name": "stderr",
     "output_type": "stream",
     "text": [
      " 44%|████▎     | 902/2065 [02:25<03:28,  5.58it/s]"
     ]
    },
    {
     "name": "stdout",
     "output_type": "stream",
     "text": [
      "901\n",
      "902\n"
     ]
    },
    {
     "name": "stderr",
     "output_type": "stream",
     "text": [
      " 44%|████▍     | 904/2065 [02:25<03:18,  5.85it/s]"
     ]
    },
    {
     "name": "stdout",
     "output_type": "stream",
     "text": [
      "903\n",
      "904\n"
     ]
    },
    {
     "name": "stderr",
     "output_type": "stream",
     "text": [
      " 44%|████▍     | 906/2065 [02:25<03:11,  6.06it/s]"
     ]
    },
    {
     "name": "stdout",
     "output_type": "stream",
     "text": [
      "905\n",
      "906\n"
     ]
    },
    {
     "name": "stderr",
     "output_type": "stream",
     "text": [
      " 44%|████▍     | 908/2065 [02:26<03:25,  5.62it/s]"
     ]
    },
    {
     "name": "stdout",
     "output_type": "stream",
     "text": [
      "907\n",
      "908\n"
     ]
    },
    {
     "name": "stderr",
     "output_type": "stream",
     "text": [
      " 44%|████▍     | 910/2065 [02:26<03:26,  5.60it/s]"
     ]
    },
    {
     "name": "stdout",
     "output_type": "stream",
     "text": [
      "909\n",
      "910\n"
     ]
    },
    {
     "name": "stderr",
     "output_type": "stream",
     "text": [
      " 44%|████▍     | 912/2065 [02:26<03:22,  5.70it/s]"
     ]
    },
    {
     "name": "stdout",
     "output_type": "stream",
     "text": [
      "911\n",
      "912\n"
     ]
    },
    {
     "name": "stderr",
     "output_type": "stream",
     "text": [
      " 44%|████▍     | 914/2065 [02:27<03:25,  5.59it/s]"
     ]
    },
    {
     "name": "stdout",
     "output_type": "stream",
     "text": [
      "913\n",
      "914\n"
     ]
    },
    {
     "name": "stderr",
     "output_type": "stream",
     "text": [
      " 44%|████▍     | 916/2065 [02:27<03:27,  5.53it/s]"
     ]
    },
    {
     "name": "stdout",
     "output_type": "stream",
     "text": [
      "915\n",
      "916\n"
     ]
    },
    {
     "name": "stderr",
     "output_type": "stream",
     "text": [
      " 44%|████▍     | 918/2065 [02:27<03:24,  5.60it/s]"
     ]
    },
    {
     "name": "stdout",
     "output_type": "stream",
     "text": [
      "917\n",
      "918\n"
     ]
    },
    {
     "name": "stderr",
     "output_type": "stream",
     "text": [
      " 45%|████▍     | 920/2065 [02:28<03:09,  6.03it/s]"
     ]
    },
    {
     "name": "stdout",
     "output_type": "stream",
     "text": [
      "919\n",
      "920\n"
     ]
    },
    {
     "name": "stderr",
     "output_type": "stream",
     "text": [
      " 45%|████▍     | 922/2065 [02:28<02:55,  6.50it/s]"
     ]
    },
    {
     "name": "stdout",
     "output_type": "stream",
     "text": [
      "921\n",
      "922\n"
     ]
    },
    {
     "name": "stderr",
     "output_type": "stream",
     "text": [
      " 45%|████▍     | 924/2065 [02:28<02:44,  6.96it/s]"
     ]
    },
    {
     "name": "stdout",
     "output_type": "stream",
     "text": [
      "923\n",
      "924\n"
     ]
    },
    {
     "name": "stderr",
     "output_type": "stream",
     "text": [
      " 45%|████▍     | 926/2065 [02:29<03:08,  6.04it/s]"
     ]
    },
    {
     "name": "stdout",
     "output_type": "stream",
     "text": [
      "925\n",
      "926\n"
     ]
    },
    {
     "name": "stderr",
     "output_type": "stream",
     "text": [
      "\r",
      " 45%|████▍     | 927/2065 [02:29<03:16,  5.78it/s]"
     ]
    },
    {
     "name": "stdout",
     "output_type": "stream",
     "text": [
      "927\n",
      "928\n"
     ]
    },
    {
     "name": "stderr",
     "output_type": "stream",
     "text": [
      " 45%|████▌     | 930/2065 [02:29<02:43,  6.95it/s]"
     ]
    },
    {
     "name": "stdout",
     "output_type": "stream",
     "text": [
      "929\n",
      "930\n"
     ]
    },
    {
     "name": "stderr",
     "output_type": "stream",
     "text": [
      " 45%|████▌     | 932/2065 [02:30<03:04,  6.16it/s]"
     ]
    },
    {
     "name": "stdout",
     "output_type": "stream",
     "text": [
      "931\n",
      "932\n"
     ]
    },
    {
     "name": "stderr",
     "output_type": "stream",
     "text": [
      " 45%|████▌     | 934/2065 [02:30<02:50,  6.65it/s]"
     ]
    },
    {
     "name": "stdout",
     "output_type": "stream",
     "text": [
      "933\n",
      "934\n"
     ]
    },
    {
     "name": "stderr",
     "output_type": "stream",
     "text": [
      " 45%|████▌     | 936/2065 [02:30<02:56,  6.38it/s]"
     ]
    },
    {
     "name": "stdout",
     "output_type": "stream",
     "text": [
      "935\n",
      "936\n"
     ]
    },
    {
     "name": "stderr",
     "output_type": "stream",
     "text": [
      " 45%|████▌     | 938/2065 [02:30<02:48,  6.70it/s]"
     ]
    },
    {
     "name": "stdout",
     "output_type": "stream",
     "text": [
      "937\n",
      "938\n"
     ]
    },
    {
     "name": "stderr",
     "output_type": "stream",
     "text": [
      "\r",
      " 45%|████▌     | 939/2065 [02:31<03:20,  5.62it/s]"
     ]
    },
    {
     "name": "stdout",
     "output_type": "stream",
     "text": [
      "939\n"
     ]
    },
    {
     "name": "stderr",
     "output_type": "stream",
     "text": [
      "\r",
      " 46%|████▌     | 940/2065 [02:31<03:46,  4.96it/s]"
     ]
    },
    {
     "name": "stdout",
     "output_type": "stream",
     "text": [
      "940\n"
     ]
    },
    {
     "name": "stderr",
     "output_type": "stream",
     "text": [
      " 46%|████▌     | 942/2065 [02:31<03:52,  4.84it/s]"
     ]
    },
    {
     "name": "stdout",
     "output_type": "stream",
     "text": [
      "941\n",
      "942\n"
     ]
    },
    {
     "name": "stderr",
     "output_type": "stream",
     "text": [
      "\r",
      " 46%|████▌     | 943/2065 [02:32<03:53,  4.81it/s]"
     ]
    },
    {
     "name": "stdout",
     "output_type": "stream",
     "text": [
      "943\n"
     ]
    },
    {
     "name": "stderr",
     "output_type": "stream",
     "text": [
      "\r",
      " 46%|████▌     | 944/2065 [02:32<04:02,  4.62it/s]"
     ]
    },
    {
     "name": "stdout",
     "output_type": "stream",
     "text": [
      "944\n"
     ]
    },
    {
     "name": "stderr",
     "output_type": "stream",
     "text": [
      " 46%|████▌     | 946/2065 [02:32<03:53,  4.80it/s]"
     ]
    },
    {
     "name": "stdout",
     "output_type": "stream",
     "text": [
      "945\n",
      "946\n"
     ]
    },
    {
     "name": "stderr",
     "output_type": "stream",
     "text": [
      " 46%|████▌     | 948/2065 [02:33<03:51,  4.82it/s]"
     ]
    },
    {
     "name": "stdout",
     "output_type": "stream",
     "text": [
      "947\n",
      "948\n"
     ]
    },
    {
     "name": "stderr",
     "output_type": "stream",
     "text": [
      " 46%|████▌     | 950/2065 [02:33<03:41,  5.04it/s]"
     ]
    },
    {
     "name": "stdout",
     "output_type": "stream",
     "text": [
      "949\n",
      "950\n"
     ]
    },
    {
     "name": "stderr",
     "output_type": "stream",
     "text": [
      " 46%|████▌     | 952/2065 [02:33<03:01,  6.13it/s]"
     ]
    },
    {
     "name": "stdout",
     "output_type": "stream",
     "text": [
      "951\n",
      "952\n"
     ]
    },
    {
     "name": "stderr",
     "output_type": "stream",
     "text": [
      " 46%|████▌     | 954/2065 [02:34<03:13,  5.73it/s]"
     ]
    },
    {
     "name": "stdout",
     "output_type": "stream",
     "text": [
      "953\n",
      "954\n"
     ]
    },
    {
     "name": "stderr",
     "output_type": "stream",
     "text": [
      " 46%|████▋     | 956/2065 [02:34<03:14,  5.70it/s]"
     ]
    },
    {
     "name": "stdout",
     "output_type": "stream",
     "text": [
      "955\n",
      "956\n"
     ]
    },
    {
     "name": "stderr",
     "output_type": "stream",
     "text": [
      " 46%|████▋     | 958/2065 [02:34<03:11,  5.78it/s]"
     ]
    },
    {
     "name": "stdout",
     "output_type": "stream",
     "text": [
      "957\n",
      "958\n"
     ]
    },
    {
     "name": "stderr",
     "output_type": "stream",
     "text": [
      " 46%|████▋     | 960/2065 [02:35<03:12,  5.74it/s]"
     ]
    },
    {
     "name": "stdout",
     "output_type": "stream",
     "text": [
      "959\n",
      "960\n"
     ]
    },
    {
     "name": "stderr",
     "output_type": "stream",
     "text": [
      " 47%|████▋     | 962/2065 [02:35<03:26,  5.35it/s]"
     ]
    },
    {
     "name": "stdout",
     "output_type": "stream",
     "text": [
      "961\n",
      "962\n"
     ]
    },
    {
     "name": "stderr",
     "output_type": "stream",
     "text": [
      "\r",
      " 47%|████▋     | 963/2065 [02:35<02:59,  6.12it/s]"
     ]
    },
    {
     "name": "stdout",
     "output_type": "stream",
     "text": [
      "963\n",
      "964\n"
     ]
    },
    {
     "name": "stderr",
     "output_type": "stream",
     "text": [
      " 47%|████▋     | 966/2065 [02:36<02:49,  6.48it/s]"
     ]
    },
    {
     "name": "stdout",
     "output_type": "stream",
     "text": [
      "965\n",
      "966\n"
     ]
    },
    {
     "name": "stderr",
     "output_type": "stream",
     "text": [
      " 47%|████▋     | 968/2065 [02:36<02:57,  6.18it/s]"
     ]
    },
    {
     "name": "stdout",
     "output_type": "stream",
     "text": [
      "967\n",
      "968\n"
     ]
    },
    {
     "name": "stderr",
     "output_type": "stream",
     "text": [
      " 47%|████▋     | 970/2065 [02:36<03:10,  5.74it/s]"
     ]
    },
    {
     "name": "stdout",
     "output_type": "stream",
     "text": [
      "969\n",
      "970\n"
     ]
    },
    {
     "name": "stderr",
     "output_type": "stream",
     "text": [
      " 47%|████▋     | 972/2065 [02:37<03:11,  5.70it/s]"
     ]
    },
    {
     "name": "stdout",
     "output_type": "stream",
     "text": [
      "971\n",
      "972\n"
     ]
    },
    {
     "name": "stderr",
     "output_type": "stream",
     "text": [
      " 47%|████▋     | 974/2065 [02:37<03:15,  5.57it/s]"
     ]
    },
    {
     "name": "stdout",
     "output_type": "stream",
     "text": [
      "973\n",
      "974\n"
     ]
    },
    {
     "name": "stderr",
     "output_type": "stream",
     "text": [
      " 47%|████▋     | 976/2065 [02:37<02:58,  6.09it/s]"
     ]
    },
    {
     "name": "stdout",
     "output_type": "stream",
     "text": [
      "975\n",
      "976\n"
     ]
    },
    {
     "name": "stderr",
     "output_type": "stream",
     "text": [
      " 47%|████▋     | 978/2065 [02:38<03:04,  5.88it/s]"
     ]
    },
    {
     "name": "stdout",
     "output_type": "stream",
     "text": [
      "977\n",
      "978\n"
     ]
    },
    {
     "name": "stderr",
     "output_type": "stream",
     "text": [
      " 47%|████▋     | 980/2065 [02:38<02:38,  6.85it/s]"
     ]
    },
    {
     "name": "stdout",
     "output_type": "stream",
     "text": [
      "979\n",
      "980\n"
     ]
    },
    {
     "name": "stderr",
     "output_type": "stream",
     "text": [
      " 48%|████▊     | 982/2065 [02:38<02:28,  7.31it/s]"
     ]
    },
    {
     "name": "stdout",
     "output_type": "stream",
     "text": [
      "981\n",
      "982\n"
     ]
    },
    {
     "name": "stderr",
     "output_type": "stream",
     "text": [
      " 48%|████▊     | 984/2065 [02:39<02:32,  7.08it/s]"
     ]
    },
    {
     "name": "stdout",
     "output_type": "stream",
     "text": [
      "983\n",
      "984\n"
     ]
    },
    {
     "name": "stderr",
     "output_type": "stream",
     "text": [
      " 48%|████▊     | 986/2065 [02:39<02:35,  6.94it/s]"
     ]
    },
    {
     "name": "stdout",
     "output_type": "stream",
     "text": [
      "985\n",
      "986\n"
     ]
    },
    {
     "name": "stderr",
     "output_type": "stream",
     "text": [
      " 48%|████▊     | 988/2065 [02:39<02:44,  6.56it/s]"
     ]
    },
    {
     "name": "stdout",
     "output_type": "stream",
     "text": [
      "987\n",
      "988\n"
     ]
    },
    {
     "name": "stderr",
     "output_type": "stream",
     "text": [
      " 48%|████▊     | 990/2065 [02:40<03:05,  5.80it/s]"
     ]
    },
    {
     "name": "stdout",
     "output_type": "stream",
     "text": [
      "989\n",
      "990\n"
     ]
    },
    {
     "name": "stderr",
     "output_type": "stream",
     "text": [
      " 48%|████▊     | 992/2065 [02:40<03:09,  5.65it/s]"
     ]
    },
    {
     "name": "stdout",
     "output_type": "stream",
     "text": [
      "991\n",
      "992\n"
     ]
    },
    {
     "name": "stderr",
     "output_type": "stream",
     "text": [
      " 48%|████▊     | 994/2065 [02:40<02:56,  6.07it/s]"
     ]
    },
    {
     "name": "stdout",
     "output_type": "stream",
     "text": [
      "993\n",
      "994\n"
     ]
    },
    {
     "name": "stderr",
     "output_type": "stream",
     "text": [
      " 48%|████▊     | 996/2065 [02:41<03:06,  5.72it/s]"
     ]
    },
    {
     "name": "stdout",
     "output_type": "stream",
     "text": [
      "995\n",
      "996\n"
     ]
    },
    {
     "name": "stderr",
     "output_type": "stream",
     "text": [
      " 48%|████▊     | 998/2065 [02:41<02:45,  6.46it/s]"
     ]
    },
    {
     "name": "stdout",
     "output_type": "stream",
     "text": [
      "997\n",
      "998\n"
     ]
    },
    {
     "name": "stderr",
     "output_type": "stream",
     "text": [
      " 48%|████▊     | 1000/2065 [02:41<02:18,  7.71it/s]"
     ]
    },
    {
     "name": "stdout",
     "output_type": "stream",
     "text": [
      "999\n",
      "1000\n"
     ]
    },
    {
     "name": "stderr",
     "output_type": "stream",
     "text": [
      " 49%|████▊     | 1002/2065 [02:41<02:41,  6.59it/s]"
     ]
    },
    {
     "name": "stdout",
     "output_type": "stream",
     "text": [
      "1001\n",
      "1002\n"
     ]
    },
    {
     "name": "stderr",
     "output_type": "stream",
     "text": [
      "\r",
      " 49%|████▊     | 1004/2065 [02:42<02:29,  7.10it/s]"
     ]
    },
    {
     "name": "stdout",
     "output_type": "stream",
     "text": [
      "1003\n",
      "1004\n"
     ]
    },
    {
     "name": "stderr",
     "output_type": "stream",
     "text": [
      " 49%|████▉     | 1007/2065 [02:42<02:11,  8.05it/s]"
     ]
    },
    {
     "name": "stdout",
     "output_type": "stream",
     "text": [
      "1005\n",
      "1006\n",
      "1007\n"
     ]
    },
    {
     "name": "stderr",
     "output_type": "stream",
     "text": [
      " 49%|████▉     | 1009/2065 [02:42<02:25,  7.27it/s]"
     ]
    },
    {
     "name": "stdout",
     "output_type": "stream",
     "text": [
      "1008\n",
      "1009\n"
     ]
    },
    {
     "name": "stderr",
     "output_type": "stream",
     "text": [
      "\r",
      " 49%|████▉     | 1010/2065 [02:43<02:39,  6.60it/s]"
     ]
    },
    {
     "name": "stdout",
     "output_type": "stream",
     "text": [
      "1010\n"
     ]
    },
    {
     "name": "stderr",
     "output_type": "stream",
     "text": [
      "\r",
      " 49%|████▉     | 1011/2065 [02:43<02:57,  5.93it/s]"
     ]
    },
    {
     "name": "stdout",
     "output_type": "stream",
     "text": [
      "1011\n"
     ]
    },
    {
     "name": "stderr",
     "output_type": "stream",
     "text": [
      " 49%|████▉     | 1013/2065 [02:43<03:02,  5.78it/s]"
     ]
    },
    {
     "name": "stdout",
     "output_type": "stream",
     "text": [
      "1012\n",
      "1013\n"
     ]
    },
    {
     "name": "stderr",
     "output_type": "stream",
     "text": [
      " 49%|████▉     | 1015/2065 [02:44<03:11,  5.48it/s]"
     ]
    },
    {
     "name": "stdout",
     "output_type": "stream",
     "text": [
      "1014\n",
      "1015\n"
     ]
    },
    {
     "name": "stderr",
     "output_type": "stream",
     "text": [
      " 49%|████▉     | 1017/2065 [02:44<02:52,  6.06it/s]"
     ]
    },
    {
     "name": "stdout",
     "output_type": "stream",
     "text": [
      "1016\n",
      "1017\n"
     ]
    },
    {
     "name": "stderr",
     "output_type": "stream",
     "text": [
      " 49%|████▉     | 1019/2065 [02:44<03:02,  5.73it/s]"
     ]
    },
    {
     "name": "stdout",
     "output_type": "stream",
     "text": [
      "1018\n",
      "1019\n"
     ]
    },
    {
     "name": "stderr",
     "output_type": "stream",
     "text": [
      "\r",
      " 49%|████▉     | 1020/2065 [02:44<03:10,  5.50it/s]"
     ]
    },
    {
     "name": "stdout",
     "output_type": "stream",
     "text": [
      "1020\n"
     ]
    },
    {
     "name": "stderr",
     "output_type": "stream",
     "text": [
      "\r",
      " 49%|████▉     | 1021/2065 [02:45<03:23,  5.14it/s]"
     ]
    },
    {
     "name": "stdout",
     "output_type": "stream",
     "text": [
      "1021\n"
     ]
    },
    {
     "name": "stderr",
     "output_type": "stream",
     "text": [
      "\r",
      " 49%|████▉     | 1022/2065 [02:45<03:35,  4.83it/s]"
     ]
    },
    {
     "name": "stdout",
     "output_type": "stream",
     "text": [
      "1022\n"
     ]
    },
    {
     "name": "stderr",
     "output_type": "stream",
     "text": [
      "\r",
      " 50%|████▉     | 1023/2065 [02:45<03:45,  4.63it/s]"
     ]
    },
    {
     "name": "stdout",
     "output_type": "stream",
     "text": [
      "1023\n"
     ]
    },
    {
     "name": "stderr",
     "output_type": "stream",
     "text": [
      "\r",
      " 50%|████▉     | 1024/2065 [02:45<03:44,  4.64it/s]"
     ]
    },
    {
     "name": "stdout",
     "output_type": "stream",
     "text": [
      "1024\n"
     ]
    },
    {
     "name": "stderr",
     "output_type": "stream",
     "text": [
      " 50%|████▉     | 1026/2065 [02:46<03:35,  4.83it/s]"
     ]
    },
    {
     "name": "stdout",
     "output_type": "stream",
     "text": [
      "1025\n",
      "1026\n"
     ]
    },
    {
     "name": "stderr",
     "output_type": "stream",
     "text": [
      " 50%|████▉     | 1028/2065 [02:46<03:15,  5.30it/s]"
     ]
    },
    {
     "name": "stdout",
     "output_type": "stream",
     "text": [
      "1027\n",
      "1028\n"
     ]
    },
    {
     "name": "stderr",
     "output_type": "stream",
     "text": [
      " 50%|████▉     | 1030/2065 [02:46<03:07,  5.51it/s]"
     ]
    },
    {
     "name": "stdout",
     "output_type": "stream",
     "text": [
      "1029\n",
      "1030\n"
     ]
    },
    {
     "name": "stderr",
     "output_type": "stream",
     "text": [
      "\r",
      " 50%|████▉     | 1031/2065 [02:47<03:05,  5.58it/s]"
     ]
    },
    {
     "name": "stdout",
     "output_type": "stream",
     "text": [
      "1031\n",
      "1032\n"
     ]
    },
    {
     "name": "stderr",
     "output_type": "stream",
     "text": [
      " 50%|█████     | 1034/2065 [02:47<02:27,  7.00it/s]"
     ]
    },
    {
     "name": "stdout",
     "output_type": "stream",
     "text": [
      "1033\n",
      "1034\n"
     ]
    },
    {
     "name": "stderr",
     "output_type": "stream",
     "text": [
      " 50%|█████     | 1036/2065 [02:47<02:28,  6.95it/s]"
     ]
    },
    {
     "name": "stdout",
     "output_type": "stream",
     "text": [
      "1035\n",
      "1036\n"
     ]
    },
    {
     "name": "stderr",
     "output_type": "stream",
     "text": [
      " 50%|█████     | 1038/2065 [02:48<02:24,  7.10it/s]"
     ]
    },
    {
     "name": "stdout",
     "output_type": "stream",
     "text": [
      "1037\n",
      "1038\n"
     ]
    },
    {
     "name": "stderr",
     "output_type": "stream",
     "text": [
      "\r",
      " 50%|█████     | 1039/2065 [02:48<02:40,  6.41it/s]"
     ]
    },
    {
     "name": "stdout",
     "output_type": "stream",
     "text": [
      "1039\n",
      "1040\n"
     ]
    },
    {
     "name": "stderr",
     "output_type": "stream",
     "text": [
      " 50%|█████     | 1042/2065 [02:48<02:18,  7.37it/s]"
     ]
    },
    {
     "name": "stdout",
     "output_type": "stream",
     "text": [
      "1041\n",
      "1042\n"
     ]
    },
    {
     "name": "stderr",
     "output_type": "stream",
     "text": [
      " 51%|█████     | 1044/2065 [02:48<02:44,  6.21it/s]"
     ]
    },
    {
     "name": "stdout",
     "output_type": "stream",
     "text": [
      "1043\n",
      "1044\n"
     ]
    },
    {
     "name": "stderr",
     "output_type": "stream",
     "text": [
      " 51%|█████     | 1046/2065 [02:49<02:58,  5.71it/s]"
     ]
    },
    {
     "name": "stdout",
     "output_type": "stream",
     "text": [
      "1045\n",
      "1046\n"
     ]
    },
    {
     "name": "stderr",
     "output_type": "stream",
     "text": [
      " 51%|█████     | 1048/2065 [02:49<02:53,  5.85it/s]"
     ]
    },
    {
     "name": "stdout",
     "output_type": "stream",
     "text": [
      "1047\n",
      "1048\n"
     ]
    },
    {
     "name": "stderr",
     "output_type": "stream",
     "text": [
      " 51%|█████     | 1050/2065 [02:49<02:48,  6.03it/s]"
     ]
    },
    {
     "name": "stdout",
     "output_type": "stream",
     "text": [
      "1049\n",
      "1050\n"
     ]
    },
    {
     "name": "stderr",
     "output_type": "stream",
     "text": [
      " 51%|█████     | 1052/2065 [02:50<02:56,  5.74it/s]"
     ]
    },
    {
     "name": "stdout",
     "output_type": "stream",
     "text": [
      "1051\n",
      "1052\n"
     ]
    },
    {
     "name": "stderr",
     "output_type": "stream",
     "text": [
      " 51%|█████     | 1054/2065 [02:50<03:00,  5.60it/s]"
     ]
    },
    {
     "name": "stdout",
     "output_type": "stream",
     "text": [
      "1053\n",
      "1054\n"
     ]
    },
    {
     "name": "stderr",
     "output_type": "stream",
     "text": [
      " 51%|█████     | 1056/2065 [02:51<03:05,  5.45it/s]"
     ]
    },
    {
     "name": "stdout",
     "output_type": "stream",
     "text": [
      "1055\n",
      "1056\n"
     ]
    },
    {
     "name": "stderr",
     "output_type": "stream",
     "text": [
      "\r",
      " 51%|█████     | 1057/2065 [02:51<03:04,  5.47it/s]"
     ]
    },
    {
     "name": "stdout",
     "output_type": "stream",
     "text": [
      "1057\n",
      "1058\n"
     ]
    },
    {
     "name": "stderr",
     "output_type": "stream",
     "text": [
      " 51%|█████▏    | 1060/2065 [02:51<02:41,  6.22it/s]"
     ]
    },
    {
     "name": "stdout",
     "output_type": "stream",
     "text": [
      "1059\n",
      "1060\n"
     ]
    },
    {
     "name": "stderr",
     "output_type": "stream",
     "text": [
      " 51%|█████▏    | 1062/2065 [02:52<02:40,  6.26it/s]"
     ]
    },
    {
     "name": "stdout",
     "output_type": "stream",
     "text": [
      "1061\n",
      "1062\n"
     ]
    },
    {
     "name": "stderr",
     "output_type": "stream",
     "text": [
      " 52%|█████▏    | 1064/2065 [02:52<02:36,  6.41it/s]"
     ]
    },
    {
     "name": "stdout",
     "output_type": "stream",
     "text": [
      "1063\n",
      "1064\n"
     ]
    },
    {
     "name": "stderr",
     "output_type": "stream",
     "text": [
      " 52%|█████▏    | 1066/2065 [02:52<02:36,  6.37it/s]"
     ]
    },
    {
     "name": "stdout",
     "output_type": "stream",
     "text": [
      "1065\n",
      "1066\n"
     ]
    },
    {
     "name": "stderr",
     "output_type": "stream",
     "text": [
      " 52%|█████▏    | 1068/2065 [02:52<02:36,  6.36it/s]"
     ]
    },
    {
     "name": "stdout",
     "output_type": "stream",
     "text": [
      "1067\n",
      "1068\n"
     ]
    },
    {
     "name": "stderr",
     "output_type": "stream",
     "text": [
      " 52%|█████▏    | 1070/2065 [02:53<02:39,  6.24it/s]"
     ]
    },
    {
     "name": "stdout",
     "output_type": "stream",
     "text": [
      "1069\n",
      "1070\n"
     ]
    },
    {
     "name": "stderr",
     "output_type": "stream",
     "text": [
      " 52%|█████▏    | 1072/2065 [02:53<02:49,  5.87it/s]"
     ]
    },
    {
     "name": "stdout",
     "output_type": "stream",
     "text": [
      "1071\n",
      "1072\n"
     ]
    },
    {
     "name": "stderr",
     "output_type": "stream",
     "text": [
      " 52%|█████▏    | 1074/2065 [02:53<02:49,  5.84it/s]"
     ]
    },
    {
     "name": "stdout",
     "output_type": "stream",
     "text": [
      "1073\n",
      "1074\n"
     ]
    },
    {
     "name": "stderr",
     "output_type": "stream",
     "text": [
      " 52%|█████▏    | 1076/2065 [02:54<02:40,  6.16it/s]"
     ]
    },
    {
     "name": "stdout",
     "output_type": "stream",
     "text": [
      "1075\n",
      "1076\n"
     ]
    },
    {
     "name": "stderr",
     "output_type": "stream",
     "text": [
      " 52%|█████▏    | 1078/2065 [02:54<02:20,  7.00it/s]"
     ]
    },
    {
     "name": "stdout",
     "output_type": "stream",
     "text": [
      "1077\n",
      "1078\n"
     ]
    },
    {
     "name": "stderr",
     "output_type": "stream",
     "text": [
      " 52%|█████▏    | 1080/2065 [02:54<02:32,  6.47it/s]"
     ]
    },
    {
     "name": "stdout",
     "output_type": "stream",
     "text": [
      "1079\n",
      "1080\n"
     ]
    },
    {
     "name": "stderr",
     "output_type": "stream",
     "text": [
      " 52%|█████▏    | 1082/2065 [02:55<02:43,  6.02it/s]"
     ]
    },
    {
     "name": "stdout",
     "output_type": "stream",
     "text": [
      "1081\n",
      "1082\n"
     ]
    },
    {
     "name": "stderr",
     "output_type": "stream",
     "text": [
      " 52%|█████▏    | 1084/2065 [02:55<02:46,  5.88it/s]"
     ]
    },
    {
     "name": "stdout",
     "output_type": "stream",
     "text": [
      "1083\n",
      "1084\n"
     ]
    },
    {
     "name": "stderr",
     "output_type": "stream",
     "text": [
      " 53%|█████▎    | 1086/2065 [02:55<02:46,  5.87it/s]"
     ]
    },
    {
     "name": "stdout",
     "output_type": "stream",
     "text": [
      "1085\n",
      "1086\n"
     ]
    },
    {
     "name": "stderr",
     "output_type": "stream",
     "text": [
      "\r",
      " 53%|█████▎    | 1087/2065 [02:56<03:00,  5.42it/s]"
     ]
    },
    {
     "name": "stdout",
     "output_type": "stream",
     "text": [
      "1087\n"
     ]
    },
    {
     "name": "stderr",
     "output_type": "stream",
     "text": [
      "\r",
      " 53%|█████▎    | 1088/2065 [02:56<03:14,  5.03it/s]"
     ]
    },
    {
     "name": "stdout",
     "output_type": "stream",
     "text": [
      "1088\n"
     ]
    },
    {
     "name": "stderr",
     "output_type": "stream",
     "text": [
      "\r",
      " 53%|█████▎    | 1089/2065 [02:56<03:19,  4.90it/s]"
     ]
    },
    {
     "name": "stdout",
     "output_type": "stream",
     "text": [
      "1089\n"
     ]
    },
    {
     "name": "stderr",
     "output_type": "stream",
     "text": [
      "\r",
      " 53%|█████▎    | 1090/2065 [02:56<03:28,  4.68it/s]"
     ]
    },
    {
     "name": "stdout",
     "output_type": "stream",
     "text": [
      "1090\n"
     ]
    },
    {
     "name": "stderr",
     "output_type": "stream",
     "text": [
      " 53%|█████▎    | 1092/2065 [02:57<03:23,  4.79it/s]"
     ]
    },
    {
     "name": "stdout",
     "output_type": "stream",
     "text": [
      "1091\n",
      "1092\n"
     ]
    },
    {
     "name": "stderr",
     "output_type": "stream",
     "text": [
      " 53%|█████▎    | 1094/2065 [02:57<03:19,  4.87it/s]"
     ]
    },
    {
     "name": "stdout",
     "output_type": "stream",
     "text": [
      "1093\n",
      "1094\n"
     ]
    },
    {
     "name": "stderr",
     "output_type": "stream",
     "text": [
      "\r",
      " 53%|█████▎    | 1095/2065 [02:57<03:28,  4.65it/s]"
     ]
    },
    {
     "name": "stdout",
     "output_type": "stream",
     "text": [
      "1095\n"
     ]
    },
    {
     "name": "stderr",
     "output_type": "stream",
     "text": [
      "\r",
      " 53%|█████▎    | 1096/2065 [02:58<03:28,  4.64it/s]"
     ]
    },
    {
     "name": "stdout",
     "output_type": "stream",
     "text": [
      "1096\n",
      "1097\n"
     ]
    },
    {
     "name": "stderr",
     "output_type": "stream",
     "text": [
      "\r",
      " 53%|█████▎    | 1098/2065 [02:58<03:05,  5.22it/s]"
     ]
    },
    {
     "name": "stdout",
     "output_type": "stream",
     "text": [
      "1098\n"
     ]
    },
    {
     "name": "stderr",
     "output_type": "stream",
     "text": [
      "\r",
      " 53%|█████▎    | 1099/2065 [02:58<03:14,  4.96it/s]"
     ]
    },
    {
     "name": "stdout",
     "output_type": "stream",
     "text": [
      "1099\n"
     ]
    },
    {
     "name": "stderr",
     "output_type": "stream",
     "text": [
      "\r",
      " 53%|█████▎    | 1100/2065 [02:58<03:19,  4.84it/s]"
     ]
    },
    {
     "name": "stdout",
     "output_type": "stream",
     "text": [
      "1100\n"
     ]
    },
    {
     "name": "stderr",
     "output_type": "stream",
     "text": [
      " 53%|█████▎    | 1102/2065 [02:59<03:10,  5.05it/s]"
     ]
    },
    {
     "name": "stdout",
     "output_type": "stream",
     "text": [
      "1101\n",
      "1102\n"
     ]
    },
    {
     "name": "stderr",
     "output_type": "stream",
     "text": [
      " 53%|█████▎    | 1104/2065 [02:59<03:01,  5.29it/s]"
     ]
    },
    {
     "name": "stdout",
     "output_type": "stream",
     "text": [
      "1103\n",
      "1104\n"
     ]
    },
    {
     "name": "stderr",
     "output_type": "stream",
     "text": [
      " 54%|█████▎    | 1106/2065 [02:59<03:01,  5.28it/s]"
     ]
    },
    {
     "name": "stdout",
     "output_type": "stream",
     "text": [
      "1105\n",
      "1106\n"
     ]
    },
    {
     "name": "stderr",
     "output_type": "stream",
     "text": [
      " 54%|█████▎    | 1108/2065 [03:00<02:34,  6.18it/s]"
     ]
    },
    {
     "name": "stdout",
     "output_type": "stream",
     "text": [
      "1107\n",
      "1108\n"
     ]
    },
    {
     "name": "stderr",
     "output_type": "stream",
     "text": [
      " 54%|█████▍    | 1110/2065 [03:00<02:47,  5.70it/s]"
     ]
    },
    {
     "name": "stdout",
     "output_type": "stream",
     "text": [
      "1109\n",
      "1110\n"
     ]
    },
    {
     "name": "stderr",
     "output_type": "stream",
     "text": [
      " 54%|█████▍    | 1112/2065 [03:01<02:48,  5.65it/s]"
     ]
    },
    {
     "name": "stdout",
     "output_type": "stream",
     "text": [
      "1111\n",
      "1112\n"
     ]
    },
    {
     "name": "stderr",
     "output_type": "stream",
     "text": [
      " 54%|█████▍    | 1114/2065 [03:01<02:49,  5.61it/s]"
     ]
    },
    {
     "name": "stdout",
     "output_type": "stream",
     "text": [
      "1113\n",
      "1114\n"
     ]
    },
    {
     "name": "stderr",
     "output_type": "stream",
     "text": [
      " 54%|█████▍    | 1116/2065 [03:01<02:51,  5.53it/s]"
     ]
    },
    {
     "name": "stdout",
     "output_type": "stream",
     "text": [
      "1115\n",
      "1116\n"
     ]
    },
    {
     "name": "stderr",
     "output_type": "stream",
     "text": [
      " 54%|█████▍    | 1118/2065 [03:02<02:50,  5.54it/s]"
     ]
    },
    {
     "name": "stdout",
     "output_type": "stream",
     "text": [
      "1117\n",
      "1118\n"
     ]
    },
    {
     "name": "stderr",
     "output_type": "stream",
     "text": [
      " 54%|█████▍    | 1120/2065 [03:02<02:32,  6.21it/s]"
     ]
    },
    {
     "name": "stdout",
     "output_type": "stream",
     "text": [
      "1119\n",
      "1120\n"
     ]
    },
    {
     "name": "stderr",
     "output_type": "stream",
     "text": [
      " 54%|█████▍    | 1122/2065 [03:02<02:33,  6.13it/s]"
     ]
    },
    {
     "name": "stdout",
     "output_type": "stream",
     "text": [
      "1121\n",
      "1122\n"
     ]
    },
    {
     "name": "stderr",
     "output_type": "stream",
     "text": [
      " 54%|█████▍    | 1124/2065 [03:03<02:42,  5.79it/s]"
     ]
    },
    {
     "name": "stdout",
     "output_type": "stream",
     "text": [
      "1123\n",
      "1124\n"
     ]
    },
    {
     "name": "stderr",
     "output_type": "stream",
     "text": [
      " 55%|█████▍    | 1126/2065 [03:03<02:51,  5.48it/s]"
     ]
    },
    {
     "name": "stdout",
     "output_type": "stream",
     "text": [
      "1125\n",
      "1126\n"
     ]
    },
    {
     "name": "stderr",
     "output_type": "stream",
     "text": [
      " 55%|█████▍    | 1128/2065 [03:03<02:48,  5.55it/s]"
     ]
    },
    {
     "name": "stdout",
     "output_type": "stream",
     "text": [
      "1127\n",
      "1128\n"
     ]
    },
    {
     "name": "stderr",
     "output_type": "stream",
     "text": [
      " 55%|█████▍    | 1130/2065 [03:04<02:50,  5.49it/s]"
     ]
    },
    {
     "name": "stdout",
     "output_type": "stream",
     "text": [
      "1129\n",
      "1130\n"
     ]
    },
    {
     "name": "stderr",
     "output_type": "stream",
     "text": [
      " 55%|█████▍    | 1132/2065 [03:04<02:56,  5.30it/s]"
     ]
    },
    {
     "name": "stdout",
     "output_type": "stream",
     "text": [
      "1131\n",
      "1132\n"
     ]
    },
    {
     "name": "stderr",
     "output_type": "stream",
     "text": [
      "\r",
      " 55%|█████▍    | 1134/2065 [03:04<02:27,  6.32it/s]"
     ]
    },
    {
     "name": "stdout",
     "output_type": "stream",
     "text": [
      "1133\n",
      "1134\n"
     ]
    },
    {
     "name": "stderr",
     "output_type": "stream",
     "text": [
      " 55%|█████▌    | 1136/2065 [03:05<02:33,  6.06it/s]"
     ]
    },
    {
     "name": "stdout",
     "output_type": "stream",
     "text": [
      "1135\n",
      "1136\n"
     ]
    },
    {
     "name": "stderr",
     "output_type": "stream",
     "text": [
      " 55%|█████▌    | 1138/2065 [03:05<02:20,  6.58it/s]"
     ]
    },
    {
     "name": "stdout",
     "output_type": "stream",
     "text": [
      "1137\n",
      "1138\n"
     ]
    },
    {
     "name": "stderr",
     "output_type": "stream",
     "text": [
      " 55%|█████▌    | 1140/2065 [03:05<02:35,  5.93it/s]"
     ]
    },
    {
     "name": "stdout",
     "output_type": "stream",
     "text": [
      "1139\n",
      "1140\n"
     ]
    },
    {
     "name": "stderr",
     "output_type": "stream",
     "text": [
      " 55%|█████▌    | 1142/2065 [03:06<02:48,  5.48it/s]"
     ]
    },
    {
     "name": "stdout",
     "output_type": "stream",
     "text": [
      "1141\n",
      "1142\n"
     ]
    },
    {
     "name": "stderr",
     "output_type": "stream",
     "text": [
      " 55%|█████▌    | 1144/2065 [03:06<02:52,  5.33it/s]"
     ]
    },
    {
     "name": "stdout",
     "output_type": "stream",
     "text": [
      "1143\n",
      "1144\n"
     ]
    },
    {
     "name": "stderr",
     "output_type": "stream",
     "text": [
      " 55%|█████▌    | 1146/2065 [03:06<02:49,  5.41it/s]"
     ]
    },
    {
     "name": "stdout",
     "output_type": "stream",
     "text": [
      "1145\n",
      "1146\n"
     ]
    },
    {
     "name": "stderr",
     "output_type": "stream",
     "text": [
      " 56%|█████▌    | 1148/2065 [03:07<02:47,  5.46it/s]"
     ]
    },
    {
     "name": "stdout",
     "output_type": "stream",
     "text": [
      "1147\n",
      "1148\n"
     ]
    },
    {
     "name": "stderr",
     "output_type": "stream",
     "text": [
      " 56%|█████▌    | 1150/2065 [03:07<02:54,  5.25it/s]"
     ]
    },
    {
     "name": "stdout",
     "output_type": "stream",
     "text": [
      "1149\n",
      "1150\n"
     ]
    },
    {
     "name": "stderr",
     "output_type": "stream",
     "text": [
      " 56%|█████▌    | 1152/2065 [03:08<02:50,  5.37it/s]"
     ]
    },
    {
     "name": "stdout",
     "output_type": "stream",
     "text": [
      "1151\n",
      "1152\n"
     ]
    },
    {
     "name": "stderr",
     "output_type": "stream",
     "text": [
      " 56%|█████▌    | 1154/2065 [03:08<02:50,  5.33it/s]"
     ]
    },
    {
     "name": "stdout",
     "output_type": "stream",
     "text": [
      "1153\n",
      "1154\n"
     ]
    },
    {
     "name": "stderr",
     "output_type": "stream",
     "text": [
      " 56%|█████▌    | 1156/2065 [03:08<02:57,  5.13it/s]"
     ]
    },
    {
     "name": "stdout",
     "output_type": "stream",
     "text": [
      "1155\n"
     ]
    },
    {
     "name": "stderr",
     "output_type": "stream",
     "text": [
      " 56%|█████▌    | 1158/2065 [03:09<03:02,  4.98it/s]"
     ]
    },
    {
     "name": "stdout",
     "output_type": "stream",
     "text": [
      "1156\n",
      "1157\n",
      "1158\n"
     ]
    },
    {
     "name": "stderr",
     "output_type": "stream",
     "text": [
      " 56%|█████▌    | 1160/2065 [03:09<03:07,  4.83it/s]"
     ]
    },
    {
     "name": "stdout",
     "output_type": "stream",
     "text": [
      "1159\n",
      "1160\n"
     ]
    },
    {
     "name": "stderr",
     "output_type": "stream",
     "text": [
      "\r",
      " 56%|█████▌    | 1161/2065 [03:09<03:13,  4.67it/s]"
     ]
    },
    {
     "name": "stdout",
     "output_type": "stream",
     "text": [
      "1161\n"
     ]
    },
    {
     "name": "stderr",
     "output_type": "stream",
     "text": [
      "\r",
      " 56%|█████▋    | 1162/2065 [03:10<03:18,  4.55it/s]"
     ]
    },
    {
     "name": "stdout",
     "output_type": "stream",
     "text": [
      "1162\n"
     ]
    },
    {
     "name": "stderr",
     "output_type": "stream",
     "text": [
      "\r",
      " 56%|█████▋    | 1163/2065 [03:10<03:23,  4.44it/s]"
     ]
    },
    {
     "name": "stdout",
     "output_type": "stream",
     "text": [
      "1163\n"
     ]
    },
    {
     "name": "stderr",
     "output_type": "stream",
     "text": [
      "\r",
      " 56%|█████▋    | 1164/2065 [03:10<03:17,  4.55it/s]"
     ]
    },
    {
     "name": "stdout",
     "output_type": "stream",
     "text": [
      "1164\n",
      "1165\n"
     ]
    },
    {
     "name": "stderr",
     "output_type": "stream",
     "text": [
      "\r",
      " 56%|█████▋    | 1166/2065 [03:10<02:30,  5.96it/s]"
     ]
    },
    {
     "name": "stdout",
     "output_type": "stream",
     "text": [
      "1166\n"
     ]
    },
    {
     "name": "stderr",
     "output_type": "stream",
     "text": [
      "\r",
      " 57%|█████▋    | 1167/2065 [03:11<02:42,  5.52it/s]"
     ]
    },
    {
     "name": "stdout",
     "output_type": "stream",
     "text": [
      "1167\n"
     ]
    },
    {
     "name": "stderr",
     "output_type": "stream",
     "text": [
      "\r",
      " 57%|█████▋    | 1168/2065 [03:11<02:52,  5.20it/s]"
     ]
    },
    {
     "name": "stdout",
     "output_type": "stream",
     "text": [
      "1168\n"
     ]
    },
    {
     "name": "stderr",
     "output_type": "stream",
     "text": [
      "\r",
      " 57%|█████▋    | 1169/2065 [03:11<03:02,  4.91it/s]"
     ]
    },
    {
     "name": "stdout",
     "output_type": "stream",
     "text": [
      "1169\n"
     ]
    },
    {
     "name": "stderr",
     "output_type": "stream",
     "text": [
      "\r",
      " 57%|█████▋    | 1170/2065 [03:11<03:11,  4.67it/s]"
     ]
    },
    {
     "name": "stdout",
     "output_type": "stream",
     "text": [
      "1170\n"
     ]
    },
    {
     "name": "stderr",
     "output_type": "stream",
     "text": [
      " 57%|█████▋    | 1173/2065 [03:12<02:26,  6.07it/s]"
     ]
    },
    {
     "name": "stdout",
     "output_type": "stream",
     "text": [
      "1171\n",
      "1172\n",
      "1173\n"
     ]
    },
    {
     "name": "stderr",
     "output_type": "stream",
     "text": [
      " 57%|█████▋    | 1175/2065 [03:12<02:32,  5.83it/s]"
     ]
    },
    {
     "name": "stdout",
     "output_type": "stream",
     "text": [
      "1174\n",
      "1175\n"
     ]
    },
    {
     "name": "stderr",
     "output_type": "stream",
     "text": [
      " 57%|█████▋    | 1177/2065 [03:12<02:34,  5.74it/s]"
     ]
    },
    {
     "name": "stdout",
     "output_type": "stream",
     "text": [
      "1176\n",
      "1177\n"
     ]
    },
    {
     "name": "stderr",
     "output_type": "stream",
     "text": [
      " 57%|█████▋    | 1179/2065 [03:13<02:36,  5.67it/s]"
     ]
    },
    {
     "name": "stdout",
     "output_type": "stream",
     "text": [
      "1178\n",
      "1179\n"
     ]
    },
    {
     "name": "stderr",
     "output_type": "stream",
     "text": [
      " 57%|█████▋    | 1181/2065 [03:13<02:26,  6.02it/s]"
     ]
    },
    {
     "name": "stdout",
     "output_type": "stream",
     "text": [
      "1180\n",
      "1181\n"
     ]
    },
    {
     "name": "stderr",
     "output_type": "stream",
     "text": [
      " 57%|█████▋    | 1183/2065 [03:13<02:03,  7.17it/s]"
     ]
    },
    {
     "name": "stdout",
     "output_type": "stream",
     "text": [
      "1182\n",
      "1183\n"
     ]
    },
    {
     "name": "stderr",
     "output_type": "stream",
     "text": [
      " 57%|█████▋    | 1185/2065 [03:14<01:52,  7.81it/s]"
     ]
    },
    {
     "name": "stdout",
     "output_type": "stream",
     "text": [
      "1184\n",
      "1185\n"
     ]
    },
    {
     "name": "stderr",
     "output_type": "stream",
     "text": [
      " 57%|█████▋    | 1187/2065 [03:14<02:07,  6.90it/s]"
     ]
    },
    {
     "name": "stdout",
     "output_type": "stream",
     "text": [
      "1186\n",
      "1187\n"
     ]
    },
    {
     "name": "stderr",
     "output_type": "stream",
     "text": [
      " 58%|█████▊    | 1189/2065 [03:14<02:06,  6.91it/s]"
     ]
    },
    {
     "name": "stdout",
     "output_type": "stream",
     "text": [
      "1188\n",
      "1189\n"
     ]
    },
    {
     "name": "stderr",
     "output_type": "stream",
     "text": [
      " 58%|█████▊    | 1191/2065 [03:15<02:21,  6.17it/s]"
     ]
    },
    {
     "name": "stdout",
     "output_type": "stream",
     "text": [
      "1190\n",
      "1191\n"
     ]
    },
    {
     "name": "stderr",
     "output_type": "stream",
     "text": [
      " 58%|█████▊    | 1193/2065 [03:15<02:20,  6.23it/s]"
     ]
    },
    {
     "name": "stdout",
     "output_type": "stream",
     "text": [
      "1192\n",
      "1193\n"
     ]
    },
    {
     "name": "stderr",
     "output_type": "stream",
     "text": [
      "\r",
      " 58%|█████▊    | 1194/2065 [03:15<02:14,  6.49it/s]"
     ]
    },
    {
     "name": "stdout",
     "output_type": "stream",
     "text": [
      "1194\n",
      "1195\n"
     ]
    },
    {
     "name": "stderr",
     "output_type": "stream",
     "text": [
      "\r",
      " 58%|█████▊    | 1196/2065 [03:15<02:07,  6.82it/s]"
     ]
    },
    {
     "name": "stdout",
     "output_type": "stream",
     "text": [
      "1196\n",
      "1197\n"
     ]
    },
    {
     "name": "stderr",
     "output_type": "stream",
     "text": [
      " 58%|█████▊    | 1199/2065 [03:16<02:06,  6.82it/s]"
     ]
    },
    {
     "name": "stdout",
     "output_type": "stream",
     "text": [
      "1198\n",
      "1199\n"
     ]
    },
    {
     "name": "stderr",
     "output_type": "stream",
     "text": [
      " 58%|█████▊    | 1201/2065 [03:16<02:13,  6.49it/s]"
     ]
    },
    {
     "name": "stdout",
     "output_type": "stream",
     "text": [
      "1200\n",
      "1201\n"
     ]
    },
    {
     "name": "stderr",
     "output_type": "stream",
     "text": [
      "\r",
      " 58%|█████▊    | 1203/2065 [03:16<01:50,  7.81it/s]"
     ]
    },
    {
     "name": "stdout",
     "output_type": "stream",
     "text": [
      "1202\n",
      "1203\n"
     ]
    },
    {
     "name": "stderr",
     "output_type": "stream",
     "text": [
      "\r",
      " 58%|█████▊    | 1204/2065 [03:16<01:51,  7.69it/s]"
     ]
    },
    {
     "name": "stdout",
     "output_type": "stream",
     "text": [
      "1204\n",
      "1205\n"
     ]
    },
    {
     "name": "stderr",
     "output_type": "stream",
     "text": [
      " 58%|█████▊    | 1208/2065 [03:17<01:32,  9.24it/s]"
     ]
    },
    {
     "name": "stdout",
     "output_type": "stream",
     "text": [
      "1206\n",
      "1207\n",
      "1208\n"
     ]
    },
    {
     "name": "stderr",
     "output_type": "stream",
     "text": [
      " 59%|█████▊    | 1210/2065 [03:17<01:54,  7.44it/s]"
     ]
    },
    {
     "name": "stdout",
     "output_type": "stream",
     "text": [
      "1209\n",
      "1210\n"
     ]
    },
    {
     "name": "stderr",
     "output_type": "stream",
     "text": [
      " 59%|█████▊    | 1212/2065 [03:17<01:49,  7.79it/s]"
     ]
    },
    {
     "name": "stdout",
     "output_type": "stream",
     "text": [
      "1211\n",
      "1212\n"
     ]
    },
    {
     "name": "stderr",
     "output_type": "stream",
     "text": [
      "\r",
      " 59%|█████▉    | 1214/2065 [03:17<01:36,  8.84it/s]"
     ]
    },
    {
     "name": "stdout",
     "output_type": "stream",
     "text": [
      "1213\n",
      "1214\n"
     ]
    },
    {
     "name": "stderr",
     "output_type": "stream",
     "text": [
      " 59%|█████▉    | 1216/2065 [03:18<01:56,  7.32it/s]"
     ]
    },
    {
     "name": "stdout",
     "output_type": "stream",
     "text": [
      "1215\n",
      "1216\n"
     ]
    },
    {
     "name": "stderr",
     "output_type": "stream",
     "text": [
      "\r",
      " 59%|█████▉    | 1217/2065 [03:18<02:03,  6.88it/s]"
     ]
    },
    {
     "name": "stdout",
     "output_type": "stream",
     "text": [
      "1217\n"
     ]
    },
    {
     "name": "stderr",
     "output_type": "stream",
     "text": [
      " 59%|█████▉    | 1219/2065 [03:18<02:21,  5.97it/s]"
     ]
    },
    {
     "name": "stdout",
     "output_type": "stream",
     "text": [
      "1218\n",
      "1219\n"
     ]
    },
    {
     "name": "stderr",
     "output_type": "stream",
     "text": [
      " 59%|█████▉    | 1221/2065 [03:19<02:29,  5.63it/s]"
     ]
    },
    {
     "name": "stdout",
     "output_type": "stream",
     "text": [
      "1220\n",
      "1221\n"
     ]
    },
    {
     "name": "stderr",
     "output_type": "stream",
     "text": [
      " 59%|█████▉    | 1223/2065 [03:19<02:06,  6.65it/s]"
     ]
    },
    {
     "name": "stdout",
     "output_type": "stream",
     "text": [
      "1222\n",
      "1223\n"
     ]
    },
    {
     "name": "stderr",
     "output_type": "stream",
     "text": [
      " 59%|█████▉    | 1225/2065 [03:19<02:10,  6.43it/s]"
     ]
    },
    {
     "name": "stdout",
     "output_type": "stream",
     "text": [
      "1224\n",
      "1225\n"
     ]
    },
    {
     "name": "stderr",
     "output_type": "stream",
     "text": [
      "\r",
      " 59%|█████▉    | 1227/2065 [03:20<01:52,  7.47it/s]"
     ]
    },
    {
     "name": "stdout",
     "output_type": "stream",
     "text": [
      "1226\n",
      "1227\n"
     ]
    },
    {
     "name": "stderr",
     "output_type": "stream",
     "text": [
      " 60%|█████▉    | 1229/2065 [03:20<02:01,  6.87it/s]"
     ]
    },
    {
     "name": "stdout",
     "output_type": "stream",
     "text": [
      "1228\n",
      "1229\n"
     ]
    },
    {
     "name": "stderr",
     "output_type": "stream",
     "text": [
      " 60%|█████▉    | 1231/2065 [03:20<01:55,  7.20it/s]"
     ]
    },
    {
     "name": "stdout",
     "output_type": "stream",
     "text": [
      "1230\n",
      "1231\n"
     ]
    },
    {
     "name": "stderr",
     "output_type": "stream",
     "text": [
      " 60%|█████▉    | 1233/2065 [03:20<02:10,  6.36it/s]"
     ]
    },
    {
     "name": "stdout",
     "output_type": "stream",
     "text": [
      "1232\n",
      "1233\n"
     ]
    },
    {
     "name": "stderr",
     "output_type": "stream",
     "text": [
      " 60%|█████▉    | 1235/2065 [03:21<02:12,  6.26it/s]"
     ]
    },
    {
     "name": "stdout",
     "output_type": "stream",
     "text": [
      "1234\n",
      "1235\n"
     ]
    },
    {
     "name": "stderr",
     "output_type": "stream",
     "text": [
      " 60%|█████▉    | 1237/2065 [03:21<02:23,  5.76it/s]"
     ]
    },
    {
     "name": "stdout",
     "output_type": "stream",
     "text": [
      "1236\n",
      "1237\n"
     ]
    },
    {
     "name": "stderr",
     "output_type": "stream",
     "text": [
      "\r",
      " 60%|█████▉    | 1238/2065 [03:21<02:08,  6.44it/s]"
     ]
    },
    {
     "name": "stdout",
     "output_type": "stream",
     "text": [
      "1238\n"
     ]
    },
    {
     "name": "stderr",
     "output_type": "stream",
     "text": [
      "\r",
      " 60%|██████    | 1239/2065 [03:22<02:23,  5.77it/s]"
     ]
    },
    {
     "name": "stdout",
     "output_type": "stream",
     "text": [
      "1239\n"
     ]
    },
    {
     "name": "stderr",
     "output_type": "stream",
     "text": [
      "\r",
      " 60%|██████    | 1240/2065 [03:22<02:31,  5.46it/s]"
     ]
    },
    {
     "name": "stdout",
     "output_type": "stream",
     "text": [
      "1240\n"
     ]
    },
    {
     "name": "stderr",
     "output_type": "stream",
     "text": [
      " 60%|██████    | 1242/2065 [03:22<02:33,  5.36it/s]"
     ]
    },
    {
     "name": "stdout",
     "output_type": "stream",
     "text": [
      "1241\n",
      "1242\n"
     ]
    },
    {
     "name": "stderr",
     "output_type": "stream",
     "text": [
      "\r",
      " 60%|██████    | 1243/2065 [03:22<02:28,  5.52it/s]"
     ]
    },
    {
     "name": "stdout",
     "output_type": "stream",
     "text": [
      "1243\n"
     ]
    },
    {
     "name": "stderr",
     "output_type": "stream",
     "text": [
      " 60%|██████    | 1245/2065 [03:23<02:20,  5.85it/s]"
     ]
    },
    {
     "name": "stdout",
     "output_type": "stream",
     "text": [
      "1244\n",
      "1245\n",
      "1246\n"
     ]
    },
    {
     "name": "stderr",
     "output_type": "stream",
     "text": [
      "\r",
      " 60%|██████    | 1247/2065 [03:23<02:12,  6.15it/s]"
     ]
    },
    {
     "name": "stdout",
     "output_type": "stream",
     "text": [
      "1247\n"
     ]
    },
    {
     "name": "stderr",
     "output_type": "stream",
     "text": [
      " 60%|██████    | 1249/2065 [03:23<02:20,  5.80it/s]"
     ]
    },
    {
     "name": "stdout",
     "output_type": "stream",
     "text": [
      "1248\n",
      "1249\n"
     ]
    },
    {
     "name": "stderr",
     "output_type": "stream",
     "text": [
      "\r",
      " 61%|██████    | 1250/2065 [03:24<02:31,  5.38it/s]"
     ]
    },
    {
     "name": "stdout",
     "output_type": "stream",
     "text": [
      "1250\n"
     ]
    },
    {
     "name": "stderr",
     "output_type": "stream",
     "text": [
      "\r",
      " 61%|██████    | 1251/2065 [03:24<02:44,  4.96it/s]"
     ]
    },
    {
     "name": "stdout",
     "output_type": "stream",
     "text": [
      "1251\n",
      "1252\n"
     ]
    },
    {
     "name": "stderr",
     "output_type": "stream",
     "text": [
      "\r",
      " 61%|██████    | 1253/2065 [03:24<02:29,  5.45it/s]"
     ]
    },
    {
     "name": "stdout",
     "output_type": "stream",
     "text": [
      "1253\n",
      "1254\n"
     ]
    },
    {
     "name": "stderr",
     "output_type": "stream",
     "text": [
      " 61%|██████    | 1257/2065 [03:25<01:52,  7.15it/s]"
     ]
    },
    {
     "name": "stdout",
     "output_type": "stream",
     "text": [
      "1255\n",
      "1256\n",
      "1257\n"
     ]
    },
    {
     "name": "stderr",
     "output_type": "stream",
     "text": [
      " 61%|██████    | 1259/2065 [03:25<01:42,  7.83it/s]"
     ]
    },
    {
     "name": "stdout",
     "output_type": "stream",
     "text": [
      "1258\n",
      "1259\n"
     ]
    },
    {
     "name": "stderr",
     "output_type": "stream",
     "text": [
      " 61%|██████    | 1261/2065 [03:25<01:59,  6.74it/s]"
     ]
    },
    {
     "name": "stdout",
     "output_type": "stream",
     "text": [
      "1260\n",
      "1261\n"
     ]
    },
    {
     "name": "stderr",
     "output_type": "stream",
     "text": [
      " 61%|██████    | 1263/2065 [03:25<01:55,  6.93it/s]"
     ]
    },
    {
     "name": "stdout",
     "output_type": "stream",
     "text": [
      "1262\n",
      "1263\n"
     ]
    },
    {
     "name": "stderr",
     "output_type": "stream",
     "text": [
      " 61%|██████▏   | 1265/2065 [03:26<01:55,  6.92it/s]"
     ]
    },
    {
     "name": "stdout",
     "output_type": "stream",
     "text": [
      "1264\n",
      "1265\n"
     ]
    },
    {
     "name": "stderr",
     "output_type": "stream",
     "text": [
      " 61%|██████▏   | 1267/2065 [03:26<02:04,  6.39it/s]"
     ]
    },
    {
     "name": "stdout",
     "output_type": "stream",
     "text": [
      "1266\n",
      "1267\n"
     ]
    },
    {
     "name": "stderr",
     "output_type": "stream",
     "text": [
      " 62%|██████▏   | 1270/2065 [03:26<01:39,  7.96it/s]"
     ]
    },
    {
     "name": "stdout",
     "output_type": "stream",
     "text": [
      "1268\n",
      "1269\n",
      "1270\n"
     ]
    },
    {
     "name": "stderr",
     "output_type": "stream",
     "text": [
      " 62%|██████▏   | 1272/2065 [03:27<01:46,  7.42it/s]"
     ]
    },
    {
     "name": "stdout",
     "output_type": "stream",
     "text": [
      "1271\n",
      "1272\n"
     ]
    },
    {
     "name": "stderr",
     "output_type": "stream",
     "text": [
      "\r",
      " 62%|██████▏   | 1273/2065 [03:27<01:57,  6.75it/s]"
     ]
    },
    {
     "name": "stdout",
     "output_type": "stream",
     "text": [
      "1273\n",
      "1274\n"
     ]
    },
    {
     "name": "stderr",
     "output_type": "stream",
     "text": [
      " 62%|██████▏   | 1276/2065 [03:27<01:43,  7.66it/s]"
     ]
    },
    {
     "name": "stdout",
     "output_type": "stream",
     "text": [
      "1275\n",
      "1276\n"
     ]
    },
    {
     "name": "stderr",
     "output_type": "stream",
     "text": [
      " 62%|██████▏   | 1278/2065 [03:28<01:54,  6.86it/s]"
     ]
    },
    {
     "name": "stdout",
     "output_type": "stream",
     "text": [
      "1277\n",
      "1278\n"
     ]
    },
    {
     "name": "stderr",
     "output_type": "stream",
     "text": [
      "\r",
      " 62%|██████▏   | 1280/2065 [03:28<01:47,  7.34it/s]"
     ]
    },
    {
     "name": "stdout",
     "output_type": "stream",
     "text": [
      "1279\n",
      "1280\n"
     ]
    },
    {
     "name": "stderr",
     "output_type": "stream",
     "text": [
      "\r",
      " 62%|██████▏   | 1282/2065 [03:28<01:47,  7.30it/s]"
     ]
    },
    {
     "name": "stdout",
     "output_type": "stream",
     "text": [
      "1281\n",
      "1282\n"
     ]
    },
    {
     "name": "stderr",
     "output_type": "stream",
     "text": [
      " 62%|██████▏   | 1284/2065 [03:28<02:00,  6.48it/s]"
     ]
    },
    {
     "name": "stdout",
     "output_type": "stream",
     "text": [
      "1283\n",
      "1284\n"
     ]
    },
    {
     "name": "stderr",
     "output_type": "stream",
     "text": [
      "\r",
      " 62%|██████▏   | 1286/2065 [03:29<01:42,  7.57it/s]"
     ]
    },
    {
     "name": "stdout",
     "output_type": "stream",
     "text": [
      "1285\n",
      "1286\n"
     ]
    },
    {
     "name": "stderr",
     "output_type": "stream",
     "text": [
      " 62%|██████▏   | 1288/2065 [03:29<02:02,  6.34it/s]"
     ]
    },
    {
     "name": "stdout",
     "output_type": "stream",
     "text": [
      "1287\n",
      "1288\n"
     ]
    },
    {
     "name": "stderr",
     "output_type": "stream",
     "text": [
      " 62%|██████▏   | 1290/2065 [03:29<02:13,  5.80it/s]"
     ]
    },
    {
     "name": "stdout",
     "output_type": "stream",
     "text": [
      "1289\n",
      "1290\n"
     ]
    },
    {
     "name": "stderr",
     "output_type": "stream",
     "text": [
      " 63%|██████▎   | 1292/2065 [03:30<02:08,  6.03it/s]"
     ]
    },
    {
     "name": "stdout",
     "output_type": "stream",
     "text": [
      "1291\n",
      "1292\n",
      "1293\n"
     ]
    },
    {
     "name": "stderr",
     "output_type": "stream",
     "text": [
      " 63%|██████▎   | 1295/2065 [03:30<01:39,  7.70it/s]"
     ]
    },
    {
     "name": "stdout",
     "output_type": "stream",
     "text": [
      "1294\n",
      "1295\n"
     ]
    },
    {
     "name": "stderr",
     "output_type": "stream",
     "text": [
      " 63%|██████▎   | 1297/2065 [03:30<01:58,  6.51it/s]"
     ]
    },
    {
     "name": "stdout",
     "output_type": "stream",
     "text": [
      "1296\n",
      "1297\n"
     ]
    },
    {
     "name": "stderr",
     "output_type": "stream",
     "text": [
      " 63%|██████▎   | 1299/2065 [03:31<01:57,  6.52it/s]"
     ]
    },
    {
     "name": "stdout",
     "output_type": "stream",
     "text": [
      "1298\n",
      "1299\n"
     ]
    },
    {
     "name": "stderr",
     "output_type": "stream",
     "text": [
      "\r",
      " 63%|██████▎   | 1300/2065 [03:31<02:07,  5.98it/s]"
     ]
    },
    {
     "name": "stdout",
     "output_type": "stream",
     "text": [
      "1300\n"
     ]
    },
    {
     "name": "stderr",
     "output_type": "stream",
     "text": [
      " 63%|██████▎   | 1302/2065 [03:31<02:16,  5.58it/s]"
     ]
    },
    {
     "name": "stdout",
     "output_type": "stream",
     "text": [
      "1301\n",
      "1302\n"
     ]
    },
    {
     "name": "stderr",
     "output_type": "stream",
     "text": [
      " 63%|██████▎   | 1304/2065 [03:32<02:17,  5.53it/s]"
     ]
    },
    {
     "name": "stdout",
     "output_type": "stream",
     "text": [
      "1303\n",
      "1304\n"
     ]
    },
    {
     "name": "stderr",
     "output_type": "stream",
     "text": [
      " 63%|██████▎   | 1306/2065 [03:32<02:08,  5.89it/s]"
     ]
    },
    {
     "name": "stdout",
     "output_type": "stream",
     "text": [
      "1305\n",
      "1306\n"
     ]
    },
    {
     "name": "stderr",
     "output_type": "stream",
     "text": [
      " 63%|██████▎   | 1308/2065 [03:32<01:46,  7.09it/s]"
     ]
    },
    {
     "name": "stdout",
     "output_type": "stream",
     "text": [
      "1307\n",
      "1308\n"
     ]
    },
    {
     "name": "stderr",
     "output_type": "stream",
     "text": [
      " 63%|██████▎   | 1310/2065 [03:33<01:48,  6.96it/s]"
     ]
    },
    {
     "name": "stdout",
     "output_type": "stream",
     "text": [
      "1309\n",
      "1310\n"
     ]
    },
    {
     "name": "stderr",
     "output_type": "stream",
     "text": [
      " 64%|██████▎   | 1312/2065 [03:33<01:34,  7.95it/s]"
     ]
    },
    {
     "name": "stdout",
     "output_type": "stream",
     "text": [
      "1311\n",
      "1312\n",
      "1313\n"
     ]
    },
    {
     "name": "stderr",
     "output_type": "stream",
     "text": [
      " 64%|██████▎   | 1315/2065 [03:33<01:34,  7.92it/s]"
     ]
    },
    {
     "name": "stdout",
     "output_type": "stream",
     "text": [
      "1314\n",
      "1315\n"
     ]
    },
    {
     "name": "stderr",
     "output_type": "stream",
     "text": [
      "\r",
      " 64%|██████▎   | 1316/2065 [03:33<01:33,  8.01it/s]"
     ]
    },
    {
     "name": "stdout",
     "output_type": "stream",
     "text": [
      "1316\n",
      "1317\n"
     ]
    },
    {
     "name": "stderr",
     "output_type": "stream",
     "text": [
      " 64%|██████▍   | 1319/2065 [03:34<01:29,  8.31it/s]"
     ]
    },
    {
     "name": "stdout",
     "output_type": "stream",
     "text": [
      "1318\n",
      "1319\n"
     ]
    },
    {
     "name": "stderr",
     "output_type": "stream",
     "text": [
      " 64%|██████▍   | 1321/2065 [03:34<01:29,  8.29it/s]"
     ]
    },
    {
     "name": "stdout",
     "output_type": "stream",
     "text": [
      "1320\n",
      "1321\n"
     ]
    },
    {
     "name": "stderr",
     "output_type": "stream",
     "text": [
      " 64%|██████▍   | 1323/2065 [03:34<01:29,  8.33it/s]"
     ]
    },
    {
     "name": "stdout",
     "output_type": "stream",
     "text": [
      "1322\n",
      "1323\n"
     ]
    },
    {
     "name": "stderr",
     "output_type": "stream",
     "text": [
      "\r",
      " 64%|██████▍   | 1324/2065 [03:34<01:26,  8.58it/s]"
     ]
    },
    {
     "name": "stdout",
     "output_type": "stream",
     "text": [
      "1324\n",
      "1325\n"
     ]
    },
    {
     "name": "stderr",
     "output_type": "stream",
     "text": [
      "\r",
      " 64%|██████▍   | 1326/2065 [03:34<01:27,  8.47it/s]"
     ]
    },
    {
     "name": "stdout",
     "output_type": "stream",
     "text": [
      "1326\n"
     ]
    },
    {
     "name": "stderr",
     "output_type": "stream",
     "text": [
      "\r",
      " 64%|██████▍   | 1327/2065 [03:35<01:43,  7.11it/s]"
     ]
    },
    {
     "name": "stdout",
     "output_type": "stream",
     "text": [
      "1327\n"
     ]
    },
    {
     "name": "stderr",
     "output_type": "stream",
     "text": [
      " 64%|██████▍   | 1329/2065 [03:35<01:56,  6.31it/s]"
     ]
    },
    {
     "name": "stdout",
     "output_type": "stream",
     "text": [
      "1328\n",
      "1329\n"
     ]
    },
    {
     "name": "stderr",
     "output_type": "stream",
     "text": [
      "\r",
      " 64%|██████▍   | 1330/2065 [03:35<02:07,  5.78it/s]"
     ]
    },
    {
     "name": "stdout",
     "output_type": "stream",
     "text": [
      "1330\n"
     ]
    },
    {
     "name": "stderr",
     "output_type": "stream",
     "text": [
      "\r",
      " 64%|██████▍   | 1331/2065 [03:35<02:17,  5.35it/s]"
     ]
    },
    {
     "name": "stdout",
     "output_type": "stream",
     "text": [
      "1331\n",
      "1332\n"
     ]
    },
    {
     "name": "stderr",
     "output_type": "stream",
     "text": [
      "\r",
      " 65%|██████▍   | 1333/2065 [03:36<02:03,  5.91it/s]"
     ]
    },
    {
     "name": "stdout",
     "output_type": "stream",
     "text": [
      "1333\n"
     ]
    },
    {
     "name": "stderr",
     "output_type": "stream",
     "text": [
      " 65%|██████▍   | 1335/2065 [03:36<02:18,  5.29it/s]"
     ]
    },
    {
     "name": "stdout",
     "output_type": "stream",
     "text": [
      "1334\n"
     ]
    },
    {
     "name": "stderr",
     "output_type": "stream",
     "text": [
      "\r",
      " 65%|██████▍   | 1336/2065 [03:36<02:09,  5.61it/s]"
     ]
    },
    {
     "name": "stdout",
     "output_type": "stream",
     "text": [
      "1335\n",
      "1336\n"
     ]
    },
    {
     "name": "stderr",
     "output_type": "stream",
     "text": [
      " 65%|██████▍   | 1338/2065 [03:37<02:06,  5.73it/s]"
     ]
    },
    {
     "name": "stdout",
     "output_type": "stream",
     "text": [
      "1337\n",
      "1338\n"
     ]
    },
    {
     "name": "stderr",
     "output_type": "stream",
     "text": [
      "\r",
      " 65%|██████▍   | 1339/2065 [03:37<02:08,  5.67it/s]"
     ]
    },
    {
     "name": "stdout",
     "output_type": "stream",
     "text": [
      "1339\n"
     ]
    },
    {
     "name": "stderr",
     "output_type": "stream",
     "text": [
      " 65%|██████▍   | 1341/2065 [03:37<02:14,  5.38it/s]"
     ]
    },
    {
     "name": "stdout",
     "output_type": "stream",
     "text": [
      "1340\n",
      "1341\n"
     ]
    },
    {
     "name": "stderr",
     "output_type": "stream",
     "text": [
      " 65%|██████▌   | 1343/2065 [03:38<01:56,  6.18it/s]"
     ]
    },
    {
     "name": "stdout",
     "output_type": "stream",
     "text": [
      "1342\n",
      "1343\n"
     ]
    },
    {
     "name": "stderr",
     "output_type": "stream",
     "text": [
      " 65%|██████▌   | 1345/2065 [03:38<02:01,  5.91it/s]"
     ]
    },
    {
     "name": "stdout",
     "output_type": "stream",
     "text": [
      "1344\n",
      "1345\n"
     ]
    },
    {
     "name": "stderr",
     "output_type": "stream",
     "text": [
      " 65%|██████▌   | 1347/2065 [03:38<02:02,  5.86it/s]"
     ]
    },
    {
     "name": "stdout",
     "output_type": "stream",
     "text": [
      "1346\n",
      "1347\n"
     ]
    },
    {
     "name": "stderr",
     "output_type": "stream",
     "text": [
      " 65%|██████▌   | 1349/2065 [03:39<01:49,  6.56it/s]"
     ]
    },
    {
     "name": "stdout",
     "output_type": "stream",
     "text": [
      "1348\n",
      "1349\n"
     ]
    },
    {
     "name": "stderr",
     "output_type": "stream",
     "text": [
      " 65%|██████▌   | 1351/2065 [03:39<02:04,  5.73it/s]"
     ]
    },
    {
     "name": "stdout",
     "output_type": "stream",
     "text": [
      "1350\n",
      "1351\n"
     ]
    },
    {
     "name": "stderr",
     "output_type": "stream",
     "text": [
      " 66%|██████▌   | 1353/2065 [03:39<01:57,  6.06it/s]"
     ]
    },
    {
     "name": "stdout",
     "output_type": "stream",
     "text": [
      "1352\n",
      "1353\n"
     ]
    },
    {
     "name": "stderr",
     "output_type": "stream",
     "text": [
      " 66%|██████▌   | 1355/2065 [03:40<02:03,  5.73it/s]"
     ]
    },
    {
     "name": "stdout",
     "output_type": "stream",
     "text": [
      "1354\n",
      "1355\n"
     ]
    },
    {
     "name": "stderr",
     "output_type": "stream",
     "text": [
      " 66%|██████▌   | 1357/2065 [03:40<02:03,  5.75it/s]"
     ]
    },
    {
     "name": "stdout",
     "output_type": "stream",
     "text": [
      "1356\n",
      "1357\n"
     ]
    },
    {
     "name": "stderr",
     "output_type": "stream",
     "text": [
      " 66%|██████▌   | 1359/2065 [03:40<01:52,  6.29it/s]"
     ]
    },
    {
     "name": "stdout",
     "output_type": "stream",
     "text": [
      "1358\n",
      "1359\n"
     ]
    },
    {
     "name": "stderr",
     "output_type": "stream",
     "text": [
      " 66%|██████▌   | 1361/2065 [03:40<01:38,  7.14it/s]"
     ]
    },
    {
     "name": "stdout",
     "output_type": "stream",
     "text": [
      "1360\n",
      "1361\n"
     ]
    },
    {
     "name": "stderr",
     "output_type": "stream",
     "text": [
      " 66%|██████▌   | 1364/2065 [03:41<01:20,  8.68it/s]"
     ]
    },
    {
     "name": "stdout",
     "output_type": "stream",
     "text": [
      "1362\n",
      "1363\n",
      "1364\n"
     ]
    },
    {
     "name": "stderr",
     "output_type": "stream",
     "text": [
      " 66%|██████▌   | 1366/2065 [03:41<01:41,  6.91it/s]"
     ]
    },
    {
     "name": "stdout",
     "output_type": "stream",
     "text": [
      "1365\n",
      "1366\n"
     ]
    },
    {
     "name": "stderr",
     "output_type": "stream",
     "text": [
      " 66%|██████▌   | 1368/2065 [03:41<01:37,  7.16it/s]"
     ]
    },
    {
     "name": "stdout",
     "output_type": "stream",
     "text": [
      "1367\n",
      "1368\n"
     ]
    },
    {
     "name": "stderr",
     "output_type": "stream",
     "text": [
      " 66%|██████▋   | 1370/2065 [03:42<01:52,  6.18it/s]"
     ]
    },
    {
     "name": "stdout",
     "output_type": "stream",
     "text": [
      "1369\n",
      "1370\n"
     ]
    },
    {
     "name": "stderr",
     "output_type": "stream",
     "text": [
      " 66%|██████▋   | 1372/2065 [03:42<01:48,  6.38it/s]"
     ]
    },
    {
     "name": "stdout",
     "output_type": "stream",
     "text": [
      "1371\n",
      "1372\n"
     ]
    },
    {
     "name": "stderr",
     "output_type": "stream",
     "text": [
      " 67%|██████▋   | 1374/2065 [03:42<01:45,  6.53it/s]"
     ]
    },
    {
     "name": "stdout",
     "output_type": "stream",
     "text": [
      "1373\n",
      "1374\n"
     ]
    },
    {
     "name": "stderr",
     "output_type": "stream",
     "text": [
      " 67%|██████▋   | 1376/2065 [03:43<01:43,  6.67it/s]"
     ]
    },
    {
     "name": "stdout",
     "output_type": "stream",
     "text": [
      "1375\n",
      "1376\n"
     ]
    },
    {
     "name": "stderr",
     "output_type": "stream",
     "text": [
      " 67%|██████▋   | 1378/2065 [03:43<01:47,  6.37it/s]"
     ]
    },
    {
     "name": "stdout",
     "output_type": "stream",
     "text": [
      "1377\n",
      "1378\n"
     ]
    },
    {
     "name": "stderr",
     "output_type": "stream",
     "text": [
      " 67%|██████▋   | 1380/2065 [03:43<01:33,  7.30it/s]"
     ]
    },
    {
     "name": "stdout",
     "output_type": "stream",
     "text": [
      "1379\n",
      "1380\n"
     ]
    },
    {
     "name": "stderr",
     "output_type": "stream",
     "text": [
      " 67%|██████▋   | 1382/2065 [03:44<01:33,  7.28it/s]"
     ]
    },
    {
     "name": "stdout",
     "output_type": "stream",
     "text": [
      "1381\n",
      "1382\n"
     ]
    },
    {
     "name": "stderr",
     "output_type": "stream",
     "text": [
      " 67%|██████▋   | 1384/2065 [03:44<01:30,  7.50it/s]"
     ]
    },
    {
     "name": "stdout",
     "output_type": "stream",
     "text": [
      "1383\n",
      "1384\n"
     ]
    },
    {
     "name": "stderr",
     "output_type": "stream",
     "text": [
      "\r",
      " 67%|██████▋   | 1385/2065 [03:44<01:29,  7.62it/s]"
     ]
    },
    {
     "name": "stdout",
     "output_type": "stream",
     "text": [
      "1385\n",
      "1386\n"
     ]
    },
    {
     "name": "stderr",
     "output_type": "stream",
     "text": [
      " 67%|██████▋   | 1388/2065 [03:44<01:33,  7.20it/s]"
     ]
    },
    {
     "name": "stdout",
     "output_type": "stream",
     "text": [
      "1387\n",
      "1388\n"
     ]
    },
    {
     "name": "stderr",
     "output_type": "stream",
     "text": [
      " 67%|██████▋   | 1391/2065 [03:45<01:18,  8.58it/s]"
     ]
    },
    {
     "name": "stdout",
     "output_type": "stream",
     "text": [
      "1389\n",
      "1390\n",
      "1391\n"
     ]
    },
    {
     "name": "stderr",
     "output_type": "stream",
     "text": [
      " 67%|██████▋   | 1393/2065 [03:45<01:30,  7.45it/s]"
     ]
    },
    {
     "name": "stdout",
     "output_type": "stream",
     "text": [
      "1392\n",
      "1393\n"
     ]
    },
    {
     "name": "stderr",
     "output_type": "stream",
     "text": [
      " 68%|██████▊   | 1395/2065 [03:45<01:27,  7.63it/s]"
     ]
    },
    {
     "name": "stdout",
     "output_type": "stream",
     "text": [
      "1394\n",
      "1395\n"
     ]
    },
    {
     "name": "stderr",
     "output_type": "stream",
     "text": [
      " 68%|██████▊   | 1397/2065 [03:46<01:33,  7.12it/s]"
     ]
    },
    {
     "name": "stdout",
     "output_type": "stream",
     "text": [
      "1396\n",
      "1397\n"
     ]
    },
    {
     "name": "stderr",
     "output_type": "stream",
     "text": [
      " 68%|██████▊   | 1399/2065 [03:46<01:42,  6.48it/s]"
     ]
    },
    {
     "name": "stdout",
     "output_type": "stream",
     "text": [
      "1398\n",
      "1399\n"
     ]
    },
    {
     "name": "stderr",
     "output_type": "stream",
     "text": [
      " 68%|██████▊   | 1401/2065 [03:46<01:48,  6.13it/s]"
     ]
    },
    {
     "name": "stdout",
     "output_type": "stream",
     "text": [
      "1400\n",
      "1401\n"
     ]
    },
    {
     "name": "stderr",
     "output_type": "stream",
     "text": [
      " 68%|██████▊   | 1403/2065 [03:47<01:58,  5.57it/s]"
     ]
    },
    {
     "name": "stdout",
     "output_type": "stream",
     "text": [
      "1402\n",
      "1403\n"
     ]
    },
    {
     "name": "stderr",
     "output_type": "stream",
     "text": [
      " 68%|██████▊   | 1405/2065 [03:47<02:03,  5.35it/s]"
     ]
    },
    {
     "name": "stdout",
     "output_type": "stream",
     "text": [
      "1404\n",
      "1405\n"
     ]
    },
    {
     "name": "stderr",
     "output_type": "stream",
     "text": [
      " 68%|██████▊   | 1407/2065 [03:47<02:02,  5.38it/s]"
     ]
    },
    {
     "name": "stdout",
     "output_type": "stream",
     "text": [
      "1406\n",
      "1407\n"
     ]
    },
    {
     "name": "stderr",
     "output_type": "stream",
     "text": [
      "\r",
      " 68%|██████▊   | 1408/2065 [03:47<01:47,  6.14it/s]"
     ]
    },
    {
     "name": "stdout",
     "output_type": "stream",
     "text": [
      "1408\n"
     ]
    },
    {
     "name": "stderr",
     "output_type": "stream",
     "text": [
      "\r",
      " 68%|██████▊   | 1409/2065 [03:48<02:00,  5.46it/s]"
     ]
    },
    {
     "name": "stdout",
     "output_type": "stream",
     "text": [
      "1409\n"
     ]
    },
    {
     "name": "stderr",
     "output_type": "stream",
     "text": [
      "\r",
      " 68%|██████▊   | 1410/2065 [03:48<02:05,  5.23it/s]"
     ]
    },
    {
     "name": "stdout",
     "output_type": "stream",
     "text": [
      "1410\n"
     ]
    },
    {
     "name": "stderr",
     "output_type": "stream",
     "text": [
      " 68%|██████▊   | 1412/2065 [03:48<02:10,  5.00it/s]"
     ]
    },
    {
     "name": "stdout",
     "output_type": "stream",
     "text": [
      "1411\n",
      "1412\n"
     ]
    },
    {
     "name": "stderr",
     "output_type": "stream",
     "text": [
      " 68%|██████▊   | 1414/2065 [03:49<01:53,  5.72it/s]"
     ]
    },
    {
     "name": "stdout",
     "output_type": "stream",
     "text": [
      "1413\n",
      "1414\n"
     ]
    },
    {
     "name": "stderr",
     "output_type": "stream",
     "text": [
      " 69%|██████▊   | 1416/2065 [03:49<01:51,  5.84it/s]"
     ]
    },
    {
     "name": "stdout",
     "output_type": "stream",
     "text": [
      "1415\n",
      "1416\n"
     ]
    },
    {
     "name": "stderr",
     "output_type": "stream",
     "text": [
      " 69%|██████▊   | 1418/2065 [03:49<01:51,  5.83it/s]"
     ]
    },
    {
     "name": "stdout",
     "output_type": "stream",
     "text": [
      "1417\n",
      "1418\n"
     ]
    },
    {
     "name": "stderr",
     "output_type": "stream",
     "text": [
      "\r",
      " 69%|██████▊   | 1419/2065 [03:50<02:02,  5.27it/s]"
     ]
    },
    {
     "name": "stdout",
     "output_type": "stream",
     "text": [
      "1419\n"
     ]
    },
    {
     "name": "stderr",
     "output_type": "stream",
     "text": [
      "\r",
      " 69%|██████▉   | 1420/2065 [03:50<02:09,  4.99it/s]"
     ]
    },
    {
     "name": "stdout",
     "output_type": "stream",
     "text": [
      "1420\n"
     ]
    },
    {
     "name": "stderr",
     "output_type": "stream",
     "text": [
      "\r",
      " 69%|██████▉   | 1421/2065 [03:50<02:14,  4.79it/s]"
     ]
    },
    {
     "name": "stdout",
     "output_type": "stream",
     "text": [
      "1421\n"
     ]
    },
    {
     "name": "stderr",
     "output_type": "stream",
     "text": [
      " 69%|██████▉   | 1423/2065 [03:50<02:12,  4.83it/s]"
     ]
    },
    {
     "name": "stdout",
     "output_type": "stream",
     "text": [
      "1422\n"
     ]
    },
    {
     "name": "stderr",
     "output_type": "stream",
     "text": [
      "\r",
      " 69%|██████▉   | 1424/2065 [03:51<02:08,  4.99it/s]"
     ]
    },
    {
     "name": "stdout",
     "output_type": "stream",
     "text": [
      "1423\n",
      "1424\n"
     ]
    },
    {
     "name": "stderr",
     "output_type": "stream",
     "text": [
      " 69%|██████▉   | 1426/2065 [03:51<02:04,  5.14it/s]"
     ]
    },
    {
     "name": "stdout",
     "output_type": "stream",
     "text": [
      "1425\n",
      "1426\n"
     ]
    },
    {
     "name": "stderr",
     "output_type": "stream",
     "text": [
      " 69%|██████▉   | 1428/2065 [03:51<02:01,  5.24it/s]"
     ]
    },
    {
     "name": "stdout",
     "output_type": "stream",
     "text": [
      "1427\n",
      "1428\n"
     ]
    },
    {
     "name": "stderr",
     "output_type": "stream",
     "text": [
      " 69%|██████▉   | 1430/2065 [03:52<01:56,  5.45it/s]"
     ]
    },
    {
     "name": "stdout",
     "output_type": "stream",
     "text": [
      "1429\n",
      "1430\n"
     ]
    },
    {
     "name": "stderr",
     "output_type": "stream",
     "text": [
      " 69%|██████▉   | 1432/2065 [03:52<01:54,  5.55it/s]"
     ]
    },
    {
     "name": "stdout",
     "output_type": "stream",
     "text": [
      "1431\n",
      "1432\n"
     ]
    },
    {
     "name": "stderr",
     "output_type": "stream",
     "text": [
      " 69%|██████▉   | 1434/2065 [03:52<01:53,  5.56it/s]"
     ]
    },
    {
     "name": "stdout",
     "output_type": "stream",
     "text": [
      "1433\n",
      "1434\n"
     ]
    },
    {
     "name": "stderr",
     "output_type": "stream",
     "text": [
      " 70%|██████▉   | 1436/2065 [03:53<01:50,  5.69it/s]"
     ]
    },
    {
     "name": "stdout",
     "output_type": "stream",
     "text": [
      "1435\n",
      "1436\n"
     ]
    },
    {
     "name": "stderr",
     "output_type": "stream",
     "text": [
      " 70%|██████▉   | 1438/2065 [03:53<01:45,  5.95it/s]"
     ]
    },
    {
     "name": "stdout",
     "output_type": "stream",
     "text": [
      "1437\n",
      "1438\n"
     ]
    },
    {
     "name": "stderr",
     "output_type": "stream",
     "text": [
      " 70%|██████▉   | 1440/2065 [03:53<01:49,  5.73it/s]"
     ]
    },
    {
     "name": "stdout",
     "output_type": "stream",
     "text": [
      "1439\n",
      "1440\n"
     ]
    },
    {
     "name": "stderr",
     "output_type": "stream",
     "text": [
      " 70%|██████▉   | 1442/2065 [03:54<01:38,  6.30it/s]"
     ]
    },
    {
     "name": "stdout",
     "output_type": "stream",
     "text": [
      "1441\n",
      "1442\n"
     ]
    },
    {
     "name": "stderr",
     "output_type": "stream",
     "text": [
      " 70%|██████▉   | 1444/2065 [03:54<01:44,  5.97it/s]"
     ]
    },
    {
     "name": "stdout",
     "output_type": "stream",
     "text": [
      "1443\n",
      "1444\n"
     ]
    },
    {
     "name": "stderr",
     "output_type": "stream",
     "text": [
      " 70%|███████   | 1446/2065 [03:54<01:40,  6.15it/s]"
     ]
    },
    {
     "name": "stdout",
     "output_type": "stream",
     "text": [
      "1445\n",
      "1446\n",
      "1447\n"
     ]
    },
    {
     "name": "stderr",
     "output_type": "stream",
     "text": [
      "\r",
      " 70%|███████   | 1448/2065 [03:55<01:35,  6.49it/s]"
     ]
    },
    {
     "name": "stdout",
     "output_type": "stream",
     "text": [
      "1448\n",
      "1449\n"
     ]
    },
    {
     "name": "stderr",
     "output_type": "stream",
     "text": [
      " 70%|███████   | 1451/2065 [03:55<01:34,  6.49it/s]"
     ]
    },
    {
     "name": "stdout",
     "output_type": "stream",
     "text": [
      "1450\n",
      "1451\n"
     ]
    },
    {
     "name": "stderr",
     "output_type": "stream",
     "text": [
      " 70%|███████   | 1453/2065 [03:55<01:32,  6.61it/s]"
     ]
    },
    {
     "name": "stdout",
     "output_type": "stream",
     "text": [
      "1452\n",
      "1453\n"
     ]
    },
    {
     "name": "stderr",
     "output_type": "stream",
     "text": [
      " 70%|███████   | 1455/2065 [03:56<01:39,  6.12it/s]"
     ]
    },
    {
     "name": "stdout",
     "output_type": "stream",
     "text": [
      "1454\n",
      "1455\n"
     ]
    },
    {
     "name": "stderr",
     "output_type": "stream",
     "text": [
      " 71%|███████   | 1457/2065 [03:56<01:39,  6.10it/s]"
     ]
    },
    {
     "name": "stdout",
     "output_type": "stream",
     "text": [
      "1456\n",
      "1457\n"
     ]
    },
    {
     "name": "stderr",
     "output_type": "stream",
     "text": [
      " 71%|███████   | 1459/2065 [03:57<01:44,  5.82it/s]"
     ]
    },
    {
     "name": "stdout",
     "output_type": "stream",
     "text": [
      "1458\n",
      "1459\n"
     ]
    },
    {
     "name": "stderr",
     "output_type": "stream",
     "text": [
      " 71%|███████   | 1461/2065 [03:57<01:44,  5.81it/s]"
     ]
    },
    {
     "name": "stdout",
     "output_type": "stream",
     "text": [
      "1460\n",
      "1461\n"
     ]
    },
    {
     "name": "stderr",
     "output_type": "stream",
     "text": [
      " 71%|███████   | 1463/2065 [03:57<01:50,  5.42it/s]"
     ]
    },
    {
     "name": "stdout",
     "output_type": "stream",
     "text": [
      "1462\n",
      "1463\n"
     ]
    },
    {
     "name": "stderr",
     "output_type": "stream",
     "text": [
      " 71%|███████   | 1465/2065 [03:58<01:51,  5.38it/s]"
     ]
    },
    {
     "name": "stdout",
     "output_type": "stream",
     "text": [
      "1464\n",
      "1465\n"
     ]
    },
    {
     "name": "stderr",
     "output_type": "stream",
     "text": [
      " 71%|███████   | 1467/2065 [03:58<01:54,  5.23it/s]"
     ]
    },
    {
     "name": "stdout",
     "output_type": "stream",
     "text": [
      "1466\n"
     ]
    },
    {
     "name": "stderr",
     "output_type": "stream",
     "text": [
      "\r",
      " 71%|███████   | 1468/2065 [03:58<01:52,  5.30it/s]"
     ]
    },
    {
     "name": "stdout",
     "output_type": "stream",
     "text": [
      "1467\n",
      "1468\n"
     ]
    },
    {
     "name": "stderr",
     "output_type": "stream",
     "text": [
      " 71%|███████   | 1470/2065 [03:59<01:52,  5.31it/s]"
     ]
    },
    {
     "name": "stdout",
     "output_type": "stream",
     "text": [
      "1469\n",
      "1470\n"
     ]
    },
    {
     "name": "stderr",
     "output_type": "stream",
     "text": [
      " 71%|███████▏  | 1472/2065 [03:59<01:30,  6.56it/s]"
     ]
    },
    {
     "name": "stdout",
     "output_type": "stream",
     "text": [
      "1471\n",
      "1472\n"
     ]
    },
    {
     "name": "stderr",
     "output_type": "stream",
     "text": [
      " 71%|███████▏  | 1474/2065 [03:59<01:30,  6.52it/s]"
     ]
    },
    {
     "name": "stdout",
     "output_type": "stream",
     "text": [
      "1473\n",
      "1474\n"
     ]
    },
    {
     "name": "stderr",
     "output_type": "stream",
     "text": [
      " 71%|███████▏  | 1476/2065 [03:59<01:25,  6.92it/s]"
     ]
    },
    {
     "name": "stdout",
     "output_type": "stream",
     "text": [
      "1475\n",
      "1476\n"
     ]
    },
    {
     "name": "stderr",
     "output_type": "stream",
     "text": [
      " 72%|███████▏  | 1478/2065 [04:00<01:17,  7.62it/s]"
     ]
    },
    {
     "name": "stdout",
     "output_type": "stream",
     "text": [
      "1477\n",
      "1478\n"
     ]
    },
    {
     "name": "stderr",
     "output_type": "stream",
     "text": [
      " 72%|███████▏  | 1480/2065 [04:00<01:20,  7.28it/s]"
     ]
    },
    {
     "name": "stdout",
     "output_type": "stream",
     "text": [
      "1479\n",
      "1480\n"
     ]
    },
    {
     "name": "stderr",
     "output_type": "stream",
     "text": [
      " 72%|███████▏  | 1482/2065 [04:00<01:24,  6.86it/s]"
     ]
    },
    {
     "name": "stdout",
     "output_type": "stream",
     "text": [
      "1481\n",
      "1482\n"
     ]
    },
    {
     "name": "stderr",
     "output_type": "stream",
     "text": [
      " 72%|███████▏  | 1484/2065 [04:01<01:29,  6.53it/s]"
     ]
    },
    {
     "name": "stdout",
     "output_type": "stream",
     "text": [
      "1483\n",
      "1484\n"
     ]
    },
    {
     "name": "stderr",
     "output_type": "stream",
     "text": [
      "\r",
      " 72%|███████▏  | 1485/2065 [04:01<01:38,  5.89it/s]"
     ]
    },
    {
     "name": "stdout",
     "output_type": "stream",
     "text": [
      "1485\n"
     ]
    },
    {
     "name": "stderr",
     "output_type": "stream",
     "text": [
      " 72%|███████▏  | 1487/2065 [04:01<01:33,  6.21it/s]"
     ]
    },
    {
     "name": "stdout",
     "output_type": "stream",
     "text": [
      "1486\n",
      "1487\n"
     ]
    },
    {
     "name": "stderr",
     "output_type": "stream",
     "text": [
      " 72%|███████▏  | 1489/2065 [04:01<01:34,  6.08it/s]"
     ]
    },
    {
     "name": "stdout",
     "output_type": "stream",
     "text": [
      "1488\n",
      "1489\n"
     ]
    },
    {
     "name": "stderr",
     "output_type": "stream",
     "text": [
      " 72%|███████▏  | 1491/2065 [04:02<01:40,  5.72it/s]"
     ]
    },
    {
     "name": "stdout",
     "output_type": "stream",
     "text": [
      "1490\n",
      "1491\n"
     ]
    },
    {
     "name": "stderr",
     "output_type": "stream",
     "text": [
      " 72%|███████▏  | 1493/2065 [04:02<01:26,  6.60it/s]"
     ]
    },
    {
     "name": "stdout",
     "output_type": "stream",
     "text": [
      "1492\n",
      "1493\n"
     ]
    },
    {
     "name": "stderr",
     "output_type": "stream",
     "text": [
      " 72%|███████▏  | 1495/2065 [04:02<01:18,  7.26it/s]"
     ]
    },
    {
     "name": "stdout",
     "output_type": "stream",
     "text": [
      "1494\n",
      "1495\n"
     ]
    },
    {
     "name": "stderr",
     "output_type": "stream",
     "text": [
      "\r",
      " 72%|███████▏  | 1496/2065 [04:02<01:20,  7.06it/s]"
     ]
    },
    {
     "name": "stdout",
     "output_type": "stream",
     "text": [
      "1496\n"
     ]
    },
    {
     "name": "stderr",
     "output_type": "stream",
     "text": [
      "\r",
      " 72%|███████▏  | 1497/2065 [04:03<01:32,  6.15it/s]"
     ]
    },
    {
     "name": "stdout",
     "output_type": "stream",
     "text": [
      "1497\n"
     ]
    },
    {
     "name": "stderr",
     "output_type": "stream",
     "text": [
      " 73%|███████▎  | 1499/2065 [04:03<01:46,  5.31it/s]"
     ]
    },
    {
     "name": "stdout",
     "output_type": "stream",
     "text": [
      "1498\n",
      "1499\n"
     ]
    },
    {
     "name": "stderr",
     "output_type": "stream",
     "text": [
      " 73%|███████▎  | 1501/2065 [04:03<01:41,  5.55it/s]"
     ]
    },
    {
     "name": "stdout",
     "output_type": "stream",
     "text": [
      "1500\n",
      "1501\n"
     ]
    },
    {
     "name": "stderr",
     "output_type": "stream",
     "text": [
      " 73%|███████▎  | 1503/2065 [04:04<01:43,  5.42it/s]"
     ]
    },
    {
     "name": "stdout",
     "output_type": "stream",
     "text": [
      "1502\n",
      "1503\n"
     ]
    },
    {
     "name": "stderr",
     "output_type": "stream",
     "text": [
      " 73%|███████▎  | 1505/2065 [04:04<01:38,  5.71it/s]"
     ]
    },
    {
     "name": "stdout",
     "output_type": "stream",
     "text": [
      "1504\n",
      "1505\n"
     ]
    },
    {
     "name": "stderr",
     "output_type": "stream",
     "text": [
      " 73%|███████▎  | 1507/2065 [04:04<01:24,  6.57it/s]"
     ]
    },
    {
     "name": "stdout",
     "output_type": "stream",
     "text": [
      "1506\n",
      "1507\n"
     ]
    },
    {
     "name": "stderr",
     "output_type": "stream",
     "text": [
      " 73%|███████▎  | 1509/2065 [04:05<01:37,  5.69it/s]"
     ]
    },
    {
     "name": "stdout",
     "output_type": "stream",
     "text": [
      "1508\n",
      "1509\n"
     ]
    },
    {
     "name": "stderr",
     "output_type": "stream",
     "text": [
      " 73%|███████▎  | 1511/2065 [04:05<01:20,  6.86it/s]"
     ]
    },
    {
     "name": "stdout",
     "output_type": "stream",
     "text": [
      "1510\n",
      "1511\n"
     ]
    },
    {
     "name": "stderr",
     "output_type": "stream",
     "text": [
      " 73%|███████▎  | 1513/2065 [04:05<01:29,  6.18it/s]"
     ]
    },
    {
     "name": "stdout",
     "output_type": "stream",
     "text": [
      "1512\n",
      "1513\n"
     ]
    },
    {
     "name": "stderr",
     "output_type": "stream",
     "text": [
      " 73%|███████▎  | 1515/2065 [04:06<01:31,  6.00it/s]"
     ]
    },
    {
     "name": "stdout",
     "output_type": "stream",
     "text": [
      "1514\n",
      "1515\n"
     ]
    },
    {
     "name": "stderr",
     "output_type": "stream",
     "text": [
      " 73%|███████▎  | 1517/2065 [04:06<01:37,  5.62it/s]"
     ]
    },
    {
     "name": "stdout",
     "output_type": "stream",
     "text": [
      "1516\n",
      "1517\n"
     ]
    },
    {
     "name": "stderr",
     "output_type": "stream",
     "text": [
      " 74%|███████▎  | 1519/2065 [04:06<01:37,  5.58it/s]"
     ]
    },
    {
     "name": "stdout",
     "output_type": "stream",
     "text": [
      "1518\n",
      "1519\n"
     ]
    },
    {
     "name": "stderr",
     "output_type": "stream",
     "text": [
      " 74%|███████▎  | 1521/2065 [04:07<01:35,  5.71it/s]"
     ]
    },
    {
     "name": "stdout",
     "output_type": "stream",
     "text": [
      "1520\n",
      "1521\n"
     ]
    },
    {
     "name": "stderr",
     "output_type": "stream",
     "text": [
      " 74%|███████▍  | 1523/2065 [04:07<01:26,  6.23it/s]"
     ]
    },
    {
     "name": "stdout",
     "output_type": "stream",
     "text": [
      "1522\n",
      "1523\n"
     ]
    },
    {
     "name": "stderr",
     "output_type": "stream",
     "text": [
      "\r",
      " 74%|███████▍  | 1524/2065 [04:07<01:19,  6.76it/s]"
     ]
    },
    {
     "name": "stdout",
     "output_type": "stream",
     "text": [
      "1524\n",
      "1525\n"
     ]
    },
    {
     "name": "stderr",
     "output_type": "stream",
     "text": [
      " 74%|███████▍  | 1527/2065 [04:08<01:19,  6.73it/s]"
     ]
    },
    {
     "name": "stdout",
     "output_type": "stream",
     "text": [
      "1526\n",
      "1527\n"
     ]
    },
    {
     "name": "stderr",
     "output_type": "stream",
     "text": [
      " 74%|███████▍  | 1529/2065 [04:08<01:16,  6.99it/s]"
     ]
    },
    {
     "name": "stdout",
     "output_type": "stream",
     "text": [
      "1528\n",
      "1529\n"
     ]
    },
    {
     "name": "stderr",
     "output_type": "stream",
     "text": [
      " 74%|███████▍  | 1531/2065 [04:08<01:19,  6.75it/s]"
     ]
    },
    {
     "name": "stdout",
     "output_type": "stream",
     "text": [
      "1530\n",
      "1531\n"
     ]
    },
    {
     "name": "stderr",
     "output_type": "stream",
     "text": [
      " 74%|███████▍  | 1533/2065 [04:09<01:28,  5.98it/s]"
     ]
    },
    {
     "name": "stdout",
     "output_type": "stream",
     "text": [
      "1532\n",
      "1533\n"
     ]
    },
    {
     "name": "stderr",
     "output_type": "stream",
     "text": [
      " 74%|███████▍  | 1535/2065 [04:09<01:26,  6.14it/s]"
     ]
    },
    {
     "name": "stdout",
     "output_type": "stream",
     "text": [
      "1534\n",
      "1535\n"
     ]
    },
    {
     "name": "stderr",
     "output_type": "stream",
     "text": [
      " 74%|███████▍  | 1537/2065 [04:09<01:30,  5.82it/s]"
     ]
    },
    {
     "name": "stdout",
     "output_type": "stream",
     "text": [
      "1536\n",
      "1537\n"
     ]
    },
    {
     "name": "stderr",
     "output_type": "stream",
     "text": [
      " 75%|███████▍  | 1539/2065 [04:10<01:24,  6.25it/s]"
     ]
    },
    {
     "name": "stdout",
     "output_type": "stream",
     "text": [
      "1538\n",
      "1539\n"
     ]
    },
    {
     "name": "stderr",
     "output_type": "stream",
     "text": [
      " 75%|███████▍  | 1541/2065 [04:10<01:30,  5.79it/s]"
     ]
    },
    {
     "name": "stdout",
     "output_type": "stream",
     "text": [
      "1540\n",
      "1541\n"
     ]
    },
    {
     "name": "stderr",
     "output_type": "stream",
     "text": [
      " 75%|███████▍  | 1543/2065 [04:10<01:28,  5.91it/s]"
     ]
    },
    {
     "name": "stdout",
     "output_type": "stream",
     "text": [
      "1542\n",
      "1543\n"
     ]
    },
    {
     "name": "stderr",
     "output_type": "stream",
     "text": [
      " 75%|███████▍  | 1545/2065 [04:11<01:32,  5.64it/s]"
     ]
    },
    {
     "name": "stdout",
     "output_type": "stream",
     "text": [
      "1544\n",
      "1545\n"
     ]
    },
    {
     "name": "stderr",
     "output_type": "stream",
     "text": [
      " 75%|███████▍  | 1547/2065 [04:11<01:28,  5.84it/s]"
     ]
    },
    {
     "name": "stdout",
     "output_type": "stream",
     "text": [
      "1546\n",
      "1547\n"
     ]
    },
    {
     "name": "stderr",
     "output_type": "stream",
     "text": [
      " 75%|███████▌  | 1549/2065 [04:11<01:28,  5.81it/s]"
     ]
    },
    {
     "name": "stdout",
     "output_type": "stream",
     "text": [
      "1548\n",
      "1549\n"
     ]
    },
    {
     "name": "stderr",
     "output_type": "stream",
     "text": [
      " 75%|███████▌  | 1551/2065 [04:12<01:27,  5.87it/s]"
     ]
    },
    {
     "name": "stdout",
     "output_type": "stream",
     "text": [
      "1550\n",
      "1551\n"
     ]
    },
    {
     "name": "stderr",
     "output_type": "stream",
     "text": [
      "\r",
      " 75%|███████▌  | 1552/2065 [04:12<01:27,  5.83it/s]"
     ]
    },
    {
     "name": "stdout",
     "output_type": "stream",
     "text": [
      "1552\n"
     ]
    },
    {
     "name": "stderr",
     "output_type": "stream",
     "text": [
      " 75%|███████▌  | 1554/2065 [04:12<01:35,  5.37it/s]"
     ]
    },
    {
     "name": "stdout",
     "output_type": "stream",
     "text": [
      "1553\n",
      "1554\n"
     ]
    },
    {
     "name": "stderr",
     "output_type": "stream",
     "text": [
      "\r",
      " 75%|███████▌  | 1556/2065 [04:13<01:21,  6.26it/s]"
     ]
    },
    {
     "name": "stdout",
     "output_type": "stream",
     "text": [
      "1555\n",
      "1556\n"
     ]
    },
    {
     "name": "stderr",
     "output_type": "stream",
     "text": [
      " 75%|███████▌  | 1558/2065 [04:13<01:21,  6.26it/s]"
     ]
    },
    {
     "name": "stdout",
     "output_type": "stream",
     "text": [
      "1557\n",
      "1558\n"
     ]
    },
    {
     "name": "stderr",
     "output_type": "stream",
     "text": [
      "\r",
      " 75%|███████▌  | 1559/2065 [04:13<01:25,  5.91it/s]"
     ]
    },
    {
     "name": "stdout",
     "output_type": "stream",
     "text": [
      "1559\n",
      "1560\n"
     ]
    },
    {
     "name": "stderr",
     "output_type": "stream",
     "text": [
      "\r",
      " 76%|███████▌  | 1561/2065 [04:13<01:12,  6.99it/s]"
     ]
    },
    {
     "name": "stdout",
     "output_type": "stream",
     "text": [
      "1561\n",
      "1562\n"
     ]
    },
    {
     "name": "stderr",
     "output_type": "stream",
     "text": [
      "\r",
      " 76%|███████▌  | 1563/2065 [04:14<01:10,  7.14it/s]"
     ]
    },
    {
     "name": "stdout",
     "output_type": "stream",
     "text": [
      "1563\n"
     ]
    },
    {
     "name": "stderr",
     "output_type": "stream",
     "text": [
      "\r",
      " 76%|███████▌  | 1564/2065 [04:14<01:21,  6.14it/s]"
     ]
    },
    {
     "name": "stdout",
     "output_type": "stream",
     "text": [
      "1564\n"
     ]
    },
    {
     "name": "stderr",
     "output_type": "stream",
     "text": [
      "\r",
      " 76%|███████▌  | 1565/2065 [04:14<01:28,  5.67it/s]"
     ]
    },
    {
     "name": "stdout",
     "output_type": "stream",
     "text": [
      "1565\n"
     ]
    },
    {
     "name": "stderr",
     "output_type": "stream",
     "text": [
      "\r",
      " 76%|███████▌  | 1566/2065 [04:14<01:36,  5.15it/s]"
     ]
    },
    {
     "name": "stdout",
     "output_type": "stream",
     "text": [
      "1566\n"
     ]
    },
    {
     "name": "stderr",
     "output_type": "stream",
     "text": [
      "\r",
      " 76%|███████▌  | 1567/2065 [04:14<01:39,  4.98it/s]"
     ]
    },
    {
     "name": "stdout",
     "output_type": "stream",
     "text": [
      "1567\n",
      "1568\n"
     ]
    },
    {
     "name": "stderr",
     "output_type": "stream",
     "text": [
      "\r",
      " 76%|███████▌  | 1569/2065 [04:15<01:22,  6.03it/s]"
     ]
    },
    {
     "name": "stdout",
     "output_type": "stream",
     "text": [
      "1569\n"
     ]
    },
    {
     "name": "stderr",
     "output_type": "stream",
     "text": [
      " 76%|███████▌  | 1571/2065 [04:15<01:20,  6.15it/s]"
     ]
    },
    {
     "name": "stdout",
     "output_type": "stream",
     "text": [
      "1570\n",
      "1571\n"
     ]
    },
    {
     "name": "stderr",
     "output_type": "stream",
     "text": [
      "\r",
      " 76%|███████▌  | 1572/2065 [04:15<01:18,  6.27it/s]"
     ]
    },
    {
     "name": "stdout",
     "output_type": "stream",
     "text": [
      "1572\n"
     ]
    },
    {
     "name": "stderr",
     "output_type": "stream",
     "text": [
      " 76%|███████▋  | 1575/2065 [04:16<01:09,  7.01it/s]"
     ]
    },
    {
     "name": "stdout",
     "output_type": "stream",
     "text": [
      "1573\n",
      "1574\n",
      "1575\n"
     ]
    },
    {
     "name": "stderr",
     "output_type": "stream",
     "text": [
      " 76%|███████▋  | 1577/2065 [04:16<01:18,  6.19it/s]"
     ]
    },
    {
     "name": "stdout",
     "output_type": "stream",
     "text": [
      "1576\n",
      "1577\n"
     ]
    },
    {
     "name": "stderr",
     "output_type": "stream",
     "text": [
      "\r",
      " 76%|███████▋  | 1578/2065 [04:16<01:18,  6.20it/s]"
     ]
    },
    {
     "name": "stdout",
     "output_type": "stream",
     "text": [
      "1578\n"
     ]
    },
    {
     "name": "stderr",
     "output_type": "stream",
     "text": [
      " 77%|███████▋  | 1580/2065 [04:17<01:22,  5.85it/s]"
     ]
    },
    {
     "name": "stdout",
     "output_type": "stream",
     "text": [
      "1579\n",
      "1580\n"
     ]
    },
    {
     "name": "stderr",
     "output_type": "stream",
     "text": [
      " 77%|███████▋  | 1582/2065 [04:17<01:22,  5.88it/s]"
     ]
    },
    {
     "name": "stdout",
     "output_type": "stream",
     "text": [
      "1581\n",
      "1582\n"
     ]
    },
    {
     "name": "stderr",
     "output_type": "stream",
     "text": [
      " 77%|███████▋  | 1584/2065 [04:17<01:15,  6.37it/s]"
     ]
    },
    {
     "name": "stdout",
     "output_type": "stream",
     "text": [
      "1583\n",
      "1584\n"
     ]
    },
    {
     "name": "stderr",
     "output_type": "stream",
     "text": [
      " 77%|███████▋  | 1586/2065 [04:17<01:05,  7.36it/s]"
     ]
    },
    {
     "name": "stdout",
     "output_type": "stream",
     "text": [
      "1585\n",
      "1586\n"
     ]
    },
    {
     "name": "stderr",
     "output_type": "stream",
     "text": [
      " 77%|███████▋  | 1588/2065 [04:18<01:03,  7.46it/s]"
     ]
    },
    {
     "name": "stdout",
     "output_type": "stream",
     "text": [
      "1587\n",
      "1588\n"
     ]
    },
    {
     "name": "stderr",
     "output_type": "stream",
     "text": [
      "\r",
      " 77%|███████▋  | 1589/2065 [04:18<01:11,  6.70it/s]"
     ]
    },
    {
     "name": "stdout",
     "output_type": "stream",
     "text": [
      "1589\n",
      "1590\n"
     ]
    },
    {
     "name": "stderr",
     "output_type": "stream",
     "text": [
      " 77%|███████▋  | 1592/2065 [04:18<01:13,  6.45it/s]"
     ]
    },
    {
     "name": "stdout",
     "output_type": "stream",
     "text": [
      "1591\n"
     ]
    },
    {
     "name": "stderr",
     "output_type": "stream",
     "text": [
      " 77%|███████▋  | 1594/2065 [04:19<01:20,  5.88it/s]"
     ]
    },
    {
     "name": "stdout",
     "output_type": "stream",
     "text": [
      "1592\n",
      "1593\n",
      "1594\n"
     ]
    },
    {
     "name": "stderr",
     "output_type": "stream",
     "text": [
      " 77%|███████▋  | 1596/2065 [04:19<01:20,  5.79it/s]"
     ]
    },
    {
     "name": "stdout",
     "output_type": "stream",
     "text": [
      "1595\n",
      "1596\n"
     ]
    },
    {
     "name": "stderr",
     "output_type": "stream",
     "text": [
      " 77%|███████▋  | 1598/2065 [04:19<01:06,  7.07it/s]"
     ]
    },
    {
     "name": "stdout",
     "output_type": "stream",
     "text": [
      "1597\n",
      "1598\n"
     ]
    },
    {
     "name": "stderr",
     "output_type": "stream",
     "text": [
      " 77%|███████▋  | 1600/2065 [04:20<01:13,  6.36it/s]"
     ]
    },
    {
     "name": "stdout",
     "output_type": "stream",
     "text": [
      "1599\n",
      "1600\n"
     ]
    },
    {
     "name": "stderr",
     "output_type": "stream",
     "text": [
      " 78%|███████▊  | 1602/2065 [04:20<01:14,  6.17it/s]"
     ]
    },
    {
     "name": "stdout",
     "output_type": "stream",
     "text": [
      "1601\n",
      "1602\n"
     ]
    },
    {
     "name": "stderr",
     "output_type": "stream",
     "text": [
      " 78%|███████▊  | 1604/2065 [04:20<01:17,  5.96it/s]"
     ]
    },
    {
     "name": "stdout",
     "output_type": "stream",
     "text": [
      "1603\n",
      "1604\n"
     ]
    },
    {
     "name": "stderr",
     "output_type": "stream",
     "text": [
      " 78%|███████▊  | 1606/2065 [04:21<01:14,  6.19it/s]"
     ]
    },
    {
     "name": "stdout",
     "output_type": "stream",
     "text": [
      "1605\n",
      "1606\n"
     ]
    },
    {
     "name": "stderr",
     "output_type": "stream",
     "text": [
      " 78%|███████▊  | 1608/2065 [04:21<01:18,  5.83it/s]"
     ]
    },
    {
     "name": "stdout",
     "output_type": "stream",
     "text": [
      "1607\n",
      "1608\n"
     ]
    },
    {
     "name": "stderr",
     "output_type": "stream",
     "text": [
      " 78%|███████▊  | 1610/2065 [04:21<01:08,  6.66it/s]"
     ]
    },
    {
     "name": "stdout",
     "output_type": "stream",
     "text": [
      "1609\n",
      "1610\n"
     ]
    },
    {
     "name": "stderr",
     "output_type": "stream",
     "text": [
      " 78%|███████▊  | 1612/2065 [04:22<01:15,  5.99it/s]"
     ]
    },
    {
     "name": "stdout",
     "output_type": "stream",
     "text": [
      "1611\n",
      "1612\n"
     ]
    },
    {
     "name": "stderr",
     "output_type": "stream",
     "text": [
      " 78%|███████▊  | 1614/2065 [04:22<01:14,  6.02it/s]"
     ]
    },
    {
     "name": "stdout",
     "output_type": "stream",
     "text": [
      "1613\n",
      "1614\n"
     ]
    },
    {
     "name": "stderr",
     "output_type": "stream",
     "text": [
      " 78%|███████▊  | 1616/2065 [04:22<01:07,  6.61it/s]"
     ]
    },
    {
     "name": "stdout",
     "output_type": "stream",
     "text": [
      "1615\n",
      "1616\n"
     ]
    },
    {
     "name": "stderr",
     "output_type": "stream",
     "text": [
      " 78%|███████▊  | 1618/2065 [04:23<01:09,  6.47it/s]"
     ]
    },
    {
     "name": "stdout",
     "output_type": "stream",
     "text": [
      "1617\n",
      "1618\n"
     ]
    },
    {
     "name": "stderr",
     "output_type": "stream",
     "text": [
      " 78%|███████▊  | 1620/2065 [04:23<01:12,  6.12it/s]"
     ]
    },
    {
     "name": "stdout",
     "output_type": "stream",
     "text": [
      "1619\n",
      "1620\n"
     ]
    },
    {
     "name": "stderr",
     "output_type": "stream",
     "text": [
      " 79%|███████▊  | 1622/2065 [04:23<01:15,  5.90it/s]"
     ]
    },
    {
     "name": "stdout",
     "output_type": "stream",
     "text": [
      "1621\n",
      "1622\n"
     ]
    },
    {
     "name": "stderr",
     "output_type": "stream",
     "text": [
      " 79%|███████▊  | 1624/2065 [04:24<01:12,  6.10it/s]"
     ]
    },
    {
     "name": "stdout",
     "output_type": "stream",
     "text": [
      "1623\n",
      "1624\n"
     ]
    },
    {
     "name": "stderr",
     "output_type": "stream",
     "text": [
      " 79%|███████▊  | 1626/2065 [04:24<01:09,  6.35it/s]"
     ]
    },
    {
     "name": "stdout",
     "output_type": "stream",
     "text": [
      "1625\n",
      "1626\n"
     ]
    },
    {
     "name": "stderr",
     "output_type": "stream",
     "text": [
      " 79%|███████▉  | 1628/2065 [04:24<01:13,  5.94it/s]"
     ]
    },
    {
     "name": "stdout",
     "output_type": "stream",
     "text": [
      "1627\n",
      "1628\n"
     ]
    },
    {
     "name": "stderr",
     "output_type": "stream",
     "text": [
      " 79%|███████▉  | 1630/2065 [04:24<01:08,  6.37it/s]"
     ]
    },
    {
     "name": "stdout",
     "output_type": "stream",
     "text": [
      "1629\n",
      "1630\n"
     ]
    },
    {
     "name": "stderr",
     "output_type": "stream",
     "text": [
      " 79%|███████▉  | 1632/2065 [04:25<01:04,  6.67it/s]"
     ]
    },
    {
     "name": "stdout",
     "output_type": "stream",
     "text": [
      "1631\n",
      "1632\n"
     ]
    },
    {
     "name": "stderr",
     "output_type": "stream",
     "text": [
      " 79%|███████▉  | 1634/2065 [04:25<00:55,  7.77it/s]"
     ]
    },
    {
     "name": "stdout",
     "output_type": "stream",
     "text": [
      "1633\n",
      "1634\n"
     ]
    },
    {
     "name": "stderr",
     "output_type": "stream",
     "text": [
      "\r",
      " 79%|███████▉  | 1635/2065 [04:25<00:55,  7.80it/s]"
     ]
    },
    {
     "name": "stdout",
     "output_type": "stream",
     "text": [
      "1635\n",
      "1636\n"
     ]
    },
    {
     "name": "stderr",
     "output_type": "stream",
     "text": [
      " 79%|███████▉  | 1638/2065 [04:26<01:00,  7.02it/s]"
     ]
    },
    {
     "name": "stdout",
     "output_type": "stream",
     "text": [
      "1637\n",
      "1638\n"
     ]
    },
    {
     "name": "stderr",
     "output_type": "stream",
     "text": [
      " 79%|███████▉  | 1640/2065 [04:26<01:06,  6.35it/s]"
     ]
    },
    {
     "name": "stdout",
     "output_type": "stream",
     "text": [
      "1639\n",
      "1640\n"
     ]
    },
    {
     "name": "stderr",
     "output_type": "stream",
     "text": [
      " 80%|███████▉  | 1642/2065 [04:26<01:11,  5.92it/s]"
     ]
    },
    {
     "name": "stdout",
     "output_type": "stream",
     "text": [
      "1641\n",
      "1642\n"
     ]
    },
    {
     "name": "stderr",
     "output_type": "stream",
     "text": [
      " 80%|███████▉  | 1644/2065 [04:27<01:07,  6.26it/s]"
     ]
    },
    {
     "name": "stdout",
     "output_type": "stream",
     "text": [
      "1643\n",
      "1644\n"
     ]
    },
    {
     "name": "stderr",
     "output_type": "stream",
     "text": [
      "\r",
      " 80%|███████▉  | 1645/2065 [04:27<01:11,  5.88it/s]"
     ]
    },
    {
     "name": "stdout",
     "output_type": "stream",
     "text": [
      "1645\n"
     ]
    },
    {
     "name": "stderr",
     "output_type": "stream",
     "text": [
      " 80%|███████▉  | 1647/2065 [04:27<01:11,  5.88it/s]"
     ]
    },
    {
     "name": "stdout",
     "output_type": "stream",
     "text": [
      "1646\n",
      "1647\n"
     ]
    },
    {
     "name": "stderr",
     "output_type": "stream",
     "text": [
      " 80%|███████▉  | 1649/2065 [04:27<01:07,  6.20it/s]"
     ]
    },
    {
     "name": "stdout",
     "output_type": "stream",
     "text": [
      "1648\n",
      "1649\n"
     ]
    },
    {
     "name": "stderr",
     "output_type": "stream",
     "text": [
      "\r",
      " 80%|███████▉  | 1650/2065 [04:28<01:14,  5.58it/s]"
     ]
    },
    {
     "name": "stdout",
     "output_type": "stream",
     "text": [
      "1650\n"
     ]
    },
    {
     "name": "stderr",
     "output_type": "stream",
     "text": [
      " 80%|████████  | 1652/2065 [04:28<01:20,  5.14it/s]"
     ]
    },
    {
     "name": "stdout",
     "output_type": "stream",
     "text": [
      "1651\n",
      "1652\n"
     ]
    },
    {
     "name": "stderr",
     "output_type": "stream",
     "text": [
      " 80%|████████  | 1654/2065 [04:28<01:20,  5.08it/s]"
     ]
    },
    {
     "name": "stdout",
     "output_type": "stream",
     "text": [
      "1653\n",
      "1654\n"
     ]
    },
    {
     "name": "stderr",
     "output_type": "stream",
     "text": [
      "\r",
      " 80%|████████  | 1655/2065 [04:29<01:25,  4.79it/s]"
     ]
    },
    {
     "name": "stdout",
     "output_type": "stream",
     "text": [
      "1655\n"
     ]
    },
    {
     "name": "stderr",
     "output_type": "stream",
     "text": [
      "\r",
      " 80%|████████  | 1656/2065 [04:29<01:27,  4.68it/s]"
     ]
    },
    {
     "name": "stdout",
     "output_type": "stream",
     "text": [
      "1656\n"
     ]
    },
    {
     "name": "stderr",
     "output_type": "stream",
     "text": [
      "\r",
      " 80%|████████  | 1657/2065 [04:29<01:31,  4.47it/s]"
     ]
    },
    {
     "name": "stdout",
     "output_type": "stream",
     "text": [
      "1657\n"
     ]
    },
    {
     "name": "stderr",
     "output_type": "stream",
     "text": [
      "\r",
      " 80%|████████  | 1658/2065 [04:29<01:30,  4.48it/s]"
     ]
    },
    {
     "name": "stdout",
     "output_type": "stream",
     "text": [
      "1658\n"
     ]
    },
    {
     "name": "stderr",
     "output_type": "stream",
     "text": [
      " 80%|████████  | 1660/2065 [04:30<01:21,  4.96it/s]"
     ]
    },
    {
     "name": "stdout",
     "output_type": "stream",
     "text": [
      "1659\n",
      "1660\n"
     ]
    },
    {
     "name": "stderr",
     "output_type": "stream",
     "text": [
      " 80%|████████  | 1662/2065 [04:30<01:13,  5.50it/s]"
     ]
    },
    {
     "name": "stdout",
     "output_type": "stream",
     "text": [
      "1661\n",
      "1662\n"
     ]
    },
    {
     "name": "stderr",
     "output_type": "stream",
     "text": [
      " 81%|████████  | 1664/2065 [04:30<01:12,  5.51it/s]"
     ]
    },
    {
     "name": "stdout",
     "output_type": "stream",
     "text": [
      "1663\n",
      "1664\n"
     ]
    },
    {
     "name": "stderr",
     "output_type": "stream",
     "text": [
      " 81%|████████  | 1666/2065 [04:31<00:58,  6.84it/s]"
     ]
    },
    {
     "name": "stdout",
     "output_type": "stream",
     "text": [
      "1665\n",
      "1666\n"
     ]
    },
    {
     "name": "stderr",
     "output_type": "stream",
     "text": [
      " 81%|████████  | 1668/2065 [04:31<01:03,  6.20it/s]"
     ]
    },
    {
     "name": "stdout",
     "output_type": "stream",
     "text": [
      "1667\n",
      "1668\n"
     ]
    },
    {
     "name": "stderr",
     "output_type": "stream",
     "text": [
      " 81%|████████  | 1670/2065 [04:31<01:06,  5.96it/s]"
     ]
    },
    {
     "name": "stdout",
     "output_type": "stream",
     "text": [
      "1669\n",
      "1670\n"
     ]
    },
    {
     "name": "stderr",
     "output_type": "stream",
     "text": [
      " 81%|████████  | 1672/2065 [04:32<01:01,  6.39it/s]"
     ]
    },
    {
     "name": "stdout",
     "output_type": "stream",
     "text": [
      "1671\n",
      "1672\n"
     ]
    },
    {
     "name": "stderr",
     "output_type": "stream",
     "text": [
      " 81%|████████  | 1674/2065 [04:32<01:05,  6.00it/s]"
     ]
    },
    {
     "name": "stdout",
     "output_type": "stream",
     "text": [
      "1673\n",
      "1674\n"
     ]
    },
    {
     "name": "stderr",
     "output_type": "stream",
     "text": [
      " 81%|████████  | 1676/2065 [04:32<00:55,  7.06it/s]"
     ]
    },
    {
     "name": "stdout",
     "output_type": "stream",
     "text": [
      "1675\n",
      "1676\n"
     ]
    },
    {
     "name": "stderr",
     "output_type": "stream",
     "text": [
      " 81%|████████▏ | 1678/2065 [04:33<00:54,  7.12it/s]"
     ]
    },
    {
     "name": "stdout",
     "output_type": "stream",
     "text": [
      "1677\n",
      "1678\n"
     ]
    },
    {
     "name": "stderr",
     "output_type": "stream",
     "text": [
      " 81%|████████▏ | 1680/2065 [04:33<00:58,  6.62it/s]"
     ]
    },
    {
     "name": "stdout",
     "output_type": "stream",
     "text": [
      "1679\n",
      "1680\n"
     ]
    },
    {
     "name": "stderr",
     "output_type": "stream",
     "text": [
      " 81%|████████▏ | 1682/2065 [04:33<01:01,  6.23it/s]"
     ]
    },
    {
     "name": "stdout",
     "output_type": "stream",
     "text": [
      "1681\n",
      "1682\n"
     ]
    },
    {
     "name": "stderr",
     "output_type": "stream",
     "text": [
      " 82%|████████▏ | 1684/2065 [04:34<00:58,  6.53it/s]"
     ]
    },
    {
     "name": "stdout",
     "output_type": "stream",
     "text": [
      "1683\n",
      "1684\n"
     ]
    },
    {
     "name": "stderr",
     "output_type": "stream",
     "text": [
      " 82%|████████▏ | 1686/2065 [04:34<01:03,  5.98it/s]"
     ]
    },
    {
     "name": "stdout",
     "output_type": "stream",
     "text": [
      "1685\n",
      "1686\n"
     ]
    },
    {
     "name": "stderr",
     "output_type": "stream",
     "text": [
      "\r",
      " 82%|████████▏ | 1687/2065 [04:34<00:58,  6.45it/s]"
     ]
    },
    {
     "name": "stdout",
     "output_type": "stream",
     "text": [
      "1687\n",
      "1688\n"
     ]
    },
    {
     "name": "stderr",
     "output_type": "stream",
     "text": [
      " 82%|████████▏ | 1690/2065 [04:34<00:55,  6.75it/s]"
     ]
    },
    {
     "name": "stdout",
     "output_type": "stream",
     "text": [
      "1689\n",
      "1690\n"
     ]
    },
    {
     "name": "stderr",
     "output_type": "stream",
     "text": [
      " 82%|████████▏ | 1692/2065 [04:35<00:54,  6.87it/s]"
     ]
    },
    {
     "name": "stdout",
     "output_type": "stream",
     "text": [
      "1691\n",
      "1692\n"
     ]
    },
    {
     "name": "stderr",
     "output_type": "stream",
     "text": [
      " 82%|████████▏ | 1694/2065 [04:35<00:55,  6.72it/s]"
     ]
    },
    {
     "name": "stdout",
     "output_type": "stream",
     "text": [
      "1693\n",
      "1694\n"
     ]
    },
    {
     "name": "stderr",
     "output_type": "stream",
     "text": [
      " 82%|████████▏ | 1696/2065 [04:35<00:54,  6.74it/s]"
     ]
    },
    {
     "name": "stdout",
     "output_type": "stream",
     "text": [
      "1695\n",
      "1696\n"
     ]
    },
    {
     "name": "stderr",
     "output_type": "stream",
     "text": [
      " 82%|████████▏ | 1698/2065 [04:36<00:55,  6.58it/s]"
     ]
    },
    {
     "name": "stdout",
     "output_type": "stream",
     "text": [
      "1697\n",
      "1698\n"
     ]
    },
    {
     "name": "stderr",
     "output_type": "stream",
     "text": [
      " 82%|████████▏ | 1700/2065 [04:36<00:58,  6.28it/s]"
     ]
    },
    {
     "name": "stdout",
     "output_type": "stream",
     "text": [
      "1699\n",
      "1700\n"
     ]
    },
    {
     "name": "stderr",
     "output_type": "stream",
     "text": [
      " 82%|████████▏ | 1702/2065 [04:36<00:54,  6.63it/s]"
     ]
    },
    {
     "name": "stdout",
     "output_type": "stream",
     "text": [
      "1701\n",
      "1702\n"
     ]
    },
    {
     "name": "stderr",
     "output_type": "stream",
     "text": [
      " 83%|████████▎ | 1704/2065 [04:37<00:55,  6.49it/s]"
     ]
    },
    {
     "name": "stdout",
     "output_type": "stream",
     "text": [
      "1703\n",
      "1704\n"
     ]
    },
    {
     "name": "stderr",
     "output_type": "stream",
     "text": [
      " 83%|████████▎ | 1706/2065 [04:37<00:52,  6.89it/s]"
     ]
    },
    {
     "name": "stdout",
     "output_type": "stream",
     "text": [
      "1705\n",
      "1706\n"
     ]
    },
    {
     "name": "stderr",
     "output_type": "stream",
     "text": [
      " 83%|████████▎ | 1709/2065 [04:37<00:42,  8.40it/s]"
     ]
    },
    {
     "name": "stdout",
     "output_type": "stream",
     "text": [
      "1707\n",
      "1708\n",
      "1709\n"
     ]
    },
    {
     "name": "stderr",
     "output_type": "stream",
     "text": [
      "\r",
      " 83%|████████▎ | 1710/2065 [04:37<00:45,  7.80it/s]"
     ]
    },
    {
     "name": "stdout",
     "output_type": "stream",
     "text": [
      "1710\n",
      "1711\n"
     ]
    },
    {
     "name": "stderr",
     "output_type": "stream",
     "text": [
      " 83%|████████▎ | 1713/2065 [04:38<00:48,  7.33it/s]"
     ]
    },
    {
     "name": "stdout",
     "output_type": "stream",
     "text": [
      "1712\n",
      "1713\n"
     ]
    },
    {
     "name": "stderr",
     "output_type": "stream",
     "text": [
      "\r",
      " 83%|████████▎ | 1714/2065 [04:38<00:44,  7.84it/s]"
     ]
    },
    {
     "name": "stdout",
     "output_type": "stream",
     "text": [
      "1714\n",
      "1715\n"
     ]
    },
    {
     "name": "stderr",
     "output_type": "stream",
     "text": [
      " 83%|████████▎ | 1717/2065 [04:38<00:49,  6.97it/s]"
     ]
    },
    {
     "name": "stdout",
     "output_type": "stream",
     "text": [
      "1716\n",
      "1717\n"
     ]
    },
    {
     "name": "stderr",
     "output_type": "stream",
     "text": [
      " 83%|████████▎ | 1720/2065 [04:39<00:44,  7.69it/s]"
     ]
    },
    {
     "name": "stdout",
     "output_type": "stream",
     "text": [
      "1718\n",
      "1719\n",
      "1720\n"
     ]
    },
    {
     "name": "stderr",
     "output_type": "stream",
     "text": [
      " 83%|████████▎ | 1722/2065 [04:39<00:50,  6.76it/s]"
     ]
    },
    {
     "name": "stdout",
     "output_type": "stream",
     "text": [
      "1721\n",
      "1722\n"
     ]
    },
    {
     "name": "stderr",
     "output_type": "stream",
     "text": [
      "\r",
      " 83%|████████▎ | 1723/2065 [04:39<00:53,  6.35it/s]"
     ]
    },
    {
     "name": "stdout",
     "output_type": "stream",
     "text": [
      "1723\n",
      "1724\n"
     ]
    },
    {
     "name": "stderr",
     "output_type": "stream",
     "text": [
      " 84%|████████▎ | 1726/2065 [04:40<00:52,  6.50it/s]"
     ]
    },
    {
     "name": "stdout",
     "output_type": "stream",
     "text": [
      "1725\n",
      "1726\n"
     ]
    },
    {
     "name": "stderr",
     "output_type": "stream",
     "text": [
      " 84%|████████▎ | 1728/2065 [04:40<00:50,  6.73it/s]"
     ]
    },
    {
     "name": "stdout",
     "output_type": "stream",
     "text": [
      "1727\n",
      "1728\n"
     ]
    },
    {
     "name": "stderr",
     "output_type": "stream",
     "text": [
      " 84%|████████▍ | 1730/2065 [04:40<00:54,  6.15it/s]"
     ]
    },
    {
     "name": "stdout",
     "output_type": "stream",
     "text": [
      "1729\n",
      "1730\n"
     ]
    },
    {
     "name": "stderr",
     "output_type": "stream",
     "text": [
      "\r",
      " 84%|████████▍ | 1731/2065 [04:40<00:54,  6.10it/s]"
     ]
    },
    {
     "name": "stdout",
     "output_type": "stream",
     "text": [
      "1731\n"
     ]
    },
    {
     "name": "stderr",
     "output_type": "stream",
     "text": [
      " 84%|████████▍ | 1733/2065 [04:41<00:56,  5.89it/s]"
     ]
    },
    {
     "name": "stdout",
     "output_type": "stream",
     "text": [
      "1732\n",
      "1733\n"
     ]
    },
    {
     "name": "stderr",
     "output_type": "stream",
     "text": [
      "\r",
      " 84%|████████▍ | 1734/2065 [04:41<00:51,  6.43it/s]"
     ]
    },
    {
     "name": "stdout",
     "output_type": "stream",
     "text": [
      "1734\n"
     ]
    },
    {
     "name": "stderr",
     "output_type": "stream",
     "text": [
      " 84%|████████▍ | 1736/2065 [04:41<00:55,  5.92it/s]"
     ]
    },
    {
     "name": "stdout",
     "output_type": "stream",
     "text": [
      "1735\n",
      "1736\n"
     ]
    },
    {
     "name": "stderr",
     "output_type": "stream",
     "text": [
      " 84%|████████▍ | 1738/2065 [04:42<00:55,  5.92it/s]"
     ]
    },
    {
     "name": "stdout",
     "output_type": "stream",
     "text": [
      "1737\n",
      "1738\n"
     ]
    },
    {
     "name": "stderr",
     "output_type": "stream",
     "text": [
      " 84%|████████▍ | 1740/2065 [04:42<01:02,  5.24it/s]"
     ]
    },
    {
     "name": "stdout",
     "output_type": "stream",
     "text": [
      "1739\n",
      "1740\n"
     ]
    },
    {
     "name": "stderr",
     "output_type": "stream",
     "text": [
      "\r",
      " 84%|████████▍ | 1741/2065 [04:42<01:03,  5.10it/s]"
     ]
    },
    {
     "name": "stdout",
     "output_type": "stream",
     "text": [
      "1741\n"
     ]
    },
    {
     "name": "stderr",
     "output_type": "stream",
     "text": [
      "\r",
      " 84%|████████▍ | 1742/2065 [04:42<01:07,  4.79it/s]"
     ]
    },
    {
     "name": "stdout",
     "output_type": "stream",
     "text": [
      "1742\n"
     ]
    },
    {
     "name": "stderr",
     "output_type": "stream",
     "text": [
      " 84%|████████▍ | 1744/2065 [04:43<01:02,  5.17it/s]"
     ]
    },
    {
     "name": "stdout",
     "output_type": "stream",
     "text": [
      "1743\n",
      "1744\n"
     ]
    },
    {
     "name": "stderr",
     "output_type": "stream",
     "text": [
      " 85%|████████▍ | 1746/2065 [04:43<01:00,  5.25it/s]"
     ]
    },
    {
     "name": "stdout",
     "output_type": "stream",
     "text": [
      "1745\n",
      "1746\n"
     ]
    },
    {
     "name": "stderr",
     "output_type": "stream",
     "text": [
      " 85%|████████▍ | 1748/2065 [04:44<00:59,  5.30it/s]"
     ]
    },
    {
     "name": "stdout",
     "output_type": "stream",
     "text": [
      "1747\n",
      "1748\n"
     ]
    },
    {
     "name": "stderr",
     "output_type": "stream",
     "text": [
      "\r",
      " 85%|████████▍ | 1750/2065 [04:44<00:51,  6.08it/s]"
     ]
    },
    {
     "name": "stdout",
     "output_type": "stream",
     "text": [
      "1749\n",
      "1750\n"
     ]
    },
    {
     "name": "stderr",
     "output_type": "stream",
     "text": [
      " 85%|████████▍ | 1752/2065 [04:44<00:49,  6.36it/s]"
     ]
    },
    {
     "name": "stdout",
     "output_type": "stream",
     "text": [
      "1751\n",
      "1752\n"
     ]
    },
    {
     "name": "stderr",
     "output_type": "stream",
     "text": [
      " 85%|████████▍ | 1754/2065 [04:44<00:44,  6.92it/s]"
     ]
    },
    {
     "name": "stdout",
     "output_type": "stream",
     "text": [
      "1753\n",
      "1754\n"
     ]
    },
    {
     "name": "stderr",
     "output_type": "stream",
     "text": [
      " 85%|████████▌ | 1756/2065 [04:45<00:50,  6.07it/s]"
     ]
    },
    {
     "name": "stdout",
     "output_type": "stream",
     "text": [
      "1755\n",
      "1756\n"
     ]
    },
    {
     "name": "stderr",
     "output_type": "stream",
     "text": [
      " 85%|████████▌ | 1758/2065 [04:45<00:49,  6.18it/s]"
     ]
    },
    {
     "name": "stdout",
     "output_type": "stream",
     "text": [
      "1757\n",
      "1758\n"
     ]
    },
    {
     "name": "stderr",
     "output_type": "stream",
     "text": [
      " 85%|████████▌ | 1760/2065 [04:45<00:48,  6.35it/s]"
     ]
    },
    {
     "name": "stdout",
     "output_type": "stream",
     "text": [
      "1759\n",
      "1760\n"
     ]
    },
    {
     "name": "stderr",
     "output_type": "stream",
     "text": [
      " 85%|████████▌ | 1762/2065 [04:46<00:46,  6.58it/s]"
     ]
    },
    {
     "name": "stdout",
     "output_type": "stream",
     "text": [
      "1761\n",
      "1762\n"
     ]
    },
    {
     "name": "stderr",
     "output_type": "stream",
     "text": [
      "\r",
      " 85%|████████▌ | 1763/2065 [04:46<00:45,  6.57it/s]"
     ]
    },
    {
     "name": "stdout",
     "output_type": "stream",
     "text": [
      "1763\n"
     ]
    },
    {
     "name": "stderr",
     "output_type": "stream",
     "text": [
      "\r",
      " 85%|████████▌ | 1764/2065 [04:46<00:58,  5.16it/s]"
     ]
    },
    {
     "name": "stdout",
     "output_type": "stream",
     "text": [
      "1764\n"
     ]
    },
    {
     "name": "stderr",
     "output_type": "stream",
     "text": [
      "\r",
      " 85%|████████▌ | 1765/2065 [04:46<01:06,  4.52it/s]"
     ]
    },
    {
     "name": "stdout",
     "output_type": "stream",
     "text": [
      "1765\n"
     ]
    },
    {
     "name": "stderr",
     "output_type": "stream",
     "text": [
      "\r",
      " 86%|████████▌ | 1766/2065 [04:47<01:12,  4.11it/s]"
     ]
    },
    {
     "name": "stdout",
     "output_type": "stream",
     "text": [
      "1766\n"
     ]
    },
    {
     "name": "stderr",
     "output_type": "stream",
     "text": [
      "\r",
      " 86%|████████▌ | 1767/2065 [04:47<01:24,  3.51it/s]"
     ]
    },
    {
     "name": "stdout",
     "output_type": "stream",
     "text": [
      "1767\n"
     ]
    },
    {
     "name": "stderr",
     "output_type": "stream",
     "text": [
      "\r",
      " 86%|████████▌ | 1768/2065 [04:47<01:21,  3.63it/s]"
     ]
    },
    {
     "name": "stdout",
     "output_type": "stream",
     "text": [
      "1768\n"
     ]
    },
    {
     "name": "stderr",
     "output_type": "stream",
     "text": [
      " 86%|████████▌ | 1770/2065 [04:48<01:10,  4.20it/s]"
     ]
    },
    {
     "name": "stdout",
     "output_type": "stream",
     "text": [
      "1769\n",
      "1770\n"
     ]
    },
    {
     "name": "stderr",
     "output_type": "stream",
     "text": [
      " 86%|████████▌ | 1772/2065 [04:48<00:55,  5.26it/s]"
     ]
    },
    {
     "name": "stdout",
     "output_type": "stream",
     "text": [
      "1771\n",
      "1772\n"
     ]
    },
    {
     "name": "stderr",
     "output_type": "stream",
     "text": [
      " 86%|████████▌ | 1774/2065 [04:48<00:48,  6.04it/s]"
     ]
    },
    {
     "name": "stdout",
     "output_type": "stream",
     "text": [
      "1773\n",
      "1774\n"
     ]
    },
    {
     "name": "stderr",
     "output_type": "stream",
     "text": [
      " 86%|████████▌ | 1776/2065 [04:49<00:49,  5.87it/s]"
     ]
    },
    {
     "name": "stdout",
     "output_type": "stream",
     "text": [
      "1775\n",
      "1776\n"
     ]
    },
    {
     "name": "stderr",
     "output_type": "stream",
     "text": [
      "\r",
      " 86%|████████▌ | 1777/2065 [04:49<00:53,  5.40it/s]"
     ]
    },
    {
     "name": "stdout",
     "output_type": "stream",
     "text": [
      "1777\n",
      "1778\n"
     ]
    },
    {
     "name": "stderr",
     "output_type": "stream",
     "text": [
      "\r",
      " 86%|████████▌ | 1779/2065 [04:49<00:44,  6.36it/s]"
     ]
    },
    {
     "name": "stdout",
     "output_type": "stream",
     "text": [
      "1779\n"
     ]
    },
    {
     "name": "stderr",
     "output_type": "stream",
     "text": [
      "\r",
      " 86%|████████▌ | 1780/2065 [04:49<00:49,  5.72it/s]"
     ]
    },
    {
     "name": "stdout",
     "output_type": "stream",
     "text": [
      "1780\n"
     ]
    },
    {
     "name": "stderr",
     "output_type": "stream",
     "text": [
      "\r",
      " 86%|████████▌ | 1781/2065 [04:50<00:54,  5.22it/s]"
     ]
    },
    {
     "name": "stdout",
     "output_type": "stream",
     "text": [
      "1781\n"
     ]
    },
    {
     "name": "stderr",
     "output_type": "stream",
     "text": [
      "\r",
      " 86%|████████▋ | 1782/2065 [04:50<00:57,  4.93it/s]"
     ]
    },
    {
     "name": "stdout",
     "output_type": "stream",
     "text": [
      "1782\n"
     ]
    },
    {
     "name": "stderr",
     "output_type": "stream",
     "text": [
      "\r",
      " 86%|████████▋ | 1783/2065 [04:50<00:58,  4.83it/s]"
     ]
    },
    {
     "name": "stdout",
     "output_type": "stream",
     "text": [
      "1783\n"
     ]
    },
    {
     "name": "stderr",
     "output_type": "stream",
     "text": [
      "\r",
      " 86%|████████▋ | 1784/2065 [04:50<01:00,  4.67it/s]"
     ]
    },
    {
     "name": "stdout",
     "output_type": "stream",
     "text": [
      "1784\n"
     ]
    },
    {
     "name": "stderr",
     "output_type": "stream",
     "text": [
      "\r",
      " 86%|████████▋ | 1785/2065 [04:51<01:01,  4.53it/s]"
     ]
    },
    {
     "name": "stdout",
     "output_type": "stream",
     "text": [
      "1785\n"
     ]
    },
    {
     "name": "stderr",
     "output_type": "stream",
     "text": [
      "\r",
      " 86%|████████▋ | 1786/2065 [04:51<01:01,  4.54it/s]"
     ]
    },
    {
     "name": "stdout",
     "output_type": "stream",
     "text": [
      "1786\n"
     ]
    },
    {
     "name": "stderr",
     "output_type": "stream",
     "text": [
      "\r",
      " 87%|████████▋ | 1787/2065 [04:51<01:02,  4.41it/s]"
     ]
    },
    {
     "name": "stdout",
     "output_type": "stream",
     "text": [
      "1787\n"
     ]
    },
    {
     "name": "stderr",
     "output_type": "stream",
     "text": [
      "\r",
      " 87%|████████▋ | 1788/2065 [04:51<01:03,  4.38it/s]"
     ]
    },
    {
     "name": "stdout",
     "output_type": "stream",
     "text": [
      "1788\n"
     ]
    },
    {
     "name": "stderr",
     "output_type": "stream",
     "text": [
      "\r",
      " 87%|████████▋ | 1789/2065 [04:52<01:04,  4.29it/s]"
     ]
    },
    {
     "name": "stdout",
     "output_type": "stream",
     "text": [
      "1789\n"
     ]
    },
    {
     "name": "stderr",
     "output_type": "stream",
     "text": [
      " 87%|████████▋ | 1791/2065 [04:52<00:57,  4.78it/s]"
     ]
    },
    {
     "name": "stdout",
     "output_type": "stream",
     "text": [
      "1790\n",
      "1791\n"
     ]
    },
    {
     "name": "stderr",
     "output_type": "stream",
     "text": [
      "\r",
      " 87%|████████▋ | 1792/2065 [04:52<00:54,  4.99it/s]"
     ]
    },
    {
     "name": "stdout",
     "output_type": "stream",
     "text": [
      "1792\n"
     ]
    },
    {
     "name": "stderr",
     "output_type": "stream",
     "text": [
      " 87%|████████▋ | 1794/2065 [04:52<00:51,  5.29it/s]"
     ]
    },
    {
     "name": "stdout",
     "output_type": "stream",
     "text": [
      "1793\n",
      "1794\n"
     ]
    },
    {
     "name": "stderr",
     "output_type": "stream",
     "text": [
      " 87%|████████▋ | 1796/2065 [04:53<00:43,  6.19it/s]"
     ]
    },
    {
     "name": "stdout",
     "output_type": "stream",
     "text": [
      "1795\n",
      "1796\n"
     ]
    },
    {
     "name": "stderr",
     "output_type": "stream",
     "text": [
      "\r",
      " 87%|████████▋ | 1797/2065 [04:53<00:58,  4.60it/s]"
     ]
    },
    {
     "name": "stdout",
     "output_type": "stream",
     "text": [
      "1797\n"
     ]
    },
    {
     "name": "stderr",
     "output_type": "stream",
     "text": [
      "\r",
      " 87%|████████▋ | 1798/2065 [04:53<01:09,  3.86it/s]"
     ]
    },
    {
     "name": "stdout",
     "output_type": "stream",
     "text": [
      "1798\n"
     ]
    },
    {
     "name": "stderr",
     "output_type": "stream",
     "text": [
      "\r",
      " 87%|████████▋ | 1799/2065 [04:54<01:17,  3.43it/s]"
     ]
    },
    {
     "name": "stdout",
     "output_type": "stream",
     "text": [
      "1799\n"
     ]
    },
    {
     "name": "stderr",
     "output_type": "stream",
     "text": [
      "\r",
      " 87%|████████▋ | 1800/2065 [04:54<01:11,  3.73it/s]"
     ]
    },
    {
     "name": "stdout",
     "output_type": "stream",
     "text": [
      "1800\n"
     ]
    },
    {
     "name": "stderr",
     "output_type": "stream",
     "text": [
      " 87%|████████▋ | 1802/2065 [04:54<00:57,  4.57it/s]"
     ]
    },
    {
     "name": "stdout",
     "output_type": "stream",
     "text": [
      "1801\n",
      "1802\n"
     ]
    },
    {
     "name": "stderr",
     "output_type": "stream",
     "text": [
      " 87%|████████▋ | 1804/2065 [04:55<00:50,  5.17it/s]"
     ]
    },
    {
     "name": "stdout",
     "output_type": "stream",
     "text": [
      "1803\n",
      "1804\n"
     ]
    },
    {
     "name": "stderr",
     "output_type": "stream",
     "text": [
      " 87%|████████▋ | 1806/2065 [04:55<00:43,  5.97it/s]"
     ]
    },
    {
     "name": "stdout",
     "output_type": "stream",
     "text": [
      "1805\n",
      "1806\n"
     ]
    },
    {
     "name": "stderr",
     "output_type": "stream",
     "text": [
      "\r",
      " 88%|████████▊ | 1807/2065 [04:55<00:48,  5.29it/s]"
     ]
    },
    {
     "name": "stdout",
     "output_type": "stream",
     "text": [
      "1807\n"
     ]
    },
    {
     "name": "stderr",
     "output_type": "stream",
     "text": [
      " 88%|████████▊ | 1809/2065 [04:56<00:50,  5.03it/s]"
     ]
    },
    {
     "name": "stdout",
     "output_type": "stream",
     "text": [
      "1808\n",
      "1809\n"
     ]
    },
    {
     "name": "stderr",
     "output_type": "stream",
     "text": [
      "\r",
      " 88%|████████▊ | 1810/2065 [04:56<00:53,  4.74it/s]"
     ]
    },
    {
     "name": "stdout",
     "output_type": "stream",
     "text": [
      "1810\n"
     ]
    },
    {
     "name": "stderr",
     "output_type": "stream",
     "text": [
      " 88%|████████▊ | 1812/2065 [04:56<00:53,  4.71it/s]"
     ]
    },
    {
     "name": "stdout",
     "output_type": "stream",
     "text": [
      "1811\n",
      "1812\n"
     ]
    },
    {
     "name": "stderr",
     "output_type": "stream",
     "text": [
      " 88%|████████▊ | 1814/2065 [04:57<00:39,  6.34it/s]"
     ]
    },
    {
     "name": "stdout",
     "output_type": "stream",
     "text": [
      "1813\n",
      "1814\n",
      "1815\n"
     ]
    },
    {
     "name": "stderr",
     "output_type": "stream",
     "text": [
      " 88%|████████▊ | 1817/2065 [04:57<00:34,  7.12it/s]"
     ]
    },
    {
     "name": "stdout",
     "output_type": "stream",
     "text": [
      "1816\n",
      "1817\n"
     ]
    },
    {
     "name": "stderr",
     "output_type": "stream",
     "text": [
      "\r",
      " 88%|████████▊ | 1818/2065 [04:57<00:34,  7.13it/s]"
     ]
    },
    {
     "name": "stdout",
     "output_type": "stream",
     "text": [
      "1818\n"
     ]
    },
    {
     "name": "stderr",
     "output_type": "stream",
     "text": [
      " 88%|████████▊ | 1820/2065 [04:57<00:40,  6.12it/s]"
     ]
    },
    {
     "name": "stdout",
     "output_type": "stream",
     "text": [
      "1819\n",
      "1820\n"
     ]
    },
    {
     "name": "stderr",
     "output_type": "stream",
     "text": [
      " 88%|████████▊ | 1822/2065 [04:58<00:40,  5.97it/s]"
     ]
    },
    {
     "name": "stdout",
     "output_type": "stream",
     "text": [
      "1821\n",
      "1822\n"
     ]
    },
    {
     "name": "stderr",
     "output_type": "stream",
     "text": [
      " 88%|████████▊ | 1824/2065 [04:58<00:38,  6.32it/s]"
     ]
    },
    {
     "name": "stdout",
     "output_type": "stream",
     "text": [
      "1823\n",
      "1824\n"
     ]
    },
    {
     "name": "stderr",
     "output_type": "stream",
     "text": [
      " 88%|████████▊ | 1826/2065 [04:58<00:37,  6.38it/s]"
     ]
    },
    {
     "name": "stdout",
     "output_type": "stream",
     "text": [
      "1825\n",
      "1826\n"
     ]
    },
    {
     "name": "stderr",
     "output_type": "stream",
     "text": [
      " 89%|████████▊ | 1828/2065 [04:59<00:35,  6.59it/s]"
     ]
    },
    {
     "name": "stdout",
     "output_type": "stream",
     "text": [
      "1827\n",
      "1828\n"
     ]
    },
    {
     "name": "stderr",
     "output_type": "stream",
     "text": [
      " 89%|████████▊ | 1830/2065 [04:59<00:39,  5.89it/s]"
     ]
    },
    {
     "name": "stdout",
     "output_type": "stream",
     "text": [
      "1829\n",
      "1830\n"
     ]
    },
    {
     "name": "stderr",
     "output_type": "stream",
     "text": [
      " 89%|████████▊ | 1832/2065 [04:59<00:35,  6.48it/s]"
     ]
    },
    {
     "name": "stdout",
     "output_type": "stream",
     "text": [
      "1831\n",
      "1832\n"
     ]
    },
    {
     "name": "stderr",
     "output_type": "stream",
     "text": [
      " 89%|████████▉ | 1834/2065 [05:00<00:38,  6.06it/s]"
     ]
    },
    {
     "name": "stdout",
     "output_type": "stream",
     "text": [
      "1833\n",
      "1834\n"
     ]
    },
    {
     "name": "stderr",
     "output_type": "stream",
     "text": [
      " 89%|████████▉ | 1836/2065 [05:00<00:35,  6.37it/s]"
     ]
    },
    {
     "name": "stdout",
     "output_type": "stream",
     "text": [
      "1835\n",
      "1836\n"
     ]
    },
    {
     "name": "stderr",
     "output_type": "stream",
     "text": [
      "\r",
      " 89%|████████▉ | 1837/2065 [05:00<00:34,  6.67it/s]"
     ]
    },
    {
     "name": "stdout",
     "output_type": "stream",
     "text": [
      "1837\n",
      "1838\n"
     ]
    },
    {
     "name": "stderr",
     "output_type": "stream",
     "text": [
      " 89%|████████▉ | 1840/2065 [05:01<00:30,  7.35it/s]"
     ]
    },
    {
     "name": "stdout",
     "output_type": "stream",
     "text": [
      "1839\n",
      "1840\n"
     ]
    },
    {
     "name": "stderr",
     "output_type": "stream",
     "text": [
      " 89%|████████▉ | 1842/2065 [05:01<00:30,  7.34it/s]"
     ]
    },
    {
     "name": "stdout",
     "output_type": "stream",
     "text": [
      "1841\n",
      "1842\n"
     ]
    },
    {
     "name": "stderr",
     "output_type": "stream",
     "text": [
      " 89%|████████▉ | 1844/2065 [05:01<00:35,  6.28it/s]"
     ]
    },
    {
     "name": "stdout",
     "output_type": "stream",
     "text": [
      "1843\n",
      "1844\n"
     ]
    },
    {
     "name": "stderr",
     "output_type": "stream",
     "text": [
      " 89%|████████▉ | 1846/2065 [05:02<00:37,  5.90it/s]"
     ]
    },
    {
     "name": "stdout",
     "output_type": "stream",
     "text": [
      "1845\n",
      "1846\n"
     ]
    },
    {
     "name": "stderr",
     "output_type": "stream",
     "text": [
      " 89%|████████▉ | 1848/2065 [05:02<00:38,  5.66it/s]"
     ]
    },
    {
     "name": "stdout",
     "output_type": "stream",
     "text": [
      "1847\n",
      "1848\n"
     ]
    },
    {
     "name": "stderr",
     "output_type": "stream",
     "text": [
      "\r",
      " 90%|████████▉ | 1850/2065 [05:02<00:32,  6.71it/s]"
     ]
    },
    {
     "name": "stdout",
     "output_type": "stream",
     "text": [
      "1849\n",
      "1850\n"
     ]
    },
    {
     "name": "stderr",
     "output_type": "stream",
     "text": [
      " 90%|████████▉ | 1852/2065 [05:03<00:35,  6.00it/s]"
     ]
    },
    {
     "name": "stdout",
     "output_type": "stream",
     "text": [
      "1851\n",
      "1852\n"
     ]
    },
    {
     "name": "stderr",
     "output_type": "stream",
     "text": [
      " 90%|████████▉ | 1854/2065 [05:03<00:36,  5.70it/s]"
     ]
    },
    {
     "name": "stdout",
     "output_type": "stream",
     "text": [
      "1853\n",
      "1854\n"
     ]
    },
    {
     "name": "stderr",
     "output_type": "stream",
     "text": [
      " 90%|████████▉ | 1856/2065 [05:03<00:35,  5.92it/s]"
     ]
    },
    {
     "name": "stdout",
     "output_type": "stream",
     "text": [
      "1855\n",
      "1856\n"
     ]
    },
    {
     "name": "stderr",
     "output_type": "stream",
     "text": [
      " 90%|████████▉ | 1858/2065 [05:04<00:33,  6.19it/s]"
     ]
    },
    {
     "name": "stdout",
     "output_type": "stream",
     "text": [
      "1857\n",
      "1858\n"
     ]
    },
    {
     "name": "stderr",
     "output_type": "stream",
     "text": [
      " 90%|█████████ | 1860/2065 [05:04<00:36,  5.67it/s]"
     ]
    },
    {
     "name": "stdout",
     "output_type": "stream",
     "text": [
      "1859\n",
      "1860\n"
     ]
    },
    {
     "name": "stderr",
     "output_type": "stream",
     "text": [
      " 90%|█████████ | 1862/2065 [05:04<00:35,  5.65it/s]"
     ]
    },
    {
     "name": "stdout",
     "output_type": "stream",
     "text": [
      "1861\n",
      "1862\n"
     ]
    },
    {
     "name": "stderr",
     "output_type": "stream",
     "text": [
      " 90%|█████████ | 1864/2065 [05:05<00:36,  5.47it/s]"
     ]
    },
    {
     "name": "stdout",
     "output_type": "stream",
     "text": [
      "1863\n",
      "1864\n"
     ]
    },
    {
     "name": "stderr",
     "output_type": "stream",
     "text": [
      " 90%|█████████ | 1867/2065 [05:05<00:26,  7.51it/s]"
     ]
    },
    {
     "name": "stdout",
     "output_type": "stream",
     "text": [
      "1865\n",
      "1866\n",
      "1867\n"
     ]
    },
    {
     "name": "stderr",
     "output_type": "stream",
     "text": [
      "\r",
      " 90%|█████████ | 1868/2065 [05:05<00:29,  6.73it/s]"
     ]
    },
    {
     "name": "stdout",
     "output_type": "stream",
     "text": [
      "1868\n",
      "1869\n"
     ]
    },
    {
     "name": "stderr",
     "output_type": "stream",
     "text": [
      " 91%|█████████ | 1872/2065 [05:06<00:23,  8.34it/s]"
     ]
    },
    {
     "name": "stdout",
     "output_type": "stream",
     "text": [
      "1870\n",
      "1871\n",
      "1872\n"
     ]
    },
    {
     "name": "stderr",
     "output_type": "stream",
     "text": [
      "\r",
      " 91%|█████████ | 1874/2065 [05:06<00:23,  8.06it/s]"
     ]
    },
    {
     "name": "stdout",
     "output_type": "stream",
     "text": [
      "1873\n",
      "1874\n"
     ]
    },
    {
     "name": "stderr",
     "output_type": "stream",
     "text": [
      "\r",
      " 91%|█████████ | 1875/2065 [05:06<00:26,  7.23it/s]"
     ]
    },
    {
     "name": "stdout",
     "output_type": "stream",
     "text": [
      "1875\n"
     ]
    },
    {
     "name": "stderr",
     "output_type": "stream",
     "text": [
      "\r",
      " 91%|█████████ | 1876/2065 [05:06<00:29,  6.33it/s]"
     ]
    },
    {
     "name": "stdout",
     "output_type": "stream",
     "text": [
      "1876\n"
     ]
    },
    {
     "name": "stderr",
     "output_type": "stream",
     "text": [
      "\r",
      " 91%|█████████ | 1877/2065 [05:07<00:32,  5.79it/s]"
     ]
    },
    {
     "name": "stdout",
     "output_type": "stream",
     "text": [
      "1877\n"
     ]
    },
    {
     "name": "stderr",
     "output_type": "stream",
     "text": [
      "\r",
      " 91%|█████████ | 1878/2065 [05:07<00:35,  5.33it/s]"
     ]
    },
    {
     "name": "stdout",
     "output_type": "stream",
     "text": [
      "1878\n"
     ]
    },
    {
     "name": "stderr",
     "output_type": "stream",
     "text": [
      " 91%|█████████ | 1880/2065 [05:07<00:37,  4.97it/s]"
     ]
    },
    {
     "name": "stdout",
     "output_type": "stream",
     "text": [
      "1879\n",
      "1880\n",
      "1881\n"
     ]
    },
    {
     "name": "stderr",
     "output_type": "stream",
     "text": [
      "\r",
      " 91%|█████████ | 1882/2065 [05:08<00:33,  5.41it/s]"
     ]
    },
    {
     "name": "stdout",
     "output_type": "stream",
     "text": [
      "1882\n"
     ]
    },
    {
     "name": "stderr",
     "output_type": "stream",
     "text": [
      "\r",
      " 91%|█████████ | 1883/2065 [05:08<00:35,  5.19it/s]"
     ]
    },
    {
     "name": "stdout",
     "output_type": "stream",
     "text": [
      "1883\n"
     ]
    },
    {
     "name": "stderr",
     "output_type": "stream",
     "text": [
      "\r",
      " 91%|█████████ | 1884/2065 [05:08<00:37,  4.76it/s]"
     ]
    },
    {
     "name": "stdout",
     "output_type": "stream",
     "text": [
      "1884\n"
     ]
    },
    {
     "name": "stderr",
     "output_type": "stream",
     "text": [
      "\r",
      " 91%|█████████▏| 1885/2065 [05:08<00:38,  4.69it/s]"
     ]
    },
    {
     "name": "stdout",
     "output_type": "stream",
     "text": [
      "1885\n"
     ]
    },
    {
     "name": "stderr",
     "output_type": "stream",
     "text": [
      " 91%|█████████▏| 1887/2065 [05:09<00:36,  4.83it/s]"
     ]
    },
    {
     "name": "stdout",
     "output_type": "stream",
     "text": [
      "1886\n",
      "1887\n"
     ]
    },
    {
     "name": "stderr",
     "output_type": "stream",
     "text": [
      " 91%|█████████▏| 1889/2065 [05:09<00:30,  5.86it/s]"
     ]
    },
    {
     "name": "stdout",
     "output_type": "stream",
     "text": [
      "1888\n",
      "1889\n",
      "1890\n"
     ]
    },
    {
     "name": "stderr",
     "output_type": "stream",
     "text": [
      " 92%|█████████▏| 1892/2065 [05:09<00:28,  5.97it/s]"
     ]
    },
    {
     "name": "stdout",
     "output_type": "stream",
     "text": [
      "1891\n",
      "1892\n"
     ]
    },
    {
     "name": "stderr",
     "output_type": "stream",
     "text": [
      " 92%|█████████▏| 1894/2065 [05:10<00:27,  6.14it/s]"
     ]
    },
    {
     "name": "stdout",
     "output_type": "stream",
     "text": [
      "1893\n",
      "1894\n"
     ]
    },
    {
     "name": "stderr",
     "output_type": "stream",
     "text": [
      "\r",
      " 92%|█████████▏| 1895/2065 [05:10<00:29,  5.68it/s]"
     ]
    },
    {
     "name": "stdout",
     "output_type": "stream",
     "text": [
      "1895\n",
      "1896\n"
     ]
    },
    {
     "name": "stderr",
     "output_type": "stream",
     "text": [
      " 92%|█████████▏| 1898/2065 [05:10<00:26,  6.26it/s]"
     ]
    },
    {
     "name": "stdout",
     "output_type": "stream",
     "text": [
      "1897\n",
      "1898\n"
     ]
    },
    {
     "name": "stderr",
     "output_type": "stream",
     "text": [
      "\r",
      " 92%|█████████▏| 1900/2065 [05:11<00:20,  7.97it/s]"
     ]
    },
    {
     "name": "stdout",
     "output_type": "stream",
     "text": [
      "1899\n",
      "1900\n"
     ]
    },
    {
     "name": "stderr",
     "output_type": "stream",
     "text": [
      " 92%|█████████▏| 1902/2065 [05:11<00:25,  6.46it/s]"
     ]
    },
    {
     "name": "stdout",
     "output_type": "stream",
     "text": [
      "1901\n",
      "1902\n"
     ]
    },
    {
     "name": "stderr",
     "output_type": "stream",
     "text": [
      " 92%|█████████▏| 1904/2065 [05:11<00:26,  6.08it/s]"
     ]
    },
    {
     "name": "stdout",
     "output_type": "stream",
     "text": [
      "1903\n",
      "1904\n"
     ]
    },
    {
     "name": "stderr",
     "output_type": "stream",
     "text": [
      " 92%|█████████▏| 1906/2065 [05:12<00:25,  6.21it/s]"
     ]
    },
    {
     "name": "stdout",
     "output_type": "stream",
     "text": [
      "1905\n",
      "1906\n"
     ]
    },
    {
     "name": "stderr",
     "output_type": "stream",
     "text": [
      " 92%|█████████▏| 1908/2065 [05:12<00:27,  5.70it/s]"
     ]
    },
    {
     "name": "stdout",
     "output_type": "stream",
     "text": [
      "1907\n",
      "1908\n"
     ]
    },
    {
     "name": "stderr",
     "output_type": "stream",
     "text": [
      " 92%|█████████▏| 1910/2065 [05:12<00:28,  5.50it/s]"
     ]
    },
    {
     "name": "stdout",
     "output_type": "stream",
     "text": [
      "1909\n",
      "1910\n"
     ]
    },
    {
     "name": "stderr",
     "output_type": "stream",
     "text": [
      " 93%|█████████▎| 1912/2065 [05:13<00:25,  6.06it/s]"
     ]
    },
    {
     "name": "stdout",
     "output_type": "stream",
     "text": [
      "1911\n",
      "1912\n"
     ]
    },
    {
     "name": "stderr",
     "output_type": "stream",
     "text": [
      " 93%|█████████▎| 1914/2065 [05:13<00:22,  6.71it/s]"
     ]
    },
    {
     "name": "stdout",
     "output_type": "stream",
     "text": [
      "1913\n",
      "1914\n"
     ]
    },
    {
     "name": "stderr",
     "output_type": "stream",
     "text": [
      " 93%|█████████▎| 1916/2065 [05:13<00:21,  6.96it/s]"
     ]
    },
    {
     "name": "stdout",
     "output_type": "stream",
     "text": [
      "1915\n",
      "1916\n"
     ]
    },
    {
     "name": "stderr",
     "output_type": "stream",
     "text": [
      "\r",
      " 93%|█████████▎| 1917/2065 [05:13<00:22,  6.56it/s]"
     ]
    },
    {
     "name": "stdout",
     "output_type": "stream",
     "text": [
      "1917\n"
     ]
    },
    {
     "name": "stderr",
     "output_type": "stream",
     "text": [
      " 93%|█████████▎| 1919/2065 [05:14<00:25,  5.70it/s]"
     ]
    },
    {
     "name": "stdout",
     "output_type": "stream",
     "text": [
      "1918\n",
      "1919\n"
     ]
    },
    {
     "name": "stderr",
     "output_type": "stream",
     "text": [
      " 93%|█████████▎| 1921/2065 [05:14<00:26,  5.49it/s]"
     ]
    },
    {
     "name": "stdout",
     "output_type": "stream",
     "text": [
      "1920\n",
      "1921\n"
     ]
    },
    {
     "name": "stderr",
     "output_type": "stream",
     "text": [
      " 93%|█████████▎| 1923/2065 [05:15<00:25,  5.55it/s]"
     ]
    },
    {
     "name": "stdout",
     "output_type": "stream",
     "text": [
      "1922\n",
      "1923\n"
     ]
    },
    {
     "name": "stderr",
     "output_type": "stream",
     "text": [
      " 93%|█████████▎| 1925/2065 [05:15<00:23,  6.07it/s]"
     ]
    },
    {
     "name": "stdout",
     "output_type": "stream",
     "text": [
      "1924\n",
      "1925\n",
      "1926\n"
     ]
    },
    {
     "name": "stderr",
     "output_type": "stream",
     "text": [
      " 93%|█████████▎| 1928/2065 [05:15<00:20,  6.56it/s]"
     ]
    },
    {
     "name": "stdout",
     "output_type": "stream",
     "text": [
      "1927\n",
      "1928\n"
     ]
    },
    {
     "name": "stderr",
     "output_type": "stream",
     "text": [
      " 93%|█████████▎| 1930/2065 [05:16<00:22,  5.87it/s]"
     ]
    },
    {
     "name": "stdout",
     "output_type": "stream",
     "text": [
      "1929\n",
      "1930\n"
     ]
    },
    {
     "name": "stderr",
     "output_type": "stream",
     "text": [
      " 94%|█████████▎| 1932/2065 [05:16<00:24,  5.51it/s]"
     ]
    },
    {
     "name": "stdout",
     "output_type": "stream",
     "text": [
      "1931\n",
      "1932\n"
     ]
    },
    {
     "name": "stderr",
     "output_type": "stream",
     "text": [
      " 94%|█████████▎| 1934/2065 [05:16<00:22,  5.76it/s]"
     ]
    },
    {
     "name": "stdout",
     "output_type": "stream",
     "text": [
      "1933\n",
      "1934\n"
     ]
    },
    {
     "name": "stderr",
     "output_type": "stream",
     "text": [
      " 94%|█████████▍| 1936/2065 [05:17<00:21,  5.94it/s]"
     ]
    },
    {
     "name": "stdout",
     "output_type": "stream",
     "text": [
      "1935\n",
      "1936\n"
     ]
    },
    {
     "name": "stderr",
     "output_type": "stream",
     "text": [
      " 94%|█████████▍| 1938/2065 [05:17<00:18,  6.98it/s]"
     ]
    },
    {
     "name": "stdout",
     "output_type": "stream",
     "text": [
      "1937\n",
      "1938\n"
     ]
    },
    {
     "name": "stderr",
     "output_type": "stream",
     "text": [
      " 94%|█████████▍| 1940/2065 [05:17<00:18,  6.68it/s]"
     ]
    },
    {
     "name": "stdout",
     "output_type": "stream",
     "text": [
      "1939\n",
      "1940\n"
     ]
    },
    {
     "name": "stderr",
     "output_type": "stream",
     "text": [
      " 94%|█████████▍| 1942/2065 [05:17<00:17,  7.22it/s]"
     ]
    },
    {
     "name": "stdout",
     "output_type": "stream",
     "text": [
      "1941\n",
      "1942\n"
     ]
    },
    {
     "name": "stderr",
     "output_type": "stream",
     "text": [
      " 94%|█████████▍| 1944/2065 [05:18<00:17,  7.03it/s]"
     ]
    },
    {
     "name": "stdout",
     "output_type": "stream",
     "text": [
      "1943\n",
      "1944\n"
     ]
    },
    {
     "name": "stderr",
     "output_type": "stream",
     "text": [
      " 94%|█████████▍| 1946/2065 [05:18<00:16,  7.04it/s]"
     ]
    },
    {
     "name": "stdout",
     "output_type": "stream",
     "text": [
      "1945\n",
      "1946\n"
     ]
    },
    {
     "name": "stderr",
     "output_type": "stream",
     "text": [
      " 94%|█████████▍| 1948/2065 [05:18<00:15,  7.48it/s]"
     ]
    },
    {
     "name": "stdout",
     "output_type": "stream",
     "text": [
      "1947\n",
      "1948\n"
     ]
    },
    {
     "name": "stderr",
     "output_type": "stream",
     "text": [
      " 94%|█████████▍| 1950/2065 [05:19<00:14,  7.83it/s]"
     ]
    },
    {
     "name": "stdout",
     "output_type": "stream",
     "text": [
      "1949\n",
      "1950\n"
     ]
    },
    {
     "name": "stderr",
     "output_type": "stream",
     "text": [
      " 95%|█████████▍| 1952/2065 [05:19<00:15,  7.29it/s]"
     ]
    },
    {
     "name": "stdout",
     "output_type": "stream",
     "text": [
      "1951\n",
      "1952\n"
     ]
    },
    {
     "name": "stderr",
     "output_type": "stream",
     "text": [
      "\r",
      " 95%|█████████▍| 1953/2065 [05:19<00:17,  6.25it/s]"
     ]
    },
    {
     "name": "stdout",
     "output_type": "stream",
     "text": [
      "1953\n"
     ]
    },
    {
     "name": "stderr",
     "output_type": "stream",
     "text": [
      "\r",
      " 95%|█████████▍| 1954/2065 [05:19<00:19,  5.67it/s]"
     ]
    },
    {
     "name": "stdout",
     "output_type": "stream",
     "text": [
      "1954\n"
     ]
    },
    {
     "name": "stderr",
     "output_type": "stream",
     "text": [
      "\r",
      " 95%|█████████▍| 1955/2065 [05:20<00:21,  5.13it/s]"
     ]
    },
    {
     "name": "stdout",
     "output_type": "stream",
     "text": [
      "1955\n"
     ]
    },
    {
     "name": "stderr",
     "output_type": "stream",
     "text": [
      " 95%|█████████▍| 1957/2065 [05:20<00:21,  4.92it/s]"
     ]
    },
    {
     "name": "stdout",
     "output_type": "stream",
     "text": [
      "1956\n",
      "1957\n"
     ]
    },
    {
     "name": "stderr",
     "output_type": "stream",
     "text": [
      " 95%|█████████▍| 1959/2065 [05:20<00:21,  4.86it/s]"
     ]
    },
    {
     "name": "stdout",
     "output_type": "stream",
     "text": [
      "1958\n",
      "1959\n"
     ]
    },
    {
     "name": "stderr",
     "output_type": "stream",
     "text": [
      "\r",
      " 95%|█████████▍| 1960/2065 [05:21<00:22,  4.71it/s]"
     ]
    },
    {
     "name": "stdout",
     "output_type": "stream",
     "text": [
      "1960\n"
     ]
    },
    {
     "name": "stderr",
     "output_type": "stream",
     "text": [
      "\r",
      " 95%|█████████▍| 1961/2065 [05:21<00:24,  4.28it/s]"
     ]
    },
    {
     "name": "stdout",
     "output_type": "stream",
     "text": [
      "1961\n"
     ]
    },
    {
     "name": "stderr",
     "output_type": "stream",
     "text": [
      "\r",
      " 95%|█████████▌| 1962/2065 [05:21<00:24,  4.17it/s]"
     ]
    },
    {
     "name": "stdout",
     "output_type": "stream",
     "text": [
      "1962\n"
     ]
    },
    {
     "name": "stderr",
     "output_type": "stream",
     "text": [
      " 95%|█████████▌| 1964/2065 [05:22<00:22,  4.52it/s]"
     ]
    },
    {
     "name": "stdout",
     "output_type": "stream",
     "text": [
      "1963\n",
      "1964\n"
     ]
    },
    {
     "name": "stderr",
     "output_type": "stream",
     "text": [
      "\r",
      " 95%|█████████▌| 1965/2065 [05:22<00:20,  4.98it/s]"
     ]
    },
    {
     "name": "stdout",
     "output_type": "stream",
     "text": [
      "1965\n",
      "1966\n"
     ]
    },
    {
     "name": "stderr",
     "output_type": "stream",
     "text": [
      "\r",
      " 95%|█████████▌| 1967/2065 [05:22<00:17,  5.76it/s]"
     ]
    },
    {
     "name": "stdout",
     "output_type": "stream",
     "text": [
      "1967\n"
     ]
    },
    {
     "name": "stderr",
     "output_type": "stream",
     "text": [
      " 95%|█████████▌| 1969/2065 [05:22<00:18,  5.23it/s]"
     ]
    },
    {
     "name": "stdout",
     "output_type": "stream",
     "text": [
      "1968\n",
      "1969\n"
     ]
    },
    {
     "name": "stderr",
     "output_type": "stream",
     "text": [
      "\r",
      " 95%|█████████▌| 1970/2065 [05:23<00:17,  5.36it/s]"
     ]
    },
    {
     "name": "stdout",
     "output_type": "stream",
     "text": [
      "1970\n",
      "1971\n"
     ]
    },
    {
     "name": "stderr",
     "output_type": "stream",
     "text": [
      " 96%|█████████▌| 1973/2065 [05:23<00:15,  5.79it/s]"
     ]
    },
    {
     "name": "stdout",
     "output_type": "stream",
     "text": [
      "1972\n",
      "1973\n"
     ]
    },
    {
     "name": "stderr",
     "output_type": "stream",
     "text": [
      " 96%|█████████▌| 1975/2065 [05:23<00:16,  5.61it/s]"
     ]
    },
    {
     "name": "stdout",
     "output_type": "stream",
     "text": [
      "1974\n",
      "1975\n"
     ]
    },
    {
     "name": "stderr",
     "output_type": "stream",
     "text": [
      " 96%|█████████▌| 1977/2065 [05:24<00:16,  5.30it/s]"
     ]
    },
    {
     "name": "stdout",
     "output_type": "stream",
     "text": [
      "1976\n"
     ]
    },
    {
     "name": "stderr",
     "output_type": "stream",
     "text": [
      " 96%|█████████▌| 1979/2065 [05:24<00:15,  5.40it/s]"
     ]
    },
    {
     "name": "stdout",
     "output_type": "stream",
     "text": [
      "1977\n",
      "1978\n",
      "1979\n"
     ]
    },
    {
     "name": "stderr",
     "output_type": "stream",
     "text": [
      " 96%|█████████▌| 1982/2065 [05:25<00:10,  7.55it/s]"
     ]
    },
    {
     "name": "stdout",
     "output_type": "stream",
     "text": [
      "1980\n",
      "1981\n",
      "1982\n"
     ]
    },
    {
     "name": "stderr",
     "output_type": "stream",
     "text": [
      " 96%|█████████▌| 1984/2065 [05:25<00:10,  7.68it/s]"
     ]
    },
    {
     "name": "stdout",
     "output_type": "stream",
     "text": [
      "1983\n",
      "1984\n"
     ]
    },
    {
     "name": "stderr",
     "output_type": "stream",
     "text": [
      " 96%|█████████▌| 1986/2065 [05:25<00:11,  7.07it/s]"
     ]
    },
    {
     "name": "stdout",
     "output_type": "stream",
     "text": [
      "1985\n",
      "1986\n"
     ]
    },
    {
     "name": "stderr",
     "output_type": "stream",
     "text": [
      " 96%|█████████▋| 1988/2065 [05:25<00:10,  7.38it/s]"
     ]
    },
    {
     "name": "stdout",
     "output_type": "stream",
     "text": [
      "1987\n",
      "1988\n"
     ]
    },
    {
     "name": "stderr",
     "output_type": "stream",
     "text": [
      "\r",
      " 96%|█████████▋| 1989/2065 [05:26<00:11,  6.82it/s]"
     ]
    },
    {
     "name": "stdout",
     "output_type": "stream",
     "text": [
      "1989\n",
      "1990\n"
     ]
    },
    {
     "name": "stderr",
     "output_type": "stream",
     "text": [
      " 96%|█████████▋| 1992/2065 [05:26<00:11,  6.49it/s]"
     ]
    },
    {
     "name": "stdout",
     "output_type": "stream",
     "text": [
      "1991\n",
      "1992\n"
     ]
    },
    {
     "name": "stderr",
     "output_type": "stream",
     "text": [
      " 97%|█████████▋| 1994/2065 [05:26<00:10,  6.66it/s]"
     ]
    },
    {
     "name": "stdout",
     "output_type": "stream",
     "text": [
      "1993\n",
      "1994\n"
     ]
    },
    {
     "name": "stderr",
     "output_type": "stream",
     "text": [
      " 97%|█████████▋| 1996/2065 [05:27<00:10,  6.69it/s]"
     ]
    },
    {
     "name": "stdout",
     "output_type": "stream",
     "text": [
      "1995\n",
      "1996\n"
     ]
    },
    {
     "name": "stderr",
     "output_type": "stream",
     "text": [
      " 97%|█████████▋| 1998/2065 [05:27<00:11,  5.98it/s]"
     ]
    },
    {
     "name": "stdout",
     "output_type": "stream",
     "text": [
      "1997\n",
      "1998\n"
     ]
    },
    {
     "name": "stderr",
     "output_type": "stream",
     "text": [
      " 97%|█████████▋| 2000/2065 [05:27<00:11,  5.63it/s]"
     ]
    },
    {
     "name": "stdout",
     "output_type": "stream",
     "text": [
      "1999\n",
      "2000\n"
     ]
    },
    {
     "name": "stderr",
     "output_type": "stream",
     "text": [
      "\r",
      " 97%|█████████▋| 2002/2065 [05:28<00:08,  7.31it/s]"
     ]
    },
    {
     "name": "stdout",
     "output_type": "stream",
     "text": [
      "2001\n",
      "2002\n"
     ]
    },
    {
     "name": "stderr",
     "output_type": "stream",
     "text": [
      " 97%|█████████▋| 2004/2065 [05:28<00:09,  6.70it/s]"
     ]
    },
    {
     "name": "stdout",
     "output_type": "stream",
     "text": [
      "2003\n",
      "2004\n"
     ]
    },
    {
     "name": "stderr",
     "output_type": "stream",
     "text": [
      " 97%|█████████▋| 2006/2065 [05:28<00:09,  5.95it/s]"
     ]
    },
    {
     "name": "stdout",
     "output_type": "stream",
     "text": [
      "2005\n",
      "2006\n"
     ]
    },
    {
     "name": "stderr",
     "output_type": "stream",
     "text": [
      " 97%|█████████▋| 2008/2065 [05:29<00:10,  5.58it/s]"
     ]
    },
    {
     "name": "stdout",
     "output_type": "stream",
     "text": [
      "2007\n",
      "2008\n"
     ]
    },
    {
     "name": "stderr",
     "output_type": "stream",
     "text": [
      " 97%|█████████▋| 2010/2065 [05:29<00:08,  6.21it/s]"
     ]
    },
    {
     "name": "stdout",
     "output_type": "stream",
     "text": [
      "2009\n",
      "2010\n"
     ]
    },
    {
     "name": "stderr",
     "output_type": "stream",
     "text": [
      " 97%|█████████▋| 2012/2065 [05:29<00:08,  6.32it/s]"
     ]
    },
    {
     "name": "stdout",
     "output_type": "stream",
     "text": [
      "2011\n",
      "2012\n",
      "2013\n"
     ]
    },
    {
     "name": "stderr",
     "output_type": "stream",
     "text": [
      " 98%|█████████▊| 2015/2065 [05:30<00:07,  6.58it/s]"
     ]
    },
    {
     "name": "stdout",
     "output_type": "stream",
     "text": [
      "2014\n",
      "2015\n"
     ]
    },
    {
     "name": "stderr",
     "output_type": "stream",
     "text": [
      " 98%|█████████▊| 2017/2065 [05:30<00:07,  6.61it/s]"
     ]
    },
    {
     "name": "stdout",
     "output_type": "stream",
     "text": [
      "2016\n",
      "2017\n"
     ]
    },
    {
     "name": "stderr",
     "output_type": "stream",
     "text": [
      " 98%|█████████▊| 2019/2065 [05:30<00:06,  7.00it/s]"
     ]
    },
    {
     "name": "stdout",
     "output_type": "stream",
     "text": [
      "2018\n",
      "2019\n"
     ]
    },
    {
     "name": "stderr",
     "output_type": "stream",
     "text": [
      " 98%|█████████▊| 2021/2065 [05:31<00:06,  6.91it/s]"
     ]
    },
    {
     "name": "stdout",
     "output_type": "stream",
     "text": [
      "2020\n",
      "2021\n"
     ]
    },
    {
     "name": "stderr",
     "output_type": "stream",
     "text": [
      " 98%|█████████▊| 2023/2065 [05:31<00:05,  7.31it/s]"
     ]
    },
    {
     "name": "stdout",
     "output_type": "stream",
     "text": [
      "2022\n",
      "2023\n"
     ]
    },
    {
     "name": "stderr",
     "output_type": "stream",
     "text": [
      " 98%|█████████▊| 2025/2065 [05:31<00:06,  6.22it/s]"
     ]
    },
    {
     "name": "stdout",
     "output_type": "stream",
     "text": [
      "2024\n",
      "2025\n"
     ]
    },
    {
     "name": "stderr",
     "output_type": "stream",
     "text": [
      " 98%|█████████▊| 2027/2065 [05:31<00:05,  6.66it/s]"
     ]
    },
    {
     "name": "stdout",
     "output_type": "stream",
     "text": [
      "2026\n",
      "2027\n"
     ]
    },
    {
     "name": "stderr",
     "output_type": "stream",
     "text": [
      " 98%|█████████▊| 2029/2065 [05:32<00:04,  7.22it/s]"
     ]
    },
    {
     "name": "stdout",
     "output_type": "stream",
     "text": [
      "2028\n",
      "2029\n"
     ]
    },
    {
     "name": "stderr",
     "output_type": "stream",
     "text": [
      " 98%|█████████▊| 2031/2065 [05:32<00:05,  6.33it/s]"
     ]
    },
    {
     "name": "stdout",
     "output_type": "stream",
     "text": [
      "2030\n",
      "2031\n"
     ]
    },
    {
     "name": "stderr",
     "output_type": "stream",
     "text": [
      "\r",
      " 98%|█████████▊| 2032/2065 [05:32<00:04,  6.92it/s]"
     ]
    },
    {
     "name": "stdout",
     "output_type": "stream",
     "text": [
      "2032\n",
      "2033\n"
     ]
    },
    {
     "name": "stderr",
     "output_type": "stream",
     "text": [
      " 99%|█████████▊| 2035/2065 [05:33<00:04,  7.14it/s]"
     ]
    },
    {
     "name": "stdout",
     "output_type": "stream",
     "text": [
      "2034\n",
      "2035\n"
     ]
    },
    {
     "name": "stderr",
     "output_type": "stream",
     "text": [
      " 99%|█████████▊| 2037/2065 [05:33<00:04,  6.05it/s]"
     ]
    },
    {
     "name": "stdout",
     "output_type": "stream",
     "text": [
      "2036\n",
      "2037\n"
     ]
    },
    {
     "name": "stderr",
     "output_type": "stream",
     "text": [
      "\r",
      " 99%|█████████▊| 2038/2065 [05:33<00:05,  5.40it/s]"
     ]
    },
    {
     "name": "stdout",
     "output_type": "stream",
     "text": [
      "2038\n"
     ]
    },
    {
     "name": "stderr",
     "output_type": "stream",
     "text": [
      "\r",
      " 99%|█████████▊| 2039/2065 [05:33<00:05,  5.14it/s]"
     ]
    },
    {
     "name": "stdout",
     "output_type": "stream",
     "text": [
      "2039\n"
     ]
    },
    {
     "name": "stderr",
     "output_type": "stream",
     "text": [
      "\r",
      " 99%|█████████▉| 2040/2065 [05:34<00:05,  4.93it/s]"
     ]
    },
    {
     "name": "stdout",
     "output_type": "stream",
     "text": [
      "2040\n"
     ]
    },
    {
     "name": "stderr",
     "output_type": "stream",
     "text": [
      "\r",
      " 99%|█████████▉| 2041/2065 [05:34<00:04,  4.83it/s]"
     ]
    },
    {
     "name": "stdout",
     "output_type": "stream",
     "text": [
      "2041\n",
      "2042\n"
     ]
    },
    {
     "name": "stderr",
     "output_type": "stream",
     "text": [
      " 99%|█████████▉| 2044/2065 [05:34<00:03,  5.79it/s]"
     ]
    },
    {
     "name": "stdout",
     "output_type": "stream",
     "text": [
      "2043\n",
      "2044\n"
     ]
    },
    {
     "name": "stderr",
     "output_type": "stream",
     "text": [
      "\r",
      " 99%|█████████▉| 2045/2065 [05:35<00:03,  5.25it/s]"
     ]
    },
    {
     "name": "stdout",
     "output_type": "stream",
     "text": [
      "2045\n"
     ]
    },
    {
     "name": "stderr",
     "output_type": "stream",
     "text": [
      "\r",
      " 99%|█████████▉| 2046/2065 [05:35<00:03,  4.98it/s]"
     ]
    },
    {
     "name": "stdout",
     "output_type": "stream",
     "text": [
      "2046\n"
     ]
    },
    {
     "name": "stderr",
     "output_type": "stream",
     "text": [
      " 99%|█████████▉| 2048/2065 [05:35<00:03,  5.27it/s]"
     ]
    },
    {
     "name": "stdout",
     "output_type": "stream",
     "text": [
      "2047\n",
      "2048\n"
     ]
    },
    {
     "name": "stderr",
     "output_type": "stream",
     "text": [
      " 99%|█████████▉| 2050/2065 [05:35<00:02,  5.57it/s]"
     ]
    },
    {
     "name": "stdout",
     "output_type": "stream",
     "text": [
      "2049\n",
      "2050\n"
     ]
    },
    {
     "name": "stderr",
     "output_type": "stream",
     "text": [
      " 99%|█████████▉| 2052/2065 [05:36<00:02,  5.71it/s]"
     ]
    },
    {
     "name": "stdout",
     "output_type": "stream",
     "text": [
      "2051\n",
      "2052\n"
     ]
    },
    {
     "name": "stderr",
     "output_type": "stream",
     "text": [
      " 99%|█████████▉| 2054/2065 [05:36<00:02,  5.43it/s]"
     ]
    },
    {
     "name": "stdout",
     "output_type": "stream",
     "text": [
      "2053\n",
      "2054\n"
     ]
    },
    {
     "name": "stderr",
     "output_type": "stream",
     "text": [
      "\r",
      "100%|█████████▉| 2056/2065 [05:36<00:01,  6.04it/s]"
     ]
    },
    {
     "name": "stdout",
     "output_type": "stream",
     "text": [
      "2055\n",
      "2056\n"
     ]
    },
    {
     "name": "stderr",
     "output_type": "stream",
     "text": [
      "100%|█████████▉| 2058/2065 [05:37<00:01,  5.64it/s]"
     ]
    },
    {
     "name": "stdout",
     "output_type": "stream",
     "text": [
      "2057\n",
      "2058\n"
     ]
    },
    {
     "name": "stderr",
     "output_type": "stream",
     "text": [
      "100%|█████████▉| 2060/2065 [05:37<00:00,  5.63it/s]"
     ]
    },
    {
     "name": "stdout",
     "output_type": "stream",
     "text": [
      "2059\n",
      "2060\n"
     ]
    },
    {
     "name": "stderr",
     "output_type": "stream",
     "text": [
      "100%|█████████▉| 2062/2065 [05:38<00:00,  6.35it/s]"
     ]
    },
    {
     "name": "stdout",
     "output_type": "stream",
     "text": [
      "2061\n",
      "2062\n"
     ]
    },
    {
     "name": "stderr",
     "output_type": "stream",
     "text": [
      "100%|█████████▉| 2064/2065 [05:38<00:00,  6.39it/s]"
     ]
    },
    {
     "name": "stdout",
     "output_type": "stream",
     "text": [
      "2063\n",
      "2064\n"
     ]
    },
    {
     "name": "stderr",
     "output_type": "stream",
     "text": [
      "100%|██████████| 2065/2065 [05:38<00:00,  6.10it/s]\n"
     ]
    }
   ],
   "source": [
    "sentiment_scores = [] # create an empty list to hold the sentiment scores\n",
    "for i in tqdm(range(len(df))):\n",
    "    print(i)\n",
    "    review = df['Review'][i][:512] # extract the review from the DataFrame\n",
    "    sentiment_score = sentimental_rattings(review) # calculate the sentiment score\n",
    "    sentiment_scores.append(sentiment_score) # append the score to the list\n",
    "\n",
    "df['Sentiment Score'] = sentiment_scores # add the list of sentiment scores as a new column to the DataFrame\n"
   ]
  },
  {
   "cell_type": "code",
   "execution_count": null,
   "metadata": {
    "colab": {
     "base_uri": "https://localhost:8080/",
     "height": 206
    },
    "id": "cGHi1wVIWZK0",
    "outputId": "5998ffee-30db-4d46-a833-d52c97bff428"
   },
   "outputs": [
    {
     "data": {
      "text/html": [
       "\n",
       "  <div id=\"df-28c2abe6-82af-47b8-a302-e93b84f554f8\">\n",
       "    <div class=\"colab-df-container\">\n",
       "      <div>\n",
       "<style scoped>\n",
       "    .dataframe tbody tr th:only-of-type {\n",
       "        vertical-align: middle;\n",
       "    }\n",
       "\n",
       "    .dataframe tbody tr th {\n",
       "        vertical-align: top;\n",
       "    }\n",
       "\n",
       "    .dataframe thead th {\n",
       "        text-align: right;\n",
       "    }\n",
       "</style>\n",
       "<table border=\"1\" class=\"dataframe\">\n",
       "  <thead>\n",
       "    <tr style=\"text-align: right;\">\n",
       "      <th></th>\n",
       "      <th>index</th>\n",
       "      <th>Unnamed: 0</th>\n",
       "      <th>Destination_link</th>\n",
       "      <th>Review</th>\n",
       "      <th>Sentiment Score</th>\n",
       "    </tr>\n",
       "  </thead>\n",
       "  <tbody>\n",
       "    <tr>\n",
       "      <th>0</th>\n",
       "      <td>0</td>\n",
       "      <td>0</td>\n",
       "      <td>9376</td>\n",
       "      <td>Thank you for help making my honeymoon a memor...</td>\n",
       "      <td>5</td>\n",
       "    </tr>\n",
       "    <tr>\n",
       "      <th>1</th>\n",
       "      <td>1</td>\n",
       "      <td>1</td>\n",
       "      <td>9376</td>\n",
       "      <td>Our guide really made the tour great. The dest...</td>\n",
       "      <td>5</td>\n",
       "    </tr>\n",
       "    <tr>\n",
       "      <th>2</th>\n",
       "      <td>2</td>\n",
       "      <td>2</td>\n",
       "      <td>9376</td>\n",
       "      <td>I really appreciate everything that Travel Tal...</td>\n",
       "      <td>5</td>\n",
       "    </tr>\n",
       "    <tr>\n",
       "      <th>3</th>\n",
       "      <td>3</td>\n",
       "      <td>3</td>\n",
       "      <td>9376</td>\n",
       "      <td>Overall it was such a surreal and fun experien...</td>\n",
       "      <td>4</td>\n",
       "    </tr>\n",
       "    <tr>\n",
       "      <th>4</th>\n",
       "      <td>4</td>\n",
       "      <td>4</td>\n",
       "      <td>9376</td>\n",
       "      <td>I really enjoyed me tour it was excellent. I m...</td>\n",
       "      <td>5</td>\n",
       "    </tr>\n",
       "  </tbody>\n",
       "</table>\n",
       "</div>\n",
       "      <button class=\"colab-df-convert\" onclick=\"convertToInteractive('df-28c2abe6-82af-47b8-a302-e93b84f554f8')\"\n",
       "              title=\"Convert this dataframe to an interactive table.\"\n",
       "              style=\"display:none;\">\n",
       "        \n",
       "  <svg xmlns=\"http://www.w3.org/2000/svg\" height=\"24px\"viewBox=\"0 0 24 24\"\n",
       "       width=\"24px\">\n",
       "    <path d=\"M0 0h24v24H0V0z\" fill=\"none\"/>\n",
       "    <path d=\"M18.56 5.44l.94 2.06.94-2.06 2.06-.94-2.06-.94-.94-2.06-.94 2.06-2.06.94zm-11 1L8.5 8.5l.94-2.06 2.06-.94-2.06-.94L8.5 2.5l-.94 2.06-2.06.94zm10 10l.94 2.06.94-2.06 2.06-.94-2.06-.94-.94-2.06-.94 2.06-2.06.94z\"/><path d=\"M17.41 7.96l-1.37-1.37c-.4-.4-.92-.59-1.43-.59-.52 0-1.04.2-1.43.59L10.3 9.45l-7.72 7.72c-.78.78-.78 2.05 0 2.83L4 21.41c.39.39.9.59 1.41.59.51 0 1.02-.2 1.41-.59l7.78-7.78 2.81-2.81c.8-.78.8-2.07 0-2.86zM5.41 20L4 18.59l7.72-7.72 1.47 1.35L5.41 20z\"/>\n",
       "  </svg>\n",
       "      </button>\n",
       "      \n",
       "  <style>\n",
       "    .colab-df-container {\n",
       "      display:flex;\n",
       "      flex-wrap:wrap;\n",
       "      gap: 12px;\n",
       "    }\n",
       "\n",
       "    .colab-df-convert {\n",
       "      background-color: #E8F0FE;\n",
       "      border: none;\n",
       "      border-radius: 50%;\n",
       "      cursor: pointer;\n",
       "      display: none;\n",
       "      fill: #1967D2;\n",
       "      height: 32px;\n",
       "      padding: 0 0 0 0;\n",
       "      width: 32px;\n",
       "    }\n",
       "\n",
       "    .colab-df-convert:hover {\n",
       "      background-color: #E2EBFA;\n",
       "      box-shadow: 0px 1px 2px rgba(60, 64, 67, 0.3), 0px 1px 3px 1px rgba(60, 64, 67, 0.15);\n",
       "      fill: #174EA6;\n",
       "    }\n",
       "\n",
       "    [theme=dark] .colab-df-convert {\n",
       "      background-color: #3B4455;\n",
       "      fill: #D2E3FC;\n",
       "    }\n",
       "\n",
       "    [theme=dark] .colab-df-convert:hover {\n",
       "      background-color: #434B5C;\n",
       "      box-shadow: 0px 1px 3px 1px rgba(0, 0, 0, 0.15);\n",
       "      filter: drop-shadow(0px 1px 2px rgba(0, 0, 0, 0.3));\n",
       "      fill: #FFFFFF;\n",
       "    }\n",
       "  </style>\n",
       "\n",
       "      <script>\n",
       "        const buttonEl =\n",
       "          document.querySelector('#df-28c2abe6-82af-47b8-a302-e93b84f554f8 button.colab-df-convert');\n",
       "        buttonEl.style.display =\n",
       "          google.colab.kernel.accessAllowed ? 'block' : 'none';\n",
       "\n",
       "        async function convertToInteractive(key) {\n",
       "          const element = document.querySelector('#df-28c2abe6-82af-47b8-a302-e93b84f554f8');\n",
       "          const dataTable =\n",
       "            await google.colab.kernel.invokeFunction('convertToInteractive',\n",
       "                                                     [key], {});\n",
       "          if (!dataTable) return;\n",
       "\n",
       "          const docLinkHtml = 'Like what you see? Visit the ' +\n",
       "            '<a target=\"_blank\" href=https://colab.research.google.com/notebooks/data_table.ipynb>data table notebook</a>'\n",
       "            + ' to learn more about interactive tables.';\n",
       "          element.innerHTML = '';\n",
       "          dataTable['output_type'] = 'display_data';\n",
       "          await google.colab.output.renderOutput(dataTable, element);\n",
       "          const docLink = document.createElement('div');\n",
       "          docLink.innerHTML = docLinkHtml;\n",
       "          element.appendChild(docLink);\n",
       "        }\n",
       "      </script>\n",
       "    </div>\n",
       "  </div>\n",
       "  "
      ],
      "text/plain": [
       "   index  Unnamed: 0  Destination_link  \\\n",
       "0      0           0              9376   \n",
       "1      1           1              9376   \n",
       "2      2           2              9376   \n",
       "3      3           3              9376   \n",
       "4      4           4              9376   \n",
       "\n",
       "                                              Review  Sentiment Score  \n",
       "0  Thank you for help making my honeymoon a memor...                5  \n",
       "1  Our guide really made the tour great. The dest...                5  \n",
       "2  I really appreciate everything that Travel Tal...                5  \n",
       "3  Overall it was such a surreal and fun experien...                4  \n",
       "4  I really enjoyed me tour it was excellent. I m...                5  "
      ]
     },
     "execution_count": 38,
     "metadata": {},
     "output_type": "execute_result"
    }
   ],
   "source": [
    "df.head()"
   ]
  },
  {
   "cell_type": "code",
   "execution_count": null,
   "metadata": {
    "colab": {
     "base_uri": "https://localhost:8080/"
    },
    "id": "MQyrkg-csj8y",
    "outputId": "f4cf48a7-5023-45e9-d050-20f28e3f821f"
   },
   "outputs": [
    {
     "name": "stderr",
     "output_type": "stream",
     "text": [
      "  8%|▊         | 161/2065 [00:00<00:01, 1534.85it/s]"
     ]
    },
    {
     "name": "stdout",
     "output_type": "stream",
     "text": [
      "0\n",
      "Thank you for help making my honeymoon a memorable experience. Well done Travel Talk.\n",
      "1\n",
      "Our guide really made the tour great. The destinations we visited were very interesting and educational. Overall was a great tour. Long drives but the perfect amount of stops on the way. Loved India\n",
      "2\n",
      "I really appreciate everything that Travel Talk has done to made my holiday as memorable, as can be. I will definitely make sure to book my next tour with Travel Talk again sincerely\n",
      "3\n",
      "Overall it was such a surreal and fun experience. The people who we met on the tour were amazing and the guide made the experience so much better than we ever thought it would be. This trip would be great for anyone who's sociable and likes to party...\n",
      "\n",
      "            Show more\n",
      "4\n",
      "I really enjoyed me tour it was excellent. I meet great people and learn so much. I would definitely recommend this to anyone and recommend Travel Talk. The guide was excellent and the bus drivers would be great. Also the Travel Talk were great.\n",
      "5\n",
      "Was one of the best tours I’ve ever joined. Thanks Travel Talk for the great service and amazing time spent on the tour. The tour was well organized, our tour leader Deve was very helpful and informative. All the hotels we stayed were 4 star and...\n",
      "\n",
      "            Show more\n",
      "6\n",
      "So many wonderful places visited in 8 days , well organized , great and knowledgeable guides , good accommodation , India is amazing .\n",
      "7\n",
      "This was my first time traveling with Travel Talk. I absolutely loved this tour.  From the moment I landed in Delhi, everything was efficient and well planned. \r\n",
      "Transfers to and from the airport were included. The intinerary was jam packed, but always...\n",
      "\n",
      "            Show more\n",
      "8\n",
      "The tour covers the basics but myself and friend Amanda took a private walking spice market tour the day we flew out. Was 4 hours long and was one of the better experiences of the trip. You can pick and choose what meals you want to or not want to eat...\n",
      "\n",
      "            Show more\n",
      "9\n",
      "My Fiancé and I did the 8-day golden triangle tour which was a great way of seeing a lot in a relatively short space of time. We only had 5 people on our tour which was perfect for having company whilst not making it too difficult to make group...\n",
      "\n",
      "            Show more\n",
      "10\n",
      "Ragu was one the best guides i ever had in all my tours. He gave great information and was very helpful in sorting out any extra needs you had. I would highly recommend this tour to anyone with limited time. Just plan at least one day in Delhi if you...\n",
      "\n",
      "            Show more\n",
      "11\n",
      "GreT tour of a very small part of India! The tour and guide were great and we saw a lot. As a solo female traveler, I wanted to see the sights there, but was nervous. This is the only way I’d go there and it was perfect and I felt safe with the group.\n",
      "12\n",
      "Great tour of a very small portion of India. Our guide Anu was awesome! I took a tour as a solo female traveler and was so glad I did. I wouldn’t have wanted to navigate all of that in my own and G Adventures took care of everything.\n",
      "13\n",
      "I had a great experience. Overall enjoyed the tour and the tour guide. I wished the hotel selection could have been better. A couple hotels were not up to the standard that I hoped for as well as the group.\n",
      "14\n",
      "Jam packed days and nights experiencing the REAL INDIA , from the backstreets of Delhi to the mesmerising  Taj Mahal .\n",
      "\n",
      "Abi , a wonderful story teller , took us back in time with his vast knowledge of local history and passion for his country .\n",
      "15\n",
      "An amazing journey that I thoroughly enjoyed on The Golden Triangle Tour. I loved learning about the culture and seeing such beautiful architecture and hearing the wonderful associated stories. The Kite festival was brilliant, our tour guide 'Manu' was...\n",
      "\n",
      "            Show more\n",
      "16\n",
      "It was one of the best decisions we made to join a g adventures tour ,from start to finish everything was well organised. The guide Shaz was so helpful and knowledgable i it made the tour\n",
      "17\n",
      "It was an awesome tour with a great CEO and super group of people! Would definitely recommend :)\n",
      "18\n",
      "Overall a good experience.  With the exception of the accommodations in the village, the rest of the accommodations were inadequate. Breakfast should be included with the tour. As a result of having to buy breakfast much time were wasted in the...\n",
      "\n",
      "            Show more\n",
      "19\n",
      "The whole experience was amazing, everything was well planned and ran smoothly. The guides were very informative and friendly. \r\n",
      "Our tour guide Gaurav was absolutely awesome and would recommend him to anyone.\r\n",
      "Very well done\n",
      "20\n",
      "It was a very good trip. Saw the best of India in just 11 days. Accommodations were excellent. The guides and driver were fantastic.\n",
      "21\n",
      "When we booked this tour we were nervous as this was our first time to India. This tour completely change our thoughts about India. Everyone was very welcoming and helpful. Our driver Giri and all guides were super amazing. We made new friends. I...\n",
      "\n",
      "            Show more\n",
      "22\n",
      "I had an amazing whirlwind 11-day solo tour through Rajasthan and saw some amazing historic monuments, arts, culture, street life.\n",
      "The itinerary was overall really good, sometimes a bit packed with sightseeing and visiting a lot of places in one day and...\n",
      "\n",
      "            Show more\n",
      "23\n",
      "Very good driver for just me, 1 person.\n",
      "Good hotels.\n",
      "Low price for 11 days.\n",
      "24\n",
      "I booked this tour for my 25th anniversary and I couldn’t have asked for more. Itinerary was lovely. Tour guides were excellent. And all hotels were amazing. No better way to celebrate your anniversary.\n",
      "25\n",
      "Just finished this wonderful tour. I must say services of Swastik India Journeys were excellent. Karni was always there to assist us. I highly recommend this tour if this is your first time to India. You’ll love it!!\n",
      "26\n",
      "We did enjoy the tour and saw many interesting places and stayed in some amazing hotels, But you need to know the following things to make your tours better. Excellent hotel choices and places to visit. The city guides were very good but didnt like the...\n",
      "\n",
      "            Show more\n",
      "27\n",
      "We have just finished the tour which started on 27th of December. In general, the itinerary is good and allows to see many beautiful places. We were happy that we spent our holidays on this tour. \r\n",
      "We were lucky to have an excellent driver Rahul Kumar...\n",
      "\n",
      "            Show more\n",
      "28\n",
      "Wonderful itinerary.Best 11 days in India. Highly recommended.\n",
      "29\n",
      "It was a great experience, the tour provider provided what he said he would.  There was a lot of driving but we were warned about that, trip definitely worth it!\n",
      "30\n",
      "Booked a tour for a group tour, but as no one else booked we had a private tour! \n",
      "For the value the tour is fantastic! \n",
      "\n",
      "Our driver was great and all guides super friendly! \n",
      "\n",
      "Don’t be expecting amazing accommodation, however the accommodation was good...\n",
      "\n",
      "            Show more\n",
      "31\n",
      "The best trip ever!! Experienced many things in just 05 days. Huge thanks to Karni for organising everything so professionally.\n",
      "32\n",
      "Our tour had a mixture of highs and lows.\n",
      "The high being our driver Pradeep. He was fantastic. He was a gentleman and attentive to our needs. We cannot fault him and HIGHLY recommend him.\n",
      "The Taj Mahal and our accommodation in Jaipur were other...\n",
      "\n",
      "            Show more\n",
      "33\n",
      "The tour was brilliant and well organised by the company. The drivers and tour guides were flexible in our requests and took us to the places we wanted to see. There was no pressure to see sights even though they were on our agenda. The company...\n",
      "\n",
      "            Show more\n",
      "34\n",
      "Our driver and all the tour guides were amazing. Everything was well planned and we were given plenty of time to enjoy the different sites.\n",
      "I am only giving them four stars because our hotel in Agra was not that good, I understand it is not their fault...\n",
      "\n",
      "            Show more\n",
      "35\n",
      "we experienced the best tour ever in the golden triangle of India.  all the guides were perfect in every aspect, we also had the best driver in all of india for the whole tour.  everything was perfectly arranged down to the last detail.  really...\n",
      "\n",
      "            Show more\n",
      "36\n",
      "Our experience with Swastik India Journeys was amazing. We would definitely book with Swastik India again!!\n",
      "37\n",
      "I firstly have to say the driver Pramod has been excellent and he always made sure we are comfortable and provided excellent service. The guide in Delhi and Agra was good but the guide in Jaipur was not friendly. The guide in Jaipur was not prioritising...\n",
      "\n",
      "            Show more\n",
      "38\n",
      "It was an excellent tour. Loved our time in India.\n",
      "39\n",
      "Loved the trip. Saw some amazing places and met some interesting people.\n",
      "40\n",
      "Our driver for the entire tour, Ram, was fantastic and we really enjoyed his humour and company throughout the 5 days. Food locations were also good and clean. Our guides in Delhi, Shiva - and in Agra, Amit - were pleasant and informative. Our guide in...\n",
      "\n",
      "            Show more\n",
      "41\n",
      "Superb Trip , Superb Guides and above all my driver through out the trip . \n",
      "Thank you team\n",
      "42\n",
      "Very friendly staff. Everything was planned and organized to the minute. I really enjoyed this tour and all I learned from my guides.\n",
      "43\n",
      "The tour was well organized. We were very happy, that our driver was always on time, the car was spacious and clean and the hotels were better than expected. Very good food and clean.\n",
      "Two out of four local tour guides got us into conversations and\n",
      "44\n",
      "Ajit Singh, my driver, was very considerate and awesome. I also really liked my tour guide Shiva in New Delhi, Amit in Agra, and Krishnan in Jaipur. \n",
      "\n",
      "However the tour in Sikri was very bad. There were beggars in the fort. Our tour guide was average....\n",
      "\n",
      "            Show more\n",
      "45\n",
      "I started this tour directly when I came to Delhi. It was great to get adjusted and to visit all the important monuments in just a few days. \n",
      "My driver and tour guides where very nice, taking good care of me and adjust short term for example because of...\n",
      "\n",
      "            Show more\n",
      "46\n",
      "We did this 5 day tour at the beginning of our India journey and it was perfect. Very well organized, planned and executed. Everyone was very friendly, knowledgeable and helpful - especially our personal driver Mahendra Singh. \n",
      "The only thing we...\n",
      "\n",
      "            Show more\n",
      "47\n",
      "We had a great time during this trip . Special thanks to the members of this company who made this trip really great . Good hotels , good guides & overall a good coordination .\n",
      "48\n",
      "We had a memorable trip that was arranged as per our request including sunset and sunrise view of Taj Mahal. Our trip planner, Mr. Arun From K K Holidays was very helpful and easily reachable. Would definitely recommend this company for an Incredible...\n",
      "\n",
      "            Show more\n",
      "49\n",
      "K K holidays and their guides / drivers were all great to work with. I spent a great time on this tour. It was a great experience. Really appreciated the services.\n",
      "50\n",
      "Just returned from my trip to India and I can only say “Thank you World Travel Experiences for making my trip so memorable!” From the moment I booked, I felt great support from the company. Everyone -- from their booking agents to the tour guides,...\n",
      "\n",
      "            Show more\n",
      "51\n",
      "Unfortunately due to the cornavirus and the cancellation of visas our tour group only consisted of two. We were a little disappointed not to have more people to interact with but it was beyond anyone’s control.\n",
      "52\n",
      "Guides and drivers were very good. Hotels had no facilities such as bar and meals very restricted. Just curries really. Service good though in hotels.\n",
      "53\n",
      "As a solo traveler, safety and local guidance is key. Tour radar provided both.\n",
      "54\n",
      "Our drivers and guides were very good as well as the hotels and breakfasts. The sites we saw were well-planned. The overnight train ride although first class was adequate but we were expecting a bit better for first class. Thanks.\n",
      "55\n",
      "I spent time almost a month in 5 cities in India with this tour. They allowed me to customized the plan and the places I wanted to visit to suit my requirement. All the staff, the driver, and local guides are good and helpful. I would recommend World...\n",
      "\n",
      "            Show more\n",
      "56\n",
      "We travelled with WTX by car between Delhi, Jaipur, Agra and Varanasi. The package was arranged by Anil and even included transport to the event (October). Our driver was excellent plus there were guides arranged to show us around and explain in detail...\n",
      "\n",
      "            Show more\n",
      "57\n",
      "It is a very good value tour. You just need to double check that the itinery is as printed and not the subject of change.\n",
      "58\n",
      "Our driver Mukesh was the absolute best!! he kept us safe, took us to places we wanted to visit and was always ready on a moments notice.\n",
      "59\n",
      "We spent 8 days in Delhi, Jaipur, Agra and Varanasi. From the outset, people who have gone through world travel experiences around have been incredibly helpful and friendly. Me and Wife traveled with our children. And all our accommodations were perfect...\n",
      "\n",
      "            Show more\n",
      "60\n",
      "The driver was exceptional. The hotels were acceptable at best.\n",
      "61\n",
      "This tour was great and met my needs perfectly. VIKRIM Singh, my driver was exceptional. He's an excellent driver and he really looked out for my well being. Amit Kumar was great at keeping me informed, answering questions and checking in with me during...\n",
      "\n",
      "            Show more\n",
      "62\n",
      "We had a great trip! Packed a lot in. We appreciated how we were able to modify the itinerary a bit to fit our desires. This was a lot of fun and I would definitely recommend it!\n",
      "63\n",
      "It was a great tour of the Golden Triangle with Yolo India.\n",
      "Good itinerary and great service\n",
      "64\n",
      "Overall the tour was very good and very enjoyable despite the hot weather. For me the Delhi City Tour was a bit too rushed because there were too many places to cover. The home visit was excellent.\n",
      "Both the Agra and Jaipur tours were excellent and very...\n",
      "\n",
      "            Show more\n",
      "65\n",
      "From the moment we were picked up from the airport until the last day of our tour, this company is the most professional we have ever used. Each day was planned out with such care and every place we visited was full of unique experiences. Hotels...\n",
      "\n",
      "            Show more\n",
      "66\n",
      "The whole experience was amazing, just finished this tour and i was surprised how well organised everything was, i got to see many beautiful places. Loved all the activities  home cooked meal, meeting local family, Sunrise Taj mahal and rural village...\n",
      "\n",
      "            Show more\n",
      "67\n",
      "We were so happy to book our first trip to India with Yolo India Tours. Everything was taken care of and we had absolutely nothing to worry about. All the hotels were comfortable and clean. The stay at haveli in Jaipur was an experience of lifetime....\n",
      "\n",
      "            Show more\n",
      "68\n",
      "We really couldn’t have asked for more. Tourradar made finding the right tour very easy. We relied on the reviews to make our choice and we weren’t disappointed. The communication was excellent. Everything about this tour gets a 5 star rating from us,...\n",
      "\n",
      "            Show more\n",
      "69\n",
      "We had a great time exploring the Golden triangle. The highlight was visiting a rural village and riding a camel. We didn't enjoy the sights where we didn't have a guide. It seemed like a waste of time and money. I would definitely recommend.\n",
      "\n",
      "I agree...\n",
      "\n",
      "            Show more\n",
      "70\n",
      "I thought World Travel Experiences were excellent. With the acceptation of one hotel I though all the accommodation was good, the tour guides were great and my driver was excellent.\n",
      "71\n",
      "We (group of 5)had arranged for a tour of Ranthambore and Jaipur through World Travel Experiences. Had a great time and will cherish the memories for lifetime. Mr. Rituraj of World Travel Experiences was extremely helpful in finalizing the itinerary for...\n",
      "\n",
      "            Show more\n",
      "72\n",
      "Our driver Pravin Monu made our trip.He is a excellent driver and speaks very good English. Monu made sure we saw all the places listed on our program and looked after our safety.\n",
      "73\n",
      "The tour guide that I had in Agra named Ali was the best tour guide I have ever had. And being in India it was nice to have a safe and conscientious driver Mr. Singh.\n",
      "74\n",
      "This tour was absolutely amazing!  The guide on the first day, took us to a handmade rug factory and jeweler, which was not on the list so we did not get to see the New Delhi, but otherwise he was very kind and showed us the Mosque, old Delhi and...\n",
      "\n",
      "            Show more\n",
      "75\n",
      "Fantastic. The tour, car, meals, the guides, the suggestions, all demostrate the experience of this enterprice.\n",
      "76\n",
      "The only thing is guides took us to most expensive places for shopping where we were ripped off.  Driver will also stop only at the restaurant where the food was not healthy even after requesting to take to simple eating places. They need to put...\n",
      "\n",
      "            Show more\n",
      "77\n",
      "Your was fun and a fact filled.\n",
      "78\n",
      "It was a fantastic experience, the guides and driver were excellent. I recommend this service\n",
      "79\n",
      "The tour was professional planned and coordinated.  Guides we very knowledgeable and spoke good English.  Hotels were 3 to 3.5 stars.  Our driver for 7 days was exceptional.  An excellent driver,  prompt,  curious, well spoke English, pointed out sites...\n",
      "\n",
      "            Show more\n",
      "80\n",
      "The tour was truly amazing! I loved every minute of it.\n",
      "81\n",
      "While it did feel rushed at times, having our guide Vik around made the often hectic situations feel manageable. With his help we were able to see an incredible amount of India given our short stay!\n",
      "Vik worked really hard to bond our group together and...\n",
      "\n",
      "            Show more\n",
      "82\n",
      "There's a lot of wasted time on this tour, both in terms of spending time on trains for 6+ hours and the places you span the most time (I was sick of Varanasi by the second day there). The accommodation was disappointing, because many of the hotels did...\n",
      "\n",
      "            Show more\n",
      "83\n",
      "Very fast paced but perfect for seeing everything I wanted to see in such a short amount of time. Had a good balance between organised time and doing your own thing. Got to experience a lot of the local transport. Very well organised\n",
      "84\n",
      "Bucket list trip! Well organized, felt extremely safe and its truly incredible how much we were able to see! Highly recommend!!\n",
      "85\n",
      "Fantastic trip. Highly recommend. Quite fast paced and suited to a younger crowd.\n",
      "86\n",
      "Fantastic tour. It was great that all transportation and accommodation was included. Thanks to this we could safe our energy for truly immersing into the experience. Lipika was an amazing CEO. Organized, fun, flexible, knowledgeable. Definitely a great...\n",
      "\n",
      "            Show more\n",
      "87\n",
      "The tour was fantastic! I learnt so much with some great people\n",
      "88\n",
      "An amazing experience, our guide was great and I would definitely book a tour with g adventures again!\n",
      "89\n",
      "I really love it. The way we did it like locals. Using tuks tuks train and etc.\n",
      "90\n",
      "If you're looking for an informative tour with lots packed in over a short space of time, look no further! There are so many sites to see in these three cities, and the guides were very accommodating when I wanted to alter the itinerary. My driver,...\n",
      "\n",
      "            Show more\n",
      "91\n",
      "The golden triangle tour was an amazing and memorable experience for me as a solo woman traveler in India. If you want your trip to be arranged in a way you want with no worries, then this the tour! Looking forward to travel again with them.\n",
      "92\n",
      "The tour allowed maximal use of our time to see this beautiful part of the world. A couple of days, the tour offered more than we could do and the driver and guides were very flexible in letting us choose our experiences. The knowledge of the guides...\n",
      "\n",
      "            Show more\n",
      "93\n",
      "The trip was perfectly organized, completely flexible so that we could adapt the trip to our own wish. Driver and guides were always friendly, helpful and give us all information we need. We will recommend everyone to travel with this agency.\n",
      "94\n",
      "Our Golden triangle trip was outstanding, amazing, very informative and very well organized. Our tour guides did outstanding job in this tour. They were very knowledgeable. They made our tour so memorable. Our vehicle was so comfortable and it was in...\n",
      "\n",
      "            Show more\n",
      "95\n",
      "This trip has exceeded our expectations in every way. Our driver has delivered us safely to each of our destinations and has done it with a smile. He was always on time. Our guides have been very good with good English.\n",
      "96\n",
      "I would thoroughly recommend this tour for those who want a glimpse of Indian culture and history with only a few days available. January is also a good month to travel as the climate is pleasant.\n",
      "97\n",
      "Awesome journey exceeded all of my expectations and covered a lot of ground.\n",
      "Initially, all I wanted to do was see the Taj Mahal, but when I learned about this tour, I decided to take a chance and learn more.\n",
      "The tour guides were delightful and...\n",
      "\n",
      "            Show more\n",
      "98\n",
      "Excellent programme, excellents chauffeur and guides. It was easy to book for this progarm by internet and then to extend for one day in Delhi when we arrive. The choice of the guide in Delhi was really good.\n",
      "99\n",
      "I highly advise taking this tour!\n",
      "Our every need was catered to, with the same excellent driver taking us to all the cities and a very comfy vehicle for the lengthy travels.\n",
      "The tour guides were knowledgeable natives with a fantastic sense of humour in...\n",
      "\n",
      "            Show more\n",
      "100\n",
      "our tuor guide A Jay Shing was the best we had and we have been traveling the world\n",
      "101\n",
      "Overall, we enjoyed our tour of India. The culture there is so different than any other place we have travelled, leaving even seasoned travelers a bit shell shocked. Highlights were the Taj, never expected to be so impressed with it as we have seen a...\n",
      "\n",
      "            Show more\n",
      "102\n",
      "Exellent..!  Guide was knowledgable and really good hotels\n",
      "103\n",
      "This trip was challenging. The overall itinerary and the cities we visited were good but I have many points of feedback:\n",
      "- Most important: rooms in winter should have basic necessities like heating and hot water.\n",
      "- People who book the basic tour should...\n",
      "\n",
      "            Show more\n",
      "104\n",
      "Amazing adventure, our tour leader was great.\n",
      "105\n",
      "Maddy the guide was excellent. The trip was great, although could have done with a day less in Varanasi and a day extra in Agra, but all in all would highly recommend it. It's full on - if it's your first time in India (or even if not!) prepare to be...\n",
      "\n",
      "            Show more\n",
      "106\n",
      "Great tour of North India, enjoyed all the experiences even the train journey’s\r\n",
      "We had an excellent guide and I enjoyed being art of a team.\n",
      "107\n",
      "The tour guide was great, very knowledgeable and accommodating. Some of the elements felt like a school trip but that’s maybe because I have travelled alone before and am not used to doing everything en mass. Javed was fantastic and no request was too...\n",
      "\n",
      "            Show more\n",
      "108\n",
      "The trip itself was great, however, the tour guide was just ok. Was helpful when had to be but if we didn’t do what he wanted by way of additional activities (which he could make more money off of us) outside of the included ones, he was not ok with this.\n",
      "\n",
      "            Show more\n",
      "109\n",
      "We enjoyed the cities we visited, even though Varanasi was flooded and we arrived super late to Agra. The heritage stay was nice and the optional tour added a great amount to understanding the area.\n",
      "110\n",
      "The tour and accommodation was great but what made the tour was our wonderful tour leader Chiime, to the extent I wrote a poem for her.\n",
      "111\n",
      "One of the best tours i have ever done . Excellent knowledge guide who was passionate about his job and his desire to share his culture and heritage with the group.\n",
      "112\n",
      "Interesting tour, covering some truly remarkable heritage stays. Something a bit different from the standard Rajasthan tours. Our guide/leader, Abhi, was excellent - engaging, helpful, informative and very professional.\n",
      "113\n",
      "Very good- can always rely on Intrepid - an experienced organisation with amiable and competent tour leaders.\n",
      "114\n",
      "We most enjoyed the opportunities afforded us for cultural experiences.  Our guide was excellent and insured we got the fullest experience possible\n",
      "115\n",
      "Our guide not only took away all the stress in trying to travel to a very foreign country but he also shared a huge amount of interesting information with our group.\n",
      "116\n",
      "As an intoduction to India it exceeded all my expectations\n",
      "117\n",
      "Maddy was a fantadtic tour leader, vwry knowledgable about india, culture, specific monuments. Happy to answer all questions and interacted with the whole group with friendlimess and good humour.\n",
      "118\n",
      "The guide and the tour group was very good.\n",
      "119\n",
      "Intrepid always ensures a smooth travel experience. The trip was very well organised.\n",
      "120\n",
      "MTA was a phenomenal company, and saw to my every request. As I traveled privately during a surge in the pandemic, there was added stress related with social distancing and testing, but MTA assisted me with finding test sites, transportation, and safe...\n",
      "\n",
      "            Show more\n",
      "121\n",
      "The trip was incredible. Our travel company organised a wonderful trip. \r\n",
      "All of the guides and pick ups were on time and first class. The food was also very delicious in every city. I would like to go once again with this travel company.\n",
      "122\n",
      "I travelled to ladakh last year with Mta Destinations and had a wonderful experience throughout the tour. The tour was very well operated with all the safety precautions , the anemities provided were all very good .\r\n",
      "\r\n",
      "Thank you Mta \r\n",
      "Hope to travel...\n",
      "\n",
      "            Show more\n",
      "123\n",
      "The tour was supremely well organised and the historic places we went to were beautiful. The programme was varied, and included a walk through a village and a visit to a rural school. I was surprised and delighted by two of the hotels being heritage...\n",
      "\n",
      "            Show more\n",
      "124\n",
      "I would love to say this tour was a great introduction to India and its customs and world renown sights but sadly this is not true.\n",
      "\n",
      "Whilst on paper the tour was set out to be a fantastic experience... what transpired was a quite let down. This was...\n",
      "\n",
      "            Show more\n",
      "125\n",
      "This was a well paced tour, expertly guided by an awesome individual. I will definitely visit India again.\n",
      "126\n",
      "Great tour and holiday giving wonderful appreciation of the vastly varied Culture of India.\n",
      "127\n",
      "Have just returned from this Taj/Holi tour, and need to say how wonderful it was. Sat, our tour leader was fantastic, our bus driver Goldy was excellent, and Manjeet was very helpful. I will definitely return to India. A beautiful place. So pleased I...\n",
      "\n",
      "            Show more\n",
      "128\n",
      "This is my second on the go tour to India , loved every minute , places and guides were great. As a solo traveller I have no hesitation in recommending OTG to anyone\n",
      "129\n",
      "The 'God's own Country' Tour was very well planned out to provide a number of contrasting experiences in a short time. We really appreciated that our tour guide kept in touch with us and our driver and managed at one point to upgrade one of our Hotel...\n",
      "\n",
      "            Show more\n",
      "130\n",
      "Although I was the only person that booked, the tour still happened (I would personally prefer to have a few more people on the tour). Everything went according to plan. The same cab driver took me to all the places throughout the 7 days. The...\n",
      "\n",
      "            Show more\n",
      "131\n",
      "We (6 people) organised a 16 days trip in India with Bout India, travelling between Chennai and Kochi. Bout India was very reactive and answered very quickly when we asked some modifications.\r\n",
      "Bout India followed us along our trip sending messages...\n",
      "\n",
      "            Show more\n",
      "132\n",
      "The tour was well planed, the hotels first rate and the drivers and guides were good and on time. We had a great time and looking forward for more\n",
      "133\n",
      "My tour started and ended in Cochin. BoutIndia Tours were very professional in every way. The driver/guide Nauful was always proficient, polite and careful. His driving was excellent. The variety of places visited and the activities provided were...\n",
      "\n",
      "            Show more\n",
      "134\n",
      "I found Bout India through an internet search. Like anything unknown I was weary at first, but because of the immediate response I felt as though they were taking me seriously. Within days we had corresponded several times and had the basis of a tour....\n",
      "\n",
      "            Show more\n",
      "135\n",
      "\"Himanshu was brilliant, nothing was too much trouble, we contacted him a few times during the trip with questions and got reply’s very quickly. Our driver Sajan was great too always on time, very safe driver and very helpful Every resort was wonderful,...\n",
      "\n",
      "            Show more\n",
      "136\n",
      "The trip was well organized and everybody was in time. We have seen a lot of the monuments. The driver was very friendly and never late. Unfortunately his english could be improved a little bit.\n",
      "The reason why we reduced the overall rating is that there...\n",
      "\n",
      "            Show more\n",
      "137\n",
      "It is a great option for people who want to visit India but are short on time\n",
      "138\n",
      "World Travel Experiences were amazing. Their service was outstanding from airport pick-up until the end of my tour. I didn't have to worry about anything, it was all taken care of. The various guides were all very knowledgeable and made the sightseeing...\n",
      "\n",
      "            Show more\n",
      "139\n",
      "WTX were flawless from the minute that we landed. The representative that met us at the airport was friendly and welcoming, once we checked into our hotel he ran through the itinerary with us once again before leaving us to spend the day at our...\n",
      "\n",
      "            Show more\n",
      "140\n",
      "We are 4 friends visited India with World Travel Experiences for a 7 days golden triangle tour of India. World Travel Experiences has created a wonderful journey through which we have traveled north of india cities delhi jaipur and agra. Highlights of...\n",
      "\n",
      "            Show more\n",
      "141\n",
      "We, 4 people with a family, visited Incredible Golden Triangle for 7 days Delhi Agra and Jaipur tour in September of this year. It was a pleasure to work with World Travel Experiences. Everyone, including guides, driver and Rituraj, has worked hard to...\n",
      "\n",
      "            Show more\n",
      "142\n",
      "We chose world travel experiences based on reviews and we were not disappointed. We were met at the airport and from then on, we were in the hands of a terrific driver malik and knowledgeable and personable guides at each stop. The company was flexible...\n",
      "\n",
      "            Show more\n",
      "143\n",
      "This trip was AMAZING. The pick-up/drop-off at the hotel, drive to Agra, Jaipur and Delhi was a my trip for a life time and tour guides were perfect. The sites were breathtaking and knowledge of the guide was excellent. My driver and guide were very...\n",
      "\n",
      "            Show more\n",
      "144\n",
      "Must admit, World travel Experiences have done an excellent job, while making the itinerary for India for us. Though I was nervous at first, but these guys have done a fabulous job, taking care of all our needs. The hotels chosen were great, and the...\n",
      "\n",
      "            Show more\n",
      "145\n",
      "World Travel experiences a big round of applause for arranging a great tour for us. Everything was taken cared off so well, and so efficiently. From transport to the hotels, optional activities and ofcourse our guide, Excellent! Really appreciate your...\n",
      "\n",
      "            Show more\n",
      "146\n",
      "The tour was great. Well organised and well run by Javid ,my guide. \n",
      "I found that I got tired quickly and he adapted what was expected of me. The driver was also very reassuring with nerves of steel. I felt safe and was looked after throughout the trip.\n",
      "147\n",
      "The guide, Javed, could not have been less interested in his job. He was aloof and unfriendly. The hotel in Delhi was awful. Like, seriously awful. Other accommodations were pretty much okay, and full of other Intrepid Tour groups. \r\n",
      "As far as the...\n",
      "\n",
      "            Show more\n",
      "148\n",
      "G was an amazing guide. He went above and beyond in every instance to ensure that EVERY passenger was catered for. A wonderful tour with heaps to see and do. The Taj Mahal was my absolute favourite - a dream come true.\n",
      "149\n",
      "Great itinerary- good use of 8 days.\n",
      "150\n",
      "I want to commend our guide Akanksha. She was pulled off her holiday to cover an emergency with our original guide. She was suppose to be going home and relaxing, but joined our tour at the last minute and was a caring, competent and flexible guide who...\n",
      "\n",
      "            Show more\n",
      "151\n",
      "Great itinerary, great people and fantastic tour leader (Akanksha Tanwar).\n",
      "152\n",
      "I had a fantastic experience on my Intrepid tour. No need to worry about accommodation and transport and all the included/optional activities are excellent. My tour leader was wonderful - professional, informative and caring. I felt very safe with her...\n",
      "\n",
      "            Show more\n",
      "153\n",
      "I thought this trip was excellent and was managed extremely well.\n",
      "154\n",
      "Konika was an amazing guide and India has incredible culture that everyone should experience\n",
      "155\n",
      "Overall it was a good trip.\n",
      "156\n",
      "An amazing life changing experience with wonderful memories\n",
      "157\n",
      "It was very educational regarding the life, history and religions of India. The tiger safaris at Ranthambore National Park Safari were particularly interesting, saw tiger, leopard, crocodiles and deer etc.\n",
      "158\n",
      "A packed itinery made sure we saw and did lots of things. It wasn't arduous but we covered a lot of ground.\n",
      "159\n",
      "Great fun tour. Knowledgeable friendly guide who went many extra miles for the group. Great guy. Some lovely hotels and wonderful experiences.\n",
      "160\n",
      "Marvelous holiday, we got to see tigers and one of the wonders of the world!\n",
      "161\n",
      "Loved this trip. I felt safe and well taken care of. The tour was perfect insight into India. The highlight of the tour was Taj Mahal and Tiger sighting. The tour wouldn't have been the same without the amazing team Mahesh our driver and guides....\n",
      "\n",
      "            Show more\n",
      "162\n",
      "Dealing with Tour Radar has been extremely positive from beginning to end. Websites are easy to navigate, questions are answered promptly, payments are processed precisely when I was told they would be (with a reminder that the were happening) and most...\n",
      "\n",
      "            Show more\n",
      "163\n",
      "One of my mother's dream was to visit India. We had great time exploring Delhi, Agra, Ranthambore and Jaipur. Everything was perfect. Every detail was taken care off. We had the best driver in India, Subhash, he drove us for entire 8 days. His driving...\n",
      "\n",
      "            Show more\n",
      "164\n",
      "The trip was absolutely amazing experience. you get to experience true beauty of India. The tour almost covered everything to do in the cities and some great local experience like walking tours, local home visit for cultural experience. Our driver...\n",
      "\n",
      "            Show more\n",
      "165\n",
      "The tour allows you to see lot of India in short time and gives you a great start to the country. The itinerary was very varied. Our driver was always happy, cheerful as well as professional. All the hotels were nice with a great variety of breakfast...\n",
      "\n",
      "            Show more\n",
      "166\n",
      "This tour was absolutely fantastic. I was picked up from airport at 1 am without any problem. I enjoyed my stay in all the hotels specially the heritage hotel in Jaipur. All the guides were friendly and knowledgeable. My driver Mukesh was very...\n",
      "\n",
      "            Show more\n",
      "167\n",
      "Truly excellent and well organized tour by Yolo India Tours, and well worth the price paid. This was my first trip to India with my family  Our favorite experiences were visiting Taj Mahal , Old Delhi heritage tour, National park Tiger sighting and...\n",
      "\n",
      "            Show more\n",
      "168\n",
      "Great introduction of India. It was the first solo tour i have ever done and it couldn't have been any better. My driver Mukesh was top notch. He was not just only a driver but a good friend. All the guides made me feel very safe and i didn't have to...\n",
      "\n",
      "            Show more\n",
      "169\n",
      "Everything about this trip was amazing. The tour included enough to have gotten the full experience and great value for money. Great balance between sight seeing and free time. The food was excellent at every destination. All the hotels were great but...\n",
      "\n",
      "            Show more\n",
      "170\n",
      "Best tour I have been on. You’re so well looked after from start to finish. All the guides were knowledgeable and friendly. Special thanks to my driver Bhuwan he was always on time and smiling. Staying in a heritage hotel was a great experience. I...\n",
      "\n",
      "            Show more\n",
      "171\n",
      "The tour was excellent!!\n",
      "172\n",
      "We had a marvellous time.\n",
      "THe hotels did not have central heating but we were provided with a floor heater.\n",
      "Although we gave money for the kitty for porters, drivers, waiters etc they acted and waited for more tips.\n",
      "173\n",
      "The quality of hotels, restaurants and entertainment was very poor and didn’t make for an enjoyable experience. The guide tried his very best to make sure the trip was good - but he had no control over the pre booked elements\n",
      "174\n",
      "The itinerary was run at just the right tempo. Yusuf was extremely personable and his knowledge of not only the sites but of social history was fascinating to hear. An amazing time!\n",
      "175\n",
      "Yosef was able to answer questions we had and was also ver accommodating\n",
      "176\n",
      "Vansh was an amazing guide. He was extremely knowledgeable about all the stops on the tour and about Indian history in general. He went out of his way to ensure that we all had a wonderful time. He is a kind man. He has a warm nature and a great sense...\n",
      "\n",
      "            Show more\n",
      "177\n",
      "The tour was great and our guide Sat was an amazing tour guide. The highlights for myself was the Taj Mahal, riding an elephant (which was not part of our tour but after I told Sat that I wanted to do that, he made some calls and arranged it for us) and...\n",
      "\n",
      "            Show more\n",
      "178\n",
      "Perhaps the best tour guide we have ever had.\r\n",
      "No nasty early starts, well paced and organised, got to see some lovely places.\n",
      "179\n",
      "Mahindra Soni was an excellent guide.  He pulled the tour together and we had the most amazing time.  Mahindra was very informative and would have to be one of the best tour guides we have travelled with.  I would recommend Mahindra to any of my fellow...\n",
      "\n",
      "            Show more\n",
      "180\n",
      "This was an amazing itinerary packed full of temples, forts, palace visits - great if you are on a tight timeframe but want to see the highlights of India and get the most out of your 8 days. While it was hot, it was definitely quieter at the key...\n",
      "\n",
      "            Show more\n",
      "181\n",
      "Overall this is a fantastic tour and WTX are excellent hosts.\n",
      "182\n",
      "The tour was amazing and we had such an incredible time. \n",
      "There were some issues with the itinerary; we were planned to visit the Taj Mahal on Friday morning for sun rise but the Taj Mahal is shut every Friday. This should’ve been know and updated...\n",
      "\n",
      "            Show more\n",
      "183\n",
      "Fantastic tour, well planned, good choice of tour guides and fantastic accommodation.\n",
      "184\n",
      "Very good, driver (Ramesh) was excellent and prior to the tour we were able to reshuffle some of the days and activities and timings, so lots of flexibility to make the tour our own, which we really appreciated. Thanks!!\n",
      "185\n",
      "Excellent trip!\r\n",
      "Thoroughly enjoyed the trip and the value for money is incredible.\r\n",
      "Our driver, Aman was friendly, professional and safe.\r\n",
      "Regular communication from Prakash was brilliant and any questions or problems he was always on hand to help....\n",
      "\n",
      "            Show more\n",
      "186\n",
      "This experience was absolutely phenomenal. I really enjoyed Ranthambore! I did get two see two tigers, and a lepoard, sloth bears, some really exotic birds..The transfers were easy and the guides were friendly and caring. The only thing I warn is that,...\n",
      "\n",
      "            Show more\n",
      "187\n",
      "My 2nd trip to India with World travel Experiences. These guys are so good at all the arrangements. They consider and understand what the clients need, and make customizations in the itinerary. I've always appreciated their hard work and the attention...\n",
      "\n",
      "            Show more\n",
      "188\n",
      "I have travelled internationally for nearly 20 years and have generally created my own itinerary and logistics. This year I decided to visit India for a month and travel to Jaipur, Agra Delhi, and Goa .  It was obvious from the outset we would need a...\n",
      "\n",
      "            Show more\n",
      "189\n",
      "All over experience was wonderful.. it’s really worth it. All credit goes to my tour manager. Thank you so much Team WTX! :)\n",
      "\n",
      "I have recently been to taken a trip[ to the Golden Triangle with Goa with WTX. Below is the feedback :\n",
      "The arrangement on the...\n",
      "\n",
      "            Show more\n",
      "190\n",
      "There’s an issue about my booking but everything was sort out before my tour started. After the issue was settled, all went well. ❤️\r\n",
      "\r\n",
      "The main reason of my trip to India was to visit the iconic Taj Mahal. Thanks to Tourradar and WTX India for helping...\n",
      "\n",
      "            Show more\n",
      "191\n",
      "Everyone with whom I dealt with at WTX was fabulous, friendly and very helpful. The itinerary was hectic for me, as there was a LOT of driving and the roads (in some parts) were very uncomfortable. Since the itinerary was so packed, we missed some of...\n",
      "\n",
      "            Show more\n",
      "192\n",
      "World Travel Experiences is the best travel agency, they will hear exactly what you want and expect from your trip. WTX chose the best places, hotel rooms, restaurants, and people to travel with; according to the expectations and wishes we had. They...\n",
      "\n",
      "            Show more\n",
      "193\n",
      "We went to India last November and did India Guided Tours with WTX, visiting Delhi, Jaipur, Fatehpur Sikri, Agra, Orchha, Khajuraho and Varanassi.\r\n",
      "\r\n",
      "The experience with them was fantastic, from the beginning to the end of the trip.\r\n",
      "\r\n",
      "The treatment...\n",
      "\n",
      "            Show more\n",
      "194\n",
      "We are 3 friends visited India for a wonderful personalized tour golden triangle with Varanasi Khajuraho of India with World Travel Experiences. From the beginning to end, we were taken care of with the greatest professionalism. I am surprised that any...\n",
      "\n",
      "            Show more\n",
      "195\n",
      "I booked through WTX assuming they will be professional in their business for a family vacation. It turned out to be a night mare; that they are just agents behind money and leave out clients in the middle of nowhere during journey. They do not honor...\n",
      "\n",
      "            Show more\n",
      "196\n",
      "We are very happy with the Golden Triangle with Varanasi tour. It was very very organised and we felt that we were really well looked after. The tour organiser was available at all times for us to contact regarding any problem. I would definitely...\n",
      "\n",
      "            Show more\n",
      "197\n",
      "World Travel Experiences organized an incredible tour for us 4 people. Everything from start to finish was impeccable, our representatives, guides and driver stood out from the moment we started on Jan 2019. We visited Delhi, Jaipur, Agra, Khajuraho and...\n",
      "\n",
      "            Show more\n",
      "198\n",
      "We had a fantastic tour in Amritsar, Varanasi, Khajuraho and Jaipur, Delhi and Agra. The Golden Temple surpassed all our expectations - such a relaxing place to walk around with a lovely atmosphere. It was great to be able to see the mega kitchens and...\n",
      "\n",
      "            Show more\n",
      "199\n",
      "After two weeks in India and with World Travel Experiences I  visited many of the typical tourist places. We thoroughly enjoyed the trip. We spend a wonderful time with our guide Rajeev. He was a very pleasant, welcoming and informative guide. He...\n",
      "\n",
      "            Show more\n",
      "200\n",
      "We thoroughly enjoyed our tour of the Taj Mahal in Agra, what a beauty in all it is. Our guide, Rajeev, was very knowledgeable and helped us navigate to get the best photos. Our group consisted of 5 women and our safety was the teams utmost priority....\n",
      "\n",
      "            Show more\n",
      "201\n",
      "Our overall experience was very positive, with our driver NOUFEL being very helpful indeed.\n",
      "With one exception our hotels were of a very good standard, the exception  being  the Hotel Las Palmas near Munnar.  This hotel is situated 6.5kms from Munnar...\n",
      "\n",
      "            Show more\n",
      "202\n",
      "Kerala is beautiful, very scenic and the people are generally very friendly.   Other than in Cochin we really didn’t have a guide, just a driver.  Our driver changed during the tour, in all we had three drivers.  None of the drivers were very...\n",
      "\n",
      "            Show more\n",
      "203\n",
      "Great guide who was always smiling, very punctual and helpful when we had a problem.\n",
      "We saw everything we expected to see and the tour was very well organized.\n",
      "Hotels were of good standard.\n",
      "204\n",
      "Traveled in January this year with World travel experiences team. Just one word that I can say is Awesome team work and great itinerary. Will recommend to other travelers coming to India too.\n",
      "205\n",
      "Accommodation was poor.\n",
      "206\n",
      "My girlfriend and I had an amazing experience traveling with \"World Travel Experiences\" (WTX India). We wanted to visit the Golden Triangle area and Kerala in June. \"WTX\" created the perfect tour package and were very easy to communicate with.\n",
      "207\n",
      "We just returned from an amazing week in India.  World Travel Experiences planned an amazing week for us.  They coordinated very well with us and kept in mind all the minor details that we had asked for. Accommodations were all great and the itinerary...\n",
      "\n",
      "            Show more\n",
      "208\n",
      "Their (World Travel Experiences) expertise and assistance made my family's 15-day trip to India a wonderful one.  The planning of every detail from transportation, lodging, tours, to the location was done to perfection and there was not one misstep...\n",
      "\n",
      "            Show more\n",
      "209\n",
      "Rarely is a trip absolutely perfect, especially a trip for three couples traveling together. But from the beginning of the planning process, to the final fine tuning, to the day-to-day plans and World Travel Experiences have done a commendable job and...\n",
      "\n",
      "            Show more\n",
      "210\n",
      "We have done the Kerala tour with World Travel Experiences in August 2018. It was an excellent experience with a well planned itinerary and excellent tour manager Mr Rituraj. The entire tour was conducted smoothly and efficiently with lots of attention...\n",
      "\n",
      "            Show more\n",
      "211\n",
      "The tour was well organized, agents were always available and kind.\n",
      "As a solo traveler for the first time in India I didn't know what to aspect and how to move around, it was reassuring to know that there was always somebody to contact and nice to have...\n",
      "\n",
      "            Show more\n",
      "212\n",
      "It was a unbelievable experience!\n",
      "It was a dream come true coming to India.\n",
      "A country that’s so beautiful with history,people,food,a must in your life place to visit.\n",
      "Thank you to all staff from yolo india tours,from management,guides and the amazing...\n",
      "\n",
      "            Show more\n",
      "213\n",
      "Our trip to India was just incredible. We had the best time. Highly recommend this tour.\n",
      "214\n",
      "I had a great time on the tour.  The accommodations were lovely, the drivers were kind and punctual, and our guides informative.  I would book again!\n",
      "215\n",
      "The tour is quite intense. Ensure you are rested before you begin. Maybe an extra rest day in Delhi on arrival.\n",
      "216\n",
      "We had an amazing experience touring Golden Triangle with varanasi thanks to Amit and Yolo India Tours. From the very beginning to the end our entire tour was professionally organized. Amit was answering all our questions immediately. The choice of...\n",
      "\n",
      "            Show more\n",
      "217\n",
      "Amazing, I really enjoyed every part of it.  The company and guides made everything so easy and we did not have to worry about anything. The activities and accommodation was amazing. Very good value for money. Would 100 % recommend.\n",
      "218\n",
      "Very good tour! We were very pleased. Communication was excellent which made us very happy and easily able to trust that we were in good hands. Our driver Mr. Sheshpal was AWESOME! He knew lots of information and ended as a guide when we didn't have the...\n",
      "\n",
      "            Show more\n",
      "219\n",
      "I am very happy with my trip to India. Yolo India Tours did a great job of providing services throughout the tour. India is full of adventure and so different from anyplace else i have been the whole experience was great. Obviously anyone would love the...\n",
      "\n",
      "            Show more\n",
      "220\n",
      "Couldn’t be more impressed. From booking to the end we were in awe of the service from Amit, vikram, tour guides Singh & imran. We had to change plans & Amit was amazing reorganising what we required. \n",
      "Highly highly recommend yolo India tours. Charmaine\n",
      "221\n",
      "Excellent trip!! Exceeded our expectations. Great way to experience India.\n",
      "222\n",
      "I agree with previous reviews:  Swastik must provide the following: \n",
      "airport pickup arrival details, driver information, hotel confirmations, tour specifics, entrance fees, suggested tips….  None of this was provided and I had a disastrous 4am. arrival...\n",
      "\n",
      "            Show more\n",
      "223\n",
      "The tour was excellent. Had a wonderful time.\n",
      "224\n",
      "It was a great tour. Hotels were excellent specially castle Talabgaon. All guides and driver were professional and knowledgeable.\n",
      "225\n",
      "The tour was excellent.The driver was great. And our guides were awesome. Enjoyed our stay at castle. Tiger safari was very entertaining.\n",
      "226\n",
      "This was a great first trip to India! Himmat was a fantastic driver, the tour guides were very knowledgeable, and considering the 3-star rating of the hotels we are happy with the accommodations and food!\n",
      "227\n",
      "I enjoyed the tour immensely. Tour guides were informative and driver Sandip was excellent. I'm hoping to take another trip with Swastik India next year.\n",
      "228\n",
      "It was an amazing experience that i will never forget. Made so many memories and connections. Thanks for the wonderful tour!\n",
      "229\n",
      "It was a perfectly organised trip. Had a wonderful time. Highly recommend!!\n",
      "230\n",
      "Our experience with Swastik India Journeys was amazing. Many great memories made.Highly recommend this company.\n",
      "231\n",
      "The hotel in Delhi was below average. The hotel in Amritsar was well below standard.\n",
      "232\n",
      "It was our 1st trip to India and all thanks to this World Travel Experiences team must say it was the TRIP OF A LIFETIME!!! I recommend WTX if you want to travel to India. Our agent Mr Mohit, planned out a custom itinerary that took us from Delhi to...\n",
      "\n",
      "            Show more\n",
      "233\n",
      "Few things command more respect than hard work, integrity, and dedication. These are among the many attributes we experienced from start to finish with World travel experiences when organizing our trip to India. This travel agent is an excellent...\n",
      "\n",
      "            Show more\n",
      "234\n",
      "A sincere note of Thank you to the World Experience team,perfectly balanced the tour program. Highly appreciating and recommended. The experience I had was most amazing and memorable. The hotels included in the package were amazing. The journey and...\n",
      "\n",
      "            Show more\n",
      "235\n",
      "Thank you very much for organizing the trip. It has been excellent one. It was customized and planned as per requirement. The driver Mr. Sahiram  was extremely cordial and drove an excellent manner. Thank much for providing with such an excellent...\n",
      "\n",
      "            Show more\n",
      "236\n",
      "An amazing adventure that has resulted lifelong memories. Mr Malik was the highlight. He was very respectful and ensured we were experiencing the real India.\n",
      "237\n",
      "We just returned home from a two week trip to India, and took a trip to Golden Triangle Tour with Pushkar and it was the most amazing time of our lives! Our travel agent Mr. Rituraj planned such a wonderful trip for us, everything was absolutely...\n",
      "\n",
      "            Show more\n",
      "238\n",
      "One of the best travel agency. The team made my trip to Pushkar a memorable one.Thanks to them for planning my trip during the Pushkar fair. Everything was so organized and on time. Our guide was extremely helpful and made sure everything was as per the...\n",
      "\n",
      "            Show more\n",
      "239\n",
      "When I first started communicating with Raj through email my emails and concerns were met with immediate responses. Upon our very late night arrival in New Delhi, we were met by Raj's employee at the airport and brought to our hotel. This tour was great...\n",
      "\n",
      "            Show more\n",
      "240\n",
      "My 20 year old daughter and I had the most incredible trip with “World Travel Experiences”. Just the two of us visited Delhi, Jaipur, Pushka, Agra and then bank to Delhi. We saw so much and were very well looked after. WTX Tours organised everything...\n",
      "\n",
      "            Show more\n",
      "241\n",
      "We were taken on a wonderful adventure of the Golden Triangle with Pushkar organised by World Travel Experiences (WTX India)\n",
      "\n",
      "We enjoyed every part of the tour from meeting the local guides, who had their own interesting stories to tell, as well as...\n",
      "\n",
      "            Show more\n",
      "242\n",
      "The tour was well organised, the CEO very knowledgeable, helpful, friendly, and the group of people were mixed ages, which I enjoy. Overall I expect to do another trip in the future, thank you.\n",
      "243\n",
      "Great tour, with an outstanding good guide!\n",
      "244\n",
      "Good and very experienced CEO.  Went above and beyond in modifying the order of our itinerary when the weather was not favourable, also secured our group an upgrade at one of the hotels. He had good knowledge of local places and took us to nice hard to...\n",
      "\n",
      "            Show more\n",
      "245\n",
      "This trip was amazing! It had a great mix of activities and we felt like we were completely taken off the tourist path and saw a lot of the local life. Our CEO was incredible and he made sure we were looked after the whole time. Everything was organised...\n",
      "\n",
      "            Show more\n",
      "246\n",
      "This trip was amazing. Our guide, Jai, was the greatest and really made the whole trip for me. He showed us the best places to eat. Each place had different specialties and famous dishes. I think I tried (and thoroughly enjoyed) at least 20 different...\n",
      "\n",
      "            Show more\n",
      "247\n",
      "The whole experience was amazing ! Loved every minute of it . Raj our CEO was experienced, had a fabulous sense of humor , informative, took us into the lives of the people, took the pressure of us organising tours and transport , tips etc. The...\n",
      "\n",
      "            Show more\n",
      "248\n",
      "I really enjoyed the trip and Romi, our guide was excellent and took us to places I would never have seen, if I had gone on a basic tourist trip. We went to so many interesting places, but also had enough fee time to relax and explore. I highly...\n",
      "\n",
      "            Show more\n",
      "249\n",
      "Would love to have more included meals and activities\n",
      "250\n",
      "I loved it and will come back to explore the rest of India.\n",
      "251\n",
      "The trip was very interesting and we saw the popular places but also some great rural ones too, so we felt we had a glimpse of the real India. Our guide was very knowledgable on culture, history and current affairs and very efficient. We stayed in a...\n",
      "\n",
      "            Show more\n",
      "252\n",
      "An excellent tour of the Golden Triangle, the tour guides were very knowledgeable and the driver was very attentive to my needs. As a solo female traveler, I felt very safe the entire time and loved the ability to adjust my itinerary as needed.\n",
      "253\n",
      "India is precious!!! We discovered the most beautiful places with WTX team, they were amazing and professional and a special thanks for our guide Nikhil who helped us with his excellent experience.\n",
      "254\n",
      "My husband and I have just returned from a tour of the Golden Triangle India arranged with World Travel Experiences. We had a great time despite arriving a day late due to flight delays. The tour rep and driver were at the airport to collect us and...\n",
      "\n",
      "            Show more\n",
      "255\n",
      "The tour with WTX (world travel experience) was amazing!From start, the communication was excellent, all questions answered and extra requests met. Very early arrival at the Delhi airport was no problem for pick-up, our driver Ram is just a darling and...\n",
      "\n",
      "            Show more\n",
      "256\n",
      "My wife and I cannot commend and thank the World Travel Experience, and especially Mr. Ranjan, which is enough for all the help we received both during the planning and during our wonderful 8-day Golden Triangle Tour with Udaipur. We asked him to...\n",
      "\n",
      "            Show more\n",
      "257\n",
      "We were enjoy golden triangle tour udaipur with our family and had stops in delhi agra jaipur and udaipur. We were very happy with world travel experiences. Their tremendous diligence and care to create a wonderful tour plan. And driver Malik were very...\n",
      "\n",
      "            Show more\n",
      "258\n",
      "I Have spend 10 days in December, Visiting Golden triangle and Udaipur with World Travel Experiences and i had a really nice time. All staff of World travel experiences are professional and helpful and so the transportation, hotels and guides were of...\n",
      "\n",
      "            Show more\n",
      "259\n",
      "Very knowledgeable team, good selection of hotels/accommodation, and food choice for their guests. They set a nice itinerary for us in Golden traingle and udaipur\n",
      "260\n",
      "This trip to Golden triangle with Udaipur with World travel experiences was wonderful. The agent kept in mind the smallest of the details and listened carefully to what we wanted and scheduled us accordingly. They were always responsive to my questions/...\n",
      "\n",
      "            Show more\n",
      "261\n",
      "I'm writing to let you know my family and I thoroughly enjoyed our vacation in India. The tour that your company provided us with was amazing. From the moment we landed in New Delhi, your team of professionals did everything possible to make our tour an...\n",
      "\n",
      "            Show more\n",
      "262\n",
      "For those interested in an exciting trip to India with no problems, I strongly recommend you use World Travel Experiences  & team including driver chauffeur and tour guides showed my family an incredible 10 day tour of the Golden Triangle with Udaipur...\n",
      "\n",
      "            Show more\n",
      "263\n",
      "We travelled throughout India for 09 Nights/ 10 Days and the portion of our trip organized by Mr Rituraj Singh was incredibly organized and relaxing. We didn't have to worry about anything, as World Travel Experiences(WTX) took care of everything. The...\n",
      "\n",
      "            Show more\n",
      "264\n",
      "I wanted to see India my way, When I started I wasn't sure of what all I wanted to do or see, I contacted a couple companies to see what they would come up with. While both companies came up with decent plans on their own, World Travel Experiences...\n",
      "\n",
      "            Show more\n",
      "265\n",
      "Enjoyed the tour. Car a little cramped with 4 passengers and luggage but it was immaculately cleaned every day.  We did lose our driver half way through. Hotels good and tour sights exactly as described.   The hard sell on \"hand made\" rugs, crafts,...\n",
      "\n",
      "            Show more\n",
      "266\n",
      "It was a trip of a lifetime. This was my first trip as solo and i’m greatful to my driver Giri for making it most comfortable.\n",
      "267\n",
      "The tours were good. All the guides were lovely in their own way, especially the great photographers/ guides in Agra and Jaipur. Also our driver was AMAZING! We felt safe the whole time. The only downside was some of the hotels we stayed in. The one in...\n",
      "\n",
      "            Show more\n",
      "268\n",
      "I am giving 4 stars and not 5 due to following points had an important impact on my overall experience:\n",
      "- Tour guide in Agra named \"Prince\".  Very bad experience with him skiping few places from the program and asking for higher tip\n",
      "\n",
      "- Commercial...\n",
      "\n",
      "            Show more\n",
      "269\n",
      "Enjoyed every second on the tour. Guides were excellent. Our driver Yogi was the best.\n",
      "270\n",
      "Thoroughly enjoyed my trip to India. Everything went well.Nice accommodations, great tour guides and driver.\n",
      "271\n",
      "Best experience of my life so far. Guides were amazing and caring. Hotels were excellent. Some travelling hours were long but totally worth it.\n",
      "272\n",
      "A well planned tour with ample opportunities to admire the rich heritage of India, and the traveler(s) were well cared for throughout the journey.\n",
      "\n",
      "Aside from many distinctly unique sites covered in the itinerary, it was a joy spending eight days on the...\n",
      "\n",
      "            Show more\n",
      "273\n",
      "The tour package selected was very good. We saw many sites within a short amount of time, which was what we wanted. Some of the hotels could have been better selected (ie. Cleanliness) but overall it was still a really good experience. We had a really...\n",
      "\n",
      "            Show more\n",
      "274\n",
      "We had a very organized and informative tour.\n",
      "All the arrangements were made as discussed prior. \n",
      "The Guides were with well knowledge about the sights\n",
      "I would like to thanks to our driver Mr. Ajit Singh for providing so friendly and great service.\n",
      "They...\n",
      "\n",
      "            Show more\n",
      "275\n",
      "An incredible trip - shame it was only 8 days!  \r\n",
      "\r\n",
      "Communication pre trip was good, all details were sent through ahead of time and all questions were replied to very quickly. On arrival at the airport we were met by a driver and Aahil (tour manager)...\n",
      "\n",
      "            Show more\n",
      "276\n",
      "We booked the tour thinking it would be a group of 10-12 people but it was a private tour for myself and my friend which gave us more time to explore, more freedom and a chance to get to know our guides better.\n",
      "The tour guides, itineraries and pace of...\n",
      "\n",
      "            Show more\n",
      "277\n",
      "Dear all, I would like to spend some lines to share with you our experience in India and colorful Indian holidays. We had no many days to spend in india and we decided to get in touch with some agencies to get their help in organizing our trip. Finally...\n",
      "\n",
      "            Show more\n",
      "278\n",
      "The 7 Days Luxury Tour ( Golden Tringle) with Sawastika was a wonderful trip to the World Heritage Cities with Mughal...\n",
      "\n",
      "            Show more\n",
      "279\n",
      "I had an amazing time. I was delayed a day in Tokyo and the tour company made accommodations around it. My driver and all the tour guides were great. The hotel rooms were as advertised as well. I would highly recommend this tour and tour company.\n",
      "280\n",
      "Thank you for making this trip unforgettable. You guys are definitely the best in the business. All the best!\n",
      "281\n",
      "The tour of the Golden Triangle sites itself was good and the guides were excellent and it was a great introduction to some of India’s greatest wonders. All administration was completed quickly and very efficiently. \n",
      "But it would have been helpful and...\n",
      "\n",
      "            Show more\n",
      "282\n",
      "Great tour with luxury hotels. Leopard safari was amazing. Had a wonderful time.\n",
      "283\n",
      "This was an excellent tour. Mr. Prakash is a fantastic driver and I enjoyed his company. As a female solo traveller I always felt safe and comfortable. \n",
      "Hotels were great and the guides were friendly and accommodating. \n",
      "I was most impressed with the...\n",
      "\n",
      "            Show more\n",
      "284\n",
      "It was an amazing experience. Leopard safari was very good.Hotels were luxury. Guides and driver did amazing job. Highly recommended.\n",
      "285\n",
      "Excellent tour..Hotels were very comfortable. Driver and guides were excellent. Highly recommend!!\n",
      "286\n",
      "The tour was well worth the money. Very enjoyable and great customer service.\n",
      "287\n",
      "Awesome tour.Exceeded our expectations. Very enjoyable and great customer service.\n",
      "288\n",
      "World Travel experiences went above and beyond my high expectations! The driver they arranged for us was so excellent and dependable! Our guides were masters in history with lots of factual information as well. I was impressed with their knowledge and I...\n",
      "\n",
      "            Show more\n",
      "289\n",
      "Overall amazing but with a few downsides which could have been avoided. \n",
      "\n",
      "The WTX team were super helpful throughout the whole process. We made a mistake with the tour dates but Rituraj was understanding and accommodating with helping us book the...\n",
      "\n",
      "            Show more\n",
      "290\n",
      "If you are planning a trip to India, World Travel Experience is the best tour operator you may pick. They are fast, reliable, flexible and helpful Mr. Rituraj and his team helped us make the best trip of our life. Our driver Mr. SahiRam was also very...\n",
      "\n",
      "            Show more\n",
      "291\n",
      "As this was our first trip to India, initially we were hesitate to arrange a trip via the internet with an agent that was not in our own country.  They planned and organized our trip to the Golden Triangle with Mandawa. We had a wonderful experience...\n",
      "\n",
      "            Show more\n",
      "292\n",
      "As this was our first trip to India, initially we were hesitate to arrange a trip via the internet with an agent that was not in our own country.  They planned and organized our trip to the Golden Triangle with Mandawa. We had a wonderful experience...\n",
      "\n",
      "            Show more\n",
      "293\n",
      "I booked a Chardham yatra for my parents and it was an amazing experience for them. They were very happy with all the facilities provided on the trip. The stays were comfortable, the food was tasty and hygienic, and they had a proper visit at all the...\n",
      "\n",
      "            Show more\n",
      "294\n",
      "The Chardham Yatra is an amazing package that you can go with if you are thinking of visiting this place. From the beginning till the end, this tour goes exactly as per the itinerary planned by the professionals. The pick-up and drop were on time, the...\n",
      "\n",
      "            Show more\n",
      "295\n",
      "We didn’t like being told how much to tip everyone as Aussie’s don’t normally tip. We thought we had paid for the tour and we’re a bit shocked about the tipping. And hadn’t allowed that extra money for the tipping. \n",
      "Our driver and guides were really...\n",
      "\n",
      "            Show more\n",
      "296\n",
      "India is a beautiful country and the team of Amazing India Tours helped us experience this beautiful country and amazing culture in a more splendid way and create a lifetime trip.\r\n",
      "From the organizers to the guides to the driver all were competent ,...\n",
      "\n",
      "            Show more\n",
      "297\n",
      "Thank you so much for great services during our visit to India tour we had a really fantastic tour guides who did as per our wishes and showed us all places of our comfortable they are highly educated and lovely and kind hearted person  my driver was...\n",
      "\n",
      "            Show more\n",
      "298\n",
      "We were highly recommended to this tour by our friends in Canada who has been to India before with tourradar we are happy to see tigers and her cub in jungle it was lovely experience\n",
      "299\n",
      "Saw three tigers in one safari we are glad that we have best india tour with tourradar.\n",
      "Thank you so much for creating this wonderful experience of India\n",
      "300\n",
      "Saw many tours online but many of them were not able deliver best services of local guide and driver I and my wife opted to go on India Golden Triangle Tour so we can get best hotels and city sightseeing as it was our fisrt time to India and not ready...\n",
      "\n",
      "            Show more\n",
      "301\n",
      "We took good breakfast in each hotel before starting tour and every city we had local guide to help us in buying monuments tickets. it is really great tour and very much happy being First time traveller\n",
      "302\n",
      "Tiger sightseeing was amazing we took many pictures and did two safari one in morning and evening that are worth doing and finally got happy to see Tigers.\n",
      "\n",
      "Highly recommended\n",
      "303\n",
      "I was highly recommended to this tour by my friend who did this tour in Jan with his family I am very much satisfied with tour price and quality of hotels and professional guide that every traveller expect from company excellent company\n",
      "304\n",
      "I was solo traveller from France and booked the tour confidently with tourradar team where they helped me alot and that is best platform to book the tour for travellers but choose very carefully your tour I saw many tour some was very cheap but not...\n",
      "\n",
      "            Show more\n",
      "305\n",
      "My wife and i did this tour for our first trip to India. The tour ran so smoothly. I would like to big thank to our driver Vikram , he was brilliant. The traffic of India is unbelievable but Vikram navigated around the city with ease. The car provided...\n",
      "\n",
      "            Show more\n",
      "306\n",
      "14 day tour: \n",
      "Taj Mahal, Rajasthan with royal stay at castles.\n",
      "Our first time visit to India has been absolutely fabulous - thanks to Swastik India Journeys and our very efficient driver, Mahendra Singh.\n",
      "The tour was well-paced and the contrasting...\n",
      "\n",
      "            Show more\n",
      "307\n",
      "Hello everyone; \n",
      "this is a review of our 14 days Rajasthan trip! 😊\n",
      "\n",
      "We travelled to India for the first time and have honestly never done a guided tour in our lives before. We are both mid 20 - wanted to experience a lot, emerge into the culture and get...\n",
      "\n",
      "            Show more\n",
      "308\n",
      "we are very happy with the tour. The driver Mahendra was great, patient and careful driver. The guides at Delhi, Jaipur, Udaipur and Agra were excellent and very informative. The guide at Jodhpur was in a hurry . The journey at Rothampur was not all...\n",
      "\n",
      "            Show more\n",
      "309\n",
      "Loved our time in India. The tour was amazing. We highly recommend it.\n",
      "310\n",
      "We really liked the tour. Great organisation by Karni and his team. Highly recommended.\n"
     ]
    },
    {
     "name": "stderr",
     "output_type": "stream",
     "text": [
      " 25%|██▌       | 523/2065 [00:00<00:00, 1592.90it/s]"
     ]
    },
    {
     "name": "stdout",
     "output_type": "stream",
     "text": [
      "311\n",
      "Swastik India journeys and the chosen tour package exceeded all our expectations. We had a mission-free, relaxing holiday right from the planning stage where the CEO, Karni, responded to queries within minutes and was amenable to making additional...\n",
      "\n",
      "            Show more\n",
      "312\n",
      "Everything was perfect on this tour.Outstanding driver and knowledgeable guides. We highly recommend this tour for an amazing India adventure.\n",
      "313\n",
      "It was an amazing experience. Would love to recommend this tour to all travellers planning a trip to India.\n",
      "314\n",
      "Great tour. Very well organised by team Swastik. Loved all the sightseeing places. Hotels were very nice. Guides were excellent.\n",
      "315\n",
      "Had a fantastic time. Everything was very well organised.\n",
      "316\n",
      "Tours Seller organised a wonderful and flexible private tour for our family when we visited India in April. Communication and courtesy were excellent and appreciated. They offered to be our contact in India for our eVisa process as well, which was...\n",
      "\n",
      "            Show more\n",
      "317\n",
      "It was a well organised tour. The guides and driver were excellent. We will be booking more tours with Swastik in the future.\n",
      "318\n",
      "Excellent trip overall. Guides were great and very helpful. Good value for money.\n",
      "319\n",
      "It was an amazing trip. Loved our first time in India.\n",
      "320\n",
      "Trip was excellent. Managed to see all top destinations in 13 days. All tour guides were terrific. Highly recommended.\n",
      "321\n",
      "A very enjoyable tour.All sights were beautiful. Guides did a wonderful job in explaining about the history.\n",
      "322\n",
      "Wonderful tour. Swastik India offered amazing services. Everyone went above and beyond to make our holiday exciting.\n",
      "323\n",
      "We enjoyed our time in India. Thanks to the whole team of Swastik India. They were always there to assist. Hotel choices were very good. Guides were excellent.\n",
      "324\n",
      "Best trip ever! I loved every part of it. Excellent tour guides and fantastic places to visit. I would recommend everyone to go on this trip\n",
      "325\n",
      "Had a wonderful time with Swastik India.Whole team was super responsive to our queries. They all gave their 100% to make our holiday memorable and wonderful.Highly recommended\n",
      "326\n",
      "We had a great 11 days of Golden Triangle tour with Rajahstan. Our driver Pradeep and local guides were really nice and helpful, also Swastik was highly responsive before and during the trip.\n",
      "327\n",
      "I am an American born Indian, but I lived in India for ten years when young so I am familiar with language and culture of the subcontinent. But to make the logistics easier I decided to book this tour so I’d have a car, driver, hotels and guides all...\n",
      "\n",
      "            Show more\n",
      "328\n",
      "If you want to experience India in short time in my opinion its the best tour you can do . Thanks for the well execution of tour .\n",
      "329\n",
      "My wife and I did a tour of Rajasthan with K K holidays .  Our whole trip was organised how we wanted it to. Hotels were amazing, we only had one issue with a hotel in Jodhpur but it was sorted out immediately. The staff of K K holidays was there over...\n",
      "\n",
      "            Show more\n",
      "330\n",
      "Amazing trip it was . Thanks to driver Hukam & yes of course the company K K holidays to make this trip memorable in every aspect .\n",
      "331\n",
      "We had a great time! \n",
      "Our driver Sandeep was really good!\n",
      "332\n",
      "Super fantastic Holiday !! \r\n",
      "Had a really great time visiting the Rajasthan with Kamal as our driver . Learned so much about the history and architecture that I wouldn’t have known had we not had him by our side. The car ride was great, so was breakfast...\n",
      "\n",
      "            Show more\n",
      "333\n",
      "My friend and I booked this trip really late the night before but had no issues organizing the trip for the next morning. They were very efficient and exactly on time in the morning.\r\n",
      "Ali was our tour guide. He's very friendly, respectful and extremely...\n",
      "\n",
      "            Show more\n",
      "334\n",
      "We travelled Rajasthan in August with K K Holidays  - starting in Delhi and going to Agra, Jaipur, Jodphur and Udaipur. The whole trip went well. The car was comfortable and well maintained and our driver, Rajesh, was friendly, punctual, safe and...\n",
      "\n",
      "            Show more\n",
      "335\n",
      "We spent a great time in Rajastan and had the good fortune to have Anil as our driver from Jaipur to Jodhpur via Udaipur and Jaiselmer plus many interesting side visits along the way. We were relatively unprepared but thanks to Anil's good insight what...\n",
      "\n",
      "            Show more\n",
      "336\n",
      "We did the Rajathan trip. They were all very receptive & prompt in arranging the tour specifications to our needs. Arun made sure we were comfortable and all details were managed well. The tour guides they arranged for us were very knowledgeable,...\n",
      "\n",
      "            Show more\n",
      "337\n",
      "Paid a premium to stay in superior category hotels, however only the hotel on the first night could be considered to meet this standard. The hotels provided for the remainder of the trip we average and much lower than expectations.\n",
      "338\n",
      "i was searching india golden triagle tour it was our first visit to India so do not want to take any risk for hotels services, guide quality and driver capability we spoke to Amazing India Tour expert who booked best hotels in each city and provided...\n",
      "\n",
      "            Show more\n",
      "339\n",
      "we have travelled with Amazing India Tours to get best experience of tour guide and hotels we have upgraded our tour in five star hotels all were awesome with india golden triangle tour\n",
      "340\n",
      "Thank you for organizing best hotels in each cities we loved all hotels and stayed in three star hotels as per our budget on the tour.\n",
      "\n",
      "Wonderful Experience as first time in India with India Golden Triangle Tour\n",
      "341\n",
      "We had an amazing experience during our  India Golden Triangle tour organised by Amazing India Tours. Everything went well and smooth since the day I first contacted the Company till the end of the tour. All members of the staffs were very helpful...\n",
      "\n",
      "            Show more\n",
      "342\n",
      "Being a women I was really uncomfortable to come to India after discussing my tour plan with tourradar I got confidence to travel in india.\n",
      "\n",
      "I booked two extra nights in Delhi to cover all things slowly as I am old women and loved to see indian women...\n",
      "\n",
      "            Show more\n",
      "343\n",
      "Amazing way to explore India with golden triangle tour we were two sisters and came from south Africa first time to India so it was little confusing how to choose best tour with best company for first time travel to India.\n",
      "\n",
      "Hotels was good and guide was...\n",
      "\n",
      "            Show more\n",
      "344\n",
      "I have seen many companies that were offering the same tour in cheap price but their quality of travel and professionalism I was not sure I booked this tour being first time traveller to India I did not want to take any risk because of pricing and...\n",
      "\n",
      "            Show more\n",
      "345\n",
      "I am solo traveller from Australia and booked the private tour for first time for India I got my car and neat and clean and my driver was very cooperative and helped me alot and took many photoshoot with my driver\n",
      "346\n",
      "We landed at Delhi airport and we'll received by my driver and who was very helpful and kind and hotels all was good and we had different guide in each city tour was very good\n",
      "347\n",
      "Excellent tour to wonderful places in Southern India.\n",
      "Very good guide.\n",
      "348\n",
      "Well organized, very diverse tour. Our tourguide Tinu was fantastic!\n",
      "349\n",
      "The trip was absolutely wonderful! Our CEO went over and beyond for all of us!\n",
      "My only criticism Was about the accommodation. Some of it was very Very basic.\n",
      "My favourite times were the walk in Karola backwaters the tuk tuk  ride through the lane ways,...\n",
      "\n",
      "            Show more\n",
      "350\n",
      "The tour was fantastic, Prem was an awesome CEO. Very knowledgeable, super funny and extremely friendly and helpful. I'd give him 10/10 for making the trip so special.\n",
      "351\n",
      "To many long journeys and not enough time to enjoy one place     I think breakfast should have been included n the price.  Sanj our guide was brilliant and very thoughtful   He worked very hard .  Also I think we should have been met at the airport by a...\n",
      "\n",
      "            Show more\n",
      "352\n",
      "Sanjay was excellent, he was always there to help us and look after us. The only thing I could suggest to improve my experience would be a different mini-bus, the one we had was very small and the roads are so bad. The driver, Mr Amil, was fantastic.\n",
      "353\n",
      "Excellent tour guide. She made the trip so very enjoyable!!\n",
      "354\n",
      "Loved the trip. Saw a lot but nicely paced. On hot days, toured later in the afternoon to avoid the heat. Lots yo see.\n",
      "355\n",
      "It was an excellent choice. The tour leader was exceptional!\n",
      "356\n",
      "Great trip and leader. Good itinerary. Good way to see Southern India\n",
      "357\n",
      "Group was friendly, warm and inviting. Made friends with whom I still maintain contact. CEO was knowledgeable and answered all my questions. Meals were delicious and the accommodations were comfortable and clean.\n",
      "358\n",
      "I had a great experience\n",
      "359\n",
      "Really enjoyed this tour, the activities and the guide were great\n",
      "360\n",
      "I've enjiyed all G adventures tours but the pace and accommodation won't suit suit everyone\n",
      "361\n",
      "overall\n",
      "362\n",
      "Overall an amazing tour. Luck to have a wonderful driver. He took really good care of us. Guides were very good at all places. Would highly recommend this tour to anyone looking to explore India.\n",
      "363\n",
      "So happy we booked this tour with Swastik. Our driver throughout the golden triangle was incredible, our tour guides were wonderful and so informative. This tour was well put together and the companys communication was excellent. I highly recommend this...\n",
      "\n",
      "            Show more\n",
      "364\n",
      "India was amazing. Couldn’t recommend it more. Would love to do more trips with Swastik in future.\n",
      "365\n",
      "This was a great tour. Giving my perspective as a SOLO FEMALE TRAVELER.\n",
      "Leading up to the tour - Karni was super responsive and customized it towards my dates and wishes just the way I wanted it. \n",
      "\n",
      "HOTELS \n",
      "I upgraded to 4 star hotels and they were all...\n",
      "\n",
      "            Show more\n",
      "366\n",
      "Enjoyed the tour. All places were amazing specially Varanasi. Hotels were excellent. Guides were informative and caring. Would love to do more tours to India in the future.\n",
      "367\n",
      "The trip overall was great thanks to Karni and his team .Giri was a great driver. Guides were excellent and entertaining.\n",
      "368\n",
      "Wonderful experience!! Everything was just perfect.Thank you!!\n",
      "369\n",
      "Had a wonderful time..Taj Mahal & Varanasi were wonderful. Loved boat ride at the Ganges river.\n",
      "370\n",
      "The whole tour was great.We wanted to experience Varanasi and we did.Excellent tour guides and wonderful accommodations made the trip entertaining and relaxing.\n",
      "371\n",
      "Best tour to experience true colours of India. Team swastik india did a great job in organising my trip. Everything was just perfect!!\n",
      "372\n",
      "What a fabulous tour, this is now our second tour with Colour India Holidays and was just as amazing as the first trip, the drivers and guides were so knowledge. The tour was also great value Thanks Narendra again will be back again soon!\n",
      "373\n",
      "This tour is great to get the best of India in such a shorter period of time.\n",
      "374\n",
      "Very well organized, super driver, competent and highly professional guides\n",
      "375\n",
      "\"Our trip that your organised was fantastic, our every wish catered for, always a driver ready to whisk us off somewhere and the guides were excellent and very informative. We shall certainly be recommending your company to friends and colleagues and...\n",
      "\n",
      "            Show more\n",
      "376\n",
      "I like whole experience but Jaipur. Elephant village is unsafe people put pressure you and scam you. Would not recommend to anyone. Don’t go there\n",
      "377\n",
      "Very well organized trip, excellent driver\n",
      "Review of Private 6 Days Private Golden Triangle Tour (Delhi, Agra, Abhaneri and Jaipur)\n",
      "Pending review\n",
      "We had a great trip with Colorful Indian Holidays! Narendra organized the trip well and was very...\n",
      "\n",
      "            Show more\n",
      "378\n",
      "I thoroughly enjoyed my trip organised by Colourful Indian Holidays.  I was travelling on my own and was a little worried that I would get lost but on arrival at the airport, I was met and picked up from the arrivals hall by Sonu, who was very...\n",
      "\n",
      "            Show more\n",
      "379\n",
      "This was a fantastic tour. The guide was excelent. He gave us a good information of the places we visited. We can recomend this tour.\n",
      "380\n",
      "Visting India could be intimidating and kiotic. Delhi in particular is not my a choice for walking around. But my God this company have made it so easy and truly pleasant. We were met at the airport upon arrival, taken to hotels, driven from one city to...\n",
      "\n",
      "            Show more\n",
      "381\n",
      "I did enjoy the tour it was well organized. The itinerary was what was provided before. I thought all the tour guides were educated, timely and polite. Our driver was also helpful and very kind throughout the trip. Our only problem was our driver was...\n",
      "\n",
      "            Show more\n",
      "382\n",
      "If you want to book a tour and not have to worry about much, book this tour!\r\n",
      "Everything is prepared so that you can enjoy and experience something amazing. The tour guides and the drivers were great. You get to visit many beautiful places throughout...\n",
      "\n",
      "            Show more\n",
      "383\n",
      "Very good tour done with family. Everything was perfect and the services of driver was exceptional. Thank you so much team MTA\n",
      "384\n",
      "One of the best tours I have done with my friends and family organized by MTA. Everything was perfectly curated. Hotels, Transport and Driver Virender. We enjoyed a lot. Our organizer Manish was just a call away and always available to help and suggest...\n",
      "\n",
      "            Show more\n",
      "385\n",
      "Golden Triangle tour to magnificent India was one of the best tour in India I have had. Everything was arranged beautifully and the tour expert was always be in touch with me through WhatsApp to share the details of the tour. I would surely gonna recommend\n",
      "386\n",
      "India has two much to show to the world and i have chosen to explore the beauty of North India. Golden Triangle Tour was an outstanding trip from Delhi with a informed driver and a private car. Tour guide were helpful and good to take photos. Would love...\n",
      "\n",
      "            Show more\n",
      "387\n",
      "Golden triangle trip to India was one of the most popular tour around the world. We opted it for the family and the tour went outstanding. We specially thanks to the operator for customising it as per our preferences\n",
      "388\n",
      "Golden Triangle Tour for 5 days was enough time to see the main monument in the major cities of India. The tour was a customized one and it includes the car, driver , hotels and a tour guide everywhere. The tour was fantastic and operator had served the...\n",
      "\n",
      "            Show more\n",
      "389\n",
      "India has a lot of things to see and i would say that Jaipur is the city where you can found too many palaces to explore and forts are also there. Agra has it's world known popular the taj mahal and Delhi is crowded but driver was very intelligent to...\n",
      "\n",
      "            Show more\n",
      "390\n",
      "It was one of the best tour so far for us. Tour operator was very responsive and helful. Hotels was well arranged and luxurious as have requested to upgrade the hotels with a bit of extra charges. Tour guides in agra, jaipur and delhi was very...\n",
      "\n",
      "            Show more\n",
      "391\n",
      "We had a good tour to India. Tour provider was very nice and responded instantly all the time. Hotels was very nice and the driver was friendly. Tour guide was amazing\n",
      "392\n",
      "We had a great time in India and we would probably love to recommend the tour\n",
      "393\n",
      "Golden triangle tour is one of the most popular tours around the globe. Taj Mahal is stunning; Amber fort is huge and excellent. Delhi has too many Beautyful sites. I had a great time in India and we would love to recommend it\n",
      "394\n",
      "India is popular known for it's culture and population but they are extremely good in hospitality. I had a great time in India and I have visited the delhi agra and Jaipur. It was a memorable trip\n",
      "395\n",
      "Excellent service By ITS Holidays , all was gentile and with the best tour guide Kishan. Thanks a lot! I recommend Absolut!\n",
      "396\n",
      "Great experience With ITS Holidays India ! Knowledge guide. Would definitely recommend!\n",
      "397\n",
      "Perfect Tour With ITS Holidays . We are so glad we found this tour. It was the perfect way for us to experience India in the short time we had. I Really recommend  This Tour\n",
      "398\n",
      "I want to thank ITS Holidays team for your excellent work organizing my trip. You delivered on all of your promises. Good well-located hotels, super private tours, skilled and friendly drivers for private transfer, good food and more exceeded my high...\n",
      "\n",
      "            Show more\n",
      "399\n",
      "Fantastic Tour With ITS Holidays .Kishan was great guide in Agra . We had fun exploring old Delhi & Mr. Gupta Was Great Guide In Jaipur with car driver .we were totally impressed with his impeccable service and knowledge. We would absolutely recommend\n",
      "400\n",
      "We had a great tour With ITS Holidays to India and I am really happy with service. All City Guides professional in their job and the driver was very kind and spoke good English.\n",
      "401\n",
      "Absolutely fantastic Tour! The service has been great from start to finish. Our tour guide sunil, was very polite, professional and knowledgable. Great value for money and we would highly recommend it!\n",
      "402\n",
      "I highly recommend doing a tour with Rishi . He is incredibly kind, friendly, and very knowledgeable. I love the energy of someone who loves speaking about Agra and the Taj Mahal.\n",
      "403\n",
      "Excellent service in India . I would recommend to everyone, hire driver Neeraj when in india . always on time, cheerful and trustworthy. Will charge only the reasonable price and wont harass you for anything.\n",
      "404\n",
      "I would recommend this company to all the people who wanna visit India. I had a great trip and all the things went the way we planned.\n",
      "405\n",
      "Perfect setup from Boutindia, all the team stay very close from us during the trip. A really nice selection of the best cities and temple to visit and other backcountry jungle places to discover.\r\n",
      "Really experimented guide and drivers.\r\n",
      "All was perfect...\n",
      "\n",
      "            Show more\n",
      "406\n",
      "The attention to detail from everyone at Bout India i was treated so well and the attention to detail from arranging the tour, being met at the airport, the tour guides, accommodation, driver everything was memorable. If you want to experience true...\n",
      "\n",
      "            Show more\n",
      "407\n",
      "Without a doubt if you want to see India, you should see it through Himanshu's eyes and experience. This was the best organised tour we have ever done. Himanshu's attention to detail and personal support is unequalled, even to phoning us as we got on...\n",
      "\n",
      "            Show more\n",
      "408\n",
      "Great experience with Bout India; well beyond expectations and trouble free. The trip was tailor made for 2 couples in the late 50's celebrating their 30th wedding anniversary. We asked for french speaking guides and with one exception they were...\n",
      "\n",
      "            Show more\n",
      "409\n",
      "The Bout India is a fabulous, All staff are so helpful,  Extremely well informed, I had a great experience.We really Enjoy and saw the tiger :). i didn't find any problem in our  trip and everything was well organised . thank you for the good service...\n",
      "\n",
      "            Show more\n",
      "410\n",
      "What a great experience - the whole trip was brilliant. Guides were fantastic - and extremely knowledgeable - and it all worked like clockwork.\n",
      "\n",
      "Overall the mix of accommodation was very good, some better than others as you would expect - and some were...\n",
      "\n",
      "            Show more\n",
      "411\n",
      "Awesome and had a really memorable time and Saat was a brilliant tour guide, I didn't have to think he did it all. Well done for this itinerary and will definitely do another tour in the near future\n",
      "412\n",
      "Everything went great .\r\n",
      "The assistance was very good and we recommend it.\n",
      "413\n",
      "Had a wonderful time. The drivers and guides were informative and helpful.\n",
      "414\n",
      "Excellent organization and at affordable costs\n",
      "415\n",
      "Second time in India, this time my friends and I did the south. India always surprises with its colors and smells but our journey has certainly been improved by our guide Manish, by the driver Mr. Kantha. Wonderful places and hotels, every night a...\n",
      "\n",
      "            Show more\n",
      "416\n",
      "Very good organised and friendly people to deal with. Good driver and good accommodation in all places I have visited.\n",
      "417\n",
      "Great exposure to India. Would definitely recommend it. Tour guides were friendly. Accommodations were good in Delhi....\n",
      "\n",
      "            Show more\n",
      "418\n",
      "We'd like thank Paylesstoursindia team for organising and customising this tour for us - family with 3 kids. All out requests were fulfilled in the line with our pre tour conversations. Our driver Mr Bholu handled us really well staying in a good and...\n",
      "\n",
      "            Show more\n",
      "419\n",
      "We're very thankful to Paylesstoursindia for organizing and customizing this wonderful and exciting tour for our family. Mr Balbir - the driver was always very attentive and punctual, we were very well taken care and provided with all the necessary...\n",
      "\n",
      "            Show more\n",
      "420\n",
      "Hi everyone! It was a great tour and wonderful experience. Our journey went smoothly and we had a fantastic time during Christmas break and then at New year's eve party that was made in the hotel. We had fun with other Indians and foreign guests. Apart...\n",
      "\n",
      "            Show more\n",
      "421\n",
      "Prakash was a superb driver, very kind, respectful and mindful.  Learned that in India everything is possible.  He made sure I was well taken care and our trip was fantastic.  Took me to all attractions in each city and along with a local guide, I...\n",
      "\n",
      "            Show more\n",
      "422\n",
      "Very good 11-day trip Delhi-Jaipur-Agra varanashi  - highly recommended\r\n",
      "We just wrapped up a 11 day trip from Delhi to Jaipur and Agra than back to Delhi with  prakash our driver in a Toyota Innova and can only highly recommend payless  Travels and...\n",
      "\n",
      "            Show more\n",
      "423\n",
      "Thanks Eva for arrangements.\n",
      "424\n",
      "Once again we had a fabulous time in India with airport transfers, hotels, car & driver, local simcard ,, all arranged by payless Tours. On two occasions we were not happy with the hotel booked for us but one quick phonecall to neeraj sorted that out....\n",
      "\n",
      "            Show more\n",
      "425\n",
      "A Journay to Remember\r\n",
      "\r\n",
      "All I can say it was wonderful, magical and immense experience. This was my first time in India and it made huge imact on me. I felt like falling in love with this ancient culture , beauty of nature, architecture. Although I am...\n",
      "\n",
      "            Show more\n",
      "426\n",
      "We recently came back from our two weeks trip to India . We traveled with our kids age 15 and 18. and visit Golden Triangle (Delhi, Agra & Jaipur orcha khajraho vanrash. , we decided to use Travel agencies. We just got very lucky to find payless Travels...\n",
      "\n",
      "            Show more\n",
      "427\n",
      "A once in a lifetime trip we hope to do again!!\r\n",
      "Back home in Australia after an amazing family trip to India through Payless. We had a magical time gaining an insight into this astounding country with the incredible services of Prakash - our driver and...\n",
      "\n",
      "            Show more\n",
      "428\n",
      "India was a beautiful country that catered to my every need. The tour guides and drivers were amazing and provided the best service possible. I would highly recommend Memorable India to anyone looking for a great tour of the country.\n",
      "429\n",
      "We thought this was the perfect way to get a taste of India. India is definitely one of the most fascinating countries we have visited so far, and we have visited many. Nothing compared to the monuments we saw and the experiences we had here. They were...\n",
      "\n",
      "            Show more\n",
      "430\n",
      "Our Golden Triangle Tour with Memorable India was an incredible experience. The hotels, food, sights and service were all wonderful. We appreciated the smooth organization and professional attitude of everyone we dealt with. Thank you for giving us such...\n",
      "\n",
      "            Show more\n",
      "431\n",
      "India is a beautiful country with so much to see and do. We enjoyed every moment of our trip with Memorable India Tour and Travel. This tour is highly recommended for anyone looking to see the best that India has to offer.\n",
      "432\n",
      "Our Golden Triangle tour arranged by Memorable India was lovely. We enjoyed the clean, comfortable hotels and Mr. Pawan, our driver, was very friendly and helpful. We would definitely use Memorable India again for future travel plans.\n",
      "433\n",
      "Thank you for choosing the Golden Triangle Tour! We are happy to hear that you had a safe and memorable journey. We want to extend a special thank you to our guides and drivers, who went above and beyond to make your trip special. Thank you again for...\n",
      "\n",
      "            Show more\n",
      "434\n",
      "Our 06-day Golden Triangle tour was made even more amazing by our wonderful guide, Sunil. He is so professional and educated, and he made sure that we always felt safe. He even took care of all the details and arranged for a private car and driver for...\n",
      "\n",
      "            Show more\n",
      "435\n",
      "Raj was extremely helpful and accommodating when it came to organizing our tour dates and making sure all of our requests were met. The tour itself was fantastic - the driver and car were comfortable, and three out of four of the tour guides were...\n",
      "\n",
      "            Show more\n",
      "436\n",
      "India is a country full of memorable experiences. Our agent was excellent and very professional. They coordinated everything perfectly and were flexible when needed. The car was clean, comfortable, and the driver was polite. The tour guide in Agra was...\n",
      "\n",
      "            Show more\n",
      "437\n",
      "We had a great time on our Golden Triangle tour arranged by Memorable India. Everything was well organized and the hotels were clean and comfortable. Our driver, Mr. Sandeep, was very friendly and helpful. We would definitely use Memorable India again...\n",
      "\n",
      "            Show more\n",
      "438\n",
      "Pros: The staff of WTX did a fantastic job of taking care of me and making sure I didn't get lost. My driver, Rakesh, even took me to the Delhi airport to retrieve a bag that the airlines had neglected to put on a plane out of the US. The guides were...\n",
      "\n",
      "            Show more\n",
      "439\n",
      "Amazing tour and wonderful experiences When in India plans and expectations do not always work at home and you have to be flexible but with Amazing India Tours and especially this trip, it was perfect and gave great memories, thanks to our professional...\n",
      "\n",
      "            Show more\n",
      "440\n",
      "Once in a lifetime experience ! We are now back home and the tour went well as anticipated. It was a last minute booking, 10 days prior our trip, we booked online through TourRadar, staff made all the bookings instantly and sent us all the confirmation...\n",
      "\n",
      "            Show more\n",
      "441\n",
      "Great Tour worked as planned (No bad surprise) Thank you to our driver and specially our tour guide Sunny for a wonderful tour of the Taj Mahal and Agra Fort. Guide in Varanasi and Delhi were good but not in the same page as Sunny. Hussain had great...\n",
      "\n",
      "            Show more\n",
      "442\n",
      "We are from Spain and came to India by long flight we were met by driver Ashok who showed all places as per programme.\n",
      "\n",
      "All hotels has been carefully selected by team and breakfast was provided every morning.\n",
      "\n",
      "Thanks a lot\n",
      "443\n",
      "I found India tour with Varanasi online I was very much interested in visiting Varanasi Ghats and boat on Ganges and Aarti ceremony which is really amazing for American people I arrived by united airlines in India hotels I upgraded in five star after...\n",
      "\n",
      "            Show more\n",
      "444\n",
      "My friend have been to India they did private touring and advised me so many advantages of tour I found this tour online and booked it 1 year before traveling to india.\n",
      "\n",
      "In India is very mesmerizing country with lovely people where you can take...\n",
      "\n",
      "            Show more\n",
      "445\n",
      "Best company of India tour I am so much pleased that I booked this tour with tourradar and price which I got that is best and services also incredible of India tour and thank you for my driver deepak who had been great\n",
      "446\n",
      "My friend Johny highly recommended me this tour and company for my first time India tours I was bit nervous as being female solo traveller in India but Company arranged best driver and local guides for taking good care of me and hotels was good and it...\n",
      "\n",
      "            Show more\n",
      "447\n",
      "we booked the tour based on recommendations of our friends who has been on tour with Amazing India Tours we had private driver and car for 15 days tour and happy with all kinds of services\n",
      "448\n",
      "Best Tour operator of India we had an amazing time with guide and driver we enjoyed all the private comforts as tour says.\n",
      "\n",
      "Highly recommended\n",
      "449\n",
      "World Travel Experiences (WTX) is to thank for our amazing trip to India. We took a private tour to Delhi, Agra, Bharatpur and Jaipur. Their responsiveness was impressive from the beginning. They provided drivers and guides for the whole trip, organised...\n",
      "\n",
      "            Show more\n",
      "450\n",
      "We covered a lot of grounds in the 7-day tour with WTX. The WTX staff (particularly the driver from New Delhi) provides excellent services with transfer to and from the New Delhi Airport, and New Delhi/Shimla Train Station. A big \"Thank You\" to Mr....\n",
      "\n",
      "            Show more\n",
      "451\n",
      "I had a fantastic time in India. Everything was very well planned and organised. I managed to see the tigers but also...\n",
      "\n",
      "            Show more\n",
      "452\n",
      "Our family had a customized tour that included all three national parks for tiger safaris as well as the traditional...\n",
      "\n",
      "            Show more\n",
      "453\n",
      "The itinerary was well planned, and well managed. Tour guide Manoj was outstanding, and the hotels were excellent. We...\n",
      "\n",
      "            Show more\n",
      "454\n",
      "All in all this was a wonderful tour\n",
      "I loved all the places, the hotels, the guides - my driver was the best buddy - he watched out for me\n",
      "Only Udaipur was disappointing - I only saw two events - City Palace and the City Gardens\n",
      "Could have gone to...\n",
      "\n",
      "            Show more\n",
      "455\n",
      "It was an excellent tour. Everything was very well organised. Highly recommended!!\n",
      "456\n",
      "Great tour!! It was very well organised.Highly recommend this tour.\n",
      "457\n",
      "We had a wonderful time on this tour. Everything was very perfectly arranged. Highly recommend!!\n",
      "458\n",
      "Overall, we are very pleased with our tour booking with Swastik India Journeys.\n",
      "\n",
      "GOOD ASPECTS:\n",
      "- The tour operator, Karni, was very responsive and reliable in all our needs up to and during our trip.\n",
      "- Our driver, Mr. Saitan, for the entire trip was...\n",
      "\n",
      "            Show more\n",
      "459\n",
      "it was an excellent tour. Hotels were very good and guides were very knowledgeable.\n",
      "460\n",
      "It was an excellent tour.We very much enjoyed our first trip to India.\n",
      "461\n",
      "Note that this is promoted as a tour, a group tour but it's NOT. You end up arriving and ,in my case a solo traveller, I was assigned a private car with a private driver for 9 days. He drove me as per the itinerary , and we had local tour guides in...\n",
      "\n",
      "            Show more\n",
      "462\n",
      "We had a wonderful time.The itinerary was very well designed.We didn't have to rush from one destination to another. Tiger safari at ranthmbore was an awesome experience. We saw tiger and cubs.All hotels were excellent with clean rooms and bathrooms....\n",
      "\n",
      "            Show more\n",
      "463\n",
      "I travel alone and when I book a tour, besides being on a tour to learn, I book it to be around people. I was the only person on this tour and my driver spoke very little English so it was a good tour but I would not go on another one unless other...\n",
      "\n",
      "            Show more\n",
      "464\n",
      "What an amazing tour in Radjastan. A right mix between beautiful touristic places and a more in depth cultural experience. India is such a wonderful and safe place to visit, and you should definitely go. And my experience with payless tour has been...\n",
      "\n",
      "            Show more\n",
      "465\n",
      "Me and my husband asked the travel agency to customize for us this brilliant tour and it was a great idea. Having your own personal driver and travelling without hurry was an upper hand over the group tours. \n",
      "We were able to see much more and our driver...\n",
      "\n",
      "            Show more\n",
      "466\n",
      "I’ have recently returned from India having done the private 10 day \"Best Colours of Rajasthan\" with Payless Tours with my adult son. The tour was fantastic. India is definitely open again for tourists, and we met many passers by who said how welcome we...\n",
      "\n",
      "            Show more\n",
      "467\n",
      "I have just finished up a 2 week private tour with a small group of the Golden Traingle and Rajasthan organised by Payless Tours India. My decision to travel to India was very last minute and my timings were tight however, the tour offered by Payless...\n",
      "\n",
      "            Show more\n",
      "468\n",
      "It was my first tour it was really very nice. The trip was amazing with a good service. I expect to visit india(other parts) again n got the same service.                                                               Guide:Neeraj was very helpful,...\n",
      "\n",
      "            Show more\n",
      "469\n",
      "The tour was excellent. We have visited so many places in the ten days. Some of the hotels we stayed were out of this world. Food was great.\n",
      "470\n",
      "We had wonderful trip to rajasthan with my family. Thank you payless tour for arrangements. Hotel , transport,  and guide. And specially thanks to our cab driver sanjay\n",
      "471\n",
      "That was truly the best organised tour we have ever had. We had such an awesome driver who looked after us all the time making our wishes come true. We ate meals in very good restaurants and had decent accommodation in haveli hotels. India is so...\n",
      "\n",
      "            Show more\n",
      "472\n",
      "Thank you very much for organising such a great tour. Arrangmens were made according to out requests, all the transfers were provided without any problems. The driver Mithun is a wonderful employee who put all his effort and heart to show us all the...\n",
      "\n",
      "            Show more\n",
      "473\n",
      "Thank you for a great experience and fantastic memories. Rajasthan tour was a very good choice.We were able to explore India on our own, stop whenever we wanted and eat wherever we liked. The driver gave us helpful advice where to go, what to see and...\n",
      "\n",
      "            Show more\n",
      "474\n",
      "Bout India is a young dynamic travel company that specializes in personal planned trips to India. We recently used them based on recommendations from friends for our three week trip in north west India and we were not disappointed. The pre- trip...\n",
      "\n",
      "            Show more\n",
      "475\n",
      "An excellent tour full of sights and experiences. The G Adventures Chief Experience Officer, Raghu, did an excellent job!\n",
      "476\n",
      "Fantastic experience! Great itinerary, with very helpful, knowledgable, and friendly guide in Prado. Highly recommend!\n",
      "477\n",
      "Excellent tour & our CEO Sam was awesome\n",
      "478\n",
      "A great introduction to the cities of Rajasthan. Some lovely accommodation in old noble houses. Particularly liked the time in Ranthambhore National Park\n",
      "479\n",
      "This was an absolutely wonderful trip. Seeing so many things and doing others has given me a great view of this beautiful country. \n",
      "Our guide was terrific and our driver amazing. \n",
      "Highly recommended.\n",
      "480\n",
      "The tour overall was well organized.\n",
      "481\n",
      "An all-encompassing itinerary which allowed us to get a real flavour of Rajasthan with its history and culture. The organisation was excellent, with our guide going out of his way to ensure that everything went smoothly and that our experience was a...\n",
      "\n",
      "            Show more\n",
      "482\n",
      "Best trip ever. Everything worked lick clockwork. The Tajmahal visit was Outstanding\n",
      "483\n",
      "Fab trip, felt fully supported in having a safe experience in an unknown country & culture. Main concerns areas we had travelling to India were quickly put to rest when we met the guide and had the initial briefing\n",
      "484\n",
      "I've had 2 great holidays with G and thoroughly enjoyed both.\n",
      "485\n",
      "After researching many tour companies for our trip to India, we chose Bout India and we’re very glad we did! Throughout our trip at least one member of the team, usually Chahat, would check in with us regularly (via text or phone call) to make sure...\n",
      "\n",
      "            Show more\n",
      "486\n",
      "A great experience. Firstly, India is an absolute assault on the senses. Decorated, vibrant, bustling, passionate, crazy, u name it, india has it. I am glad I booked my tour with himanshu and the team at bout India. I was lined up with guides in each...\n",
      "\n",
      "            Show more\n",
      "487\n",
      "We had a fantastic time in India. Our driver Vikhram was very profesional and helpful. All the guides were great and very knowledgeable. The hotels very comfortable, well located and nice breakfast. Overall a fantastic trip.\n",
      "488\n",
      "We had an absolutely fantastic trip with yolo tours. Its really was a once in a lifetime trip and they had thought of every detail to make our trip so special. We loved every minute of the trip thanks to the hard work of the yolo tour team, our driver...\n",
      "\n",
      "            Show more\n",
      "489\n",
      "We had an absolutely fantastic trip with yolo tours. Its really was a once in a lifetime trip and they had thought of every detail to make our trip so special. We loved every minute of the trip thanks to the hard work of the yolo tour team, our driver...\n",
      "\n",
      "            Show more\n",
      "490\n",
      "Accomodation for this tour was outstanding, exceeding our expectations. The guides were really knowledgeable, funny and made us feel welcome. For the price this tour gave us a lot more that what we expected. Lunch is really your option - reading a...\n",
      "\n",
      "            Show more\n",
      "491\n",
      "Excellent driver (Mr Singh) linked the whole trip together - comfortable vehicle and great driving skill.  We only had 5 days and this tour gave us a good insight into this region of India.  The guides were very knowledgable and willing to talk about...\n",
      "\n",
      "            Show more\n",
      "492\n",
      "It was all in all a decent experience. I was travelling alone so I had to pay thr single supplement, which amounted to basically doubling the price for the tour. Originally, I thought that was costly, but as it turned out, it was a private tour and so I...\n",
      "\n",
      "            Show more\n",
      "493\n",
      "Good tour. \n",
      "Despite getting my start dates wrong, YOLO were very accommodating and changed my dates!\n",
      "494\n",
      "We did budget golden triangle, 5D/4N \r\n",
      "Paid 305usd, guides were working on commision with many shops so we stop at overpriced shop at least 3 times a Day (and spent only 1 hour at the Taj Mahal!!!). Hotels were dirty even for Indian standards, pubic...\n",
      "\n",
      "            Show more\n",
      "495\n",
      "The tour exceeded our expectations. Everyone was professional, organised and knowledgeable. Very good value for money and highly recommend this tour. Majority of the sites are covered and very flexible.\n",
      "496\n",
      "I booked  Golden Triangle tour with my boy friend and it was our first trip to India. It was great experience as they kept all their promises and provided what they committed. We traveled through Golden triangle cities and every new day is more exciting...\n",
      "\n",
      "            Show more\n",
      "497\n",
      "It was a great tour didn't to warry about a thing it was all taken care of about tour is a great and I would remember the company and my tour guide Farman to anyone.!\n",
      "498\n",
      "Awesome trip, and well worth it. The guide Zahid very knowledgeable about the Agra monuments and the areas we passed through as well as the actual destinations. Our driver was Vinod during this trip he was very professional and Zahid was very flexible...\n",
      "\n",
      "            Show more\n",
      "499\n",
      "We had an amazing time during this golden triangle tour! The combination was perfect. It was very interesting! Our tour guide Zahid was energetic, positive person. We had a lot of fun, made great photos. He also recommended us some good places to eat....\n",
      "\n",
      "            Show more\n",
      "500\n",
      "We had an amazing time on our tour! Our guide was super fun and gave us lots of local tips. Would definitely recommend this tour.\n",
      "501\n",
      "We has a great experience, from booking assistance and coordinator with Zahid who was really helpful and flexible to meet our request! To deep immersion in Jaipur, with Raju, Agra with Amer, and closing full day experience in Delhi shaan. Every tour...\n",
      "\n",
      "            Show more\n",
      "502\n",
      "Particularly my complement to my tour guide, Mr. Asif in Agra. I would highly recommend you to request Asif in Agra! A great tour guide, lots of knowledge about the area, friendly and approachable, our driver Vinod was polite, i highly recommended both!\n",
      "503\n",
      "Amazing trip from new Delhi, hotels was very good, our driver Mr. Maansingh was very polite. We would love to recommend our driver Maansingh, our tour guides very knowledgeable, definitely recommend with everyone!\n",
      "504\n",
      "We had a wonderful trip from Delhi, driver was very polite, our tour guides was very knowledgeable we have been many different cities in India. Highly recommended this tour!\n",
      "505\n",
      "If you don't have much time to visit India but would like to get a taste of some of the amazing things in India has to offer, this is the tour of you. Overall I had a vary pleasant tour. Nice tour guides, especially Shaan, who taught me so much about...\n",
      "\n",
      "            Show more\n",
      "506\n",
      "Great tour guides great hotels fantastic driver and tour itself was excellent. Would recommend to any one!\n",
      "507\n",
      "I searched alot before booking the tour but I could not find trustworthy site then I found tourradar and booked this India golden triangle tour and happy with all services\n",
      "508\n",
      "We are from Australia and booked the tour online through tour radar. This was an excellent tour of India's golden triangle tour with amazing India. All the service were excellent highly recommended.\n",
      "509\n",
      "We had a great time in India. India is truly amazing and the people are so humble and very helpful this is our first trip to India. Thanks amazing India tours and tour radar.\n",
      "510\n",
      "We stayed small hotels that was neat and clean and it is good value of money and highly recommend to book on tourradar which is best tour sites\n",
      "511\n",
      "We were 2 friends I searched online and found tour radar it is one of the best site to book the tour so trustable and so convenient to book India's golden triangle tour.\n",
      "512\n",
      "I booked India golden triangle tour online through Tour radar. Being a solo traveler it was a great tour within my budget with such nice and clean hotels and professional guide and driver I feel so safe during the tour.\n",
      "513\n",
      "I was a single traveler from Canada. I booked this tour through tour radar with Amazing India tours. They provided me this tour within my budget and also they provided me so much flexibility during the tour.\n",
      "514\n",
      "We had a great tour with Amazing India Tours. All the services were excellent, guides we're so knowledgeable, driver was very well aware of the places.\n",
      "515\n",
      "I was solo traveller from USA and booked India golden triangle tour with Tourradar and I am happy and got best service of local guides and driver and learn about India culture and I will come back to India again\n",
      "516\n",
      "I had a great time on the Golden Triangle tour. Garima was a pleasure to work with. Everything was well organized; she was responsive to any questions I had, and when at practically the last minute I decided I wanted to go to Mumbai, she organized that...\n",
      "\n",
      "            Show more\n",
      "517\n",
      "We hired Bout India to put together our trip through Rajasthan and Agra. Our tour was part of a more extensive trip through Nepal, Bhutan, and India. Our trip with Bout India was the best part of our entire trip. The hotels, sights, and guides were...\n",
      "\n",
      "            Show more\n",
      "518\n",
      "Travelling with Bout India isn’t simply a tour - it’s a cultural immersion into the glorious and eternal light of India's rich heritage.\n",
      "\n",
      "India's Golden Triangle was breathtakingly beautiful. From the vibrancy of  Delhi to the palaces of the Pink City...\n",
      "\n",
      "            Show more\n",
      "519\n",
      "A very well-planned tailor-made trip by Himanshu and the team. It was a 6-day road trip for a family of 10. The 4/5 stars hotels booked for us were nice, clean and the services were amazing. We did not have any issues with checking in at the hotels. The...\n",
      "\n",
      "            Show more\n",
      "520\n",
      "An excellent tour organised by an excellent & well organised Company in Bout India Tours.\r\n",
      "Right from the start of dealing with the Managing Director Himanshu & his team I knew our trip would be great. This was a private tour with only two of us & we...\n",
      "\n",
      "            Show more\n",
      "521\n",
      "Simply awesome! \r\n",
      "We booked a customised trip with Bout India after researching a number of tour companies based in India. This was one of the best decisions we ever made, as the tour organised by Himanshu and his team was truly amazing where we...\n",
      "\n",
      "            Show more\n",
      "522\n",
      "We had a wonderful trip and an outstanding service from Himanshu. He promptly solved any issues we had and always went the extra mile to make a memorable experience and a wonderful birthday celebration. Thank you, Himanshu!\n",
      "523\n",
      "[Original Text] Himanshu heeft ons prima voorstellen gedaan en dit hadden we nooit allemaal zelf kunnen bedenken met in elke stad weer een goede gids met een berg aan informatie​.\n",
      "524\n",
      "Thank you so much to Himanshu and colleagues for the most wonderful trip. The attention to detail you offered was beyond outstanding. From the moment we landed in Delhi, we did not have to think about anything. Our driver, Amrish was absolutely...\n",
      "\n",
      "            Show more\n",
      "525\n",
      "I have booked the Rajasthan tour package through Bout India for 2 family and am very happy with the way the tour was organised. The choice of hotels were excellent, regular follow up by Bout India team every morning to check how the trip is going and if...\n",
      "\n",
      "            Show more\n",
      "526\n",
      "Very efficient and professional. In the beginning I had some doubts about the payments;  we are living in the Netherlands, we were in contact with a travel agent in India and trip.me is based in Berlin. Everything went very well. At the end of my...\n",
      "\n",
      "            Show more\n",
      "527\n",
      "All went smoothly, good srandard of accommodation and flexibility in the itinerary. Driver spoke reasonable English so we were able to communicate and he made some suggestions which were appreciated. \n",
      "\n",
      "Houseboat was relaxing, great crew and experience.\n",
      "528\n",
      "Unfortunately. this trip was the low point of our month travelling around India.  we were really looking forward to it and it could have been so much better if what was promised had been delivered and there had been any form of decent communication....\n",
      "\n",
      "            Show more\n",
      "529\n",
      "Overall this was as the reviews state a great tour. However on arrival we had a driver but no tour leader with limited English & no detailed itinerary of the tour including what are options etc & accommodation at each location. We were also the only two...\n",
      "\n",
      "            Show more\n",
      "530\n",
      "Genuinely the best trip ever!! The hotels were excellent. We got to experience very beautiful cities. Looking forward to the next adventure with Swastik India.\n",
      "531\n",
      "I booked this tour with Swastik after Golden Triangle Tour. I must i was impressed by the services. Hotel choices were excellent. Driver and guides were professional and knowledgeable.\n",
      "532\n",
      "Had a wonderful time on this southern India tour. Everything was very professionally organized.\n",
      "533\n",
      "It was an awesome and fantastic experience. The tour was everything we were promised.\n",
      "534\n",
      "Amazing trip with a brilliant driver and excellent tour guides.\n",
      "535\n",
      "it was an awesome experience! Many wonderful places to see and experience. Staying at the houseboat was a unique experience.Hotels were excellent and food was outstanding.\n",
      "536\n",
      "Our tour was wonderful.This was our first trip to southern india and we thoroughly enjoyed the whole trip.\n",
      "537\n",
      "VERY GOOD! We preferred private tour with 5 star accommodations. This was our good experience in India and the staff was very helpful. All services were very setisfy and I would book a holiday through them again.\n",
      "538\n",
      "It was my first trip with Yoganshi Travel. When we used all services like hotels with breakfast, transportation were very good. Driver Mr Arif was very good and supportive. We were 3 couples and this was worderful trip for us. In future we will try to...\n",
      "\n",
      "            Show more\n",
      "539\n",
      "We had a very wonderful time in ranthambore and it was a two day trip  for me and my family members. The place ranthambore was so good and there national park of ranthambore was so big and everyone of my family  enjoying so much.\r\n",
      "I would like thanks to...\n",
      "\n",
      "            Show more\n",
      "540\n",
      "Was a memorable trip.\n",
      "541\n",
      "My friend and I took this tour in December, 2021. It was one of our most unforgettable experiences. Everything was planned very well and we enjoyed visits to the wonderful sites and experiences that we had.\n",
      "\n",
      "Ramendra Vikram Singh\n",
      "542\n",
      "I had an incredible holiday in Rajasthan. The trip was very well organized and I really loved the hotels - especially the one in Jodhpur with the swimming pool. Also, Karni did a great job at the hotel in Jaisalmer. Manawa was also lovely. For me, the...\n",
      "\n",
      "            Show more\n",
      "543\n",
      "The Memorable India team did a great job organizing our Golden Triangle and Ranthambore tour. They were in touch with us throughout the trip to make sure we were having a good time, and they even provided us with garlands and souvenirs upon arrival. Our...\n",
      "\n",
      "            Show more\n",
      "544\n",
      "Memorable India offers a well-organized and streamlined tour of the golden triangle with a stop at the Ranthambore National Park. Our driver, Vinod, was professional and provided excellent service throughout the duration of the tour. He was always...\n",
      "\n",
      "            Show more\n",
      "545\n",
      "We were very happy with our tour of Ranthambore. Memorable India was easy to communicate with and accommodated all of our requests. Our driver was very good and took us wherever we wanted to go. The hotels were good, especially the Shiv Vilas, but the...\n",
      "\n",
      "            Show more\n",
      "546\n",
      "Our India tour was fantastic! The property was beautiful and the tour company made it very easy to get there. Raman, our tour guide, was outstanding. He gave us so much rich information and history about the Taj Mahal. He took us to a small place where...\n",
      "\n",
      "            Show more\n",
      "547\n",
      "Our recent trip to Delhi, Agra, and Jaipur was made possible by the great team at Memorable India. Raj did a fantastic job of coordinating everything and making all the arrangements. The hotels we stayed in were very clean, and the car that was provided...\n",
      "\n",
      "            Show more\n",
      "548\n",
      "Memorable India provided excellent hotels, guides, and vehicles at a reasonable price. I recommend their services and will definitely use them again. My Canadian friends were very happy with the Memorable India team's attitude and service. Good job,...\n",
      "\n",
      "            Show more\n",
      "549\n",
      "Our recent trip with Memorable India was amazing - better than we could have ever expected! We were a little nervous at first, but any worries we had quickly disappeared when we arrived.\n",
      "Mr. Raj was fantastic in helping us plan the trip - he was always...\n",
      "\n",
      "            Show more\n",
      "550\n",
      "Our trip with Memorable India was incredible and we cannot recommend them enough! We were a little nervous about the trip at first but Mr. Arun Kumar was amazing at helping us plan everything out and organize our travel. The hotels he booked for us were...\n",
      "\n",
      "            Show more\n",
      "551\n",
      "Memorable India Journeys offers an excellent Rajasthan tour package. Our driver, Vinod, was safe and professional, and Arun did a great job of communicating our itinerary and making sure all our transfers and internal flights were booked. The whole trip...\n",
      "\n",
      "            Show more\n",
      "552\n",
      "We had an excellent experience with the tour company Agra Taj Visit, overall the driver was great and all the tour guides were excellent. Everything was very well planned and carried out, in terms of timing. This golden triangle tour includes the Taj...\n",
      "\n",
      "            Show more\n",
      "553\n",
      "I have Visit 5 day Golden Triangle Tour with Ranthambore with my friend Our tour guides Delhi Rani, Agra Boby and in Jaipur Ranvisjay were informative and knowledgeable. The sites in Agra were beautiful, Ranthambore National Park was wonderful and...\n",
      "\n",
      "            Show more\n",
      "554\n",
      "We did an 7 day tour and visited Delhi, Agra, Jaipur, Fatephur Sikri and Ranthambhore National Park. The whole process was well-organized and hassle free so we had an enjoyable and relaxing (apart from the Delhi traffic!) trip. There was also space for...\n",
      "\n",
      "            Show more\n",
      "555\n",
      "I planned a trip to the golden triangle this December, but we were unsure about the covid crisis but our representatives and accommodations maintained utmost care and followed all guidelines making it a very safe and secure travel. On our arrival we...\n",
      "\n",
      "            Show more\n",
      "556\n",
      "I just got back from my Golden Triangle tour in India. I can highly recommend the tour - Agra’s sites are beautiful, Ranthambore National Park is serene and wonderful (whether you see tigers or not!) and Jaipur is a bustling and vibrant city, day and...\n",
      "\n",
      "            Show more\n",
      "557\n",
      "We have just finished our trip with Agra Taj visit, and had such an amazing time. We were a little apprehensive about our trip at first but we felt it really could not have gone better, and any worries we had soon subsided on arrival. Mr Arun was great...\n",
      "\n",
      "            Show more\n",
      "558\n",
      "We have had the Five day Golden Triangle Tour with ranthambore safari and the services rendered by Agra Taj Visit and Akhatar were professional, on time, he was responsive to our wishes and ideas to visit the different places, helping us also to...\n",
      "\n",
      "            Show more\n",
      "559\n",
      "All arrangements made by Agra Taj Visit-through Rajesh and Sumit-exceeded our expectations.All hotels were fitted very well to our needs.We especially liked the imperial in Delhi. The driver that was sent to pick us from delhi was very polite and...\n",
      "\n",
      "            Show more\n",
      "560\n",
      "Had a great time doing the golden triangle tour over 5 days. Toured Jaipur, Agra, Delhi and Ranthambore. Everything was arranged from the time I stepped off the plane until I arrived back at the airport. Professional driver, great guides, and excellent...\n",
      "\n",
      "            Show more\n",
      "561\n",
      "We had the best time! Can highly recommend this company!! Driver was very good and professional. He picked us up at the airport and spent the week with us. Always on time and very safe driver.\n",
      "Local tour guides for each location. They were knowledgeable...\n",
      "\n",
      "            Show more\n",
      "562\n",
      "Our trip leader, Arpu, was absolutely incredible! She was so organized, caring, and attentive. She really made this trip a joy for our entire group, and especially me.\n",
      "563\n",
      "Arpu is a goddess. So much love forher hospitable care and carisma to all inputs of our journey.\n",
      "564\n",
      "Kanika was an excellent guide because she was more than a guide, she was our friend throughout our entire journey and we could go to her for anything we needed.\n",
      "565\n",
      "It would be perfect except for the fact that things sometimes felt rushed and the accommodation was (often) way too far away from major attractions.\n",
      "566\n",
      "Kanika was a great tour leader and made me feel comfortable, especially being the youngest in the group!\n",
      "567\n",
      "Tour group and leader\n",
      "568\n",
      "Wide range of activities and good value for money\n",
      "569\n",
      "Affordable, amazing guides, incredible experiences. Looked after very well.\n",
      "570\n",
      "Stress free authentic travel experience\n",
      "571\n",
      "Great options for trip lengths, number of people on trip, and different age groups. The group I was with suited my travel style perfectly, the trip length and style was great for what I wanted.\n",
      "572\n",
      "Thanks to the driver Manish and his constant personal assistance, care, reliability I had the most wonderful trip ever. Manish is well educated, speaks English fluently, is a great driver on those hectic Indian roads. He does everything in his power to...\n",
      "\n",
      "            Show more\n",
      "573\n",
      "I did an 8 day tour with varanasi excursions that included golden triangle, udaipur and mumbai.\n",
      "\n",
      "They told me that in all sightseeing points i would be with an experienced guide, but it wasn´t the case. Actually, the first day the guide didn´t speak...\n",
      "\n",
      "            Show more\n",
      "574\n",
      "My tour was wonderful. I got to see so much in my short trip. I was lucky enough to see a tigress at Ranthambore. My guide in Delhi was great. My guide in Jaipur was amazing. He really went above and beyond. My driver was the absolute best. He is such a...\n",
      "\n",
      "            Show more\n",
      "575\n",
      "Our all tour experience was  well organised.one of the best guide kasif in india.Taj Mahal & tigers Experience.\n",
      "576\n",
      "Varanasi Excursion tours is amazing!  I took my 17-year-old daughter from America to India for nine days.  From the moment we stepped off the plane, our transportation, lodging, and guide-led sightseeing were taken care of.   The hotels were very nice,...\n",
      "\n",
      "            Show more\n",
      "577\n",
      "Hotel location on the first night wasn't ideal but the rest of the hotel quality and location was good.\n",
      "578\n",
      "Hello Aamir. We arrived safely and safely at home. Thank you and all your team for helping to make the whole trip enjoyable and easy. . I also thank you for your gift and for your hard work that ensured our wonderful holiday. I'm sure Lynda will share...\n",
      "\n",
      "            Show more\n",
      "579\n",
      "Thank you Mr. Arun for organizing a very memorable tour and for your kind, personal gesture on our anniversary.🥂\n",
      "\n",
      "Our driver Ali was terrific.\n",
      "He drove us through many precarious situations and always delivered us safely and in a timely fashion...His...\n",
      "\n",
      "            Show more\n",
      "580\n",
      "Our Golden Triangle Tour with Ranthambore. We enjoyed the whole tour five day tailor-made for us by Agra Trip. Everything was perfect from the beginning to end. Prompt Whatsapp communications by Rajesh to make the itinerary suit to our interest. Only...\n",
      "\n",
      "            Show more\n",
      "581\n",
      "We have just finished our trip with Agra Trip  and had such an amazing time. We were a little apprehensive about our trip at first but we felt it really could not have gone better, and any worries we had soon subsided on arrival.\n",
      "Mr Rajesh Singh  was...\n",
      "\n",
      "            Show more\n",
      "582\n",
      "Me and my wife only had a short period of time in India to see the sights before attending a wedding. With such a short period of time available, golden triangle with Ranthambore was an amazing experience to distill all of the main attractions in north...\n",
      "\n",
      "            Show more\n",
      "583\n",
      "I had an amazing week of visiting the ancient cities of Agra and Jaipur and  New Delhi. In each location I was greeted with a very goiod Guide who provided information on local sights. Every night I stayed in a comfortable hotel with air conditioning...\n",
      "\n",
      "            Show more\n",
      "584\n",
      "We have just finished our trip with Agra Trip, and had such an amazing time. We were a little apprehensive about our trip at first but we felt it really could not have gone better, and any worries we had soon subsided on arrival.\n",
      "Mr Rajesh Singh was...\n",
      "\n",
      "            Show more\n",
      "585\n",
      "We have booked Golden triangle with Ranthambore with Agra Trip for a first holiday in India .Gets ensured we had a smooth pickup and transfer from the airport to our hotel which they also arranged . Throughout the tour we was supplied with a driver and...\n",
      "\n",
      "            Show more\n",
      "586\n",
      "We a group of 10 people recently returned to our native place after our 4 Nights and 5 Days Golden Triangle Tour. It was really exceptional tour managed by Agra Trip. Rajesh was very responsive and flexible with all my travel needs and went over and...\n",
      "\n",
      "            Show more\n",
      "587\n",
      "Our trip with Golden Triangle tours was amazing. Our driver Avinash was always punctual polite and friendly and navigated the traffic in India with admirable skill. Our tour guides in each location were friendly and packed full of knowledge including...\n",
      "\n",
      "            Show more\n",
      "588\n",
      "Had a wonderful well organized tour to the Golden Triangle with Ranthambore by Agra Trip. Efficient, professional and well versed guides and driver provided by Agra Trip. Looking forward to visiting other parts of India with Agra Trip. Keep up the good...\n",
      "\n",
      "            Show more\n",
      "589\n",
      "Very user friendly. Customer service was prompt and helpful\n",
      "590\n",
      "Dushyant was unbelievably great!\r\n",
      "He was involved 100%\r\n",
      "Very good understanding of what the group wanted and needed\r\n",
      "All the little things were all sorted without issue\r\n",
      "He is a very good guide and great human being!!\r\n",
      "\r\n",
      "10 out of 10\n",
      "591\n",
      "The whole trip was well organised for the time it lasted.\n",
      "592\n",
      "This was a great tour and I got to see the highlights of the best parts of India. I didn’t like the first hotel in Agra (cleanliness wasn’t great) but the hotels in Jaipur and Goa were excellent! The drivers were also very skilled and the tour guides in...\n",
      "\n",
      "            Show more\n",
      "593\n",
      "It was a great trip. Had a delightful experience. Last few days at Goa were very relaxing.\n",
      "594\n",
      "Amazing tour. Everything was perfect on this tour.\n",
      "595\n",
      "We had a fantastic time..Hotels were amazing. Guides were very knowledgeable.\n",
      "596\n",
      "This tour exceeded our expectations. Everything was better than we expected. Hotels were excellent.Guides were amazing with great knowledge. Our driver Kamal was the best. We are happy that we chose Swastik as our travel partner.\n",
      "597\n",
      "It was an excellent tour.We had a great time.\n",
      "598\n",
      "Wonderful way to see the best of India. We really enjoyed our very first trip to India.Goa was amazing.It was nice to have some time to relax.\n",
      "599\n",
      "The tour was very well organised. Karni and his team organised an amazing trip for me and my family. All hotels were as promised. Our drive Sushil was excellent. All guides were very knowledgeable.The guide Kaushal in Jaipur was the best.He was very...\n",
      "\n",
      "            Show more\n",
      "600\n",
      "My wife and I flew to Delhi from London and were met at the airport by the driver who accompanied us on our Golden Triangle and Goa tour\n",
      "\n",
      "It was an excellent, well organised and exciting tour. All  hotels were first class. We had  different guides in...\n",
      "\n",
      "            Show more\n",
      "601\n",
      "Wonderful!Loved the knowledge and passion of tour guides. Got to see so much of India in short period of time..\n",
      "602\n",
      "We Got to know about MTA Destination through Tour Radar. I would say that we were not disappointed by our choice. They planned a faboulous tour for us. They greeted us with Garlands at Airport, the Car was very clean. The Hotels were really Great in the...\n",
      "\n",
      "            Show more\n",
      "603\n",
      "As an older woman traveling alone, I was a little dismayed to find that I was the only person to sign up for this particular tour. Even my Indian friends were concerned. But there was no need to worry! My stellar driver, J.P., showed the utmost care for...\n",
      "\n",
      "            Show more\n",
      "604\n",
      "Excellent trip. Worth every penny.\n",
      "605\n",
      "We booked this tour with MTA Destinations in the beginning of this year and we did not regret our decision.\n",
      "MTA organized our tour to the perfection. The selection of hotel was commendable, we booked the superior category hotels with them and all of the...\n",
      "\n",
      "            Show more\n",
      "606\n",
      "I was very pleased with the service that I received from our travel company. This was an amazing trip. Our guide was professional yet a lot of fun. The food was healthy and delicious. \r\n",
      "Thanks, MTA Team to make enjoyable trip.\r\n",
      "\r\n",
      "\r\n",
      "\"\n",
      "607\n",
      "We had an absolutely wonderful time.  The tour was as advertised and all we had to do was arrive and enjoy.  The places we visited were spectacular and the tour guides were all so knowledgeable and friendly.  Accommodations were excellent. Our driver,...\n",
      "\n",
      "            Show more\n",
      "608\n",
      "[Original Text] Il nostro viaggio in India è stato fantastico, sopratutto grazie all'aiuto e organizzazione di Manish di MTA. Il tour è organizzato molto bene e tutte le persone che ci hanno accompagnato (guide e autisti) sono persone competenti e...\n",
      "\n",
      "            Show more\n",
      "609\n",
      "Manish is the best guide to India, expert so far and very clever and polite\n",
      "610\n",
      "It was a beautiful trip organized with great attention.  Thanks to My Tour Adviser I was able to visit fantastic places.\n",
      "611\n",
      "Fantastic! We really enjoyed it\n",
      "612\n",
      "The idea of travelling by train to different cities and getting picked up by different tour guides was a great idea. Tour guides had different strengths and weaknesses. Overall good experience although a little on the pricy side.\n",
      "613\n",
      "It was a really good trip, and drivers very helpful and knowledgeable of areas.\n",
      "614\n",
      "Everything on our tour went like  clockwork, except for the trains and this unfortunately can't be avoided.\n",
      "Our drivers and guides were always on time, mostly early and all were very knowlwdgeable re their cities and subjects. Our hotels were all very...\n",
      "\n",
      "            Show more\n",
      "615\n",
      "Overall a great tour.  Highlights were the train rides, the guides, and the monuments.  Hotels could have been better, I wish all of them were as good as the hotel in Jaipur.  Amit was excellent and accommodating in every aspect of the tour.  Best guide...\n",
      "\n",
      "            Show more\n",
      "616\n",
      "Very well organized tour.  All guides and drivers were good, Mr. Kashana was especially excellent.\n",
      "617\n",
      "The tour was really good, the guides bring you to all of the major attractions in the cities and are happy to accommodate your needs. The hotels were also very good and train journeys were pleasant. The only part we disliked was when we were brought to...\n",
      "\n",
      "            Show more\n",
      "618\n",
      "The tour was really nice, we really enjoyed the places we visited, the accommodations and the tour guides. I would definitely recommend the train rides, they were safe and, in my opinion, much calmer than car rides. My only complaint is regarding some...\n",
      "\n",
      "            Show more\n",
      "619\n",
      "Very excellent tour.. guides and drivers Throughout were very good.. highly recommended.. Thank u\n",
      "620\n",
      "Really good tour.\r\n",
      "Hotels were great.\r\n",
      "Perhaps need a rest day on the first day instead of the afternoon tours.\r\n",
      "Also in Agra the tour finished by 9:30 but the train was not until 5. We had to be out of the hotel room by midday which meant a lot of time...\n",
      "\n",
      "            Show more\n",
      "621\n",
      "The tour exceeded our expectations in every way. Hotels were excellent. Guides were knowledgeable. Loved staying at the houseboat. It was a unique experience.\n",
      "622\n",
      "It was a wonderful experience. Our driver Swami was the best.\n",
      "623\n",
      "This tour was amazing, we really enjoyed it! Our driver Jinoy who was nice and helpful with everything.\n",
      "624\n",
      "Best tour ever!! Golden triangle tour was amazing.Goa was a perfect way to end the trip. It was peaceful and relaxing.\n",
      "625\n",
      "The tour was a brilliant adventure.  The hotels were excellent with good facilities with a range of activities, particularly for health conscious travellers in this part of the world. The driver was excellent, responsible and knowledgeable.\n",
      "The guides...\n",
      "\n",
      "            Show more\n",
      "626\n",
      "Had a wonderful time. Houseboat stay was amazing. Hotels were excellent. Driver and guides were very professional and helpful.\n",
      "627\n",
      "It was an excellent trip.it gave us lots of good memories. The trip was overall one of the best experiences of my life.\n",
      "628\n",
      "The tour was amazing.I had the best time of my life. Staying at houseboat was like a dream. Totally recommend this trip.\n",
      "629\n",
      "Best way to experience south India in a short period of time.Everything went as planned and we had a wonderful time. Staying at houseboat was a great experience. We have no doubt in recommending this tour to other travelers.\n",
      "630\n",
      "Wonderful trip to southern India. We had an amazing time. We highly recommend using Swastik India Journeys.They have one of the best customer support teams.\n",
      "631\n",
      "The overall experience was outstanding. Hotels were comfortable with delicious breakfast. Sightseeing places were spectacular. I would highly recommend this tour.\n",
      "632\n",
      "We had a wonderful time on this tour. Services offered by Swastik India were impressive. Hotels,guides,driver everything was just perfect. We highly recommend this tour.\n",
      "633\n",
      "Very professional tour and a great experience\n",
      "634\n",
      "From start to finish Swastik India Journeys did a fantastic job! The communication and response was quick and efficient from the very first mail.The were very flexible with our requirements. The driver was one of the most professional people we have...\n",
      "\n",
      "            Show more\n",
      "635\n",
      "Fantastic trip! Each day  offered something different: the cultural events, the beautiful scenery, overnight stay on houseboat.\n",
      "The most I liked the trekking in  Munnar tea plantations.\n",
      "636\n",
      "I was on my own on this tour , i expexted to share with others, but when arrived i discovered it was just me and the driver. The driver Paulo was very nice and attentive , a real bodyguard,but the conversation a bit limited by his rudimental english.\r\n",
      "I...\n",
      "\n",
      "            Show more\n",
      "637\n",
      "The trip was amazing. The driver and tour guides were awesome.\n",
      "638\n",
      "Loved my trip to Southern India with Swastik India Journeys. The guides and driver were amazing.Hotels were clean and comfortable.Overall,it was a wonderful experience.\n",
      "639\n",
      "It was a life changing experience.All guides were professional and knew everything.Hotels and meals were excellent. Our tour was perfect in everyway.This trip is highly recommended.\n",
      "640\n",
      "I had so much fun on this tour.My driver was awesome.He took very good care of me. I felt safe and comfortable with him.Service throughout the tour was excellent.All hotels were very good.I enjoyed my stay at the houseboat. Loved each and every minute...\n",
      "\n",
      "            Show more\n",
      "641\n",
      "Wonderful tour with amazing sights and once in a lifetime experiences!!\n",
      "642\n",
      "First time on intrepid trip, the information provided before travel outlined accurately the destination and activities\n",
      "643\n",
      "Every aspect of the trip was excellent and I would do it again!\n",
      " I can't recommend booking via Intrepid Germany, though... so I'd recommend it to everyone else. :)\n",
      "644\n",
      "Unbelievable experience and everything went very smoothly\n",
      "645\n",
      "I like the way ,tour was organise though hectic\n",
      "646\n",
      "Great trip. Diverse landscapes and religions and sites. Excellent guide. Harsha was informative, helpful, always went out of her way for you and very approachable.\n",
      "647\n",
      "The whole trip was a huge adventure the real India experience. Fantastic.\n",
      "648\n",
      "Fabulous trip so much diversity made all the more special by our guide Harsha she went above and beyond.\n",
      "649\n",
      "Fantastic trip very well organised. Leader very approachable and very amenable. Always happy to assist.Really felt we were immersed in Indian culture.\n",
      "650\n",
      "very good tour but itinerary not accurate\n",
      "651\n",
      "Well organized tour, great guides and drivers.  They were very accommodating. All but one hotel/resort were good.\n",
      "652\n",
      "I have just returned from a wonderful trip to 3 National Parks in India covering\n",
      "Bandhavgarh,Kanha and Pench including Taj Mahal.The tour was organized \n",
      "very well and from the day one till the end of the Tour, I was informed\n",
      "regularly about the tour...\n",
      "\n",
      "            Show more\n",
      "653\n",
      "I would like to express my deepest gratitude to Mr. Hemender Singh and the entire Travel Con team!\n",
      "\n",
      "At the stage of planning the trip, I quickly received answers to my questions. The tour itself was organized very well! My husband and I liked...\n",
      "\n",
      "            Show more\n",
      "654\n",
      "I've recently done the “Wildlife and Romantic Taj Mahal Tour”. Little did we know of how well informed he was of the trip to all destinations and sights. Great. I will definitely recommend this company to any tourist doing the 11 Days of India's popular...\n",
      "\n",
      "            Show more\n",
      "655\n",
      "Completely recommend this tour, had a great time. The hotels were amazing, the food, services... I felt very safe as well, as I was travelling alone with my sister. I would definitely come back to India again.\n",
      "656\n",
      "I have now travelled with Memorable India twice and I cannot speak highly enough of them. I have seen some truly fantastic things. My one criticism would be for the app to be sorted out, as it has crashed on me too many times.\n",
      "657\n",
      "I had a great time on my golden triangle tour. I would tell anyone considering this type of trip to make sure they pick the level of trip that suits them best.\n",
      "658\n",
      "Our group of eight travelled on a private golden triangle tour. Our driver and guide were both friendly and very knowledgeable. We visited the Taj Mahal and Amber Fort along with many other attractions. Our guide was very accommodating to changes in our...\n",
      "\n",
      "            Show more\n",
      "659\n",
      "Bout India led my extended family of 18 (ages 6 through 77) on a truly unforgettable tour of the Golden Triangle and Varanasi over the Christmas break. We have traveled extensively throughout the world, using a number of luxury tour companies (often...\n",
      "\n",
      "            Show more\n",
      "660\n",
      "Bout india led my extended family of 18 (ages 6 through 77) on a truly unforgettable tour of the Golden Triangle and Varanasi over the Christmas break. We have traveled extensively throughout the world, using a number of luxury tour companies (often...\n",
      "\n",
      "            Show more\n",
      "661\n",
      "One of the things that we like to do when we travel abroad, is to use a local tour operator. The first reason for this is that we want to maximize our tourist dollars to local people who can benefit. The second reason is that you can get the passion for...\n",
      "\n",
      "            Show more\n",
      "662\n",
      "Excellent guide, very well organized tour\n",
      "663\n",
      "it was definitely not a luxurious trip but very adventourous and memorable. Would do it again!\n",
      "664\n",
      "An absolutely amazing 2 weeks of incredible sights, scenery and food! Each day was packed full of activities and exciting things to see, and there were lots of optional extras organised by our guide to fill the free time. You get a real feel for the...\n",
      "\n",
      "            Show more\n",
      "665\n",
      "Amazing experience. Our CEO Shivraj was the group backbone. Without him we wouldn't of enjoyed ourselves so much. From great restaurants to travel arrangements. You could kick back and really enjoy the Indian culture. As a result of the calming...\n",
      "\n",
      "            Show more\n",
      "666\n",
      "Abhi was such a great guide - he really went above and beyond when we had any needs or concerns. He was super friendly and funny and made the experience incredible!\n",
      "667\n",
      "Our guide Adi was amazing and showed us the best of India.\n",
      "668\n",
      "I have excellent tour. Very memorable\n",
      "669\n",
      "Pradyuman Chauhan (Prado) was an amazing guide.  He made the trip so much easier and enjoyable from upgrading our transportation, to sorting outing issue we raised to suggesting places to go from our specific interests.  I had an amazing time in India...\n",
      "\n",
      "            Show more\n",
      "670\n",
      "We thouroughly enjoyed our time in India and found this trip a great way to see as many sights in such a short space of time. Also enjoyed the different transportation options we used to get around, it helped us to get an idea of the culture and way of...\n",
      "\n",
      "            Show more\n",
      "671\n",
      "Overall experience was amazing. Was very full on at times with early mornings and lots of travelling. Day in Mumbai needs to be re thought as it was such a rush, and the groups energy level was slower given the 3am meeting time. But thoroughly enjoyed...\n",
      "\n",
      "            Show more\n",
      "672\n",
      "Tour well timed and we saw everything on the itinerary\n",
      "673\n",
      "We had the most memorable experience, due to our guides, who were informative and made sure our holiday was first class\n",
      "674\n",
      "Just Fantastic. Our 10 days tour was well planned. No stress at all. The hotels provided was suitable for my family and our driver was great. Would highly recommend Gets Travel\n",
      "675\n",
      "The tour has many extra payments that you are originally not made aware of. Absolutely no tickets are included, and you have to tip every guide/driver you have, including tipping for rickshaw/elephant ride which the tour stated the price is included....\n",
      "\n",
      "            Show more\n",
      "676\n",
      "We had an amazing experience during our tour organised by Gets Holidays. Everything went well and smooth since the day I first contacted the Company till the end of the tour. All members of the staffs were very helpful during the booking and...\n",
      "\n",
      "            Show more\n",
      "677\n",
      "A sincere and heartfelt thank you to all official and outside stationed staff of GeTS . I appreciate and validate your care and concerns throughout my entire stay/tour. without hesitation you go the extra mile for your guests. . A lifelong dream of mine...\n",
      "\n",
      "            Show more\n",
      "678\n",
      "Well organised from airport pickup to drop-off.\r\n",
      "Great hotel selection.\r\n",
      "Our driver Ishvar was a safe and excellent driver who also gave us local information along the tour.\r\n",
      "Duration of the tour and sites was really good for the time we had in India....\n",
      "\n",
      "            Show more\n",
      "679\n",
      "I had a 4 days tour with GeTS Holidays, as a solo female traveler. Communication went very well from the first email contact with Apurva, to set a schedule for the tour, until the last day of the tour. I would recommend using this agency for a safe &...\n",
      "\n",
      "            Show more\n",
      "680\n",
      "The guide us Delhi was horrible.  His facts were inaccurate and he misrepresented that we were to visit a craft market and workshop - and we went to a private business.   We only drove by half the items on agenda. \n",
      "\n",
      " The drive for the week was...\n",
      "\n",
      "            Show more\n",
      "681\n",
      "Excellent trip arranged by GeTS Holidays\n",
      "682\n",
      "My travel with MTA has been incredibly smooth. I am a solo female traveler doing a spirituality based trip in many different cities in India, and I have felt safe and comfortable everywhere I’ve been with several different MTA guides and drivers- which...\n",
      "\n",
      "            Show more\n",
      "683\n",
      "Shilpi Khanna, the owner of Wonderful Holidays, arranged all our accodomations for the tour. The Hotel choices were perfect. There was a great mix of traditional and modern hotels. \n",
      "\n",
      "We met our chauffeur at the airport who stayed with us for the entire...\n",
      "\n",
      "            Show more\n",
      "684\n",
      "It was an amazing experience with everyone in the tour and was very well managed by the organiser Shilpi and the guide (Vivek) who was very polite and professional…\n",
      "\n",
      "I will give 5 star rating for my wonderful trip with wonderful holidays and will...\n",
      "\n",
      "            Show more\n",
      "685\n",
      "A great tour and company to do it with. We especially appreciated our driver Shiva.\n",
      "686\n",
      "Being a solo, I was a little apprehensive at first. But the owner connected with me throughout the journey and made me feel comfortable. My driver also made sure that he drove perfectly amidst lots of traffics and Indian roads. The hotels booked for me...\n",
      "\n",
      "            Show more\n",
      "687\n",
      "I was a little worried as a woman going on this trip, but I didn't have to worry as I felt very well cared for by my driver, all the guides and staff at the hotel .. It was a great trip. My favorite parts are Amber Palace, Jaipur and Taj Mahal in Agra!...\n",
      "\n",
      "            Show more\n",
      "688\n",
      "They were arguably the most efficient and helpful  of any company or service we have dealt with. The biggest recommendation from my side! If you want to be sure, respond quickly to unexpected situations and understand the service, feel free to book. I...\n",
      "\n",
      "            Show more\n",
      "689\n",
      "Amazing Trip and our experiences with Wonderful Holidays India. \n",
      "\n",
      "My partner and I arranged a 1-week tour with Wonderful Holidays. Then we went  Agra which is amazing and classic the Beauty of the Taj Mahal. Special Highlights are Taj Mahal, when you...\n",
      "\n",
      "            Show more\n",
      "690\n",
      "My wife and I went on the golden triangle tour with Wonderful holidays for 5 days. We had an excellent service, all the suggestions of attractions were amazing. All three cities were beautiful. In Jaipur, we enjoyed the Choki Dhani puppet show. Delhi we...\n",
      "\n",
      "            Show more\n",
      "691\n",
      "Memorable Golden Triangle Tour with Varanasi \n",
      "\n",
      "I would like to highly recommend this company to anyone wanting to explore India.\n",
      "We have experienced such a wide range of Indian culture, and spiritual tour. We explored the Golden Triangle and Varanasi...\n",
      "\n",
      "            Show more\n",
      "692\n",
      "I have travelled the best cities which takes you to three prime destinations Delhi,Agra,Jaipur. These three cities are the crown or say even gem cities in the different states. I have travelled through this company and had a fantastic trip. They are...\n",
      "\n",
      "            Show more\n",
      "693\n",
      "Golden Triangle Luxury trip from Delhi By Car was a good tour package for the major attractions in India. Hotels were outstanding, driver Ajay was friendly and flexible. Tour guides in all the cities were highly knowledgeable and experienced to explain...\n",
      "\n",
      "            Show more\n",
      "694\n",
      "It was a great experience. Taj Mahal is beautiful and Agra has couple of more monument to see apart of Taj Mahal. Jaipur is a kind of galaxy of the monuments as it has too many places to explore and two days are good enough for that. Delhi is also a...\n",
      "\n",
      "            Show more\n",
      "695\n",
      "Good trip. Operator was good in the terms of taking care of the traveler. I had a nice tour in India\n",
      "696\n",
      "Luxurious golden triangle tour was a good trip for Delhi Agra and Jaipur. These are the cities which are full of the historical monuments. Everything was fantastic and we'll organised. We are thankful to the operator for making our tour worthy\n",
      "697\n",
      "5 days golden triangle luxury tour was an amazing experience with a private driver jitendra. Good Driver and an hotel was very good. Overall it was a good trip\n",
      "698\n",
      "Luxurious hotels in all the city made the accommodation very fine. The tour was well designed and perfectly organized. India is a beautiful country and has a lot to explore but due to a short period of time, me and my wife has only went for Delhi Agra...\n",
      "\n",
      "            Show more\n",
      "699\n",
      "Golden Triangle Luxury tour has an City to visit the major and historical monuments in India including Delhi, Agra and Jaipur. These cities are very popular for tourists. Tour guides in each city was very knowledgeable and friendly. My family has...\n",
      "\n",
      "            Show more\n",
      "700\n",
      "Truly luxurious hotels very impressive and had a nice experience in India for the best cities of India\n",
      "701\n",
      "I was a female solo traveler and Akil the tour operator was recommended by one of my friends. I booked the tour and Akil was responsive, he customized the tour as per my requirements and It was a awesome tour. Delhi, Agra and Jaipur is a most popular...\n",
      "\n",
      "            Show more\n",
      "702\n",
      "Felt the luxury on the tour, It was excellent trip and things were organized very well. I have gone to the best cities of India which was delhi agra and jaipur. Each city has it's own culture and specialty. All guides were very good and the tour was...\n",
      "\n",
      "            Show more\n",
      "703\n",
      "The tour was very enjoyable. The driver, guides and reps couldn’t do enough for us. The online booking was good and all queries answered very quickly. The hotels were good all were 4/5 star. Everything Went smoothly. I would definitely use Tour Radar...\n",
      "\n",
      "            Show more\n",
      "704\n",
      "The trip was excellent and our group leader Mohan Shukla did a great job in guiding us through the northern part of India. There is so much history, culture, and cuisine to enjoy in India. The small size of the group (16 of us) made for an intimate and...\n",
      "\n",
      "            Show more\n",
      "705\n",
      "Memorable India is the perfect way to travel to unique places without any stress. My group leader is always professional and makes sure that I learn a lot about the places we visit. They have no trouble managing difficult personalities and make the trip...\n",
      "\n",
      "            Show more\n"
     ]
    },
    {
     "name": "stderr",
     "output_type": "stream",
     "text": [
      "\r",
      " 48%|████▊     | 996/2065 [00:00<00:00, 2092.90it/s]"
     ]
    },
    {
     "name": "stdout",
     "output_type": "stream",
     "text": [
      "706\n",
      "We had been to Africa on a safari trip before and thought that it couldn't get any better than that. But we were surprised when we went to India. The experience between the two continents is so vast. Africa has abundant wildlife, but India has an even...\n",
      "\n",
      "            Show more\n",
      "707\n",
      "Fantastic family trip\n",
      "708\n",
      "It was a very memorable trip. We explored a lot of places. Our driver and guide was very helpful and polite. He was always with a wonderful smile. He made us feel very comfortable.\n",
      "709\n",
      "The tour was truly amazing! I loved every minute of it.\n",
      "710\n",
      "I just wanna say thank you to shanu from raj travel\r\n",
      "Without this company it was very tough for me\r\n",
      "From bottom to top\r\n",
      "From starting till end\r\n",
      "Each and everything was too good\r\n",
      "\r\n",
      "\r\n",
      "Recommended.\n",
      "711\n",
      "Trip overall is very good but I’m giving you 4 stars because many admission fees overwhelmed me which many of them doesn’t accept credit cards. It would be much better to include all admission fees with package to avoid obstacles. Also no ideas how much...\n",
      "\n",
      "            Show more\n",
      "712\n",
      "We planned a vacation of india \n",
      "Raj travels did everything which they promised to me. From starting till end they provided me the best tour guides team and my driver was very professional. As a solo lady tourist I felt very safe.. \n",
      "\n",
      "Recommended..\n",
      "713\n",
      "That was the cool experience from car rental agra\n",
      "My journey was begin from delhi to visit delhi,agra and jaipur\n",
      "The services which i got like car,driver,tour guide everything was perfectly managed by them.\n",
      "\n",
      "\n",
      "Recommended for all.\n",
      "Thank you\n",
      "714\n",
      "Satisfied tour\r\n",
      "We planed to visit agra from Delhi in a very short time then we contact this company\r\n",
      "They did everything for us like they arranged the car,guide and everything which we wanted. We are very satisfied with all the services.\n",
      "715\n",
      "Satisfied tour\n",
      "We planed to visit agra from Delhi in a very short time then we contact this company\n",
      "They did everything for us like they arranged the car,guide and everything which we wanted. We are very satisfied with all the services.\n",
      "716\n",
      "We had Greatest experience from this tour \n",
      "The highlight of the tour was the Taj Mahal all the services from company....guide and driver was too awesome.\n",
      "Recommend\n",
      "717\n",
      "We had wonderful 5 day trip from New Delhi, our driver singh came on time and our all tour guide was very professional and friendly, Mr Singh took many pictures and took us wonderful place to have lunch, overall our experience was wonderfull, we will...\n",
      "\n",
      "            Show more\n",
      "718\n",
      "The Taj Mahal tour was amazing! It was very interesting to learn the history about the Delhi, Agra, Jaipur and to see all the intricate work that was around the walls. Zahid was an excellent tour guide and the service provided was very good. He was very...\n",
      "\n",
      "            Show more\n",
      "719\n",
      "Just finished my tour of visiting Agra. The driver was on time for the pick up, extremely courteous and good driver. We felt safe in the car considering the traffic and how they drive. Our tour guide Zahid was one of the best we ever encountered while...\n",
      "\n",
      "            Show more\n",
      "720\n",
      "The accommodation was rated as 3/4 star and the price point matched. However the facilities and cleanliness was not at that level. This was the first time using On The Go Tours and my 6th tour via a provider so feel I have a good comparison.\n",
      "721\n",
      "I love On the Go. I have travelled with them 4 tours now. Always well organized with knowledgable tour leaders.\n",
      "722\n",
      "All services has been fantastic and we are really happy with driver deep chand who has been great person in our tour.\r\n",
      "Highly recommend\n",
      "723\n",
      "Everything about this tour exceeded our very high expectations. The connections and transfers all worked smoothly. The hotels were all first class but most importantly the Amazing India team were available (and did respond) 24/7\n",
      "We recommend them very...\n",
      "\n",
      "            Show more\n",
      "724\n",
      "It was very long tour for us but we cover everything of india which is highlighted and driver was good and hotels was good and lovely and spent so much with sightseeing that's great and highly recommend\n",
      "725\n",
      "Very good services and all was perfect and have seen tigers and did boat ride on ganges and it was truly amazing experience\n",
      "726\n",
      "We loved luxury india tour and happy with tour price and also loved our driver sandeep and local guides in each cities was good\n",
      "727\n",
      "We are honeymoon couple from Australia and booked luxury india tour for first time for India and hotels was good and we had private driver sandep and all local guides was amazing and we are also happy with tour price which was okay for us and highly...\n",
      "\n",
      "            Show more\n",
      "728\n",
      "Great experience with Ramesh  he is a well educated and professional guide. Safe and beautiful 14 day tour which included the Golden Triangle and Varanasi. Highly recommended, safe, no COVID issues. Every detailed was arranged by our guide on a private...\n",
      "\n",
      "            Show more\n",
      "729\n",
      "We had the most memorable experience, due to our guides, who were informative and made sure our holiday was first class we highly enjoyed luxury India tour.\n",
      "\n",
      "Thank you for wonderful programme\n",
      "730\n",
      "Tour well timed and we saw everything on the itinerary that was promised we are quite happy to see north India with professional english speaking guide.\n",
      "731\n",
      "Best hotels and driver Deepak was helpful in taking photos of monkeys and temple guide speak good English and please book this tour in advance.\r\n",
      "\r\n",
      "Thank you team of tourradar\n",
      "732\n",
      "Too much shopping time with hard-sell merchants.\n",
      "733\n",
      "That was a tour of a lifetime! My family of 4 2 children (11 and 15) had a splendid time in India taking amazing and extraordinary pictures in really  amazing and wonderful places. Some of our guides were really great at photography and took so many...\n",
      "\n",
      "            Show more\n",
      "734\n",
      "Heritage India tour was a brilliant choice since we love staying in extraordinary hotels with really good service. As a couple in our mid- sixties we found Heritage India tour suitable and convenient for us. The hotel ambience is heritage hotels is...\n",
      "\n",
      "            Show more\n",
      "735\n",
      "20:17\n",
      "Most of the hotels provided by the travel agency were beyond expectations and we didn't expect to have such nice accommodation in India before the tour. Apart from that service of the personal driver was great since we could stop whenever we...\n",
      "\n",
      "            Show more\n",
      "736\n",
      "We've traveled alot in my life, but this was the best trip We've ever had. Our travel agent planned such a romantic and wonderful trip for us, every aspect of the trip was simply perfect.! Congratulations for having such a wonderful, talented, and...\n",
      "\n",
      "            Show more\n",
      "737\n",
      "Agra Taj Visit Team was friendly. The driver was very safe. All arrangements went according to plan. The trip was a good balance between city sight-seeing and rural activity and specilly Varansi guide Mr Varun is describe everthing about holicity....\n",
      "\n",
      "            Show more\n",
      "738\n",
      "This tour by Agra Taj Visit was my first time ever in India. I wanted to choose something (among the 1000s of tours offered) that would give me a good mix of Indian culture, history, nature. I am pleased that this tour offered all of these and much...\n",
      "\n",
      "            Show more\n",
      "739\n",
      "A wonderful trip. We've seen and experienced so much in a short time. The places we have visited have been excellently chosen so that we have met culture, people, nature, religions,customs, ,food and other beautiful of India, more than it was offered in...\n",
      "\n",
      "            Show more\n",
      "740\n",
      "Overall a good tour with excellent guide but let down by the Ranthambore guide, was not available (saw him once) and left us with the safaris that no one else wanted. Would not use again.\n",
      "741\n",
      "Overall the tour was ok, but there were some major sticking points that didn't leave us with great impression. Below are in order of severity \n",
      "\n",
      "1) the biggest issue was that 2 of the hotels that we were told were booked were replaced by 2 inferior...\n",
      "\n",
      "            Show more\n",
      "742\n",
      "We had a wonderful 8 days with MTA -tour radar.  We enjoyed our kind driver Manu who tried to accommodate our every wish - while managing to drive the busy crazy streets of India.  Each guide was unique and explained the sights well.  We had fun on the...\n",
      "\n",
      "            Show more\n",
      "743\n",
      "The Golden triangle tour is wonderful and I may suggest Manish as a perfect guide for english and italian speaking people.\n",
      "Il tour del Triangolo d'oro in India è eccezionale. Manish è una guida fantastica con una perfetta padronanza della lingua italiana\n",
      "744\n",
      "Everything worked just perfect!\n",
      "745\n",
      "Really good tour from beginning to end. \n",
      "The tour guide was very knowledgable and kind. All the people on our tour said they \n",
      "really did enjoy it. Would definitely go with mta destinations again. Thank you mta\n",
      "746\n",
      "Loved my tour of India with MTA. From start to finish very well organised (I feel it could have been condensed into a more jam-packed tour, but that's just my preference), and ran smoothly - with a new guide at each location. Guides had good knowledge...\n",
      "\n",
      "            Show more\n",
      "747\n",
      "[Original Text] L' india è un paese che ci  ha segnato  profondamente, é di una bellezza soffocante e ammaliante\r\n",
      " Siamo rimasti affascinati  per la sua cultura, per il suo patrimonio storico, per i suoi monumenti, i suoi palazzi, un paese che ti...\n",
      "\n",
      "            Show more\n",
      "748\n",
      "Siamo partiti io e il mio ragazzo il 15 agosto.. Esperienza stupenda, indimenticabile, emozionante! L'India ti entra nel corpo e nell'anima e non se ne va più. Organizzazione logistica perfetta e ottimale grazie alla MTA. Autista privato che era a...\n",
      "\n",
      "            Show more\n",
      "749\n",
      "I was extremely well looked after from the moment I arrived to the moment I left.  I had an amazing driver Ramesh who calmly maneuvered the traffic at all times. Manish who manages the company kept in regular contact to ensure I was enjoying and...\n",
      "\n",
      "            Show more\n",
      "750\n",
      "Went on a solo trip to Ranthambore. \n",
      "The trip was amazing and well planned. Everyone was courteous and went above and beyond. I faced absolutely no issues and overall had a fabulous experience.\n",
      "751\n",
      "Sanjeev is an excellent driver and a humble person. He was very professional throughout the trip and also displayed great level of patience with my whole trip. \n",
      "I would definitely recommend him for my future travels\n",
      "752\n",
      "Last month I travelled to delhi with a friend and we booked a trip with Sanjeev paul to visit . We visited amazing cities nearby delhi and many places there had a wonderful experience. Sanjeev paul showed us the real Indian culture and we had a great...\n",
      "\n",
      "            Show more\n",
      "753\n",
      "You can’t beat them, check the reviews for Fragrance of Taj on all the usual travel sites and social media platforms. You will see they are the best of the best, offering small group to private customized tours...you want something a little different...\n",
      "\n",
      "            Show more\n",
      "754\n",
      "A friend and I booked this 7 day tour through Tour Radar and were super satisfied with included activities, accommodation and transport from Delhi to Agra, Ranthambore, Jaipur and back to Delhi. We had a crazy flight schedule and some special requests...\n",
      "\n",
      "            Show more\n",
      "755\n",
      "Very well planned tour with the highest standards of services. I haver seen such a great coordination between the agency, hotels, transport and the local team. The tour was made in such a way that a travel enthusiast and culture lover can witness all...\n",
      "\n",
      "            Show more\n",
      "756\n",
      "It was a wonderful experience for me and I will tell everyone about the tourrader\n",
      "757\n",
      "Loved our time On the Go in India! Perfect introduction to India, highly recommend :)\n",
      "758\n",
      "I loved it , it’s fast paced as you see so much , but the trip to shimla is nice relaxing start.\n",
      "759\n",
      "What an amazing tour!  We were so lucky to have had such an amazing guide and a fantastic group of travellers. From the word go, through the booking process with Tourradar to the wonderful experience with our guide Yusef Kahn on tour with OntheGo Tours,...\n",
      "\n",
      "            Show more\n",
      "760\n",
      "We just got back from the- Taj and Raj Tour (Start Date: 22/8/208) last Monday evening, Sept 3.\n",
      "It was certainly a trip of the life time for both me and my wife.  \n",
      "One of those ‘buck list’ opportunities that went off without a hitch.\n",
      "We'd enjoyed all of...\n",
      "\n",
      "            Show more\n",
      "761\n",
      "Couldn't have wished for a better experience on my first India tour. I was very nervous because i never traveled on my own, everybody on the tour driver, guides and tour company make me feel at home with their friendly service. The tour is very well...\n",
      "\n",
      "            Show more\n",
      "762\n",
      "Amazing experience in India. Well organised tour with lots of activities but also some free time to enjoy. Yolo India tours company looked after us so well and it was very thoughtful for arranging a surprise birthday cake for my mother.  It is...\n",
      "\n",
      "            Show more\n",
      "763\n",
      "I would highly recommend Yolo India Tours to anyone wanting to explore India. We have experienced such a wide range of India's culture, spiritual and natural. I traveled with my friends, we had the most amazing time. All hotels were of a good standards,...\n",
      "\n",
      "            Show more\n",
      "764\n",
      "We were picked up from airport in Delhi, taken to our hotel, introduced to our driver Muhan. He has driven us 5 cities in 9 days, taken great care of us. He knows the cities and country roads and we always felt very safe and secure. We visited Delhi,...\n",
      "\n",
      "            Show more\n",
      "765\n",
      "An absolutely fabulous tour of Rajasthan.  Communication before the tour was excellent with all queries answered within 24 hours.  \r\n",
      "\r\n",
      "We were met at the airport by our driver for the week, Jaipal Singh, with a big smile, a bottle of water and a garland...\n",
      "\n",
      "            Show more\n",
      "766\n",
      "I had a fantastic experience, we had a very fun and educational your with a very helpful driver/bodyguard/friend who drove a clean car as smoothly as one can on Indian roads and always told us tips, stories and anecdotes. We had a guide in each city and...\n",
      "\n",
      "            Show more\n",
      "767\n",
      "Great experience. Love d country and people's. Everything very well organised and special take care. Great team work. Thanks to Yolo team. We recommend you.\n",
      "768\n",
      "I recently traveled India with some friends visiting Delhi, Agra, Jaipur and Udaipur. We loved this extremely well organized tour. We stayed in 03 star modern and heritage hotels. We received knowledgeable and friendly  local guides in every city for...\n",
      "\n",
      "            Show more\n",
      "769\n",
      "We did the 6 Days Historical Golden Triangle Tour Delhi, Agra and Jaipur with the travel agency \"Travelcon\" as they were offering a good and fair price in comparison to others and we can say in the end, that it was a very good choice.\r\n",
      "The driver tried...\n",
      "\n",
      "            Show more\n",
      "770\n",
      "Enjoyable and fun trip. Our driver was most helpful and catered to our needs and special requests. He had water for us always and also was a good photographer with information of anything locally needed. We got to the beautiful sights and places as...\n",
      "\n",
      "            Show more\n",
      "771\n",
      "This was an amazing experience, from the moment we got picked up at the airport in Delhi till the moment we were dropped off at Delhi airport for our trip back to the US. Our driver was truly a pleasure to be with daily. Always was on time to pick us up...\n",
      "\n",
      "            Show more\n",
      "772\n",
      "Very pleased about the service given, from the driver to the tour guides. They looked after us and gave very insightful information about the tourist sites we were taken to. 5 star ratings for everything, couldn’t ask for a better tour in India.\n",
      "773\n",
      "I booked 6 Days Golden Triangle Tour for me and my friends. Initially I was a little apprehensive as I’ve always booked a full package holiday in the UK. But I worried it was first class service from start to finish, we all had an amazing time, the...\n",
      "\n",
      "            Show more\n",
      "774\n",
      "This golden triangle tour we enjoyed. Travelcon providing very nice services all team member so helpful and very decent person. once again i wanna visit this tour with your services. Thanks\n",
      "775\n",
      "We booked a trip to Delhi, Agra, Jaipur and back to Delhi, and were very happy with the service provided by TravelCon and the team at Golden Triangle Tours India. Awesome Communication.\n",
      "776\n",
      "Excellent service throughout. We visited Delhi, Agra and Jaipur over a few nights - it was an amazing trip. Thanks to Travel Con for providing such a great service.\n",
      "777\n",
      "Thanks to Travel-con team. Excellent communication and service. Would highly recommend for any tour services in India.\n",
      "778\n",
      "I traveled to India for the first time with my friends and we had a great time thanks to Golden Triangle Tours India!! I would highly recommend using this company to plan your visit to India!\n",
      "779\n",
      "It was such a good experience! Don’t miss out on the opportunity to ask for video testimonials of the tours :)\n",
      "780\n",
      "I visited India with my husband, the trip was wonderful and itinerary was good, driver and the local guides were excellent. I recommend Alkof Holidays.\n",
      "781\n",
      "It was a nice trip, we had enough time to explore Delhi, Varanasi, Agra, and Jaipur. The hotels were excellent as we upgraded the hotel from 3 star to 5 star with 1 extra night stay in Delhi. Driver and the guides were very knowledgeable about all the...\n",
      "\n",
      "            Show more\n",
      "782\n",
      "Our trip was fantastic and everything was well managed. We visited many places in India including the Taj Mahal in Agra and the golden temple in Varanasi, I love the country and I recommend Alkof Holidays and Ramesh, who helped us in planning our very...\n",
      "\n",
      "            Show more\n",
      "783\n",
      "The trip was awesome, everything was well organised. This was our second trip with Alkof and the guys are fantastic. Recommended.\n",
      "784\n",
      "We originally searched with TourRadar and determined that the 6 day Golden Triangle Tour offered by Adreva Trotter Pvt. Ltd. (INDIA Trotter) offered the best tour for our needs.  However, with the time we had available (10 days), we contacted the...\n",
      "\n",
      "            Show more\n",
      "785\n",
      "I saw the reviews on Tripadvisor and contacted Payless Tour who arranged everything according to my requests, including hotel upgrades, plus a 3-night extension to Kathmandu. I even let them take care of the domestic and international flights. It was a...\n",
      "\n",
      "            Show more\n",
      "786\n",
      "A fantastic tour that delivered so much more than I expected. The trip was so well organised thanks to Ewa and we were provided with some great local guides to show us their country. Highlights included visiting Old Delhi, the Ganges and Taj Mahal but...\n",
      "\n",
      "            Show more\n",
      "787\n",
      "Payless Tours is THE best tour operators in New Delhi. Mr sammy is a honest, trustworthy and reliable travel agency. His tours are well organised, tailored to suit your budget - with no request being too big or too small to handle. Payless Tours offers...\n",
      "\n",
      "            Show more\n",
      "788\n",
      "Great service of Paylesstoursindia travel agency. We were extremely happy and amazed by India. Had a knowledgeable driver Mr Sanjay who showed us India in a perfect and interesting way taking us to some local attractions and places.The accommodation was...\n",
      "\n",
      "            Show more\n",
      "789\n",
      "Good value for the money. It’s tiring with so much deriving and walking but it’s all worth it. Our guide is very accommodating to our needs.\n",
      "790\n",
      "Wonderful and well organized tour with very luxury accommodation in nice hotels and lovely staff. The itinerary was perfectly matched our wishes and needs. We had a wonderful time there and would like to come again. Great thanks to the driver for...\n",
      "\n",
      "            Show more\n",
      "791\n",
      "Luxury tour organised by this travel agent was trully perfect . We felt safe and comfortable having our own driver who looked after us and helped in som situations. India is a wonderful coulourful country with many faces and has lots of things to offer....\n",
      "\n",
      "            Show more\n",
      "792\n",
      "We hired Rajasthan Tour by car and driver for our 11 days tour of Rajasthan \n",
      "They offered us a free upgrade to a very comfortable and safe car - Toyota Corolla Altis, along with a very professional driver Mr Akash, who sadly had to interrupt the tour...\n",
      "\n",
      "            Show more\n",
      "793\n",
      "Zunächst kann ich sagen, dass mir die Sehenswürdigkeiten wirklich gut gefallen haben. Diese fließen in meine Wertung...\n",
      "\n",
      "            Show more\n",
      "794\n",
      "Thanks for arrangements. Highly recommend payless tours india\n",
      "795\n",
      "The hotels were disgraceful. Then to upgrade l had to pay an extra $750+ AUD. Having to pay admission at every attraction was annoying and time consuming. Did not do several activities on the itinery. Getting dropped off at attractions and expected to...\n",
      "\n",
      "            Show more\n",
      "796\n",
      "Great planned out program\r\n",
      "\r\n",
      "I traveled with my class and class teachers from Denmark. We had some amazing 12 days, with a great planned program, so we got to see different cities in north India. Also had a very nice and helpful tour-guide. Overall a...\n",
      "\n",
      "            Show more\n",
      "797\n",
      "Sam took us all through New Delhi, Agra and Jaipur with great ease and friendliness. Seeing the sights that we wanted was always a breeze and well-planned. He gave us suggestions on where to eat and shop, and while we visited great sights he always...\n",
      "\n",
      "            Show more\n",
      "798\n",
      "I am a tour operator myself and I needed a tour service for my clients from US. Since I wasn't going with the group I was looking for very reliable and honest service, and I found payless tours company  after a lot of research in Delhi. Payless tours...\n",
      "\n",
      "            Show more\n",
      "799\n",
      "I booked the majestic Golden triangle tour with Varanasi with my friends from real viaggiindia .we covered the beautiful monument but Taj Mahal is a unforgettable memorial. it was good experience .our tour Started from Delhi airport  to be true we all...\n",
      "\n",
      "            Show more\n",
      "800\n",
      "I would definitely recommend this tour to other travelers. Our driver was friendly and accommodating and our three guides were all very knowledgeable. Both were punctual and courteous and we felt that we were well cared for. The hotels were of a very...\n",
      "\n",
      "            Show more\n",
      "801\n",
      "Absolutely brilliant tour company. Extremely knowledgeable guides and our was superb. Recommend highly enough.\n",
      "802\n",
      "Majestic golden triangle Tour with Varanasi - Your this golden triangle tour with Varanasi Tour we enjoyed. This company providing very nice services all team member so helpful and very decent person. once again i wanna visit this tour with your services.\n",
      "803\n",
      "Our Tour Guide was benevolent and gracious all through the whole day. He was great to move us immediately when it made a difference and let us meander whenever the situation allows. Great Tour - Great Tour Guide - Excellent Time !!\n",
      "804\n",
      "It was a wonderful trip with very intense experiences that gave to know what is the reality of India. Real Vaiggi India was the company that accompanied us throughout the course of the trip with all the care and comfort possible so that each person felt...\n",
      "\n",
      "            Show more\n",
      "805\n",
      "Majestic golden triangle tour with Varanasi was fantastic and full fill by culture our guide was very professional and knowledgeable or our hotel, car was good & Clean.Hotel Staff was very helpful & Driver always on time at hotel and food also tasty and...\n",
      "\n",
      "            Show more\n",
      "806\n",
      "Majestic golden triangle tour with vanarasi was fantastic and full fill by culture. our guide is very professional and knowledge or our hotel, car, Driver was good and food also good and we safe journey with both of them and they were very helpful. they...\n",
      "\n",
      "            Show more\n",
      "807\n",
      "The tour was orginized very well. Communication with Yolo India Tours was easy. Driver was waiting for us at the airport even though our passport control takes 2 hours and we had no chance to contact him. He drives well and safe. Hotels were nice and...\n",
      "\n",
      "            Show more\n",
      "808\n",
      "It was truly an experience of all the senses. I was able to see so many different thing and experience different activities.  Our driver Sonu was very kind, courteous and professional, he always had ice cold water for us to dink each day. I liked the...\n",
      "\n",
      "            Show more\n",
      "809\n",
      "We had always wanted to visit this beautiful place Taj Mahal. Our Tour guide introduced us to the history, and culture. The driver also took great care of us while on the trip. We are glad to choose this company as it really worth it.\n",
      "810\n",
      "The driver was great. Overall great trip!\n",
      "811\n",
      "Our driver was very polite. The car was wonderfully clean and we felt absolutely safe to drive it. We highly recommend touring with this company.\n",
      "812\n",
      "This company was recommended to us by a friend who  used them early on the tour. They said they had a very good experience with this company and  their tour guides. We also had a great experience with this company and our guides.\n",
      "813\n",
      "I would recommend this company for any of your trips they really want you to enjoy your trip and experience their culture..\n",
      "814\n",
      "Later, but for now all excellent\n",
      "815\n",
      "Arvi is an expert of taking care of the whole trip even the tiny details, you can't find such a helpful guy like him\n",
      "816\n",
      "We had a great driver.   Hotel were average 3Star.   No need for a guide\n",
      "817\n",
      "It was a good experience to visit Taj Mahal, Jaipur with Ranthambore tiger safari. We would love to recommend it\n",
      "818\n",
      "Wonderful multi day Adventure to the best destinations in India to experience how Indians people's hospitality is. I have heard about it a lot and I am really impressed with the services. Taj Mahal is an incredible wonder in the world and millions of...\n",
      "\n",
      "            Show more\n",
      "819\n",
      "Glad to be a part of the well designed trip. Taj Mahal is a very old heritage building of India. Other monument was also a good to explore.\n",
      "820\n",
      "I was very excited about the tour , everything was confirmed by the operator and we visited the main part of India and it was outstanding. I would say Taj Mahal is the best part of India and rest are worth to visit.\n",
      "821\n",
      "Wildlife Safari trip with northern India is always a good option to go with and we did the same, we have booked this tour package by keeping in the mind that we will be having a visit to historical building. We explored the Taj Mahal it's very fantastic...\n",
      "\n",
      "            Show more\n",
      "822\n",
      "Tour was very enjoyable and I do recommend to anyone wanting to travel to India. Our driver Raj was spectacular! Best driver and very accomodating! Accomodation was great. \r\n",
      "A few things to keep in mind: practically all the sites/monuments you see have...\n",
      "\n",
      "            Show more\n",
      "823\n",
      "Marvellous trip ! We had a group of 12 people and i was a leader. I was very worried before booking the trip as i had my vip people with me but the way of Communcation by travel creators was extremely well. I had all the answers from operator and they...\n",
      "\n",
      "            Show more\n",
      "824\n",
      "Highly recommended \n",
      "Great services and amazing staff \n",
      "Really enjoyed my trip with go my journey india \n",
      "-very friendly tourist guide \n",
      "-budget friendly \n",
      "-10/10\n",
      "825\n",
      "Amazing tour and holiday. Jitender plans and takes care of everything for you. \n",
      "I was lucky to have an amazing driver and felt safe at all time. \n",
      "English speaking tour guides at every location and felt safe with them also. \n",
      "As a solo female traveller,...\n",
      "\n",
      "            Show more\n",
      "826\n",
      "Fantastic look at a wonderful part of India. An amazing local guide who did his utmost to show us things that maybe you don't always get to see. Highly recommended, especially if your guide is Romi!!!!\n",
      "827\n",
      "Had a great time travelling with Real viaggi  India Tours and Travels with my mom and sister. We were at first worried about safety as this was our first time in India and all of that was washed away when we first met our driver . He is a young,...\n",
      "\n",
      "            Show more\n",
      "828\n",
      "My partner and I did a South India temple tour   with Kerala  . Our experience overall was wonderful, we did not have to worry about anything since our driver was always so helpful and attentive. We always felt very safe with him and had really great...\n",
      "\n",
      "            Show more\n",
      "829\n",
      "Thanks to realviaggiindia for good serves .The  good tour operator in  India  . I heard about  south India Temple tour with Kerala in my country . and I booked this tour . the agency provided us support all  the way really I enjoyed it this tour  .Our...\n",
      "\n",
      "            Show more\n",
      "830\n",
      "We had a Dream South India Tour with Kerala. We Communicated with Amit who handed our query very well. The vehicle was in good shape and our driver, Mr. Raj has taken good care of us. He was very polite and gentle. This 10 days trip ended us with...\n",
      "\n",
      "            Show more\n",
      "831\n",
      "Booked South India Tour. Really well planned by Real Viaggi India, I didn’t get any problem.\r\n",
      "We have got a very good driver, who knows the places well thus we easily reached destination... he is also a very nice person. Very courteous and humble....\n",
      "\n",
      "            Show more\n",
      "832\n",
      "I had a fantastic time in India. Everything was very well planned and organised. I managed to see the tigers but also so much more. I had two different drivers during my stay and a separate tour guide in each city I visited. I would highly recommend...\n",
      "\n",
      "            Show more\n",
      "833\n",
      "The itinerary was well planned, and well managed. Tour guide Manoj was outstanding, and the hotels were excellent. We enjoyed our India trip. Thanks Alkof Holidays\n",
      "834\n",
      "The tour was amazing and well managed. Keshav from Alkof Holidays was very responsive before booking and during the tour. I recommend the tour and the company to everyone looking to visit India.\n",
      "835\n",
      "Tour was excellent, however viranassi was too long.  Arrived very early in morning with full day free until 530 aarti show.  Should have done tour of sarnath that day, aarti in evening, then ganges boatride and tour of ghats the following morning and...\n",
      "\n",
      "            Show more\n",
      "836\n",
      "The visits in Leh and to Nubra Valley and Pangong Lake were fantastic. The guide and driver were professional and the guide had good knowledge. I was very disappointed in two things, one the Ladakh Imperial hotel, rooms were good but the service was...\n",
      "\n",
      "            Show more\n",
      "837\n",
      "Just visited Leh Ladakh, and it was an amazing experience. We visited Shey Palace, Khardung La, Nubra Valley, and the best part was camping near Pangong Lake. We did a camel safari at Hunder. The trip was well organized by Alkof Holidays, and I would...\n",
      "\n",
      "            Show more\n",
      "838\n",
      "Going to Ladakh was a very special experience and I would recommend this tour highly. The landscape was absolutely spectacular and the blend of history, culture and geostrategic importance was fascinating. My tour with Alkof Holidays was very well...\n",
      "\n",
      "            Show more\n",
      "839\n",
      "The trip was amazing, visited many sacred monasteries, enjoyed camel safari in Nubra Valley and the best part was the camping near Pangong lake, it is a beautiful destination where anyone can go, relax and enjoy the true beauty of the mother nature. The...\n",
      "\n",
      "            Show more\n",
      "840\n",
      "We visited Leh Ladakh last year, it is one of the most beautiful destinations I visited. Khardung-la pass, Pangong lake, Nubra valley and all the monasteries in Leh are worth a visit. I recommend Alkof Holidays and Leh Ladakh to everyone and I also...\n",
      "\n",
      "            Show more\n",
      "841\n",
      "It was a good tour for India. Tour guides was very friendly and knowledgeable. Good time in India\n",
      "842\n",
      "We had a great experience in India , had a well organised trip to the popular cultural country around the world.\n",
      "843\n",
      "The land trip was fantastic. Hotel accommodation and transportation was up to mark. Agra has a beautiful gem in the city and Jaipur, Delhi has enough historical sites to admire. Tour guide was fabulous with full of ancient, modern , etc history of...\n",
      "\n",
      "            Show more\n",
      "844\n",
      "My husband had booked this northern India tour and he made the right choice. We had so many email exchanges before booking the tour and the travel agent was responsive answered all our doubts. We started the tour from Delhi visited the popular city of...\n",
      "\n",
      "            Show more\n",
      "845\n",
      "Me and my wife was very concerned before booking this tour package as we thought it might be expensive but when i tried to get the rates from other operator , they were charging too high so i booked this and my decision was right. Operator was very...\n",
      "\n",
      "            Show more\n",
      "846\n",
      "Amazing trip and authentic poeple. It was a solo trip and i felt very safe during my entire trip. Driver was very friendly and drove safely everywhere. Tour guide was nice. And i was always be in touch with the operator. It was truly a heritage tour. I...\n",
      "\n",
      "            Show more\n",
      "847\n",
      "Truly cultural and heritage trip. Me and my wife enjoyed each and every destination and hotels were very nice. Car was very clean and well maintained. Driver was friendly and full of knowledge of all places. Tour guides was highly knowledgeable and...\n",
      "\n",
      "            Show more\n",
      "848\n",
      "Fantastic Trip to India, everything went the way we planned whether it's a car, hotels, and tour guides. Highly recommend to all travelers\n",
      "849\n",
      "This was a truly enjoyable experience from start to finish. The company we travelled with was excellent, and the food and accommodation were of a very high standard. We saw and learned so much about this magical country, more than I could have ever...\n",
      "\n",
      "            Show more\n",
      "850\n",
      "I recently traveled to Shimla Manali with Memorable India. The planning was great, and implementation was even better. Thanks to our group leader Mr Ajay. Who was available whenever we needed him. He was particular about all the instructions, and...\n",
      "\n",
      "            Show more\n",
      "851\n",
      "India is a land of contrasts. This tour aims to show you as many different aspects of India as possible in just 22 days. You'll get to experience the culture, religion, food and local living, and see some of the most amazing historical sites. It can be...\n",
      "\n",
      "            Show more\n",
      "852\n",
      "Our ten day journey through Rajasthan and Delhi was wonderful! We loved our guides and the drivers were amazing. They kept us entertained the whole time and knew the area really well. The food was a little spicy for our taste, but next time we'll be...\n",
      "\n",
      "            Show more\n",
      "853\n",
      "The team at Delhi is very knowledgeable and experienced. They have a great selection of hotels and accommodation options, as well as a variety of food choices for their guests. They set a nice itinerary for us, which included stops at the Golden...\n",
      "\n",
      "            Show more\n",
      "854\n",
      "My wife and I had an amazing 10-day Golden Triangle Tour with Udaipur, thanks in large part to the help of Mr. Arun and Memorable India. We asked for some expert private guides in Delhi, Agra, Jaipur and Udaipur, and all of them were great. We...\n",
      "\n",
      "            Show more\n",
      "855\n",
      "We are really happy with the overall arrangements and communication with the Paylesstoursindia. Kerala is an amazingly beautiful state ! Virtually everything in itinerary was achieved, fantastic knowledgeable and helpful driver.guide, very diverse...\n",
      "\n",
      "            Show more\n",
      "856\n",
      "Awsome tour which showed us the beauty of the southern India. We will never forget a really romantic houseboat in Alleppey and beautiful tea plantations in Munnar.All the hotels were comfortable, with nice views and good southern breakfast. The...\n",
      "\n",
      "            Show more\n",
      "857\n",
      "wer have booked trip from paylesstroursindia for 11 days trip  when I was in my country, . However,they give very good service\r\n",
      "He is kindness and keeps his word by supporting for us a nice conditioned car and super nice driver with fix price. \r\n",
      "Our...\n",
      "\n",
      "            Show more\n",
      "858\n",
      "Kerela is an awsome place, full of spice plantations, beautiful green areas and wonderful backwaters. Thanks to the company we saw the south of India and its real beauty. The boatride was really like in paradise, we took fantastic photos of the sunset...\n",
      "\n",
      "            Show more\n",
      "859\n",
      "In-depth tour  full of  amazing  India.  Hyat  Amiri\n",
      "860\n",
      "KV and his family treated us like part of their family and as such our experience in Jaipur was very authentic. Would love to return one day\n",
      "861\n",
      "Loved everything about the trip. Will definitely love to travel with them again.\n",
      "862\n",
      "Great Family trip and awesome service \n",
      "\n",
      "We were one family travelling for the second time in India. We contacted with Wonderful Holidays. Every question we asked was answered comprehensively and quickly. While planning our trip was the most helpful we...\n",
      "\n",
      "            Show more\n",
      "863\n",
      "Amazing tour amazing service \n",
      "\n",
      "My friend and I arranged 5 days trip with Wonderful Holidays. We started two nights in Jaipur taking in the Amber Fort, Jantar Mantar, Wind Palace, Water Palace. Then we came to Agra we went by car. Our main highlights are...\n",
      "\n",
      "            Show more\n",
      "864\n",
      "Customizable Amazing Delhi, Agra, Jaipur & Ranthambore tour with Wonderful Holidays.  \n",
      "\n",
      "I engaged Wonderful Holidays for my recent trip to India which was a mix of family outing and pleasure. Communication was prompt, seamless and completely...\n",
      "\n",
      "            Show more\n",
      "865\n",
      "Wonderful Holidays went above and beyond my high expectations! The driver they arranged for us was so excellent and dependable! Our guides were masters in history with lots of factual information as well. I was impressed with their knowledge and I...\n",
      "\n",
      "            Show more\n",
      "866\n",
      "We contacted Wonderful Holidays because we did not have any knowledge about what to visit in India. They created a personalized trip, including the Golden Triangle Tour and also the city of Udaipur. \n",
      "\n",
      "All members of the staff were very professional and...\n",
      "\n",
      "            Show more\n",
      "867\n",
      "With its vacations, this journey to the Golden Triangle is wonderful! Our driver and all aspects of the hotels and stops were excellent given the time constraints, making them our favorite part of our vacation in India.\n",
      "868\n",
      "We approved of every arrangement. The local guides were very knowledgeable and excellent. Particularly the hotel in Agra, the hotels were lovely. Most importantly, though, was our fantastic driver Irfan Excellent Driver.\n",
      "869\n",
      "Everything was great and organized well! Actually, it has surpassed my expectations. It felt safe to stroll with our guide in potentially dangerous regions because he is so assured and knowledgeable.\n",
      "870\n",
      "I've had the best time ever. Traveling for me is all about the people, and our guide was outstanding. He took such good care of each person in our group and showed saintly patience. We all enjoyed his humor and pleasant surprises. India has completely...\n",
      "\n",
      "            Show more\n",
      "871\n",
      "We were overjoyed to choose this Tours to arrange our first vacation to India. We have nothing to worry about because everything was taken care of. Every hotel was cozy and spotless. The stay in the Jaipur haveli was a once-in-a-lifetime experience. Our...\n",
      "\n",
      "            Show more\n",
      "872\n",
      "This business is the most professional we've ever used, from the minute we were picked up at the airport until the final day of our tour. Every day was meticulously planned, and every location we went to offered a variety of interesting experiences....\n",
      "\n",
      "            Show more\n",
      "873\n",
      "I had a wonderful time.  I felt very safe travelling alone as a woman.  The tour itself is excellent and covers a lot of ground, but by the time I got to Jaipur, I was having knee issues and finding it difficult to climb stairs due to a prior injury, so...\n",
      "\n",
      "            Show more\n",
      "874\n",
      "Days and nights that are loaded with the REAL INDIA, from Delhi's back alleys to the mesmerizing Taj Mahal. Irfan was a fantastic storyteller who transported us back in time thanks to his depth of local historical knowledge and love for his nation.\n",
      "875\n",
      "Excellent, everyone was extremely friendly and accommodating! The tour was amazing, instructive, and cultural.\n",
      "876\n",
      "Everything was really nicely planned out! Excellent trip, fantastic schedule, and food wherever they took us! It felt extremely safe with the guide because he is so knowledgeable.\n",
      "877\n",
      "Glorious golden triangle tour was very better  . Our driver and tour guides were outstanding. Santos , our driver was extremely safe, calm and warm as he navigated challenging traffic. He was so accommodating and knowledgeable, taking the time to answer...\n",
      "\n",
      "            Show more\n",
      "878\n",
      "Being a little apprehensive to visit Glorious Golden Triangle Tours changed that. Our own driver throughout the 5 days, vindo , lovingly known as Honey (Mr. Hanuman) ensured that we were cared for and supported during our trip. Being 4 women travelling...\n",
      "\n",
      "            Show more\n",
      "879\n",
      "From the start I was septic yet soon I discovered how wrong I was. This is great and simple approach to go through a day and see around. \r\n",
      "\r\n",
      "Our driver Amit was extremely pleasant and accommodating, he even battled for us when we experienced difficulty...\n",
      "\n",
      "            Show more\n",
      "880\n",
      "Fabulous trip..i really enjoyed the tour was so amazing. A real value for money. Guides were excellent and had great and deep knowledge. All hotels were well luxurious. Overall, i had a wonderful time and highly recommend this tour.Thanks for this given...\n",
      "\n",
      "            Show more\n",
      "881\n",
      "Full on tour with many extras added Delhi has its own merits and delights with magical Jaipur outstanding in colors Agra was brilliant with the Taj Mahal the center piece of the visit outstanding country and very friendly people. Real Viaggi India you...\n",
      "\n",
      "            Show more\n",
      "882\n",
      "This was a hugely enjoyable tour with Real viaggi India team. Our guides were very good - helpful, knowledgeable and professional - and helped us to a new take on India. Their recommended restaurants were all good and the hotels were excellent. Our...\n",
      "\n",
      "            Show more\n",
      "883\n",
      "It was great trip of glorious golden triangle tour . The trip was amazing from start to end. Our driver picked us from the airport. He was very kind. We had our own guide throughout all tour and we knew so many knowledgeable things about monuments and...\n",
      "\n",
      "            Show more\n",
      "884\n",
      "The tour started from Delhi and after we went to Agra and saw Fatehpur Sikri on the way to Jaipur. All the destinations were very popular, peaceful and heritage. The tour was amazing. Guide was very kind and humble. transport and hotel was very neat and...\n",
      "\n",
      "            Show more\n",
      "885\n",
      "Hotel services are good with some exceptions. Driver maintained a good communication with us. I definitely suggest for any packages, if you wanna gonna have a great experience.\n",
      "886\n",
      "It was the perfect start to get into Indian Culture at the beginning of a stay in India. Even alone as a women. The...\n",
      "\n",
      "            Show more\n",
      "887\n",
      "I booked Golden Triangle Tour to Delhi Agra Jaipur. We were five friends. The manager of the company provide us a vehicle a driver and a local guide. We saw the Red Fort Jama Masjid in Delhi Taj Mahal in Agra and the Hawa Mahal in Jaipur. We got a lot...\n",
      "\n",
      "            Show more\n",
      "888\n",
      "One of my friends referred Cox & Queen Travels to me as I was about to visit India to spend my holidays with family. My initial communication with the manager of the company was so impressive that I found no reason to reject their proposal.\n",
      "The tour was...\n",
      "\n",
      "            Show more\n",
      "889\n",
      "Golden Triangle with Varanasi\n",
      "\n",
      "My experience with this company was amazing and excellent on all levels. The sightseeing of Taj Mahal, Ganga Aarti at Sunrise and Sunset were breathtaking. I had the best driver as my companion with his nice and clean car....\n",
      "\n",
      "            Show more\n",
      "890\n",
      "Very well organised  tour by this travel  agency. We liked the accommodation,  guides and certainly  the driver. We had a wonderful  time in India! RECOMMENDED\n",
      "891\n",
      "Payless travel is your perfect travel companion if you are considering visiting north of India. Just send your itinerary golden trangle to payless  travel and a travel agent will estimate the cost all inclusive (tolls, gas, parking fees, driver, ...)....\n",
      "\n",
      "            Show more\n",
      "892\n",
      "Well arreanged travel plan. Hasslefree. Our driver Mithin Sharma is well experienced and he communicates in hindi and english as well. He knows good places and has also shown us more new places which we dont know. He has guided us for nice shopping as...\n",
      "\n",
      "            Show more\n",
      "893\n",
      "From start to finish the company and tour were brilliant. Even before the trip commenced Payless were so responsive and accommodating in the requests I had. The tour was extremely good value for money, and for what we paid the accommodation was more...\n",
      "\n",
      "            Show more\n",
      "894\n",
      "India in a nutshell was a very good bet\n",
      "We got a fantastic driver and very satisfying service- hotels, guides and the attractions.\n",
      " Everything was accurately organised and arranged. We saw even more places than in the itinerary and had a really good...\n",
      "\n",
      "            Show more\n",
      "895\n",
      "Paylesstoursindia provided a excellent service . They were very prompt and efficient sorting out our itinerary and accommodating our requests. Our driver was superb. Hs driving was amazing, judging gaps in traffic like nobody I have seen before. He was...\n",
      "\n",
      "            Show more\n",
      "896\n",
      "Well organised tour according to our wishes. We had a good time India driving with our personal driver through Delhi, Agra and Jaipur. AKSHARDHAM temple is really worth sightseeing to appreciate the huge amount of work. We wish to come back to India again.\n",
      "897\n",
      "Lovely experience and a superb really well organized tour. We saw a lot beautiful and uncommercial spots and village areas having fun and taking a lot of awesome pictures. The driver was our good friend and spiritual guide.The accommodation in the...\n",
      "\n",
      "            Show more\n",
      "898\n",
      "The Golden triangle tour was perfect for me and my family. We had a very friendly driver who was our guide as well. We admired beautiful India and many interesting temples, palaces and superb Taj mahal. Paylesstoursindia is a very professional company.\n",
      "899\n",
      "The ratings are given in the context of the price we paid which was extremely reasonable for the attentive service we were given. We were looked after at all times including being dropped off onto our correct train carriage in Delhi. The itinerary was...\n",
      "\n",
      "            Show more\n",
      "900\n",
      "We arrived in India and graciously met Sachin - the tour manager and transported to the hotel in New Delhi! We had to alter our plans and extended the tour for 2 more days. From second day we started our sightseeing of Delhi, next day visited Agra, then...\n",
      "\n",
      "            Show more\n",
      "901\n",
      "Alkof Holidays has a superb team of extremely knowledgeable tours managers who are very enthusiastic about the areas they cover, they quickly answered all my question before finalizing the tour and made all necessary changes as per my requirement,...\n",
      "\n",
      "            Show more\n",
      "902\n",
      "The travel arrangement was superb and everything was well organised by Sachin. I would recommend Alkof Holidays to everyone for India tours.\n",
      "903\n",
      "This company was one stop solution for all my travel needs for my golden triangle tour with ranthambore. They were quick in responding my emails and were clear in their quotes from the beginning. The car, Hotels and tour guides booked by the company...\n",
      "\n",
      "            Show more\n",
      "904\n",
      "My package to the golden triangle with Ranthambore was wonderful and enjoyable.The tour guide Zeeshan was very helpful and made the trip fantastic, driver Hashem was also very polite and made the drive to Agra very nice,  Zeeshan answers all your...\n",
      "\n",
      "            Show more\n",
      "905\n",
      "The best travel planner I highly recommend We planned for Delhi agra and Jaipur trip They did all the arrangements so good . Whoever r planning for trip for Delhi just contact them\n",
      "906\n",
      "Highly recommended\n",
      "We had booked golden triangle tour (5 nights 6 days). Choice of Hotels were excellent. Tour guides Abdul(Delhi), Zuhaib(Agra), Gola(Fathepur sikri and Charansingh (Jaipur) were patient, informative and very supportive. Overall tour...\n",
      "\n",
      "            Show more\n",
      "907\n",
      "My trip to India was an amazing experience thanks to the team at Agra Day Tour Packages.I travelled with a group of 5 friends; Everything from start to finish was organized and planned perfectly. My friends and I felt safe and comfortable throughout our...\n",
      "\n",
      "            Show more\n",
      "908\n",
      "We arranged our 6 day private golden triangle tour with Agra day tours .. we had the best time ever in Delhi, Agra and Jaipur.. very professional company .. they completely arranged everything to make sure we got to see everything of interest..\n",
      "Our...\n",
      "\n",
      "            Show more\n",
      "909\n",
      "Thanks to Services International for its professionalism.This is my 6th trip to India, 8 of which with Services International.\n",
      "I recommend this agency to anyone who wants to discover this wonderful country.\n",
      "From the North to the South of India, I only...\n",
      "\n",
      "            Show more\n",
      "910\n",
      "It was just terrific. One of the most beautiful national park where probability of finding tiger is much more expectable then any other national park. I met Sultana (most aggressive tigress) it was memorable moment for me and ya i was lucky that i got...\n",
      "\n",
      "            Show more\n",
      "911\n",
      "Viewing the dangerous wild tigers at a short distance in their natural wild environment during jungle safari is indeed an unforgettable wildlife experience of whole life! And Ranthambore National Park Tiger Safari in Rajasthan, INDIA makes this dream...\n",
      "\n",
      "            Show more\n",
      "912\n",
      "Our tour around Delhi, agra, ranthambore and Jaipur with Mohan was perfect. He took care of everything, driving us around day and night. His service is exceptional, took us to good places for food, and whatever we needed he just took us there. At the...\n",
      "\n",
      "            Show more\n",
      "913\n",
      "Everything went very smoothly. The guided tour  was great. He went off his way to perfect our day  and not miss anything. This trip is recommended for those who are staying in New Delhi for a short period of time. It really covers the main attractions...\n",
      "\n",
      "            Show more\n",
      "914\n",
      "This company was recommended to us by a friend who  used them early on the tour. They said they had a very good experience with this company and  their tour guides. We also had a great experience with this company and our guides.\n",
      "915\n",
      "We had to stop by for lunch several times during the trip. The restaurant we took to  Delhi, Agra and Jaipur was great. The tour guide with the company was very responsive. We recommend this tour for anyone who wants to get to know all three cities in a...\n",
      "\n",
      "            Show more\n",
      "916\n",
      "It was a perfect Golden Traingle tour with famous insight, the tour guide was helpful. Especially Jaipur and Agra overstay was veru comfortable. Recommended Julie International Tours. Plenty of activities for a family.\n",
      "917\n",
      "We decided to visit Delhi during the stopovers in our jorney from Italy to Japan and back, so we had few time to visit the city between our flights. paylesstoursindia has been the perfect choice, because he's punctual, helpful and friendly. He's able to...\n",
      "\n",
      "            Show more\n",
      "918\n",
      "We used payless tours and was greeted by ewa. He was very welcoming and his driving was very good and safe and he was very knowledgeable about the local area and helped us with many of our needs and requirements. The payless tours service organised by...\n",
      "\n",
      "            Show more\n",
      "919\n",
      "Fantastic experience and well organized tour. We want to thank for all the beautiful memories which we have thanks to the travel agency that organized tour on such a high level. Everything was perfect.\n",
      "920\n",
      "All the itinerary and arrangements were  fantastic, we felt safe we our personal driver who cared about us and gave us very useful advice where to eat and have a massage etc. All the experience   is evaluated very well. Udaipur is a beautiful town with...\n",
      "\n",
      "            Show more\n",
      "921\n",
      "The hotels booked for us were fantabulous, especially the Jaipur Palace in Jaipur. Everything was perfect.\n",
      "922\n",
      "We booked a golden triangle tour for our holidays in India. The guides were excellent. The hotel provided to us in Agra (Jaypee Palace) was superb. We truly enjoyed this tour.\n",
      "923\n",
      "My holiday was a great one. The tour arrangements made it possible. I loved the monuments in Delhi, Agra, and Jaipur, especially, the Taj Mahal.\n",
      "924\n",
      "We were on a 7-day Golden Triangle + Ranthambore tour with Wonderful Holidays. \n",
      "\n",
      " Everything went smoothly from the first time we contacted them until the end of our excursion. \n",
      "We were very happy with Wonderful Holidays. The guides were very very good,...\n",
      "\n",
      "            Show more\n",
      "925\n",
      "Rahis was great in suggesting a few different itineraries and after exchanging a few emails with him we finally settled on a tour and Rahis took over with the reservations.\n",
      "I have traveled to almost all part of the world & to visit India was always a...\n",
      "\n",
      "            Show more\n",
      "926\n",
      "On the spur of the moment, I decided to do a private tour and India Arrival Tours stepped up. In 45 mins I was off with Rahis in a taxi. I explained that I wanted to focus on textiles after a quick visit to the Lotus Temple.\r\n",
      "His two choices were in...\n",
      "\n",
      "            Show more\n",
      "927\n",
      "Very good experience\n",
      "928\n",
      "We have booked the India Golden Triangle Tour with Amritsar for our first tour of india we have chosen this company because of its hotels and professional guides and driver as company is known for its services we are very much happy with all services...\n",
      "\n",
      "            Show more\n",
      "929\n",
      "My experience based on hotels, tour guide and driver  it was awesome. Very well organized I think every traveller should concern on these valuable elements . Highly recommend\n",
      "930\n",
      "It was my first time to travel to india I got tired after searching so many tours on tourradar but most of the tours having bed feedback about hotels and guide so i did not book with them later i found India golden triangle tour with Golden Temple where...\n",
      "\n",
      "            Show more\n",
      "931\n",
      "Awesome trip to India Golden Triangle tour with Golden Temple, awesome team at Amazing India Tours .I loved visiting India specially Tajmahal. It’s really very beautiful. My holiday was beyond amazing. A special thanks to team who managed my trip so...\n",
      "\n",
      "            Show more\n",
      "932\n",
      "One of the best india golden triangle tour with golden temple we had in years.Had an amazing time. Would definitely recommend this tour to my friends.\n",
      "933\n",
      "It was a wonderful experience. Our driver Swami was the best we enjoyed india golden triangle tour with golden temple alot\n",
      "934\n",
      "This two weeks India tour with golden temple was amazing. Saw epic destinations across the country. The itinerary was incredible. Team Amazing India Tours  was always there to assist us. They made our trip hassle free and enjoyable.\n",
      "935\n",
      "I am so thankful to tour radar to find me such a great people to arrange my tour of India.\n",
      "936\n",
      "Excellent tour with tourradar we loved the tour and very good company\n",
      "937\n",
      "It was best tour we enjoyed all the places we loved our driver Deepak who was with us and made me comfortable in train however in India driver speak understandable English tour was great\n",
      "938\n",
      "I am going to write a fairly lengthy review because:\n",
      "\n",
      "A) I think it will help a lot of people who are unsure of booking with an agency and make new cautious about being ripped off\n",
      "\n",
      "B) Jitender provided an excellent service through out\n",
      "\n",
      "My wife and I are...\n",
      "\n",
      "            Show more\n",
      "939\n",
      "I had a great time in Kerala. I loved the scenery, the culture, and most of all, the people. Our driver, Mr. Sibu, was terrific. I'd love to come back to Kerala and have him as my driver again. The guides in Kochi and Munnar were also great—they were...\n",
      "\n",
      "            Show more\n",
      "940\n",
      "We're so glad you had a great time on your tour with us! We're passionate about providing our guests with the best possible experience, from the moment they book with us to the end of their tour. We're glad to hear that you found our tour operator to be...\n",
      "\n",
      "            Show more\n",
      "941\n",
      "This tour operator was a great find on Tour Radar! Their reviews were spot on and I wasn't disappointed at all. The entire experience from booking to delivery was professional and well-managed. The vehicle was clean and the driver was careful,...\n",
      "\n",
      "            Show more\n",
      "942\n",
      "Excellent Travel Services\r\n",
      "Me & My husband just returned after our 12 day trip to India and Nepal, both organized by Memorable India. From the time I contacted them to arrange these trips till the end they did a fantastic job. Every email with queries...\n",
      "\n",
      "            Show more\n",
      "943\n",
      "What a fantastic service this company offer! We are travelling with a 9 year old and a 2 year old and they have made it so safe and simple for us all, totally recommend them and thank you to all the lovely guides, staff and our driver for making it so...\n",
      "\n",
      "            Show more\n",
      "944\n",
      "Our experiences with Memorable India Tours \n",
      "I undertook a 08-day tour of Delhi, Agra, Jaipur, Haridwar, and Rishikesh designed in conjunction with Trinetra. It was thoroughly enjoyable and I found Memorable India to be a well-organised and impressive...\n",
      "\n",
      "            Show more\n",
      "945\n",
      "We had a wonderful time on this tour. Both our guides and main driver Dinesh were excellent. Food recommendations were good. Recommend this tour.\n",
      "946\n",
      "Whilst we did ultimately enjoy our tour, the lead up to it and the first day were very stressful. We had issues with the tour operator not organizing a national park stay or any safaris, not getting our itinerary until the 2nd day of the tour, and the...\n",
      "\n",
      "            Show more\n",
      "947\n",
      "Hemender was extremely helpful and had immense patience to book this tour for our family.Actually we had so many questions and hence we changed our Itineary so many times but Hemender listened our questions deeply and finally planned a tour that all...\n",
      "\n",
      "            Show more\n",
      "948\n",
      "Tour id : 764115-VCWHV. There were many big , small  issues BEFORE the tour begun. we will write one by one  but this one was utterly irresponsible and it happened on our last 8th days tour that Mr Hemendez Singh ( the manager of the tour operator in...\n",
      "\n",
      "            Show more\n",
      "949\n",
      "Super Ogranized tour and highly recommended tour for the visitors who are looking to explore South India.We booked this tour for us in a shortspan of time but Hemender from Travelcon arranged it very fast beyondour expectations.We sent him just a mail...\n",
      "\n",
      "            Show more\n",
      "950\n",
      "My tour guide was really a very patient man, because I asked him so many questions, and he answered to me all of them. I am thankful.\n",
      "951\n",
      "Visiting Taj Mahal has been my dream come true. It was so much more than my expectations. Taj Mahal is breathtakingly beautiful. The tour guide was extremely knowledgeable.\n",
      "952\n",
      "We booked a sunrise private tour from Delhi (beginning at 2.30 am). We slept in the car on the way to Agra. On arriving at Taj Mahal at sunrise, what we experienced was mesmerizing. Our tour guide was not only fabulous, but also a fantastic...\n",
      "\n",
      "            Show more\n",
      "953\n",
      "Real viaggi  India Tours and Travels did an excellent job in helping us with our 9 day vacation in India. I had an itinerary in mind, but krishna  changed  the itinerary and executed all the arrangements for the trip including hotels, drivers, local...\n",
      "\n",
      "            Show more\n",
      "954\n",
      "After sightseeing Rajasthan and the Southern India we made for Leh with Paylesstoursindia. Leh is absolutely incredible India region worth going and exploring. We were provided with an excellent driver and a personal guide who made this experience even...\n",
      "\n",
      "            Show more\n",
      "955\n",
      "Had great experience in Ladakh which was made possible by Paylesstoursindia. Our driver Pandu was very kind and helpful, the trip was very customised to our schedule. As a local person he guided us the best way he could given the weather conditions....\n",
      "\n",
      "            Show more\n",
      "956\n",
      "After sightseeing Rajasthan and the Southern India we made for Leh with Paylesstoursindia. Leh is absolutely incredible India region worth going and exploring. We were provided with an excellent driver and a personal guide who made this experience even...\n",
      "\n",
      "            Show more\n",
      "957\n",
      "\"Agra Trip arranged a tour of Delhi, Agra and Jaipur for us and tailored it to our specific needs and interests. Our guide, Boby, was interesting and knowledgeable. The car, driver, and hotels were all excellent. Highly recommended.\"\n",
      "958\n",
      "We booked our group tour to India with Agra Trip referred by a friend who visited India recently. It was a great experience as they kept all their promises and provided what they committed. We traveled through the golden triangle cities for 8 days and...\n",
      "\n",
      "            Show more\n",
      "959\n",
      "I had taken service before from Agra trip . This time I planned a trip to Delhi agra jaipur tour . I was very pleased with quality of service provided again. It was an excellent experience. Driver was quite polite and punctual. Car was nice and clean....\n",
      "\n",
      "            Show more\n",
      "960\n",
      "Prior to the trip it was advertised to cater for vegans so I put that I was vegan, however no tour guide was aware of this and didn’t have a clue what a vegan was. I suggest don’t advertise that you cater for vegans. \n",
      "The driver was great throughout the...\n",
      "\n",
      "            Show more\n",
      "961\n",
      "This was truely an amazing experience for us. Our tour was for 2 and half weeks. Our journey in India started from Delhi, where we visited India Gate and the Lotus Temple. From there we came to Agra to experience the beauty of the Taj Mahal and got to...\n",
      "\n",
      "            Show more\n",
      "962\n",
      "New Delhi, agra, jaipur very good place, i have planning to comeback to the country.\n",
      "963\n",
      "Fantastic tour. Excellent itinerary. Good meals.\n",
      "964\n",
      "My tour was altered without consultation. I did not have equivalent to what I paid for. Administration was inefficient and I do not believe Travel.com had detailed knowledge of towns on South trip.  The houseboat trip was cut short and I did not see...\n",
      "\n",
      "            Show more\n",
      "965\n",
      "Our travel plan was very well organized by Travelcon. Excellent service by the staff and the guide/driver. I would recommend Travelcon to anyone who plan to travel to any part of South India. They were very quick in responding to all my questions and...\n",
      "\n",
      "            Show more\n",
      "966\n",
      "Special thanks to Travelcon for understood our needs and planned the day trip and packages accordingly. They gave us an excellent package and price. You can book with them without blinking an eye. I will definitely use their services.\n",
      "967\n",
      "It's very complete tour to do and all the facilities provided were really nice. The travel agency is very helpul and they care for you during all the time you are in India. I felt very confortable all the time as a female traveller.\n",
      "968\n",
      "This is an amazing tour if you are looking for adventure, culture and sightseeing. The company helped us with everything and we had a great time. Transport, acommodation and planning 10/10, plus we were lucky in Ranthambore and we could see a tiger and...\n",
      "\n",
      "            Show more\n",
      "969\n",
      "Unbelievable experience! Traveling to delhi, jaipur and agra was special but finding myself around the wild creatures like the roaring tigers was absolutety exciting. I like to live adventures and this was one for me. It was a jeep safari and i was...\n",
      "\n",
      "            Show more\n",
      "970\n",
      "It began with a nice chat on Cox and Queen Travel website. One of their representatives sent me a prompt email with details of the tour along with a flexible payment term. On agreement we finalized the date of arrival made a deposit in their bank...\n",
      "\n",
      "            Show more\n",
      "971\n",
      "We loved our Alkof Holidays tour of Northern India and would recommend this tour to anyone who would like to see the historical and beautiful sites of Northern india with knowledgeable guides, expert drivers and comfortable hotels. We have travelled...\n",
      "\n",
      "            Show more\n",
      "972\n",
      "The trip was fabulous.. from start to finish the organisation was seamless... the tour was organised in a way that we experienced so many different regions a different aspects of the Indian culture... the guides were great especially Ravi who...\n",
      "\n",
      "            Show more\n",
      "973\n",
      "This tour was amazing. All of the guides and drivers were helpful and very professional. In particular Ravi, our guide in Varanasi and Summit Kumar our driver for a lot of our trip were so kind and went beyond their roles to ensure that our trip was...\n",
      "\n",
      "            Show more\n",
      "974\n",
      "Fantastic trip to India, visited many places, all the local guides were excellent and driver Mahesh was very caring and nice to us. Recommended.\n",
      "975\n",
      "Visited Northern India with my girl friend Julia, and we are fallen in love with the culture and traditions of the country, people wear colourful dresses, visited a very old house in Jodhpur it was amazing, shopping on the local streets of Rajasthan was...\n",
      "\n",
      "            Show more\n",
      "976\n",
      "Visited Northern India this time and It is amazing, I love India. The tour was well planned, all the hotels were clean and the staff was very nice, loved Indian spices and culinary. The driver Manoj was very nice and the tour Guide Sahil was very...\n",
      "\n",
      "            Show more\n",
      "977\n",
      "while searching for india golden triangle tour I found Amazing India Tours and spoke to with Michael for my first visit to india It was my first tour of india so do not want mess up with guides and hotels especially with driver they promised me to...\n",
      "\n",
      "            Show more\n",
      "978\n",
      "Thank you for recommending us good hotels and tour guide for first time traveller we are happy what we paid to you\n",
      "979\n",
      "my friend in Australia has suggested me this programme I booked the India Golden Triangle Tour with Varanasi based on good guides and hotels that first traveller want this\n",
      "980\n",
      "My friend in Australia highly recommended Amazing India Tours because of hotels and their  professional tour guides they have as most of the company not deliver the same for first time travellers\n",
      "981\n",
      "My friend recommended this company because of hotels and tour guides as they are very professional than others company we are very much happy with hotels and tour guides\n",
      "982\n",
      "We are from USA and we were two women travelling we wanted to stay nice, clean accommodation in each city as many tour operator had negative reviews for hotels and tour guide we got confident after recommendations by our friends for this company.\n",
      "\n",
      "We...\n",
      "\n",
      "            Show more\n",
      "983\n",
      "It was amazing destinations in this itinerary we loved all the places we are happy to see Ganges and Aarti on Ghats\n",
      "984\n",
      "We were four friends and head to India tour with them I did boat ride in varanasi nand saw ganga aarti hotels rooom was neat and clean\n",
      "985\n",
      "Beautiful country and lovely women of India I took many pictures of ghats and temples people are friendly in India I am very much glad that I have choosen this tour operator for first time tours of india.\n",
      "\n",
      "In India tipping is expected so keep this in mind\n",
      "986\n",
      "I was solo traveller from Australia and booked the tour and enjoy the all places with my private driver and guide and tour was very good and hotels was also nice\n",
      "987\n",
      "The tour was extremely well organised and enjoyable. We never felt rushed. All the local guides were amazing and knowledgeable about the country.  All the hotels were comfortable and clean. Our driver was friendly and safe. I would definitely recommend...\n",
      "\n",
      "            Show more\n",
      "988\n",
      "We loved every minute of it. Our driver Mukesh was amazing, super nice care about people. The activities were great and we had variety of things planned. We stayed one night in a heritage hotel in the middle of a rural village. The best part of the tour...\n",
      "\n",
      "            Show more\n",
      "989\n",
      "My husband and i had a great time. It allowed me to see things i wouldn't have been able to see on my own like the walking in the rural village, Old Delhi bazaar tour. Our guides were very helpful and also very fun. This tour offered a mix of culture,...\n",
      "\n",
      "            Show more\n",
      "990\n",
      "The service provided by Yolo India Tours was fantastic from beginning to end. We had an awesome driver Gurjeet who was always on time, always looking after us. We always felt safe. Our tour guides in each city were knowledgeable and friendly. All the...\n",
      "\n",
      "            Show more\n",
      "991\n",
      "The best tour ever. I would like to recommend this to anyone want to experience real India . Special mention to our driver Vikram one of very kind person and experienced. Well planned itinerary and comfortable accommodation. The best part of the tour is...\n",
      "\n",
      "            Show more\n",
      "992\n",
      "Our tour took us to three beautiful cities and one off beaten path village of locals. Yolo India Tours manged to coordinate every aspect of our tour. The drivers were skilled , reliable and the vehicle were always clean and stocked with water. Safety...\n",
      "\n",
      "            Show more\n",
      "993\n",
      "India has a lot of historical sites to explore but I have chosen this tour and loved the arrangements. Tour operator has a fantastic people who give you full attention to serve an excellent services\n",
      "994\n",
      "Outstanding trip but unfortunately Ranthambore park was not open but still we enjoyed the time in India. Our operator already informed me about Ranthambore but as we wouldn't be able to come again in India for a long so decided to go with the tour. We...\n",
      "\n",
      "            Show more\n",
      "995\n",
      "It was an outstanding multi day tour which includes a visit to Taj Mahal and a bit of adventure in Ranthambore with tiger safari ride. Everyone was very nice , our driver Prakash , tour guide in each city specially in Agra. Lovely people and a...\n",
      "\n",
      "            Show more\n",
      "996\n",
      "Thanks to the excellent services for Golden Triangle tour. My driver Mr. Raju, was not only a very good driver, but he took me everywhere I wanted to go and always offered suggestions along the way. Everyone should see the Taj Mahal it is beyond...\n",
      "\n",
      "            Show more\n",
      "997\n",
      "Beautifully organized trips , knowledgeable guides and helpful driver. \n",
      "Shall recommend to everyone\n",
      "998\n",
      "Thanks MTA for organizing such a wonderful trip for us. Surely come back again with you.\n",
      "999\n",
      "It was like living the stories of the  thousand and one nights, also thanks to the stories of the guide Manish\n",
      "1000\n",
      "Dell'India avevamo già visitato il Rajasthan, ma ci incuriosiva l'Orissa, una regione meno frequentata turisticamente , con alcune zone ancora tribali.\n",
      "Si tratta di un viaggio da affrontare senza molte pretese per quanto riguarda le strutture, almeno...\n",
      "\n",
      "            Show more\n",
      "1001\n",
      "We had an amazing time, a fantastic experience from the moment we arrived in India. The guides were very knowledgeable (we loved our guide in Delhi!) and everyone from MTA made this trip unforgettable. It all wouldn't be possible without our driver, mr...\n",
      "\n",
      "            Show more\n",
      "1002\n",
      "Enjoyed seeing all the iconic spots and experiencing India.\n",
      "1003\n",
      "I travelled with a friend around the Golden Triangle and we used MTA. I cannot recommend them enough; they should be the only option for anyone making this trip!!! The itinerary is very organised and the tour guides are extremely flexible if you want to...\n",
      "\n",
      "            Show more\n",
      "1004\n",
      "This tour surpassed our expectations and I could not recommend it enough. Everything was so well organised and the itinerary was just perfect. What’s more, we were able to visit additional places like an elephant sanctuary which was not on the itinerary...\n",
      "\n",
      "            Show more\n",
      "1005\n",
      "All was absolutely wonderful!\n",
      "1006\n",
      "I most appreciated organization and kindness of all involved. I will contact you for sure for next journey .\n",
      "Thank you\n",
      "1007\n",
      "Very nice trip and tour guides were really helpful during the city tour. Mr Jatin in Jaipur was very good and we woh love to recommend him\n",
      "1008\n",
      "Golden triangle tour is just marvelous and if it includes a tiger safari with it then it becomes excellent and i had chosen the same. It was an excellent trip visiting the Golden triangle tour cities. Taj Mahal, Amber fort and Red fort is the main...\n",
      "\n",
      "            Show more\n",
      "1009\n",
      "India is truly an incredible place to visit !!. It was my very first trip to India and i got the best tour operator in the term of taking care of a tourists, in the terms of response , everything. All the hotels was upgraded as requested and tour guides...\n",
      "\n",
      "            Show more\n",
      "1010\n",
      "Golden triangle tour was a great experience in India. All arrangements were good including hotels and transport. Tour guide are must to take during the Sightseeing because guides helped us to know about the rules in each monuments. I had a great time in...\n",
      "\n",
      "            Show more\n",
      "1011\n",
      "India is truly an incredible country to visit and feel the culture. I have explored it few days back in September and it was an amazing experiences to visit the main monument and temples in Delhi, Agra, Jaipur and Jodhpur. I would highly recommend this...\n",
      "\n",
      "            Show more\n",
      "1012\n",
      "India is truly an incredible country with a friendly and helpful people. It was my best trip and we highly recommend the tour package\n",
      "1013\n",
      "Adventures, Historical and Guided tour to Delhi Agra Jaipur with Ranthambore in a short period of time was an amazing trip with travel Creators Of India. Hotels, guides and transport was very nice. I had a great time and as a solo traveler i felt safe\n",
      "1014\n",
      "Epic one, everything was very smooth and perfectly arranged. I would highly recommend the services. Indian people are very kind and helpful. Would love to visit again next year with my family\n",
      "1015\n",
      "Very nicely organized and everything was fantastic. We would not hesitate to recommend the tour and the services\n",
      "1016\n",
      "perfect itinerary with a suitable budget. We really enjoyed the tour and loved the amazing taj mahal which was the best place in the entire tour. would recommend the tour\n",
      "1017\n",
      "Guided 5-day tour to golden triangle India tour was excellent as it was my first ever trip to India and I am completely satisfies with the tour I had. I recommend the tour with no hesitation\n",
      "1018\n",
      "The tour was as described. I was the only one participating in the tour which meant I had my own driver and could change times and places. There were some minor problems but the tour operator was quick to rectify them.\n",
      "1019\n",
      "Just returned from the most wonderful and relaxing vacation I have ever taken. The cultural exchange and generous, heartfelt hospitality of Indians cannot be overstated. But more importantly, the professional expertise, planning, sensitivity and...\n",
      "\n",
      "            Show more\n",
      "1020\n",
      "This was my third trip with World Travel Experiences in India (Royal Rajasthan with Tiger) . As always, a beautiful experience. Everything was simply perfect, the guides and the driver were all very friendly and always available to satisfy our needs and...\n",
      "\n",
      "            Show more\n",
      "1021\n",
      "We had a unforgettable fantastic trip,Hemender from Travelcon arranged this tour for us.He ensured us that we will have an amazing trip and no disappointment at all.The driver,different guide at each cities were very nice.Also one of our friend was...\n",
      "\n",
      "            Show more\n",
      "1022\n",
      "One of my friend told me about Travelcon and after that I booked a tour for\n",
      "both of us on our 5th Marriage Anniversary and I think I took a good\n",
      "decision after our tour. All went very smoothly and we did not face any\n",
      "single issue.From the day one when...\n",
      "\n",
      "            Show more\n",
      "1023\n",
      "The tour  we went on was absolutely amazing. It opened  my eyes to how different lives can be in the immediate vicinity of these two areas. Old Delhi shows  how hard life can be for some people. Meanwhile, New Delhi shows  how far India has progressed...\n",
      "\n",
      "            Show more\n",
      "1024\n",
      "From start to finish, this tour was well organized with great drivers and a  knowledgeable guide. We wanted to make some changes  here and there, but the drivers and  guides were happy to do so. \n",
      " With a comfortable and beautiful air-conditioned car and...\n",
      "\n",
      "            Show more\n",
      "1025\n",
      "The tour itself was good and the accommodation was also good (around 4 star on average). The guides and driver were also mostly good.  \n",
      "\n",
      "The parts we didn’t appreciate were being dropped off at tourist traps where they try to sell you carpets, gems,...\n",
      "\n",
      "            Show more\n",
      "1026\n",
      "We travelled on a private tour as a group of 5. Our driver and guide were both friendly and very knowledgeable. We visited the Taj Mahal and Amber Fort along with many other attractions.  Our guide was very accommodating to changes in our itinerary we...\n",
      "\n",
      "            Show more\n",
      "1027\n",
      "Everything perfect!! Everything awesome. I had a rough time because I was bitten by a monkey (my responsability), but the company accompany me to the hospital and they were with me the whole time. I absolutely recommend.\n",
      "1028\n",
      "What a beautiful trip, this will go down as one of our most memorable trip. We felt like kings and queens from the time we landed and were met by the tour operators team at the airport and garlanded. I have never seen anywhere in the world such special...\n",
      "\n",
      "            Show more\n",
      "1029\n",
      "We thought this was the perfect way to get a taste of India. India is definitely one of the most fascinating countries we have visited to far and we have visited many, nothing compared to the monuments we saw and the experiences we  had here, they were...\n",
      "\n",
      "            Show more\n",
      "1030\n",
      "Absolutely fabulous trip.   We had a number of guides as we did the Golden Triangle and added Varanassi and also Amritser.  Our driver Pradeep Kumar and our guides were absolutely fantastic. GeTS Holidays is the most professional organisation - we could...\n",
      "\n",
      "            Show more\n",
      "1031\n",
      "Highly Recommended and one of the best tour operator in india.\n",
      "1032\n",
      "Luxurious hotels,  brilliant architecture,  fantastic service. Thank you very much especially to my driver Rakesh who kept us entertained all the time with his stories and knowledge of the city. We shall be back ti see South India very soon.\n",
      "1033\n",
      "GeTSHolidays were amazing from the first email to the last day\r\n",
      "Couldn’t fault them \r\n",
      "Very helpful staff in the office to the tours guides in each place and our driver\n",
      "1034\n",
      "Would recommend booking with Gets Holidays:\r\n",
      "\r\n",
      "When I first made the decision to visit India, there were so many options and companies available..  As a westerner, I normally book my holidays through UK companies, however, when I started to research for...\n",
      "\n",
      "            Show more\n",
      "1035\n",
      "Amazing experience, it was everything I expected and more. Gri was an awesome driver, always safe, always on time.\n",
      "1036\n",
      "We had the most amazing experience in India. We felt welcomed from the moment he met us at Delhi airport and gifted us with flower necklaces to kickstart our holiday. \r\n",
      "The company really went above and beyond by providing the complementary guides in...\n",
      "\n",
      "            Show more\n",
      "1037\n",
      "Incredible Journey with great driver , guides & accomodations . \r\n",
      "Thanks & keep up the good work !!\n",
      "1038\n",
      "Highly recommended trip !! When we arrived at the Delhi in the night, we were met by one of their staff and taken to the hotel without any hassle. We were having big suitcases .They took and stored our big suitcases which we didn't need to carry along...\n",
      "\n",
      "            Show more\n",
      "1039\n",
      "Thanks for the great trip organised for my family .. we really enjoyed !!\n",
      "1040\n",
      "We booked this trip for our honeymoon & agency left no stone unturned in providing their best . Really professional company with a great team .\n",
      "1041\n",
      "We are super happy with this trip & really want to congratulate K K holidays , our tour operator for having such a great team which looks after the guests very well . Stay blessed !!\n",
      "1042\n",
      "Thank you for this great trip . It was our first time to India & we really enjoyed it .\r\n",
      " The sites, smells, sounds, bustle, were exciting and rewarding. The spiritual aspect of India was especially interesting along with its long history. India is a...\n",
      "\n",
      "            Show more\n",
      "1043\n",
      "Thanks you KK for making my trip to India awesome . Your services are excellent . Guides were great . In Agra I had the best tour guide ever, Vicky. He’s unique, very gentleman, passionate for his job and above my expectations. Obviously knows all about...\n",
      "\n",
      "            Show more\n",
      "1044\n",
      "I contacted K K Holidays  on the recommendation of a friend who travelled with them several years ago. My friend spoke very highly of them and I can see why.\n",
      "\n",
      "From the very outset they were professional, efficient, flexible and friendly. It was very...\n",
      "\n",
      "            Show more\n",
      "1045\n",
      "We are a couple from Canada and we travel by ourselves in more than 40 countries so far. And we travel in comfort. \n",
      "For India we were not sure to undertake the trip as usual by renting a car . And oh was it a good idea to go through à your operator!...\n",
      "\n",
      "            Show more\n",
      "1046\n",
      "I highly recommend Colourful Indian Holidays tours. We were extremely satisfied with the service they provided during our trip to Rajasthan. The hotels were very nice with clean and spacious rooms and good food. The trips were well planned and we are...\n",
      "\n",
      "            Show more\n",
      "1047\n",
      "The trip was fabulous and well managed, we were lucky that we finished our India trip in February before this COVID19 crisis. These guys are amazing, and I can easily recommend the company to anyone want to visit India.\n",
      "1048\n",
      "Varun supervised and guided us from his  New Delhi Office to our utmost satisfaction! Thank you\n",
      "1049\n",
      "It was an Amazing tour, we had an encounter with a Lion at Gir, it was just 50 meters away, uhhh. Then we visited Kanha and Bandhavgarh and we were very lucky to watch 2 tigers at Bandhavgarh. The trip was an amazing experience and everything was well...\n",
      "\n",
      "            Show more\n",
      "1050\n",
      "On viewing several options, I decided to take this tour. The tour cost was nominal. The service of the company was good, in terms of providing a good driver who knew all the roads, the tour guide who had good knowledge about the monuments. He knew a lot...\n",
      "\n",
      "            Show more\n",
      "1051\n",
      "We are so glad to tell that we had an excellent tour. The sites that we visited were great. Staying in Jaypee Palace in Agra was an amazing experience. We must say our driver was excellent. The tour guide was a true professional, with lots of knowledge...\n",
      "\n",
      "            Show more\n",
      "1052\n",
      "We had excellent 5 day tour of Agra and Jaipur from New Delhi.\n",
      "Guides were excellent. Hotel Jaypee Palace in Agra was superb and our travel in luxury car with driver Shivraj Singh was best.\n",
      "Overall we really enjoyed the tour.\n",
      "1053\n",
      "I had a great time, and would highly recommend this company! Our driver, Akhtar, was great; very professional, knowledgeable, and enjoyable to travel with. He was always on time, very safe, and told us about India in between our scheduled tours. The...\n",
      "\n",
      "            Show more\n",
      "1054\n",
      "We had a wonderful 5 day trip to Delhi-Agra-Jaipur with Golden Triangle Tours. Arun Singh was a very good travel agent, a professional. Every little thing was micromanaged wonderfully. We were indoors when the sun was at its peak and so the group wasn't...\n",
      "\n",
      "            Show more\n",
      "1055\n",
      "My wife and I spent in Kerala one of the best time of our life. It was truly wonderful and customised holidays without unnecessary rush with plent of time for taking photos and local life observation. That was undoubtedly an option for us as we are...\n",
      "\n",
      "            Show more\n",
      "1056\n",
      "Tour was so fantastic with lotsof good experiences andactivities.Hotels were too good with very good food.Tour organiser was so supportive and driver was so professional and looked after us all the time.I recommend every one for this company for its...\n",
      "\n",
      "            Show more\n",
      "1057\n",
      "Brilliant tour, highly recommended!!\n",
      "1058\n",
      "I have used Paylesstours India for the second time in three years now and I found their services efficient and the company very reliable. No problem to make an advance payment of the tour, they will deliver as promised. The company selects proper cars,...\n",
      "\n",
      "            Show more\n",
      "1059\n",
      "A tour with family stay  was a true cultural experience that brought us closer to Indian customs and traditions. We had a fantastic family stay at Sharma house which was situated in a small village around 30 km from Dharamshala. All family members are...\n",
      "\n",
      "            Show more\n",
      "1060\n",
      "As the travel agent, Kohinoor holidays had manage custom-made travel. We love how the travel was arranged and the one of the remarkable thins is the driver, Mr. Karan, who always ensure our safety and comfort on the road. Thank you for the amazing service\n",
      "1061\n",
      "The Kohinoor Holiday’s team made the trip amazingly memorable - Our driver was fantastic as were all the guides throughout the trip - I have loved every experience and will be coming back to India!\n",
      "1062\n",
      "I really enjoy this chambal velley with famous golden triangle tour. All services are good. The tour was amazing and the accommodations were very comfortable. Will hire again.\n",
      "1063\n",
      "Awesome Tour and really memorable tour in my life. I wanted to thank Kohinoor Holidays Team for this support and sharing own experience with us. Excellent - Guide , Experience - Driver.  Golden Triangle Tour with Chambal Safari. Thanks Again..\n",
      "1064\n",
      "Chambal velly with Famous Golden Triangle Tour - our Chambal Safari golden triangle tour 6 nights 7 days so awesome with kohinoor holidays. Really i was enjoy with your this tour and your company staff is so nice and cooperative.\n",
      "1065\n",
      "This was an incredible trip that I'll never forget. Memorable India was extremely professional and organized, and our guides were amazing. I would highly recommend them to anyone looking for an amazing tour of Varanasi.\n",
      "1066\n",
      "Best Journey\n",
      "My family had the best trip ever I visited. Our guides and drivers were very nice and calm. The guide's knowledge was excellent and made each tour a fun adventure! My family was very comfortable during the journey. It was a very good...\n",
      "\n",
      "            Show more\n",
      "1067\n",
      "I have booked tour for me and family. it was great tour. We  had lot of fun. Tour guide and Taxi was amazing. Mr. Hemender looked after us very nicely during entire tour. We highly recommended.\n",
      "1068\n",
      "Amazing Tour. Went over all the important aspects in great detail and kept it interesting. Also allowed time for photos. Thanks Travelcon for Sharing your Experience.\n",
      "1069\n",
      "We indeed had a fabulous trip to South India tour from Travelcon. The trip was well planned especially neat and clean hotels, guides and not the least our Driver, Mr Sahib Singh who was an experienced and nice person. He ensured about the snacks, water...\n",
      "\n",
      "            Show more\n",
      "1070\n",
      "We had 7 days tour with extended family visiting Cultural heartlands of south India Tours. Our primary driver was really helpful as this was our first time in India. He also our tour guide some portions of the trip which involved a lot of driving time...\n",
      "\n",
      "            Show more\n",
      "1071\n",
      "An excellent way of seeing the highlights of the Golden triangle in a short space of time in a well organised trip. Thanks to Ms. Julie, accommodations & hospitality was perfect. Just fall in love with India, felt safe throughout the tour. Would highly...\n",
      "\n",
      "            Show more\n",
      "1072\n",
      "Just spend a fabulous, Golden triangle tour with Julie International tours. Everything was perfect from hotels to the guides who are so knowledgeable and nothing was too much. The tour was well organized. Thanks to Ms. Julie for organizing our tour.\n",
      "1073\n",
      "My friend from Australia visited me and we decided to take a tour to Jaipur. A visit to Amer Fort, Jaipur was wonderful. Our Tour Guide was very knowledgeable and had all the answers to our questions. Our car was very clean. The hotel was very good. I...\n",
      "\n",
      "            Show more\n",
      "1074\n",
      "We family of 4 visited India, Golden Traingle tour & decided to book tours from Ms. Julie. The experience was wonderful & worth the money spend. Hotels, car, guide all best service. It was our first time all the monuments & different places, people...\n",
      "\n",
      "            Show more\n",
      "1075\n",
      "The trip was well organized, the itinerary was good. Hotels, driver, all the local guides were really very good, and excellent response by Alkof Holidays throughout the tour. Recommended\n",
      "1076\n",
      "Tour was excellent, and well managed. I would use Alkof Holidays again during my next visit to India, and I recommend them to others.\n",
      "1077\n",
      "Well organised tour. Local guides were very knowledgeable and we were lucky enough to see a tiger at very close proximity along with lots of other wildlife.\n",
      "1078\n",
      "Trip was fantastic! everything was well organised by the company. Driver, all the local guides, and hotel staff were excellent and friendly  and fortunately the safari at Ranthambore was the best part of the tour as we saw the tigers, one was just...\n",
      "\n",
      "            Show more\n",
      "1079\n",
      "Fantastic travel arrangements by Rohit at Alkof Holidays, everything was well organized and tiger safari was absolutely worth it. I recommend Alkof Holidays for India tours to all my friends and family.\r\n",
      "\r\n",
      "With Love,\r\n",
      "Rosell\n",
      "1080\n",
      "From start to end everything was managed nicely, the itinerary was well designed, Guide Pawan was very knowledgeable and the driver was also aware of all the routes. Most of all we had enough time to explore everything as per our interest as it was a...\n",
      "\n",
      "            Show more\n",
      "1081\n",
      "Tour was well-organized, the tour guide Mahendra was very knowledgeable he well described every monument, every destination we visited, the driver Sunil was also very good and drive very safely. I recommend Alkof Holidays, good company. Thanks\n",
      "1082\n",
      "From our arrival at the Delhi airport until our departure 10 days later, everything was perfect. Our driver was a very nice  and professional person. All the five-star hotels were good to rest after all day in the cities and their monuments.\n",
      "1083\n",
      "We visited Dehli,Agra,Jaipur. Excellent drivers, excellent local Guides, Wonderful experiences with elephants, camels in the desert and historical sights.\n",
      "I would recommend Ms. Shilpi travel planner and owner and her team mostly highly.\n",
      "The hotels were...\n",
      "\n",
      "            Show more\n",
      "1084\n",
      "I was on a trip for 8 days to visit Rajasthan with my family and car chauffeur Mr Lucky. Thank you Lucky for your courteous behaviour and your expert driving service. We visited Haridwar, Rishikesh, all prayag, Joshimath, Auli, Badrinath Dham and Mana...\n",
      "\n",
      "            Show more\n",
      "1085\n",
      "We had Rajasthan tour for 7 Nights 8 days. So lucky that we had Mr. Farukh Ali as driver. He is very helpful with excellence service. Car is clean and new. Highly recommend !!\n",
      "1086\n",
      "Ours was an amazing experience. The smooth and flawless planning along with the driver's polite demeanor was so impressive. Mr. Sharma is a very punctual man and is always ready to help. He personifies the hospitality for which the state of Rajasthan is...\n",
      "\n",
      "            Show more\n",
      "1087\n",
      "It was really a excellent trip, thanks to Mr. Farukh. The cab we hired was so clean and safe. And Mr.Fraukh good nature, helpful and knowledgeable person. I'll recommend everyone to contact him for Rajasthan trip. Overall my 8 day's trip was really great..\n",
      "1088\n",
      "We recently did a 9 days trip of rajasthan, i traveled with my Family. Mr.Farukh Ali was our driver for chardham trip. The service provided by them was very smooth and so professionally managed, Mr. Farukh fantastic drive and also hill station...\n",
      "\n",
      "            Show more\n",
      "1089\n",
      "Raj was our driver for one week and never showed a sign of being tired. Aways ready to help, whether it was a sudden wish to go to the city or a need to withdraw the money. He was always there for us no matter the difficulties of the travels. Reliable,...\n",
      "\n",
      "            Show more\n",
      "1090\n",
      "Travelled to 8 day's trip to  Rajasthan,\n",
      "Jaipur, Udaipur, jaisalmer with Driver uncle Mr.Purushottam Sharma. He was a safe, punctuate , clean and knowledgeable driver who arranged all the travel guides for our sightseeing and took to some excellent...\n",
      "\n",
      "            Show more\n",
      "1091\n",
      "We traveled to Rajasthan for 8 days.  It was a very good experience.  Thanks to VWI Tour.  We highly recommend to them. My hotel room are very clean and there are Very tasty ☺️\n",
      "1092\n",
      "We travelled with VWI TOUR for 8 days to Rajasthan. They're just awesome rather one of the best tour. Thank to the team.\n",
      "GUIDE - 10/10\n",
      "FOOD - 10/10\n",
      "HOTEL - 10/10\n",
      "every thing is perfect\n",
      "1093\n",
      "Vwi tour travel company is really phenomenal.  We made a group tour for 8 day trip Andaman. Vwi tour planned very last minute and very excellent.I would highly recommend his service for its quality and reliability.\n",
      "1094\n",
      "The golden triangle tour with Varanasi was great ! I booked this tour with my girl friend for 10 days in India as we specially wants to see Delhi, Agra, Jaipur & Varanasi. Sukret was great with communicating with us and kept us well informed, very...\n",
      "\n",
      "            Show more\n",
      "1095\n",
      "I am very happy with my trip to India. Volunteering With India did a great job of providing services throughout the tour. India is full of adventure and so different from anyplace else i have been the whole experience was great. Obviously anyone would...\n",
      "\n",
      "            Show more\n",
      "1096\n",
      "It was a great tour to India and we enjoyed it\n",
      "1097\n",
      "I had a great ranthambore tour with golden triangle tour. I had take couple of safari rides and saw the tiger once. Safari w\r\n",
      "Ride was adventurous. I also explored Taj Mahal which was main attraction and I visited Delhi and Jaipur. I enjoyed everywhere...\n",
      "\n",
      "            Show more\n",
      "1098\n",
      "it was a mixture of an adventures and historical tour package where i had an adventure in ranthambore national park by taking a safari ride and i had an amazing visit to the Taj Mahal and other monuments in Agra. Delhi is a crowded place to travel but...\n",
      "\n",
      "            Show more\n",
      "1099\n",
      "We really had a good tour for Delhi Agra and Jaipur. It was a private tour with inclusive of flights from Pune for both ways, hotels, transport with transfers and tour guide. We have taken many life time memories from India and thankful to travel...\n",
      "\n",
      "            Show more\n",
      "1100\n",
      "India's best places to be visited are Delhi Agra and Jaipur. I got all kind of experience on this tour. Delhi is a good city and has many historical monuments like Qutub Minar, Humayun's tomb, Lotus temple and many more. We all are aware that Agra is...\n",
      "\n",
      "            Show more\n",
      "1101\n",
      "It was a private tour with no extra cost. Hotel accommodation, car and driver was very good. Our guide in every local cities was helpful during the tour. We have a friend who are planning to come and i will recommend Afsar for the tour management.\n",
      "1102\n",
      "Golden triangle with Udaipur is a perfect combination of experiencing Taj Mahal with Delhi Agra and Jaipur and additional trip to Udaipur. Me and my wife had a fantastic tour and we would recommend it\n",
      "1103\n",
      "It was our first trip to India and we booked golden triangle tour with Udaipur. We asked operator to upgrade the hotel into 5 star at additional cost and he did that. It was a perfect itinerary as we were required to be picked up from Delhi Airport and...\n",
      "\n",
      "            Show more\n",
      "1104\n",
      "Golden triangle with udaipur is one pf the finest trip to explore the northern India. India is popularly known for its culture which attracts us the most. Pick up , transfers and sightseeing was on time as the driver Rakesh was very punctual. Tour...\n",
      "\n",
      "            Show more\n",
      "1105\n",
      "Mohd was a great guide who served us during the city tour everywhere. We took him as a guide got the entire tour at some additional cost which was reaseable. Each city has their own speciality but Agra is somewhere abovr than other because of the Taj...\n",
      "\n",
      "            Show more\n",
      "1106\n",
      "Excellent trip, Operator was very responsive and accommodating. Helped us to manage some changes in the tour itinerary and our flight was booked according to our time preference. Explore the most visiting major cities Delhi And Jaipur as we have already...\n",
      "\n",
      "            Show more\n",
      "1107\n",
      "Wonderful tour , everything went the way it was planned. I had a great experience over the trip and would love to recommend\n",
      "1108\n",
      "Tremendous trip, everything was very beautifully organized and all the things went the way it was planned. This tour doesn’t have a specific time for the start then I contacted the operator and asked about the same and Zaid was very responsive he told...\n",
      "\n",
      "            Show more\n",
      "1109\n",
      "The tour was a great mix of culture, history, and relaxation. We got to see some of the most amazing landmarks, while also spending time in nature and enjoying the heritage hotels. The driver and guides were very flexible and helpful, which made the...\n",
      "\n",
      "            Show more\n",
      "1110\n",
      "Our driver, Vikram, ensured that we saw all of the places on our program and was always conscious of our safety. He was an excellent driver and had great command of the English language, making him the perfect person to show us around.\n",
      "1111\n",
      "Our tour was almost entirely flawless from start to finish. We did not have to think of any details that often detract from enjoying the trip. It was the most organized yet flexible travel experiences I've had. Our driver Shubam, was a delight to be...\n",
      "\n",
      "            Show more\n",
      "1112\n",
      "Many thanks to Yolo India Tours for organizing my dream holiday of experiencing the Indian wildlife. Our 10 days wildlife holiday ranks high among our all time favorite holiday. This tour is a treat for every wildlife lover and offer the best wildlife...\n",
      "\n",
      "            Show more\n",
      "1113\n",
      "I enjoyed this company. As a female solo traveller I always felt safe and comfortable. Hotels were great and the guides were friendly and accommodating. I was most impressed with the Delhi Rani,Agra Boby and Jaipur guide Ranvijay who reallly went above...\n",
      "\n",
      "            Show more\n",
      "1114\n",
      "\"It was a pleasant experience with Agra Taj Visit. We had taken a Golden Triangle Tours with Ranthambore from Delhi to Agra & Jaipur. The journey was good, and the driver Akhter also very well behaved along with good gestures. Definitely i would...\n",
      "\n",
      "            Show more\n",
      "1115\n",
      "The arrangements of our 10 Days Program was awesome with exceptional\r\n",
      "and professional services by Travelcon.hemender was in touch \r\n",
      "regularly to ensure that all was going well.The car was spacious,neat\r\n",
      "and clean with our driver Ramesh who stopped when...\n",
      "\n",
      "            Show more\n",
      "1116\n",
      "We were a small group flew from Canada to visit Primarily Mathura and Vrindavan and also Taj Mahal with Jaipur.The company provided us very neat and clean budget hotels(this we requested to our small budget),a well spacious Tempo Traveller through the...\n",
      "\n",
      "            Show more\n",
      "1117\n",
      "We did the Golden Triangle Tour a few days ago. The only reason for choosing this company was based on Tourradar. The arrangement and communication were very good and responsive.\r\n",
      "Our driver, was a professional, reliable and very experienced driver. He...\n",
      "\n",
      "            Show more\n",
      "1118\n",
      "It was nice experience. Wonderful tour and saw amazing things. Guide was very kind and service was awesome. Thanks\n",
      "1119\n",
      "Excellent tour with family. We have seen so many Havelis  at Mandawa. Mr. Hemender guided so well and explained places very well in details. accommodation and transportation arrangements were perfect. We highly appreciate and recommended.\n",
      "1120\n",
      "We booked this tour in October 2019 through Travelcon.One of our friend who has been living in New Delhi for last 8 Years suggested us about this company and we were so happy from the professional services they had given to us.All...\n",
      "\n",
      "            Show more\n",
      "1121\n",
      "This tour is best for all our expectations. I couldn't have asked for anything more. The tour guides and driver made our experience memorable. thanks hemendra singh we will come back again for your services.\n",
      "A++++\n",
      "1122\n",
      "we entire5 days tour in with car and driver provided by real  India Tours and Travels was excellent! The tour drivers, Mr ajay   was exemplary.\n",
      "Our hotel  provided by real viaggi  India Tours & Travels was comfortable, super clean with modern...\n",
      "\n",
      "            Show more\n",
      "1123\n",
      "Pench and kanha wildlife tour was a very attractive  , the scenery being quite varied, rocky out crops, rolling hills, nice lake, river and water . Also saw all the major herbivores, Dhole and and good selection of birds. Definitely found Pench to be...\n",
      "\n",
      "            Show more\n",
      "1124\n",
      "What can I say about this fantastic travel company.\n",
      "From when I first emailed them about what I would like to see and do in India to the last detail they over delivered this is the best travel company  with so far If you are thinking of taking a trip to...\n",
      "\n",
      "            Show more\n",
      "1125\n",
      "Marvelous golden triangle tour with bhadhvghar and kanha \n",
      "wildlife tour , where history and nature meet, Bandhavgarh is not too far away from Kanha. Set amidst the Vindhyan ranges, the Park has a series of ridges running through it. Initially just...\n",
      "\n",
      "            Show more\n",
      "1126\n",
      "Very Nice take care of the customers never short of water so nice and a familiar funny good driver Babloo a please the tourist...... my family of 4 all have very much Nice experience knowing the Indian culture and its exploration with thes fantastic two...\n",
      "\n",
      "            Show more\n",
      "1127\n",
      "After the Heritage hotel that we bought from Paylesstoursindia  tour we went to the Southern India for this exciting tour which covers the most significant places in the southern India like Munnar or Kochi. It is completely different story to the North...\n",
      "\n",
      "            Show more\n",
      "1128\n",
      "On behalf of my wife too we would like to confirm that we definitely enjoyed our trip and your organization. Here below please find my feedback. The organization in general of Colourful Indian Holidays was pretty good. In particular the sightseeing was...\n",
      "\n",
      "            Show more\n",
      "1129\n",
      "Driver was friendly and was always on time during the entire tour. We explored Delhi, agra , Jaipur and Udaipur which was one of the best experience we have had in India. We also visited Gujrat but we would say that this tour was better than Gujrat...\n",
      "\n",
      "            Show more\n",
      "1130\n",
      "We were picked up on time , driver was friendly and he drove us everywhere safely. He kept asking us for the water all the time. Delhi is one of the best city in India and specially a markets of the Delhi is nice to buy the things. We had a wonderful...\n",
      "\n",
      "            Show more\n",
      "1131\n",
      "I have been on a few tours over the years with Abdul Hakim and the latest with my mother on her first trip to India. Tours can be catered to your interests (I love stepwells so more were found along the way) and every effort is made to ensure you get to...\n",
      "\n",
      "            Show more\n",
      "1132\n",
      "excelent stay to aga taj mahal i good to see it\n",
      "1133\n",
      "Our family had a customized tour that included all three national parks for tiger safaris as well as the traditional golden triangle tour. We had 2 different drivers during the tour that picked us up at the airport or drove us to the next location. The...\n",
      "\n",
      "            Show more\n",
      "1134\n",
      "I had an amazing time in India thanks to Wonderful holidays!\r\n",
      "At the beginning I had a problem with my flight and i thought I was going to loose my tour but Shilpi my planner was very helpful and she was always in touch even in such odd hours making the...\n",
      "\n",
      "            Show more\n",
      "1135\n",
      "On our trip to India we visited the cities of Delhi, Agra, Jaipur, Varanasi It was a wonderful experience that we will never forget. Thanks to Kohinoor Holidays and your authentic tour and travel companions for making us feel at home.\n",
      "1136\n",
      "Excellent service. I really appreciate the services of our guide and driver. Both were professional... I believe they made my tour.\r\n",
      "\r\n",
      "Thanks a lot company owner.\r\n",
      "We will recommend this tour to everyone who wants to travel to India and want to see...\n",
      "\n",
      "            Show more\n",
      "1137\n",
      "Thank you for everything Kohinoor Holidays! You made our tour memorable for ever ! Great guide and excellent driver.\n",
      "1138\n",
      "Great trip for the price, considering its quite a long drive and a long day, as I was saying in Delhi. But well worth the trip to get out of town and see some culture and scenery. This trip was in November. We went to the hippy yoga place, saw awesome...\n",
      "\n",
      "            Show more\n",
      "1139\n",
      "I would recommend this 6 day trip without hesitation. The organization was easy, communication was amazing and the day was well planned. Mr Ajay was an excellent guide, full of useful information in fluent English and is a definite safe driver. He made...\n",
      "\n",
      "            Show more\n",
      "1140\n",
      "We had such a great time with our guide/driver Ajay!\n",
      "He did not only give us excellent explanations about various sites, but also shared with us stories about him and his family. It was a great way to get authentic views about Indian culture.\n",
      "Ajay’s...\n",
      "\n",
      "            Show more\n",
      "1141\n",
      "Just back from 6 excellent days in the care of Ajay. We drove together to Rishikesh from Delhi - 6hours passed in a flash as he taught me about the country he loves so much. We made an unplanned stop to help make some sugar patties - huge fun. At last...\n",
      "\n",
      "            Show more\n",
      "1142\n",
      "We had a wonderful 6 days tour of the Hardiwar nad Rishikesh. Our driver and guide for the tour was Rana who was very friendly and pointed areas of significance on the way. He was very open to conversation and this really helped in creating a very...\n",
      "\n",
      "            Show more\n",
      "1143\n",
      "6 days tour of Rishikesh and Haridwar was most enjoyable. Our driver and guide Rana, was really friendly and he was very knowledgeable of all the sights. Rana was excellent at explaining all the history of the monuments and sights. He made us feel at...\n",
      "\n",
      "            Show more\n",
      "1144\n",
      "Everything was awesome. Awesome river side places.\n",
      "Overall it was great experience to Haridwar and Rishikesh. Driver with top notch knowledge. 100% worthy trip and specially the way was very good to go.\n",
      "1145\n",
      "6 days Trip went awesome. We didn't had so much time because having flight tomorrow back to UK. We saw the place is very pious and that is famous for \"Bhole Baba\", most amazing thing that driver arranged everything well as we discussed regarding the...\n",
      "\n",
      "            Show more\n",
      "1146\n",
      "I'd say great trip and had good time there, very religious place.\n",
      "Ganga river was really adorable, very positive vibes in Evening Ganga Aarti. Missed Rafting we got to know later that company also provide river rafting services we booked for next week...\n",
      "\n",
      "            Show more\n",
      "1147\n",
      "Everything was amazing . My driver Mr.B L Sharma was very knowledgeable. He is very responsible and friendly Guide. Amazing thing about trip was :\n",
      "1: Good Price\n",
      "2: Cab With Good condition\n",
      "3: Excellent Driver good knowledgeable and honest person.\n",
      "4:...\n",
      "\n",
      "            Show more\n",
      "1148\n",
      "I went to Agra from Delhi solo for a sunrise tour of the Taj Mahal- even though my hostel was way out of the way, these guys were kind enough to pick me up so I didn’t have to solo-metro at 2am. The drive was comfy, the schedule was totally up to me...\n",
      "\n",
      "            Show more\n",
      "1149\n",
      "Amazing Rajasthan!!! \r\n",
      "My husband and myself had two wonderful weeks in the Rajasthan India area in June.When the opportunity to attend a friend's wedding in Jaipur, I jumped on the chance even though I had serious doubts as we are in our 60's, had...\n",
      "\n",
      "            Show more\n",
      "1150\n",
      "Best to Rajasthan\r\n",
      "It is one of the best travle company. I took their services to venture out in Rajasthan for 11 days. The driver was decent in the manner and the place where we stayed was quite good too. All over services were great & I would love to...\n",
      "\n",
      "            Show more\n",
      "1151\n",
      "Great Trip To Rajasthan \n",
      "For the 2nd time, I traveled to India with Memorable India Company. This time I took the tour \" Royal Rajasthan & Village Tour \" and then I went on their tour to Rishikesh. The drivers were excellent and really professional, the...\n",
      "\n",
      "            Show more\n",
      "1152\n",
      "I booked my two weeks tour of Agra, Rajasthan and Delhi with Agra Trips. They did an amazing job planning our trip. They asked and listened to our needs and preferences and built an itinerary to suit just that. They made our trip so memorable and...\n",
      "\n",
      "            Show more\n",
      "1153\n",
      "First time visiting Rajasthan  we arriva in jaipur and  We where meet by Agra Trip  Rajesh  . He arrived on time was very friendly and very knowledgeable.He answered all our questions and explained the culture of India. He,s a credit to the company, he...\n",
      "\n",
      "            Show more\n",
      "1154\n",
      "As a lone lady traveller and of colour ,i felt safe and comfortable throughout the tour.I\r\n",
      "Excellent, respectful tour guides line up  Mr.Tanvir Ahme,d, Mandir for Jaiphur and an excellent driver Ahmed Khan was on top of his game, always on time and...\n",
      "\n",
      "            Show more\n",
      "1155\n",
      "We were 5 friends, 6 days in a trip (Jaipur, Jodhpur, Udaipur, Pushkar, Jaipur). The Program was well organised from VWItours and his team. We enjoyed all the places and accommodations and transportation was very good. We arrived on time and in perfect...\n",
      "\n",
      "            Show more\n",
      "1156\n",
      "India is really incredible.  Golden triangle  tour India is the trip for fist time travellers . Seen the amazing site all part of Delhi isis heart of India qutub minar is best munments in Delhi. Jaipur Amber fort has untold story of pink city. Agra oh...\n",
      "\n",
      "            Show more\n",
      "1157\n",
      "My partner and i did this tour and we loved it. The both drivers of North (Ramash) and south (Joseph) were certainly special individuals and very professional. The guides they choose for different cities were excellent. It is a great idea of having...\n",
      "\n",
      "            Show more\n",
      "1158\n",
      "Agra Taj Visit was great to work with. We arrived a day late in delhi. Our driver for Golden Triangle with Udaipur Tour was Akhater Ali and he was most excellent professional. We changed our plans often and Rajesh Kumar was gracious and professional...\n",
      "\n",
      "            Show more\n",
      "1159\n",
      "Recommend this company for good service and pleasant experience. I contacted them for 10 Days Magnificent South India Temple Tour Package for my parents. Itinerary and everything was well organized. The driver was polite and nice to my parents. They had...\n",
      "\n",
      "            Show more\n",
      "1160\n",
      "I was a solo traveller from Australia and digital creator.I wanted to travel\r\n",
      "to South India but was nervous and later reading good reviews of travelcon,\r\n",
      "I decided to book a tour for myself.\r\n",
      "\r\n",
      "Before booking, I had lot of conversation with Hemender...\n",
      "\n",
      "            Show more\n",
      "1161\n",
      "This was my first South India tour and I satisfied with the arrangements which had been done by Travelcon and his staff...especially our driver cum guide.  full of knowledge...I will be back again in February after my wife give birth....looking forward...\n",
      "\n",
      "            Show more\n",
      "1162\n",
      "We just came back from our Golden triangle tour with udaipur. Special thanks to Julie International Tours for organising a tour for us. Start from airport pick up to Hotel, drive to Agra, Jaipur, Udaipur was very comfortable. The guide got vast...\n",
      "\n",
      "            Show more\n",
      "1163\n",
      "This was a well organised tour which i really enjoyed. A fair amount of travel, but plenty to see on the way, accommodation was outstanding, vehicle was very comfortable, and the driver and guides knowledgeable and friendly\n",
      "1164\n",
      "Ashok Driver was very good on whole tour\n",
      "1165\n",
      "Fantastic tour full of attractions and wonderful memories. We shall recommend the services yo everyone.\n",
      "1166\n",
      "Indian family stay arranged on this tour was just wonderful. We had a chance to get to know real indian customs and stay with very polite and hospitable Indian family. They took care of us like very close family members making us feel special. We were...\n",
      "\n",
      "            Show more\n",
      "1167\n",
      "Fantastic private golden triangle tour from Delhi by car with GTTI. Operator was very responsive and update to date. Operator organized the tour. Hotels was good as the cost of the tour package was reasonable and tour guides was very knowledgeable. We...\n",
      "\n",
      "            Show more\n",
      "1168\n",
      "The tour exceeded our expectations, we had wonderful tour guides in every city and an exceptional driver (Ashok) who was with us from beginning to the end of the trip. We experienced so much, unbelievable rickshaw ride through the busy streets of Old...\n",
      "\n",
      "            Show more\n",
      "1169\n",
      "He owns all the quality of a good driver i.e. drives perfectly, friendly, a guide too , knows some of the short cuts too which are not on Google map. Knows opening and closing time for almost all of tourists places, time punctual. I give Agra Trip all...\n",
      "\n",
      "            Show more\n",
      "1170\n",
      "Without Lexi  TravChinTour/AgateTrvl consultant my way of doing business will be  different locally and totally Most of the destinations have been luckily already for years and many time visited … so She is and all of them are so much important by...\n",
      "\n",
      "            Show more\n",
      "1171\n",
      "Excellent organised holiday with Royal Rajasthan.\n",
      "1172\n",
      "It's been a fantastic trip to India, and everything was planned very well. I and my family recommend Alkof Holidays for India tours.\r\n",
      "\r\n",
      "Thank You,\r\n",
      "Terry\n",
      "1173\n",
      "Visited India for the first time, and we had an amazing experience on this tour. All the tour guides were amazing and we explored many destinations in Rajasthan that would not be possible on my own. I Highly recommended Alkof Holidays. \r\n",
      "\r\n",
      "Thanks,\n",
      "1174\n",
      "The trip was fabulous, I and my friends visited South India, after visiting many wonderful temples and monument at last we approached Kumbakonam where we enjoyed the Ayurveda, yoga and meditation practice... We enjoyed a lot there. I recommend this trip...\n",
      "\n",
      "            Show more\n",
      "1175\n",
      "Last month visited India with the help of Alkof Holidays. Visited Rajasthan, Delhi and Agra, the trip was well organized and well managed. Driver Manoj and tour guide Ravi were very Knowledgeable about all the routes and attractions we visited, all the...\n",
      "\n",
      "            Show more\n",
      "1176\n",
      "Excellent Travel Agency and Customized the Trip - Mannu \n",
      "\n",
      "We’ve just completed 8 days trip Delhi, Agra, Jaipur, Jodhpur and Udaipur through that was arranged by Wonderful Holidays. The package was fully customized and there was never any issue with this...\n",
      "\n",
      "            Show more\n",
      "1177\n",
      "We were very well-looked after by Wonderful Holidays -Their Representatives and Tour Guides. We visited Delhi, Agra, Jaipur & Udaipur for 6 nights 7 days. It was a round trip. We enjoyed a lot especially in Agra by the sunrise view of Taj Mahal. \n",
      "\n",
      "We...\n",
      "\n",
      "            Show more\n",
      "1178\n",
      "Searching for a tour company in such a huge country with many alternatives can take much of your time. If you are looking for a company to do Golden Triangle Tour quite some time and still couldn't decide yet, I can directly recommend you search no more...\n",
      "\n",
      "            Show more\n",
      "1179\n",
      "This was our 4th trip to India & yet another fantastic experience. Every time we've been, \"our driver\" we can't say enough great things about him. He's incredibly polite, informative, helpful, friendly & he's great fun to be with - he has really made...\n",
      "\n",
      "            Show more\n",
      "1180\n",
      "The hotels, which were actually mostly palaces, and the tour guides and driver -all were beyond our highest...\n",
      "\n",
      "            Show more\n",
      "1181\n",
      "Die Tour ist achtsam und liebevoll gestaltet. Besser wäre es, die aufgezählte Sehenswertigkeiten an jedem Ort als...\n",
      "\n",
      "            Show more\n",
      "1182\n",
      "Tiger safari tour was awesome enjoyed the full trip had a great time to see the tajmahal and delhi and beautiful pink city\n",
      "1183\n",
      "Many thanks for briefing us a lot before visiting India as some companies were not able to answer of our questions Thank God we have choosen such a professional company\n",
      "1184\n",
      "upgraded in five star hotels after paying additional amount as we love to stay only in five star hotels Thank you so much for taking great care of us.\n",
      "1185\n",
      "We have booked the India Golden Triangle Tour with carefully as it was quite surprise here so many tours so cheap prices but they were not able deliver best services. while doing research we spoke this company and checked everything about hotels and...\n",
      "\n",
      "            Show more\n",
      "1186\n",
      "I was solo traveller from Canada and india golden triangle tour was recommended to me by my close friends This tour met our expectations in every way.Hotels were amazing.Guides and driver were professional and lovely.\n",
      "1187\n",
      "We loved the wild animals and enjoyed the tour with our private guides and will recommend this company\n",
      "1188\n",
      "I was female solo traveler from Australia and was quite scared being alone in India but my friend highly recommended me Amazing India Tours and Tourradar for first visit of India where I was completely taken care by my private local guide and driver...\n",
      "\n",
      "            Show more\n",
      "1189\n",
      "I have booked the tour with my friend Susan for first time India tour we have been booked in five star hotels as we want to enjoy luxury experience of India so we advised our tour planner Michael and did the same for us.\n",
      "\n",
      "It was memorable experience...\n",
      "\n",
      "            Show more\n",
      "1190\n",
      "I wanted to see elephants so I have booked the tour for my family of 6 people travelling from Canada but I am very much satisfied with hotels that had been booked in advance for us by Amazing India Tours.\n",
      "\n",
      "Many thanks for our local city guides who made...\n",
      "\n",
      "            Show more\n",
      "1191\n",
      "I was very confused before reserving my tour as I found lot of operators on tour radar website after lots of conversation with many companies about their services I finally decided to go with Amazing India Tours because as the name suggests they are...\n",
      "\n",
      "            Show more\n",
      "1192\n",
      "We were highly recommended to Amazing India Tours by my colleague and we liked my driver Deepak who had been assigned to us for golden triangle tour by Amanda.\n",
      "\n",
      "We truly appreciated company advise which was given to us.\n",
      "1193\n",
      "This travel company delivered exactly what was promised. All recommendations from our \n",
      "agent were spot on, and communications were excellent, instant and helpful. This was an enjoyable trip of my life.\n",
      "1194\n",
      "nice very enjoy and spend to much  time fun too much\n",
      "1195\n",
      "Some hotels were below average ( Delhi and Rishikesh) but others (Jaipur) were really nice.\n",
      "\n",
      "Good company. Very organised and lovely to deal with. Would recommend them.\n",
      "\n",
      "Nice divers and fantastic guides.\n",
      "\n",
      "If you prefer a fancy hotel, I would suggest...\n",
      "\n",
      "            Show more\n",
      "1196\n",
      "All Fantastic. Thank you\n",
      "1197\n",
      "Maneesh was quick to respond to our requests and concerns. We were caught off guard upon finding out that entrance fees to the sites were not included in the tour price. There was no indication in the descriptions that this was the case. Paying for...\n",
      "\n",
      "            Show more\n",
      "1198\n",
      "All of my guides were super knowledgeable, curteous, patient, and professional. My accommodations were good! I had the best driver in all of India. I was lucky to experience both highlights and tourist attractions as well as go off the beaten path to...\n",
      "\n",
      "            Show more\n",
      "1199\n",
      "This was a really great tour. It stood out to me because it was a better deal for traveling alone with a lower single person supplement fee than other tours, while still offering 10 days in total, and adding on the unique ability to go to Rishikesh and...\n",
      "\n",
      "            Show more\n",
      "1200\n",
      "Tour fantastico !!!! Era la prima volta in India ed è stata una bellissima prima visita a cui spero ne seguano altre. Eccezionale guida preparata e molto disponibile sempre !!!\n",
      "1201\n",
      "Fantastico molto emozionante\n",
      "1202\n",
      "Excellent tour!! Enjoyed every minute of the tour. Saw many beautiful places. Guides and our driver were excellent.\n",
      "1203\n",
      "Excellent.  Very Knowledgeable, personable, organized and friendly.  He did everything he could to help if we had problems, and worked hard to include extra options when possible.\n",
      "1204\n",
      "Great experience, well organised with an excellent bunch of people\n",
      "1205\n",
      "Tour leader Yaddu was burned out and checked out. He did the bare minimum and anytime there was an offer to contact him or answer ask questions it was out of obligation. On days where we didn’t have activities planned he suggested two things, didn’t...\n",
      "\n",
      "            Show more\n",
      "1206\n",
      "Orangised company\n",
      "1207\n",
      "Hotels for a comfort level tour should have been better.\n",
      "1208\n",
      "As has been our experience on previous Intrepid trips all facets of the trip were well organised and ran smoothly . In particular our guide Tarang Chandola was without doubt the best guide we have had on any trip , Intrepid or other company , his...\n",
      "\n",
      "            Show more\n",
      "1209\n",
      "From the beginning to the end this trip exceeded my expectations. As a first time solo traveller I was a little apprehensive but within minutes of meeting our guide Tarang and my now new friends I knew everything was going to be great!\n",
      "1210\n",
      "The trip was very well paced, covered everything we wanted to see and then some.\n",
      "1211\n",
      "The guide, Tarang Chandola. He was the lynchpin that pulled a small group of strangers together, through a holiday period normally highlighted by spending that time with family.\n",
      "1212\n",
      "excellent itinery which has covered many highlights and Tarang has been a fantastic leader\n",
      "1213\n",
      "Tour radar for India took away all our headaches and we definitely will look to use them again.\n",
      "1214\n",
      "MADE OUR HOLIDAY\n",
      "Gets Travel was absolutely Brilliant from beginning to end. We had arranged a Private Tour which included taking a Train to North India. Arshad our Tour Guide and Driver, Raj Kumar were so courteous and very helpful. We arrived in Delhi...\n",
      "\n",
      "            Show more\n",
      "1215\n",
      "Our trip to India will always be cherished for it became a memoir of lifetime and the credit goes to the well-structured services offered by GeTS Holidays. The financial value of our trip was outstanding! The hotels were very nice and the guides were...\n",
      "\n",
      "            Show more\n",
      "1216\n",
      "My boyfriends and I had an amazing trip to North India, thanks to the excellent service offered by GeTS Holidays and our very reliable and personable driver Virender. The car was in excellent condition and kept very clean. We had private tour guides...\n",
      "\n",
      "            Show more\n",
      "1217\n",
      "I would like to thank GeTS for making my tour so amazing. Initially, I was bit worried about the arrangement because last time I had a bad experience with hotel booking. But, after my last tour to India,arranged by Kumar, I can proudly recommend him and...\n",
      "\n",
      "            Show more\n",
      "1218\n",
      "​Excellent, excellent, and excellent is all I can say about Get's holiday, we feel we were blessed to come across this company their main office is based in delhi. Golden Triangle with Amritsar, our trip was for over a 10, our internal flights were...\n",
      "\n",
      "            Show more\n",
      "1219\n",
      "Early this year, we  (me & my wife Flora, my younger brother Babul and his wife Neepa  joined us from Gold Coast, Australia) have  visited Golden Triangle in India (Delhi-Agra-Joypur) and Ajmer.  It was a customized (per our requirements/schedule) tour...\n",
      "\n",
      "            Show more\n",
      "1220\n",
      "I spent 6 days travelling to Delhi, Jaipur, Agra and Amritsar with Gets. The tour was great - the hotels were very good quality and the drivers very helpful. The food available at each of the hotels was fantastic, the train trip from Delhi to Amritsar...\n",
      "\n",
      "            Show more\n",
      "1221\n",
      "Everything was made easy and managed the time and travelling well,guide made me feel comfortable and relaxed throughout please choose best tour company as i did for first time traveller\n",
      "1222\n",
      "The trip was well organised right from the start and if you read the information before you went there were no surprises.overall tour was good\n",
      "1223\n",
      "Thank you so much for providing best hotels in best location and loved all sightseeing places with Ankit a professional tour guide and forgot other guides name. overall tour was fantastic\n",
      "1224\n",
      "Couldn't have wished for a better experience on my first India tour. I was very nervous because i never traveled on my own, everybody on the tour driver, guides and tour company make me feel at home with their friendly service. The tour is very well...\n",
      "\n",
      "            Show more\n",
      "1225\n",
      "It was a wonderful tour. Hotels, driver and guides were very professional and knowledgeable\n",
      "1226\n",
      "I wanted to see tigers and lion my friend and me fly to India from California.\n",
      "\n",
      "Thank you for your wonderful itinerary and amazing team work during the tour\n",
      "1227\n",
      "Thank you so much Amazing India Tours we are glad that we got best hotels and guide in each city who took us to monuments.\n",
      "\n",
      "In tour hotels and guide always play best role I am happy which I got\n",
      "1228\n",
      "Thank you so much for such a outstanding service that company offer on my tour I had private driver deepak and local guides in each city they promised me that I will have memorable experiences it was completely true experience and professional people...\n",
      "\n",
      "            Show more\n",
      "1229\n",
      "I am single women traveller from UK I did this tour before Covid I was highly recommended to this company by one of my friends in Singapore.\n",
      "\n",
      "A lot of animals I have seen on this tour and did great care of me\n",
      "1230\n",
      "What a beautiful country India is we really enjoyed first India tours we are happy vwith all hotels and driver who made journey truly unforgettable\n",
      "1231\n",
      "The tour was well-organized, We visited six places. At each place, we were met  by the local representatives and the drivers. The local guides were enthusiastic, helpful, and considerate. The company's touring places were well-chosen, which made us...\n",
      "\n",
      "            Show more\n",
      "1232\n",
      "On the wholethe holiday was good and We enjoyed. Khajraho was very good and our guide was excellent.\n",
      "What was not good was the hotel in Varanasi which Getsholidays messed up \n",
      "The guide in Orcha lacked knowledge and his English was very poor\n",
      "1233\n",
      "Today's the last day to post Tourradar review so I'll try to summarize quickly ::\r\n",
      "1) CORRESPONDENCE: Dhanyavaad to the online GeTS team that help answer emails @getsholidayscom and on tourradarcom; you have been courteous, and I'm grateful for the help...\n",
      "\n",
      "            Show more\n",
      "1234\n",
      "Mysterious incredible India. Loved the trip, special thanks to Rajesh the driver for his stories and keeping is entertained. Great value for money tour.\n",
      "1235\n",
      "this is my first travel w a tour and iso far i am not disappointed at all.there are mishaps like hotel location, communication between the guide and the operator re:prepaid entrance fees but it’s alright nothing is perfect i guess.\r\n",
      "of all the trips i...\n",
      "\n",
      "            Show more\n",
      "1236\n",
      "Had an amazing time in India with my sister but for some issues. The drive between towns were very long but that couldn't be helped. Our driver was very soft spoken so even if he mentioned about the things we passed along the way, only the person in the...\n",
      "\n",
      "            Show more\n",
      "1237\n",
      "Our driver Aashish from New Delhi to Agra was great, very knowledgeable, safe and a joy to be with.\n",
      "1238\n",
      "Namaste!!!\n",
      "My recent trip to India was an exceptional one. \n",
      "The best part about my India tour was the trip to Khajuraho and Varanasi. Both were absolutely mesmerizing. I and my travel buddy (my sister) were immensely impressed by the exquisitely erotic...\n",
      "\n",
      "            Show more\n",
      "1239\n",
      "Such a wonderful experience!  Everything was completely seamless, all of our drivers were outstanding as well as our guides, we couldn't have been looked after any better.  We had upgraded all or our accommodation which wasn't necessary except for...\n",
      "\n",
      "            Show more\n",
      "1240\n",
      "With Gets holidays, it was an awesome experience for me traveling to India for the very first time. Travelled with my family in October and we loved everything about this trip. The 8 days were worth it and we had a great time exploring the highlights of...\n",
      "\n",
      "            Show more\n",
      "1241\n",
      "The tour guides spoke very good English and were very informative. The only negative of the trip was having the guides take me shopping to areas that I was not interested in.\n",
      "1242\n",
      "A slick organizational process, but tour guides need to give clients breathing time from constant barrage of information...and stop bringing us to shops for their own commission\n",
      "1243\n",
      "I was able to learn a lot about India, such as different religions, general culture and cuisine, mainly due to the excellent job done by the guides and also the drivers. It is not an expensive country to visit including the tours, visits to monuments...\n",
      "\n",
      "            Show more\n",
      "1244\n",
      "Excellent service. Reliable and caring team. Only a phone call away always...Unforgettable memories.\n",
      "1245\n",
      "Enjoyed our trip to India enormously!\n",
      "1246\n",
      "We booked the 8 day Golden Triangle Tour with Ranthambore Nature Reserve.\n",
      "The customer services and booking process from GeTs Holidays was great. The staff very extremely helpful and timely responding to queries prior to and after booking. \n",
      "On arrival...\n",
      "\n",
      "            Show more\n",
      "1247\n",
      "My family and I had a most wonderful experience with GETS Holidays. When In India, \r\n",
      "the company made daily calls to know our welfare. All the guides were very good in \r\n",
      "every sense of the word. The best part was that we were able to witness tiger...\n",
      "\n",
      "            Show more\n"
     ]
    },
    {
     "name": "stderr",
     "output_type": "stream",
     "text": [
      " 71%|███████   | 1464/2065 [00:00<00:00, 1725.13it/s]"
     ]
    },
    {
     "name": "stdout",
     "output_type": "stream",
     "text": [
      "1248\n",
      "Provide all that is on the itinerary.  Dont take pax to expensive lunch restaurants. Dont take pax to overpriced shops. \r\n",
      "Pre tour communication very poor.\n",
      "1249\n",
      "The tour was more than we expected! We enjoyed having the van with guide and driver meet us at the Delhi airport, take us to our hotel, and then commence our tour of the city. Our driver was excellent for the week! He looked out for us and became our...\n",
      "\n",
      "            Show more\n",
      "1250\n",
      "You could not get a better trip. The tour company was flawless - our driver, our local tour guides that met us in every city, our hotel choice & all our trip was phenomenal. \r\n",
      "\r\n",
      "This was what I put on TA:\r\n",
      "Great tour!\r\n",
      "I really loved the nature of my...\n",
      "\n",
      "            Show more\n",
      "1251\n",
      "Excellent tour! I would recommend it.\n",
      "1252\n",
      "Definitely use MTA. The best prices and and also the driver Sonu was wonderful. \n",
      "\n",
      "The only thing is food in both hotels were not good. Especially in Jaipur, everything was cold and not tasty. I couldn't even finish one idli or one fried egg because it...\n",
      "\n",
      "            Show more\n",
      "1253\n",
      "You can take the help of a guide to find hotels and restaurants.\n",
      "1254\n",
      "The tour was well organized and the communication was effortless. The driver stayed the same throughout the three days and guides changed per city. For me that was not a problem. The tour covered all highlights in a very short time. The accommodations...\n",
      "\n",
      "            Show more\n",
      "1255\n",
      "Humayun tomb is must visit. And tour was very exciting\n",
      "1256\n",
      "Thanks for a wonderful trip guys.\n",
      "1257\n",
      "Spent a wonderful 5 days in India. a comprehensive package with no hidden costs.\n",
      "You did a great Job MTA. Cheers\n",
      "1258\n",
      "A Fun filled trip. Best way to start in india, happy with the guide and hotel services provided. Thanks a lot MTA.\n",
      "1259\n",
      "This is the best to visit India for first timers.\n",
      "Depending on your origin country, India might be a very intense experience, and Mr Manish and his team did a great job making us feel safe and giving us great tips that really helped us enjoying the tour...\n",
      "\n",
      "            Show more\n",
      "1260\n",
      "This was a great way to visit India for the first time! You get everything you need to have a safe and relaxing time as everything is taken care of for you. You get her valuable tips and the guiding services were extremely informative.\n",
      "1261\n",
      "Incredible experience.\r\n",
      "It is possible to touch the real life the history and the culture of the great Indian country.\r\n",
      "Suggestive view of the lakes, temples, and great monument.\r\n",
      "All of that with an excellent organizzation \r\n",
      "Absolutely recommended!\n",
      "1262\n",
      "wanted explore Luxury India Golden Triangle Tour with great guides and driver who can explain history to us tour guides was amazing we got best services that we expected\n",
      "1263\n",
      "booked this luxury india golden triangle just to get best five star hotels and professional and knowledgeable tour guides for each which we got and highly satisfied with all services\n",
      "1264\n",
      "We booked this luxury India golden triangle tour for four friends from Canada. We wanted cover more places in India where company showed flexibility for us tour guides was awesome and driver Deepak was friendly who took great care of us\n",
      "1265\n",
      "We were recommended to this tour company in UK by my friends and booked a Luxury India Golden Triangle Tour for me and my wife and landed in New Delhi airport where we had private driver and car for entire tour and local guide in each cities.\n",
      "\n",
      "Thank you...\n",
      "\n",
      "            Show more\n",
      "1266\n",
      "we were four women came from Australia for India golden triangle tour and did it private because it gives complete flexibility than group tour we had beautiful lovely hotels in each city and local tour guides for taking us to monuments and explained...\n",
      "\n",
      "            Show more\n",
      "1267\n",
      "Found best India golden triangle tour of 6 days we are happy and loved all hotels than other companies we are glad that we have choosen Amazing India Tours\n",
      "1268\n",
      "Best Luxury  India Golden Triangle tour with best service  I highly recommend this tour\n",
      "1269\n",
      "We were met by our professional driver and local guide on the tour all did best job and can't compare the services of everyone\n",
      "1270\n",
      "I did a lot of enquiry before booking the tour but not happy what other was offering later I found amazing India Tours it's hotels and team seemed very much professional in making tour memorable we loved the people\n",
      "1271\n",
      "We are five of us from Washington and came on private tour we wanted to stay in five star hotels that tour did the same for us and we were so happy with all people services.\n",
      "\n",
      "Highly Recommended.\n",
      "1272\n",
      "We had the most amazing 1 days in India. Every day was filled with great adventures as well as interesting and especially versatile new experiences. We really enjoyed the itinerary that suited both kids and adults. Saby, our guide, played a huge part in...\n",
      "\n",
      "            Show more\n",
      "1273\n",
      "Amazing scenery, amazing buildings amazing people\n",
      "1274\n",
      "We had an amazing time. The guide was fabulous and went beyond his duties to make sure our family enjoyed every minute and got to the most out of all the places and activities in every location. He made the children feel very welcomed and engaged them...\n",
      "\n",
      "            Show more\n",
      "1275\n",
      "Excellent itinerary, fantastic sights, great job by Advesh our tour guide, great selections for food\n",
      "1276\n",
      "Great tour guide, Avdhesh Avasthi, fantastic sights, very informative, want to come back to India, an amazing experience, my teenagers were very apprehensive about visiting India, but felt safe and embraced the trip\n",
      "1277\n",
      "I would have given 1/1 if the accommodations were more catered towards kids. Couple of hotels were we stayed at were just below the average standard and that put bad taste in our mouths.Overall it was very memorable experience !!!\n",
      "1278\n",
      "Ideal tour with packed itinerary\n",
      "1279\n",
      "We loved our trip!Anant Singh is an incredible guide, especially for families.We loved all of the activities and sights, and Anant took such special care to make sure that all the kids were doing well and having a great time.Anant is smart, organized,...\n",
      "\n",
      "            Show more\n",
      "1280\n",
      "Great trip destinations and attractions and a great leader for the whole experience!!\n",
      "1281\n",
      "4 families with a total of 17 people in the group, youngest child 11. Personally I would not take a younger child. I'd also get a flight that arrives the day before not 2 hours before (booked by intrepid) to make the start less crazy - thrown into Old...\n",
      "\n",
      "            Show more\n",
      "1282\n",
      "Tour completo, organizzato in maniera impeccabile. Visita di tutti i punti salienti delle varie località con la comodità di un'auto privata con ottimo autista. Guide locali che parlano perfettamente l'italiano e un'assistenza prima e durante il viaggio...\n",
      "\n",
      "            Show more\n",
      "1283\n",
      "This tour offers the chance to see many of the countries temples, landmarks, and learn the history of these. There is quite a bit of travel involved. Plenty of things to take pictures of. You will see the heart of what takes place daily in India. The...\n",
      "\n",
      "            Show more\n",
      "1284\n",
      "I think it's a good place to hang out. And Tour was amazing and Safe.\n",
      "1285\n",
      "Its an excellent tour, very complete. The guides are super knowledge. The service is great. They are in every detail\n",
      "1286\n",
      "About the \"Temple Tour to North India\"\n",
      "I belive that a trip to India can be complete and satisfying with the help of someone who will accompany you in the knowlege of its history and complex indian reality. When i arrived in India, i immediately had the...\n",
      "\n",
      "            Show more\n",
      "1287\n",
      "VIAGGIO IN ORISSA-INDIA\n",
      "\n",
      "Siamo appena tornati da un viaggio in India. Di questo paese conoscevamo già il Rajastan, visitato qualche anno fà, ora la nostra attenzione è stata richiamata dall'Orissa, regione dell'India non troppo conosciuta e poco battuta...\n",
      "\n",
      "            Show more\n",
      "1288\n",
      "We just completed this dream tour. It was a well organized tour. The itinerary was filled with major historic sites that introduced you to India history, culture and archeology. For the hotel stay, we upgraded to 5-star and 4-star hotels and we were...\n",
      "\n",
      "            Show more\n",
      "1289\n",
      "A wonderful experience: everything was perfect, the driver Jwala kind and efficient, the hotels nice and clean. It has been a two-person taylor-made tour adapted to our constraints and timing. In spite of that the cost was cheap. We strongly suggest MTA...\n",
      "\n",
      "            Show more\n",
      "1290\n",
      "Abbiamo vissuto una splendida esperienza, che ci ha consentito di respirare atmosfere vere e autentiche. L’auto e l’autista a noi dedicati sono stati di ottima qualità. Le guide prenotate, parlanti italiano, in un paio di casi non sono riuscite a...\n",
      "\n",
      "            Show more\n",
      "1291\n",
      "I spent a wonderful time in India.  I visited dream places and met wonderful people.  I hope to return soon ...\n",
      "1292\n",
      "Great tour and country combination\n",
      "1293\n",
      "Tour itinerary, hotels, and meals all as promised. All went to schedule.\n",
      "1294\n",
      "The only thing that I would have liked was a guide, that for the reading and interpretation of the scriptures , was a...\n",
      "\n",
      "            Show more\n",
      "1295\n",
      "We very much enjoyed our Best of Kerala tour! Staying on a houseboat in the Kerala backwaters was a wonderful experience and a lifetime memory for our 15th anniversary. The the traditional Kerala meals were delicious on the boat and we felt very...\n",
      "\n",
      "            Show more\n",
      "1296\n",
      "Just finished a fantastic journey of Kerela ( hope I spelled that correctly ). Everything from thre destination,  planning,  drivers,  boutique hotels and guides were excellent. Thre only thing to be a little careful about is the food, even mild spices...\n",
      "\n",
      "            Show more\n",
      "1297\n",
      "No comment!!!!!!!!!!!!!!!!!!!\n",
      "1298\n",
      "It was absolutely fantastic. We enjoyed our holiday to the fullest. Since the beginning, Gets holidays assisted us in planning our tour effectively and it turned out to be very exciting. The Driver was very sincere and efficient. We really liked the...\n",
      "\n",
      "            Show more\n",
      "1299\n",
      "Kerala-Gods own communist state.\n",
      "\n",
      "\n",
      "\n",
      "This was a lovely holiday and Gets Holidays made it!!!\n",
      "\n",
      "However it didn't start well. We were met by our driver at Kochin airport who was a very nice man but sadly didn't speak English. We were further dismayed that...\n",
      "\n",
      "            Show more\n",
      "1300\n",
      "We had a fabulous tour of Kerala. Just the two of us and our driver Noufel. He was amazing. Showed us everywhere. Drove us safely and pointed out all places of interest. Noufel is a credit to the company. \n",
      "I would recommend using GetsHolidays, my whole...\n",
      "\n",
      "            Show more\n",
      "1301\n",
      "Would not recommend this at all. It turned out to be just a driver and some booked hotels. The entrances included cost next to nothing anyway. After speaking to other people on different tours felt really cheated and totally ripped off. Either spend...\n",
      "\n",
      "            Show more\n",
      "1302\n",
      "Suneer our driver picked us up at the airport and although I booked the wrong night for the start of our trip he sorted it out for us. Excellent English skills to answer all my questions and share interesting conversations during our trip. He took time...\n",
      "\n",
      "            Show more\n",
      "1303\n",
      "We only booked this trip one week before we went and did not have any high expectations. We usually research these trips well in advance. The trip I would recommend we had our own private driver the whole time and his knowledge of India and Kerala was...\n",
      "\n",
      "            Show more\n",
      "1304\n",
      "We had 17 days in Southern India in May 2017 with Gets Holidays. We were extremely happy with the drivers, our itinerary and our 4 star hotels (always with breakfast). Our internal flight was organised by Gets, and our special requests to find...\n",
      "\n",
      "            Show more\n",
      "1305\n",
      "I had an amazing time with my guide Kapil and my porter. They were overly caring for my well-being and the experience...\n",
      "\n",
      "            Show more\n",
      "1306\n",
      "What a fantastic experience. Himalayan Glacier were outstanding. Both our guide and porter served us both well and...\n",
      "\n",
      "            Show more\n",
      "1307\n",
      "From the moment I booked this trip I was impressed.  The Himalayan Glacier Trekking company were i constant contact...\n",
      "\n",
      "            Show more\n",
      "1308\n",
      "Taking a Safari Ride by Jeep to see the tigers was one of the most fantastic trip i have ever had. I saw tigers on two Safari out of three. Driver was very nice to handle the car and drove safely\n",
      "1309\n",
      "Ranthambore was one of the best adventures Safari park. Every arrangments was highly appreciated as it's a great place to see the best of all\n",
      "1310\n",
      "I had a great adventure in India by taking the Ranthambore national park safari tour. Everything was very good\n",
      "1311\n",
      "I was a female solo Traveler and booked a tour with this operator. Tour was very good and i enjoyed the Safari rides\n",
      "1312\n",
      "Ranthambore tiger Safari rid was a best trip in India so far for me.\n",
      "1313\n",
      "India has a lot of wildlife Safari parks but I have heard a lot about the Ranthambore so i chosed Ranthambore for my safari ride. It was a great and enjoying trip. Loved it and thanks for the amazing trip\n",
      "1314\n",
      "It was an adventurous trip to the Ranthambore. It got customized one. Driver was always on time and tiger Safari Ride was fantastic\n",
      "1315\n",
      "Tiger tour to Ranthambore was an outstanding tour. We would probably say a big thanks to the operator for organizing it\n",
      "1316\n",
      "Fantastic and adventurous tour. Everything went very well and travel agent arrangements was highly recommended\n",
      "1317\n",
      "It was a very interesting tour and i had a great time in India. Operator was very nice and assisted us all the time\n",
      "1318\n",
      "I have been recommended this India Golden Triangle Tour by my friend in Canada we booked in five star hotels and paid additional amount we are happy with tourguides\n",
      "1319\n",
      "I wanted to see Taj Mahal sunrise and it was my desired I found this tour online and booked for me and my friend we got good hotels where had delicious breakfast\n",
      "1320\n",
      "I have chosen this tour after researching a lot about India my aim was to get best services and reliable hotels for my India Golden Triangle Tour\n",
      "1321\n",
      "Thank you so much for your great efforts for making the tour of India memorable Guys please be advised that In India Tipping is expected while doing the tour.\n",
      "\n",
      "All went perfect!\n",
      "1322\n",
      "We were not able to seen Taj Mahal in sunrise because of fog in Agra however tour was excellent with professional staff\n",
      "1323\n",
      "We visited Taj Mahal in sunrise with our professional guide who made this memorable in india we are highly satisfied with company staff.\n",
      "1324\n",
      "Thank you so much for your hardwork that you put in making tour hassle free and highly impressed\n",
      "1325\n",
      "We wanted to visit Taj Mahal Sunrise with my guide who has been very knowledgeable and well English spoken person on the tour we were happy with all services be advised that in India tipping is expected by driver and guide\n",
      "1326\n",
      "We found this tour online and booked immediately to see Taj Mahal with professional company and staff which matters alot for every traveller and we are happy with all services.\n",
      "\n",
      "Please be advised that do not expect best view of Taj Mahal in the foggy...\n",
      "\n",
      "            Show more\n",
      "1327\n",
      "We were two women and joined this tour from Washington. One of the best way to cover golden triangle tour with Amazing India Tours we loved driver Deepak who is very kind and soft spoken person.\n",
      "\n",
      "We liked Taj Mahal visit at the time of sunrise with our...\n",
      "\n",
      "            Show more\n",
      "1328\n",
      "Ganga Aarti was very highlight in this tour and did boat ride on Ganges and upgrade my self in five star hotels at reasonable prices we are happy with all services\n",
      "1329\n",
      "We were searching tour of India on Google then found tourradar and where we got to see so many tours of India and we found amazing India tours operatora and got connected with Garima who shared so many logistics ideas and information about india how to...\n",
      "\n",
      "            Show more\n",
      "1330\n",
      "¡Qué increíble recorrido por la India y me encantaron todos los lugares de mi sueño que quería ver y gracias ❤️ Tourradar y los increíbles recorridos por la India por seleccionar mis hoteles de cinco estrellas según su elección e impresionado por los...\n",
      "\n",
      "            Show more\n",
      "1331\n",
      "What lovely tour of India\n",
      "1332\n",
      "We were highly recommended by one of our friends in Newark who has used Amazing India Tours and dealt with Garima. We have researched alot about India destination on our own then I finally contact Garima to advised me best tour for first timer so she...\n",
      "\n",
      "            Show more\n",
      "1333\n",
      "recently hired Amazing India Tours for India for an 8 day tour of Delhi, Agra, Jaipur and Pushkar.\r\n",
      "Our group of 4 adults could not have asked for a better trip!\r\n",
      "We initially booked everything through Garima, who provided us with excellent service. She...\n",
      "\n",
      "            Show more\n",
      "1334\n",
      "I choose Golden Triangle tours after considering similar priced tours by Intrepid and G Adventures brands I had dealt with in the past. Garima the owner of the company was exceptional in communication, organising changes to our itinerary at my request...\n",
      "\n",
      "            Show more\n",
      "1335\n",
      "Wonderful arrangements and good service provided by team. But weather was very hot in june and people should come from August till May.\r\n",
      "\r\n",
      "Cheers!\r\n",
      "Allan Hood, Sydney\n",
      "1336\n",
      "Before booking the tour with Amazing India Tours as I had alot of conversation but everything was planned accordingly and enjoyed the culture of India and especially river Ganges and touched my heart, and cremetoriam place was really heart touching....\n",
      "\n",
      "            Show more\n",
      "1337\n",
      "Excellent tour organised by Amazing India Tours we have used this company for our honeymoon trip to India.\n",
      "\n",
      "Regards,\n",
      "Garcia\n",
      "1338\n",
      "Our tour guide was fantastic. He was local and very familiar with the area and had a great knowledge of the city. He was professional and courteous and the tour exceeded our expectations. Thank you!!\n",
      "1339\n",
      "Everything was very good and our tour guide was a great guide Amit and his english was amazing, our driver Ravi was professional he picked us on time. We highly recommend Amit and Ravi and this tour to other!! Cheers.\n",
      "1340\n",
      "This tour was the perfect option for me because everything was perfect. I spend 2 days in Agra, seeing all the sights that i wanted and my guide Amir was excellent with a great command of English. Thank you so much!\n",
      "1341\n",
      "I was really impressed by this Taj Mahal tour. Our tour guide was fantastic, engaging, funny and very informative. The hotel location were fantastic. I highly recommended!!\n",
      "1342\n",
      "What a delightful passionate, and extremely knowledgeable tour guide! It was well worth to take this tour. 😀\n",
      "1343\n",
      "The best was our tour guide Zahid and he was absolutely amazing! I would give him 10 Stars if this website would let me!! He was extremely knowledgeable, funny, and a great time. I would recommend this tour to anyone having this brilliant tour!!!\n",
      "1344\n",
      "Everything was amazing! Our driver made us feel safe during the trip. The tour guide were knowledgeable and helpful. The hotel booked by the company were nice and breakfast was good! My favorite day was the Taj Mahal, Agra fort and lunch afterwards. So...\n",
      "\n",
      "            Show more\n",
      "1345\n",
      "In my opinion tour guide brought the experience to life. The beauty of Taj Mahal became real and we really appreciate his ability to make us understand. He was brilliant, communicative and most knowledgeable and patient. We shared life experience and...\n",
      "\n",
      "            Show more\n",
      "1346\n",
      "Thank you so much to Zahid and his wonderful team for a memorable trip to Agra! It was very comprehensive, so many amazing historical places in so shot a time, insightful, interesting, and fun! Hotel were elegant and comfortable, guide were...\n",
      "\n",
      "            Show more\n",
      "1347\n",
      "Definitely this tour was our money worth, I would like to recommended it 100 percent. Our company was Taj tour trips and I think they did an Excellent job and provided everything they offered. Hotel was amazing. Tour guides are very good and the driver...\n",
      "\n",
      "            Show more\n",
      "1348\n",
      "Gets Holiday was amazing and catered to my every need. The tour guides and drivers provided the best service.\n",
      "1349\n",
      "Tour with gets holidays was fantastic and one of the best tour i ever made. Thanks to the team of gets holliday - mr deepak,  mrs ritu and specially to the guide mr mahendra and the driver mr pankaj ( piki), who made the tour very special for us. Also...\n",
      "\n",
      "            Show more\n",
      "1350\n",
      "A fantastic holiday with getsholiday in India \r\n",
      "One of the best tour operators I have used.\r\n",
      "Everything was planned meticulously and our holiday was better than we had hoped.\r\n",
      "I would highly recommend getsholiday to those who are planning to visit India .\n",
      "1351\n",
      "The tour was great, GeTS could not do enough for  us. they took care of everything from transportation, to currency exchange.\n",
      "1352\n",
      "From start to finish this tour was fantastic. This was my 1st solo trip so I was a little bit nervous on what to expect, but wow, what a wonderful experience India gave me. Bj our driver was the most informative funniest guy you could ever wish to meet....\n",
      "\n",
      "            Show more\n",
      "1353\n",
      "The tour on the paper was great . The reality was not as high as the expectations - partly due to some guides ( not all of them though - kudos for the guides at the Taj Mahal , the fort between Agra and  jadpur , and the one at Goa ).\n",
      "The others were...\n",
      "\n",
      "            Show more\n",
      "1354\n",
      "We visited India for the first time. Our guides were superb, informative, with lots of local as well as historical information. We would recommend this trip to anyone interested in exploring the cultural side of India as well as indulge in some...\n",
      "\n",
      "            Show more\n",
      "1355\n",
      "Last November my husband and I travelled to India . I was nervous to book on line especially as it was  from South Africa and I knew nothing about the company.We went forward in trust and chose GeTS.\r\n",
      "We booked through GeTs Holidays and had the most...\n",
      "\n",
      "            Show more\n",
      "1356\n",
      "We would definitely recommend this tour company.  The tour was customized to our needs and we were very pleased with the quality of 90% of the hotels.  The personal drivers in both the south and north of India were excellent and Suneer in Kerala doubled...\n",
      "\n",
      "            Show more\n",
      "1357\n",
      "“Excellent tour Delhi-Agra-Jaipur-Goa”\n",
      "\n",
      "I really enjoyed so much. GetsHolidays provided excellent service. Very Professional,good communication in English. The tour guide and drivers are very informative and helpful. All planning executed very well....\n",
      "\n",
      "            Show more\n",
      "1358\n",
      "We are happy with all services that we wanted as first time travel to India but india three star hotels does not have good internet services rest everything was awesome\n",
      "1359\n",
      "Thank you for providing the best tour guides in each cities as that we wanted from Amazing India Tours as so many company was not able to provide the good hotels.\n",
      "\n",
      "Thank you for excellent services\n",
      "1360\n",
      "After being recommended to this tour by my friend in Australia me and my husband came on this Golden Triangle Tour.\n",
      "\n",
      "Wonderful services and happy what i paid them\n",
      "1361\n",
      "Do always book the tour based on services as being a solo women traveller from Newyork It was quite challenging with whom tour operator i should book.\n",
      "\n",
      "After enjoying the tour I am happy with this company because services quality\n",
      "1362\n",
      "Excellent services provided by Amazing India Tours, Please carry some cash while doing the tour in India\n",
      "1363\n",
      "Excellent services provided by Amazing India Tours we really appreciate\n",
      "1364\n",
      "After so much of reasearch I found this tour on tourradar which suited my budget and I liked all the experience on this India tour but hotel we have choosen three star hotels in india these hotels has limited services option band food also if you want...\n",
      "\n",
      "            Show more\n",
      "1365\n",
      "No Regret and Have a lot of fun!\n",
      "\n",
      "Wonderful experience of food, culture, and saw some famous Indian monuments with Amazing India Tours we are glat that we had best tour operator of India as being first' time traveller we do not want to destroy the tour...\n",
      "\n",
      "            Show more\n",
      "1366\n",
      "Absolutely wonderful visit of Taj Mahal that we loved most than other buildings we liked chicken curry which is most admirable in indian food.\n",
      "\n",
      "Thank you so much for arranging our tour of Mumbai.\n",
      "1367\n",
      "Best tour of India we had with Amazing India Tours we are very much satisfied wit all services.\n",
      "Thank you Tourradar, Amazing India Tours Team\n",
      "1368\n",
      "Absolutely amazing, great guides and team. Never been treated so well anywhere in the world, just felt like royalty. Would surely use their services again id we're cone back it this side of the world. Only drawback that the food was too spicy for us....\n",
      "\n",
      "            Show more\n",
      "1369\n",
      "Excellent tour and amazing hospitality, loved the guides at each point and the stories that were shared. Drivers were very knowledgeable and knew the destinations really well, kept us entertained all the time. Would surely travel with this company if we...\n",
      "\n",
      "            Show more\n",
      "1370\n",
      "It was a really good trip, and drivers very helpful and knowledgeable of areas.Thank you for great trip to india\n",
      "1371\n",
      "I absolutely loved this india golden triangle tour with khajuraho. There was an excellent mix of cultural experience, monument sight seeing, walking and activities like home cooked meal at local's home, visiting off beat rural village which you would...\n",
      "\n",
      "            Show more\n",
      "1372\n",
      "Khajuraho was my dreaming city before heading to India I read alot about its temple and photography me and my husband booked private India tour with Khajuraho.\r\n",
      "\r\n",
      "Best time to travel to India is from August to April where climate gets cool and pleasant....\n",
      "\n",
      "            Show more\n",
      "1373\n",
      "Best company and very competitive price and I liked all things of this company car was neat and clean with professional driver Deepak who did great care of me\n",
      "1374\n",
      "Beautiful sites of India we booked the tour 11 months before heading to India hotels was good and we are happy with our driver Deepak who had tour very much memorable\n",
      "1375\n",
      "My wife always wanted to see Varanasi and Khajuraho temples then we have decided to travel with Amazing India Tours based on their review and after comparing the tour with facts of hotels and driver which always matters a lot for Australia people\n",
      "1376\n",
      "Such a long tour and enjoyed train journey with indian people. Got to see country side where so many villages people was busy in farming. Taj Mahal was so awesome in the morning. Jaipur Amber Fort is magnificent.\n",
      "1377\n",
      "What a fabulous tour of India with combination of Varanasi, Exotic temples of Khajuraho we are highly impressed with Beautiful india.\n",
      "\n",
      "It was our first tour of India so we wanted to cover as much as possible this tour is completely best fit for us as...\n",
      "\n",
      "            Show more\n",
      "1378\n",
      "Excellent itinerary, fantastic sights, great job by Avdhesh our tour guide, great selections for food\n",
      "1379\n",
      "We were highly recommended for this company by friend in Australia we decided to stay in five star hotels then paid additional amount we are very happy with locations of hotels\n",
      "1380\n",
      "Amazing scenery, amazing buildings amazing people we loved our first tour of india we are glad with all hotels and especially with local guides.\n",
      "\n",
      "Highly Recommended\n",
      "1381\n",
      "We had a wonderful trip with Amazing India Tours, the tour included all the major sites that we wished to visit. Dedicated personal driver was outstanding.\n",
      "\n",
      "We are happy what we paid them to get best services\n",
      "1382\n",
      "I am very much happy with Amazing India Tours who has been best travel expert for me to India tour. Their driver and tour guide were so professional, knowledgeable, supportive. Highly recommend for first time traveller to India.\n",
      "1383\n",
      "Best tour of india we had and all services was so comfortable and enjoyed the tour highly impressed\n",
      "1384\n",
      "Thank you so much for taking care of my arrangements and all the services you have provided which was far better than my other companies Amazing India Tours is best travel advisor of India\n",
      "1385\n",
      "Best tour of India for budget people we are impressed with all services of company\n",
      "1386\n",
      "14 day tour Golden Triangle and Rajasthan\r\n",
      "Amazing India Tours allowed customization to our needs and everything was perfect as planned by Garima,our very competent consultant. All the guides were great. Our driver, Mr. Deepak throughout the tour was...\n",
      "\n",
      "            Show more\n",
      "1387\n",
      "We travelled to North India in Jan 2020 with Mta Destinations and had an amazing experience . The tour was very well organised , guides were well informed and the accommodations were perfect.\n",
      "We enjoyed the whole tour and especially the Wagah border...\n",
      "\n",
      "            Show more\n",
      "1388\n",
      "Me and my wife travelled to North India with Mta destinations in Jan 2020 and had a great time.The tour was very well organised, all the guides were well informed and the accommodations were comfortable.\r\n",
      "We enjoyed the whole tour but especially we...\n",
      "\n",
      "            Show more\n",
      "1389\n",
      "Excellent incredible\n",
      "1390\n",
      "Nice trip. I recommend it. Thanks to Manish for everything!!!\n",
      "1391\n",
      "We had an amazing experience during our tour organised by Amazing India Tours. Everything went well and smooth since the day I first contacted the Company till the end of the tour. All members of the staffs were very helpful during the booking and...\n",
      "\n",
      "            Show more\n",
      "1392\n",
      "Just Fantastic tour of India. Our 10 days tour was well planned. No stress at all. The hotels provided was suitable for my family and our driver was great. Would highly recommend Amazing India Tours\n",
      "1393\n",
      "We had the most memorable experience, due to our professional guides, who were informative and made sure our holiday was first class.\n",
      "\n",
      "Thank you for wonderful services for India Tour\n",
      "1394\n",
      "Tour well timed and we saw everything on the itinerary that was on! if you are really looking for professional tour guides and hotels then choose to travel with this company\n",
      "1395\n",
      "Tour very interesting transportation very good Everything we need or we desired we have Perfect Organization and we are highly impressed with their local guides who made journey\n",
      "1396\n",
      "We did the Golden Triangle tour with Udaipur but had it modified for us as it was part of our three weeks in India, The arrangement that Amazing India Tours did for us could not be faulted. having used Amazing India Tours previously we had no concerns...\n",
      "\n",
      "            Show more\n",
      "1397\n",
      "I came on this tour alone on based on my friend recommendation for Amazing India Tours as company took great care of my friend Lisa.\n",
      "\n",
      "What a perfect way to cover Rajasthan tour and hotels has been absolutely wonderful as I choosen 5 Star hotels which...\n",
      "\n",
      "            Show more\n",
      "1398\n",
      "We have seen many itineraries before booking the tour and compare the quality of hotels, driver and even the guides which are are going to be main elements of the tour as every traveller has right for the same.\n",
      "\n",
      "Regards\n",
      "Dona\n",
      "1399\n",
      "What a beautiful places, temples, monuments of India but very crowded with alot of people I think India is one of the best destination for people so they liked to travel during the season.\n",
      "\n",
      "We had a great fun with our driver and local guide they are...\n",
      "\n",
      "            Show more\n",
      "1400\n",
      "We were recommended to this company by friend Jony in Colombia who is close friend of Garima.\r\n",
      "\r\n",
      "She planned this tour keeping all the preference of ours and loved the itinerary.\r\n",
      "\r\n",
      "All was truly amazing with Amazing India Tours.\r\n",
      "\r\n",
      "Thank you Jony and...\n",
      "\n",
      "            Show more\n",
      "1401\n",
      "Generally, well organized trip. The main office's admin & support was superb, but as  the trip itself was managed by local staffs, sometimes quality of service varied. \n",
      "\n",
      "Once I wasn't able to find my guide at Taj - I tried to make a call, but couldn't...\n",
      "\n",
      "            Show more\n",
      "1402\n",
      "Awesome trip, awesome team at Gets holidays.I loved visiting India specially Tajmahal. It’s really very beautiful. My holiday was beyond amazing. A special thanks to Gets team who managed my trip so professionally. I would highly recommend this company...\n",
      "\n",
      "            Show more\n",
      "1403\n",
      "A Dream Trip:\n",
      "Entire Rajasthan including Golden Triangle and Agra;\n",
      "We recently (Dec.12 2017) returned from a total Rajastan Tour of 22 days. During that time we visited 11 towns and cities and stayed at 10 hotels, and everything was perfect, beyond my...\n",
      "\n",
      "            Show more\n",
      "1404\n",
      "A Perfect Dream Trip\n",
      "Review of:  Entire Rajasthan including Golden Triangle, Taj Mahal and Havelis (Mansions)\n",
      "We recently (Dec.12 2017) returned from a total Rajastan Tour of 22 days. During that time we visited 11 towns and cities and stayed at 10...\n",
      "\n",
      "            Show more\n",
      "1405\n",
      "Our tour with GeTS Holidays went very well. We visited Delhi, Agra, Jaipur, Jodhpur, Udaipur and Mumbai. The GeTS team organized a great trip which allowed us to see many sights, shops, and local culture. Our driver Ashish Ghandi was always prompt,...\n",
      "\n",
      "            Show more\n",
      "1406\n",
      "We are an English group of  4 middle-aged adults who were looking to have an adventure in India. We found Gets holidays on the internet as we like to use local companies when traveling because they usually offer the best experiences and know the local...\n",
      "\n",
      "            Show more\n",
      "1407\n",
      "My experience with Gets was awesome. Very well organized. Highly recommend Gets.\n",
      "1408\n",
      "If you are visiting India especially for the first time, all kinds of thoughts and questions must be going through your mind. That is what was happening to me when I was planning to visit India back in May, 2017. \r\n",
      "I came across GeTS Holidays who helped...\n",
      "\n",
      "            Show more\n",
      "1409\n",
      "This was my first ever organised tour of India and good luck is that i chose the right agency to manage my tour. GeTS Holidays planned my holiday in such a manner that it gave me and my family the memorable experience without any wastage of time and...\n",
      "\n",
      "            Show more\n",
      "1410\n",
      "Great trip. Liked the time plan and the service. All the estimates in travel time were spot on and the time suggested for Delhi, Agra, Neemrana, Jaipur and Udaipur was well balanced....took the worry out of the trip and allowed us to enjoy the trip...\n",
      "\n",
      "            Show more\n",
      "1411\n",
      "Fantastic and very well organized tour! Sightseeing was very varied, the driver a real professional and could speak English very well, the accommodation decent and nice. We shall come back again.\n",
      "\n",
      "Highly Recommended for first time traveller to India\n",
      "1412\n",
      "I traveled with Deepak through Rajasthan for a period of 10 days. Deepak showed me many places inaccessible to a regular tourist. So ... if you want to visit India do it with Amazing India Tours because of guides and driver they are very much professional\n",
      "1413\n",
      "Great trip destinations and attractions and a great tour leader for the whole experience\n",
      "1414\n",
      "We loved our trip!Anant Singh is an incredible guide, especially for families.We loved all of the activities and sights, and Anant took such special care to make sure that all the kids were doing well and having a great time.Anant is smart, organized,...\n",
      "\n",
      "            Show more\n",
      "1415\n",
      "Ideal tour with packed itinerary we are highly impressed with all services which we got during the tour\n",
      "1416\n",
      "Very much satisfied with this tour we had lovely and memorable time with Amazing India Tours guide and driver.\n",
      "\n",
      "One word I will say very decent tour of India and Highly recommended to all traveller.\n",
      "\n",
      "Regards,\n",
      "Christian, Germany\n",
      "1417\n",
      "We loved the British culture and beautiful mountain of Himalaya. Hotels has been fantastic and lovely that always plays wonderful role great memories of the city company has arrange us the same as per expectations\n",
      "1418\n",
      "What a lovely tour we have been so far and prices was so reasonable and hotels we had and highly impressed by their hospitality and well trained staff  we were welcomed like King in every city.Michael who is best India tour planner and knows very well...\n",
      "\n",
      "            Show more\n",
      "1419\n",
      "Me and My husband arrived from London to New Delhi by British Airways flight at 1210 hours for this wonderful Journey.\r\n",
      "\r\n",
      "Let me thank you for my guides and driver Nitin who has assigned for us for entire tour except Shimla portion all of them were...\n",
      "\n",
      "            Show more\n",
      "1420\n",
      "We loved this tour and enjoyed it with our private driver and local guides who did fantastic job and assist us for showing market and monuments and Shimla is really beautiful place and loved the Toy train ride through deep forest and beautiful of indian...\n",
      "\n",
      "            Show more\n",
      "1421\n",
      "Who wants to find the very good trip organization must stop one’s decision and choice  on GETS HOLIDAYS !\r\n",
      "We were ten to travel in last February during 15 days and we all were happy with different persons involved to our full satisfaction from the...\n",
      "\n",
      "            Show more\n",
      "1422\n",
      "The tour was fantastic, nothing to fault. The itinerary was perfect, full of the colour of India. The guides and drivers that we had spoke acceptable English and were informative, helpful and engaging.\n",
      "1423\n",
      "Brilliantly organised amd good value for money.  We had a great time throughout the trip. A special thanks to our driver manoj who took really good care of us and became a good friend of our kids. We had guides in each and every city who were...\n",
      "\n",
      "            Show more\n",
      "1424\n",
      "We had just a week’s time and wanted to cover most of Rajasthan by road. Mr. Raja drafted a tour and worked out all logistics of booking of Hotels etc. Needless to say he did an excellent job in selecting the cities to visit and choice of Hotels as we...\n",
      "\n",
      "            Show more\n",
      "1425\n",
      "I travel quite extensively and have been to 34 countries over 25 years. I assisted my brother-in-law to arrange a trip to surprise my sister for her 50th birthday. India was a dream destination that she has always wanted to experience. I found GeTS...\n",
      "\n",
      "            Show more\n",
      "1426\n",
      "I really had a great time discovering the cultural aspects of India,  which I had earlier only heard and read about.  Really loved my visit to the chandni  chowk and the mughal marvel Red Fort.  My guide shared some great stories about the history of...\n",
      "\n",
      "            Show more\n",
      "1427\n",
      "The trip was absolutely wonderful. Our driver Ashish was FANTASTIC. It was a pleasure to share the week’s experience with him. He was most helpful. \n",
      "The itinerary was excellent. We saw a lot in 6days. It was only my sister and I on the tour so we could...\n",
      "\n",
      "            Show more\n",
      "1428\n",
      "I cannot say enough good things about the staff at Gets Holidays. I booked an 11 night / 12 day Buddhist Tour of India and Nepal that included Varanasi and the Taj Mahal. \n",
      "\n",
      "The the tour was AMAZING. The entire Gets Holidays staff worked as a team to...\n",
      "\n",
      "            Show more\n",
      "1429\n",
      "Embarked on a highly customized solo Golden Triangle tour package put together by GeTS Holidays on 25 March - 1 Apr 2018, with several free and easy days to try my hand at a 'desi' lifestyle with the locals! \n",
      "\n",
      "Visited and spent a lot of time at majestic...\n",
      "\n",
      "            Show more\n",
      "1430\n",
      "Did a tour with GeTS Holidays as a family group of 7 to Jaipur, Agra and Delhi from 8th to 14th January 2018. Very happy with the service, the vehicle was good, the hotels were excellent and so were the the guides for the Jaipur and Agra tours. However,...\n",
      "\n",
      "            Show more\n",
      "1431\n",
      "Our experience in India was really amazing we visited the golden triangle where we had an excellent encounter with the rich culture of this country we visited Delhi Agra and Jairpur ... this wonderful and unique visit we did it hand in hand and under...\n",
      "\n",
      "            Show more\n",
      "1432\n",
      "Last year GeTS Holidays organised a beautiful tour us. We had a 6 nights, 7 days Golden Triangle wonderful tour of Golden Triangle provided by Gets Holidays. The guides Vasudev, Pramoth and Jitendra were extremely good, they had plenty of knowledge of...\n",
      "\n",
      "            Show more\n",
      "1433\n",
      "After much searching we decided to book a private tour with GeTs holidays, we were very pleased with the service and price they provided. We were met at Delhi airport at 1am, two hours later than expected as we had to queue for hours to get through...\n",
      "\n",
      "            Show more\n",
      "1434\n",
      "Everything was just perfect, the hotels selected were good value for money and the itinerary just right. We wanted to see as much as we could in under a week and did just that . A special thank to our drivers and guides who really took special care of...\n",
      "\n",
      "            Show more\n",
      "1435\n",
      "We had just a week to see the best of India in boot strapped budget. We thought this was an amazing choice as not only were we able to cover the most popular circuit of India which is called the Golden Triangle  but also covered the spiritual capital of...\n",
      "\n",
      "            Show more\n",
      "1436\n",
      "Hotel accomodation in Delhi was good but environment was very poor, in Jaipur was poor, in Agra very good\n",
      "1437\n",
      "We both had a good trip, I think for what we paid that is what we got. We didn’t like the hotel in New Delhi but found all the other hotels were fine. Maybe in Indian terms they are 4 star but not to us (being Australian) . We had a different guide in...\n",
      "\n",
      "            Show more\n",
      "1438\n",
      "New Delhi is worth missing, streets are a mess and so much smog from the cars & motor bikes,\r\n",
      "on the whole the hotels were ok , our taxi driver was brillant and the guides were good.\r\n",
      "Tipping every man & his dog gets you down after a while !!\n",
      "1439\n",
      "Where do I start! Tour was good enough however two things I experienced during the trip let down big time!! \r\n",
      "1. Essex Village restraurant during New Delhi trip: we stopped at this place for lunch! Simple lunch!! Amazed by the bill we had to pay! £62...\n",
      "\n",
      "            Show more\n",
      "1440\n",
      "I am so glad that i choose to go with GeTS Holidays. They were very prompt in responding and were also very organized and flexible. It was a last moment tour as i booked just two days prior. I was provided with an excellent guide who had a very fluent...\n",
      "\n",
      "            Show more\n",
      "1441\n",
      "Overall, the tour was excellent!\n",
      "All of the coordination was done great, and the guides were very knowledgeable.\n",
      "\n",
      "Highly Recommend!\n",
      "1442\n",
      "November 15, 2022\r\n",
      "\r\n",
      "To GeTSHolidays,\r\n",
      "\r\n",
      "I cannot begin to praise GeTSHolidays enough for their planning and execution of my recent 21 day tour to India. The care and concern for my welfare and happiness throughout the trip was comforting and reassuring...\n",
      "\n",
      "            Show more\n",
      "1443\n",
      "We did the Golden Triangle but had it modified for us as it was part of our three weeks in India,\n",
      "The arrangement that Gets did for us could not be faulted. having used Gets previously we had no concerns about the arrangements that thy did for us.\n",
      "If...\n",
      "\n",
      "            Show more\n",
      "1444\n",
      "Tour very interesting trasportation very good \n",
      "Everythink we need or we desidered we have \n",
      "Perfect Organization\n",
      "1445\n",
      "We started with one of GeTS advertised tours, but removed one city that didn't look very interesting, and added Udaipur, which promised to be beautiful (and was). GeTS uses a voucher system, which allows for lots of customizing of your trip. It also...\n",
      "\n",
      "            Show more\n",
      "1446\n",
      "More than we expected— Great service!\n",
      "1447\n",
      "The hotel location in Delhi is poor. Very ghetto place even though it’s close to the sightseeing places. Other hotels in Agra, Jaipur, Varanasi are great!\r\n",
      "The tour guide in Delhi is arrogant and cranky. We all 4 don’t like him much!\r\n",
      "The tour guides in...\n",
      "\n",
      "            Show more\n",
      "1448\n",
      "I loved my solo trip, it was totally worth it!\n",
      "1449\n",
      "Private 15 day tour of Golden Triangle and Nepal\r\n",
      "4 people\r\n",
      "We started in Delhi and we met, as arranged at the air port by our India driver Shishram. He was our driver and part-time guide through out or time in India. We cannot say enough good things...\n",
      "\n",
      "            Show more\n",
      "1450\n",
      "Amazing tour, great service and hospitality and what an experience. We have been to several countries so far and always taken tours from travel companies. Most of them have been good but this company was a league apart.   Every city we were greeted by...\n",
      "\n",
      "            Show more\n",
      "1451\n",
      "I had a great time with this tour and experienced all the amazing places India has to offer. Takhant is an excellent driver and I felt safe with him. All the local guides were also knowledgeable and approachable.\n",
      "1452\n",
      "We loved this tour!! Exceeded all our expectations.Accommodations were wonderful.Driver and guides were very knowledgeable. All in all we had an amazing time and would highly recommend this tour.\n",
      "1453\n",
      "Yes I very much enjoyed the trip, the itinerary was also quite good. I would have liked to have the chance to visit some food markets or markets in general which would offer what we tend to find in supermarkets or general shops in the Western world and...\n",
      "\n",
      "            Show more\n",
      "1454\n",
      "I and my wife booked this tour with Swastik India in September. We are very happy with the way we were treated throughout the tour.Regular follow up calls from customer care made us feel safe and comfortable.Company representatives at each place were...\n",
      "\n",
      "            Show more\n",
      "1455\n",
      "One of the best trips i've ever been on. Everything on this trip exceeded my expectations.Accommodations were of top class and my driver was very professional.\n",
      "1456\n",
      "Excellent!!Everything was very well arranged from start to finish.Airport pick up and drop off was arranged on time.Accommodations were of good standards.My driver was the best.I felt safe with him throughout the tour.Everything was best about this tour...\n",
      "\n",
      "            Show more\n",
      "1457\n",
      "i am very much impressed by the professional services offered by this tour company.Extraordinary and impressive planning made my tour wonderful.I spent fabulous 10 days in India.My driver Kamal made this tour even more entertaining and helped allot...\n",
      "\n",
      "            Show more\n",
      "1458\n",
      "Perfect!! Our tour was very designed and organized by the expert team of SIJ. Accommodations were very comfortable with clean washrooms and well furnished rooms.Our car & driver were excellent.Our driver had knowledge about the routes and also assisted...\n",
      "\n",
      "            Show more\n",
      "1459\n",
      "Had great time on this tour.Everything went smooth.Our hotels at each place were of good standards.Our driver was very calm and drove safely.We felt completely safe with him.It was a memorable journey.Thanks.\n",
      "1460\n",
      "We had a great time. It was a full on tour and we saw and experienced everything and more than expected. Naveen was the best tour leader and he made us feel safe and part of a big family. He made it all go very smoothly and kept us all on schedule...\n",
      "\n",
      "            Show more\n",
      "1461\n",
      "Didn't know what to expect, this is the first tour with exodus. I loved the smaller group (8), we all bonded really well fortunately. The group leader Mayank, was brilliant, his knowledge was incredible and he had a good sense of humour. He seemed to...\n",
      "\n",
      "            Show more\n",
      "1462\n",
      "India was hot, fascinating, noisy, exciting, chaotic, and beautiful. I thoroughly enjoyed my tour and it was a pleasure to travel with such a lovely group and guide, to an amazing country. My only criticism, not enough quality time spent in Delhi but I...\n",
      "\n",
      "            Show more\n",
      "1463\n",
      "Disappointments: poor standard of hotel in Delhi, lack of information from tour guide, one particularly long day that ought to have been managed better and unnanounced visits to local industry for a 'sales pitch'.Highlights: Visits to see and experience...\n",
      "\n",
      "            Show more\n",
      "1464\n",
      "In theory this is a 10 day trip, but travelling out on day1, getting there on day 2 with further travel by bus to Jaipur on day 2 to hotel in time for evening meal (at the hotel as advised that nothing local to go to) gives a false impression of how...\n",
      "\n",
      "            Show more\n",
      "1465\n",
      "A whirlwind tour, giving you everything in such a short space of time.What was the most inspirational moment of your trip?Seeing the Taj Mahal. A thing of beauty and more.If this was a girlfriend, all the other guys would be jealous.Meeting 14 other...\n",
      "\n",
      "            Show more\n",
      "1466\n",
      "I wanted to celebrate my 70th birthday in a special way.  I've felt drawn to India as long as I can remember and  decided it was now or never!What was the most inspirational moment of your trip?Going on a boat trip on the Ganges at sunset and lightingÂ...\n",
      "\n",
      "            Show more\n",
      "1467\n",
      "A brilliant trip for those new to India - a way to see all the key tourist attractions, in a short time. Fast paced, colourful, life changing trip.What was the most inspirational moment of your trip?Watching the sun rise whilst sitting beside the Taj...\n",
      "\n",
      "            Show more\n",
      "1468\n",
      "great trip, only downside was the ganges being flooded but not much that could be done about that, safari i would not bother with next time. Tour leader was great.What was the most inspirational moment of your trip?Visiting Taj MahalWhat did you think...\n",
      "\n",
      "            Show more\n",
      "1469\n",
      "I travelled in December/January. The trip was awesome! Although India was suffering it's coldest Winter in 40 years. It was certainly chilly at times. Well paced, a fantastic group of people, and the locals were so friendly.What was the most...\n",
      "\n",
      "            Show more\n",
      "1470\n",
      "Good service and good food I had in India and will highly recommended to first time traveller to india and I loved India golden triangle tour\n",
      "1471\n",
      "I have been recommended to India golden triangle tour and saw tigers ony journey my dream came true after doing this tour and happy with all services and thank you guys\n",
      "1472\n",
      "Thank you so much for taking good care of us while touring with tourradar and Amazing India Tours we had a helpful driver Deepak who met us at airport and remain with us for complete tour and hotels was good we had breakfast and local guides took us...\n",
      "\n",
      "            Show more\n",
      "1473\n",
      "Nice place and people are very helpfull over there and we loved the tour best part of the tour was hotels and driver and guide they played vital role in making a trip fabulous\n",
      "1474\n",
      "Well organized tour with an awesome driver Deepak and local guides. We are very happy that we decided to purchase this tour via Tourradar\n",
      "1475\n",
      "being a first time traveller we have checked many tour which are available online but Amazing India Tours just met our expectations. in spite of problems which we managed to solve after communication with the tour experts. We had fantastic holidays and...\n",
      "\n",
      "            Show more\n",
      "1476\n",
      "Excellent tour we are very happy and felt safe during the tour with tourradar I would highly recommend tourradar\n",
      "1477\n",
      "I was highly recommended on this luxury India tour by my friends in Australia we booked as private tour we are happy with local guides who helped us in taking photographs\n",
      "1478\n",
      "After comparing all services with other tour operator on tourradar, we have finally decided to travel India where we saw animals tigers and temples and great view of Ganges  all was perfect as other traveller say\n",
      "1479\n",
      "I searched this tour on tourradar and asked about hotels information before booking the tour and company provided best hotels in best location I did have private guide and driver Deepak who was with me during our tour\n",
      "1480\n",
      "We were on honeymoon so requested the tour of India as private. we wanted to see all things as per our timings and choices. hotels was good and did breakfast. Thank you for our driver who was great caring person.\n",
      "1481\n",
      "I was solo women traveller from Australia and came on this India tour and requested for private tour as this gives me extra flexibility than group tours. I enjoyed so much and my dream came ture\n",
      "1482\n",
      "I did saw many tours on many sites after checking the price and hotels carefully i got confident with tourradar team Thank you for wonderful support I am happy with tour guides who explained history nicely\n",
      "1483\n",
      "We had one of the best tour that really showed us incredible india with highly professional, trustworthy, well English spoken guide who always match to our expectations we have no regret with Amazing India Tours.\n",
      "\n",
      "Cheers!\n",
      "Jona Keneth, United Kingdom\n",
      "1484\n",
      "Incredible india! \r\n",
      "\r\n",
      "Peace of mind, easy to book, reasonably prompt response that I was expecting with Amazing India Tours and company highly recommended on Tourradar.\r\n",
      " Thanks  to Mike who has been supportive for me to book this tour. \r\n",
      "\r\n",
      "Overall was...\n",
      "\n",
      "            Show more\n",
      "1485\n",
      "Highly recommended tour to India!\r\n",
      "\r\n",
      "We have found this tour on tourradar and booked it without any hesitation after getting all the answers of questions before heading to india.\r\n",
      "Services was fabulous ???? in terms of guide. Our private driver, hotels...\n",
      "\n",
      "            Show more\n",
      "1486\n",
      "Highly Recommended and one of the best tour operator in india for India Tours\n",
      "1487\n",
      "We thought this was the perfect way to get a taste of India. India is definitely one of the most fascinating country we have visited to far and we have visited many, nothing compared to the monuments we saw and the experiences we had here, they were...\n",
      "\n",
      "            Show more\n",
      "1488\n",
      "I enjoyed every minute of the luxury India golden triangle tour. It was a fantastic experience. It was very well organized and excellent value for money.\n",
      "1489\n",
      "It was an awesome experience. Whole team of Amazing India Tours were responsive and professional. Would love to do more tours with Amazing India Tours we had local guides in each city and loved luxury india golden triangle tour\n",
      "1490\n",
      "Driver and all the guides were very friendly and knowledgeable. Tour was excellent, saved so much time compared with trying to do it yourself. One of the best tour luxury india golden triangle tour.\n",
      "\n",
      "Thank you!\n",
      "1491\n",
      "Thank you Maria for recommending this tour company we are also satisfied what we paid them for this tour\n",
      "1492\n",
      "We are happy with all hotels that are booked by company we did India tour as a private option\n",
      "1493\n",
      "wonderful arrangements in every city we are glad with all services.\n",
      "\n",
      "Highly Recommend this to first time travellers\n",
      "1494\n",
      "Thank you so much such a local professional guides who assisted me during the tour all went very well\n",
      "1495\n",
      "We arrived in Mumbai from South Africa to do this tour we were group of four women and had stayed in different hotels in each city we had local professional guides.\n",
      "1496\n",
      "We laned in Mumbai airport after my business tour and joined the tour as a private we want to cover all these places that was in our list.\n",
      "\n",
      "Hotels we wanted to stay in five star hotels so we shared the name of hotels with travel advisor booked the same\n",
      "1497\n",
      "We have started this tour from Mumbai we were four friends and wanted to organise this tour private to enjoy all the comforts and flexibility and privacy Amanda did best job for us and she organised the trip the way we all want.\n",
      "\n",
      "Macculam, Brisbane\n",
      "1498\n",
      "Very good arrangements and Tourradar gives opportunity to traveller to book the tour by paying small and later rest amount can be paid what a great option.\n",
      "\n",
      "Mumbai and New Delhi are very busy cities nai ensure you start you start on time.\n",
      "1499\n",
      "So lovely  city Mumbai we liked the tour and enjoy  food of Mumbai especially as very busy  city and lot traffic saw historical places overall was very  good experience.\n",
      "1500\n",
      "Thank you so much guys for great trip of India golden triangle tour with tourradar i am so much happy to seeing many monuments on additional costs.\n",
      "\n",
      "Thank you for wonderful services\n",
      "1501\n",
      "I have seen many tours were available on cheap prices but i was sure they can not give best hotels and professional guides i have booked the tour after discussing the programme of India with Amazing India Tours. I am very much satisfied what i paid for...\n",
      "\n",
      "            Show more\n",
      "1502\n",
      "Well organised from airport pickup to drop-off. Great hotel selection. Our driver Deepak was a safe and excellent driver who also gave us local information along the tour. Duration of the tour and sites was really good for the time we had in India....\n",
      "\n",
      "            Show more\n",
      "1503\n",
      "Tourradar has been recommended to me by my friend who has done tour.\n",
      "\n",
      "We stayed in good hotels in each cites that are recommended by company.\n",
      "\n",
      "We wanted to explore India golden triangle tour with goa on our own however we had local guides in each city\n",
      "1504\n",
      "Goa was favourite destination for me I came with my fiance from England.\n",
      "\n",
      "Best things about this tour you will get to stay in three star hotels and but be advised three star hotels has limited food variety in india.\n",
      "\n",
      "However everything on the tour was...\n",
      "\n",
      "            Show more\n",
      "1505\n",
      "Thank you Guys and keep it up for great services that you provided to us during our tour of india we really enjoyed your hotels suggestions in five star category we are happy that you recommended us great hotels\n",
      "1506\n",
      "One of best tour we had in India we really enjoyed our vacation time with amazing driver and local guide we had in each city we are very much happy with all services\n",
      "1507\n",
      "I took a solo trip to Golden Triangle with Varanasi and really had the most amazing holiday in India. At first I was a bit skeptical about travelling on my own. But I had a great time in India . I really enjoyed each day of my tour to the fullest and...\n",
      "\n",
      "            Show more\n",
      "1508\n",
      "I took a solo trip to Golden Triangle with Varanasi. I enjoyed my trip to the fullest. At first I thought I would not be able to enjoy the trip much being on my own. But, it came out to be more exciting each day. The journey allowed me flexibility like...\n",
      "\n",
      "            Show more\n",
      "1509\n",
      "Excellent Job by company staff. We are now planning our next trip with them soon. We are very happy with all the services they delivered. Highly recommended!\n",
      "1510\n",
      "Had a very enjoying momements. was with in our budget.supporttive staffs..we enjoyed India Golden Triangle Tour\n",
      "1511\n",
      "Everything was great - hotels, itinerary, logistics, drivers. Staff were all competent, professional, friendly and helpful. All schedules were strictly adhered to. Amazing India Tours  did an excellent job, and we plan to do our next trip to India with...\n",
      "\n",
      "            Show more\n",
      "1512\n",
      "Amazing tour, great service and hospitality and what an experience. We have been to several countries so far and always taken tours from travel companies. Most of them have been good but this company was a league apart. Every city we were greeted by...\n",
      "\n",
      "            Show more\n",
      "1513\n",
      "We have booked the tour of our 6 people from Australia and wanted to cover Varanasi which has been highlighted in many documentaries.\n",
      "\n",
      "We have upgraded ourself to 5 Star hotels as we want truly luxury experience of india and seen evening Aarti.\n",
      "1514\n",
      "I had a very interesting and great time in jaipur. I learnt a lot about culture and locals Manager Michael is very wonderful and very organized thank you so much for such a great tour.guys please do remember in India tipping is expected.\n",
      "\n",
      "Regards...\n",
      "\n",
      "            Show more\n",
      "1515\n",
      "Thank you Garima for taking care of us in India. just wanted to write an appreciation letter that you and your lovely team deserve the same.\r\n",
      "\r\n",
      "We could not complete the tour of Varanasi because of Covid 19 but you did and your representative Meet best...\n",
      "\n",
      "            Show more\n",
      "1516\n",
      "We have booked two tour for india one for himachal tour and other for kerala portion but himachal tour of india has been best for us because Amazing India Tours provided us full support from beginning of the trip and hotels has been far better than my...\n",
      "\n",
      "            Show more\n",
      "1517\n",
      "What a beautiful place of India shimla me and my wife enjoyed hote cup of masala tea in the Himalayas where we saw some beautiful snow falling which happen in this region only.\n",
      "\n",
      "Do not expect here high standard hotels here as this place has limited...\n",
      "\n",
      "            Show more\n",
      "1518\n",
      "It is our second  time to travel with Amazing India Tours  as we have opted for private  journey which gave us more flexibility on the ground we liked all the places these a places are full of mountain beauty  and so much to see on the roads overall...\n",
      "\n",
      "            Show more\n",
      "1519\n",
      "Amazing India Tours was good overall and great value for money a couple of things to be aware of on the tour there will be local guide at every destination and monuments entrances fee are reasonable that you can pay directly to counter and we had some...\n",
      "\n",
      "            Show more\n",
      "1520\n",
      "I highly recommend this Journey who is second time traveller to India so Shimala and Manali both places are very popular for hill station basically these places are for leisure and enjoy the beauty of India but do not expect high standard of service...\n",
      "\n",
      "            Show more\n",
      "1521\n",
      "What a wonderful journey to Himalaya I am lover of long journey in the car and love to taking photographs of the hills and Himalaya being hill station of India I would like to advise to the traveller that in these places are very small hotels with basic...\n",
      "\n",
      "            Show more\n",
      "1522\n",
      "Overall it was very good experience of Himalayan tour I have to salute our driver how he handle the traffic of India what a great company and great team of India\n",
      "1523\n",
      "Best tour of lovely Himalayas and we enjoyed every places of this shimla and Manali tour and loved the food and enjoyed every moment\n",
      "1524\n",
      "Amritsar was mind boggling and beautiful!\n",
      "1525\n",
      "We were highly recommended to Amazing India Tours by our friends in England we booked luxury India golden triangle tour with Ranthambore we had a small private car driver named Deepak who was very caring and lovely with whom we liked alot hotels...\n",
      "\n",
      "            Show more\n",
      "1526\n",
      "Amazing experience in India. Well organised tour with lots of activities but also some free time to enjoy. Amazing India tours company looked after us so well and it was very thoughtful for arranging a surprise birthday cake for my mother. It is...\n",
      "\n",
      "            Show more\n",
      "1527\n",
      "I am very happy with my trip to  luxury India golden triangle tour with ranthambhore national park. Amazing India Tours did a great job of providing services throughout the tour. India is full of adventure and so different from anyplace else i have been...\n",
      "\n",
      "            Show more\n",
      "1528\n",
      "I can not thank you enough for such a great team of guides and driver who had possible tour as much as possible memorable\n",
      "1529\n",
      "It was very fabulous tour of india with my driver Deepak who had been assigned for us from arrival in India till departure of india.\n",
      "\n",
      "We have chosen tavel with Amazing India Tours because of its high standard hotels and local tour guide that company is...\n",
      "\n",
      "            Show more\n",
      "1530\n",
      "We loved long drives from one city to another city where we got opportunity to see real India it was all photogenic places and met some wild animals as well on this tour.\n",
      "\n",
      "Regards,\n",
      "Crimpson, Australia\n",
      "1531\n",
      "Oh my god we have seen four tigers in our Safari I can not express how lucky we are on this tour as our prime concern to spot tigers on this tour.\n",
      "\n",
      "Taj Mahal, India Gate, Big Forts, palaces are incredible india is such a vast country no one can imagine...\n",
      "\n",
      "            Show more\n",
      "1532\n",
      "Tour absolutely has been fantastic we enjoyed the tour hassle free, any worry that we wanted.\r\n",
      "\r\n",
      "Guys we careful while visiting the Taj Mahal as there are so many touts who will try to misguide you although tour guide will be with you so please take...\n",
      "\n",
      "            Show more\n",
      "1533\n",
      "We are couple from Germany and did India golden triangle tour with tiger and had seen two tigers in my safaris and hotels was good and we had local guide in each cities that tour says it was very well organised we are happy with all services\n",
      "1534\n",
      "It was very good tour of india I was female traveller from canada and booked India Golden Triangle Tour and arrived two days before and company did pre arrival accommodation for us at reasonable prices I did tour with my private car and driver rajesh...\n",
      "\n",
      "            Show more\n",
      "1535\n",
      "Thank you so much for great taking care of us we are happy and have booked the tour in advance 7 months before travelling to India.\r\n",
      "\r\n",
      "We were met by our driver Deepak at New Delhi airport and did complete India golden triangle tour and very satisfied...\n",
      "\n",
      "            Show more\n",
      "1536\n",
      "I booked this India golden triangle tour on tourradar and I was female traveller from Australia and we stayed in good hotels and we had a private a driver whose name was Deepak and showed all the places as per programme we liked Ravi our tour guide in...\n",
      "\n",
      "            Show more\n",
      "1537\n",
      "all went perfect on this tour we are very much happy with all services we will highly recommend for first time travellers to India\n",
      "1538\n",
      "I am from Brisbane and booked this tour 2 months before my arrival in India. It is absolutely wonderful tour of India which covers everything of india.\r\n",
      "\r\n",
      "Hotels of all the palaces has been booked by Amazing India Tours which was excellent hotels....\n",
      "\n",
      "            Show more\n",
      "1539\n",
      "Thank you for your great effort to made my tour with my wife as memorable as possible.\r\n",
      "\r\n",
      "It was very lovely tour and got lucky to see wild tiger's that was our highlights of India Tour.\r\n",
      "\r\n",
      "Trustworthy team of guides, driver and credit goes to Michael...\n",
      "\n",
      "            Show more\n",
      "1540\n",
      "Wonderful first visit to India. Thank you to our driver, Deepak for excellent experienced driving, very helpful, friendly and caring. Allowing us to sit back and relax, enjoy India. Thank you to the guides for extensive knowledge of their cities....\n",
      "\n",
      "            Show more\n",
      "1541\n",
      "We' usually  never give 5 star rankings but this company surely deserves one so will not hesitate to give them the same. Loved the idea of seeing the famous golden triangle with Bollywood. A great way of seeing India for the first time. Add on a \" film...\n",
      "\n",
      "            Show more\n",
      "1542\n",
      "What a start to our incredible India journey. Just loved the way we could see everything in the little time and budget we had. The guide and driver were just amazing , told us great stories and showed us India from the street up. Really unique...\n",
      "\n",
      "            Show more\n",
      "1543\n",
      "A great company with wonderful people. They really looked after each and every detail and kept to all promises. In fact went out of the way to look after us, we left our medicines in a hotel in Jaipur which were delivered to us back in Delhi, I wouldn't...\n",
      "\n",
      "            Show more\n",
      "1544\n",
      "Loved the experience, great itinerary, very knowledgeable guide. Overall an awesome package, worth every cent. So try and get the same guide and driver we did as they made the trip really complete with their amazing stories. Guide was Anil and driver...\n",
      "\n",
      "            Show more\n",
      "1545\n",
      "Good value tour; more programm could have been included in the itinerary; great guides in all places and very safe and reliable driver!\n",
      "1546\n",
      "Visiting India IS truly a journey of a lifetime, everytime, AND specially, WHEN it comes TO a tour of the Golden Triangle - you just feel AS IF once IS NOT enough. Our journey was splendid. Kudos TO the team FOR handling our tour FILE IN such an...\n",
      "\n",
      "            Show more\n",
      "1547\n",
      "The services were good AND we had a highly comfortable AND enjoyable experience, exploring Indian heritage. Taj Mahal was definitely the highlight of the trip. We would definitely LIKE TO visit India again.\n",
      "1548\n",
      "The Golden Triangle Tour offers countless wonderful memories. IN Delhi, we gorged ON the spicy food AT Chandni Chowk AND simply loved the vast array of parathas AT Parathe wali Gali. Visiting Jaipur's Amber Fort and the sight of turbaned locals playing...\n",
      "\n",
      "            Show more\n",
      "1549\n",
      "I always wanted TO visit india AT LEAST once AND this Golden Triangle Tour of Delhi, Agra AND Jaipur has\n",
      "LEFT me yearning FOR more. The amazing sights of OLD AND NEW Delhi AS well AS the charm of Agra AND the royal splendor of Rajasthan has completely...\n",
      "\n",
      "            Show more\n",
      "1550\n",
      "The company has lived up TO its repuation BY offering high standards of service, along WITH absolute dedication AND commitment. India IS a great place TO enjoy LOCAL cultural experiences, AND of course, TO visit various beautiful AND famous monuments.\n",
      "1551\n",
      "Visiting the Taj Mahal was an amazing experience!! We also enjoyed India's different cultural aspects such as delectable cuisines, visiting monumens and going shopping. The services were truly remarkable and made our family trip a highly memorable...\n",
      "\n",
      "            Show more\n",
      "1552\n",
      "The Golden Triangle Tour IS an experience of a lifetime. Be it, Delhi's India Gate, Rashtrapati Bhawan, Jama Masjid and Qutub Minar, or Agra's Taj Mahal AND Jaipur's elegant forts and palaces - this tour is just like stepping into the era of a royal...\n",
      "\n",
      "            Show more\n",
      "1553\n",
      "It was an amazing experience to visit Delhi's landmarks such AS Rashtrapati Bhawan, India Gate, Qutub Minar AND the Jama Masjid. Also, Agra AND Jaipur's mind-blowing architectural wonders like the Taj Mahal and various other forts and palaces totally...\n",
      "\n",
      "            Show more\n",
      "1554\n",
      "overall very good informative guides good destinations accommodation good but room  for improvement\n",
      "1555\n",
      "The tour was well organized. The attractions are world famous places. \n",
      "All local guides were very professional and knowledgeable. \n",
      "Many thanks to our driver Kelash, who become our true friend. \n",
      "We always felt safe, the food was great, the hotels were...\n",
      "\n",
      "            Show more\n",
      "1556\n",
      "No entertainment provided at pachewar fort really dissappointed \n",
      "Agra amazing\n",
      "Good range of hotels\n",
      "Taj villa beautiful but really noisy couldn't sleep\n",
      "1557\n",
      "The tour was very perfectly organised.Each and every person i met during the tour was professional,welcoming and helpful. Hotels were of top class.Enjoyed city sightseeing with professional and knowledgeable guides. I will definitely book another trip...\n",
      "\n",
      "            Show more\n",
      "1558\n",
      "My guide in Agra was amazing, very knowledgeable very well informed, took amazing care of me, I was very pleased and impressed.\n",
      "Driver Mr Ratan, again amazing job, took well care of me, always on time and very professional.\n",
      "Accomodation spot on, hotels...\n",
      "\n",
      "            Show more\n",
      "1559\n",
      "It was a wonderful tour.Thanks for everything.\n",
      "1560\n",
      "The tour was very good.All the accommodation were of top class.We loved our stay at fort.Our driver Dev was very professional.We felt completely safe with him. All the guides were excellent.\n",
      "1561\n",
      "It was good , everything worked well and the trip met our expectations\n",
      "1562\n",
      "We thoroughly enjoyed our tour and the experience was one we will remember forever! I am a 32 yr old woman and have travelled twice in India before, however, on this occasion, I was travelling with my mum and she hadn't travelled outside of Europe...\n",
      "\n",
      "            Show more\n",
      "1563\n",
      "Our experience with GeTSHolidays was first class, from start to finish. Our driver, Rajesh was such a gentleman. We loved all the hotels. Each guide was very informative and made each new experience wonderful and unforgettable. I would recommend GeTS...\n",
      "\n",
      "            Show more\n",
      "1564\n",
      "Earlier we had desired that we will do only Golden Triangle and Ranthambore. The company suggested us Varanasi, so we booked it and later we found our decision was absolutely excellent. Bookings & payments were made easy and the tour experience was...\n",
      "\n",
      "            Show more\n",
      "1565\n",
      "No derailed itinerary meant having to contact Karni often for simple things like pick up times. She always replied promptly. \n",
      "One of our guides got quite upset when we didn't want to go to his \"familys\" stone inlay shop.\n",
      "\n",
      "Hotels were just acceptable to...\n",
      "\n",
      "            Show more\n",
      "1566\n",
      "The guides were amazing - particularly Sultan in Amritsar who had impeccable English and knowledge.  \n",
      "My driver Vicki, was not only a skilful driver on the interesting roads, but was extremely kind and helpful - particularly on the day I got the train...\n",
      "\n",
      "            Show more\n",
      "1567\n",
      "Had an amazing time. Hotels were great and guides were very knowledgeable.\n",
      "1568\n",
      "Wonderful tour!! Enjoyed every second of it. Great team of Swastik India did an amazing job in making my trip hassle free and enjoyable.\n",
      "1569\n",
      "It was an amazing tour.Itinerary was designed very well.Guides were amazing specially the one in Jaipur.He was very energetic and knowledgeable. Also,the hotels were very good. I loved this tour and highly recommend it to other travelers.\n",
      "1570\n",
      "Wow what an amazing trip, 100% recommended. It is impossible to explain how beautiful the India are, has to be experienced.\n",
      "1571\n",
      "India an amazing destination and our holiday in India its a lifetime moment for us specially visit to taj mahal. Holidaysat provide really good services during our trip.\n",
      "1572\n",
      "We had booked for a Kerala package with Kerala Holiday Club.  The tour was well organized and planned. They stayed connected with us for our entire trip! Mr. Sandeep were really knowledgeable and helpful. Thanks to Kerala Holiday Club for giving us one...\n",
      "\n",
      "            Show more\n",
      "1573\n",
      "Great service overall\n",
      "1574\n",
      "Overall, Transportation, Accommodation, Meals, Guide....5 stars\n",
      "1575\n",
      "I planned my trip to Kerala with Kerala Holiday Club and got the best package at best price, It was an amazing experience , with Sandeep being with us right from the planning till the conclusion of the trip. Overall experience with them was amazing.\n",
      "1576\n",
      "Beautiful country India we were students travelled from New York for this tour we had private room and driver for whole journey I had no complaints for this company I am happy what I paid\n",
      "1577\n",
      "We were on budget tour and company was highly recommended to me we selected this tour and travelled with them and so plaesed with all people\n",
      "1578\n",
      "This was best tour with best hotels within my budget as compared to other companies. My tour operator Garima was very humble she was always in touch with me to confirm that my tour is going smoothly. As far as these people were truly amazing as there...\n",
      "\n",
      "            Show more\n",
      "1579\n",
      "Had a wonderful holidays with Amazing India Tours and we loved all the places and loved to see Taj Mahal as always it was mind blowing monuments of love in India\n",
      "1580\n",
      "Thank you for arranging for us best driver Deepak who had been best Person of this tour we are happy whatever you provided us on the tour.\n",
      "\n",
      "My suggestion for coming traveller please do always all activities in advance before arriving in india.\n",
      "1581\n",
      "Tour was very good as we were bag packers traveller so we were looking for a tour which can come under our budget and room was neat and clean and with basic facilities.guides and driver was excellent who made this tour very memorable for us.\n",
      "1582\n",
      "Before booking this tours we saw so many tours on tourradar here on cheap prices but most of them having good feedback and some negative feedback so after good research we spoke to Amazing India Tours checked every single details about their hotels and...\n",
      "\n",
      "            Show more\n",
      "1583\n",
      "i travelled on this india golden triangle tour as a private option and enyoed all hotels and guides services that we hoped\n",
      "1584\n",
      "Superb services ! Well planned and focused on everything during the tour well.\r\n",
      "\r\n",
      "Cheers,\r\n",
      "John, Australia\n",
      "1585\n",
      "What a fabulous tour and got to see so many things and lovely tour of India.\r\n",
      "\r\n",
      "Regards,\r\n",
      "Amy Moody, Mexico\n",
      "1586\n",
      "Great Job by Michael who is best planner for India and know everything in depth and we had nice tour. Hotels and guide and driver were great during the tour.\r\n",
      "\r\n",
      "Cheers,\r\n",
      "Amanda, Canada\n",
      "1587\n",
      "We enjoyed the tour with Amazing India Tours and hoping to meet personally with Michael for his excellent service.\r\n",
      "\r\n",
      "Cheers!\r\n",
      "Alex Hardy, Brisbane\n",
      "1588\n",
      "Our group of 3 ladies booked a 1 week trip to India with Amazing India Tours. Garima was so patient, knowledgeable and always answered my many questions promptly. Before deciding on our final itinerary we had made many changes and tried to fit as much...\n",
      "\n",
      "            Show more\n",
      "1589\n",
      "Excellent Golden Triangle tour with Shimla. Highly Recommended tour to first time traveller to india\n",
      "1590\n",
      "This india golden triangle tour with shimla tour was perfect! Our tour guides were all excellent with great personalities and extensive knowledge. He made us feel safe and we would highly recommend him! We were lucky to have him as our driver!\n",
      "1591\n",
      "this India golden triangle tour with Shimla was amazing, so many good sites....Neeraj the driver made this trip the best and a funny guy.......still don't know how he manages to drive in this crazy country...no one keeps to the lines of the road.\r\n",
      "\r\n",
      "We...\n",
      "\n",
      "            Show more\n",
      "1592\n",
      "This trip to India with Golden Triangle Tour with Shimla was our honeymoon trip. I and my husband enjoy this tour. They Visit Heritage in India Delhi, Agra, Jaipur. the tour was great. we have booked the tour based on recommendations by one of our...\n",
      "\n",
      "            Show more\n",
      "1593\n",
      "I wanted to visit Shimla as it was my dreaming place of my life so I have been highly recommended to this company and we were very much glad with all hotels and guide who had been with us for city tour.\n",
      "\n",
      "Professional team of Amazing India Tours and...\n",
      "\n",
      "            Show more\n",
      "1594\n",
      "Thank you so much for taking care my family alot from beginning of the tour till end of my departure at New Delhi's airport. We loved all places and Agra has been most favourite because of Taj Mahal visit we liked this India Golden Triangle tour with...\n",
      "\n",
      "            Show more\n",
      "1595\n",
      "It is very easy for us to find out best tour with best hotels, driver, and local guides we have contacted several tours operator and got many reverted and compare all the hotels and driver guide quality based on ther feedback we found Amazing India...\n",
      "\n",
      "            Show more\n",
      "1596\n",
      "Me and my husband booked this private India golden Triangle Tour with corbett national based on recommendation by one of our neighbor in australia\n",
      "1597\n",
      "Excellent tour of India Golden Triangle I so much enjoyed being a solo traveller from china\n",
      "1598\n",
      "I was solo traveller from Australia and read so much about tourradar before booking the tour of india golden triangle tour with corbett national park. on tourradar many companies offer tour on cheap prices but very difficult to choose best and...\n",
      "\n",
      "            Show more\n",
      "1599\n",
      "We just fell in love in India having as a guide and driver such a wonderful person - Mr. Deepak who showed us real India. My husband and I experienced so many brilliant moments and had a good time sightseeing all those beautiful heritage of India...\n",
      "\n",
      "            Show more\n",
      "1600\n",
      "This has been an incredible, wonderful experience. Our 19 day, tailor-made tour of Rajasthan, Agra, Khajuraho and Varanasi absolutely exceeded our expectations and was exceptional value for money. The key to this was our incredible driver and guide...\n",
      "\n",
      "            Show more\n",
      "1601\n",
      "I arrived very late at New Delhi airport and met my driver and who was with me for entire tour of India golden triangle. We had local city guides everywhere and enjoyed my vacation truly.\n",
      "\n",
      "Highly recommended\n",
      "1602\n",
      "I had a great experience of traveling India with these guys. Indian people are so good always ready to help but be aware of frauds around monuments. It was a great tour for me all the company members are so professional and all the services are so...\n",
      "\n",
      "            Show more\n",
      "1603\n",
      "Thank you so much I was single women traveller on this luxury India tour from Canada I was recommended to Amazing India Tours by my friend I am very much happy with its hotels selection and tour guides very professional and caring on the tour I loved my...\n",
      "\n",
      "            Show more\n",
      "1604\n",
      "Many thanks for providing best accommodation in each cities we are highly satisfied with all services that we paid for this tour \n",
      "\n",
      "Highly Recommended\n",
      "1605\n",
      "we came from England for this tour and did it private as want enjoy all comforts that is not possible in group tour at all we had private car and driver Deepak for entire tour and had local tour guides in each city for taking us to monuments.\n",
      "\n",
      "We are...\n",
      "\n",
      "            Show more\n",
      "1606\n",
      "Thank you for arranging best tour guides in each city we are happy with all guides and very much satisfied with our driver in India please keep in mind in india driver speaks understandable english they are not best english people.\n",
      "\n",
      "Rest everything was...\n",
      "\n",
      "            Show more\n",
      "1607\n",
      "We were highly recommended for this India tour by my friend in Canada we do not stay in bad hotels at all and nor want a unprofessional tour guides for being first time in India we decided to travel with this company because of quality of hotels and...\n",
      "\n",
      "            Show more\n",
      "1608\n",
      "we wanted to see tigers in India it was our first visit to India we do not want stay in bad hotels so I found this company which offered good hotels and best tour guides in each cities we are very much satisfied with all services and prices too\n",
      "1609\n",
      "Excellent services we are happy with all services that are offered by the company and hotels location was best\n",
      "1610\n",
      "I was a solo traveler, so it was nice to somebody along the way the whole time.  The company hired one driver to accompany me throughout the whole trip and hired different local guides as I moved to different locations.  My driver, Dilip, kept me...\n",
      "\n",
      "            Show more\n",
      "1611\n",
      "The tour operator agents answered all my questions promptly, offered and provided assistance throughout the tour. The local guides selected were highly experienced, sharing lots of context about history, and the driver was excellent. I was well suprised...\n",
      "\n",
      "            Show more\n",
      "1612\n",
      "Thank you so much for taking great care of us we are really happy with all services of all tour guides and we stayed in three star hotels that were good and comfortable and loved to see Taj Mahal with guide.\n",
      "1613\n",
      "it was very confusing here for me to book tour with tour operators as so many of tours available on cheap to get customers then I spoke this Amazing India Tours expert here and they made me understand please always compare services of standard and...\n",
      "\n",
      "            Show more\n",
      "1614\n",
      "We had a good and professional local guides in each and we visited Taj Mahal at sunset and loved all the photographs\n",
      "1615\n",
      "What a great team of Amazing India Tours.\n",
      "\n",
      "We liked this company hotels better than other and even guides we also checked with other companies but hotels was bad in terms of review so and price was cheap because they were providing very low budget of...\n",
      "\n",
      "            Show more\n",
      "1616\n",
      "The itinerary was run perfectly and I liked company because of professional guide and driver who was with me during the tour.\n",
      "1617\n",
      "We had stayed small 3 star hotels with bed and breakfast in all places as per programme my driver Deepak was so helpful, kind, trustworthy During the visit of Taj Mahal and Amber Fort and India gate we got local different guides we can not thank for...\n",
      "\n",
      "            Show more\n",
      "1618\n",
      "I was single women traveller from Canada and wanted to see many places after booking the tour with Amazing India Tours was able to add more destination as I wanted to add more I would say Tourradar and Amazing India Tours are great travel partner of...\n",
      "\n",
      "            Show more\n",
      "1619\n",
      "We were highly recommended to Amazing India Tours by friend in Newzealand for its professional team of guides, driver, vehicle that they provide to their travellers.\n",
      "\n",
      "My experience with Amazing India Tours was fantastic memorable moments of my life we...\n",
      "\n",
      "            Show more\n",
      "1620\n",
      "I have been recommended to Amazing India Tours by one of my friend in USA he used it's services and very much satisfied.\r\n",
      "\r\n",
      "We loved the transparency of this company and shared with us valuable information of India.\r\n",
      "\r\n",
      "All hotels has been booked as per...\n",
      "\n",
      "            Show more\n",
      "1621\n",
      "oh my God! India is really crazy country than others if i had not chosen to travel with this professional company it would have been worst experience of mine alone.\n",
      "\n",
      "Thank you so much for selecting best tour guides and driver for India traffic.\n",
      "\n",
      "Highly...\n",
      "\n",
      "            Show more\n",
      "1622\n",
      "I am single women traveller from Germany and I was highly recommended for this company because of professional tour guide and driver they had.\n",
      "\n",
      "I am glad that i have travelled with best company on tourradar\n",
      "1623\n",
      "It was bit difficult here to choose best tour company because many company offer tour in cheap price to get clients then I decided to check hotels and about tour guide qualification with Amazing India Tours when I got to know exact details about...\n",
      "\n",
      "            Show more\n",
      "1624\n",
      "We had an amazing time in India.We were on our business trip and had a very little time to see the best parts of India. We must say Amazing India Tours did a great job in making our tour enjoyable and entertaining. All guides were very professional and...\n",
      "\n",
      "            Show more\n",
      "1625\n",
      "We had best time in India.. Services by Tourradar India were impressive. Everything on the tour exceeded our expectations. Loved visiting Taj Mahal during sunrise.\n",
      "1626\n",
      "I was travelling as a lone female, the only person on my tour. I felt safe and confident with my driver and all 3 of my guides, who I found to be friendly, knowledgeable and helpful. The accommodation was adequate, I received spacious, private, well...\n",
      "\n",
      "            Show more\n",
      "1627\n",
      "I inquired about this India tour online with tourradar team they helped me to book and make the payment after that I arrived in New Delhi and met by tour company representative they all were really professional and kind loving people I get happy after...\n",
      "\n",
      "            Show more\n",
      "1628\n",
      "Everything perfect!! Everything awesome we loved all hotels and tour guide was very much friendly and professional\n",
      "1629\n",
      "Well organized from airport pickup to drop-off. Great hotel selection. Our driver Deepak was a safe and excellent driver who also gave us local information along the tour. Duration of the tour and sites was really good for the time we had in India....\n",
      "\n",
      "            Show more\n",
      "1630\n",
      "A sincere and heartfelt thank you to all official and outside stationed staff of Amazing India Tours . I appreciate and validate your care and concerns throughout my entire stay/tour. without hesitation you go the extra mile for your guests. .\n",
      "1631\n",
      "Nice experience of india food and culture we loved all the sights with my private driver who helped me alot I felt very much safe while traveling with Amazing India Tours\n",
      "1632\n",
      "Best tour we had and very good custom services provided by Amazing India Tours and Tourradar Team'.\n",
      "1633\n",
      "It was a great trip to India.All thanks to the wonderful team of Swastik India for organizing everything so professionally.\n",
      "1634\n",
      "It was an amazing tour. Excellent services by Swastik India made our journey hassle free and enjoyable. We highly recommend this tour.\n",
      "1635\n",
      "Excellent tour.Enjoyed allot.Thank you!!\n",
      "1636\n",
      "I had great time on golden triangle with uaipur tour.Services were top class from the very first day.Driver and guides always reported on time.Guides were very professional and explained everything briefly.They were flexible as per my needs.My driver...\n",
      "\n",
      "            Show more\n",
      "1637\n",
      "We are very impressed with Swastik India Journeys.They helped allot in planning our perfect trip to India.They were very quick in replying to our emails.Their swift responses and proper follow ups helped in designing our trip in a very short period of...\n",
      "\n",
      "            Show more\n",
      "1638\n",
      "I and my husband planned to celebrate my birthday in India.We searched for the travel agency online and got in touch with Swastik India Journeys.The package they offered us was very reasonable compared to other travel agents.Services offered were...\n",
      "\n",
      "            Show more\n",
      "1639\n",
      "it was a lovely experience.Hotels,driver and guides were very good.Representatives at each place were very professional and helpful.Our whole tour was great but the cooking demo and dinner with the local Indian family was the best part of the tour.We...\n",
      "\n",
      "            Show more\n",
      "1640\n",
      "We are glad that we chose Swastik India as our travel partner for India.Everything in our tour was very well organised .Airport pick was made on time.Driver was very friendly and punctual.Hotels in which we stayed in during our whole tour were...\n",
      "\n",
      "            Show more\n",
      "1641\n",
      "My husband and I went on golden triangle & Udaipur tour earlier this year.Our tour was very well organized. Our whole tour was very entertaining.Elephant ride at Amber in Jaipur was an unforgettable experience. The best part of our tour was the candle...\n",
      "\n",
      "            Show more\n",
      "1642\n",
      "I completed the royal tour wth Rajasthan which I would recommend as good rather than great. It was well organised with a good driver and guides that helped me round every city and the extended leg into Pushkar and Udairpur was the best element which is...\n",
      "\n",
      "            Show more\n",
      "1643\n",
      "We booked this tour via tour radar, implemented by MTA. Perfectly arranged.\n",
      "Quite an amazing experience.\n",
      "Better to do this when you are in good health.\n",
      "1644\n",
      "We had booked this tour through MTA. Our tour guide Deepak was awesome. \r\n",
      "He was knowledgeable, friendly and very responsible. Will surely recommend this tour to my friends. This was an awesome trip for me.\n",
      "1645\n",
      "I  took  this  tour  with my  friends who came  from Thailand.  Everything  thing  was organized with great  care.  The hotels  and resorts  were fine,enjoyed variety of cuisine - especially  the chicken  biryanis.  The  farewell dinner was so wonderful...\n",
      "\n",
      "            Show more\n",
      "1646\n",
      "The tour was supremely well organised and the historic places we went to were beautiful. The programme was varied,...\n",
      "\n",
      "            Show more\n",
      "1647\n",
      "A good tour that went quite smoothly.  A couple of the hotels didn't have hot water which put a dampened on the...\n",
      "\n",
      "            Show more\n",
      "1648\n",
      "The Road to Jordan 16 day trip was wonderful.  The group was wonderful.  The guides were excellent, knowledgeable,...\n",
      "\n",
      "            Show more\n",
      "1649\n",
      "Bout India tours planned our itinerary for a road trip across Southern India - covering historical places, temples, major cities and hill stations. We are very impressed by the Mysuru and Bengaluru palaces. We enjoyed visiting Hampi - learning the about...\n",
      "\n",
      "            Show more\n",
      "1650\n",
      "Accomodation was very average - first hotel Taj Princess linen was dirty and the room was not very clean bathroom floor had grime on it. \r\n",
      "In Jaipur for 2 nights no hot water in the showers. \r\n",
      "Temple on Ganges hotel the shower fundraiser work. My fellow...\n",
      "\n",
      "            Show more\n",
      "1651\n",
      "Gets Holidays were great from start to to finish going out of their way to ensure that the organization was seamless from start to finish.\r\n",
      "Everything worked like clockwork being met on time in all stops by a local guide and driver and the staff from...\n",
      "\n",
      "            Show more\n",
      "1652\n",
      "Jaipur was fascinating because of the magnificent architecture, it’s intriguing history and the fun of the elephant ride. Varanasi was also truly memorable, with its warren of streets and alleyways, and the opportunity to observe religious rituals,...\n",
      "\n",
      "            Show more\n",
      "1653\n",
      "Don't usually write reviews but this tour left mixed feelings and therefore couldn't resist to quickly put one together. First of all, would like to mention my negative experience with GeTS before the tour even started since they wanted to charge us...\n",
      "\n",
      "            Show more\n",
      "1654\n",
      "My husband and I choosed getsholidays for our travel to India because we red the good reviews on internet. The comunication was always good and in italian language with Vincenzo that works for la getsholidays in Delhi. The travel  organization was...\n",
      "\n",
      "            Show more\n",
      "1655\n",
      "My wife and I did a 2 week tour of Northern India with GeTSHolidays in April. We were impressed with their organization - met at the airport and escorted to hotels, provided with a car and driver plus a guide where relevant. We received real personal...\n",
      "\n",
      "            Show more\n",
      "1656\n",
      "We were totally satisfied with the services offered by the company. The driver (Sunil) was professional and friendly and was very punctual. He was quite aware of the tourist destination we visited. We had the pleasure to attend his cousin's wedding...\n",
      "\n",
      "            Show more\n",
      "1657\n",
      "During Halloween in a group of 25 people I visited India for a week. GeTS Holidays organised an exceptional and unique trip for us. GeTS accompanied us in all our visits to Delhi, Agra and \n",
      "Jaipur. They gave us the golden chance to explore India at its...\n",
      "\n",
      "            Show more\n",
      "1658\n",
      "This is my third time with GeTS Holidays and this company has always lived up to my expectations. I have to say, they are really good at their work and stand way ahead when compared to other online/ offline travel agencies. The preparations are minimal,...\n",
      "\n",
      "            Show more\n",
      "1659\n",
      "We had a good time with Iqrar, he was very knowledable and professional, with a lot of stories from the history, he was also adepttable with the tour.\n",
      "1660\n",
      "hi\n",
      "I am ethan and i book the tour from car rental\n",
      "I supprised when i was saw the services of this company everything was perfact.\n",
      "\n",
      "Highly recommended.\n",
      "1661\n",
      "We had a great time exploring the golden Triangle! Our driver Kailasi was very reliable, friendly and always smiling. The car is among the biggest tourist cars we‘ve seen and offers plenty of space for two people and luggage. The guides showed us around...\n",
      "\n",
      "            Show more\n",
      "1662\n",
      "Our driver Maharaj Singh was very kind and a very safe driver. Maharaj and our tour guides were more than happy to alter our itinerary to our desires. He did his best to explain our surroundings when we did not have a tour guide in between the cities....\n",
      "\n",
      "            Show more\n",
      "1663\n",
      "The tour was fantastic. Maharaj our driver was  excellent on the roads and ensured we always felt safe making our trip comfortable. Our tour guides were very informative and nadeem put in the extra effort to make sure we got the best Taj Mahal photos...\n",
      "\n",
      "            Show more\n",
      "1664\n",
      "I am female solo traveller from Australia and did this India Golden Triangle Tour and i am very happy with guides and driver that i hoped\n",
      "1665\n",
      "Thank you so much for taking great care of us during our tour we loved the Amazing India Tours\n",
      "1666\n",
      "I have been recommended to Amazing India Tours by our friends in New Jersey who have do several tours of India with Company it is trustworthy, professional, honest company who was always ready to give best advice on our tour as we we were look for...\n",
      "\n",
      "            Show more\n",
      "1667\n",
      "What a fabulous tour we had in India and loved Taj Mahal sunrise visit that was first highlights of India and guides truly professional and experienced, knowledgeable person.Hotels we opted for five star as we want to enjoy the true luxury of India...\n",
      "\n",
      "            Show more\n",
      "1668\n",
      "We have booked this tour 6 months before in advance. we were welcome at airport by chauffeur and driven to hotel and did Taj Mahal sunrise visit along with professional trained guide who shared with us deep knowledge about monuments and did what we...\n",
      "\n",
      "            Show more\n",
      "1669\n",
      "We arrived in Delhi from London own our on at our friends house in New Delhi to attend the wedding.\r\n",
      "\r\n",
      "Later we decided to do tour of India so my friend's brother Michael who planed this wonderful journey to Taj Mahal with professional team of guides,...\n",
      "\n",
      "            Show more\n",
      "1670\n",
      "we arrived two days before our india golden triangle tour so that we can be ready by mind and body as well we are happy to do this tour\n",
      "1671\n",
      "Udaipur City was highly recommended to me and it was my first tour of India so was very much worried about things how tour will be take care after arriving in Delhi I was very impressed and happy with all services\n",
      "1672\n",
      "Food was bit spicy in India we have seen cows and animals on the road but it was very lovely trip of India hotels has been nice and all has beautiful rooms.\n",
      "\n",
      "Highly recommended.\n",
      "\n",
      "Cheers\n",
      "Konika, Washington\n",
      "1673\n",
      "We really wanted to cover Udaipur so this tour really fit for my self as I was single women traveller from Australia I was little worried how things will work with me in India as I have arrived in India and was very well taken care my private driver and...\n",
      "\n",
      "            Show more\n",
      "1674\n",
      "Had lovely long tour of India and amazed by friendly people of company who did best for us.\r\n",
      "\r\n",
      "Regards, \r\n",
      "Bella, Brisbane\n",
      "1675\n",
      "We had memorable experience of this tour and love to visit India ❤️ again.\r\n",
      "\r\n",
      "Thank you!\r\n",
      "David Booker, New zealand\n",
      "1676\n",
      "Thank you so much for providing good driver and good guides in each city we enjoyed best India Golden Triangle Tour with tourradar and glad with we did it\n",
      "1677\n",
      "Wonderful tour experience of best India golden triangle tour with Varanasi and I have enjoyed alot with this Amazing India Tours team and did great care of me during the the tour and happy with all services.\n",
      "1678\n",
      "It was good experience with best India Golden Triangle Tour with Varanasi and it was first time and we enjoyed alot and happy with all services.\r\n",
      "\r\n",
      "Highly impressed with all the services provided by tourradar\n",
      "1679\n",
      "We are from Canada and booked best India golden triangle tour with Varanasi and we had private driver deepak who was with us for entire tour of india we visited Taj Mahal and took many photographs with our guide and did lunch in good restaurant and...\n",
      "\n",
      "            Show more\n",
      "1680\n",
      "It was really wonderful tour of best India golden triangle tour with Varanasi and I was very much afraid being solo traveller but after completing tour with company people and they are very much professional annd lovely local guides in each city did...\n",
      "\n",
      "            Show more\n",
      "1681\n",
      "It was memorable experiences of best India golden triangle tour with Varanasi and we selected deluxe package and enjoy the room comfort and many more and we had daily room breakfast in the hotel it was good before starting the tour and in each city we...\n",
      "\n",
      "            Show more\n",
      "1682\n",
      "we have travelled to India from far country we have seen tours here but very few of them were able to provide great services as some tour operator want clients and they never focus on quality of hotels.\n",
      "\n",
      "My friend susan recommended this company for...\n",
      "\n",
      "            Show more\n",
      "1683\n",
      "Wonderful guides in each city we saw many temples and monuments on the tour we are highly happy with hotels and driver but keep in mind three star hotel does not have good internet\n",
      "1684\n",
      "I came on this tour as solo traveller from Spain I was bit nervous because of first time travelling in India after i met my driver Deepak and local guides who becomes very friendly to us  I am very much happy with all local guides an driver\n",
      "1685\n",
      "The tour was very enjoyable. The driver, guides and reps couldn’t do enough for us. The online booking was good and all queries answered quickly. The hotels were good all were 4/5 star. Everything Went smoothly. I would definitely use Tour Radar again.\n",
      "1686\n",
      "Trip of a lifetime. The organization was tremendous and the Amazing India Tours guides were superb. Could not recommend them more highly.\n",
      "1687\n",
      "Very good services and prices I loved all experience but it was very hot in month of july rest everything was good\n",
      "1688\n",
      "The driver and tour guides were excellent, very informative and friendly. Couldn’t do enough for us which was great. The hotels were excellent it was awesome luxury india golden triangle tour\n",
      "1689\n",
      "We did a 10 day tour (could be done in less, but we did not want to be rushed), the whole organisation of the tour and the correspondence went extremely well and all of our dealing with tourradar were well executed, we are 2 x active Pensioners. The...\n",
      "\n",
      "            Show more\n",
      "1690\n",
      "It was an amazing experience. Services were top class throughout the tour. Team Amazing India Tours were always there to assist me. My driver Deepak was the best. He was a great driver and had amazing knowledge about good restaurants for meals. I highly...\n",
      "\n",
      "            Show more\n",
      "1691\n",
      "My name is Alex I have booked India golden triangle tour of 6 days from London and converted into private tour as this gave me so much flexibility.\n",
      "1692\n",
      "Every hotels has been so good we liked car and driver alot which was with us for entire tour Thank you so much for your great effort to make my tour memorable\n",
      "1693\n",
      "Highly recommended to this Private Tour by our friends one of the best tour of India but every traveller needs reliable and best services tour provider of India.Amazing India Tours is really best company where you can discuss many things before booking...\n",
      "\n",
      "            Show more\n",
      "1694\n",
      "We have booked this india tour for my friends in Australia they were well received at airport and got best guides in each cities Thank you for taking good care of our friends\n",
      "1695\n",
      "I was solo women traveller from Australia wanted to cover All these favourite destination of my life but was not sure about company which company I should opt but this company was highly recommended to me by my friend Geeta who has been with this...\n",
      "\n",
      "            Show more\n",
      "1696\n",
      "India is lovely country and people bof India are very friendly and Taj Mahal is so much beautiful I am so sorry I am  not good writer overall I would say best tour of india\n",
      "1697\n",
      "I have been highly recommended to Amazing India Tours by my friend in Australia. Being a solo women traveller I was feeling scared but after meeting company staff at new Delhi airport all went smoothly and Amanda did great car of me all the time and...\n",
      "\n",
      "            Show more\n",
      "1698\n",
      "Everything was enjoyable. I loved Kerala, the scenery, the culture and above all, the people. We had a wonderful driver, Mr Sigin, who was just great. I'd love to come back to Kerala and would love to have him as a driver again. The guides in Kochi and...\n",
      "\n",
      "            Show more\n",
      "1699\n",
      "I was happy to meet the beautiful nature and calm people of South India.  The guides and drivers were also very good and it was a fulfilling week.\n",
      "1700\n",
      "The Tour Leader and driver delivered the services in a truly remarkable manner - absolutely enjoyable, relaxing and smooth. Thanks Indian Escape!!\n",
      "1701\n",
      "Our trip to Kerala was fantastic. Sailing on houseboats and riding a tuk-tuk are just a couple of the numerous unique experiences we were treated to. It was truly a journey of lifetime for my group. Thanks, Indian Escape.\n",
      "1702\n",
      "Exploring the coastal colonial heritage AND tremendous\n",
      "NATURAL beauty of Alleppey was an absolutely delightful heady experience. Thanks Rajiv FOR curating such a memorable tour.\n",
      "1703\n",
      "Kerala gave us so many delightful memories. From exploring pristine sandy beaches and lush forests to experiencing life aboard a houseboat with delectable local cuisine and observing nature in the backwaters - this trip was an experience of lifetime.\n",
      "1704\n",
      "LOCAL experiences were the highlight of our tour, amongst various other delightful distractions. Visiting India IS always an enriching experience. We warmly thank Indian Escape.\n",
      "1705\n",
      "Nature and culture has deep roots in the routine of Kerala and its people. We gained fond lifelong memories and and an perception of India!! Thanks Rajiv!\n",
      "1706\n",
      "Very good organization, timing and flexibility for specific needs.\n",
      "1707\n",
      "Excellent trip. Very satisfied !!!\n",
      "1708\n",
      "The best travel agency. The planning and timing by the agency was great. \n",
      "Accommodation was also good at 3 star hotels. The package was reasonable. Thanks to MTA.\n",
      "1709\n",
      "We are so glad we booked through this My Tour Advisor agency. The views and guides were great. The tour was the best day of our trip. Everyone should go there.\n",
      "Thanks to MTA Team for making my tour memorable.\n",
      "1710\n",
      "Tamil Nadu il spettacolare and Kerala full of charme.\n",
      "1711\n",
      "We enjoyed our guide, Mannish and driver, Venkey.  Mannish spoke English well and is knowledgeable about Hinduism and the sites we visited. He was very attentive to our needs. Venkey negotiated the travel with  exceptional skill. All local guides were...\n",
      "\n",
      "            Show more\n",
      "1712\n",
      "Kerala is a must in India. It is totaly different than other parts of the country : the nature, people, food, even driving manner))  Kerala is a pure joy to your eyes.\n",
      "1713\n",
      "We are  really enjoyed  Beach , Nature clean , food we love  again peace'full place\n",
      "1714\n",
      "Leave your itinerary to MTA guys and they will make your journey memorable one.\n",
      "1715\n",
      "Poor use of my time.\n",
      "Good plesant driver but inexperience.  Poor English. \n",
      "The structure of the tour was badly executed with parts being missed. Arriving to late to closing times. Arriving to early and waiting hours for a guide.Poor choice of guides....\n",
      "\n",
      "            Show more\n",
      "1716\n",
      "The guide in CHENNAI was speaking so fast I could not understand his English. If not he tried to show me so many things and I thank him for that\n",
      "\n",
      "The guide in Mahabalipuram was ok but he was not so knowledgeable\n",
      "The guide in Pondhichery was better and...\n",
      "\n",
      "            Show more\n",
      "1717\n",
      "Both Sathish (2 days) and Megesh (8 days) were excellent drivers and made us feel very welcomed.  They arrived exactly when arranged and the car was always clean and well stocked with water.\n",
      "\n",
      "All the guides were extremely knowledgeable and we learned...\n",
      "\n",
      "            Show more\n",
      "1718\n",
      "Fantastic alternative tour. Great experience with many emotions. Wonderful guide\n",
      "1719\n",
      "India is a bustling country with a lot to offer. Loved my experience travelling around this vast state.\n",
      "1720\n",
      "I had a great time. India  is beautiful. The tour was well organised. The leader Kanchan was wonderful. Thankfully I booked tour ending a few days before coronavirus outbreaks caused travel restrictions in India.\n",
      "1721\n",
      "This was our third trip to India and every experience has been better than before. This trip wad just incredible, Rajasthan is definitely the best part of India and something that needs to be spent a lot of time in. I think what also helped us...\n",
      "\n",
      "            Show more\n",
      "1722\n",
      "Amazing India Tours  arranged an absolutely fantastic trip for us. All the arrangements worked very well, the pickups and local information were great, the Hotels were wonderful and perfectly chosen, and also all had their unique qualities. We had a...\n",
      "\n",
      "            Show more\n",
      "1723\n",
      "Wonderful tour with excellent hotels and a first class Tour Services\n",
      "1724\n",
      "My Feb2020 Real Food Adventure by Intrepid was excellent   Our tour leader Abhi was very informative,helpful, flexible and an all around good guy.  There were only five of us on the tour so some days we would be driving and take a detour to see...\n",
      "\n",
      "            Show more\n",
      "1725\n",
      "Shakti was a great guide ensuring that the clients were all comfortable knowing what was happening and he was always able to answer cultural and historical questions. Shakti also went out of his way to make sure the group was always satisfied. From the...\n",
      "\n",
      "            Show more\n",
      "1726\n",
      "Shakti was very knowledgeable, flexible, helpful and attentive. The places we visited were generally interesting. The group all got along well and respected each other.\n",
      "1727\n",
      "Outstanding organisation of tour, especially the guide. I would also like to note the exceptional focus around food and restaurants and local cuisine\n",
      "1728\n",
      "Our guide, Chandrajeet, was fantastic. I cannot over exaggerate his level of dedication to not only our health and safety, but also to our enjoyment of the tour. There was no problem he could not solve and no request was treated as insignificant. His...\n",
      "\n",
      "            Show more\n",
      "1729\n",
      "Best Intrepid trip I’ve been on. Fabulous guide, balanced & enjoyable itinerary, brilliant group!\n",
      "1730\n",
      "Our guide Chandrajeet was so knowledgeable and enthusiastic about his country and culture, it gave me a true insight into this wonderful country which I truly appreciate and will never forget\n",
      "1731\n",
      "Our tour guide Chandrajeet was phenomenal. He helped to create a group and family whilst on tour, as well as ensuring our safety and comfort at all times. The places we visited were amazing; but the way in which they were brought to life by Chandrajeet...\n",
      "\n",
      "            Show more\n",
      "1732\n",
      "Overall just a fantastic experience. Chanderjeet was brilliantly knowledgable, open to any question and the itinerary worked well.\n",
      "1733\n",
      "Or your guide Chandrajeet, sites visited and events attended.\n",
      "1734\n",
      "Ashish and Kailash are a stunning couple, they guide us tru golden triangle with huge professionalism and quality, always on time, great knowledge about any fact and safety driving, the cleaning of car and also the great smile from both are priceless,...\n",
      "\n",
      "            Show more\n",
      "1735\n",
      "Very good value for cost of tour. Disappointed I was the only guest.  Extremely happy with Neeraj my driver, he kept me safe and lee good care of me.\n",
      "1736\n",
      "The tour was very enjoyable. The driver, guides and reps couldn’t do enough for us.  The online booking was good and all queries answered quickly.  The hotels were good all were 4/5 star.  Everything\n",
      "Went smoothly. I would definitely use Tour Radar again.\n",
      "\n",
      "            Show more\n",
      "1737\n",
      "A great tour with knowledgeable guides and reliable driver. Some of the hotels were not of the luxury standard we expected\n",
      "1738\n",
      "I think John Lenon wrote that is there is heaven on earth this is it...Though he was mentioning another part of India but I would like to correct him and say there is nothing like Rajasthan. This tour was just fantastic, we felt like royalty without...\n",
      "\n",
      "            Show more\n",
      "1739\n",
      "This tour was a wonderful first look at Indian monuments and history.  The company, driver and guides all made sure we were comfortable and well fed in every location.  We are glad we selected this tour.\n",
      "1740\n",
      "Overall tourist destination sites where good .  Important that you have a good driver . Take precautions , as your driver and certain tour guides will lead you to shops where they get commissions and where they sell expensive items. I must emphasise...\n",
      "\n",
      "            Show more\n",
      "1741\n",
      "We took up this took with an expectation to experience the hustle bustle of the colorful cities along with the view of a wonderful Taj Mahal, and we weren't disappointed. The Royal Jaipur with all the palaces and lakes were indeed something worth a...\n",
      "\n",
      "            Show more\n",
      "1742\n",
      "Our main focus was on Goa and beaches with Taj Mahal visit as it was our second with Amazing India Tours we were quite happy with all services so we have choosen this company because of hotels quality and impeccable services that we had and absolutely...\n",
      "\n",
      "            Show more\n",
      "1743\n",
      "Very good experience of india culture, food, people we are highly impressed with services of our driver Deepak who was with us for entire journey.\n",
      "\n",
      "Regards,\n",
      "Charlotte, Germany\n",
      "1744\n",
      "We wanted to this tour privately as want to organise all things as per our choice of hotels,. activities, sightseeing we were on honeymoon I would say places in this itinerary were fantastic for honeymoon travellers.\n",
      "\n",
      "I was highly recommended to Amazing...\n",
      "\n",
      "            Show more\n",
      "1745\n",
      "I am a tour operator myself and I needed a tour service for my clients from US. Since I wasn't going with the group I was looking for very reliable and honest service, and I found Amazing India Tours  company after a lot of research in Delhi. Amazing...\n",
      "\n",
      "            Show more\n",
      "1746\n",
      "Deepak took us all through New Delhi, Agra and Jaipur with great ease and friendliness. Seeing the sights that we wanted was always a breeze and well-planned. He gave us suggestions on where to eat and shop, and while we visited great sights\n",
      "1747\n",
      "Great planned out program I traveled with my class and class teachers from Denmark. We had some amazing 12 days, with a great planned program, so we got to see different cities in north India. Also had a very nice and helpful tour-guide. Overall a great...\n",
      "\n",
      "            Show more\n",
      "1748\n",
      "Had lovely experience of india we are very much satisfied with services\n",
      "1749\n",
      "I loved Mumbai a lot as this place is my Hometown where I have grow up and did my schooling. Thank you Meera, for such a outstanding tour of India with your such a professional team of guide, driver Deepak was a great who showed more places than...\n",
      "\n",
      "            Show more\n",
      "1750\n",
      "We were four women and come from Germany for Yoga and Mediation tour and we haa all good hotels in each cities and loved Taj Mahal alot and we are very happy with Golden Triangle Tour\n",
      "1751\n",
      "What a fabulous tour and I loved my yoga classes with professional trainer Amazing India Tours has been so professional to arrange everything for us we were group of 7 ladies from Australia and will travel with them again for next tour of india\n",
      "1752\n",
      "Excellent tour provided by Amazing India Tours we loved our guide sanjay and we thanked to our our driver Deepak.who has been so caring for us\n",
      "1753\n",
      "Just fantastic we loved 10 days tour with our private driver Deepak and took great care of us. no strees at all the hotels was provided for my family. Would highly recommend !\n",
      "1754\n",
      "After planning for a year, me and my wife and 8 other very close friends embarked on a tour of north India. Amazing India Tours was recommended to us by one of our friends. This tour company lived up to its reputation. It was a customized trip but they...\n",
      "\n",
      "            Show more\n",
      "1755\n",
      "My wife and I started our research on our upcoming India tour by sending out a few inquires over holidays.\n",
      "\n",
      "Garima from Amazing India Tours was the first to reply with full details and itinerary matching our request we had several email exchanges....\n",
      "\n",
      "            Show more\n",
      "1756\n",
      "we wanted to ecplore some forts and palaces area in rural rajasthan so this seems best India Heritage Golden Triangle Tour we had a private driver and car for india tour\n",
      "1757\n",
      "What a wonderful journey to India!\n",
      "\n",
      "I did my alot of research to find best tour of India for my family of 7 people and we inquired about hotels so many tour operators but Amazing India Tours hotels was best and price too.\n",
      "\n",
      "Happy with all services and...\n",
      "\n",
      "            Show more\n",
      "1758\n",
      "A lot to see in this tour we really enjoyed visiting of local villagers and people that has been very kind towards us while welcoming to us.\n",
      "\n",
      "We stayed in a very old forts that has been converted into hotels\n",
      "1759\n",
      "Lovely journey to Know India culture and village experience we really enjoyed the tour and we made this as per our choices and hotels was great and overall all I would say trip has been very satisfying for all of us.\n",
      "1760\n",
      "This company has been recommended to us by my friend who lives in india.\n",
      "\n",
      "We customized this tour as per our choices of hotels and other experience that we want to have on this tour.\n",
      "\n",
      "Amazing India Tours was flexible, Trustworthy, Professionalism as...\n",
      "\n",
      "            Show more\n",
      "1761\n",
      "I was solo traveller from Canada and booked a private tour so that i can enjoy all flexiblity of this golden Triangle Tour I am very much happy with all services\n",
      "1762\n",
      "What a beautiful country India is and we liked our driver Deepak and got impressed with all services\n",
      "1763\n",
      "I really wanted to visit Kolkata it was my birth place and I came to India with my family on this tour we are glad that all hotels has been choosen carefully and local English speaking guide helped us for buying entry tickets of monuments.\n",
      "\n",
      "My...\n",
      "\n",
      "            Show more\n",
      "1764\n",
      "What a fantastic tour of India with Amazing India Tours.\n",
      "\n",
      "Let me tell you truly that I was doing tour of Kerala with Cox and Kings After that, I joined the tour of with Amazing India tours what a difference I found that Amazing India Tours guides, and...\n",
      "\n",
      "            Show more\n",
      "1765\n",
      "We were staying in Singapore before heading to tour of India we had word this company as we had planned tour of India in short I can not thank so much for this company how prompt, professionally managed my india tour booking with great tour guide and...\n",
      "\n",
      "            Show more\n",
      "1766\n",
      "GeTS Holidays organised 6 days tour for us from mumbai to Goa and we throughly enjoyed it. \n",
      "GeTS kept us informed at every moment so as to make our trip hassle free and memorable. We would happily recommend it to any visitor to Mumbai.\n",
      "1767\n",
      "Went there last Month with help of GeTS Holidays. I loved the atmosphere. The churches and beaches are the best attractions, also I really loved the sea food this place offers. The climate is humid due to connectivity to the sea, and the people are very...\n",
      "\n",
      "            Show more\n",
      "1768\n",
      "I made it to Baga Beach on the last day and it kept me thinking, why i didn't visit it before. The beach is pretty clean with both foreign as well as Indian crowd. It is perfect to visit with your family as the waves aren't that high and the children...\n",
      "\n",
      "            Show more\n",
      "1769\n",
      "Trip of a lifetime. The organisation was tremendous and the Gets guides were superb. Could not recommend them more highly.\n",
      "1770\n",
      "Very well planned and organised tour. It's been a journey we will remember for a long time.\n",
      "1771\n",
      "The Ladakh experience was absolutely Incredible. I fell in love with Ladakh on this trip.\n",
      "1772\n",
      "This was the best experience i have ever done.Swastik India went above and beyond to make the tour entertaining and enjoyable.\n",
      "1773\n",
      "My experience with Swastik India Journeys was amazing. Thoroughly enjoyed our tour of Leh Ladakh.\n",
      "1774\n",
      "One of the best family tours we had in years. Thanks to Karni and Swastik India for organizing everything so quickly and perfectly.\n",
      "1775\n",
      "Very well organised. Lovely balance of historical buildings, information, shopping and downtime.Guides were very well informed and driver Makesh was great company. Being on my own, I felt well looked after\n",
      "1776\n",
      "il viaggio é stato splendido, tutto ben organizzato da Manish. Un grazie particolare alla nostra guida Amer, che ci ha accompagnato durante tutto il vaggio, un grande professionista e anche il driver Vikash.\n",
      "1777\n",
      "Great experience and  professional services\n",
      "1778\n",
      "The all three  guides are professional and  knowledgeable.  The route was interesting.  The driver is nice and work hard. Hotel  service was satisfactory.\n",
      "1779\n",
      "My partner and I thoroughly enjoyed our tour to rajasthan with Udaipur Jodhpur and Jaipur. We learned so much about the history of india, as well as the culture, tradition and architecture of Rajasthan. Our guide was fantastic! He was very patient and...\n",
      "\n",
      "            Show more\n",
      "1780\n",
      "I'm glad to share my experience with Divyan Holidays. We have planned our trip with Divyan Holidays for Delhi Agra Jaipur and it was amazing, perfect and everything went according to our plan. Our guide Mr. Deepak was very knowledgeable, he knew all the...\n",
      "\n",
      "            Show more\n",
      "1781\n",
      "I recently took the 5 Days Golden Triangle Tour and had an amazing experience. The hotels were excellent, and Manoj was always available for support. The driver had a smily face, and the tour guide had a jolly nature, which made the whole trip even more...\n",
      "\n",
      "            Show more\n",
      "1782\n",
      "We had an excellent time on our Golden Triangle Tour! The hotels were great, our driver was experienced and our guide was very knowledgeable. We would definitely recommend this tour to anyone looking for a great way to see India\n",
      "1783\n",
      "I took the 5 Days Golden Triangle Tour with Manoj and it was an amazing experience. The hotels were top-notch, the driver was experienced, and Manoj was an excellent Travel Agent in India. He was always ready to help and quick to respond to any...\n",
      "\n",
      "            Show more\n",
      "1784\n",
      "Divyan holidays is the best travel company I have ever come across. They know how to handle and travel services perfectly. I have been using their services since last year and I am very satisfied with their work. I would recommend Divyan holidays to...\n",
      "\n",
      "            Show more\n",
      "1785\n",
      "I have used the services of Divyan Holidays for my last two vacations and I have been extremely satisfied with their level of service. They are definitely the best travel service provider that I have come across. The staff is extremely professional and...\n",
      "\n",
      "            Show more\n",
      "1786\n",
      "Excellent driver that had me feeling safe on the Indian roads, Tour Guides that gave fantastic information each city, Hotels that gave me superior service at every turn.... excellent places to see.\n",
      "\n",
      "I was a Solo Female traveling alone so was...\n",
      "\n",
      "            Show more\n",
      "1787\n",
      "This is my first trip to India.\n",
      "Our driver anil was extremely safe, calm and warm as he navigated challenging traffic.. We felt so taken care of under his kind guidance and ready service.\n",
      "\n",
      "In Agra, our guide was flexible and warm, treating us to a...\n",
      "\n",
      "            Show more\n",
      "1788\n",
      "It is a great way to see the Delhi Agra Jaipur Trip ( golden triangle). Our tour was very organized. I felt very safe as a female ( me & my Mother) traveler from the USA. My driver Hariom did an excellent job. We felt really safe with his driving. He...\n",
      "\n",
      "            Show more\n",
      "1789\n",
      "I was highly impressed and  It is a great way to see the 4 days golden triangle. The whole tour was very organized.Thank you for the memorable experience. My Anil Sharma did an excellent job. He was very punctual, a safe driver.0 All the tour guides in...\n",
      "\n",
      "            Show more\n",
      "1790\n",
      "Thank you so much for taking us to Taj Mahal at sunrise time we clicked some photos for India Golden Triangle Tour we are glad to travel with tourradar\n",
      "1791\n",
      "Thank you so much for everything that your driver Deepak and all local guide has been best for this first time India tour we are happy that we have used Amazing India Tours\n",
      "1792\n",
      "Golden Triangle Tours Rocks!\n",
      "My friend and I decided to make a short trip to India. After researching tour companies on  Amazing India Tours we chose Golden Triangle Tours. Garima the company owner, was very helpful and responsive in putting together...\n",
      "\n",
      "            Show more\n",
      "1793\n",
      "I have a great time with Amazing India Tours, especially Holi Festival. But they have to announced extra fees like entrance fees, tips, etc That will help alot.\n",
      "1794\n",
      "Excellent services and we have taken many pictures on this tour I am glad with all services\n",
      "1795\n",
      "We did Private India Golden Triangle tour and stayed for three nights in Delhi as wanted all went well as per programme\n",
      "1796\n",
      "I was planning a trip to India but it was very difficult for me to decide with whom I should go after lot of search I found Amazing India Tours. I am so much thankful to them such an amazing people they helped us from planning the trip till the end. All...\n",
      "\n",
      "            Show more\n",
      "1797\n",
      "All services has been done perfectly we are glad that Amazing India Tours did complete the promise which is done to us that made truly professional company\n",
      "1798\n",
      "Please come! This is a tour full of history, adventues and share of knowledge. I've enjoyed it a lot!!! Great team guide (Sanjeev Paul) and driver (Sanjeev). It's a lifetime experience! I recommend this trip to anuone who wants to meet a very different...\n",
      "\n",
      "            Show more\n",
      "1799\n",
      "The tour was very well organized and structured. We have booked the tour for 2 participants so the guide was always available for all our questions and wishes. Also the driver fulfilled the wish we had and stopped where we wanted or needed a stop.\n",
      "1800\n",
      "Great tour, covering the key sites in the golden triangle and varanasi. Sanjeev (the guide) was very accomodating and helpful, willing to stay longer at interesting sites and accomodate any of my requests (such as the Jaipur fort light show). He also...\n",
      "\n",
      "            Show more\n",
      "1801\n",
      "The whole tour was wonderful.The best part was the stay at island.It was an unbelievable experience.\n",
      "1802\n",
      "The trip was amazing.Our driver Kamal made it really special.He had great knowledge about the route and nearby sightseeing places.We loved Indian food.Kamal was very helpful in choosing the best and affordable restaurants. We are thankful to the whole...\n",
      "\n",
      "            Show more\n",
      "1803\n",
      "It was an amazing trip. Everything on this tour exceeded our expectations. We highly recommend this trip.\n",
      "1804\n",
      "Fantastic!! We enjoyed every second of this tour. Loved staying at the island. It was a unique experience. We highly recommend this tour and Swastik India Journeys.\n",
      "1805\n",
      "It was an amazing tour. Full of life changing experiences.Would recommend to anyone.\n",
      "1806\n",
      "It was an amazing and a very unique tour. Everything was excellent but the best part of the tour was the stay at island. It was very peaceful and relaxing. We enjoyed fishing. The sunrise and sunset from the island look mesmerizing. Its beauty cannot be...\n",
      "\n",
      "            Show more\n",
      "1807\n",
      "One of the best experience provided.Dedicated, Professional and off course friendly.They are prompt for anything you need, whether you want slight change in plan during the trip or opt for some extra stuff.I can say that this is the best agency i have...\n",
      "\n",
      "            Show more\n",
      "1808\n",
      "The trip was excellent, all of us were enjoyed the trip to Taj Mahal and so does our Jaipur trip. The trip was nicely arranged by Saurav and his team in Agra was superb\n",
      "1809\n",
      "Tour of Manipur, Nagaland,Meghalaya .Assam and Bhutan,(East to West)\n",
      "\n",
      "Once again ,we have travelled with Ghumindiaghum ,this is the 5th time over the years and once again an outstanding tour we had with them ,with personal communication by the director...\n",
      "\n",
      "            Show more\n",
      "1810\n",
      "We had an awesome trip to delhi Agra Jaipur, which was arranged by ghum India ghum team. From day one to the very end of the trip everything was well planned and perfect. We had no worries. Our dear driver bhayya...deepak bhayya... He was soo cool and...\n",
      "\n",
      "            Show more\n",
      "1811\n",
      "From Delhi, to Jaipur, Agra and Varanasi, the Whole trip has been a discovery of all India has to donate to the ones that want to know her.\n",
      "Saurav was very attentive and precise; we had an excellent experience of travel and meetings with excellent...\n",
      "\n",
      "            Show more\n",
      "1812\n",
      "My sis and I had a wonderful experience because of the excellent planning and timely follow ups.\n",
      "1813\n",
      "I had a nice customized itinerary and visited multiple attractions within a short amount of time. Thanks MTA!\n",
      "1814\n",
      "Fantastic !!!!!! \n",
      "Mta is a perfect organization !\n",
      "1815\n",
      "Viaggio bellissimo organizzato con grande professionalità\n",
      "1816\n",
      "Wonderful tour to discover Rajasthan and Varanasi with Manish (our guide) who made this trip even more fascinating.\n",
      "A group of 7 friends from Italy...direction India. It wasn’t the first time in Asia, we had already arranged other trips independently....\n",
      "\n",
      "            Show more\n",
      "1817\n",
      "[Original Text] Ottima Organizzazione, guide molto brave e preparate, autista molto simpatico e disponibile. Consigliato vivamente!!\n",
      "1818\n",
      "[Original Text] Tour fantastico e guida eccellente! Sono stati 14 giorni di puro incanto.\n",
      "Nonostante le grandi distanze tra le diverse città da noi visitate (Delhi, Jodhpur, Jaipur, jaisalamer, Agra, Varanasi ed altre ancora ) la bravura e l'ottima...\n",
      "\n",
      "            Show more\n",
      "1819\n",
      "Our trip to India would not be as magnificent as it was without MTA\n",
      "15 days, 11 major stops, 2000 miles including 2 internal flights, camels and elephants - almost 20 people from MTA India met, drove, guided, fed, entertained, educated, accommodated,...\n",
      "\n",
      "            Show more\n",
      "1820\n",
      "The trip was varied and show me different sides of north India. there was big and small cities, different activities with animals, some more active and more layback activities, meals at local people, hopping opportunities, etc. The big plus was also my...\n",
      "\n",
      "            Show more\n",
      "1821\n",
      "This trip was very interesting and enjoyable and as with all of my Intrepid trips it was a great mix of activities and sights. The tour leader Akanksha, was fabulous as were my fellow travellers!\n",
      "1822\n",
      "This tour was more than a holiday. It was incredibly well organised such that we saw all the major sites across the trip locations. But more than that, it immersed us in Indian culture in a safe and accessible way. Our guide, Danesh, really added...\n",
      "\n",
      "            Show more\n",
      "1823\n",
      "I felt all the time safe and we got to see a lot of india and i dont got any complaint at all\n",
      "1824\n",
      "Incredibly well organised, stress free and incredible locations. My guide Dinesh went above and beyond to make it a wonderful trip.\n",
      "1825\n",
      "Because we had a great time and our guide Dinesh made the whole trip so much more than just visiting one location after another. The fact that transport was arranged removed all the stress from travelling around and having a local guide gave us a real...\n",
      "\n",
      "            Show more\n",
      "1826\n",
      "Sanjeev was attentive and made sure all bookings were made, seats allocated and he used his networks to find out information or get the best prices for his tour group.He is extremely knowledgeable in many varied areas and made the trip a pleasure!\n",
      "1827\n",
      "The tour is well organised, and has enough free time to explore individual interests. The guide is friendly and approachable. India is simply awesome. Will be returning.\n",
      "1828\n",
      "I took the Rajasthan Adventure in February 2016 with Intrepid and it was great! It was my first tour after having traveled extensively as a solo female travel, however I didn't want to tackle India on my own. The tour was well encompassed and the guide...\n",
      "\n",
      "            Show more\n",
      "1829\n",
      "I thoroughly enjoyed my tour and all the places we visited, with a huge thanks to Gajraj, our tour leader. His sense of humour and cheeky nature made the trip even more special - he is a true asset to your company. \n",
      "\n",
      "Everything ran to schedule and I...\n",
      "\n",
      "            Show more\n",
      "1830\n",
      "Let me tell you guys Taj Mahal such a wonder monument of the world and other places of india that we enjoyed with our heart and all sir very well planned if someone is truly want to enjoy their time and memorable experiences so will only recommend  this...\n",
      "\n",
      "            Show more\n",
      "1831\n",
      "We loved the our driver who took care of us alot and showed many places other than itineraries and wonderful arrangements by company\n",
      "1832\n",
      "I was very much worried about being solo traveller from canada to India so I searched this India Golden Triangle Tour with tiger and booked with deluxe package so that enjoy good comfortable of hotels in each city that I had and all was reasonable price...\n",
      "\n",
      "            Show more\n",
      "1833\n",
      "It was very lovely time we had on this tour we booked this India golden triangle tour with tiger and had to not worry on the tour everything was taken care by company we selected Deluxe package it was good hotels and we had local guides in each city who...\n",
      "\n",
      "            Show more\n",
      "1834\n",
      "Excellent tour and wonderful service we are happy with best India golden triangle tour.\n",
      "\n",
      "Highly recommended\n",
      "1835"
     ]
    },
    {
     "name": "stderr",
     "output_type": "stream",
     "text": [
      "100%|██████████| 2065/2065 [00:01<00:00, 1971.11it/s]"
     ]
    },
    {
     "name": "stdout",
     "output_type": "stream",
     "text": [
      "\n",
      "We are from USA and booked the tour with standard package and liked all the services it is one of the best India golden triangle tour with tiger we liked we have to take care of our only food and rest everything was taken care by company and had a...\n",
      "\n",
      "            Show more\n",
      "1836\n",
      "We were two women and flew from Canada to India we were met by our driver we had really professional guides and driver Deepak who was very engaging during the tour it is truly professional company\n",
      "1837\n",
      "what a wonderful tour of india we had! we will highly recommend tourradar\n",
      "1838\n",
      "It was my first tour to India  it was really very nice. The trip was amazing with a good service. I expect to visit India(other parts) again n got the same service. Guide: Sharma was very helpful, respectful, friendly. He well communicate he always...\n",
      "\n",
      "            Show more\n",
      "1839\n",
      "We arrived two days before starting the tour and booked pre accommodation with company and enjoy the tour very much and loved prices\n",
      "1840\n",
      "Had the most amazing time traveling Kashmir & ladakh. Enjoyed every minute of the tour.Our tour guide was fantastic. Showed us all the amazing spots.We would definitely recommend Swastik India to anyone looking to travel to Kashmir & Ladakh.\n",
      "1841\n",
      "It was amazing trip. Very well organised. Hotels were excellent. Best way to experience the beautiful Kashmir.\n",
      "1842\n",
      "Had a fantastic time in India! Great food and site seeing. Many thanks to Neeraj for helping us along the way - there were a few hick ups regarding hotels but he was always responsive and on call to help us along the way.\n",
      "1843\n",
      "Shakeer is a great guide, knowledgable and fun. It was great driving around safely abd comfortably in his taxi, and he also has a tuktuk which is very fun. As a woman alone, he looked after me well and made sure I was having a good tjme abd nig being...\n",
      "\n",
      "            Show more\n",
      "1844\n",
      "Exceptional tour! The hotels varied in quality (Brahma Horizon was definitely the Best, Taurus Sarovar Portico was without a doubt the worst) but throughout our time in India, we were treated with respect and welcome by the tour guides in each city, all...\n",
      "\n",
      "            Show more\n",
      "1845\n",
      "Our driver Maharaj Singh and his brother were the best and ensured that we travelled safely and smoothly between cities. The local guides offered great insights into the monuments and background from their vast experiences. I especially liked Jimmy from...\n",
      "\n",
      "            Show more\n",
      "1846\n",
      "I really enjoyed the flexibility of the tour, especially the travel times on the travel days and the ability to tell the guides what we wanted to see so they could incorporate it into the tour. Most of the hotels were very nice and the staff were always...\n",
      "\n",
      "            Show more\n",
      "1847\n",
      "Had an amazing trip through India with Raj Travels & Tours. A well-paced itinerary allowed for plenty of sightseeing and the standard of accommodation was excellent throughout. The guides in each city were extremely knowledgable and contributed to an...\n",
      "\n",
      "            Show more\n",
      "1848\n",
      "A really enjoyable morning!\n",
      "1849\n",
      "We loved everything about our trip to India!  We enjoyed the wonderful sights, sounds, people and food.  Having our own amazing driver, Mr. RAM, and a guide, provided a safe and personalized tour experience.\n",
      "1850\n",
      "My husband friend and I had a fabulous holiday experience touring Delhi & Rajasthan organised very efficiently by geTs tours. From the moment we were picked up from the airport in Delhi until our return to the airport for our flight home went smoothly....\n",
      "\n",
      "            Show more\n",
      "1851\n",
      "We had a great time on this trip. It was well worth our time and money. Our driver was very friendly and attentive to all our wishes and needs. The van that we had all along was neat and tidy, and catered to all the expectations. \n",
      "The Taj was impressive...\n",
      "\n",
      "            Show more\n",
      "1852\n",
      "Apart from the food that wad a little too spicy for us to handle everything else was handled fantastically.  Kudos to the team for doing a great job,  they ensured everything went as per or more than our expectations. We would highly recommend the team...\n",
      "\n",
      "            Show more\n",
      "1853\n",
      "Exciting adventure in India...made possible by GeTS\n",
      "I highly recommend this company to put together a most memorable adventure. I just had the best experience of my life with GeTS in India. Everything about my 19 days traveling around India flowed...\n",
      "\n",
      "            Show more\n",
      "1854\n",
      "What a brilliant trip, amazing country, great coordination, lovely guides and drivers. Would highly recommend them and Tour radar. Was a little sceptical ign the beginning because of what we had read on Social Media but was a very different and...\n",
      "\n",
      "            Show more\n",
      "1855\n",
      "We  -  my husband,two children and me too this tour  are pleased to say that it was executed well. We will take another of its tour of South India  sometime later this year.  Thank you.  Saroj\n",
      "1856\n",
      "Lovely time we had, thank you so much. My kids loved the special attention and especially the camel ride, even though quite scary for them. Loved the girls you chose for us, the drivers you arranged and the guides who became our story tellers ( wish...\n",
      "\n",
      "            Show more\n",
      "1857\n",
      "Simply superb ... just everything! Trusted company and no regrets whatsoever... shall travel with them again soon . Thank you Tour Radar !\n",
      "1858\n",
      "GeTS Holidays made a tailored made private tour of 3 weeks-long holiday in northern India. The organisation was impeccable, very smooth and seamless, we didn't faced a single problem during the whole trip. Drivers, travel agency representatives in all...\n",
      "\n",
      "            Show more\n",
      "1859\n",
      "Namaste! We had an exceptional experience! It was such a wonderful surprise. Amazing hospitality from arrival to the time we departed. Everyone at the company was so humble and good-natured. Our tour companion/driver Mr. Prakesh Sharma is more than...\n",
      "\n",
      "            Show more\n",
      "1860\n",
      "Good value for money\n",
      "\n",
      "considering what the tour covers \n",
      "(driving,sighting,hotels,breakfasts,tolls,driver ,guides ,etc )  \n",
      "you will only be up for ( driver and guides) tips and Monuments fees,and meals\n",
      "\n",
      "my tour driver Taket Singh  had fun and helpful anf...\n",
      "\n",
      "            Show more\n",
      "1861\n",
      "I had an excellent Journey exploring the northern part of India, all thanks to KK Holidays for their excellent services. I could explore every city at ease and taste delicious Indian dishes. The guide was very informative and toured me around on a...\n",
      "\n",
      "            Show more\n",
      "1862\n",
      "What a brilliant trip it was ! I now truly believe the difference in it was not only the breathtaking beauty of India but also with our driver kamal . We felt safe, secure and he was kind, courteous and always looking out for our best interests. He took...\n",
      "\n",
      "            Show more\n",
      "1863\n",
      "We had an amazing time with our driver Kamal on this trip . He was so amazing that I cannot describe all the qualities over this . \r\n",
      "The hotels were great specially the Jaipur & Udaipur one . Food was great & the hospitality we recieved was amazing ....\n",
      "\n",
      "            Show more\n",
      "1864\n",
      "A pocket friendly tour . The tour was very well prepared by K K Holidays . If you want to explore the beauty of Taj mahal & royalty of Maharajas this is the best trip to look forward . \r\n",
      "Hotels were 3 star with all modern amenities . Vehicle provided...\n",
      "\n",
      "            Show more\n",
      "1865\n",
      "Take lots of water and comfortable walking attire\n",
      "1866\n",
      "It is worth going on it.\n",
      "1867\n",
      "You need to be fit and mobile.  It is a full-on trip and many places are inaccessible if you have trouble walking. \r\n",
      "Apart from this it is a great introduction to the culture of India. February was an ideal time to go - warm and dry, day and night.\n",
      "1868\n",
      "It's full-on but that means you see lots in a short space of time.\n",
      "1869\n",
      "The group we were with got on very well which made this holiday even more enjoyable. Tommy was exceptional and took his role very seriously.\n",
      "1870\n",
      "Thanks Explore. I will be using you again\n",
      "1871\n",
      "The tour was well-paced, managing to pack a lot in to a week. Our guide was very knowledgeable, friendly and helpful.\n",
      "1872\n",
      "It was an amazing experience\n",
      "1873\n",
      "We had such a great time on our tour with Creative India Holidays! I cannot recommend Manish and his team enough. He and our wonderful driver, Rakesh, were flexible when we had last-minute flight changes. Rakesh is very polite and friendly, and a great...\n",
      "\n",
      "            Show more\n",
      "1874\n",
      "Initially, I was unsure about traveling to India, but luckily I found Manish Jain from Creative India Holidays. He helped me a lot with all the 5 Days Golden Triangle Tour arrangements. I feel safe to travel and explore India with Manish, and the best...\n",
      "\n",
      "            Show more\n",
      "1875\n",
      "I planned a 6 days golden triangle tour with my parents from the creative india holidays, the trip was fantastic, and they had a great trip, thanks to the tour organizer Mr. Manish Jain's well-planned itinerary where we enjoyed many beautiful places in...\n",
      "\n",
      "            Show more\n",
      "1876\n",
      "I was female solo traveller from Australia and did India golden triangle tour and booked deluxe package with tourradar and happy with all services I had tour guides was helpful for me to show me monuments and markets and had delicious food in India and...\n",
      "\n",
      "            Show more\n",
      "1877\n",
      "I have researched alot before booking the tour then I found this best India golden triangle tour and has included so many things and booked with tourradar I am happy and I was met by driver rajesh in night and he took me to pre booked hotel and then did...\n",
      "\n",
      "            Show more\n",
      "1878\n",
      "We are couple from Australia and booked the best India golden triangle tour with deluxe package we have got good value of service's from tourradar and my driver deepak met me at night at New Delhi airport and took us for tour 7 days and glad we had...\n",
      "\n",
      "            Show more\n",
      "1879\n",
      "It was best experience  i have booked a tour with tourradar we liked guides services and hotels was amazing we visited taj Mahal and other places best india golden triangle tour we are happy with our driver rajesh who was well experience\n",
      "1880\n",
      "The experience to India was amazing!\n",
      "1881\n",
      "Right from the start of our tour we were  relaxed in the knowledge that WTX (Prakash at Delhi in particular) was understanding of our needs and requirements which we appreciated.\n",
      "Our driver (Rakesh) was excellent throughout the many kilometres we...\n",
      "\n",
      "            Show more\n",
      "1882\n",
      "All went well with the Tour and we had an excellent, experienced driver and local guides met us efficiently at each destination. We saw some amazing places and the hotels were mostly very good. The only thing was that we had wanted a small group tour...\n",
      "\n",
      "            Show more\n",
      "1883\n",
      "Driver from Airport to Resort spoke NO English/millions of questions I had . Froze me out of car! .Took 5 hours to arrive . Paid for 4 Star . Seemed like a 3 ! Food was very poor . Did not even have a real cup of coffee., just instant Nescafé . NO heat...\n",
      "\n",
      "            Show more\n",
      "1884\n",
      "We had been to Africa before this for a safari trip and thought it couldn't get better than that, but wow were we surprised. The experience between the two continents is so vast while Africa has abundant wildlife India has so much more of an exciting...\n",
      "\n",
      "            Show more\n",
      "1885\n",
      "GeTSHolidays did an excellent job in organizing this tour. \r\n",
      "From the itinerary , to accommodations to transportation it was all great. \r\n",
      "We were a bit comprehensive booking an Indian company for our trip but we are very happy that we did. They were...\n",
      "\n",
      "            Show more\n",
      "1886\n",
      "our tour guide from Taj holiday's Mr.Muhit Rajput made our Kerala tour perfect.He is a perfect gentlemen and always in touch with us during our tour.\n",
      "1887\n",
      "The best tour by the company welcome by representative at airport, in munnar must experienced elephant ride and only preferred luxury houseboat in Alleppey for stay.\n",
      "1888\n",
      "Had a tour for Kerala we had a great time.\n",
      "1889\n",
      "House boat tour was awesome and spice plantation tour\n",
      "1890\n",
      "If you visit India, I highly recommend going with Ghum India Ghum. They are by far one of the best tour companies we've ever travelled with! My partner and I booked a 2 week private customised tour from Singapore, and it was the best way for us to...\n",
      "\n",
      "            Show more\n",
      "1891\n",
      "My tour of Rajasthan and Mumbai with Mta Destinations was really great trip. All the guides were knowledgeable. Itinerary includes a great mix of activities, Our driver Jwala was always on time and very experienced driver. All the accommodations were...\n",
      "\n",
      "            Show more\n",
      "1892\n",
      "Amazing services organized by MTA Destinations.\n",
      "We booked a family holiday with Mta Destinations, and we were really happy to have chosen them. \n",
      "All sightseeing were planned well, drivers was courteous too. All of us were really happy.\n",
      "Thanks MTA for...\n",
      "\n",
      "            Show more\n",
      "1893\n",
      "The driver did not know the itinerary and the place of the trip, car without GPS. Driver without manners and poor English...not recommandable for this price!\n",
      "1894\n",
      "We have travelled from Delhi to Agra with our three year old child. The driver was nice and drove us around for 3 days, in Agra and Delhi, the car was clean and comfortable, I don’t know if is possible to get car seat for kids, we didn’t get one. \n",
      "I...\n",
      "\n",
      "            Show more\n",
      "1895\n",
      "Was a very complete tour, amazing places visited\n",
      "1896\n",
      "Wow. All I can say is WOW. If you're thinking of going to trip, GO with this tour. If you need a travel planner, use this company. It will be among the most memorable and excellent trips of your life. \r\n",
      "It was truly a life-changing experience.\n",
      "1897\n",
      "I am a regular wildlife photographer and chose this trip to see free tigers in their own territory. Everything was curated and managed with a high level of care and Manish and his team was always in touch to take care of each and every aspect of the...\n",
      "\n",
      "            Show more\n",
      "1898\n",
      "Must do trip to Rajasthan\n",
      "1899\n",
      "Excellent Golden Triangle tour. Highly Recommended tour\n",
      "1900\n",
      "This trip was excellent from pick up to drop off With ITS HOLIDAYS . The three guides were excellent Poja andRishiall well informed and budding david baileys! You will get some amazing photos.Anil the driver was amazing those roads say no more. It's...\n",
      "\n",
      "            Show more\n",
      "1901\n",
      "It was aweome trip with ITS HOLIDAYS. very knowlegable and friendly tour guides. The driver Amar is always on time, patient and helpful. The tour guide in Agra , Ayush  is very good with photo taking and know the best places to take awesome pictures....\n",
      "\n",
      "            Show more\n",
      "1902\n",
      "i am booked 5 days golden triangle tour with ITS HOLIDAYS.The tour was really good. The tour guides were well informed and friendly. Our driver Mr Anil was great given the traffic. We added in a elephant safarii at Amber Fort, worth the extra time and...\n",
      "\n",
      "            Show more\n",
      "1903\n",
      "This trip was excellent from pick up to drop off With ITS HOLIDAYS INDIA . The three guides were excellent  arif and Rishi  all well informed and budding Kamal ! You will get some amazing photos. sonu  the driver was amazing those roads say no more....\n",
      "\n",
      "            Show more\n",
      "1904\n",
      "I would like to thanks ITS Holidays team, who orgnaize our Golden Triangle Tour. I really enjoyed this trip and I highly recommend it.\n",
      "1905\n",
      "The tour locations and sites were very nice and amazing places to visit and take pictures.  The driver was very attentive, accommodating, and excellent.  The tour guides were varied in each city, each had their own style and were very knowledgeable,...\n",
      "\n",
      "            Show more\n",
      "1906\n",
      "I had an amazing trip! There were some unpleasant things along the way, but I am still satisfied with the service provided. On safety aspects, GetsHolidays has done a terrific job. There was never a moment I felt unsafe during the trip. The...\n",
      "\n",
      "            Show more\n",
      "1907\n",
      "My Mumbai Trip 2016. From the start, while planning and arranging the trip, Gets holidays staff was helping me with all my needs and travel plans. The trip was arranged with a personal transport and the person who took us around was of great help , who...\n",
      "\n",
      "            Show more\n",
      "1908\n",
      "I had the most wonderful tour of the Golden Triangle. It was more than I could ever have imagined.  My driver and the 4 guides that I had on this tour were excellent.  Very knowledgeable with the history of each City.  I highly recommend Tourradar for...\n",
      "\n",
      "            Show more\n",
      "1909\n",
      "Well if you have doubts about going to India then going with GhumindiaGhum will definitely change your mind ,not only you will fall in love with India but you will fall in love with this Travel company like I and my other friends have  as I have...\n",
      "\n",
      "            Show more\n",
      "1910\n",
      "Overall the trip was brilliant. We did the 8 day Indian Golden Triangle with Varanasi. Ghum India Ghum were amazing at organizing everything, and were super quick to respond to questions or to help us if needed. All of the guides were very polite and...\n",
      "\n",
      "            Show more\n",
      "1911\n",
      "very good service from the tour group and guides hired were very knowledgable!\n",
      "Would definitely recommend it to others visiting india!\n",
      "1912\n",
      "It is very worth as everyone will be settled for you. There is no worry for us and that is very appreciated. You'll have flexibility as well in regards to the itinerary even after confirmation. Highly recommended\n",
      "1913\n",
      "The organiser is excellent and cordial. He is helpful and goes extra mile to keep the traveller happy\n",
      "1914\n",
      "Great guides with excellent knowledge of history. They explained the background in great detail for novice like us to understand  and they were all extremely polite. Nice and clean SUV and the driver was professional and very helpful. I will strongly...\n",
      "\n",
      "            Show more\n",
      "1915\n",
      "This tour was the best! Awesome and knowledgeable tour guides who are more like close friends than tour guides. Amazing views and great people!\n",
      "1916\n",
      "Turban Adventures did a great job planning our trip. All of the tour guides were informative and easy to understand. The hotels met our expectations. Our driver Monu was kind and made us feel comfortable. Manohar provides great service and is very...\n",
      "\n",
      "            Show more\n",
      "1917\n",
      "in the end of 2019, I spent 15 nights in India with Turban Adventures. We visited: Delhi, Amritsar, Varanasi, Khajuraho,Agra, Jaipur, Udaipur, Jodhpur and Mumbai. Everything was percfect! I extremely reccomend to all my friends to also use Turban...\n",
      "\n",
      "            Show more\n",
      "1918\n",
      "A big thank you for the Turban Adventures and Manohar mainly the guy behind it who plan for us a very magnificent tour around north India. A very nice guy down to earth taking care of each and every person and also making sure everything going up to the...\n",
      "\n",
      "            Show more\n",
      "1919\n",
      "Well organized trip to see India's finest buildings, monuments & to experience Indian culture. Details of the trip were efficient & well communicated. Our driver took great care to ensure our safety & always had an immaculate car. Our Tour Guides were...\n",
      "\n",
      "            Show more\n",
      "1920\n",
      "India was the last stop on a multi-week Southeast and South Asia tour. As our time in India was limited, we worked with Manohar and his staff to design the itinerary that worked best for us. We spent a day in Agra, saw the Taj Mahal at both sunset and...\n",
      "\n",
      "            Show more\n",
      "1921\n",
      "We were taken very good care of in our private tour with this company. The absolute best was our driver, Mr. Neeraj Kumar, always on time, always helpful, and a very safe driver. Most of our guides in the different towns we visited were very patient and...\n",
      "\n",
      "            Show more\n",
      "1922\n",
      "I feel really good about writing this experience of mine after conducting Golden Triangle trips to India ,organized by Raj tour .It was really an unforgettable amazing trip for me .And also I feel like I have to visit again soon . It was really a smart...\n",
      "\n",
      "            Show more\n",
      "1923\n",
      "I just got back from Delhi. I must say it was a wonderful tour organized by Raj tours I felt so comfortable although it was my first trip at that foreign land. The vehicle we traveled in is very comforble. Our driver, Neeraj has been very friendly and...\n",
      "\n",
      "            Show more\n",
      "1924\n",
      "Would recommend this Company. Personnal service, tour tweaked to suit our needs. Nothing was too much trouble.\n",
      "1925\n",
      "Looked after well, recommended\n",
      "1926\n",
      "I just finished a trip to North India. After a rather frustrating searching for a tour company with the flexibility to meet our needs, we found GeTS Holidays. From our first contact with our GeTS representative, Catherine Wang, to the very last day of...\n",
      "\n",
      "            Show more\n",
      "1927\n",
      "My first trip ever to India and I ended up having the time of my life. Many awesome attractions to see and all thanks to my driver and guide and of course GeTS Holidays, the company that arranged it all, everything went smoothly. The best part of the...\n",
      "\n",
      "            Show more\n",
      "1928\n",
      "The exceptional service, attention to detail and prompt replies from the GeTS Holidays staff turned my simple one day tour query into an 10 day adventure. My travel consultant Mr. Divakar delivered an itinerary for a stunning adventure including cities...\n",
      "\n",
      "            Show more\n",
      "1929\n",
      "This was the trip of a lifetime . First time to India & had the best time. Negi our awesome driver answered questions when asked, slowed down or stopped to take photos. Hotels were carefully chosen with all amentities . safari was on time & we had the...\n",
      "\n",
      "            Show more\n",
      "1930\n",
      "This was a great experience but... And it's a big BUT: this is not for everyone. Coming to India would be a life changing experience and if you're willing to open your heart and lower your expectations, you will have great fun! Unfortunately for me...\n",
      "\n",
      "            Show more\n",
      "1931\n",
      "As I only had a week and wanted to see the main attractions in the India, I thought it will be a challenge for the company but they did it with ease.. With only one day in Delhi, I managed to see five main attractions, going from one to the other in the...\n",
      "\n",
      "            Show more\n",
      "1932\n",
      "We recently travelled on this tour with K K . It was a fabulous tour with good selection of hotels , guides, driver , everything . It went so flawless that we never felt any difficulty during the tour . \n",
      "I can strongly recommend them..\n",
      "1933\n",
      "I booked a trip to Kerala for 4 nights through Kerala Holiday Club. It was a wonderful experience. Everything was perfectly arranged and we had no issues throughout our trip. I would definitely recommend Kerala Holiday Club for holiday bookings.\n",
      "1934\n",
      "Thank you so much for providing best tour guides for my India golden Triangle tour I am glad with all hotels and its services that you promised to us we will highly recommend your tour company to our friends in USA\n",
      "1935\n",
      "I was searching best India golden Triangle Tour for first time visit to India and seen many tours were available on cheap prices but their services was not up to the mark and guides i was not happy what hotels they were offering I found this India...\n",
      "\n",
      "            Show more\n",
      "1936\n",
      "All went perfect on India Luxury India Golden Triangle Tour that we hoped before booking it and enjoyed the sites and Highly Recommended\n",
      "1937\n",
      "we have travelled on India Golden Triangle Tour as one of my friends suggested highly for india it was best tour with this company we are glad\n",
      "1938\n",
      "We were highly recommend this tour company because its professional driver and local guides they provide to customer and we did also had great experience of India and we are very much happy with Luxury India Golden Triangle Tour\n",
      "1939\n",
      "I booked the Luxury India Golden Triangle tour to get best hotels and good guides in each city as other tour was not able to do the same for us we are happy with all services that we hoped and Highly Recommended\n",
      "1940\n",
      "It was lovely experience of india golden triangle with goa we had a lot fun in Goa and saw many churches in Goa and beaches also we had professional driver and lovely knowledgeable tour guide in each city we are happy with this organisation services\n",
      "1941\n",
      "Thank you for your all your hardwork that Amazing India Tours did for our memorable tour we will never forget incredible experience of india\n",
      "1942\n",
      "We have alot of time in india my friend Danny suggested me this company for golden triangle tour of India we had nice and clean accommodation in each city hotels was located in city centre we had a lovely professional and knowledgeable tour guides in...\n",
      "\n",
      "            Show more\n",
      "1943\n",
      "India Golden Triangle tour is one of the best tour of India we did this as private and had local guides in each cities we loved all places and Highly Recommended\n",
      "1944\n",
      "We have been highly recommended this tour company for India golden triangle tour with shimla we talked with Amazing India Tours expert and we got educated, professional and knowledgeable tour guides in each city with whom we got lovely conversation over...\n",
      "\n",
      "            Show more\n",
      "1945\n",
      "Me and my Husband travel to India Golden Triangle Tour from England and upgraded our accommodation five star hotels we had a private tour in India we loved it\n",
      "1946\n",
      "I am female traveller from South Africa and I am happy with rooms and hotels my guide took me too many historical sites that I liked it is professional company and trustworthy\n",
      "1947\n",
      "Best holiday that we have booked with this company and lovely people of India we are photography lovers so took many pictures of Delhi and other city\n",
      "1948\n",
      "We have done India Golden Triangle Tour with my friends we wanted to get good hotels and nice and clean with good food to eat so we have loved this company arrangements\n",
      "1949\n",
      "Well organised  luxury india golden triangle tour, a really good mix of activities and locations, excellent  tour leader we had great time in the hotels\n",
      "1950\n",
      "we are glad with tour guides he did on the tour what we wanted to cover and hotels was good and had breakfast in the hotels we are happy with all services\n",
      "1951\n",
      "One of my friends has travelled with this tour company and we saw many temples and monuments and did some shopping in local market being a solo traveller from Canada i was bit nervous to join this tour after doing as private tour i felt very safe and...\n",
      "\n",
      "            Show more\n",
      "1952\n",
      "Outstanding!  Unbelievable trip of a LIFETIME!!!  Taj-Destinations did a phenomenal job arranging our Golden Triangle Tour plus a stop in Ranthambore to look for tigers.  We had a private car the entire way; Gopal, our driver truly spoiled us.  Hotels...\n",
      "\n",
      "            Show more\n",
      "1953\n",
      "Raju was a great driver. The guides had knowledge about everything I asked. I'm also very happy with the communication with the agency. I recommend this travel package! FYI as a woman traveling alone in India, I never felt unsafe during this trip with...\n",
      "\n",
      "            Show more\n",
      "1954\n",
      "9 Day Golden Triangle Tour with Ranthambore with 4 Star hotels was an amazing experience. I found him on Trip advisor and everything from communicating with the tour manager, Jitender ( amazing guy ) to every aspect of the tour, we felt like we were in...\n",
      "\n",
      "            Show more\n",
      "1955\n",
      "Our driver: Zakkir was an all round great bloke. He was always polite, always smiley and never failed to brighten our mornings. He ensured we were comfortable and was a very safe driver. 5/5.\n",
      "\n",
      "Locations: Locations on this tour were great, brilliantly...\n",
      "\n",
      "            Show more\n",
      "1956\n",
      "Davinder was our driver and he was particularly accommodating. He went out of his way to make sure we were comfortable. Overall a great experience with very knowledgeable guides. Would recommend for future tourists.\n",
      "1957\n",
      "We did the Golden Triangle Tour With Udaipur 8 Days Trip And were really satisfied with GeTS Holidays Services. Everything was Well Planned And Hotel Selection were very Good.They did their best to accommodate all our requirements. Our driver (Mr Kamal)...\n",
      "\n",
      "            Show more\n",
      "1958\n",
      "The experience of trip way exceeded our expectations. Driver Ajay was a great company and he is a professional with knowledge. All hotels were excellent with superb breakfast every morning. We had great flexibility with our time . Dealing with every...\n",
      "\n",
      "            Show more\n",
      "1959\n",
      "Gets holidays is the best holiday tour you can go for. It's definitely worth every cent. It was my very first trip to India and it was the best trip!\n",
      "\n",
      "Just give them the details on what is needed and they just draw up the whole scale for you. From...\n",
      "\n",
      "            Show more\n",
      "1960\n",
      "my sister and his husband done wildlife kanha and bandhavgarh national tiger safari  tour by  Real viaggi India . our driver was pick us from jabalpur   airport and he dropped it Bandhavgarh hotel. next day I started my tour sightseeing  first time I...\n",
      "\n",
      "            Show more\n",
      "1961\n",
      "This tour allowed me to see a lot of the most popular attractions in India. The accommodations I selected were for a budgeted journey (i.e. American one-or-two star hotels). Most of the guides were able to speak and understand English at the...\n",
      "\n",
      "            Show more\n",
      "1962\n",
      "My friend and I went on this tour together in Jan 2020 and we loved absolutely all of it. The hotels were great, mostly clean and great service. The tour guides allocated were also good and informative. \n",
      "We were especially happy with our driver for the...\n",
      "\n",
      "            Show more\n",
      "1963\n",
      "We used Ghum India Ghum on our India tour and their service was phenomenal. Driver Mr Pravin was always on time and every morning greeted with smile. All guides were very knowledgeable . Highly recommended\n",
      "1964\n",
      "We loved the tour and driver Deepak who had been very kind and polite towards us we loved all the places and good tour for Himalayas lovers\n",
      "1965\n",
      "India is amazing this tour was ok.\n",
      "1966\n",
      "I was single traveller from Australia and being student I did not have much money and decided to travel on India Golden Triangle Tour and did it private so that I can love all flexibility on the tour.\n",
      "\n",
      "Thank you for good services\n",
      "1967\n",
      "Our Itenary said we were going to the Taj Mahal at dawn ,when we arrived in Agra on Thursday morning we were told it was closed on Fridays,no one told us this before hand.Our guide wanted to take us there in the middle of the day ,it was 45 degrees I...\n",
      "\n",
      "            Show more\n",
      "1968\n",
      "The tour was very well organised ,hotels were excellent and better than we expected. Drivers were polite and helpful and the guides all had excellent levels of knowledge and brilliant communication skills. Asif Khan our liaison point was very helpful...\n",
      "\n",
      "            Show more\n",
      "1969\n",
      "My family and I had a wonderful experience with GeTS Holidays Heritage Trails and Castles Tour. I worked with the company's representative to customize our itinerary and found them very flexible. We enjoyed seeing the main tourist sites of the Golden...\n",
      "\n",
      "            Show more\n",
      "1970\n",
      "I love it, i had a very good experience with this travel company and i enjoyed alot\n",
      "1971\n",
      "We booked our trip with GeTS Holidays and they were fantastic from start to finish! We got picked up from hotel in Delhi for trip to train station then train to Agra. Once there we met our guide Rakesh and taxi driver Arjun who stayed with us...\n",
      "\n",
      "            Show more\n",
      "1972\n",
      "The trip was all that we had hoped. Our driver, Ravi Sharma, particularly, was important to the trip's success. He not only navigated in such a way that we felt safe at all time, he answered our questions on many topics about India and helped us find...\n",
      "\n",
      "            Show more\n",
      "1973\n",
      "Excellent tour and amazing hospitality, loved the guides at each point and the stories that were shared.  Drivers were very knowledgeable and knew the destinations really well, kept us entertained all the time. Would surely travel with this company if...\n",
      "\n",
      "            Show more\n",
      "1974\n",
      "Absolutely amazing,  great guides and team. Never been treated so well anywhere in the world, just felt like royalty. Would surely use their services again id we'r cone back ti this side of the world. Only drawback that the food was too spicy for us....\n",
      "\n",
      "            Show more\n",
      "1975\n",
      "We highly recommend our two week long trip from Chennai to Kochi. The agent Anu from tourradar and the agents Vaseem and Rita from GeTSHoliday accompanied us perfect from the first till the last second. They fulfilled all our wishes so that my husband...\n",
      "\n",
      "            Show more\n",
      "1976\n",
      "the maim problem we had was with some of the accommodation and the guide at Thanjavur. The guide at Thanjavar was far more interested in her phone than us  we felt like an inconvenience to her day.\n",
      " A couple of the hotel were out of the way .I think...\n",
      "\n",
      "            Show more\n",
      "1977\n",
      "On the whole it was an ok tour. The car was clean and comfortable. The drivers were courteous, on time and professional. \n",
      "The first hotel was good. Jaipur Central Hotel was not good. It is not clean. We have to use soapy water to clean all the counter...\n",
      "\n",
      "            Show more\n",
      "1978\n",
      "Three days trip the golden triangle tour of India was one of the best experience we have ever had with a best hotels which came into our budget. And if you do the tour with this tour company you would surely gonna say that the tour is worthy enough\n",
      "1979\n",
      "It was a great experience to explore the beauty of india by opting a private tour. I enjoyed the tour and would love to recommend the tour\n",
      "1980\n",
      "It was an outstanding trip to India. We all really enjoyed the tour.\n",
      "1981\n",
      "It was a great tour. Everything was well organised and we would like to recommend it\n",
      "1982\n",
      "India has a long historical stories and Golden triangle tour had a lot of modern and ancient history which is excellent. I had a great time in India and operator has served me a great service\n",
      "1983\n",
      "Wonderful trip to Delhi Agra and Jaipur. These major cities are very historical. They have their own historical stories.\n",
      "1984\n",
      "My and my friends had a wonderful time in India. Operator was responsive and accommodating. We would be recommending the company for the india tour package\n",
      "1985\n",
      "India has a lot to explore specially a heritage monuments. I have visited the northern India as it was my first trip to India. And my experience was really good. I would surely appreciate the efforts by the tour operator\n",
      "1986\n",
      "I had a wonderful tour to Delhi Agra and Jaipur. Everything was perfect well and we recommend it\n",
      "1987\n",
      "We were highly recommended for this India golden Triangle tour by our friends in Singapore we stayed in good hotels in each city and did breakfast and enjoyed the sights we are happy with guides and driver during the tour.\n",
      "\n",
      "Highly Recommended\n",
      "1988\n",
      "We have booked this tour for our first visit to India and loved the village people and did some jeep Safari of crocodile and hotels has been good and local guide we had was able to answer all the important questions I would say highly professional company\n",
      "1989\n",
      "-Excellent organization -Always felt safe -Had a great tour -Brilliant leader\n",
      "1990\n",
      "had an awesome experience with Amazing India Tours I got to know about them from one of my friend's recommendation and now I'll definitely recommend them to all my contacts.\n",
      "\n",
      "A special thanks to Michael for all your coordination to make our trip...\n",
      "\n",
      "            Show more\n",
      "1991\n",
      "we were on budget and did not have much money to stay in five star hotels we found this tour on tourradar and booked for two people I was happy with hotels and tour guides they provide Amazing India Tours is Truly professional company on tourradar...\n",
      "\n",
      "            Show more\n",
      "1992\n",
      "What a amazing experience of Rajasthan tour with Taj Mahal!\r\n",
      "\r\n",
      "After a lot reading so many magazine about India we have selected this tour company and tour on Google where we got all relevant information on email from Tourradar and Amazing India Tours...\n",
      "\n",
      "            Show more\n",
      "1993\n",
      "I found this tour very attractive than others and we are bird lover so we have opted for this tour and did it privately\n",
      "1994\n",
      "we were from USA and wanted to explore India Golden Triangle with Rishikesh and I wanted to see religious places of India my friend recommended me this tour company and i we are happy with all guides and driver of company they were professional\n",
      "1995\n",
      "It was wonderful and memorable experience of india golden triangle tour with Corbett National Park we loved our driver Deepak who had taken good care of us from beginning of the tour.\n",
      "1996\n",
      "All has been very much satisfactory for us we were group of six students from Turkey and communicated with Amazing India Tours Team and booked the tour through Tourradar overall everything was excellent.\n",
      "\n",
      "My suggestion to traveller if you are booking...\n",
      "\n",
      "            Show more\n",
      "1997\n",
      "we were from USA and it was group of six ladies and travelled together on this tour we wanted to learn about some yoga and mediation we stayed in Ashram and also saw Taj Mahal on this Yoga and Meditation with India Golden Triangle Tour.\n",
      "\n",
      "Very happy the...\n",
      "\n",
      "            Show more\n",
      "1998\n",
      "The most perfect tour our driver Neeraj Number 1 driver was so helpful always on time and could not do enough to make everything perfect. All the guides at the different locations were excellent, must mention Rishi at Agra the guy cares so much about...\n",
      "\n",
      "            Show more\n",
      "1999\n",
      "The tour from Mumbai to Taj Mahal was perfect, very well organized on time and enjoyable. Transfers were very safe, the tour guide was very smart and kindness. The trip car + flight is very long and tiring, but perfect if you have just few days free,...\n",
      "\n",
      "            Show more\n",
      "2000\n",
      "The places we visited were very nice, the tour guides was very helpful.\n",
      "2001\n",
      "Highly Recommended and one of the best tour for India.\n",
      "2002\n",
      "Jay did a great job managing this tour, he always available himself with professionalism. He was always approachable and happy to answer any questions or deal with any concerns at all hours of the day.\n",
      "2003\n",
      "An absolutely fantastic experience Amit and his team were professional and friendly the whole time. We are from the UK - mother & daughter and travelling through India after for 3 weeks. We had some particular requirements and alterations such as hotels...\n",
      "\n",
      "            Show more\n",
      "2004\n",
      "It was a very well organised tour! All ran like clockwork and our driver really looked after us. All the guides were fantastic, especially Hussein in Agra. We mostly stayed two night in each location, which allowed us some rest, since the distances are...\n",
      "\n",
      "            Show more\n",
      "2005\n",
      "Goa, the part of the trip we were looking forward to the most was a total disaster.  They booked us in some hotel so far away from everything that drivers didn't even know where it was. No pool, no restaurant - nothing.  They admitted that they could...\n",
      "\n",
      "            Show more\n",
      "2006\n",
      "This was a most enjoyable experience at all levels, the company was excellent, food and hotels of a very high standard and the sights and history we encompassed well beyond my expectations. A special mention of our tour leader Bagghi who was unfailing...\n",
      "\n",
      "            Show more\n",
      "2007\n",
      "I would give this tour 6 stars out of 5 if I could! This is the second time I have chose this company (last time was our 1st Anniversary - this was the 10th) and we could not thank them enough. We could not fault the service and attention to detail in...\n",
      "\n",
      "            Show more\n",
      "2008\n",
      "We loved Kashmir, it is stunningly beautiful. The quality of service provided by our tour operator, GeTs Holidays was excellent. We will not hesitate to use their services again during any of our future trips to India or recommend them to any other...\n",
      "\n",
      "            Show more\n",
      "2009\n",
      "We booked this tour as it was supposed to include the Pushkar fair but the tour left Pushkar on the day the tour started.\n",
      "2010\n",
      "I recently did two tours with GeTS Holidays - one week in Kashmir, and one week in Ladakh. Overall I would recommend this company. They respond quickly and professionally to your inquiry. They are very accountable during the trip, with readily...\n",
      "\n",
      "            Show more\n",
      "2011\n",
      "The tour was well curated with amazing fort stay near Udaipur . It's an old fort & a treat for history lovers . Driver and guides were good . Enjoyed the trip .\n",
      "2012\n",
      "Great trip !! Really enjoyed !\n",
      "2013\n",
      "We had a fabulous time on our India tour with Swastik India. Guides had amazing knowledge about the places. They were very patient in answering all our questions. I would highly recommend this trip to anyone interested in India.\n",
      "2014\n",
      "Overall great experience.\n",
      "Our driver Mahindra was definitely the highlight of the tour, great driving skills, very kind and helpful.\n",
      "The hotel were all generally quite nice, a part from a couple (the one in Agra was probably the worst, the ones in...\n",
      "\n",
      "            Show more\n",
      "2015\n",
      "The tour was absolutely fantastic and everything i imagined it would be. All places were amazing and each guide was very knowledgeable and helpful. If you are considering going to India book this tour. Highly recommended.\n",
      "2016\n",
      "Had a great experience on this tour. Visited India several times but this was my first time in Rajasthan. This tour offered a great experience of Rajasthan. Loved the whole tour. Team Swastik was always there to assist me.\n",
      "2017\n",
      "It was a real value for money tour. Had a great time throughout the trip. Highly recommended.\n",
      "2018\n",
      "We loved this tour and all the places we visited. Our first time to India and this was a great way to experience this unique country. We would recommend this tour as great value for money.\n",
      "2019\n",
      "I highly recommend this tour. A great tour for the first time travelers to India as you get to see and experience so much. Team swastk india was always there to assist me during the tour.\n",
      "2020\n",
      "The tour was great and fantastic. Guides and driver were knowledgeable and helpful.We came home with lots of memories which we will remember for the rest of our lives.\n",
      "2021\n",
      "It was a great tour of Rajasthan. Itinerary was very professionally designed.All hotels were excellent.Guides were knowledgeable and helpful.\n",
      "2022\n",
      "The tour was very well organised. All hotels were excellent.Guides were professional and helpful. We'll definitely book another tour with Swastik India.\n",
      "2023\n",
      "We had a great trip for our visit to India, Saurav arranged everything very well. All of us were very happy with his work. From the airport pick up, hotel and golden triangle tour arrangements. You can ask him about anything to make your India trip...\n",
      "\n",
      "            Show more\n",
      "2024\n",
      "I started the tour with some sight seeing in Delhi and continue with Agra and Jaipur tour. It was an amazing trip especially for solo trip and the first timer in India. Mr. Tarun Joshi and Rajesh from Agra both are very professional. They take care of...\n",
      "\n",
      "            Show more\n",
      "2025\n",
      "Thank you so much for your help in organising our trip. We had an absolutely \n",
      "fantastic time, helped by your company amazing organisation and all your great staff. We are very pleased to share our recent travel experiences which was organized by My Tour...\n",
      "\n",
      "            Show more\n",
      "2026\n",
      "The tour was supremely well organised and the historic places we went to were beautiful. The programme was varied,...\n",
      "\n",
      "            Show more\n",
      "2027\n",
      "A good tour that went quite smoothly.  A couple of the hotels didn't have hot water which put a dampened on the...\n",
      "\n",
      "            Show more\n",
      "2028\n",
      "The Road to Jordan 16 day trip was wonderful.  The group was wonderful.  The guides were excellent, knowledgeable,...\n",
      "\n",
      "            Show more\n",
      "2029\n",
      "I was considering doing this sightseeing on my own. But I am so glad I chose this tour! The driver was excellent always on time and happy to greet us! We became quick friends. The driver was always ready to help us. The tour guides were very informative...\n",
      "\n",
      "            Show more\n",
      "2030\n",
      "What an excellent tour! We thought about doing this on our own but I am so glad we did the tour instead! Our driver was excellent. Good communication. Friendly. On time. Felt safe driving. Each guide was terrific. Knowledgeable.\n",
      "2031\n",
      "Find out other things you can do on this trip as you will have a lot of time in your hands\n",
      "2032\n",
      "Great tour- they were also flexible with sites to visit and adding extra nights\n",
      "2033\n",
      "This was our first time to India and we booked a tour to eliminate the stresses of organizing our itinerary of local tours and accommodation. \n",
      "Alkof was good at communicating and accommodating our wishes when planning the trip. Our tour manager met us...\n",
      "\n",
      "            Show more\n",
      "2034\n",
      "Fantastic tour & places to visit.  Lots of traveling by road mainly, on scenic interesting mountain windy roads.  Fascinating country.\n",
      "2035\n",
      "Overall a great experience. The guides at each stop were very well informed and our driver was great too!\n",
      "\n",
      "Would recommend this trip to everyone :)\n",
      "\n",
      "Rahul\n",
      "2036\n",
      "Our Golden Triangle tour is truly unforgettable. Their tour packages are amazing, and I think everyone should take advantage of them. I have no qualms about recommending them to anyone. Do your best work constantly, gentlemen.\n",
      "2037\n",
      "The driver and tour guide did everything he could to make us feel at ease where he didn't come through for us. After our successful partnership, I have no doubt that we will be able to collaborate with the organisation again. There was a lot of laughter...\n",
      "\n",
      "            Show more\n",
      "2038\n",
      "Our family had enjoyed the trip alot from delhi to agra to jaipur and return to delhi. The whole experience with the driver and tour guide was flawless. Every detail of the sight seeing places were explained in proper manner. The itinerary of 4 days is...\n",
      "\n",
      "            Show more\n",
      "2039\n",
      "The 4 day golden triangle tour is really amazing as we cover the golden highway places in it. I would definitely suggest everyone to take their tour packages which is phenomenal. I am going to recommend them to everyone without any issues at all. Keep...\n",
      "\n",
      "            Show more\n",
      "2040\n",
      "Superb help for customers and excellent service overall. When I needed assistance planning a city trip of Delhi, they were there for me, and the driver's people skills were superb. Always prompt, always clean, always comfortable, and always the right...\n",
      "\n",
      "            Show more\n",
      "2041\n",
      "I have good experience\n",
      "2042\n",
      "It was really great experience with them, very professional. Great trip planning and excellent support throughout the trip days by the team . Kudos to Imperial Holdays !! I would definitely plan more trips with them.\n",
      "2043\n",
      "The tour (especially the driver and the guides) was great.\n",
      "The only thing is that in the original program the step wells between Agra and Jaipur were included and these just disappeared from the program unfortunately.\n",
      "2044\n",
      "Definitely it is the best option to know the most important places in Delhi, Agra and Jaipur.\n",
      "\n",
      "The experience is excellent with the service of the air-conditioned van and cold drinks on all routes, the driver's disposition and desire to help is unique....\n",
      "\n",
      "            Show more\n",
      "2045\n",
      "Had a wonderful experiences and an awesome trip in India. My wife and I are Thankful to Raj tours for providing exceptional personality to show us India in ways we would have never been able to.\r\n",
      "Many Thanks to Luvkesh our Driver for his simplicity and...\n",
      "\n",
      "            Show more\n",
      "2046\n",
      "Very Disappointed!! First - most hotels were either at bad area or remote locations. Aggressive tour guides, we had a couple of nice lady tour guides, but others either lured us to a very expensive restaurant and ordered something not on the menu, or...\n",
      "\n",
      "            Show more\n",
      "2047\n",
      "I’ll never forget the unique experience. The tour wouldn't have been the expect without team, its amazing tour!\n",
      "2048\n",
      "Thank you so much for wonderful planning of tour we are highly satisfied with hotels and tour guides different we are glad that we have chosen this travel company.\n",
      "2049\n",
      "The trip was a great introduction to India. Its really fast paced and you don't get much time to yourself.\n",
      "2050\n",
      "The trip was amazing, our driver Manoj, and all the local guides were excellent. Overall it was a fantastic trip, and I recommend this tour and the company to all, who are planning to visit this beautiful country - India. Thank You.\n",
      "2051\n",
      "Loved our Yogi Anand who taught us dragonball Asans we'r had never experience back in the US. Taj Mahal was much more beautiful than expected. All arrangements far exceeded our expectations. We'r would give this tour a five star for sure.\n",
      "2052\n",
      "Thanks a lot for giving us a memorable holiday in your beautiful country. Every part of our trip has been wonderful and very well organised and everyone we have met have been friendly and helpful. We take lots of positive experiences back to our...\n",
      "\n",
      "            Show more\n",
      "2053\n",
      "Amazing in one word. Great destinations, lovely monuments,  perfect utilization of time and very good guides. The only thing bad was the food too spicy, don't be adventurous like us and tell the chef NO spices, not like us that be gentle. Gentle is also...\n",
      "\n",
      "            Show more\n",
      "2054\n",
      "I must say Gets Holidays is the best reliable souce to book your holidays to India.\n",
      "2055\n",
      "​I have decided in evening at 06:00 pm the night before that I want to join a day tour to Taj Mahal the next day. The next day, the driver showed up at our hotel at 6 am and took me on my journey. Around 4.5 hour car ride from Delhi to Agra, we were met...\n",
      "\n",
      "            Show more\n",
      "2056\n",
      "A great combination of temples and the best beaches I have seen ever. Even beat Hawaii where we were last year for the pristine beauty. Especially loved the attention we got from the Gets staff, they were really good , make you feel like a Maharaja :))...\n",
      "\n",
      "            Show more\n",
      "2057\n",
      "The trip covered Dharmashala, Palampur, Shimla, Manali and Rohtang Pass. When we contacted the agency, the representative Ms Mokshada was very quick in designing our trip and accommodating all our needs. Before travelling they send us their app which...\n",
      "\n",
      "            Show more\n",
      "2058\n",
      "Somebody rightly said Kerala is God's own country. We have been all around the world but never experienced anything like Kerala. We had decided on traveling to Kerala quite some time back but were not sure where to go which resort to stay in as all...\n",
      "\n",
      "            Show more\n",
      "2059\n",
      "It was an immense pleasure working with this prestigious Tour company. I had sent many requests to various companies but this company met all my needs and preferences. The work was done by the professionals and politely responded to every query...\n",
      "\n",
      "            Show more\n",
      "2060\n",
      "It was great time with our tour guide Mr. Ankur by Aalin tours in Agra. He led me to great history and culture of India with very specialized knowledge. Friendly and considerable guide made me feel more comfortable and enjoyable. Tourists who want to...\n",
      "\n",
      "            Show more\n",
      "2061\n",
      "Fantastic trip! Everything was well organised and extremely satisfied with all the services delivered\n",
      "Highly recommended!!!\n",
      "2062\n",
      "First time travel to India made us feel that India is one of the best country to visit once in a life. It was a Golden triangle tour with pushkar which is amazing tour package which gives a chance to see the Rajasthani culture including the Taj Mahal....\n",
      "\n",
      "            Show more\n",
      "2063\n",
      "Everything went the way we want it to be. We were 21 people and had an amazing trip to delhi, agra , Jaipur and pushkar. Highly recommended the tour\n",
      "2064\n",
      "Mohd is the best ever tour guide i have ever found in my life. I took him for a guided tour for golden triangle and he picked me up from Delhi airport and we started the tour together.\r\n",
      "\r\n",
      "Delhi - It is a capital of India and a very busy city but worth...\n",
      "\n",
      "            Show more\n"
     ]
    },
    {
     "name": "stderr",
     "output_type": "stream",
     "text": [
      "\n"
     ]
    }
   ],
   "source": [
    "for i in tqdm(range(len(df))):\n",
    "    print(i)\n",
    "    review = df['Review'][i][:512]\n",
    "    print(review)"
   ]
  },
  {
   "cell_type": "code",
   "execution_count": null,
   "metadata": {
    "colab": {
     "base_uri": "https://localhost:8080/"
    },
    "id": "M3TMJj2RtU6O",
    "outputId": "bed27604-f84a-4674-cf15-57f35885d52f"
   },
   "outputs": [
    {
     "data": {
      "text/plain": [
       "index                                                    1872\n",
       "Unnamed: 0                                               1872\n",
       "Destination_link                                       124657\n",
       "Review              Thanks Explore. I will be using you again\n",
       "Sentiment Score                                             5\n",
       "Name: 1870, dtype: object"
      ]
     },
     "execution_count": 41,
     "metadata": {},
     "output_type": "execute_result"
    }
   ],
   "source": [
    "df.iloc[1870]"
   ]
  }
 ],
 "metadata": {
  "colab": {
   "provenance": []
  },
  "kernelspec": {
   "display_name": "Python 3 (ipykernel)",
   "language": "python",
   "name": "python3"
  },
  "language_info": {
   "codemirror_mode": {
    "name": "ipython",
    "version": 3
   },
   "file_extension": ".py",
   "mimetype": "text/x-python",
   "name": "python",
   "nbconvert_exporter": "python",
   "pygments_lexer": "ipython3",
   "version": "3.9.12"
  },
  "widgets": {
   "application/vnd.jupyter.widget-state+json": {
    "06ef305ba4334d1c8668f1acff0a9c1b": {
     "model_module": "@jupyter-widgets/controls",
     "model_module_version": "1.5.0",
     "model_name": "DescriptionStyleModel",
     "state": {
      "_model_module": "@jupyter-widgets/controls",
      "_model_module_version": "1.5.0",
      "_model_name": "DescriptionStyleModel",
      "_view_count": null,
      "_view_module": "@jupyter-widgets/base",
      "_view_module_version": "1.2.0",
      "_view_name": "StyleView",
      "description_width": ""
     }
    },
    "07899d79617b447fb8ff2652aac3f9de": {
     "model_module": "@jupyter-widgets/controls",
     "model_module_version": "1.5.0",
     "model_name": "HBoxModel",
     "state": {
      "_dom_classes": [],
      "_model_module": "@jupyter-widgets/controls",
      "_model_module_version": "1.5.0",
      "_model_name": "HBoxModel",
      "_view_count": null,
      "_view_module": "@jupyter-widgets/controls",
      "_view_module_version": "1.5.0",
      "_view_name": "HBoxView",
      "box_style": "",
      "children": [
       "IPY_MODEL_27d098e0868b4d41a777794560fa8073",
       "IPY_MODEL_bd9aa39a03874b57b3df424cced7eb9a",
       "IPY_MODEL_2777e4f755854609936d81a4d599970d"
      ],
      "layout": "IPY_MODEL_943e2f94dcf647e2b2252e102c929de6"
     }
    },
    "1af9fefddef84d24bd0a8c36a1ad2e84": {
     "model_module": "@jupyter-widgets/controls",
     "model_module_version": "1.5.0",
     "model_name": "ProgressStyleModel",
     "state": {
      "_model_module": "@jupyter-widgets/controls",
      "_model_module_version": "1.5.0",
      "_model_name": "ProgressStyleModel",
      "_view_count": null,
      "_view_module": "@jupyter-widgets/base",
      "_view_module_version": "1.2.0",
      "_view_name": "StyleView",
      "bar_color": null,
      "description_width": ""
     }
    },
    "1c44062b50cd45f4b9c1c073ebd30b53": {
     "model_module": "@jupyter-widgets/controls",
     "model_module_version": "1.5.0",
     "model_name": "ProgressStyleModel",
     "state": {
      "_model_module": "@jupyter-widgets/controls",
      "_model_module_version": "1.5.0",
      "_model_name": "ProgressStyleModel",
      "_view_count": null,
      "_view_module": "@jupyter-widgets/base",
      "_view_module_version": "1.2.0",
      "_view_name": "StyleView",
      "bar_color": null,
      "description_width": ""
     }
    },
    "2033c840af5f4e8891bda382af7cb08b": {
     "model_module": "@jupyter-widgets/base",
     "model_module_version": "1.2.0",
     "model_name": "LayoutModel",
     "state": {
      "_model_module": "@jupyter-widgets/base",
      "_model_module_version": "1.2.0",
      "_model_name": "LayoutModel",
      "_view_count": null,
      "_view_module": "@jupyter-widgets/base",
      "_view_module_version": "1.2.0",
      "_view_name": "LayoutView",
      "align_content": null,
      "align_items": null,
      "align_self": null,
      "border": null,
      "bottom": null,
      "display": null,
      "flex": null,
      "flex_flow": null,
      "grid_area": null,
      "grid_auto_columns": null,
      "grid_auto_flow": null,
      "grid_auto_rows": null,
      "grid_column": null,
      "grid_gap": null,
      "grid_row": null,
      "grid_template_areas": null,
      "grid_template_columns": null,
      "grid_template_rows": null,
      "height": null,
      "justify_content": null,
      "justify_items": null,
      "left": null,
      "margin": null,
      "max_height": null,
      "max_width": null,
      "min_height": null,
      "min_width": null,
      "object_fit": null,
      "object_position": null,
      "order": null,
      "overflow": null,
      "overflow_x": null,
      "overflow_y": null,
      "padding": null,
      "right": null,
      "top": null,
      "visibility": null,
      "width": null
     }
    },
    "204ab9e06b714fbd99f92fdad56a0844": {
     "model_module": "@jupyter-widgets/controls",
     "model_module_version": "1.5.0",
     "model_name": "DescriptionStyleModel",
     "state": {
      "_model_module": "@jupyter-widgets/controls",
      "_model_module_version": "1.5.0",
      "_model_name": "DescriptionStyleModel",
      "_view_count": null,
      "_view_module": "@jupyter-widgets/base",
      "_view_module_version": "1.2.0",
      "_view_name": "StyleView",
      "description_width": ""
     }
    },
    "261c5312d8184a13bb481d16777a167f": {
     "model_module": "@jupyter-widgets/controls",
     "model_module_version": "1.5.0",
     "model_name": "HBoxModel",
     "state": {
      "_dom_classes": [],
      "_model_module": "@jupyter-widgets/controls",
      "_model_module_version": "1.5.0",
      "_model_name": "HBoxModel",
      "_view_count": null,
      "_view_module": "@jupyter-widgets/controls",
      "_view_module_version": "1.5.0",
      "_view_name": "HBoxView",
      "box_style": "",
      "children": [
       "IPY_MODEL_fa980ce467f948f3854576da6dd66fc2",
       "IPY_MODEL_4f3baf5c734445f498b1e639d221ca30",
       "IPY_MODEL_e1c48422d464448096946dc26b589d79"
      ],
      "layout": "IPY_MODEL_943d7e7730ee4ccb81986446e9a4dc8d"
     }
    },
    "2777e4f755854609936d81a4d599970d": {
     "model_module": "@jupyter-widgets/controls",
     "model_module_version": "1.5.0",
     "model_name": "HTMLModel",
     "state": {
      "_dom_classes": [],
      "_model_module": "@jupyter-widgets/controls",
      "_model_module_version": "1.5.0",
      "_model_name": "HTMLModel",
      "_view_count": null,
      "_view_module": "@jupyter-widgets/controls",
      "_view_module_version": "1.5.0",
      "_view_name": "HTMLView",
      "description": "",
      "description_tooltip": null,
      "layout": "IPY_MODEL_e2427ea28ade4bb48dc76d8ac3031f2a",
      "placeholder": "​",
      "style": "IPY_MODEL_564827ebaa6c49f89fb6f417da2109fb",
      "value": " 39.0/39.0 [00:00&lt;00:00, 1.66kB/s]"
     }
    },
    "27d098e0868b4d41a777794560fa8073": {
     "model_module": "@jupyter-widgets/controls",
     "model_module_version": "1.5.0",
     "model_name": "HTMLModel",
     "state": {
      "_dom_classes": [],
      "_model_module": "@jupyter-widgets/controls",
      "_model_module_version": "1.5.0",
      "_model_name": "HTMLModel",
      "_view_count": null,
      "_view_module": "@jupyter-widgets/controls",
      "_view_module_version": "1.5.0",
      "_view_name": "HTMLView",
      "description": "",
      "description_tooltip": null,
      "layout": "IPY_MODEL_8f50938dfe6546a8b996abcf5b663a89",
      "placeholder": "​",
      "style": "IPY_MODEL_06ef305ba4334d1c8668f1acff0a9c1b",
      "value": "Downloading (…)okenizer_config.json: 100%"
     }
    },
    "2efd24899aec4cb59847cce5bf271baa": {
     "model_module": "@jupyter-widgets/base",
     "model_module_version": "1.2.0",
     "model_name": "LayoutModel",
     "state": {
      "_model_module": "@jupyter-widgets/base",
      "_model_module_version": "1.2.0",
      "_model_name": "LayoutModel",
      "_view_count": null,
      "_view_module": "@jupyter-widgets/base",
      "_view_module_version": "1.2.0",
      "_view_name": "LayoutView",
      "align_content": null,
      "align_items": null,
      "align_self": null,
      "border": null,
      "bottom": null,
      "display": null,
      "flex": null,
      "flex_flow": null,
      "grid_area": null,
      "grid_auto_columns": null,
      "grid_auto_flow": null,
      "grid_auto_rows": null,
      "grid_column": null,
      "grid_gap": null,
      "grid_row": null,
      "grid_template_areas": null,
      "grid_template_columns": null,
      "grid_template_rows": null,
      "height": null,
      "justify_content": null,
      "justify_items": null,
      "left": null,
      "margin": null,
      "max_height": null,
      "max_width": null,
      "min_height": null,
      "min_width": null,
      "object_fit": null,
      "object_position": null,
      "order": null,
      "overflow": null,
      "overflow_x": null,
      "overflow_y": null,
      "padding": null,
      "right": null,
      "top": null,
      "visibility": null,
      "width": null
     }
    },
    "300eb5b5c15042f58eac544e9752fd7e": {
     "model_module": "@jupyter-widgets/controls",
     "model_module_version": "1.5.0",
     "model_name": "DescriptionStyleModel",
     "state": {
      "_model_module": "@jupyter-widgets/controls",
      "_model_module_version": "1.5.0",
      "_model_name": "DescriptionStyleModel",
      "_view_count": null,
      "_view_module": "@jupyter-widgets/base",
      "_view_module_version": "1.2.0",
      "_view_name": "StyleView",
      "description_width": ""
     }
    },
    "328ddaab7a7948e0a343c28c4eec0ab3": {
     "model_module": "@jupyter-widgets/base",
     "model_module_version": "1.2.0",
     "model_name": "LayoutModel",
     "state": {
      "_model_module": "@jupyter-widgets/base",
      "_model_module_version": "1.2.0",
      "_model_name": "LayoutModel",
      "_view_count": null,
      "_view_module": "@jupyter-widgets/base",
      "_view_module_version": "1.2.0",
      "_view_name": "LayoutView",
      "align_content": null,
      "align_items": null,
      "align_self": null,
      "border": null,
      "bottom": null,
      "display": null,
      "flex": null,
      "flex_flow": null,
      "grid_area": null,
      "grid_auto_columns": null,
      "grid_auto_flow": null,
      "grid_auto_rows": null,
      "grid_column": null,
      "grid_gap": null,
      "grid_row": null,
      "grid_template_areas": null,
      "grid_template_columns": null,
      "grid_template_rows": null,
      "height": null,
      "justify_content": null,
      "justify_items": null,
      "left": null,
      "margin": null,
      "max_height": null,
      "max_width": null,
      "min_height": null,
      "min_width": null,
      "object_fit": null,
      "object_position": null,
      "order": null,
      "overflow": null,
      "overflow_x": null,
      "overflow_y": null,
      "padding": null,
      "right": null,
      "top": null,
      "visibility": null,
      "width": null
     }
    },
    "3aec502e4b1e42c8be0073f0734b353e": {
     "model_module": "@jupyter-widgets/base",
     "model_module_version": "1.2.0",
     "model_name": "LayoutModel",
     "state": {
      "_model_module": "@jupyter-widgets/base",
      "_model_module_version": "1.2.0",
      "_model_name": "LayoutModel",
      "_view_count": null,
      "_view_module": "@jupyter-widgets/base",
      "_view_module_version": "1.2.0",
      "_view_name": "LayoutView",
      "align_content": null,
      "align_items": null,
      "align_self": null,
      "border": null,
      "bottom": null,
      "display": null,
      "flex": null,
      "flex_flow": null,
      "grid_area": null,
      "grid_auto_columns": null,
      "grid_auto_flow": null,
      "grid_auto_rows": null,
      "grid_column": null,
      "grid_gap": null,
      "grid_row": null,
      "grid_template_areas": null,
      "grid_template_columns": null,
      "grid_template_rows": null,
      "height": null,
      "justify_content": null,
      "justify_items": null,
      "left": null,
      "margin": null,
      "max_height": null,
      "max_width": null,
      "min_height": null,
      "min_width": null,
      "object_fit": null,
      "object_position": null,
      "order": null,
      "overflow": null,
      "overflow_x": null,
      "overflow_y": null,
      "padding": null,
      "right": null,
      "top": null,
      "visibility": null,
      "width": null
     }
    },
    "409f211810d34ce7b7deb76eb0d34a5a": {
     "model_module": "@jupyter-widgets/base",
     "model_module_version": "1.2.0",
     "model_name": "LayoutModel",
     "state": {
      "_model_module": "@jupyter-widgets/base",
      "_model_module_version": "1.2.0",
      "_model_name": "LayoutModel",
      "_view_count": null,
      "_view_module": "@jupyter-widgets/base",
      "_view_module_version": "1.2.0",
      "_view_name": "LayoutView",
      "align_content": null,
      "align_items": null,
      "align_self": null,
      "border": null,
      "bottom": null,
      "display": null,
      "flex": null,
      "flex_flow": null,
      "grid_area": null,
      "grid_auto_columns": null,
      "grid_auto_flow": null,
      "grid_auto_rows": null,
      "grid_column": null,
      "grid_gap": null,
      "grid_row": null,
      "grid_template_areas": null,
      "grid_template_columns": null,
      "grid_template_rows": null,
      "height": null,
      "justify_content": null,
      "justify_items": null,
      "left": null,
      "margin": null,
      "max_height": null,
      "max_width": null,
      "min_height": null,
      "min_width": null,
      "object_fit": null,
      "object_position": null,
      "order": null,
      "overflow": null,
      "overflow_x": null,
      "overflow_y": null,
      "padding": null,
      "right": null,
      "top": null,
      "visibility": null,
      "width": null
     }
    },
    "43bd2a34d9854d90a467c593841093c9": {
     "model_module": "@jupyter-widgets/controls",
     "model_module_version": "1.5.0",
     "model_name": "DescriptionStyleModel",
     "state": {
      "_model_module": "@jupyter-widgets/controls",
      "_model_module_version": "1.5.0",
      "_model_name": "DescriptionStyleModel",
      "_view_count": null,
      "_view_module": "@jupyter-widgets/base",
      "_view_module_version": "1.2.0",
      "_view_name": "StyleView",
      "description_width": ""
     }
    },
    "4e5d4c8aea9045b6b292392238b3b806": {
     "model_module": "@jupyter-widgets/base",
     "model_module_version": "1.2.0",
     "model_name": "LayoutModel",
     "state": {
      "_model_module": "@jupyter-widgets/base",
      "_model_module_version": "1.2.0",
      "_model_name": "LayoutModel",
      "_view_count": null,
      "_view_module": "@jupyter-widgets/base",
      "_view_module_version": "1.2.0",
      "_view_name": "LayoutView",
      "align_content": null,
      "align_items": null,
      "align_self": null,
      "border": null,
      "bottom": null,
      "display": null,
      "flex": null,
      "flex_flow": null,
      "grid_area": null,
      "grid_auto_columns": null,
      "grid_auto_flow": null,
      "grid_auto_rows": null,
      "grid_column": null,
      "grid_gap": null,
      "grid_row": null,
      "grid_template_areas": null,
      "grid_template_columns": null,
      "grid_template_rows": null,
      "height": null,
      "justify_content": null,
      "justify_items": null,
      "left": null,
      "margin": null,
      "max_height": null,
      "max_width": null,
      "min_height": null,
      "min_width": null,
      "object_fit": null,
      "object_position": null,
      "order": null,
      "overflow": null,
      "overflow_x": null,
      "overflow_y": null,
      "padding": null,
      "right": null,
      "top": null,
      "visibility": null,
      "width": null
     }
    },
    "4f3baf5c734445f498b1e639d221ca30": {
     "model_module": "@jupyter-widgets/controls",
     "model_module_version": "1.5.0",
     "model_name": "FloatProgressModel",
     "state": {
      "_dom_classes": [],
      "_model_module": "@jupyter-widgets/controls",
      "_model_module_version": "1.5.0",
      "_model_name": "FloatProgressModel",
      "_view_count": null,
      "_view_module": "@jupyter-widgets/controls",
      "_view_module_version": "1.5.0",
      "_view_name": "ProgressView",
      "bar_style": "success",
      "description": "",
      "description_tooltip": null,
      "layout": "IPY_MODEL_6a020683e9c84626a2bcc04861be705c",
      "max": 871891,
      "min": 0,
      "orientation": "horizontal",
      "style": "IPY_MODEL_dfc13a553f544eed944806517a4c785d",
      "value": 871891
     }
    },
    "5382c2daa93541ba946c8bda77b3319d": {
     "model_module": "@jupyter-widgets/base",
     "model_module_version": "1.2.0",
     "model_name": "LayoutModel",
     "state": {
      "_model_module": "@jupyter-widgets/base",
      "_model_module_version": "1.2.0",
      "_model_name": "LayoutModel",
      "_view_count": null,
      "_view_module": "@jupyter-widgets/base",
      "_view_module_version": "1.2.0",
      "_view_name": "LayoutView",
      "align_content": null,
      "align_items": null,
      "align_self": null,
      "border": null,
      "bottom": null,
      "display": null,
      "flex": null,
      "flex_flow": null,
      "grid_area": null,
      "grid_auto_columns": null,
      "grid_auto_flow": null,
      "grid_auto_rows": null,
      "grid_column": null,
      "grid_gap": null,
      "grid_row": null,
      "grid_template_areas": null,
      "grid_template_columns": null,
      "grid_template_rows": null,
      "height": null,
      "justify_content": null,
      "justify_items": null,
      "left": null,
      "margin": null,
      "max_height": null,
      "max_width": null,
      "min_height": null,
      "min_width": null,
      "object_fit": null,
      "object_position": null,
      "order": null,
      "overflow": null,
      "overflow_x": null,
      "overflow_y": null,
      "padding": null,
      "right": null,
      "top": null,
      "visibility": null,
      "width": null
     }
    },
    "5578ef618d3a45a0a1b7998ae4fe803a": {
     "model_module": "@jupyter-widgets/controls",
     "model_module_version": "1.5.0",
     "model_name": "FloatProgressModel",
     "state": {
      "_dom_classes": [],
      "_model_module": "@jupyter-widgets/controls",
      "_model_module_version": "1.5.0",
      "_model_name": "FloatProgressModel",
      "_view_count": null,
      "_view_module": "@jupyter-widgets/controls",
      "_view_module_version": "1.5.0",
      "_view_name": "ProgressView",
      "bar_style": "success",
      "description": "",
      "description_tooltip": null,
      "layout": "IPY_MODEL_328ddaab7a7948e0a343c28c4eec0ab3",
      "max": 953,
      "min": 0,
      "orientation": "horizontal",
      "style": "IPY_MODEL_98c8c0904aa4418689b43be277ffc351",
      "value": 953
     }
    },
    "55a33af74e674276ba072fc8dd7a95af": {
     "model_module": "@jupyter-widgets/controls",
     "model_module_version": "1.5.0",
     "model_name": "ProgressStyleModel",
     "state": {
      "_model_module": "@jupyter-widgets/controls",
      "_model_module_version": "1.5.0",
      "_model_name": "ProgressStyleModel",
      "_view_count": null,
      "_view_module": "@jupyter-widgets/base",
      "_view_module_version": "1.2.0",
      "_view_name": "StyleView",
      "bar_color": null,
      "description_width": ""
     }
    },
    "564827ebaa6c49f89fb6f417da2109fb": {
     "model_module": "@jupyter-widgets/controls",
     "model_module_version": "1.5.0",
     "model_name": "DescriptionStyleModel",
     "state": {
      "_model_module": "@jupyter-widgets/controls",
      "_model_module_version": "1.5.0",
      "_model_name": "DescriptionStyleModel",
      "_view_count": null,
      "_view_module": "@jupyter-widgets/base",
      "_view_module_version": "1.2.0",
      "_view_name": "StyleView",
      "description_width": ""
     }
    },
    "61597f01821d4095b2e690dcd96f6cd6": {
     "model_module": "@jupyter-widgets/controls",
     "model_module_version": "1.5.0",
     "model_name": "HTMLModel",
     "state": {
      "_dom_classes": [],
      "_model_module": "@jupyter-widgets/controls",
      "_model_module_version": "1.5.0",
      "_model_name": "HTMLModel",
      "_view_count": null,
      "_view_module": "@jupyter-widgets/controls",
      "_view_module_version": "1.5.0",
      "_view_name": "HTMLView",
      "description": "",
      "description_tooltip": null,
      "layout": "IPY_MODEL_c469202e326f4290bb09b8895e6a2af7",
      "placeholder": "​",
      "style": "IPY_MODEL_300eb5b5c15042f58eac544e9752fd7e",
      "value": " 669M/669M [00:02&lt;00:00, 253MB/s]"
     }
    },
    "674daca3588740bb96e959ad418da152": {
     "model_module": "@jupyter-widgets/base",
     "model_module_version": "1.2.0",
     "model_name": "LayoutModel",
     "state": {
      "_model_module": "@jupyter-widgets/base",
      "_model_module_version": "1.2.0",
      "_model_name": "LayoutModel",
      "_view_count": null,
      "_view_module": "@jupyter-widgets/base",
      "_view_module_version": "1.2.0",
      "_view_name": "LayoutView",
      "align_content": null,
      "align_items": null,
      "align_self": null,
      "border": null,
      "bottom": null,
      "display": null,
      "flex": null,
      "flex_flow": null,
      "grid_area": null,
      "grid_auto_columns": null,
      "grid_auto_flow": null,
      "grid_auto_rows": null,
      "grid_column": null,
      "grid_gap": null,
      "grid_row": null,
      "grid_template_areas": null,
      "grid_template_columns": null,
      "grid_template_rows": null,
      "height": null,
      "justify_content": null,
      "justify_items": null,
      "left": null,
      "margin": null,
      "max_height": null,
      "max_width": null,
      "min_height": null,
      "min_width": null,
      "object_fit": null,
      "object_position": null,
      "order": null,
      "overflow": null,
      "overflow_x": null,
      "overflow_y": null,
      "padding": null,
      "right": null,
      "top": null,
      "visibility": null,
      "width": null
     }
    },
    "6a020683e9c84626a2bcc04861be705c": {
     "model_module": "@jupyter-widgets/base",
     "model_module_version": "1.2.0",
     "model_name": "LayoutModel",
     "state": {
      "_model_module": "@jupyter-widgets/base",
      "_model_module_version": "1.2.0",
      "_model_name": "LayoutModel",
      "_view_count": null,
      "_view_module": "@jupyter-widgets/base",
      "_view_module_version": "1.2.0",
      "_view_name": "LayoutView",
      "align_content": null,
      "align_items": null,
      "align_self": null,
      "border": null,
      "bottom": null,
      "display": null,
      "flex": null,
      "flex_flow": null,
      "grid_area": null,
      "grid_auto_columns": null,
      "grid_auto_flow": null,
      "grid_auto_rows": null,
      "grid_column": null,
      "grid_gap": null,
      "grid_row": null,
      "grid_template_areas": null,
      "grid_template_columns": null,
      "grid_template_rows": null,
      "height": null,
      "justify_content": null,
      "justify_items": null,
      "left": null,
      "margin": null,
      "max_height": null,
      "max_width": null,
      "min_height": null,
      "min_width": null,
      "object_fit": null,
      "object_position": null,
      "order": null,
      "overflow": null,
      "overflow_x": null,
      "overflow_y": null,
      "padding": null,
      "right": null,
      "top": null,
      "visibility": null,
      "width": null
     }
    },
    "6aca52bc41ba48db81fde7ca6befe6e7": {
     "model_module": "@jupyter-widgets/controls",
     "model_module_version": "1.5.0",
     "model_name": "DescriptionStyleModel",
     "state": {
      "_model_module": "@jupyter-widgets/controls",
      "_model_module_version": "1.5.0",
      "_model_name": "DescriptionStyleModel",
      "_view_count": null,
      "_view_module": "@jupyter-widgets/base",
      "_view_module_version": "1.2.0",
      "_view_name": "StyleView",
      "description_width": ""
     }
    },
    "7275aa6ad9c64c668aacf598cdd9d41c": {
     "model_module": "@jupyter-widgets/controls",
     "model_module_version": "1.5.0",
     "model_name": "HTMLModel",
     "state": {
      "_dom_classes": [],
      "_model_module": "@jupyter-widgets/controls",
      "_model_module_version": "1.5.0",
      "_model_name": "HTMLModel",
      "_view_count": null,
      "_view_module": "@jupyter-widgets/controls",
      "_view_module_version": "1.5.0",
      "_view_name": "HTMLView",
      "description": "",
      "description_tooltip": null,
      "layout": "IPY_MODEL_4e5d4c8aea9045b6b292392238b3b806",
      "placeholder": "​",
      "style": "IPY_MODEL_a136e1715f624ea8af576604924f9a2a",
      "value": "Downloading (…)lve/main/config.json: 100%"
     }
    },
    "813ab37b20864e61aeeeeb29acf5550a": {
     "model_module": "@jupyter-widgets/controls",
     "model_module_version": "1.5.0",
     "model_name": "HTMLModel",
     "state": {
      "_dom_classes": [],
      "_model_module": "@jupyter-widgets/controls",
      "_model_module_version": "1.5.0",
      "_model_name": "HTMLModel",
      "_view_count": null,
      "_view_module": "@jupyter-widgets/controls",
      "_view_module_version": "1.5.0",
      "_view_name": "HTMLView",
      "description": "",
      "description_tooltip": null,
      "layout": "IPY_MODEL_8dca954f4398473b95f7d40e7ae2a54b",
      "placeholder": "​",
      "style": "IPY_MODEL_6aca52bc41ba48db81fde7ca6befe6e7",
      "value": "Downloading (…)cial_tokens_map.json: 100%"
     }
    },
    "891ad266dce642468a90b360dce937eb": {
     "model_module": "@jupyter-widgets/base",
     "model_module_version": "1.2.0",
     "model_name": "LayoutModel",
     "state": {
      "_model_module": "@jupyter-widgets/base",
      "_model_module_version": "1.2.0",
      "_model_name": "LayoutModel",
      "_view_count": null,
      "_view_module": "@jupyter-widgets/base",
      "_view_module_version": "1.2.0",
      "_view_name": "LayoutView",
      "align_content": null,
      "align_items": null,
      "align_self": null,
      "border": null,
      "bottom": null,
      "display": null,
      "flex": null,
      "flex_flow": null,
      "grid_area": null,
      "grid_auto_columns": null,
      "grid_auto_flow": null,
      "grid_auto_rows": null,
      "grid_column": null,
      "grid_gap": null,
      "grid_row": null,
      "grid_template_areas": null,
      "grid_template_columns": null,
      "grid_template_rows": null,
      "height": null,
      "justify_content": null,
      "justify_items": null,
      "left": null,
      "margin": null,
      "max_height": null,
      "max_width": null,
      "min_height": null,
      "min_width": null,
      "object_fit": null,
      "object_position": null,
      "order": null,
      "overflow": null,
      "overflow_x": null,
      "overflow_y": null,
      "padding": null,
      "right": null,
      "top": null,
      "visibility": null,
      "width": null
     }
    },
    "899b549364a5419788fd90dcc928dc8f": {
     "model_module": "@jupyter-widgets/controls",
     "model_module_version": "1.5.0",
     "model_name": "FloatProgressModel",
     "state": {
      "_dom_classes": [],
      "_model_module": "@jupyter-widgets/controls",
      "_model_module_version": "1.5.0",
      "_model_name": "FloatProgressModel",
      "_view_count": null,
      "_view_module": "@jupyter-widgets/controls",
      "_view_module_version": "1.5.0",
      "_view_name": "ProgressView",
      "bar_style": "success",
      "description": "",
      "description_tooltip": null,
      "layout": "IPY_MODEL_91444d2c9ad1465eb76de17aeb0b8dbf",
      "max": 669491321,
      "min": 0,
      "orientation": "horizontal",
      "style": "IPY_MODEL_55a33af74e674276ba072fc8dd7a95af",
      "value": 669491321
     }
    },
    "8d5bdcbd9f7d4025a3b6bd63abb75bb5": {
     "model_module": "@jupyter-widgets/controls",
     "model_module_version": "1.5.0",
     "model_name": "DescriptionStyleModel",
     "state": {
      "_model_module": "@jupyter-widgets/controls",
      "_model_module_version": "1.5.0",
      "_model_name": "DescriptionStyleModel",
      "_view_count": null,
      "_view_module": "@jupyter-widgets/base",
      "_view_module_version": "1.2.0",
      "_view_name": "StyleView",
      "description_width": ""
     }
    },
    "8dca954f4398473b95f7d40e7ae2a54b": {
     "model_module": "@jupyter-widgets/base",
     "model_module_version": "1.2.0",
     "model_name": "LayoutModel",
     "state": {
      "_model_module": "@jupyter-widgets/base",
      "_model_module_version": "1.2.0",
      "_model_name": "LayoutModel",
      "_view_count": null,
      "_view_module": "@jupyter-widgets/base",
      "_view_module_version": "1.2.0",
      "_view_name": "LayoutView",
      "align_content": null,
      "align_items": null,
      "align_self": null,
      "border": null,
      "bottom": null,
      "display": null,
      "flex": null,
      "flex_flow": null,
      "grid_area": null,
      "grid_auto_columns": null,
      "grid_auto_flow": null,
      "grid_auto_rows": null,
      "grid_column": null,
      "grid_gap": null,
      "grid_row": null,
      "grid_template_areas": null,
      "grid_template_columns": null,
      "grid_template_rows": null,
      "height": null,
      "justify_content": null,
      "justify_items": null,
      "left": null,
      "margin": null,
      "max_height": null,
      "max_width": null,
      "min_height": null,
      "min_width": null,
      "object_fit": null,
      "object_position": null,
      "order": null,
      "overflow": null,
      "overflow_x": null,
      "overflow_y": null,
      "padding": null,
      "right": null,
      "top": null,
      "visibility": null,
      "width": null
     }
    },
    "8e30961f9b1e4b97adef4fdc80aeef8a": {
     "model_module": "@jupyter-widgets/controls",
     "model_module_version": "1.5.0",
     "model_name": "HBoxModel",
     "state": {
      "_dom_classes": [],
      "_model_module": "@jupyter-widgets/controls",
      "_model_module_version": "1.5.0",
      "_model_name": "HBoxModel",
      "_view_count": null,
      "_view_module": "@jupyter-widgets/controls",
      "_view_module_version": "1.5.0",
      "_view_name": "HBoxView",
      "box_style": "",
      "children": [
       "IPY_MODEL_813ab37b20864e61aeeeeb29acf5550a",
       "IPY_MODEL_bdd69e660b744eabaa6effa9624f2381",
       "IPY_MODEL_caf92df458d4484494dfb5e0fc42f9f6"
      ],
      "layout": "IPY_MODEL_a6deea8f67d541d8838c66710d99635f"
     }
    },
    "8f50938dfe6546a8b996abcf5b663a89": {
     "model_module": "@jupyter-widgets/base",
     "model_module_version": "1.2.0",
     "model_name": "LayoutModel",
     "state": {
      "_model_module": "@jupyter-widgets/base",
      "_model_module_version": "1.2.0",
      "_model_name": "LayoutModel",
      "_view_count": null,
      "_view_module": "@jupyter-widgets/base",
      "_view_module_version": "1.2.0",
      "_view_name": "LayoutView",
      "align_content": null,
      "align_items": null,
      "align_self": null,
      "border": null,
      "bottom": null,
      "display": null,
      "flex": null,
      "flex_flow": null,
      "grid_area": null,
      "grid_auto_columns": null,
      "grid_auto_flow": null,
      "grid_auto_rows": null,
      "grid_column": null,
      "grid_gap": null,
      "grid_row": null,
      "grid_template_areas": null,
      "grid_template_columns": null,
      "grid_template_rows": null,
      "height": null,
      "justify_content": null,
      "justify_items": null,
      "left": null,
      "margin": null,
      "max_height": null,
      "max_width": null,
      "min_height": null,
      "min_width": null,
      "object_fit": null,
      "object_position": null,
      "order": null,
      "overflow": null,
      "overflow_x": null,
      "overflow_y": null,
      "padding": null,
      "right": null,
      "top": null,
      "visibility": null,
      "width": null
     }
    },
    "91444d2c9ad1465eb76de17aeb0b8dbf": {
     "model_module": "@jupyter-widgets/base",
     "model_module_version": "1.2.0",
     "model_name": "LayoutModel",
     "state": {
      "_model_module": "@jupyter-widgets/base",
      "_model_module_version": "1.2.0",
      "_model_name": "LayoutModel",
      "_view_count": null,
      "_view_module": "@jupyter-widgets/base",
      "_view_module_version": "1.2.0",
      "_view_name": "LayoutView",
      "align_content": null,
      "align_items": null,
      "align_self": null,
      "border": null,
      "bottom": null,
      "display": null,
      "flex": null,
      "flex_flow": null,
      "grid_area": null,
      "grid_auto_columns": null,
      "grid_auto_flow": null,
      "grid_auto_rows": null,
      "grid_column": null,
      "grid_gap": null,
      "grid_row": null,
      "grid_template_areas": null,
      "grid_template_columns": null,
      "grid_template_rows": null,
      "height": null,
      "justify_content": null,
      "justify_items": null,
      "left": null,
      "margin": null,
      "max_height": null,
      "max_width": null,
      "min_height": null,
      "min_width": null,
      "object_fit": null,
      "object_position": null,
      "order": null,
      "overflow": null,
      "overflow_x": null,
      "overflow_y": null,
      "padding": null,
      "right": null,
      "top": null,
      "visibility": null,
      "width": null
     }
    },
    "943d7e7730ee4ccb81986446e9a4dc8d": {
     "model_module": "@jupyter-widgets/base",
     "model_module_version": "1.2.0",
     "model_name": "LayoutModel",
     "state": {
      "_model_module": "@jupyter-widgets/base",
      "_model_module_version": "1.2.0",
      "_model_name": "LayoutModel",
      "_view_count": null,
      "_view_module": "@jupyter-widgets/base",
      "_view_module_version": "1.2.0",
      "_view_name": "LayoutView",
      "align_content": null,
      "align_items": null,
      "align_self": null,
      "border": null,
      "bottom": null,
      "display": null,
      "flex": null,
      "flex_flow": null,
      "grid_area": null,
      "grid_auto_columns": null,
      "grid_auto_flow": null,
      "grid_auto_rows": null,
      "grid_column": null,
      "grid_gap": null,
      "grid_row": null,
      "grid_template_areas": null,
      "grid_template_columns": null,
      "grid_template_rows": null,
      "height": null,
      "justify_content": null,
      "justify_items": null,
      "left": null,
      "margin": null,
      "max_height": null,
      "max_width": null,
      "min_height": null,
      "min_width": null,
      "object_fit": null,
      "object_position": null,
      "order": null,
      "overflow": null,
      "overflow_x": null,
      "overflow_y": null,
      "padding": null,
      "right": null,
      "top": null,
      "visibility": null,
      "width": null
     }
    },
    "943e2f94dcf647e2b2252e102c929de6": {
     "model_module": "@jupyter-widgets/base",
     "model_module_version": "1.2.0",
     "model_name": "LayoutModel",
     "state": {
      "_model_module": "@jupyter-widgets/base",
      "_model_module_version": "1.2.0",
      "_model_name": "LayoutModel",
      "_view_count": null,
      "_view_module": "@jupyter-widgets/base",
      "_view_module_version": "1.2.0",
      "_view_name": "LayoutView",
      "align_content": null,
      "align_items": null,
      "align_self": null,
      "border": null,
      "bottom": null,
      "display": null,
      "flex": null,
      "flex_flow": null,
      "grid_area": null,
      "grid_auto_columns": null,
      "grid_auto_flow": null,
      "grid_auto_rows": null,
      "grid_column": null,
      "grid_gap": null,
      "grid_row": null,
      "grid_template_areas": null,
      "grid_template_columns": null,
      "grid_template_rows": null,
      "height": null,
      "justify_content": null,
      "justify_items": null,
      "left": null,
      "margin": null,
      "max_height": null,
      "max_width": null,
      "min_height": null,
      "min_width": null,
      "object_fit": null,
      "object_position": null,
      "order": null,
      "overflow": null,
      "overflow_x": null,
      "overflow_y": null,
      "padding": null,
      "right": null,
      "top": null,
      "visibility": null,
      "width": null
     }
    },
    "98c8c0904aa4418689b43be277ffc351": {
     "model_module": "@jupyter-widgets/controls",
     "model_module_version": "1.5.0",
     "model_name": "ProgressStyleModel",
     "state": {
      "_model_module": "@jupyter-widgets/controls",
      "_model_module_version": "1.5.0",
      "_model_name": "ProgressStyleModel",
      "_view_count": null,
      "_view_module": "@jupyter-widgets/base",
      "_view_module_version": "1.2.0",
      "_view_name": "StyleView",
      "bar_color": null,
      "description_width": ""
     }
    },
    "9c283d58a825491aa0c85ded62dac273": {
     "model_module": "@jupyter-widgets/controls",
     "model_module_version": "1.5.0",
     "model_name": "HTMLModel",
     "state": {
      "_dom_classes": [],
      "_model_module": "@jupyter-widgets/controls",
      "_model_module_version": "1.5.0",
      "_model_name": "HTMLModel",
      "_view_count": null,
      "_view_module": "@jupyter-widgets/controls",
      "_view_module_version": "1.5.0",
      "_view_name": "HTMLView",
      "description": "",
      "description_tooltip": null,
      "layout": "IPY_MODEL_c93e1ed39ebe42b68de786e49d363501",
      "placeholder": "​",
      "style": "IPY_MODEL_43bd2a34d9854d90a467c593841093c9",
      "value": " 953/953 [00:00&lt;00:00, 89.2kB/s]"
     }
    },
    "9d2cb90e49ad478bac93f1ddf6d0859f": {
     "model_module": "@jupyter-widgets/base",
     "model_module_version": "1.2.0",
     "model_name": "LayoutModel",
     "state": {
      "_model_module": "@jupyter-widgets/base",
      "_model_module_version": "1.2.0",
      "_model_name": "LayoutModel",
      "_view_count": null,
      "_view_module": "@jupyter-widgets/base",
      "_view_module_version": "1.2.0",
      "_view_name": "LayoutView",
      "align_content": null,
      "align_items": null,
      "align_self": null,
      "border": null,
      "bottom": null,
      "display": null,
      "flex": null,
      "flex_flow": null,
      "grid_area": null,
      "grid_auto_columns": null,
      "grid_auto_flow": null,
      "grid_auto_rows": null,
      "grid_column": null,
      "grid_gap": null,
      "grid_row": null,
      "grid_template_areas": null,
      "grid_template_columns": null,
      "grid_template_rows": null,
      "height": null,
      "justify_content": null,
      "justify_items": null,
      "left": null,
      "margin": null,
      "max_height": null,
      "max_width": null,
      "min_height": null,
      "min_width": null,
      "object_fit": null,
      "object_position": null,
      "order": null,
      "overflow": null,
      "overflow_x": null,
      "overflow_y": null,
      "padding": null,
      "right": null,
      "top": null,
      "visibility": null,
      "width": null
     }
    },
    "a136e1715f624ea8af576604924f9a2a": {
     "model_module": "@jupyter-widgets/controls",
     "model_module_version": "1.5.0",
     "model_name": "DescriptionStyleModel",
     "state": {
      "_model_module": "@jupyter-widgets/controls",
      "_model_module_version": "1.5.0",
      "_model_name": "DescriptionStyleModel",
      "_view_count": null,
      "_view_module": "@jupyter-widgets/base",
      "_view_module_version": "1.2.0",
      "_view_name": "StyleView",
      "description_width": ""
     }
    },
    "a6deea8f67d541d8838c66710d99635f": {
     "model_module": "@jupyter-widgets/base",
     "model_module_version": "1.2.0",
     "model_name": "LayoutModel",
     "state": {
      "_model_module": "@jupyter-widgets/base",
      "_model_module_version": "1.2.0",
      "_model_name": "LayoutModel",
      "_view_count": null,
      "_view_module": "@jupyter-widgets/base",
      "_view_module_version": "1.2.0",
      "_view_name": "LayoutView",
      "align_content": null,
      "align_items": null,
      "align_self": null,
      "border": null,
      "bottom": null,
      "display": null,
      "flex": null,
      "flex_flow": null,
      "grid_area": null,
      "grid_auto_columns": null,
      "grid_auto_flow": null,
      "grid_auto_rows": null,
      "grid_column": null,
      "grid_gap": null,
      "grid_row": null,
      "grid_template_areas": null,
      "grid_template_columns": null,
      "grid_template_rows": null,
      "height": null,
      "justify_content": null,
      "justify_items": null,
      "left": null,
      "margin": null,
      "max_height": null,
      "max_width": null,
      "min_height": null,
      "min_width": null,
      "object_fit": null,
      "object_position": null,
      "order": null,
      "overflow": null,
      "overflow_x": null,
      "overflow_y": null,
      "padding": null,
      "right": null,
      "top": null,
      "visibility": null,
      "width": null
     }
    },
    "bd9aa39a03874b57b3df424cced7eb9a": {
     "model_module": "@jupyter-widgets/controls",
     "model_module_version": "1.5.0",
     "model_name": "FloatProgressModel",
     "state": {
      "_dom_classes": [],
      "_model_module": "@jupyter-widgets/controls",
      "_model_module_version": "1.5.0",
      "_model_name": "FloatProgressModel",
      "_view_count": null,
      "_view_module": "@jupyter-widgets/controls",
      "_view_module_version": "1.5.0",
      "_view_name": "ProgressView",
      "bar_style": "success",
      "description": "",
      "description_tooltip": null,
      "layout": "IPY_MODEL_891ad266dce642468a90b360dce937eb",
      "max": 39,
      "min": 0,
      "orientation": "horizontal",
      "style": "IPY_MODEL_1c44062b50cd45f4b9c1c073ebd30b53",
      "value": 39
     }
    },
    "bdd69e660b744eabaa6effa9624f2381": {
     "model_module": "@jupyter-widgets/controls",
     "model_module_version": "1.5.0",
     "model_name": "FloatProgressModel",
     "state": {
      "_dom_classes": [],
      "_model_module": "@jupyter-widgets/controls",
      "_model_module_version": "1.5.0",
      "_model_name": "FloatProgressModel",
      "_view_count": null,
      "_view_module": "@jupyter-widgets/controls",
      "_view_module_version": "1.5.0",
      "_view_name": "ProgressView",
      "bar_style": "success",
      "description": "",
      "description_tooltip": null,
      "layout": "IPY_MODEL_2033c840af5f4e8891bda382af7cb08b",
      "max": 112,
      "min": 0,
      "orientation": "horizontal",
      "style": "IPY_MODEL_1af9fefddef84d24bd0a8c36a1ad2e84",
      "value": 112
     }
    },
    "c0085e2d0c4d4830a66339eaec1d4a61": {
     "model_module": "@jupyter-widgets/controls",
     "model_module_version": "1.5.0",
     "model_name": "DescriptionStyleModel",
     "state": {
      "_model_module": "@jupyter-widgets/controls",
      "_model_module_version": "1.5.0",
      "_model_name": "DescriptionStyleModel",
      "_view_count": null,
      "_view_module": "@jupyter-widgets/base",
      "_view_module_version": "1.2.0",
      "_view_name": "StyleView",
      "description_width": ""
     }
    },
    "c469202e326f4290bb09b8895e6a2af7": {
     "model_module": "@jupyter-widgets/base",
     "model_module_version": "1.2.0",
     "model_name": "LayoutModel",
     "state": {
      "_model_module": "@jupyter-widgets/base",
      "_model_module_version": "1.2.0",
      "_model_name": "LayoutModel",
      "_view_count": null,
      "_view_module": "@jupyter-widgets/base",
      "_view_module_version": "1.2.0",
      "_view_name": "LayoutView",
      "align_content": null,
      "align_items": null,
      "align_self": null,
      "border": null,
      "bottom": null,
      "display": null,
      "flex": null,
      "flex_flow": null,
      "grid_area": null,
      "grid_auto_columns": null,
      "grid_auto_flow": null,
      "grid_auto_rows": null,
      "grid_column": null,
      "grid_gap": null,
      "grid_row": null,
      "grid_template_areas": null,
      "grid_template_columns": null,
      "grid_template_rows": null,
      "height": null,
      "justify_content": null,
      "justify_items": null,
      "left": null,
      "margin": null,
      "max_height": null,
      "max_width": null,
      "min_height": null,
      "min_width": null,
      "object_fit": null,
      "object_position": null,
      "order": null,
      "overflow": null,
      "overflow_x": null,
      "overflow_y": null,
      "padding": null,
      "right": null,
      "top": null,
      "visibility": null,
      "width": null
     }
    },
    "c93e1ed39ebe42b68de786e49d363501": {
     "model_module": "@jupyter-widgets/base",
     "model_module_version": "1.2.0",
     "model_name": "LayoutModel",
     "state": {
      "_model_module": "@jupyter-widgets/base",
      "_model_module_version": "1.2.0",
      "_model_name": "LayoutModel",
      "_view_count": null,
      "_view_module": "@jupyter-widgets/base",
      "_view_module_version": "1.2.0",
      "_view_name": "LayoutView",
      "align_content": null,
      "align_items": null,
      "align_self": null,
      "border": null,
      "bottom": null,
      "display": null,
      "flex": null,
      "flex_flow": null,
      "grid_area": null,
      "grid_auto_columns": null,
      "grid_auto_flow": null,
      "grid_auto_rows": null,
      "grid_column": null,
      "grid_gap": null,
      "grid_row": null,
      "grid_template_areas": null,
      "grid_template_columns": null,
      "grid_template_rows": null,
      "height": null,
      "justify_content": null,
      "justify_items": null,
      "left": null,
      "margin": null,
      "max_height": null,
      "max_width": null,
      "min_height": null,
      "min_width": null,
      "object_fit": null,
      "object_position": null,
      "order": null,
      "overflow": null,
      "overflow_x": null,
      "overflow_y": null,
      "padding": null,
      "right": null,
      "top": null,
      "visibility": null,
      "width": null
     }
    },
    "cae4114a51a24b659d7702540688eac6": {
     "model_module": "@jupyter-widgets/controls",
     "model_module_version": "1.5.0",
     "model_name": "DescriptionStyleModel",
     "state": {
      "_model_module": "@jupyter-widgets/controls",
      "_model_module_version": "1.5.0",
      "_model_name": "DescriptionStyleModel",
      "_view_count": null,
      "_view_module": "@jupyter-widgets/base",
      "_view_module_version": "1.2.0",
      "_view_name": "StyleView",
      "description_width": ""
     }
    },
    "caf92df458d4484494dfb5e0fc42f9f6": {
     "model_module": "@jupyter-widgets/controls",
     "model_module_version": "1.5.0",
     "model_name": "HTMLModel",
     "state": {
      "_dom_classes": [],
      "_model_module": "@jupyter-widgets/controls",
      "_model_module_version": "1.5.0",
      "_model_name": "HTMLModel",
      "_view_count": null,
      "_view_module": "@jupyter-widgets/controls",
      "_view_module_version": "1.5.0",
      "_view_name": "HTMLView",
      "description": "",
      "description_tooltip": null,
      "layout": "IPY_MODEL_674daca3588740bb96e959ad418da152",
      "placeholder": "​",
      "style": "IPY_MODEL_cae4114a51a24b659d7702540688eac6",
      "value": " 112/112 [00:00&lt;00:00, 9.91kB/s]"
     }
    },
    "cd76a7efef3a4bffa052e76ded8920ad": {
     "model_module": "@jupyter-widgets/controls",
     "model_module_version": "1.5.0",
     "model_name": "HBoxModel",
     "state": {
      "_dom_classes": [],
      "_model_module": "@jupyter-widgets/controls",
      "_model_module_version": "1.5.0",
      "_model_name": "HBoxModel",
      "_view_count": null,
      "_view_module": "@jupyter-widgets/controls",
      "_view_module_version": "1.5.0",
      "_view_name": "HBoxView",
      "box_style": "",
      "children": [
       "IPY_MODEL_f4c9ae6cc0e64aedbfe307db50a0ea21",
       "IPY_MODEL_899b549364a5419788fd90dcc928dc8f",
       "IPY_MODEL_61597f01821d4095b2e690dcd96f6cd6"
      ],
      "layout": "IPY_MODEL_5382c2daa93541ba946c8bda77b3319d"
     }
    },
    "dfc13a553f544eed944806517a4c785d": {
     "model_module": "@jupyter-widgets/controls",
     "model_module_version": "1.5.0",
     "model_name": "ProgressStyleModel",
     "state": {
      "_model_module": "@jupyter-widgets/controls",
      "_model_module_version": "1.5.0",
      "_model_name": "ProgressStyleModel",
      "_view_count": null,
      "_view_module": "@jupyter-widgets/base",
      "_view_module_version": "1.2.0",
      "_view_name": "StyleView",
      "bar_color": null,
      "description_width": ""
     }
    },
    "e1c48422d464448096946dc26b589d79": {
     "model_module": "@jupyter-widgets/controls",
     "model_module_version": "1.5.0",
     "model_name": "HTMLModel",
     "state": {
      "_dom_classes": [],
      "_model_module": "@jupyter-widgets/controls",
      "_model_module_version": "1.5.0",
      "_model_name": "HTMLModel",
      "_view_count": null,
      "_view_module": "@jupyter-widgets/controls",
      "_view_module_version": "1.5.0",
      "_view_name": "HTMLView",
      "description": "",
      "description_tooltip": null,
      "layout": "IPY_MODEL_3aec502e4b1e42c8be0073f0734b353e",
      "placeholder": "​",
      "style": "IPY_MODEL_c0085e2d0c4d4830a66339eaec1d4a61",
      "value": " 872k/872k [00:00&lt;00:00, 37.2MB/s]"
     }
    },
    "e2427ea28ade4bb48dc76d8ac3031f2a": {
     "model_module": "@jupyter-widgets/base",
     "model_module_version": "1.2.0",
     "model_name": "LayoutModel",
     "state": {
      "_model_module": "@jupyter-widgets/base",
      "_model_module_version": "1.2.0",
      "_model_name": "LayoutModel",
      "_view_count": null,
      "_view_module": "@jupyter-widgets/base",
      "_view_module_version": "1.2.0",
      "_view_name": "LayoutView",
      "align_content": null,
      "align_items": null,
      "align_self": null,
      "border": null,
      "bottom": null,
      "display": null,
      "flex": null,
      "flex_flow": null,
      "grid_area": null,
      "grid_auto_columns": null,
      "grid_auto_flow": null,
      "grid_auto_rows": null,
      "grid_column": null,
      "grid_gap": null,
      "grid_row": null,
      "grid_template_areas": null,
      "grid_template_columns": null,
      "grid_template_rows": null,
      "height": null,
      "justify_content": null,
      "justify_items": null,
      "left": null,
      "margin": null,
      "max_height": null,
      "max_width": null,
      "min_height": null,
      "min_width": null,
      "object_fit": null,
      "object_position": null,
      "order": null,
      "overflow": null,
      "overflow_x": null,
      "overflow_y": null,
      "padding": null,
      "right": null,
      "top": null,
      "visibility": null,
      "width": null
     }
    },
    "e4a89eb0f6eb4db2b20f14e595a84466": {
     "model_module": "@jupyter-widgets/controls",
     "model_module_version": "1.5.0",
     "model_name": "HBoxModel",
     "state": {
      "_dom_classes": [],
      "_model_module": "@jupyter-widgets/controls",
      "_model_module_version": "1.5.0",
      "_model_name": "HBoxModel",
      "_view_count": null,
      "_view_module": "@jupyter-widgets/controls",
      "_view_module_version": "1.5.0",
      "_view_name": "HBoxView",
      "box_style": "",
      "children": [
       "IPY_MODEL_7275aa6ad9c64c668aacf598cdd9d41c",
       "IPY_MODEL_5578ef618d3a45a0a1b7998ae4fe803a",
       "IPY_MODEL_9c283d58a825491aa0c85ded62dac273"
      ],
      "layout": "IPY_MODEL_2efd24899aec4cb59847cce5bf271baa"
     }
    },
    "f4c9ae6cc0e64aedbfe307db50a0ea21": {
     "model_module": "@jupyter-widgets/controls",
     "model_module_version": "1.5.0",
     "model_name": "HTMLModel",
     "state": {
      "_dom_classes": [],
      "_model_module": "@jupyter-widgets/controls",
      "_model_module_version": "1.5.0",
      "_model_name": "HTMLModel",
      "_view_count": null,
      "_view_module": "@jupyter-widgets/controls",
      "_view_module_version": "1.5.0",
      "_view_name": "HTMLView",
      "description": "",
      "description_tooltip": null,
      "layout": "IPY_MODEL_409f211810d34ce7b7deb76eb0d34a5a",
      "placeholder": "​",
      "style": "IPY_MODEL_8d5bdcbd9f7d4025a3b6bd63abb75bb5",
      "value": "Downloading pytorch_model.bin: 100%"
     }
    },
    "fa980ce467f948f3854576da6dd66fc2": {
     "model_module": "@jupyter-widgets/controls",
     "model_module_version": "1.5.0",
     "model_name": "HTMLModel",
     "state": {
      "_dom_classes": [],
      "_model_module": "@jupyter-widgets/controls",
      "_model_module_version": "1.5.0",
      "_model_name": "HTMLModel",
      "_view_count": null,
      "_view_module": "@jupyter-widgets/controls",
      "_view_module_version": "1.5.0",
      "_view_name": "HTMLView",
      "description": "",
      "description_tooltip": null,
      "layout": "IPY_MODEL_9d2cb90e49ad478bac93f1ddf6d0859f",
      "placeholder": "​",
      "style": "IPY_MODEL_204ab9e06b714fbd99f92fdad56a0844",
      "value": "Downloading (…)solve/main/vocab.txt: 100%"
     }
    }
   }
  }
 },
 "nbformat": 4,
 "nbformat_minor": 1
}
