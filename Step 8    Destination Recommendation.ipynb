{
 "cells": [
  {
   "cell_type": "code",
   "execution_count": 1,
   "id": "7e50c8a6",
   "metadata": {},
   "outputs": [],
   "source": [
    "import pandas as pd "
   ]
  },
  {
   "cell_type": "code",
   "execution_count": 2,
   "id": "d2938fd8",
   "metadata": {
    "scrolled": true
   },
   "outputs": [
    {
     "data": {
      "text/html": [
       "<div>\n",
       "<style scoped>\n",
       "    .dataframe tbody tr th:only-of-type {\n",
       "        vertical-align: middle;\n",
       "    }\n",
       "\n",
       "    .dataframe tbody tr th {\n",
       "        vertical-align: top;\n",
       "    }\n",
       "\n",
       "    .dataframe thead th {\n",
       "        text-align: right;\n",
       "    }\n",
       "</style>\n",
       "<table border=\"1\" class=\"dataframe\">\n",
       "  <thead>\n",
       "    <tr style=\"text-align: right;\">\n",
       "      <th></th>\n",
       "      <th>_key</th>\n",
       "      <th>Desc</th>\n",
       "      <th>category</th>\n",
       "      <th>district</th>\n",
       "      <th>latitude</th>\n",
       "      <th>longitude</th>\n",
       "    </tr>\n",
       "  </thead>\n",
       "  <tbody>\n",
       "    <tr>\n",
       "      <th>0</th>\n",
       "      <td>Ansoo Lake</td>\n",
       "      <td>Ansoo Lake is situated in Kaghan Valley of Pak...</td>\n",
       "      <td>Lake</td>\n",
       "      <td>Khyber Pakhtunkhwa</td>\n",
       "      <td>34.814119</td>\n",
       "      <td>73.676428</td>\n",
       "    </tr>\n",
       "    <tr>\n",
       "      <th>1</th>\n",
       "      <td>Astola Island</td>\n",
       "      <td>Astola Island, also known as Jezira Haft Talar...</td>\n",
       "      <td>Island</td>\n",
       "      <td>Balochistan</td>\n",
       "      <td>25.122321</td>\n",
       "      <td>63.847948</td>\n",
       "    </tr>\n",
       "    <tr>\n",
       "      <th>2</th>\n",
       "      <td>Attabad Lake</td>\n",
       "      <td>Attabad Lake is a lake in the Gojal Valley of ...</td>\n",
       "      <td>Lake</td>\n",
       "      <td>Gilgit−Baltistan</td>\n",
       "      <td>36.345827</td>\n",
       "      <td>74.865436</td>\n",
       "    </tr>\n",
       "    <tr>\n",
       "      <th>3</th>\n",
       "      <td>Badshahi Mosque</td>\n",
       "      <td>The Badshahi Mosque is a Mughal-era congregati...</td>\n",
       "      <td>Mosque</td>\n",
       "      <td>Punjab</td>\n",
       "      <td>31.588126</td>\n",
       "      <td>74.309322</td>\n",
       "    </tr>\n",
       "    <tr>\n",
       "      <th>4</th>\n",
       "      <td>Baltoro Glacier</td>\n",
       "      <td>The Baltoro Glacier, at 63 km (39 mi) in lengt...</td>\n",
       "      <td>Mountainous</td>\n",
       "      <td>Gilgit−Baltistan</td>\n",
       "      <td>35.710642</td>\n",
       "      <td>76.553142</td>\n",
       "    </tr>\n",
       "  </tbody>\n",
       "</table>\n",
       "</div>"
      ],
      "text/plain": [
       "              _key                                               Desc  \\\n",
       "0       Ansoo Lake  Ansoo Lake is situated in Kaghan Valley of Pak...   \n",
       "1    Astola Island  Astola Island, also known as Jezira Haft Talar...   \n",
       "2     Attabad Lake  Attabad Lake is a lake in the Gojal Valley of ...   \n",
       "3  Badshahi Mosque  The Badshahi Mosque is a Mughal-era congregati...   \n",
       "4  Baltoro Glacier  The Baltoro Glacier, at 63 km (39 mi) in lengt...   \n",
       "\n",
       "      category            district   latitude  longitude  \n",
       "0         Lake  Khyber Pakhtunkhwa  34.814119  73.676428  \n",
       "1       Island         Balochistan  25.122321  63.847948  \n",
       "2         Lake    Gilgit−Baltistan  36.345827  74.865436  \n",
       "3       Mosque              Punjab  31.588126  74.309322  \n",
       "4  Mountainous    Gilgit−Baltistan  35.710642  76.553142  "
      ]
     },
     "execution_count": 2,
     "metadata": {},
     "output_type": "execute_result"
    }
   ],
   "source": [
    "df = pd.read_csv('Pakistan Tourist Destinations.csv')\n",
    "df.head()"
   ]
  },
  {
   "cell_type": "code",
   "execution_count": 3,
   "id": "5703d8f1",
   "metadata": {},
   "outputs": [
    {
     "data": {
      "text/html": [
       "<div>\n",
       "<style scoped>\n",
       "    .dataframe tbody tr th:only-of-type {\n",
       "        vertical-align: middle;\n",
       "    }\n",
       "\n",
       "    .dataframe tbody tr th {\n",
       "        vertical-align: top;\n",
       "    }\n",
       "\n",
       "    .dataframe thead th {\n",
       "        text-align: right;\n",
       "    }\n",
       "</style>\n",
       "<table border=\"1\" class=\"dataframe\">\n",
       "  <thead>\n",
       "    <tr style=\"text-align: right;\">\n",
       "      <th></th>\n",
       "      <th>_key</th>\n",
       "      <th>Desc</th>\n",
       "      <th>category</th>\n",
       "      <th>district</th>\n",
       "      <th>latitude</th>\n",
       "      <th>longitude</th>\n",
       "    </tr>\n",
       "  </thead>\n",
       "  <tbody>\n",
       "    <tr>\n",
       "      <th>0</th>\n",
       "      <td>Ansoo Lake</td>\n",
       "      <td>Ansoo Lake is situated in Kaghan Valley of Pak...</td>\n",
       "      <td>Lake</td>\n",
       "      <td>Khyber Pakhtunkhwa</td>\n",
       "      <td>34.814119</td>\n",
       "      <td>73.676428</td>\n",
       "    </tr>\n",
       "    <tr>\n",
       "      <th>1</th>\n",
       "      <td>Astola Island</td>\n",
       "      <td>Astola Island, also known as Jezira Haft Talar...</td>\n",
       "      <td>Island</td>\n",
       "      <td>Balochistan</td>\n",
       "      <td>25.122321</td>\n",
       "      <td>63.847948</td>\n",
       "    </tr>\n",
       "    <tr>\n",
       "      <th>2</th>\n",
       "      <td>Attabad Lake</td>\n",
       "      <td>Attabad Lake is a lake in the Gojal Valley of ...</td>\n",
       "      <td>Lake</td>\n",
       "      <td>Gilgit−Baltistan</td>\n",
       "      <td>36.345827</td>\n",
       "      <td>74.865436</td>\n",
       "    </tr>\n",
       "    <tr>\n",
       "      <th>3</th>\n",
       "      <td>Badshahi Mosque</td>\n",
       "      <td>The Badshahi Mosque is a Mughal-era congregati...</td>\n",
       "      <td>Mosque</td>\n",
       "      <td>Punjab</td>\n",
       "      <td>31.588126</td>\n",
       "      <td>74.309322</td>\n",
       "    </tr>\n",
       "    <tr>\n",
       "      <th>4</th>\n",
       "      <td>Baltoro Glacier</td>\n",
       "      <td>The Baltoro Glacier, at 63 km (39 mi) in lengt...</td>\n",
       "      <td>Mountainous</td>\n",
       "      <td>Gilgit−Baltistan</td>\n",
       "      <td>35.710642</td>\n",
       "      <td>76.553142</td>\n",
       "    </tr>\n",
       "    <tr>\n",
       "      <th>5</th>\n",
       "      <td>Bhurban</td>\n",
       "      <td>Bhurban is a small town resort and hill statio...</td>\n",
       "      <td>Hill Station</td>\n",
       "      <td>Punjab</td>\n",
       "      <td>33.955087</td>\n",
       "      <td>73.451873</td>\n",
       "    </tr>\n",
       "    <tr>\n",
       "      <th>6</th>\n",
       "      <td>Bruti waterfall Islamabad</td>\n",
       "      <td>Bruti waterfall is 3 km from Bari Imam Islamab...</td>\n",
       "      <td>Waterfall</td>\n",
       "      <td>Islamabad</td>\n",
       "      <td>33.774283</td>\n",
       "      <td>73.113912</td>\n",
       "    </tr>\n",
       "    <tr>\n",
       "      <th>7</th>\n",
       "      <td>Concordia</td>\n",
       "      <td>Amongst the tallest 14 mountain peaks of the w...</td>\n",
       "      <td>Mountainous</td>\n",
       "      <td>Gilgit−Baltistan</td>\n",
       "      <td>35.741622</td>\n",
       "      <td>76.511893</td>\n",
       "    </tr>\n",
       "    <tr>\n",
       "      <th>8</th>\n",
       "      <td>Deosai National Park</td>\n",
       "      <td>Referred to as the ‘land of giants’, this beau...</td>\n",
       "      <td>National Park</td>\n",
       "      <td>Gilgit−Baltistan</td>\n",
       "      <td>34.956589</td>\n",
       "      <td>75.479831</td>\n",
       "    </tr>\n",
       "    <tr>\n",
       "      <th>9</th>\n",
       "      <td>Derawar Fort</td>\n",
       "      <td>This is a magnificent structure in the middle ...</td>\n",
       "      <td>Fort</td>\n",
       "      <td>Punjab</td>\n",
       "      <td>28.768007</td>\n",
       "      <td>71.334247</td>\n",
       "    </tr>\n",
       "    <tr>\n",
       "      <th>10</th>\n",
       "      <td>Dhanni Waterfall</td>\n",
       "      <td>Dhanni waterfall is located in Panjkot village...</td>\n",
       "      <td>Waterfall</td>\n",
       "      <td>Azad Kashmir</td>\n",
       "      <td>34.424100</td>\n",
       "      <td>73.691100</td>\n",
       "    </tr>\n",
       "    <tr>\n",
       "      <th>11</th>\n",
       "      <td>Emperor's Mosque</td>\n",
       "      <td>The Emperor's Mosque ( Badshahi Mosque)  in La...</td>\n",
       "      <td>Mosque</td>\n",
       "      <td>Punjab</td>\n",
       "      <td>31.588126</td>\n",
       "      <td>74.309322</td>\n",
       "    </tr>\n",
       "    <tr>\n",
       "      <th>12</th>\n",
       "      <td>Fairy Meadows</td>\n",
       "      <td>Fairy Meadows, named by German climbers (Germa...</td>\n",
       "      <td>National Park</td>\n",
       "      <td>Gilgit−Baltistan</td>\n",
       "      <td>35.387203</td>\n",
       "      <td>74.578929</td>\n",
       "    </tr>\n",
       "    <tr>\n",
       "      <th>13</th>\n",
       "      <td>Faisal Mosque</td>\n",
       "      <td>The Faisal Mosque is a mosque located in Islam...</td>\n",
       "      <td>Mosque</td>\n",
       "      <td>Islamabad</td>\n",
       "      <td>33.729749</td>\n",
       "      <td>73.037360</td>\n",
       "    </tr>\n",
       "    <tr>\n",
       "      <th>14</th>\n",
       "      <td>Farphu Waterfall</td>\n",
       "      <td>Farphu Waterfall in Bagrot Valley of Gilgit Ba...</td>\n",
       "      <td>Waterfall</td>\n",
       "      <td>Gilgit−Baltistan</td>\n",
       "      <td>35.999500</td>\n",
       "      <td>75.999900</td>\n",
       "    </tr>\n",
       "    <tr>\n",
       "      <th>15</th>\n",
       "      <td>Gawadar</td>\n",
       "      <td>Gwadar is a port city on the southwestern coas...</td>\n",
       "      <td>Coastal</td>\n",
       "      <td>Balochistan</td>\n",
       "      <td>25.154342</td>\n",
       "      <td>62.049984</td>\n",
       "    </tr>\n",
       "    <tr>\n",
       "      <th>16</th>\n",
       "      <td>Gojal Valley</td>\n",
       "      <td>The Gojal Valley borders China and Afghanistan...</td>\n",
       "      <td>Valley</td>\n",
       "      <td>Gilgit−Baltistan</td>\n",
       "      <td>36.617635</td>\n",
       "      <td>74.863204</td>\n",
       "    </tr>\n",
       "    <tr>\n",
       "      <th>17</th>\n",
       "      <td>Gorakh Hill</td>\n",
       "      <td>Gorakh is a Hill Station of Sindh, Pakistan. I...</td>\n",
       "      <td>Hill Station</td>\n",
       "      <td>Sindh</td>\n",
       "      <td>26.861167</td>\n",
       "      <td>67.151137</td>\n",
       "    </tr>\n",
       "    <tr>\n",
       "      <th>18</th>\n",
       "      <td>Gulpur Mahuli waterfalls</td>\n",
       "      <td>Gulpur Mahuli waterfall is a 110 km and a 3.5 ...</td>\n",
       "      <td>Waterfall</td>\n",
       "      <td>Azad Kashmir</td>\n",
       "      <td>33.464107</td>\n",
       "      <td>73.868251</td>\n",
       "    </tr>\n",
       "    <tr>\n",
       "      <th>19</th>\n",
       "      <td>Hingol National Park</td>\n",
       "      <td>Hingol national park stretches out to approxim...</td>\n",
       "      <td>National Park</td>\n",
       "      <td>Balochistan</td>\n",
       "      <td>25.506417</td>\n",
       "      <td>65.530701</td>\n",
       "    </tr>\n",
       "    <tr>\n",
       "      <th>20</th>\n",
       "      <td>Hunza Valley</td>\n",
       "      <td>The Hunza Valley is a mountainous valley in th...</td>\n",
       "      <td>Valley</td>\n",
       "      <td>Gilgit−Baltistan</td>\n",
       "      <td>36.316700</td>\n",
       "      <td>74.650000</td>\n",
       "    </tr>\n",
       "    <tr>\n",
       "      <th>21</th>\n",
       "      <td>Indus Kohistan</td>\n",
       "      <td>Rounding the western end of the Himalaya at Na...</td>\n",
       "      <td>Mountainous</td>\n",
       "      <td>Khyber Pakhtunkhwa</td>\n",
       "      <td>35.507417</td>\n",
       "      <td>73.287777</td>\n",
       "    </tr>\n",
       "    <tr>\n",
       "      <th>22</th>\n",
       "      <td>Jahaz Banda Kumrat Valley</td>\n",
       "      <td>Jahaz Banda Waterfall is the mightiest of the ...</td>\n",
       "      <td>Waterfall</td>\n",
       "      <td>Khyber Pakhtunkhwa</td>\n",
       "      <td>35.563869</td>\n",
       "      <td>72.194123</td>\n",
       "    </tr>\n",
       "    <tr>\n",
       "      <th>23</th>\n",
       "      <td>Kalam Valley</td>\n",
       "      <td>Kalam is a cool heaven for tourists, which is ...</td>\n",
       "      <td>Valley</td>\n",
       "      <td>Khyber Pakhtunkhwa</td>\n",
       "      <td>35.490200</td>\n",
       "      <td>72.579600</td>\n",
       "    </tr>\n",
       "    <tr>\n",
       "      <th>24</th>\n",
       "      <td>Kalash</td>\n",
       "      <td>The Kalasha Valleys are valleys in Chitral Dis...</td>\n",
       "      <td>Valley</td>\n",
       "      <td>Khyber Pakhtunkhwa</td>\n",
       "      <td>35.683800</td>\n",
       "      <td>71.655400</td>\n",
       "    </tr>\n",
       "    <tr>\n",
       "      <th>25</th>\n",
       "      <td>Kanhatti Gardens</td>\n",
       "      <td>have two or three clear water ponds with 15-fo...</td>\n",
       "      <td>Waterfall</td>\n",
       "      <td>Punjab</td>\n",
       "      <td>32.677412</td>\n",
       "      <td>72.247482</td>\n",
       "    </tr>\n",
       "    <tr>\n",
       "      <th>26</th>\n",
       "      <td>Karambar Lake</td>\n",
       "      <td>Karambar Lake (also known as Qurumbar Lake) is...</td>\n",
       "      <td>Lake</td>\n",
       "      <td>Khyber Pakhtunkhwa</td>\n",
       "      <td>36.878411</td>\n",
       "      <td>73.701175</td>\n",
       "    </tr>\n",
       "    <tr>\n",
       "      <th>27</th>\n",
       "      <td>Katasraj temple</td>\n",
       "      <td>Katasraj Mandir (Punjabi, Urdu: کٹاس راج مندر‎...</td>\n",
       "      <td>Temple</td>\n",
       "      <td>Punjab</td>\n",
       "      <td>32.723945</td>\n",
       "      <td>72.951640</td>\n",
       "    </tr>\n",
       "    <tr>\n",
       "      <th>28</th>\n",
       "      <td>Khewra Salt Mine</td>\n",
       "      <td>The Khewra Salt Mine is located in Khewra, nor...</td>\n",
       "      <td>Mine</td>\n",
       "      <td>Punjab</td>\n",
       "      <td>32.646557</td>\n",
       "      <td>73.006205</td>\n",
       "    </tr>\n",
       "    <tr>\n",
       "      <th>29</th>\n",
       "      <td>Kiwai Kaghan</td>\n",
       "      <td>Kiwai is a small waterfall and picnic spot on ...</td>\n",
       "      <td>Waterfall</td>\n",
       "      <td>Khyber Pakhtunkhwa</td>\n",
       "      <td>34.779162</td>\n",
       "      <td>73.523800</td>\n",
       "    </tr>\n",
       "  </tbody>\n",
       "</table>\n",
       "</div>"
      ],
      "text/plain": [
       "                         _key  \\\n",
       "0                  Ansoo Lake   \n",
       "1               Astola Island   \n",
       "2                Attabad Lake   \n",
       "3             Badshahi Mosque   \n",
       "4             Baltoro Glacier   \n",
       "5                     Bhurban   \n",
       "6   Bruti waterfall Islamabad   \n",
       "7                   Concordia   \n",
       "8        Deosai National Park   \n",
       "9                Derawar Fort   \n",
       "10           Dhanni Waterfall   \n",
       "11           Emperor's Mosque   \n",
       "12              Fairy Meadows   \n",
       "13              Faisal Mosque   \n",
       "14           Farphu Waterfall   \n",
       "15                    Gawadar   \n",
       "16               Gojal Valley   \n",
       "17                Gorakh Hill   \n",
       "18   Gulpur Mahuli waterfalls   \n",
       "19       Hingol National Park   \n",
       "20               Hunza Valley   \n",
       "21             Indus Kohistan   \n",
       "22  Jahaz Banda Kumrat Valley   \n",
       "23               Kalam Valley   \n",
       "24                     Kalash   \n",
       "25           Kanhatti Gardens   \n",
       "26              Karambar Lake   \n",
       "27            Katasraj temple   \n",
       "28           Khewra Salt Mine   \n",
       "29               Kiwai Kaghan   \n",
       "\n",
       "                                                 Desc       category  \\\n",
       "0   Ansoo Lake is situated in Kaghan Valley of Pak...           Lake   \n",
       "1   Astola Island, also known as Jezira Haft Talar...         Island   \n",
       "2   Attabad Lake is a lake in the Gojal Valley of ...           Lake   \n",
       "3   The Badshahi Mosque is a Mughal-era congregati...         Mosque   \n",
       "4   The Baltoro Glacier, at 63 km (39 mi) in lengt...    Mountainous   \n",
       "5   Bhurban is a small town resort and hill statio...   Hill Station   \n",
       "6   Bruti waterfall is 3 km from Bari Imam Islamab...      Waterfall   \n",
       "7   Amongst the tallest 14 mountain peaks of the w...    Mountainous   \n",
       "8   Referred to as the ‘land of giants’, this beau...  National Park   \n",
       "9   This is a magnificent structure in the middle ...           Fort   \n",
       "10  Dhanni waterfall is located in Panjkot village...      Waterfall   \n",
       "11  The Emperor's Mosque ( Badshahi Mosque)  in La...         Mosque   \n",
       "12  Fairy Meadows, named by German climbers (Germa...  National Park   \n",
       "13  The Faisal Mosque is a mosque located in Islam...         Mosque   \n",
       "14  Farphu Waterfall in Bagrot Valley of Gilgit Ba...      Waterfall   \n",
       "15  Gwadar is a port city on the southwestern coas...        Coastal   \n",
       "16  The Gojal Valley borders China and Afghanistan...         Valley   \n",
       "17  Gorakh is a Hill Station of Sindh, Pakistan. I...   Hill Station   \n",
       "18  Gulpur Mahuli waterfall is a 110 km and a 3.5 ...      Waterfall   \n",
       "19  Hingol national park stretches out to approxim...  National Park   \n",
       "20  The Hunza Valley is a mountainous valley in th...         Valley   \n",
       "21  Rounding the western end of the Himalaya at Na...    Mountainous   \n",
       "22  Jahaz Banda Waterfall is the mightiest of the ...      Waterfall   \n",
       "23  Kalam is a cool heaven for tourists, which is ...         Valley   \n",
       "24  The Kalasha Valleys are valleys in Chitral Dis...         Valley   \n",
       "25  have two or three clear water ponds with 15-fo...      Waterfall   \n",
       "26  Karambar Lake (also known as Qurumbar Lake) is...           Lake   \n",
       "27  Katasraj Mandir (Punjabi, Urdu: کٹاس راج مندر‎...         Temple   \n",
       "28  The Khewra Salt Mine is located in Khewra, nor...           Mine   \n",
       "29  Kiwai is a small waterfall and picnic spot on ...      Waterfall   \n",
       "\n",
       "              district   latitude  longitude  \n",
       "0   Khyber Pakhtunkhwa  34.814119  73.676428  \n",
       "1          Balochistan  25.122321  63.847948  \n",
       "2     Gilgit−Baltistan  36.345827  74.865436  \n",
       "3               Punjab  31.588126  74.309322  \n",
       "4     Gilgit−Baltistan  35.710642  76.553142  \n",
       "5               Punjab  33.955087  73.451873  \n",
       "6            Islamabad  33.774283  73.113912  \n",
       "7     Gilgit−Baltistan  35.741622  76.511893  \n",
       "8     Gilgit−Baltistan  34.956589  75.479831  \n",
       "9               Punjab  28.768007  71.334247  \n",
       "10        Azad Kashmir  34.424100  73.691100  \n",
       "11              Punjab  31.588126  74.309322  \n",
       "12    Gilgit−Baltistan  35.387203  74.578929  \n",
       "13           Islamabad  33.729749  73.037360  \n",
       "14    Gilgit−Baltistan  35.999500  75.999900  \n",
       "15         Balochistan  25.154342  62.049984  \n",
       "16    Gilgit−Baltistan  36.617635  74.863204  \n",
       "17               Sindh  26.861167  67.151137  \n",
       "18        Azad Kashmir  33.464107  73.868251  \n",
       "19         Balochistan  25.506417  65.530701  \n",
       "20    Gilgit−Baltistan  36.316700  74.650000  \n",
       "21  Khyber Pakhtunkhwa  35.507417  73.287777  \n",
       "22  Khyber Pakhtunkhwa  35.563869  72.194123  \n",
       "23  Khyber Pakhtunkhwa  35.490200  72.579600  \n",
       "24  Khyber Pakhtunkhwa  35.683800  71.655400  \n",
       "25              Punjab  32.677412  72.247482  \n",
       "26  Khyber Pakhtunkhwa  36.878411  73.701175  \n",
       "27              Punjab  32.723945  72.951640  \n",
       "28              Punjab  32.646557  73.006205  \n",
       "29  Khyber Pakhtunkhwa  34.779162  73.523800  "
      ]
     },
     "execution_count": 3,
     "metadata": {},
     "output_type": "execute_result"
    }
   ],
   "source": [
    "df.head(30)"
   ]
  },
  {
   "cell_type": "code",
   "execution_count": 4,
   "id": "c2497b7d",
   "metadata": {},
   "outputs": [
    {
     "data": {
      "text/plain": [
       "(69, 6)"
      ]
     },
     "execution_count": 4,
     "metadata": {},
     "output_type": "execute_result"
    }
   ],
   "source": [
    "df.shape"
   ]
  },
  {
   "cell_type": "code",
   "execution_count": 5,
   "id": "b918b823",
   "metadata": {},
   "outputs": [
    {
     "data": {
      "text/plain": [
       "\"The Badshahi Mosque is a Mughal-era congregational mosque in Lahore, capital of the Pakistani province of Punjab, Pakistan. The mosque is located west of Lahore Fort along the outskirts of the Walled City of Lahore, and is widely considered to be one of Lahore's most iconic landmarks.\""
      ]
     },
     "execution_count": 5,
     "metadata": {},
     "output_type": "execute_result"
    }
   ],
   "source": [
    "df['Desc'][3]"
   ]
  },
  {
   "cell_type": "code",
   "execution_count": 6,
   "id": "babaa970",
   "metadata": {},
   "outputs": [
    {
     "data": {
      "text/plain": [
       "_key         0\n",
       "Desc         0\n",
       "category     0\n",
       "district     0\n",
       "latitude     0\n",
       "longitude    0\n",
       "dtype: int64"
      ]
     },
     "execution_count": 6,
     "metadata": {},
     "output_type": "execute_result"
    }
   ],
   "source": [
    "df.isnull().sum()"
   ]
  },
  {
   "cell_type": "code",
   "execution_count": 7,
   "id": "7b7661e6",
   "metadata": {},
   "outputs": [],
   "source": [
    "combined_features = df['_key'] + \" \"+ df['Desc'] + \" \"+ df['category'] +\" \"+ df['district']"
   ]
  },
  {
   "cell_type": "code",
   "execution_count": 8,
   "id": "9e8f3fbf",
   "metadata": {},
   "outputs": [
    {
     "data": {
      "text/plain": [
       "0     Ansoo Lake Ansoo Lake is situated in Kaghan Va...\n",
       "1     Astola Island Astola Island, also known as Jez...\n",
       "2     Attabad Lake Attabad Lake is a lake in the Goj...\n",
       "3     Badshahi Mosque The Badshahi Mosque is a Mugha...\n",
       "4     Baltoro Glacier The Baltoro Glacier, at 63 km ...\n",
       "                            ...                        \n",
       "64    Taxila Museum Taxila Museum is located at Taxi...\n",
       "65    Thal Desert The Thal desert is situated in Pun...\n",
       "66    The Lahore Museum The Lahore Museum, is a muse...\n",
       "67    Umbrella Waterfall Poona Umbrella Waterfall is...\n",
       "68    West Bay Beach The West Bay Beach lies on the ...\n",
       "Length: 69, dtype: object"
      ]
     },
     "execution_count": 8,
     "metadata": {},
     "output_type": "execute_result"
    }
   ],
   "source": [
    "combined_features"
   ]
  },
  {
   "cell_type": "markdown",
   "id": "2c1be40d",
   "metadata": {},
   "source": [
    "# Applying TFIDF Technique"
   ]
  },
  {
   "cell_type": "code",
   "execution_count": 9,
   "id": "f9cc6fa5",
   "metadata": {},
   "outputs": [],
   "source": [
    "import difflib\n",
    "from sklearn.feature_extraction.text import TfidfVectorizer\n",
    "from sklearn.metrics.pairwise import cosine_similarity"
   ]
  },
  {
   "cell_type": "code",
   "execution_count": 10,
   "id": "20f6bdae",
   "metadata": {},
   "outputs": [
    {
     "name": "stdout",
     "output_type": "stream",
     "text": [
      "  (0, 819)\t0.05692421272610095\n",
      "  (0, 613)\t0.05692421272610095\n",
      "  (0, 274)\t0.059994267810392035\n",
      "  (0, 818)\t0.10473319570788904\n",
      "  (0, 301)\t0.03585753346222846\n",
      "  (0, 853)\t0.03585753346222846\n",
      "  (0, 140)\t0.06773018878342053\n",
      "  (0, 667)\t0.10473319570788904\n",
      "  (0, 431)\t0.10473319570788904\n",
      "  (0, 1184)\t0.09541104162723506\n",
      "  (0, 1193)\t0.09541104162723506\n",
      "  (0, 858)\t0.10473319570788904\n",
      "  (0, 437)\t0.08879686804729302\n",
      "  (0, 110)\t0.09541104162723506\n",
      "  (0, 226)\t0.05297315863578714\n",
      "  (0, 34)\t0.10473319570788904\n",
      "  (0, 350)\t0.10473319570788904\n",
      "  (0, 193)\t0.07947471396663904\n",
      "  (0, 501)\t0.06553888757445503\n",
      "  (0, 951)\t0.10473319570788904\n",
      "  (0, 1068)\t0.08366651644401656\n",
      "  (0, 367)\t0.07286054038669698\n",
      "  (0, 808)\t0.049602559913858986\n",
      "  (0, 703)\t0.10473319570788904\n",
      "  (0, 1189)\t0.08879686804729302\n",
      "  :\t:\n",
      "  (68, 655)\t0.18075525951312557\n",
      "  (68, 692)\t0.18075525951312557\n",
      "  (68, 356)\t0.18075525951312557\n",
      "  (68, 921)\t0.18075525951312557\n",
      "  (68, 180)\t0.4939994661630317\n",
      "  (68, 968)\t0.16466648872101056\n",
      "  (68, 183)\t0.3065026483600789\n",
      "  (68, 681)\t0.16466648872101056\n",
      "  (68, 654)\t0.15325132418003945\n",
      "  (68, 270)\t0.14439703467635379\n",
      "  (68, 436)\t0.09142447121682187\n",
      "  (68, 1185)\t0.28879406935270757\n",
      "  (68, 165)\t0.12574738884695327\n",
      "  (68, 225)\t0.16466648872101056\n",
      "  (68, 269)\t0.14439703467635379\n",
      "  (68, 301)\t0.06188522867709531\n",
      "  (68, 853)\t0.06188522867709531\n",
      "  (68, 808)\t0.08560727598489179\n",
      "  (68, 127)\t0.09159291576996052\n",
      "  (68, 571)\t0.10648254013447558\n",
      "  (68, 809)\t0.08745318048771707\n",
      "  (68, 1105)\t0.10965861805483823\n",
      "  (68, 1099)\t0.13158142308754758\n",
      "  (68, 801)\t0.04714166437377529\n",
      "  (68, 565)\t0.08524075992923523\n"
     ]
    }
   ],
   "source": [
    "vectorizer = TfidfVectorizer()\n",
    "feature_vector = vectorizer.fit_transform(combined_features)\n",
    "print(feature_vector)"
   ]
  },
  {
   "cell_type": "code",
   "execution_count": 11,
   "id": "67b66e1e",
   "metadata": {},
   "outputs": [
    {
     "name": "stdout",
     "output_type": "stream",
     "text": [
      "[[1.         0.14750634 0.23097224 ... 0.1218429  0.04180224 0.079438  ]\n",
      " [0.14750634 1.         0.07289897 ... 0.06293458 0.04924393 0.07520127]\n",
      " [0.23097224 0.07289897 1.         ... 0.0590713  0.03771164 0.03285276]\n",
      " ...\n",
      " [0.1218429  0.06293458 0.0590713  ... 1.         0.07552168 0.06139944]\n",
      " [0.04180224 0.04924393 0.03771164 ... 0.07552168 1.         0.0179506 ]\n",
      " [0.079438   0.07520127 0.03285276 ... 0.06139944 0.0179506  1.        ]]\n"
     ]
    }
   ],
   "source": [
    "similarity = cosine_similarity(feature_vector)\n",
    "print(similarity)"
   ]
  },
  {
   "cell_type": "markdown",
   "id": "33a9672d",
   "metadata": {},
   "source": [
    "## Get the name of place from the user "
   ]
  },
  {
   "cell_type": "code",
   "execution_count": 12,
   "id": "6f301f01",
   "metadata": {},
   "outputs": [
    {
     "name": "stdout",
     "output_type": "stream",
     "text": [
      "Enter the name of Place : Lahore Fort\n"
     ]
    }
   ],
   "source": [
    "desti_name = input(\"Enter the name of Place : \")"
   ]
  },
  {
   "cell_type": "code",
   "execution_count": 13,
   "id": "a16574d1",
   "metadata": {},
   "outputs": [
    {
     "data": {
      "text/plain": [
       "69"
      ]
     },
     "execution_count": 13,
     "metadata": {},
     "output_type": "execute_result"
    }
   ],
   "source": [
    "destinations = df['_key'].tolist()\n",
    "len(destinations)"
   ]
  },
  {
   "cell_type": "code",
   "execution_count": 14,
   "id": "7f506366",
   "metadata": {},
   "outputs": [
    {
     "name": "stdout",
     "output_type": "stream",
     "text": [
      "['Lahore Fort']\n"
     ]
    }
   ],
   "source": [
    "find_closed_match = difflib.get_close_matches(desti_name, destinations)\n",
    "print(find_closed_match)"
   ]
  },
  {
   "cell_type": "markdown",
   "id": "0c245ce4",
   "metadata": {},
   "source": [
    "## Finding the closet match "
   ]
  },
  {
   "cell_type": "code",
   "execution_count": 15,
   "id": "479ac1a6",
   "metadata": {},
   "outputs": [
    {
     "data": {
      "text/plain": [
       "'Lahore Fort'"
      ]
     },
     "execution_count": 15,
     "metadata": {},
     "output_type": "execute_result"
    }
   ],
   "source": [
    "closed_match = find_closed_match[0]\n",
    "closed_match"
   ]
  },
  {
   "cell_type": "markdown",
   "id": "affce154",
   "metadata": {},
   "source": [
    "## Getting index "
   ]
  },
  {
   "cell_type": "code",
   "execution_count": 16,
   "id": "6f907507",
   "metadata": {},
   "outputs": [
    {
     "name": "stdout",
     "output_type": "stream",
     "text": [
      "30\n"
     ]
    }
   ],
   "source": [
    "index_of_desti = df[df['_key'] == closed_match].index.values[0]\n",
    "print(index_of_desti)"
   ]
  },
  {
   "cell_type": "markdown",
   "id": "53283035",
   "metadata": {},
   "source": [
    "## Getting Similar items "
   ]
  },
  {
   "cell_type": "code",
   "execution_count": 17,
   "id": "b6e324dc",
   "metadata": {},
   "outputs": [],
   "source": [
    "similarity_score = list(enumerate(similarity[index_of_desti]))"
   ]
  },
  {
   "cell_type": "code",
   "execution_count": 18,
   "id": "670a0086",
   "metadata": {},
   "outputs": [
    {
     "data": {
      "text/plain": [
       "69"
      ]
     },
     "execution_count": 18,
     "metadata": {},
     "output_type": "execute_result"
    }
   ],
   "source": [
    "# means that it is generated for each and every destination in the dataset\n",
    "len(similarity_score)"
   ]
  },
  {
   "cell_type": "markdown",
   "id": "0199d3f4",
   "metadata": {},
   "source": [
    "# Sorting the movies on the based of similarity Score"
   ]
  },
  {
   "cell_type": "code",
   "execution_count": 19,
   "id": "da70a432",
   "metadata": {},
   "outputs": [
    {
     "data": {
      "text/plain": [
       "[(30, 1.0000000000000002),\n",
       " (3, 0.4102914566940019),\n",
       " (55, 0.3821018250330268),\n",
       " (66, 0.28794809559499984),\n",
       " (9, 0.28037261846326644),\n",
       " (36, 0.22160463501380875),\n",
       " (59, 0.1806003983985169),\n",
       " (38, 0.180070612363739),\n",
       " (11, 0.1649777364470456),\n",
       " (31, 0.1461839250928153),\n",
       " (34, 0.13354123693804928),\n",
       " (10, 0.1321728157841719),\n",
       " (65, 0.12720179765844444),\n",
       " (60, 0.12591292202852308),\n",
       " (0, 0.1256461493654606),\n",
       " (40, 0.12447924703762593),\n",
       " (23, 0.1242476691748481),\n",
       " (58, 0.12417886016162305),\n",
       " (13, 0.11665523454603961),\n",
       " (8, 0.1163997352742718),\n",
       " (33, 0.11491192656187857),\n",
       " (15, 0.10813066246557249),\n",
       " (27, 0.1029336604073581),\n",
       " (4, 0.1006724729215403),\n",
       " (50, 0.10024495254528948),\n",
       " (49, 0.1000110586978698),\n",
       " (64, 0.0996904784871608),\n",
       " (21, 0.09851741393462397),\n",
       " (51, 0.0965515071927707),\n",
       " (2, 0.09652425319264821),\n",
       " (43, 0.09450531029127537),\n",
       " (17, 0.09418983366686762),\n",
       " (7, 0.09289401615750607),\n",
       " (54, 0.0920228358554564),\n",
       " (63, 0.08917680529016973),\n",
       " (5, 0.08733496476994264),\n",
       " (28, 0.0863491280486809),\n",
       " (19, 0.08535704662574688),\n",
       " (67, 0.08389377183442603),\n",
       " (1, 0.08312004449727893),\n",
       " (24, 0.08306207220822737),\n",
       " (12, 0.08264774688149336),\n",
       " (46, 0.07552850672991591),\n",
       " (26, 0.07268061673598562),\n",
       " (39, 0.07204073351815836),\n",
       " (56, 0.07040603190194882),\n",
       " (14, 0.07004703271218671),\n",
       " (48, 0.06843034747440058),\n",
       " (52, 0.06139938572368853),\n",
       " (45, 0.05907910077655548),\n",
       " (20, 0.057772980667522844),\n",
       " (44, 0.052701401354106246),\n",
       " (47, 0.05033148368554344),\n",
       " (62, 0.049249941608331176),\n",
       " (16, 0.04797326595629551),\n",
       " (68, 0.0451191976936232),\n",
       " (29, 0.0411987185308791),\n",
       " (57, 0.040060444249118476),\n",
       " (37, 0.039238802457071634),\n",
       " (35, 0.036936294856357924),\n",
       " (22, 0.035058630823612526),\n",
       " (61, 0.0337036840969452),\n",
       " (41, 0.03272773516826185),\n",
       " (42, 0.0318758400326719),\n",
       " (18, 0.03027394789665236),\n",
       " (32, 0.02721260927357367),\n",
       " (25, 0.02259778870388755),\n",
       " (6, 0.01991619551209889),\n",
       " (53, 0.011921686037132145)]"
      ]
     },
     "execution_count": 19,
     "metadata": {},
     "output_type": "execute_result"
    }
   ],
   "source": [
    "sorted_desti_list = sorted(similarity_score, key = lambda x : x[1], reverse = True)\n",
    "sorted_desti_list"
   ]
  },
  {
   "cell_type": "code",
   "execution_count": 20,
   "id": "d2ef37d3",
   "metadata": {},
   "outputs": [
    {
     "name": "stdout",
     "output_type": "stream",
     "text": [
      "Destination Suggested to you are : \n"
     ]
    }
   ],
   "source": [
    "print(\"Destination Suggested to you are : \")\n",
    "i = 1\n",
    "name = []\n",
    "for desti in sorted_desti_list:\n",
    "    index = desti[0]\n",
    "    name.append(df.iloc[index]['_key'])"
   ]
  },
  {
   "cell_type": "code",
   "execution_count": 21,
   "id": "99f3f56b",
   "metadata": {},
   "outputs": [
    {
     "name": "stdout",
     "output_type": "stream",
     "text": [
      "Top 5 similar Items:\n",
      "1 :  Lahore Fort\n",
      "2 :  Badshahi Mosque\n",
      "3 :  Rohtas Fort\n",
      "4 :  The Lahore Museum\n",
      "5 :  Derawar Fort\n"
     ]
    }
   ],
   "source": [
    "print(\"Top 5 similar Items:\")\n",
    "for i in range(5):\n",
    "    print(i+1, \": \", name[i])"
   ]
  },
  {
   "cell_type": "code",
   "execution_count": 22,
   "id": "50dcb165",
   "metadata": {},
   "outputs": [
    {
     "data": {
      "text/plain": [
       "30    The Lahore Fort is a citadel in the city of La...\n",
       "Name: Desc, dtype: object"
      ]
     },
     "execution_count": 22,
     "metadata": {},
     "output_type": "execute_result"
    }
   ],
   "source": [
    " df[df['_key'] == 'Lahore Fort']['Desc']"
   ]
  },
  {
   "cell_type": "markdown",
   "id": "9491a741",
   "metadata": {},
   "source": [
    "## Function for the generation of the Recommendations"
   ]
  },
  {
   "cell_type": "code",
   "execution_count": 30,
   "id": "98e783c5",
   "metadata": {},
   "outputs": [],
   "source": [
    "def Recommendation(desti_name):\n",
    "    find_closed_match = difflib.get_close_matches(desti_name, destinations)\n",
    "    closed_match = find_closed_match[0]\n",
    "    index_of_desti = df[df['_key'] == closed_match].index.values[0]\n",
    "    similarity_score = list(enumerate(similarity[index_of_desti]))\n",
    "    sorted_desti_list = sorted(similarity_score, key = lambda x : x[1], reverse = True)\n",
    "    print(\"Destination Suggested to you are : \")\n",
    "    i = 1\n",
    "    name = []\n",
    "    for desti in sorted_desti_list:\n",
    "        index = desti[0]\n",
    "        name.append(df.iloc[index]['_key'])\n",
    "\n",
    "    print(\"Top 5 similar Items:\")\n",
    "    names = []\n",
    "    for i in range(1,6):\n",
    "        # print(i, \": \", name[i])  \n",
    "        names.append(name[i])\n",
    "    \n",
    "    return names "
   ]
  },
  {
   "cell_type": "code",
   "execution_count": 34,
   "id": "9d0ec23e",
   "metadata": {},
   "outputs": [
    {
     "name": "stdout",
     "output_type": "stream",
     "text": [
      "Enter the name of Place : Karambar Lake\n",
      "Destination Suggested to you are : \n",
      "Top 5 similar Items:\n",
      "1 :  Rush Lake\n",
      "2 :  Satpara Lake\n",
      "3 :  Ansoo Lake\n",
      "4 :  Rama Lake\n",
      "5 :  Lake Saif-ul-Malook\n"
     ]
    },
    {
     "data": {
      "text/plain": [
       "['Rush Lake', 'Satpara Lake', 'Ansoo Lake', 'Rama Lake', 'Lake Saif-ul-Malook']"
      ]
     },
     "execution_count": 34,
     "metadata": {},
     "output_type": "execute_result"
    }
   ],
   "source": [
    "desti_name = input(\"Enter the name of Place : \")\n",
    "Recommendation(desti_name)"
   ]
  },
  {
   "cell_type": "code",
   "execution_count": 25,
   "id": "4a36dcc2",
   "metadata": {},
   "outputs": [],
   "source": [
    "import pickle "
   ]
  },
  {
   "cell_type": "markdown",
   "id": "a04b79c2",
   "metadata": {},
   "source": [
    "## Pickling the modules "
   ]
  },
  {
   "cell_type": "code",
   "execution_count": 27,
   "id": "47063096",
   "metadata": {},
   "outputs": [],
   "source": [
    "pickle.dump(destinations,open('destinations.pkl', 'wb'))\n",
    "pickle.dump(df,open('df.pkl', 'wb'))"
   ]
  },
  {
   "cell_type": "code",
   "execution_count": 33,
   "id": "662fa93f",
   "metadata": {},
   "outputs": [],
   "source": [
    "pickle.dump(similarity,open('similarity.pkl', 'wb'))"
   ]
  },
  {
   "cell_type": "code",
   "execution_count": null,
   "id": "d0ad5c9d",
   "metadata": {},
   "outputs": [],
   "source": [
    "similarity"
   ]
  },
  {
   "cell_type": "code",
   "execution_count": null,
   "id": "50375820",
   "metadata": {},
   "outputs": [],
   "source": []
  }
 ],
 "metadata": {
  "kernelspec": {
   "display_name": "Python 3 (ipykernel)",
   "language": "python",
   "name": "python3"
  },
  "language_info": {
   "codemirror_mode": {
    "name": "ipython",
    "version": 3
   },
   "file_extension": ".py",
   "mimetype": "text/x-python",
   "name": "python",
   "nbconvert_exporter": "python",
   "pygments_lexer": "ipython3",
   "version": "3.9.12"
  }
 },
 "nbformat": 4,
 "nbformat_minor": 5
}
